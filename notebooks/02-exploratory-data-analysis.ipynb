{
 "cells": [
  {
   "cell_type": "code",
   "execution_count": null,
   "metadata": {},
   "outputs": [],
   "source": [
    "%reload_ext autoreload\n",
    "%autoreload 2\n",
    "\n",
    "import missingno as msno\n",
    "import numpy as np\n",
    "import os\n",
    "import pandas as pd\n",
    "import plotly.express as px\n",
    "import seaborn as sns\n",
    "import sys\n",
    "\n",
    "from loguru import logger\n",
    "from matplotlib import pyplot as plt\n",
    "from pathlib import Path\n",
    "\n",
    "sys.path.append(str(Path.cwd().parent))\n",
    "\n",
    "from settings.params import *\n",
    "from src.utils import configure_logger\n",
    "\n",
    "pd.set_option(\"display.max_columns\", None)\n",
    "pd.set_option(\"display.max_rows\", 100)"
   ]
  },
  {
   "cell_type": "code",
   "execution_count": null,
   "metadata": {},
   "outputs": [],
   "source": [
    "data = pd.read_csv(RAW_DATA)\n",
    "TARGET_NAME = MODEL_PARAMS['TARGET_NAME']"
   ]
  },
  {
   "cell_type": "markdown",
   "metadata": {},
   "source": [
    "# Exploratory Data Analysis\n"
   ]
  },
  {
   "cell_type": "markdown",
   "metadata": {},
   "source": [
    "## Missing values\n"
   ]
  },
  {
   "cell_type": "code",
   "execution_count": null,
   "metadata": {},
   "outputs": [],
   "source": [
    "msno.bar(data)"
   ]
  },
  {
   "cell_type": "code",
   "execution_count": null,
   "metadata": {},
   "outputs": [],
   "source": [
    "data.isna().sum()"
   ]
  },
  {
   "cell_type": "code",
   "execution_count": null,
   "metadata": {},
   "outputs": [],
   "source": [
    "data['ComplianceStatus'].value_counts()"
   ]
  },
  {
   "cell_type": "markdown",
   "metadata": {},
   "source": [
    "After reading the descriptions of each of the columns present in the dataset, we can make the following observations about some notable missing data:\n",
    "\n",
    "- SecondLargestPropertyUseType & ThirdLargestPropertyUseType contain lots of missing values. When they are absent we can interpret that as the corresponding building not having a second or third use type.\n",
    "- Outlier is a column which indicates if the building's measures correspond to a high or low outlier(true outliers in summary). We interpret the absence of value as indicating that the building is supposedly normal.\n",
    "- YearsEnergyStarCertified is a list of years for which the building has been certified EnergyStar. Nan values mean that the building has never had the certification.\n",
    "- Comments is a column which should contain comments by a building owner or an agent to provide context about the building's energy use. No comments were made in the dataset. We can already drop that column from our dataset.\n"
   ]
  },
  {
   "cell_type": "markdown",
   "metadata": {},
   "source": [
    "## Target Analysis\n"
   ]
  },
  {
   "cell_type": "code",
   "execution_count": null,
   "metadata": {},
   "outputs": [],
   "source": [
    "data[TARGET_NAME].describe()"
   ]
  },
  {
   "cell_type": "code",
   "execution_count": null,
   "metadata": {},
   "outputs": [],
   "source": [
    "fig, axes = plt.subplots(nrows=1, ncols=2, figsize=(15, 4))\n",
    "\n",
    "sns.histplot(data[TARGET_NAME], color='r', kde=True, ax=axes[0])\n",
    "axes[0].set_title('Distribution of energy consumption')\n",
    "\n",
    "sns.histplot(np.log(data[TARGET_NAME]), color='b', kde=True, ax=axes[1])\n",
    "axes[1].set_title('Distribution of energy consumption in $log$ scale')\n",
    "axes[1].set_xscale('log')"
   ]
  },
  {
   "cell_type": "markdown",
   "metadata": {},
   "source": [
    "- Some of the buildings investigated have zero energy use which does not make sense in this context. An analysis on the compliance of some of the data shows that almost all of those buildings' data are marked as non-compliant, missing or Default Data in the dataset. That means we cannot take that data into account.\n",
    "- The distribution of the target variable is highly skewed. Converting it to a log scale allows for a normal distribution, which can be more easily exploited by the model to be built.\n"
   ]
  },
  {
   "cell_type": "code",
   "execution_count": null,
   "metadata": {},
   "outputs": [],
   "source": [
    "# Compliance of the rows for which SiteEnergyUse is zero\n",
    "data[data[TARGET_NAME] == 0]['ComplianceStatus']"
   ]
  },
  {
   "cell_type": "code",
   "execution_count": null,
   "metadata": {},
   "outputs": [],
   "source": [
    "fig = px.box(data, y=\"SiteEnergyUse(kBtu)\")\n",
    "fig.show()"
   ]
  },
  {
   "cell_type": "markdown",
   "metadata": {},
   "source": [
    "The box plot illustrates the distribution of SiteEnergyUse(kBtu). The majority of the data points cluster near the lower end of the energy use spectrum, indicating relatively low energy consumption for most entries. However, there are several prominent outliers that deviate significantly from this cluster:\n",
    "\n",
    "- There are a few data points that exhibit exceptionally high energy use, with values reaching up to 800 million kBtu.\n",
    "- These high outliers are considerably distant from the main cluster, indicating that certain sites have much higher energy consumption compared to the rest.\n",
    "- The presence of these outliers suggests variability in the dataset, which could be due to differences in site size, operational hours, or inefficiencies.\n",
    "- These outliers need to be further investigated to understand the underlying causes and to determine if they should be included in the analysis or addressed separately. That analysis will be done when cleaning the data and we will use the Outlier column available in the dataset to determine which ones are true outliers and which ones are incoherent values.\n"
   ]
  },
  {
   "cell_type": "code",
   "execution_count": null,
   "metadata": {},
   "outputs": [],
   "source": [
    "# df = data.copy()\n",
    "# z_scores = np.abs((df[\"SiteEnergyUse(kBtu)\"] - df[\"SiteEnergyUse(kBtu)\"].mean()) / df[\"SiteEnergyUse(kBtu)\"].std())\n",
    "# outliers = df[z_scores >= 3]\n",
    "# len(outliers)\n",
    "# false_outliers = outliers[outliers['Outlier'].isna()]\n",
    "# len(false_outliers)"
   ]
  },
  {
   "cell_type": "markdown",
   "metadata": {},
   "source": [
    "## Data Analysis\n"
   ]
  },
  {
   "cell_type": "markdown",
   "metadata": {},
   "source": [
    "### Numerical Features\n"
   ]
  },
  {
   "cell_type": "code",
   "execution_count": null,
   "metadata": {},
   "outputs": [],
   "source": [
    "numerical_features = data.select_dtypes(include=\"number\").columns\n",
    "numerical_data = data[numerical_features]\n",
    "logger.info(f\"Categorical features:\\n {sorted(numerical_features)}\\n\")"
   ]
  },
  {
   "cell_type": "code",
   "execution_count": null,
   "metadata": {},
   "outputs": [],
   "source": [
    "numerical_data.head()"
   ]
  },
  {
   "cell_type": "markdown",
   "metadata": {},
   "source": [
    "#### Data distributions\n"
   ]
  },
  {
   "cell_type": "code",
   "execution_count": null,
   "metadata": {},
   "outputs": [],
   "source": [
    "num_cols = 3\n",
    "num_rows = (len(numerical_features) + num_cols - 1) // num_cols  # calculate the number of rows needed\n",
    "fig, axes = plt.subplots(num_rows, num_cols, figsize=(num_cols*6, num_rows*5))  # adjust figsize as needed\n",
    "\n",
    "for i, col in enumerate(numerical_features):\n",
    "    row = i // num_cols\n",
    "    col_pos = i % num_cols\n",
    "    sns.histplot(numerical_data[col], kde=False, ax=axes[row, col_pos])\n",
    "    axes[row, col_pos].set_title(col)\n",
    "\n",
    "plt.tight_layout()\n",
    "plt.show()"
   ]
  },
  {
   "cell_type": "markdown",
   "metadata": {},
   "source": [
    "#### Scatter Plots\n"
   ]
  },
  {
   "cell_type": "markdown",
   "metadata": {},
   "source": [
    "In order to have meaningful visualizations, we need to limit the data to building's whose energy use is between the 5th and 95th percentiles.\n"
   ]
  },
  {
   "cell_type": "code",
   "execution_count": null,
   "metadata": {},
   "outputs": [],
   "source": [
    "lower_percentile = data[TARGET_NAME].quantile(0.05)\n",
    "upper_percentile = data[TARGET_NAME].quantile(0.95)"
   ]
  },
  {
   "cell_type": "code",
   "execution_count": null,
   "metadata": {},
   "outputs": [],
   "source": [
    "limited_numerical_data = data[(data[TARGET_NAME] >= lower_percentile) & (data[TARGET_NAME] <= upper_percentile)]"
   ]
  },
  {
   "cell_type": "code",
   "execution_count": null,
   "metadata": {},
   "outputs": [],
   "source": [
    "# Number of plots per row\n",
    "plots_per_row = 3\n",
    "\n",
    "# Calculate number of rows needed\n",
    "num_rows = len(numerical_features) // plots_per_row + (len(numerical_features) % plots_per_row > 0)\n",
    "\n",
    "# Create subplots\n",
    "fig, axs = plt.subplots(num_rows, plots_per_row, figsize=(6 * plots_per_row, 5 * num_rows))\n",
    "\n",
    "# Flatten axs for easy iteration\n",
    "axs = axs.flatten()\n",
    "\n",
    "# Plot each numerical column against the target variable\n",
    "for i, column in enumerate(numerical_features):\n",
    "    sns.scatterplot(x=limited_numerical_data[column], y=limited_numerical_data[TARGET_NAME], ax=axs[i])\n",
    "    axs[i].set_title(f'{column} vs {TARGET_NAME}')\n",
    "\n",
    "fig.subplots_adjust(hspace=0.3, wspace=0.2)"
   ]
  },
  {
   "cell_type": "markdown",
   "metadata": {},
   "source": [
    "#### Correlation Matrix\n"
   ]
  },
  {
   "cell_type": "code",
   "execution_count": null,
   "metadata": {},
   "outputs": [],
   "source": [
    "correlation_matrix = numerical_data.corr()\n",
    "\n",
    "plt.figure(figsize=(10, 8))\n",
    "sns.heatmap(correlation_matrix, cmap='coolwarm', center=0)\n",
    "plt.title('Correlation Matrix of Numerical Features')\n",
    "plt.show()"
   ]
  },
  {
   "cell_type": "markdown",
   "metadata": {},
   "source": [
    "#### Observations:\n",
    "\n",
    "- All values related to energy are highly correlated to the target column SiteEnergyUse(kbtu). All those columns correspond to data that is obtained with the energy consumption statement. They can cause data leakage when used as features for the model\n",
    "\n",
    "- The column NumberOfBuildings has some zeros. For this column the value should be at least 1\n",
    "\n",
    "- The column NumberOfFloors also has zeros where its minimum value should be 1\n",
    "\n",
    "- The column NumberOfFloors\n",
    "\n",
    "- Some properties can already be classified as being unhelpful to the future model since they do not provide any relevant or quantifiable information about the building in itself: OSEBuildingID, DataYear, ZipCode, CouncilDistrictCode\n",
    "\n",
    "- Instead of using directly YearBuilt, we are going to transform it into an Age column to simplify its relationship to the target variable and avoid data leakage.\n",
    "\n",
    "- Since the site energy use is known, there is no need for having an absolute value for the consumption of Electricity, Steam or Gas. We are going to replace the corresponding columns with the ratio of the consumption of those types of energy on the total energy use.\n",
    "\n",
    "- In the same way, instead of using absolute values for the largest use types GPAs, we can use the ratios on the total GPA.\n"
   ]
  },
  {
   "cell_type": "markdown",
   "metadata": {},
   "source": [
    "### Categorical Features\n"
   ]
  },
  {
   "cell_type": "code",
   "execution_count": null,
   "metadata": {},
   "outputs": [],
   "source": [
    "categorical_features = data.select_dtypes(include=[\"object\", \"bool\"]).columns\n",
    "categorical_data = data[categorical_features]\n",
    "categorical_data[TARGET_NAME] = data[TARGET_NAME]\n",
    "logger.info(f\"Categorical features:\\n {sorted(categorical_features)}\\n\")"
   ]
  },
  {
   "cell_type": "code",
   "execution_count": null,
   "metadata": {},
   "outputs": [],
   "source": [
    "categorical_data.loc[:, categorical_features].describe()"
   ]
  },
  {
   "cell_type": "code",
   "execution_count": null,
   "metadata": {},
   "outputs": [],
   "source": [
    "categorical_data.loc[:, categorical_features].info()"
   ]
  },
  {
   "cell_type": "markdown",
   "metadata": {},
   "source": [
    "#### Box plots\n"
   ]
  },
  {
   "cell_type": "markdown",
   "metadata": {},
   "source": [
    "Before creating the box plots, some features can already be filtered out since they obviously do not provide any information relevant to energy use and they would make the visualization more difficult to analyze\n"
   ]
  },
  {
   "cell_type": "code",
   "execution_count": null,
   "metadata": {},
   "outputs": [],
   "source": [
    "categorical_features = list(filter(lambda x: x not in [\"TaxParcelIdentificationNumber\", \"PropertyName\", \"Address\", \"City\", \"State\", \"ListOfAllPropertyUseTypes\"], categorical_features))"
   ]
  },
  {
   "cell_type": "code",
   "execution_count": null,
   "metadata": {},
   "outputs": [],
   "source": [
    "categorical_features"
   ]
  },
  {
   "cell_type": "markdown",
   "metadata": {},
   "source": [
    "In the same manner as before, we are going to limit the data in order to have meaningful visualizations\n"
   ]
  },
  {
   "cell_type": "code",
   "execution_count": null,
   "metadata": {},
   "outputs": [],
   "source": [
    "len(set(data['LargestPropertyUseType'].unique()) - set(data['PrimaryPropertyType'].unique()))"
   ]
  },
  {
   "cell_type": "code",
   "execution_count": null,
   "metadata": {},
   "outputs": [],
   "source": [
    "data['PrimaryPropertyType'].unique()"
   ]
  },
  {
   "cell_type": "code",
   "execution_count": null,
   "metadata": {},
   "outputs": [],
   "source": [
    "data['LargestPropertyUseType'].unique()"
   ]
  },
  {
   "cell_type": "code",
   "execution_count": null,
   "metadata": {},
   "outputs": [],
   "source": [
    "lower_percentile = data[TARGET_NAME].quantile(0.05)\n",
    "upper_percentile = data[TARGET_NAME].quantile(0.95)\n",
    "\n",
    "limited_categorical_data = categorical_data[(categorical_data[TARGET_NAME] >= lower_percentile) & (categorical_data[TARGET_NAME] <= upper_percentile)]\n",
    "\n",
    "# Plot each categorical column against the target variable\n",
    "for i, column in enumerate(categorical_features):\n",
    "    fig = px.box(data_frame=limited_categorical_data, x=column, y=TARGET_NAME, title=f'{column} by {TARGET_NAME}')\n",
    "    fig.show()"
   ]
  },
  {
   "cell_type": "markdown",
   "metadata": {},
   "source": [
    "#### Observations\n",
    "\n",
    "- PrimaryPropertyType column contains data redundant to what's in LargestPropertyUseType. We will work only with the second one which contains a lot more classes. That could help the model make better choices.\n",
    "- The columns BuildingType, PrimaryPropertyType and the ones concerning the property use types seem to have an effect on the target column.\n",
    "- Some columns can already be classified as not providing valuable information for our problem: TaxParcelIdentificationNumber, PropertyName, Address, City and State\n",
    "- DefaultData, Outlier and ComplianceStatus do not really provide information that could be relevant to knowing the energy usage of a site. They will mostly help in order ot understand better the data at hand and clean it accordingly\n",
    "- ListOfAllPropertyUseTypes contains data that will be mostly redundant to what we have in LargestPropertyUseType, SecondLargestPropertyUseType and ThirdLargestPropertyUseType. There are very few buildings that have up to a third use, so we suppose that buildings that have 4 or more uses are even more rare. Since this column contains information redundant to other columns and does not provide more information than we have, we will not use it for our model.\n",
    "- YearsEnergyStarCertified cannot be used since it will cause data leakage. That information may not be known at the time of prediction.\n"
   ]
  }
 ],
 "metadata": {
  "kernelspec": {
   "display_name": "mlops",
   "language": "python",
   "name": "python3"
  },
  "language_info": {
   "codemirror_mode": {
    "name": "ipython",
    "version": 3
   },
   "file_extension": ".py",
   "mimetype": "text/x-python",
   "name": "python",
   "nbconvert_exporter": "python",
   "pygments_lexer": "ipython3",
   "version": "3.10.10"
  }
 },
 "nbformat": 4,
 "nbformat_minor": 2
}
