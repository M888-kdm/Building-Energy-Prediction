{
 "cells": [
  {
   "cell_type": "code",
   "execution_count": null,
   "metadata": {},
   "outputs": [],
   "source": [
    "%reload_ext autoreload\n",
    "%autoreload 2\n",
    "\n",
    "import numpy as np\n",
    "import pandas as pd\n",
    "import ppscore as pps\n",
    "import sys\n",
    "\n",
    "from loguru import logger\n",
    "from matplotlib import pyplot as plt\n",
    "from pathlib import Path\n",
    "\n",
    "sys.path.append(str(Path.cwd().parent))\n",
    "from settings.params import *\n",
    "\n",
    "pd.set_option(\"display.max_columns\", None)\n",
    "pd.set_option(\"display.max_rows\", 100)"
   ]
  },
  {
   "cell_type": "code",
   "execution_count": null,
   "metadata": {},
   "outputs": [],
   "source": [
    "data = pd.read_csv(RAW_DATA)\n",
    "TARGET_NAME = MODEL_PARAMS['TARGET_NAME']"
   ]
  },
  {
   "cell_type": "markdown",
   "metadata": {},
   "source": [
    "# Data Preparation\n"
   ]
  },
  {
   "cell_type": "markdown",
   "metadata": {},
   "source": [
    "## Handling Missing Values and Cleaning Data\n"
   ]
  },
  {
   "cell_type": "code",
   "execution_count": null,
   "metadata": {},
   "outputs": [],
   "source": [
    "data.isna().sum()"
   ]
  },
  {
   "cell_type": "markdown",
   "metadata": {},
   "source": [
    "We can populate some of the the missing information in some columns with simple strategies\n"
   ]
  },
  {
   "cell_type": "code",
   "execution_count": null,
   "metadata": {},
   "outputs": [],
   "source": [
    "# If there are no second and third property usage types, replace NaN with \"No Use\"\n",
    "data[['ThirdLargestPropertyUseType', 'SecondLargestPropertyUseType']] = data[['ThirdLargestPropertyUseType', 'SecondLargestPropertyUseType']].fillna('No Use')\n",
    "\n",
    "# If there are no second and third property usage types, replace GFA with 0\n",
    "data[['ThirdLargestPropertyUseTypeGFA', 'SecondLargestPropertyUseTypeGFA']] = data[['ThirdLargestPropertyUseTypeGFA', 'SecondLargestPropertyUseTypeGFA']].fillna(0, )\n",
    "\n",
    "# If LargestPropertyUseType is missing, replace with No Information\n",
    "data['LargestPropertyUseType'] = data['LargestPropertyUseType'].fillna('No information')"
   ]
  },
  {
   "cell_type": "code",
   "execution_count": null,
   "metadata": {},
   "outputs": [],
   "source": [
    "# If the row is neither a high or low outlier, replace missing value with 'normal'\n",
    "data['Outlier'].replace(np.nan,'normal', inplace=True)"
   ]
  },
  {
   "cell_type": "markdown",
   "metadata": {},
   "source": [
    "We are now going to drop the rows of the dataset marked as being non-compliant. When a record is indicated as such, it means that the information collected about it is erronous. We cannot feed that data to our model.\n"
   ]
  },
  {
   "cell_type": "code",
   "execution_count": null,
   "metadata": {},
   "outputs": [],
   "source": [
    "indexes_to_drop = data[data['ComplianceStatus'] == 'Non-Compliant'].index\n",
    "data.drop(indexes_to_drop, inplace=True, axis=0)"
   ]
  },
  {
   "cell_type": "code",
   "execution_count": null,
   "metadata": {},
   "outputs": [],
   "source": [
    "data.isna().sum()"
   ]
  },
  {
   "cell_type": "markdown",
   "metadata": {},
   "source": [
    "Next we can drop the rows for which we the compliance status indicate missing data. For those rows, the energy consumption is zero on the dataset.\n"
   ]
  },
  {
   "cell_type": "code",
   "execution_count": null,
   "metadata": {},
   "outputs": [],
   "source": [
    "indexes_to_drop = data[data['ComplianceStatus'] == 'Missing Data'].index\n",
    "data.drop(indexes_to_drop, inplace=True, axis=0)"
   ]
  },
  {
   "cell_type": "markdown",
   "metadata": {},
   "source": [
    "The are also other rows for which energy consumption is 0 or Nan. Some records indicate 0 electricity consumption or have a missing value for that column. They are going to be dropped from the dataset.\n"
   ]
  },
  {
   "cell_type": "code",
   "execution_count": null,
   "metadata": {},
   "outputs": [],
   "source": [
    "# Remaining records indicating no energy usage\n",
    "data[data[TARGET_NAME] == 0]"
   ]
  },
  {
   "cell_type": "code",
   "execution_count": null,
   "metadata": {},
   "outputs": [],
   "source": [
    "# Records indicating no electricity usage\n",
    "data[data['Electricity(kWh)'] == 0]"
   ]
  },
  {
   "cell_type": "code",
   "execution_count": null,
   "metadata": {},
   "outputs": [],
   "source": [
    "# Records having a missing value for electricity usage\n",
    "data[data['Electricity(kWh)'].isna()]"
   ]
  },
  {
   "cell_type": "code",
   "execution_count": null,
   "metadata": {},
   "outputs": [],
   "source": [
    "index_to_drop = data[(data[TARGET_NAME] == 0) | (data[TARGET_NAME].isna()) | (data['Electricity(kBtu)'] == 0) | (data['Electricity(kBtu)']).isna()].index\n",
    "print(index_to_drop)\n",
    "print(f'there are {len(index_to_drop)} samples with 0 energy consumption reported -> Drop')\n",
    "data.drop(index_to_drop, inplace=True, axis=0)"
   ]
  },
  {
   "cell_type": "code",
   "execution_count": null,
   "metadata": {},
   "outputs": [],
   "source": [
    "data.isna().sum()"
   ]
  },
  {
   "cell_type": "markdown",
   "metadata": {},
   "source": [
    "In this step, we are going to correct the apparent incoherences in the columns NumberOfFloors and NumberOfBuildings. As shown below, some records have values of 0 for them. We'll also replace the missing values for them.\n"
   ]
  },
  {
   "cell_type": "code",
   "execution_count": null,
   "metadata": {},
   "outputs": [],
   "source": [
    "# NumberOfFloors Value counts\n",
    "data[\"NumberofFloors\"].value_counts()"
   ]
  },
  {
   "cell_type": "code",
   "execution_count": null,
   "metadata": {},
   "outputs": [],
   "source": [
    "# NumberOfBuildings Value Counts\n",
    "data[\"NumberofBuildings\"].value_counts()"
   ]
  },
  {
   "cell_type": "code",
   "execution_count": null,
   "metadata": {},
   "outputs": [],
   "source": [
    "# Replace missing values and zeros in NumberOfFloors with the most representative value\n",
    "data['NumberofFloors'].replace(np.nan, 3, inplace=True)\n",
    "data['NumberofFloors'].replace(0, 3, inplace=True)"
   ]
  },
  {
   "cell_type": "code",
   "execution_count": null,
   "metadata": {},
   "outputs": [],
   "source": [
    "# Replace missing values and zeros in NumberOfBuildings with the most representative value\n",
    "data['NumberofBuildings'].replace(np.nan, 1, inplace=True)\n",
    "data['NumberofBuildings'].replace(0, 1, inplace=True)"
   ]
  },
  {
   "cell_type": "markdown",
   "metadata": {},
   "source": [
    "Since the building types present in the data are mostly for housing and offices, we can replace the missing values in LargestPropertyUseTypeGFA with the corresponding values of PropertyGFABuilding(s)\n"
   ]
  },
  {
   "cell_type": "code",
   "execution_count": null,
   "metadata": {},
   "outputs": [],
   "source": [
    "data[data['LargestPropertyUseTypeGFA'].isna()]"
   ]
  },
  {
   "cell_type": "code",
   "execution_count": null,
   "metadata": {},
   "outputs": [],
   "source": [
    "for index in range(len(data)):\n",
    "    if np.isnan(data.iloc[index]['LargestPropertyUseTypeGFA']):\n",
    "        data['LargestPropertyUseTypeGFA'].iloc[index] = data['PropertyGFABuilding(s)'].iloc[index]"
   ]
  },
  {
   "cell_type": "code",
   "execution_count": null,
   "metadata": {},
   "outputs": [],
   "source": [
    "data.isna().sum()"
   ]
  },
  {
   "cell_type": "markdown",
   "metadata": {},
   "source": [
    "### Removing Outliers\n"
   ]
  },
  {
   "cell_type": "markdown",
   "metadata": {},
   "source": [
    "In order to remove outliers, we are going to use the z-score. The information contained in the Outlier column will help us detect the false outliers from the true ones. Only records whose z_score for energy usage is more than 3 and not indicated as true outliers will be dropped.\n"
   ]
  },
  {
   "cell_type": "code",
   "execution_count": null,
   "metadata": {},
   "outputs": [],
   "source": [
    "target = data[TARGET_NAME]\n",
    "z_scores = np.abs((target - target.mean()) / target.std())"
   ]
  },
  {
   "cell_type": "code",
   "execution_count": null,
   "metadata": {},
   "outputs": [],
   "source": [
    "data = data[(z_scores < 3) & (data['Outlier'] == 'normal')]"
   ]
  },
  {
   "cell_type": "markdown",
   "metadata": {},
   "source": [
    "## Feature Engineering\n"
   ]
  },
  {
   "cell_type": "markdown",
   "metadata": {},
   "source": [
    "We are going to create new features based on the original ones.\n",
    "\n",
    "- Instead of working with YearBuilt, it will be more interesting to work with building's ages\n",
    "- We cannot use the different types of source energy consumption (Electricity, Gas and Steam) since they are linked to the target, but we can use the ratio of each type of energy.\n",
    "- In the same way, instead of using absolute values for PropertyGFAParking, PropertyGFABuilding(s), LargestPropertyUseTypeGFA, second and third, we can work with relative values.\n"
   ]
  },
  {
   "cell_type": "code",
   "execution_count": null,
   "metadata": {},
   "outputs": [],
   "source": [
    "# Changing YearBuilt column to Age Column with Age = 2016 - YearBuilt\n",
    "data[\"Age\"] = 2016 - data[\"YearBuilt\"]\n",
    "\n",
    "# Replace PropertyGFAParking, PropertyGFABuilding, LargestPropertyUseTypeGFA with values relative to PropertyGFATotal\n",
    "columns = [\"PropertyGFAParking\", \"PropertyGFABuilding(s)\", \"LargestPropertyUseTypeGFA\", \"SecondLargestPropertyUseTypeGFA\", \"ThirdLargestPropertyUseTypeGFA\"]\n",
    "for column in columns:\n",
    "    ratio_column = column + \"Ratio\"\n",
    "    data[ratio_column] = data[column]/data[\"PropertyGFATotal\"]\n",
    "    \n",
    "\n",
    "# Create columns for energy type proportion and replace absolute energy value with intensity (kBtu/sf)\n",
    "columns = [\"SteamUse(kBtu)\", \"Electricity(kBtu)\", \"NaturalGas(kBtu)\"]\n",
    "for column in columns:\n",
    "    # Calculating for each type of energy its ratio\n",
    "    ratio_column = column.replace(\"(kBtu)\", \"Ratio\")\n",
    "    data[ratio_column] = data[column]/data[\"SiteEnergyUse(kBtu)\"]"
   ]
  },
  {
   "cell_type": "markdown",
   "metadata": {},
   "source": [
    "## Remove irrelevant and redundant Data\n"
   ]
  },
  {
   "cell_type": "markdown",
   "metadata": {},
   "source": [
    "We are going to remove all the columns that we judged to be unhelpful for the model and redundant data. We will also remove the columns from which came the ones we created in the last step.\n"
   ]
  },
  {
   "cell_type": "code",
   "execution_count": null,
   "metadata": {},
   "outputs": [],
   "source": [
    "columns = [\"DataYear\", \"City\", \"State\", \"DefaultData\", \"OSEBuildingID\", \"PrimaryPropertyType\", \"YearsENERGYSTARCertified\", \n",
    "            \"Address\", \"CouncilDistrictCode\", \"PropertyName\", \"ComplianceStatus\", \"TaxParcelIdentificationNumber\",\n",
    "            \"ZipCode\", \"SiteEUI(kBtu/sf)\", \"SiteEUIWN(kBtu/sf)\", \"SourceEUI(kBtu/sf)\", \"SourceEUIWN(kBtu/sf)\", \n",
    "            \"SiteEnergyUseWN(kBtu)\", \"NaturalGas(therms)\", \"Electricity(kWh)\", \"TotalGHGEmissions\", \"ListOfAllPropertyUseTypes\",\n",
    "            \"SteamUse(kBtu)\", \"Electricity(kBtu)\", \"NaturalGas(kBtu)\", \"LargestPropertyUseTypeGFA\", \"SecondLargestPropertyUseTypeGFA\", \"ThirdLargestPropertyUseTypeGFA\",\n",
    "            \"GHGEmissionsIntensity\", \"PropertyGFAParking\", \"PropertyGFABuilding(s)\", \"YearBuilt\"]\n",
    "\n",
    "data = data.drop(columns, axis=1)"
   ]
  },
  {
   "cell_type": "code",
   "execution_count": null,
   "metadata": {},
   "outputs": [],
   "source": [
    "data.info()"
   ]
  },
  {
   "cell_type": "markdown",
   "metadata": {},
   "source": [
    "## Feature Selection\n"
   ]
  },
  {
   "cell_type": "markdown",
   "metadata": {},
   "source": [
    "We need to have SiteEnergyUse in log scale in order to have a normal distribution.\n"
   ]
  },
  {
   "cell_type": "code",
   "execution_count": null,
   "metadata": {},
   "outputs": [],
   "source": [
    "df = data.copy()\n",
    "df[\"SiteEnergyUse(kBtu)\"] = np.log(df[\"SiteEnergyUse(kBtu)\"])"
   ]
  },
  {
   "cell_type": "code",
   "execution_count": null,
   "metadata": {},
   "outputs": [],
   "source": [
    "pps_predictors = pps.predictors(df=df, y=\"SiteEnergyUse(kBtu)\", random_seed=MODEL_PARAMS[\"SEED\"])\n",
    "pps_predictors"
   ]
  },
  {
   "cell_type": "code",
   "execution_count": null,
   "metadata": {},
   "outputs": [],
   "source": [
    "# Check if there are invalid pps scores computed\n",
    "pps_predictors.is_valid_score.value_counts()"
   ]
  },
  {
   "cell_type": "code",
   "execution_count": null,
   "metadata": {},
   "outputs": [],
   "source": [
    "# Get features whose pps > MIN_PPS\n",
    "FEATURE_NAMES = pps_predictors.loc[pps_predictors.ppscore >= MODEL_PARAMS[\"MIN_PPS\"], \"x\"].values\n",
    "set(FEATURE_NAMES)"
   ]
  },
  {
   "cell_type": "code",
   "execution_count": null,
   "metadata": {},
   "outputs": [],
   "source": [
    "data.loc[:, [*FEATURE_NAMES, TARGET_NAME]].to_csv(CLEANED_DATA, index=False)"
   ]
  },
  {
   "cell_type": "code",
   "execution_count": null,
   "metadata": {},
   "outputs": [],
   "source": []
  }
 ],
 "metadata": {
  "kernelspec": {
   "display_name": "mlops",
   "language": "python",
   "name": "python3"
  },
  "language_info": {
   "codemirror_mode": {
    "name": "ipython",
    "version": 3
   },
   "file_extension": ".py",
   "mimetype": "text/x-python",
   "name": "python",
   "nbconvert_exporter": "python",
   "pygments_lexer": "ipython3",
   "version": "3.10.10"
  }
 },
 "nbformat": 4,
 "nbformat_minor": 2
}
