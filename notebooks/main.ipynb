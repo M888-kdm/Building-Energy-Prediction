{
 "cells": [
  {
   "cell_type": "markdown",
   "metadata": {
    "_cell_guid": "b1076dfc-b9ad-4769-8c92-a6c4dae69d19",
    "_uuid": "8f2839f25d086af736a60e9eeb907d3b93b6e0e5"
   },
   "source": [
    "# Import Libraries\n"
   ]
  },
  {
   "cell_type": "code",
   "execution_count": 1,
   "metadata": {
    "trusted": true,
    "ExecuteTime": {
     "end_time": "2024-08-04T23:04:15.566437200Z",
     "start_time": "2024-08-04T23:03:54.767610200Z"
    }
   },
   "outputs": [
    {
     "ename": "ImportError",
     "evalue": "DLL load failed while importing _rust: La procédure spécifiée est introuvable.",
     "output_type": "error",
     "traceback": [
      "\u001B[1;31m---------------------------------------------------------------------------\u001B[0m",
      "\u001B[1;31mImportError\u001B[0m                               Traceback (most recent call last)",
      "Cell \u001B[1;32mIn[1], line 35\u001B[0m\n\u001B[0;32m     33\u001B[0m sys\u001B[38;5;241m.\u001B[39mpath\u001B[38;5;241m.\u001B[39mappend(\u001B[38;5;28mstr\u001B[39m(Path\u001B[38;5;241m.\u001B[39mcwd()\u001B[38;5;241m.\u001B[39mparent))\n\u001B[0;32m     34\u001B[0m \u001B[38;5;28;01mfrom\u001B[39;00m \u001B[38;5;21;01msettings\u001B[39;00m\u001B[38;5;21;01m.\u001B[39;00m\u001B[38;5;21;01mparams\u001B[39;00m \u001B[38;5;28;01mimport\u001B[39;00m MODEL_PARAMS\n\u001B[1;32m---> 35\u001B[0m \u001B[38;5;28;01mfrom\u001B[39;00m \u001B[38;5;21;01msrc\u001B[39;00m\u001B[38;5;21;01m.\u001B[39;00m\u001B[38;5;21;01mutils\u001B[39;00m \u001B[38;5;28;01mimport\u001B[39;00m get_mlflow_tracking_uri\n\u001B[0;32m     37\u001B[0m pd\u001B[38;5;241m.\u001B[39mset_option(\u001B[38;5;124m\"\u001B[39m\u001B[38;5;124mdisplay.max_columns\u001B[39m\u001B[38;5;124m\"\u001B[39m, \u001B[38;5;28;01mNone\u001B[39;00m)\n\u001B[0;32m     38\u001B[0m pd\u001B[38;5;241m.\u001B[39mset_option(\u001B[38;5;124m\"\u001B[39m\u001B[38;5;124mdisplay.max_rows\u001B[39m\u001B[38;5;124m\"\u001B[39m, \u001B[38;5;241m100\u001B[39m)\n",
      "File \u001B[1;32mC:\\DIC3\\COURS_DIC3\\MLOPS\\projects\\Building-Energy-Prediction\\src\\utils.py:2\u001B[0m\n\u001B[0;32m      1\u001B[0m \u001B[38;5;28;01mimport\u001B[39;00m \u001B[38;5;21;01mos\u001B[39;00m\n\u001B[1;32m----> 2\u001B[0m \u001B[38;5;28;01mfrom\u001B[39;00m \u001B[38;5;21;01mazure\u001B[39;00m\u001B[38;5;21;01m.\u001B[39;00m\u001B[38;5;21;01mai\u001B[39;00m\u001B[38;5;21;01m.\u001B[39;00m\u001B[38;5;21;01mml\u001B[39;00m \u001B[38;5;28;01mimport\u001B[39;00m MLClient\n\u001B[0;32m      3\u001B[0m \u001B[38;5;28;01mfrom\u001B[39;00m \u001B[38;5;21;01mazure\u001B[39;00m\u001B[38;5;21;01m.\u001B[39;00m\u001B[38;5;21;01midentity\u001B[39;00m \u001B[38;5;28;01mimport\u001B[39;00m DefaultAzureCredential\n\u001B[0;32m      4\u001B[0m \u001B[38;5;28;01mfrom\u001B[39;00m \u001B[38;5;21;01mdotenv\u001B[39;00m \u001B[38;5;28;01mimport\u001B[39;00m load_dotenv\n",
      "File \u001B[1;32mC:\\DIC3\\COURS_DIC3\\MLOPS\\envs\\mlops_venvs\\lib\\site-packages\\azure\\ai\\ml\\__init__.py:11\u001B[0m\n\u001B[0;32m      8\u001B[0m \u001B[38;5;28;01mfrom\u001B[39;00m \u001B[38;5;21;01mtyping\u001B[39;00m \u001B[38;5;28;01mimport\u001B[39;00m Any, Optional\n\u001B[0;32m     10\u001B[0m \u001B[38;5;66;03m# from .entities._builders.parallel_func import parallel\u001B[39;00m\n\u001B[1;32m---> 11\u001B[0m \u001B[38;5;28;01mfrom\u001B[39;00m \u001B[38;5;21;01mazure\u001B[39;00m\u001B[38;5;21;01m.\u001B[39;00m\u001B[38;5;21;01mai\u001B[39;00m\u001B[38;5;21;01m.\u001B[39;00m\u001B[38;5;21;01mml\u001B[39;00m\u001B[38;5;21;01m.\u001B[39;00m\u001B[38;5;21;01mentities\u001B[39;00m\u001B[38;5;21;01m.\u001B[39;00m\u001B[38;5;21;01m_inputs_outputs\u001B[39;00m \u001B[38;5;28;01mimport\u001B[39;00m Input, Output\n\u001B[0;32m     13\u001B[0m \u001B[38;5;28;01mfrom\u001B[39;00m \u001B[38;5;21;01m.\u001B[39;00m\u001B[38;5;21;01m_ml_client\u001B[39;00m \u001B[38;5;28;01mimport\u001B[39;00m MLClient\n\u001B[0;32m     14\u001B[0m \u001B[38;5;28;01mfrom\u001B[39;00m \u001B[38;5;21;01m.\u001B[39;00m\u001B[38;5;21;01m_utils\u001B[39;00m\u001B[38;5;21;01m.\u001B[39;00m\u001B[38;5;21;01m_logger_utils\u001B[39;00m \u001B[38;5;28;01mimport\u001B[39;00m initialize_logger_info\n",
      "File \u001B[1;32mC:\\DIC3\\COURS_DIC3\\MLOPS\\envs\\mlops_venvs\\lib\\site-packages\\azure\\ai\\ml\\entities\\__init__.py:18\u001B[0m\n\u001B[0;32m     15\u001B[0m \u001B[38;5;28;01mfrom\u001B[39;00m \u001B[38;5;21;01mazure\u001B[39;00m\u001B[38;5;21;01m.\u001B[39;00m\u001B[38;5;21;01mai\u001B[39;00m\u001B[38;5;21;01m.\u001B[39;00m\u001B[38;5;21;01mml\u001B[39;00m\u001B[38;5;21;01m.\u001B[39;00m\u001B[38;5;21;01m_restclient\u001B[39;00m\u001B[38;5;21;01m.\u001B[39;00m\u001B[38;5;21;01mv2022_10_01\u001B[39;00m\u001B[38;5;21;01m.\u001B[39;00m\u001B[38;5;21;01mmodels\u001B[39;00m \u001B[38;5;28;01mimport\u001B[39;00m CreatedByType\n\u001B[0;32m     16\u001B[0m \u001B[38;5;28;01mfrom\u001B[39;00m \u001B[38;5;21;01mazure\u001B[39;00m\u001B[38;5;21;01m.\u001B[39;00m\u001B[38;5;21;01mai\u001B[39;00m\u001B[38;5;21;01m.\u001B[39;00m\u001B[38;5;21;01mml\u001B[39;00m\u001B[38;5;21;01m.\u001B[39;00m\u001B[38;5;21;01m_restclient\u001B[39;00m\u001B[38;5;21;01m.\u001B[39;00m\u001B[38;5;21;01mv2022_10_01_preview\u001B[39;00m\u001B[38;5;21;01m.\u001B[39;00m\u001B[38;5;21;01mmodels\u001B[39;00m \u001B[38;5;28;01mimport\u001B[39;00m UsageUnit\n\u001B[1;32m---> 18\u001B[0m \u001B[38;5;28;01mfrom\u001B[39;00m \u001B[38;5;21;01m.\u001B[39;00m\u001B[38;5;21;01m_assets\u001B[39;00m\u001B[38;5;21;01m.\u001B[39;00m\u001B[38;5;21;01m_artifacts\u001B[39;00m\u001B[38;5;21;01m.\u001B[39;00m\u001B[38;5;21;01m_package\u001B[39;00m\u001B[38;5;21;01m.\u001B[39;00m\u001B[38;5;21;01mbase_environment_source\u001B[39;00m \u001B[38;5;28;01mimport\u001B[39;00m BaseEnvironment\n\u001B[0;32m     19\u001B[0m \u001B[38;5;28;01mfrom\u001B[39;00m \u001B[38;5;21;01m.\u001B[39;00m\u001B[38;5;21;01m_assets\u001B[39;00m\u001B[38;5;21;01m.\u001B[39;00m\u001B[38;5;21;01m_artifacts\u001B[39;00m\u001B[38;5;21;01m.\u001B[39;00m\u001B[38;5;21;01m_package\u001B[39;00m\u001B[38;5;21;01m.\u001B[39;00m\u001B[38;5;21;01minferencing_server\u001B[39;00m \u001B[38;5;28;01mimport\u001B[39;00m (\n\u001B[0;32m     20\u001B[0m     AzureMLBatchInferencingServer,\n\u001B[0;32m     21\u001B[0m     AzureMLOnlineInferencingServer,\n\u001B[1;32m   (...)\u001B[0m\n\u001B[0;32m     24\u001B[0m     TritonInferencingServer,\n\u001B[0;32m     25\u001B[0m )\n\u001B[0;32m     26\u001B[0m \u001B[38;5;28;01mfrom\u001B[39;00m \u001B[38;5;21;01m.\u001B[39;00m\u001B[38;5;21;01m_assets\u001B[39;00m\u001B[38;5;21;01m.\u001B[39;00m\u001B[38;5;21;01m_artifacts\u001B[39;00m\u001B[38;5;21;01m.\u001B[39;00m\u001B[38;5;21;01m_package\u001B[39;00m\u001B[38;5;21;01m.\u001B[39;00m\u001B[38;5;21;01mmodel_configuration\u001B[39;00m \u001B[38;5;28;01mimport\u001B[39;00m ModelConfiguration\n",
      "File \u001B[1;32mC:\\DIC3\\COURS_DIC3\\MLOPS\\envs\\mlops_venvs\\lib\\site-packages\\azure\\ai\\ml\\entities\\_assets\\__init__.py:8\u001B[0m\n\u001B[0;32m      1\u001B[0m \u001B[38;5;66;03m# ---------------------------------------------------------\u001B[39;00m\n\u001B[0;32m      2\u001B[0m \u001B[38;5;66;03m# Copyright (c) Microsoft Corporation. All rights reserved.\u001B[39;00m\n\u001B[0;32m      3\u001B[0m \u001B[38;5;66;03m# ---------------------------------------------------------\u001B[39;00m\n\u001B[0;32m      5\u001B[0m __path__ \u001B[38;5;241m=\u001B[39m \u001B[38;5;28m__import__\u001B[39m(\u001B[38;5;124m\"\u001B[39m\u001B[38;5;124mpkgutil\u001B[39m\u001B[38;5;124m\"\u001B[39m)\u001B[38;5;241m.\u001B[39mextend_path(__path__, \u001B[38;5;18m__name__\u001B[39m)\n\u001B[1;32m----> 8\u001B[0m \u001B[38;5;28;01mfrom\u001B[39;00m \u001B[38;5;21;01m.\u001B[39;00m\u001B[38;5;21;01m_artifacts\u001B[39;00m\u001B[38;5;21;01m.\u001B[39;00m\u001B[38;5;21;01martifact\u001B[39;00m \u001B[38;5;28;01mimport\u001B[39;00m Artifact\n\u001B[0;32m      9\u001B[0m \u001B[38;5;28;01mfrom\u001B[39;00m \u001B[38;5;21;01m.\u001B[39;00m\u001B[38;5;21;01m_artifacts\u001B[39;00m\u001B[38;5;21;01m.\u001B[39;00m\u001B[38;5;21;01mcode\u001B[39;00m \u001B[38;5;28;01mimport\u001B[39;00m Code\n\u001B[0;32m     10\u001B[0m \u001B[38;5;28;01mfrom\u001B[39;00m \u001B[38;5;21;01m.\u001B[39;00m\u001B[38;5;21;01m_artifacts\u001B[39;00m\u001B[38;5;21;01m.\u001B[39;00m\u001B[38;5;21;01mdata\u001B[39;00m \u001B[38;5;28;01mimport\u001B[39;00m Data\n",
      "File \u001B[1;32mC:\\DIC3\\COURS_DIC3\\MLOPS\\envs\\mlops_venvs\\lib\\site-packages\\azure\\ai\\ml\\entities\\_assets\\_artifacts\\artifact.py:11\u001B[0m\n\u001B[0;32m      8\u001B[0m \u001B[38;5;28;01mfrom\u001B[39;00m \u001B[38;5;21;01murllib\u001B[39;00m\u001B[38;5;21;01m.\u001B[39;00m\u001B[38;5;21;01mparse\u001B[39;00m \u001B[38;5;28;01mimport\u001B[39;00m urljoin\n\u001B[0;32m     10\u001B[0m \u001B[38;5;28;01mfrom\u001B[39;00m \u001B[38;5;21;01mazure\u001B[39;00m\u001B[38;5;21;01m.\u001B[39;00m\u001B[38;5;21;01mai\u001B[39;00m\u001B[38;5;21;01m.\u001B[39;00m\u001B[38;5;21;01mml\u001B[39;00m\u001B[38;5;21;01m.\u001B[39;00m\u001B[38;5;21;01m_utils\u001B[39;00m\u001B[38;5;21;01m.\u001B[39;00m\u001B[38;5;21;01mutils\u001B[39;00m \u001B[38;5;28;01mimport\u001B[39;00m is_mlflow_uri, is_url\n\u001B[1;32m---> 11\u001B[0m \u001B[38;5;28;01mfrom\u001B[39;00m \u001B[38;5;21;01mazure\u001B[39;00m\u001B[38;5;21;01m.\u001B[39;00m\u001B[38;5;21;01mai\u001B[39;00m\u001B[38;5;21;01m.\u001B[39;00m\u001B[38;5;21;01mml\u001B[39;00m\u001B[38;5;21;01m.\u001B[39;00m\u001B[38;5;21;01mentities\u001B[39;00m\u001B[38;5;21;01m.\u001B[39;00m\u001B[38;5;21;01m_assets\u001B[39;00m\u001B[38;5;21;01m.\u001B[39;00m\u001B[38;5;21;01masset\u001B[39;00m \u001B[38;5;28;01mimport\u001B[39;00m Asset\n\u001B[0;32m     14\u001B[0m \u001B[38;5;28;01mclass\u001B[39;00m \u001B[38;5;21;01mArtifactStorageInfo\u001B[39;00m:\n\u001B[0;32m     15\u001B[0m     \u001B[38;5;28;01mdef\u001B[39;00m \u001B[38;5;21m__init__\u001B[39m(\n\u001B[0;32m     16\u001B[0m         \u001B[38;5;28mself\u001B[39m,\n\u001B[0;32m     17\u001B[0m         name: \u001B[38;5;28mstr\u001B[39m,\n\u001B[1;32m   (...)\u001B[0m\n\u001B[0;32m     24\u001B[0m         indicator_file: Optional[\u001B[38;5;28mstr\u001B[39m] \u001B[38;5;241m=\u001B[39m \u001B[38;5;28;01mNone\u001B[39;00m,\n\u001B[0;32m     25\u001B[0m     ):\n",
      "File \u001B[1;32mC:\\DIC3\\COURS_DIC3\\MLOPS\\envs\\mlops_venvs\\lib\\site-packages\\azure\\ai\\ml\\entities\\_assets\\asset.py:12\u001B[0m\n\u001B[0;32m     10\u001B[0m \u001B[38;5;28;01mfrom\u001B[39;00m \u001B[38;5;21;01mazure\u001B[39;00m\u001B[38;5;21;01m.\u001B[39;00m\u001B[38;5;21;01mai\u001B[39;00m\u001B[38;5;21;01m.\u001B[39;00m\u001B[38;5;21;01mml\u001B[39;00m\u001B[38;5;21;01m.\u001B[39;00m\u001B[38;5;21;01m_exception_helper\u001B[39;00m \u001B[38;5;28;01mimport\u001B[39;00m log_and_raise_error\n\u001B[0;32m     11\u001B[0m \u001B[38;5;28;01mfrom\u001B[39;00m \u001B[38;5;21;01mazure\u001B[39;00m\u001B[38;5;21;01m.\u001B[39;00m\u001B[38;5;21;01mai\u001B[39;00m\u001B[38;5;21;01m.\u001B[39;00m\u001B[38;5;21;01mml\u001B[39;00m\u001B[38;5;21;01m.\u001B[39;00m\u001B[38;5;21;01m_utils\u001B[39;00m\u001B[38;5;21;01m.\u001B[39;00m\u001B[38;5;21;01mutils\u001B[39;00m \u001B[38;5;28;01mimport\u001B[39;00m dump_yaml_to_file\n\u001B[1;32m---> 12\u001B[0m \u001B[38;5;28;01mfrom\u001B[39;00m \u001B[38;5;21;01mazure\u001B[39;00m\u001B[38;5;21;01m.\u001B[39;00m\u001B[38;5;21;01mai\u001B[39;00m\u001B[38;5;21;01m.\u001B[39;00m\u001B[38;5;21;01mml\u001B[39;00m\u001B[38;5;21;01m.\u001B[39;00m\u001B[38;5;21;01mentities\u001B[39;00m\u001B[38;5;21;01m.\u001B[39;00m\u001B[38;5;21;01m_resource\u001B[39;00m \u001B[38;5;28;01mimport\u001B[39;00m Resource\n\u001B[0;32m     13\u001B[0m \u001B[38;5;28;01mfrom\u001B[39;00m \u001B[38;5;21;01mazure\u001B[39;00m\u001B[38;5;21;01m.\u001B[39;00m\u001B[38;5;21;01mai\u001B[39;00m\u001B[38;5;21;01m.\u001B[39;00m\u001B[38;5;21;01mml\u001B[39;00m\u001B[38;5;21;01m.\u001B[39;00m\u001B[38;5;21;01mexceptions\u001B[39;00m \u001B[38;5;28;01mimport\u001B[39;00m ErrorCategory, ErrorTarget, ValidationErrorType, ValidationException\n\u001B[0;32m     16\u001B[0m \u001B[38;5;28;01mclass\u001B[39;00m \u001B[38;5;21;01mAsset\u001B[39;00m(Resource):\n",
      "File \u001B[1;32mC:\\DIC3\\COURS_DIC3\\MLOPS\\envs\\mlops_venvs\\lib\\site-packages\\azure\\ai\\ml\\entities\\_resource.py:15\u001B[0m\n\u001B[0;32m     12\u001B[0m \u001B[38;5;28;01mfrom\u001B[39;00m \u001B[38;5;21;01mmsrest\u001B[39;00m \u001B[38;5;28;01mimport\u001B[39;00m Serializer\n\u001B[0;32m     14\u001B[0m \u001B[38;5;28;01mfrom\u001B[39;00m \u001B[38;5;21;01mazure\u001B[39;00m\u001B[38;5;21;01m.\u001B[39;00m\u001B[38;5;21;01mai\u001B[39;00m\u001B[38;5;21;01m.\u001B[39;00m\u001B[38;5;21;01mml\u001B[39;00m\u001B[38;5;21;01m.\u001B[39;00m\u001B[38;5;21;01m_restclient\u001B[39;00m\u001B[38;5;21;01m.\u001B[39;00m\u001B[38;5;21;01mv2022_10_01\u001B[39;00m \u001B[38;5;28;01mimport\u001B[39;00m models\n\u001B[1;32m---> 15\u001B[0m \u001B[38;5;28;01mfrom\u001B[39;00m \u001B[38;5;21;01mazure\u001B[39;00m\u001B[38;5;21;01m.\u001B[39;00m\u001B[38;5;21;01mai\u001B[39;00m\u001B[38;5;21;01m.\u001B[39;00m\u001B[38;5;21;01mml\u001B[39;00m\u001B[38;5;21;01m.\u001B[39;00m\u001B[38;5;21;01m_telemetry\u001B[39;00m\u001B[38;5;21;01m.\u001B[39;00m\u001B[38;5;21;01mlogging_handler\u001B[39;00m \u001B[38;5;28;01mimport\u001B[39;00m in_jupyter_notebook\n\u001B[0;32m     16\u001B[0m \u001B[38;5;28;01mfrom\u001B[39;00m \u001B[38;5;21;01mazure\u001B[39;00m\u001B[38;5;21;01m.\u001B[39;00m\u001B[38;5;21;01mai\u001B[39;00m\u001B[38;5;21;01m.\u001B[39;00m\u001B[38;5;21;01mml\u001B[39;00m\u001B[38;5;21;01m.\u001B[39;00m\u001B[38;5;21;01m_utils\u001B[39;00m\u001B[38;5;21;01m.\u001B[39;00m\u001B[38;5;21;01mutils\u001B[39;00m \u001B[38;5;28;01mimport\u001B[39;00m dump_yaml\n\u001B[0;32m     18\u001B[0m \u001B[38;5;28;01mfrom\u001B[39;00m \u001B[38;5;21;01m.\u001B[39;00m\u001B[38;5;21;01m.\u001B[39;00m\u001B[38;5;21;01mconstants\u001B[39;00m\u001B[38;5;21;01m.\u001B[39;00m\u001B[38;5;21;01m_common\u001B[39;00m \u001B[38;5;28;01mimport\u001B[39;00m BASE_PATH_CONTEXT_KEY\n",
      "File \u001B[1;32mC:\\DIC3\\COURS_DIC3\\MLOPS\\envs\\mlops_venvs\\lib\\site-packages\\azure\\ai\\ml\\_telemetry\\__init__.py:7\u001B[0m\n\u001B[0;32m      1\u001B[0m \u001B[38;5;66;03m# ---------------------------------------------------------\u001B[39;00m\n\u001B[0;32m      2\u001B[0m \u001B[38;5;66;03m# Copyright (c) Microsoft Corporation. All rights reserved.\u001B[39;00m\n\u001B[0;32m      3\u001B[0m \u001B[38;5;66;03m# ---------------------------------------------------------\u001B[39;00m\n\u001B[0;32m      5\u001B[0m __path__ \u001B[38;5;241m=\u001B[39m \u001B[38;5;28m__import__\u001B[39m(\u001B[38;5;124m\"\u001B[39m\u001B[38;5;124mpkgutil\u001B[39m\u001B[38;5;124m\"\u001B[39m)\u001B[38;5;241m.\u001B[39mextend_path(__path__, \u001B[38;5;18m__name__\u001B[39m)\n\u001B[1;32m----> 7\u001B[0m \u001B[38;5;28;01mfrom\u001B[39;00m \u001B[38;5;21;01m.\u001B[39;00m\u001B[38;5;21;01mactivity\u001B[39;00m \u001B[38;5;28;01mimport\u001B[39;00m ActivityType, log_activity, monitor_with_activity, monitor_with_telemetry_mixin\n\u001B[0;32m      8\u001B[0m \u001B[38;5;28;01mfrom\u001B[39;00m \u001B[38;5;21;01m.\u001B[39;00m\u001B[38;5;21;01mlogging_handler\u001B[39;00m \u001B[38;5;28;01mimport\u001B[39;00m AML_INTERNAL_LOGGER_NAMESPACE, get_appinsights_log_handler\n\u001B[0;32m     10\u001B[0m __all__ \u001B[38;5;241m=\u001B[39m [\n\u001B[0;32m     11\u001B[0m     \u001B[38;5;124m\"\u001B[39m\u001B[38;5;124mmonitor_with_activity\u001B[39m\u001B[38;5;124m\"\u001B[39m,\n\u001B[0;32m     12\u001B[0m     \u001B[38;5;124m\"\u001B[39m\u001B[38;5;124mmonitor_with_telemetry_mixin\u001B[39m\u001B[38;5;124m\"\u001B[39m,\n\u001B[1;32m   (...)\u001B[0m\n\u001B[0;32m     16\u001B[0m     \u001B[38;5;124m\"\u001B[39m\u001B[38;5;124mAML_INTERNAL_LOGGER_NAMESPACE\u001B[39m\u001B[38;5;124m\"\u001B[39m,\n\u001B[0;32m     17\u001B[0m ]\n",
      "File \u001B[1;32mC:\\DIC3\\COURS_DIC3\\MLOPS\\envs\\mlops_venvs\\lib\\site-packages\\azure\\ai\\ml\\_telemetry\\activity.py:26\u001B[0m\n\u001B[0;32m     22\u001B[0m \u001B[38;5;28;01mfrom\u001B[39;00m \u001B[38;5;21;01muuid\u001B[39;00m \u001B[38;5;28;01mimport\u001B[39;00m uuid4\n\u001B[0;32m     24\u001B[0m \u001B[38;5;28;01mfrom\u001B[39;00m \u001B[38;5;21;01mmarshmallow\u001B[39;00m \u001B[38;5;28;01mimport\u001B[39;00m ValidationError\n\u001B[1;32m---> 26\u001B[0m \u001B[38;5;28;01mfrom\u001B[39;00m \u001B[38;5;21;01mazure\u001B[39;00m\u001B[38;5;21;01m.\u001B[39;00m\u001B[38;5;21;01mai\u001B[39;00m\u001B[38;5;21;01m.\u001B[39;00m\u001B[38;5;21;01mml\u001B[39;00m\u001B[38;5;21;01m.\u001B[39;00m\u001B[38;5;21;01m_utils\u001B[39;00m\u001B[38;5;21;01m.\u001B[39;00m\u001B[38;5;21;01m_logger_utils\u001B[39;00m \u001B[38;5;28;01mimport\u001B[39;00m OpsLogger\n\u001B[0;32m     27\u001B[0m \u001B[38;5;28;01mfrom\u001B[39;00m \u001B[38;5;21;01mazure\u001B[39;00m\u001B[38;5;21;01m.\u001B[39;00m\u001B[38;5;21;01mai\u001B[39;00m\u001B[38;5;21;01m.\u001B[39;00m\u001B[38;5;21;01mml\u001B[39;00m\u001B[38;5;21;01m.\u001B[39;00m\u001B[38;5;21;01m_utils\u001B[39;00m\u001B[38;5;21;01m.\u001B[39;00m\u001B[38;5;21;01mutils\u001B[39;00m \u001B[38;5;28;01mimport\u001B[39;00m _is_user_error_from_exception_type, _is_user_error_from_status_code, _str_to_bool\n\u001B[0;32m     28\u001B[0m \u001B[38;5;28;01mfrom\u001B[39;00m \u001B[38;5;21;01mazure\u001B[39;00m\u001B[38;5;21;01m.\u001B[39;00m\u001B[38;5;21;01mai\u001B[39;00m\u001B[38;5;21;01m.\u001B[39;00m\u001B[38;5;21;01mml\u001B[39;00m\u001B[38;5;21;01m.\u001B[39;00m\u001B[38;5;21;01mexceptions\u001B[39;00m \u001B[38;5;28;01mimport\u001B[39;00m ErrorCategory, MlException\n",
      "File \u001B[1;32mC:\\DIC3\\COURS_DIC3\\MLOPS\\envs\\mlops_venvs\\lib\\site-packages\\azure\\ai\\ml\\_utils\\_logger_utils.py:9\u001B[0m\n\u001B[0;32m      6\u001B[0m \u001B[38;5;28;01mimport\u001B[39;00m \u001B[38;5;21;01msys\u001B[39;00m\n\u001B[0;32m      7\u001B[0m \u001B[38;5;28;01mfrom\u001B[39;00m \u001B[38;5;21;01mtyping\u001B[39;00m \u001B[38;5;28;01mimport\u001B[39;00m Dict\n\u001B[1;32m----> 9\u001B[0m \u001B[38;5;28;01mfrom\u001B[39;00m \u001B[38;5;21;01mazure\u001B[39;00m\u001B[38;5;21;01m.\u001B[39;00m\u001B[38;5;21;01mai\u001B[39;00m\u001B[38;5;21;01m.\u001B[39;00m\u001B[38;5;21;01mml\u001B[39;00m\u001B[38;5;21;01m.\u001B[39;00m\u001B[38;5;21;01m_telemetry\u001B[39;00m\u001B[38;5;21;01m.\u001B[39;00m\u001B[38;5;21;01mlogging_handler\u001B[39;00m \u001B[38;5;28;01mimport\u001B[39;00m AML_INTERNAL_LOGGER_NAMESPACE\n\u001B[0;32m     12\u001B[0m \u001B[38;5;28;01mdef\u001B[39;00m \u001B[38;5;21minitialize_logger_info\u001B[39m(module_logger: logging\u001B[38;5;241m.\u001B[39mLogger, terminator\u001B[38;5;241m=\u001B[39m\u001B[38;5;124m\"\u001B[39m\u001B[38;5;130;01m\\n\u001B[39;00m\u001B[38;5;124m\"\u001B[39m) \u001B[38;5;241m-\u001B[39m\u001B[38;5;241m>\u001B[39m \u001B[38;5;28;01mNone\u001B[39;00m:\n\u001B[0;32m     13\u001B[0m     module_logger\u001B[38;5;241m.\u001B[39msetLevel(logging\u001B[38;5;241m.\u001B[39mINFO)\n",
      "File \u001B[1;32mC:\\DIC3\\COURS_DIC3\\MLOPS\\envs\\mlops_venvs\\lib\\site-packages\\azure\\ai\\ml\\_telemetry\\logging_handler.py:16\u001B[0m\n\u001B[0;32m     14\u001B[0m \u001B[38;5;28;01mfrom\u001B[39;00m \u001B[38;5;21;01mopencensus\u001B[39;00m\u001B[38;5;21;01m.\u001B[39;00m\u001B[38;5;21;01mext\u001B[39;00m\u001B[38;5;21;01m.\u001B[39;00m\u001B[38;5;21;01mazure\u001B[39;00m\u001B[38;5;21;01m.\u001B[39;00m\u001B[38;5;21;01mcommon\u001B[39;00m \u001B[38;5;28;01mimport\u001B[39;00m utils\n\u001B[0;32m     15\u001B[0m \u001B[38;5;28;01mfrom\u001B[39;00m \u001B[38;5;21;01mopencensus\u001B[39;00m\u001B[38;5;21;01m.\u001B[39;00m\u001B[38;5;21;01mext\u001B[39;00m\u001B[38;5;21;01m.\u001B[39;00m\u001B[38;5;21;01mazure\u001B[39;00m\u001B[38;5;21;01m.\u001B[39;00m\u001B[38;5;21;01mcommon\u001B[39;00m\u001B[38;5;21;01m.\u001B[39;00m\u001B[38;5;21;01mprotocol\u001B[39;00m \u001B[38;5;28;01mimport\u001B[39;00m Data, Envelope, ExceptionData, Message\n\u001B[1;32m---> 16\u001B[0m \u001B[38;5;28;01mfrom\u001B[39;00m \u001B[38;5;21;01mopencensus\u001B[39;00m\u001B[38;5;21;01m.\u001B[39;00m\u001B[38;5;21;01mext\u001B[39;00m\u001B[38;5;21;01m.\u001B[39;00m\u001B[38;5;21;01mazure\u001B[39;00m\u001B[38;5;21;01m.\u001B[39;00m\u001B[38;5;21;01mlog_exporter\u001B[39;00m \u001B[38;5;28;01mimport\u001B[39;00m AzureLogHandler\n\u001B[0;32m     17\u001B[0m \u001B[38;5;28;01mfrom\u001B[39;00m \u001B[38;5;21;01mopencensus\u001B[39;00m\u001B[38;5;21;01m.\u001B[39;00m\u001B[38;5;21;01mext\u001B[39;00m\u001B[38;5;21;01m.\u001B[39;00m\u001B[38;5;21;01mazure\u001B[39;00m\u001B[38;5;21;01m.\u001B[39;00m\u001B[38;5;21;01mtrace_exporter\u001B[39;00m \u001B[38;5;28;01mimport\u001B[39;00m AzureExporter\n\u001B[0;32m     18\u001B[0m \u001B[38;5;28;01mfrom\u001B[39;00m \u001B[38;5;21;01mopencensus\u001B[39;00m\u001B[38;5;21;01m.\u001B[39;00m\u001B[38;5;21;01mtrace\u001B[39;00m \u001B[38;5;28;01mimport\u001B[39;00m config_integration\n",
      "File \u001B[1;32mC:\\DIC3\\COURS_DIC3\\MLOPS\\envs\\mlops_venvs\\lib\\site-packages\\opencensus\\ext\\azure\\log_exporter\\__init__.py:32\u001B[0m\n\u001B[0;32m     24\u001B[0m \u001B[38;5;28;01mfrom\u001B[39;00m \u001B[38;5;21;01mopencensus\u001B[39;00m\u001B[38;5;21;01m.\u001B[39;00m\u001B[38;5;21;01mext\u001B[39;00m\u001B[38;5;21;01m.\u001B[39;00m\u001B[38;5;21;01mazure\u001B[39;00m\u001B[38;5;21;01m.\u001B[39;00m\u001B[38;5;21;01mcommon\u001B[39;00m\u001B[38;5;21;01m.\u001B[39;00m\u001B[38;5;21;01mprotocol\u001B[39;00m \u001B[38;5;28;01mimport\u001B[39;00m (\n\u001B[0;32m     25\u001B[0m     Data,\n\u001B[0;32m     26\u001B[0m     Envelope,\n\u001B[1;32m   (...)\u001B[0m\n\u001B[0;32m     29\u001B[0m     Message,\n\u001B[0;32m     30\u001B[0m )\n\u001B[0;32m     31\u001B[0m \u001B[38;5;28;01mfrom\u001B[39;00m \u001B[38;5;21;01mopencensus\u001B[39;00m\u001B[38;5;21;01m.\u001B[39;00m\u001B[38;5;21;01mext\u001B[39;00m\u001B[38;5;21;01m.\u001B[39;00m\u001B[38;5;21;01mazure\u001B[39;00m\u001B[38;5;21;01m.\u001B[39;00m\u001B[38;5;21;01mcommon\u001B[39;00m\u001B[38;5;21;01m.\u001B[39;00m\u001B[38;5;21;01mstorage\u001B[39;00m \u001B[38;5;28;01mimport\u001B[39;00m LocalFileStorage\n\u001B[1;32m---> 32\u001B[0m \u001B[38;5;28;01mfrom\u001B[39;00m \u001B[38;5;21;01mopencensus\u001B[39;00m\u001B[38;5;21;01m.\u001B[39;00m\u001B[38;5;21;01mext\u001B[39;00m\u001B[38;5;21;01m.\u001B[39;00m\u001B[38;5;21;01mazure\u001B[39;00m\u001B[38;5;21;01m.\u001B[39;00m\u001B[38;5;21;01mcommon\u001B[39;00m\u001B[38;5;21;01m.\u001B[39;00m\u001B[38;5;21;01mtransport\u001B[39;00m \u001B[38;5;28;01mimport\u001B[39;00m (\n\u001B[0;32m     33\u001B[0m     TransportMixin,\n\u001B[0;32m     34\u001B[0m     TransportStatusCode,\n\u001B[0;32m     35\u001B[0m )\n\u001B[0;32m     36\u001B[0m \u001B[38;5;28;01mfrom\u001B[39;00m \u001B[38;5;21;01mopencensus\u001B[39;00m\u001B[38;5;21;01m.\u001B[39;00m\u001B[38;5;21;01mext\u001B[39;00m\u001B[38;5;21;01m.\u001B[39;00m\u001B[38;5;21;01mazure\u001B[39;00m\u001B[38;5;21;01m.\u001B[39;00m\u001B[38;5;21;01mstatsbeat\u001B[39;00m \u001B[38;5;28;01mimport\u001B[39;00m statsbeat\n\u001B[0;32m     37\u001B[0m \u001B[38;5;28;01mfrom\u001B[39;00m \u001B[38;5;21;01mopencensus\u001B[39;00m\u001B[38;5;21;01m.\u001B[39;00m\u001B[38;5;21;01mtrace\u001B[39;00m \u001B[38;5;28;01mimport\u001B[39;00m execution_context\n",
      "File \u001B[1;32mC:\\DIC3\\COURS_DIC3\\MLOPS\\envs\\mlops_venvs\\lib\\site-packages\\opencensus\\ext\\azure\\common\\transport.py:22\u001B[0m\n\u001B[0;32m     20\u001B[0m \u001B[38;5;28;01mimport\u001B[39;00m \u001B[38;5;21;01mrequests\u001B[39;00m\n\u001B[0;32m     21\u001B[0m \u001B[38;5;28;01mfrom\u001B[39;00m \u001B[38;5;21;01mazure\u001B[39;00m\u001B[38;5;21;01m.\u001B[39;00m\u001B[38;5;21;01mcore\u001B[39;00m\u001B[38;5;21;01m.\u001B[39;00m\u001B[38;5;21;01mexceptions\u001B[39;00m \u001B[38;5;28;01mimport\u001B[39;00m ClientAuthenticationError\n\u001B[1;32m---> 22\u001B[0m \u001B[38;5;28;01mfrom\u001B[39;00m \u001B[38;5;21;01mazure\u001B[39;00m\u001B[38;5;21;01m.\u001B[39;00m\u001B[38;5;21;01midentity\u001B[39;00m\u001B[38;5;21;01m.\u001B[39;00m\u001B[38;5;21;01m_exceptions\u001B[39;00m \u001B[38;5;28;01mimport\u001B[39;00m CredentialUnavailableError\n\u001B[0;32m     24\u001B[0m \u001B[38;5;28;01mfrom\u001B[39;00m \u001B[38;5;21;01mopencensus\u001B[39;00m\u001B[38;5;21;01m.\u001B[39;00m\u001B[38;5;21;01mext\u001B[39;00m\u001B[38;5;21;01m.\u001B[39;00m\u001B[38;5;21;01mazure\u001B[39;00m\u001B[38;5;21;01m.\u001B[39;00m\u001B[38;5;21;01mstatsbeat\u001B[39;00m \u001B[38;5;28;01mimport\u001B[39;00m state\n\u001B[0;32m     26\u001B[0m \u001B[38;5;28;01mtry\u001B[39;00m:\n",
      "File \u001B[1;32mC:\\DIC3\\COURS_DIC3\\MLOPS\\envs\\mlops_venvs\\lib\\site-packages\\azure\\identity\\__init__.py:10\u001B[0m\n\u001B[0;32m      8\u001B[0m \u001B[38;5;28;01mfrom\u001B[39;00m \u001B[38;5;21;01m.\u001B[39;00m\u001B[38;5;21;01m_exceptions\u001B[39;00m \u001B[38;5;28;01mimport\u001B[39;00m AuthenticationRequiredError, CredentialUnavailableError\n\u001B[0;32m      9\u001B[0m \u001B[38;5;28;01mfrom\u001B[39;00m \u001B[38;5;21;01m.\u001B[39;00m\u001B[38;5;21;01m_constants\u001B[39;00m \u001B[38;5;28;01mimport\u001B[39;00m AzureAuthorityHosts, KnownAuthorities\n\u001B[1;32m---> 10\u001B[0m \u001B[38;5;28;01mfrom\u001B[39;00m \u001B[38;5;21;01m.\u001B[39;00m\u001B[38;5;21;01m_credentials\u001B[39;00m \u001B[38;5;28;01mimport\u001B[39;00m (\n\u001B[0;32m     11\u001B[0m     AuthorizationCodeCredential,\n\u001B[0;32m     12\u001B[0m     AzureDeveloperCliCredential,\n\u001B[0;32m     13\u001B[0m     AzureCliCredential,\n\u001B[0;32m     14\u001B[0m     AzurePowerShellCredential,\n\u001B[0;32m     15\u001B[0m     CertificateCredential,\n\u001B[0;32m     16\u001B[0m     ChainedTokenCredential,\n\u001B[0;32m     17\u001B[0m     ClientAssertionCredential,\n\u001B[0;32m     18\u001B[0m     ClientSecretCredential,\n\u001B[0;32m     19\u001B[0m     DefaultAzureCredential,\n\u001B[0;32m     20\u001B[0m     DeviceCodeCredential,\n\u001B[0;32m     21\u001B[0m     EnvironmentCredential,\n\u001B[0;32m     22\u001B[0m     InteractiveBrowserCredential,\n\u001B[0;32m     23\u001B[0m     ManagedIdentityCredential,\n\u001B[0;32m     24\u001B[0m     OnBehalfOfCredential,\n\u001B[0;32m     25\u001B[0m     SharedTokenCacheCredential,\n\u001B[0;32m     26\u001B[0m     UsernamePasswordCredential,\n\u001B[0;32m     27\u001B[0m     VisualStudioCodeCredential,\n\u001B[0;32m     28\u001B[0m     WorkloadIdentityCredential,\n\u001B[0;32m     29\u001B[0m     AzurePipelinesCredential,\n\u001B[0;32m     30\u001B[0m )\n\u001B[0;32m     31\u001B[0m \u001B[38;5;28;01mfrom\u001B[39;00m \u001B[38;5;21;01m.\u001B[39;00m\u001B[38;5;21;01m_persistent_cache\u001B[39;00m \u001B[38;5;28;01mimport\u001B[39;00m TokenCachePersistenceOptions\n\u001B[0;32m     32\u001B[0m \u001B[38;5;28;01mfrom\u001B[39;00m \u001B[38;5;21;01m.\u001B[39;00m\u001B[38;5;21;01m_bearer_token_provider\u001B[39;00m \u001B[38;5;28;01mimport\u001B[39;00m get_bearer_token_provider\n",
      "File \u001B[1;32mC:\\DIC3\\COURS_DIC3\\MLOPS\\envs\\mlops_venvs\\lib\\site-packages\\azure\\identity\\_credentials\\__init__.py:5\u001B[0m\n\u001B[0;32m      1\u001B[0m \u001B[38;5;66;03m# ------------------------------------\u001B[39;00m\n\u001B[0;32m      2\u001B[0m \u001B[38;5;66;03m# Copyright (c) Microsoft Corporation.\u001B[39;00m\n\u001B[0;32m      3\u001B[0m \u001B[38;5;66;03m# Licensed under the MIT License.\u001B[39;00m\n\u001B[0;32m      4\u001B[0m \u001B[38;5;66;03m# ------------------------------------\u001B[39;00m\n\u001B[1;32m----> 5\u001B[0m \u001B[38;5;28;01mfrom\u001B[39;00m \u001B[38;5;21;01m.\u001B[39;00m\u001B[38;5;21;01mauthorization_code\u001B[39;00m \u001B[38;5;28;01mimport\u001B[39;00m AuthorizationCodeCredential\n\u001B[0;32m      6\u001B[0m \u001B[38;5;28;01mfrom\u001B[39;00m \u001B[38;5;21;01m.\u001B[39;00m\u001B[38;5;21;01mazure_powershell\u001B[39;00m \u001B[38;5;28;01mimport\u001B[39;00m AzurePowerShellCredential\n\u001B[0;32m      7\u001B[0m \u001B[38;5;28;01mfrom\u001B[39;00m \u001B[38;5;21;01m.\u001B[39;00m\u001B[38;5;21;01mbrowser\u001B[39;00m \u001B[38;5;28;01mimport\u001B[39;00m InteractiveBrowserCredential\n",
      "File \u001B[1;32mC:\\DIC3\\COURS_DIC3\\MLOPS\\envs\\mlops_venvs\\lib\\site-packages\\azure\\identity\\_credentials\\authorization_code.py:9\u001B[0m\n\u001B[0;32m      7\u001B[0m \u001B[38;5;28;01mfrom\u001B[39;00m \u001B[38;5;21;01mazure\u001B[39;00m\u001B[38;5;21;01m.\u001B[39;00m\u001B[38;5;21;01mcore\u001B[39;00m\u001B[38;5;21;01m.\u001B[39;00m\u001B[38;5;21;01mcredentials\u001B[39;00m \u001B[38;5;28;01mimport\u001B[39;00m AccessToken\n\u001B[0;32m      8\u001B[0m \u001B[38;5;28;01mfrom\u001B[39;00m \u001B[38;5;21;01mazure\u001B[39;00m\u001B[38;5;21;01m.\u001B[39;00m\u001B[38;5;21;01mcore\u001B[39;00m\u001B[38;5;21;01m.\u001B[39;00m\u001B[38;5;21;01mexceptions\u001B[39;00m \u001B[38;5;28;01mimport\u001B[39;00m ClientAuthenticationError\n\u001B[1;32m----> 9\u001B[0m \u001B[38;5;28;01mfrom\u001B[39;00m \u001B[38;5;21;01m.\u001B[39;00m\u001B[38;5;21;01m.\u001B[39;00m\u001B[38;5;21;01m_internal\u001B[39;00m\u001B[38;5;21;01m.\u001B[39;00m\u001B[38;5;21;01maad_client\u001B[39;00m \u001B[38;5;28;01mimport\u001B[39;00m AadClient\n\u001B[0;32m     10\u001B[0m \u001B[38;5;28;01mfrom\u001B[39;00m \u001B[38;5;21;01m.\u001B[39;00m\u001B[38;5;21;01m.\u001B[39;00m\u001B[38;5;21;01m_internal\u001B[39;00m\u001B[38;5;21;01m.\u001B[39;00m\u001B[38;5;21;01mget_token_mixin\u001B[39;00m \u001B[38;5;28;01mimport\u001B[39;00m GetTokenMixin\n\u001B[0;32m     13\u001B[0m \u001B[38;5;28;01mclass\u001B[39;00m \u001B[38;5;21;01mAuthorizationCodeCredential\u001B[39;00m(GetTokenMixin):\n",
      "File \u001B[1;32mC:\\DIC3\\COURS_DIC3\\MLOPS\\envs\\mlops_venvs\\lib\\site-packages\\azure\\identity\\_internal\\__init__.py:5\u001B[0m\n\u001B[0;32m      1\u001B[0m \u001B[38;5;66;03m# ------------------------------------\u001B[39;00m\n\u001B[0;32m      2\u001B[0m \u001B[38;5;66;03m# Copyright (c) Microsoft Corporation.\u001B[39;00m\n\u001B[0;32m      3\u001B[0m \u001B[38;5;66;03m# Licensed under the MIT License.\u001B[39;00m\n\u001B[0;32m      4\u001B[0m \u001B[38;5;66;03m# ------------------------------------\u001B[39;00m\n\u001B[1;32m----> 5\u001B[0m \u001B[38;5;28;01mfrom\u001B[39;00m \u001B[38;5;21;01m.\u001B[39;00m\u001B[38;5;21;01maad_client\u001B[39;00m \u001B[38;5;28;01mimport\u001B[39;00m AadClient\n\u001B[0;32m      6\u001B[0m \u001B[38;5;28;01mfrom\u001B[39;00m \u001B[38;5;21;01m.\u001B[39;00m\u001B[38;5;21;01maad_client_base\u001B[39;00m \u001B[38;5;28;01mimport\u001B[39;00m AadClientBase\n\u001B[0;32m      7\u001B[0m \u001B[38;5;28;01mfrom\u001B[39;00m \u001B[38;5;21;01m.\u001B[39;00m\u001B[38;5;21;01mauth_code_redirect_handler\u001B[39;00m \u001B[38;5;28;01mimport\u001B[39;00m AuthCodeRedirectServer\n",
      "File \u001B[1;32mC:\\DIC3\\COURS_DIC3\\MLOPS\\envs\\mlops_venvs\\lib\\site-packages\\azure\\identity\\_internal\\aad_client.py:11\u001B[0m\n\u001B[0;32m      9\u001B[0m \u001B[38;5;28;01mfrom\u001B[39;00m \u001B[38;5;21;01mazure\u001B[39;00m\u001B[38;5;21;01m.\u001B[39;00m\u001B[38;5;21;01mcore\u001B[39;00m\u001B[38;5;21;01m.\u001B[39;00m\u001B[38;5;21;01mpipeline\u001B[39;00m \u001B[38;5;28;01mimport\u001B[39;00m Pipeline\n\u001B[0;32m     10\u001B[0m \u001B[38;5;28;01mfrom\u001B[39;00m \u001B[38;5;21;01mazure\u001B[39;00m\u001B[38;5;21;01m.\u001B[39;00m\u001B[38;5;21;01mcore\u001B[39;00m\u001B[38;5;21;01m.\u001B[39;00m\u001B[38;5;21;01mpipeline\u001B[39;00m\u001B[38;5;21;01m.\u001B[39;00m\u001B[38;5;21;01mtransport\u001B[39;00m \u001B[38;5;28;01mimport\u001B[39;00m HttpRequest\n\u001B[1;32m---> 11\u001B[0m \u001B[38;5;28;01mfrom\u001B[39;00m \u001B[38;5;21;01m.\u001B[39;00m\u001B[38;5;21;01maad_client_base\u001B[39;00m \u001B[38;5;28;01mimport\u001B[39;00m AadClientBase\n\u001B[0;32m     12\u001B[0m \u001B[38;5;28;01mfrom\u001B[39;00m \u001B[38;5;21;01m.\u001B[39;00m\u001B[38;5;21;01maadclient_certificate\u001B[39;00m \u001B[38;5;28;01mimport\u001B[39;00m AadClientCertificate\n\u001B[0;32m     13\u001B[0m \u001B[38;5;28;01mfrom\u001B[39;00m \u001B[38;5;21;01m.\u001B[39;00m\u001B[38;5;21;01mpipeline\u001B[39;00m \u001B[38;5;28;01mimport\u001B[39;00m build_pipeline\n",
      "File \u001B[1;32mC:\\DIC3\\COURS_DIC3\\MLOPS\\envs\\mlops_venvs\\lib\\site-packages\\azure\\identity\\_internal\\aad_client_base.py:20\u001B[0m\n\u001B[0;32m     18\u001B[0m \u001B[38;5;28;01mfrom\u001B[39;00m \u001B[38;5;21;01mazure\u001B[39;00m\u001B[38;5;21;01m.\u001B[39;00m\u001B[38;5;21;01mcore\u001B[39;00m\u001B[38;5;21;01m.\u001B[39;00m\u001B[38;5;21;01mexceptions\u001B[39;00m \u001B[38;5;28;01mimport\u001B[39;00m ClientAuthenticationError\n\u001B[0;32m     19\u001B[0m \u001B[38;5;28;01mfrom\u001B[39;00m \u001B[38;5;21;01m.\u001B[39;00m\u001B[38;5;21;01mutils\u001B[39;00m \u001B[38;5;28;01mimport\u001B[39;00m get_default_authority, normalize_authority, resolve_tenant\n\u001B[1;32m---> 20\u001B[0m \u001B[38;5;28;01mfrom\u001B[39;00m \u001B[38;5;21;01m.\u001B[39;00m\u001B[38;5;21;01maadclient_certificate\u001B[39;00m \u001B[38;5;28;01mimport\u001B[39;00m AadClientCertificate\n\u001B[0;32m     21\u001B[0m \u001B[38;5;28;01mfrom\u001B[39;00m \u001B[38;5;21;01m.\u001B[39;00m\u001B[38;5;21;01m.\u001B[39;00m\u001B[38;5;21;01m_persistent_cache\u001B[39;00m \u001B[38;5;28;01mimport\u001B[39;00m _load_persistent_cache\n\u001B[0;32m     24\u001B[0m \u001B[38;5;28;01mif\u001B[39;00m TYPE_CHECKING:\n",
      "File \u001B[1;32mC:\\DIC3\\COURS_DIC3\\MLOPS\\envs\\mlops_venvs\\lib\\site-packages\\azure\\identity\\_internal\\aadclient_certificate.py:7\u001B[0m\n\u001B[0;32m      5\u001B[0m \u001B[38;5;28;01mimport\u001B[39;00m \u001B[38;5;21;01mbase64\u001B[39;00m\n\u001B[0;32m      6\u001B[0m \u001B[38;5;28;01mfrom\u001B[39;00m \u001B[38;5;21;01mtyping\u001B[39;00m \u001B[38;5;28;01mimport\u001B[39;00m Optional\n\u001B[1;32m----> 7\u001B[0m \u001B[38;5;28;01mfrom\u001B[39;00m \u001B[38;5;21;01mcryptography\u001B[39;00m \u001B[38;5;28;01mimport\u001B[39;00m x509\n\u001B[0;32m      8\u001B[0m \u001B[38;5;28;01mfrom\u001B[39;00m \u001B[38;5;21;01mcryptography\u001B[39;00m\u001B[38;5;21;01m.\u001B[39;00m\u001B[38;5;21;01mhazmat\u001B[39;00m\u001B[38;5;21;01m.\u001B[39;00m\u001B[38;5;21;01mprimitives\u001B[39;00m \u001B[38;5;28;01mimport\u001B[39;00m hashes, serialization\n\u001B[0;32m      9\u001B[0m \u001B[38;5;28;01mfrom\u001B[39;00m \u001B[38;5;21;01mcryptography\u001B[39;00m\u001B[38;5;21;01m.\u001B[39;00m\u001B[38;5;21;01mhazmat\u001B[39;00m\u001B[38;5;21;01m.\u001B[39;00m\u001B[38;5;21;01mprimitives\u001B[39;00m\u001B[38;5;21;01m.\u001B[39;00m\u001B[38;5;21;01masymmetric\u001B[39;00m \u001B[38;5;28;01mimport\u001B[39;00m padding\n",
      "File \u001B[1;32mC:\\DIC3\\COURS_DIC3\\MLOPS\\envs\\mlops_venvs\\lib\\site-packages\\cryptography\\x509\\__init__.py:7\u001B[0m\n\u001B[0;32m      1\u001B[0m \u001B[38;5;66;03m# This file is dual licensed under the terms of the Apache License, Version\u001B[39;00m\n\u001B[0;32m      2\u001B[0m \u001B[38;5;66;03m# 2.0, and the BSD License. See the LICENSE file in the root of this repository\u001B[39;00m\n\u001B[0;32m      3\u001B[0m \u001B[38;5;66;03m# for complete details.\u001B[39;00m\n\u001B[0;32m      5\u001B[0m \u001B[38;5;28;01mfrom\u001B[39;00m \u001B[38;5;21;01m__future__\u001B[39;00m \u001B[38;5;28;01mimport\u001B[39;00m annotations\n\u001B[1;32m----> 7\u001B[0m \u001B[38;5;28;01mfrom\u001B[39;00m \u001B[38;5;21;01mcryptography\u001B[39;00m\u001B[38;5;21;01m.\u001B[39;00m\u001B[38;5;21;01mx509\u001B[39;00m \u001B[38;5;28;01mimport\u001B[39;00m certificate_transparency, verification\n\u001B[0;32m      8\u001B[0m \u001B[38;5;28;01mfrom\u001B[39;00m \u001B[38;5;21;01mcryptography\u001B[39;00m\u001B[38;5;21;01m.\u001B[39;00m\u001B[38;5;21;01mx509\u001B[39;00m\u001B[38;5;21;01m.\u001B[39;00m\u001B[38;5;21;01mbase\u001B[39;00m \u001B[38;5;28;01mimport\u001B[39;00m (\n\u001B[0;32m      9\u001B[0m     Attribute,\n\u001B[0;32m     10\u001B[0m     AttributeNotFound,\n\u001B[1;32m   (...)\u001B[0m\n\u001B[0;32m     29\u001B[0m     random_serial_number,\n\u001B[0;32m     30\u001B[0m )\n\u001B[0;32m     31\u001B[0m \u001B[38;5;28;01mfrom\u001B[39;00m \u001B[38;5;21;01mcryptography\u001B[39;00m\u001B[38;5;21;01m.\u001B[39;00m\u001B[38;5;21;01mx509\u001B[39;00m\u001B[38;5;21;01m.\u001B[39;00m\u001B[38;5;21;01mextensions\u001B[39;00m \u001B[38;5;28;01mimport\u001B[39;00m (\n\u001B[0;32m     32\u001B[0m     AccessDescription,\n\u001B[0;32m     33\u001B[0m     AuthorityInformationAccess,\n\u001B[1;32m   (...)\u001B[0m\n\u001B[0;32m     74\u001B[0m     UserNotice,\n\u001B[0;32m     75\u001B[0m )\n",
      "File \u001B[1;32mC:\\DIC3\\COURS_DIC3\\MLOPS\\envs\\mlops_venvs\\lib\\site-packages\\cryptography\\x509\\certificate_transparency.py:11\u001B[0m\n\u001B[0;32m      8\u001B[0m \u001B[38;5;28;01mimport\u001B[39;00m \u001B[38;5;21;01mdatetime\u001B[39;00m\n\u001B[0;32m     10\u001B[0m \u001B[38;5;28;01mfrom\u001B[39;00m \u001B[38;5;21;01mcryptography\u001B[39;00m \u001B[38;5;28;01mimport\u001B[39;00m utils\n\u001B[1;32m---> 11\u001B[0m \u001B[38;5;28;01mfrom\u001B[39;00m \u001B[38;5;21;01mcryptography\u001B[39;00m\u001B[38;5;21;01m.\u001B[39;00m\u001B[38;5;21;01mhazmat\u001B[39;00m\u001B[38;5;21;01m.\u001B[39;00m\u001B[38;5;21;01mbindings\u001B[39;00m\u001B[38;5;21;01m.\u001B[39;00m\u001B[38;5;21;01m_rust\u001B[39;00m \u001B[38;5;28;01mimport\u001B[39;00m x509 \u001B[38;5;28;01mas\u001B[39;00m rust_x509\n\u001B[0;32m     12\u001B[0m \u001B[38;5;28;01mfrom\u001B[39;00m \u001B[38;5;21;01mcryptography\u001B[39;00m\u001B[38;5;21;01m.\u001B[39;00m\u001B[38;5;21;01mhazmat\u001B[39;00m\u001B[38;5;21;01m.\u001B[39;00m\u001B[38;5;21;01mprimitives\u001B[39;00m\u001B[38;5;21;01m.\u001B[39;00m\u001B[38;5;21;01mhashes\u001B[39;00m \u001B[38;5;28;01mimport\u001B[39;00m HashAlgorithm\n\u001B[0;32m     15\u001B[0m \u001B[38;5;28;01mclass\u001B[39;00m \u001B[38;5;21;01mLogEntryType\u001B[39;00m(utils\u001B[38;5;241m.\u001B[39mEnum):\n",
      "\u001B[1;31mImportError\u001B[0m: DLL load failed while importing _rust: La procédure spécifiée est introuvable."
     ]
    }
   ],
   "source": [
    "%reload_ext autoreload\n",
    "%autoreload 2\n",
    "\n",
    "import ast\n",
    "import mlflow\n",
    "import missingno as msno\n",
    "import numpy as np\n",
    "import pandas as pd\n",
    "import ppscore as pps\n",
    "import plotly.express as px\n",
    "import pendulum\n",
    "import seaborn as sns\n",
    "import sys\n",
    "import xgboost as xgb\n",
    "\n",
    "from loguru import logger\n",
    "from matplotlib import pyplot as plt\n",
    "from pathlib import Path\n",
    "from pycaret import regression\n",
    "from scipy.stats import uniform, randint, yeojohnson\n",
    "from sklearn.pipeline import make_pipeline, Pipeline\n",
    "from sklearn.compose import ColumnTransformer, make_column_selector, TransformedTargetRegressor\n",
    "from sklearn.metrics import make_scorer, mean_squared_error, mean_absolute_error, r2_score, max_error\n",
    "from sklearn.model_selection import train_test_split\n",
    "from sklearn.impute import SimpleImputer\n",
    "from sklearn.model_selection import GridSearchCV, RandomizedSearchCV\n",
    "from sklearn.preprocessing import StandardScaler, RobustScaler, OneHotEncoder, quantile_transform\n",
    "from sklearn.ensemble import RandomForestRegressor, ExtraTreesRegressor\n",
    "from typing import Union, Dict\n",
    "from ydata_profiling import ProfileReport\n",
    "from yellowbrick.regressor import PredictionError\n",
    "\n",
    "sys.path.append(str(Path.cwd().parent))\n",
    "from settings.params import MODEL_PARAMS\n",
    "from src.utils import get_mlflow_tracking_uri\n",
    "\n",
    "pd.set_option(\"display.max_columns\", None)\n",
    "pd.set_option(\"display.max_rows\", 100)"
   ]
  },
  {
   "cell_type": "markdown",
   "metadata": {},
   "source": [
    "# Settings\n"
   ]
  },
  {
   "cell_type": "code",
   "execution_count": null,
   "metadata": {},
   "outputs": [],
   "source": [
    "log_fmt = \"<green>{time:YYYY-MM-DD HH:mm:ss.SSS!UTC}</green> | <level>{level: <8}</level> | <cyan>{name}</cyan>:<cyan>{function}</cyan>:<cyan>{line}</cyan> - {message}\"\n",
    "logger.configure(handlers=[{\"sink\": sys.stderr, \"format\": log_fmt}])\n",
    "\n",
    "TARGET_NAME = MODEL_PARAMS[\"TARGET_NAME\"]\n",
    "REPORTS_DIR = \"../reports\"\n",
    "SEED = 42"
   ]
  },
  {
   "cell_type": "code",
   "execution_count": null,
   "metadata": {},
   "outputs": [],
   "source": [
    "\n",
    "\n",
    "#mlflow.set_tracking_uri(uri=\"http://localhost:8080\")\n",
    "\n",
    "mlflow_tracking_uri = get_mlflow_tracking_uri()"
   ]
  },
  {
   "cell_type": "markdown",
   "metadata": {},
   "source": [
    "# Data Collection\n"
   ]
  },
  {
   "cell_type": "code",
   "execution_count": null,
   "metadata": {},
   "outputs": [],
   "source": [
    "data2015 = pd.read_csv('../datasets/2015-building-energy-benchmarking.csv')\n",
    "data2016 = pd.read_csv('../datasets/2016-building-energy-benchmarking.csv')"
   ]
  },
  {
   "cell_type": "code",
   "execution_count": null,
   "metadata": {},
   "outputs": [],
   "source": [
    "data2015.info()"
   ]
  },
  {
   "cell_type": "code",
   "execution_count": null,
   "metadata": {},
   "outputs": [],
   "source": [
    "data2016.info()"
   ]
  },
  {
   "cell_type": "markdown",
   "metadata": {},
   "source": [
    "## Harmonize datasets\n"
   ]
  },
  {
   "cell_type": "markdown",
   "metadata": {},
   "source": [
    "The 2015 data is not aligned with 2016. Need to populate missing columns in one file vs the other. Let's re-arrange 2015\n"
   ]
  },
  {
   "cell_type": "code",
   "execution_count": null,
   "metadata": {},
   "outputs": [],
   "source": [
    "set(data2015) - set(data2016)"
   ]
  },
  {
   "cell_type": "code",
   "execution_count": null,
   "metadata": {},
   "outputs": [],
   "source": [
    "# 2016 missing in 2015\n",
    "set(data2016) - set(data2015)"
   ]
  },
  {
   "cell_type": "code",
   "execution_count": null,
   "metadata": {},
   "outputs": [],
   "source": [
    "ast.literal_eval(data2015['Location'][1])"
   ]
  },
  {
   "cell_type": "code",
   "execution_count": null,
   "metadata": {},
   "outputs": [],
   "source": [
    "data2015['Latitude']=data2015['Location'].apply(lambda l : ast.literal_eval(l)['latitude'])\n",
    "data2015['Longitude']=data2015['Location'].apply(lambda l : ast.literal_eval(l)['longitude'])\n",
    "data2015['State']=data2015['Location'].apply(lambda l :  ast.literal_eval(ast.literal_eval(l)['human_address'])['state'])\n",
    "data2015['ZipCode']=data2015['Location'].apply(lambda l :  ast.literal_eval(ast.literal_eval(l)['human_address'])['zip'])\n",
    "data2015['City']=data2015['Location'].apply(lambda l :  ast.literal_eval(ast.literal_eval(l)['human_address'])['city'])\n",
    "data2015['Address']=data2015['Location'].apply(lambda l :  ast.literal_eval(ast.literal_eval(l)['human_address'])['address'])"
   ]
  },
  {
   "cell_type": "code",
   "execution_count": null,
   "metadata": {},
   "outputs": [],
   "source": [
    "data2015['TotalGHGEmissions']=data2015['GHGEmissions(MetricTonsCO2e)']\n",
    "data2015['GHGEmissionsIntensity']=data2015['GHGEmissionsIntensity(kgCO2e/ft2)']"
   ]
  },
  {
   "cell_type": "code",
   "execution_count": null,
   "metadata": {},
   "outputs": [],
   "source": [
    "# 2015 and 2016 now aligned and ready to be combined\n",
    "set(data2015) - set(data2016)"
   ]
  },
  {
   "cell_type": "code",
   "execution_count": null,
   "metadata": {},
   "outputs": [],
   "source": [
    "set(data2016) - set(data2015)"
   ]
  },
  {
   "cell_type": "markdown",
   "metadata": {},
   "source": [
    "Some columns are only available in the 2015 dataset. Some of them do not provide useful information and the others are largely incomplete. We are going to drop them in order to have a perfectly harmonized dataset.\n"
   ]
  },
  {
   "cell_type": "code",
   "execution_count": null,
   "metadata": {},
   "outputs": [],
   "source": [
    "data2015.drop(['Location','GHGEmissions(MetricTonsCO2e)','GHGEmissionsIntensity(kgCO2e/ft2)', 'SPD Beats','Seattle Police Department Micro Community Policing Plan Areas',\n",
    "               'Zip Codes','OtherFuelUse(kBtu)','2010 Census Tracts','City Council Districts', 'Comment'], axis='columns', inplace=True)"
   ]
  },
  {
   "cell_type": "code",
   "execution_count": null,
   "metadata": {},
   "outputs": [],
   "source": [
    "data2016.drop(['Comments'], axis='columns', inplace=True)"
   ]
  },
  {
   "cell_type": "markdown",
   "metadata": {},
   "source": [
    "### Align data types between the 2 files\n"
   ]
  },
  {
   "cell_type": "code",
   "execution_count": null,
   "metadata": {},
   "outputs": [],
   "source": [
    "pd.DataFrame([data2015.dtypes,data2016.dtypes])"
   ]
  },
  {
   "cell_type": "code",
   "execution_count": null,
   "metadata": {},
   "outputs": [],
   "source": [
    "data2015[['Latitude','Longitude','ZipCode']]=data2015[['Latitude','Longitude','ZipCode']].astype('float64')"
   ]
  },
  {
   "cell_type": "code",
   "execution_count": null,
   "metadata": {},
   "outputs": [],
   "source": [
    "data2015['DefaultData'] = data2015['DefaultData'].map({'Yes' : True, 'No' : False}).head()"
   ]
  },
  {
   "cell_type": "markdown",
   "metadata": {},
   "source": [
    "### Combine the 2 datasets\n"
   ]
  },
  {
   "cell_type": "code",
   "execution_count": null,
   "metadata": {},
   "outputs": [],
   "source": [
    "data = pd.concat([data2015,data2016], axis=0, ignore_index=True)"
   ]
  },
  {
   "cell_type": "code",
   "execution_count": null,
   "metadata": {},
   "outputs": [],
   "source": [
    "# Columns \n",
    "data.info()"
   ]
  },
  {
   "cell_type": "markdown",
   "metadata": {},
   "source": [
    "### Harmonize values\n"
   ]
  },
  {
   "cell_type": "code",
   "execution_count": null,
   "metadata": {},
   "outputs": [],
   "source": [
    "for key in list(data.keys()):\n",
    "    if data[key].nunique()<20:\n",
    "        print(key,'------->', data[key].unique())\n",
    "    else:\n",
    "        print(key, '------->',data[key].nunique())"
   ]
  },
  {
   "cell_type": "code",
   "execution_count": null,
   "metadata": {},
   "outputs": [],
   "source": [
    "data['Neighborhood'].replace('Delridge', 'DELRIDGE', inplace=True)\n",
    "data['Neighborhood'].replace('DELRIDGE NEIGHBORHOODS', 'DELRIDGE', inplace=True)\n",
    "data['Neighborhood'].replace('North', 'NORTH', inplace=True)\n",
    "data['Neighborhood'].replace('Northwest', 'NORTHWEST', inplace=True)\n",
    "data['Neighborhood'].replace('Central', 'CENTRAL', inplace=True)\n",
    "data['Neighborhood'].replace('Ballard', 'BALLARD', inplace=True)"
   ]
  },
  {
   "cell_type": "code",
   "execution_count": null,
   "metadata": {},
   "outputs": [],
   "source": [
    "data['City'].replace('SEATTLE', 'Seattle', inplace=True)\n",
    "data['ComplianceStatus'].replace('Not Compliant', 'Non-Compliant', inplace=True)"
   ]
  },
  {
   "cell_type": "code",
   "execution_count": null,
   "metadata": {},
   "outputs": [],
   "source": [
    "data.describe()"
   ]
  },
  {
   "cell_type": "code",
   "execution_count": null,
   "metadata": {},
   "outputs": [],
   "source": [
    "data.info()"
   ]
  },
  {
   "cell_type": "markdown",
   "metadata": {},
   "source": [
    "# Exploratory Data Analysis\n"
   ]
  },
  {
   "cell_type": "markdown",
   "metadata": {},
   "source": [
    "## Missing values\n"
   ]
  },
  {
   "cell_type": "code",
   "execution_count": null,
   "metadata": {
    "trusted": true
   },
   "outputs": [],
   "source": [
    "msno.bar(data)"
   ]
  },
  {
   "cell_type": "code",
   "execution_count": null,
   "metadata": {},
   "outputs": [],
   "source": [
    "data.isna().sum()"
   ]
  },
  {
   "cell_type": "code",
   "execution_count": null,
   "metadata": {},
   "outputs": [],
   "source": [
    "data['ComplianceStatus'].value_counts()"
   ]
  },
  {
   "cell_type": "markdown",
   "metadata": {},
   "source": [
    "After reading the descriptions of each of the columns present in the dataset, we can make the following observations about some notable missing data:\n",
    "\n",
    "- SecondLargestPropertyUseType & ThirdLargestPropertyUseType contain lots of missing values. When they are absent we can interpret that as the corresponding building not having a second or third use type.\n",
    "- Outlier is a column which indicates if the building's measures correspond to a high or low outlier(true outliers in summary). We interpret the absence of value as indicating that the building is supposedly normal.\n",
    "- YearsEnergyStarCertified is a list of years for which the building has been certified EnergyStar. Nan values mean that the building has never had the certification.\n",
    "- Comments is a column which should contain comments by a building owner or an agent to provide context about the building's energy use. No comments were made in the dataset. We can already drop that column from our dataset.\n"
   ]
  },
  {
   "cell_type": "markdown",
   "metadata": {},
   "source": [
    "## Target Analysis\n"
   ]
  },
  {
   "cell_type": "code",
   "execution_count": null,
   "metadata": {},
   "outputs": [],
   "source": [
    "data[TARGET_NAME].describe()"
   ]
  },
  {
   "cell_type": "code",
   "execution_count": null,
   "metadata": {},
   "outputs": [],
   "source": [
    "fig, axes = plt.subplots(nrows=1, ncols=2, figsize=(15, 4))\n",
    "\n",
    "sns.histplot(data[TARGET_NAME], color='r', kde=True, ax=axes[0])\n",
    "axes[0].set_title('Distribution of energy consumption')\n",
    "\n",
    "sns.histplot(np.log(data[TARGET_NAME]), color='b', kde=True, ax=axes[1])\n",
    "axes[1].set_title('Distribution of energy consumption in $log$ scale')\n",
    "axes[1].set_xscale('log')"
   ]
  },
  {
   "cell_type": "markdown",
   "metadata": {},
   "source": [
    "- Some of the buildings investigated have zero energy use which does not make sense in this context. An analysis on the compliance of some of the data shows that almost all of those buildings' data are marked as non-compliant, missing or Default Data in the dataset. That means we cannot take that data into account.\n",
    "- The distribution of the target variable is highly skewed. Converting it to a log scale allows for a normal distribution, which can be more easily exploited by the model to be built.\n"
   ]
  },
  {
   "cell_type": "code",
   "execution_count": null,
   "metadata": {},
   "outputs": [],
   "source": [
    "# Compliance of the rows for which SiteEnergyUse is zero\n",
    "data[data[TARGET_NAME] == 0]['ComplianceStatus']"
   ]
  },
  {
   "cell_type": "code",
   "execution_count": null,
   "metadata": {},
   "outputs": [],
   "source": [
    "fig = px.box(data, y=\"SiteEnergyUse(kBtu)\")\n",
    "fig.show()"
   ]
  },
  {
   "cell_type": "markdown",
   "metadata": {},
   "source": [
    "The box plot illustrates the distribution of SiteEnergyUse(kBtu). The majority of the data points cluster near the lower end of the energy use spectrum, indicating relatively low energy consumption for most entries. However, there are several prominent outliers that deviate significantly from this cluster:\n",
    "\n",
    "- There are a few data points that exhibit exceptionally high energy use, with values reaching up to 800 million kBtu.\n",
    "- These high outliers are considerably distant from the main cluster, indicating that certain sites have much higher energy consumption compared to the rest.\n",
    "- The presence of these outliers suggests variability in the dataset, which could be due to differences in site size, operational hours, or inefficiencies.\n",
    "- These outliers need to be further investigated to understand the underlying causes and to determine if they should be included in the analysis or addressed separately. That analysis will be done when cleaning the data and we will use the Outlier column available in the dataset to determine which ones are true outliers and which ones are incoherent values.\n"
   ]
  },
  {
   "cell_type": "code",
   "execution_count": null,
   "metadata": {},
   "outputs": [],
   "source": [
    "# df = data.copy()\n",
    "# z_scores = np.abs((df[\"SiteEnergyUse(kBtu)\"] - df[\"SiteEnergyUse(kBtu)\"].mean()) / df[\"SiteEnergyUse(kBtu)\"].std())\n",
    "# outliers = df[z_scores >= 3]\n",
    "# len(outliers)\n",
    "# false_outliers = outliers[outliers['Outlier'].isna()]\n",
    "# len(false_outliers)"
   ]
  },
  {
   "cell_type": "markdown",
   "metadata": {},
   "source": [
    "## Data Analysis\n"
   ]
  },
  {
   "cell_type": "markdown",
   "metadata": {},
   "source": [
    "### Numerical Features\n"
   ]
  },
  {
   "cell_type": "code",
   "execution_count": null,
   "metadata": {},
   "outputs": [],
   "source": [
    "numerical_features = data.select_dtypes(include=\"number\").columns\n",
    "numerical_data = data[numerical_features]\n",
    "logger.info(f\"Categorical features:\\n {sorted(numerical_features)}\\n\")"
   ]
  },
  {
   "cell_type": "code",
   "execution_count": null,
   "metadata": {},
   "outputs": [],
   "source": [
    "numerical_data.head()"
   ]
  },
  {
   "cell_type": "markdown",
   "metadata": {},
   "source": [
    "#### Data distributions\n"
   ]
  },
  {
   "cell_type": "code",
   "execution_count": null,
   "metadata": {},
   "outputs": [],
   "source": [
    "num_cols = 3\n",
    "num_rows = (len(numerical_features) + num_cols - 1) // num_cols  # calculate the number of rows needed\n",
    "fig, axes = plt.subplots(num_rows, num_cols, figsize=(num_cols*6, num_rows*5))  # adjust figsize as needed\n",
    "\n",
    "for i, col in enumerate(numerical_features):\n",
    "    row = i // num_cols\n",
    "    col_pos = i % num_cols\n",
    "    sns.histplot(numerical_data[col], kde=False, ax=axes[row, col_pos])\n",
    "    axes[row, col_pos].set_title(col)\n",
    "\n",
    "plt.tight_layout()\n",
    "plt.show()"
   ]
  },
  {
   "cell_type": "markdown",
   "metadata": {},
   "source": [
    "#### Scatter Plots\n"
   ]
  },
  {
   "cell_type": "markdown",
   "metadata": {},
   "source": [
    "In order to have meaningful visualizations, we need to limit the data to building's whose energy use is between the 5th and 95th percentiles.\n"
   ]
  },
  {
   "cell_type": "code",
   "execution_count": null,
   "metadata": {},
   "outputs": [],
   "source": [
    "lower_percentile = data[TARGET_NAME].quantile(0.05)\n",
    "upper_percentile = data[TARGET_NAME].quantile(0.95)"
   ]
  },
  {
   "cell_type": "code",
   "execution_count": null,
   "metadata": {},
   "outputs": [],
   "source": [
    "limited_numerical_data = data[(data[TARGET_NAME] >= lower_percentile) & (data[TARGET_NAME] <= upper_percentile)]"
   ]
  },
  {
   "cell_type": "code",
   "execution_count": null,
   "metadata": {},
   "outputs": [],
   "source": [
    "# Number of plots per row\n",
    "plots_per_row = 3\n",
    "\n",
    "# Calculate number of rows needed\n",
    "num_rows = len(numerical_features) // plots_per_row + (len(numerical_features) % plots_per_row > 0)\n",
    "\n",
    "# Create subplots\n",
    "fig, axs = plt.subplots(num_rows, plots_per_row, figsize=(6 * plots_per_row, 5 * num_rows))\n",
    "\n",
    "# Flatten axs for easy iteration\n",
    "axs = axs.flatten()\n",
    "\n",
    "# Plot each numerical column against the target variable\n",
    "for i, column in enumerate(numerical_features):\n",
    "    sns.scatterplot(x=limited_numerical_data[column], y=limited_numerical_data[TARGET_NAME], ax=axs[i])\n",
    "    axs[i].set_title(f'{column} vs {TARGET_NAME}')\n",
    "\n",
    "fig.subplots_adjust(hspace=0.3, wspace=0.2)"
   ]
  },
  {
   "cell_type": "markdown",
   "metadata": {},
   "source": [
    "#### Correlation Matrix\n"
   ]
  },
  {
   "cell_type": "code",
   "execution_count": null,
   "metadata": {},
   "outputs": [],
   "source": [
    "correlation_matrix = numerical_data.corr()\n",
    "\n",
    "plt.figure(figsize=(10, 8))\n",
    "sns.heatmap(correlation_matrix, cmap='coolwarm', center=0)\n",
    "plt.title('Correlation Matrix of Numerical Features')\n",
    "plt.show()"
   ]
  },
  {
   "cell_type": "markdown",
   "metadata": {},
   "source": [
    "#### Observations:\n",
    "\n",
    "- All values related to energy are highly correlated to the target column SiteEnergyUse(kbtu). All those columns correspond to data that is obtained with the energy consumption statement. They can cause data leakage when used as features for the model\n",
    "\n",
    "- The column NumberOfBuildings has some zeros. For this column the value should be at least 1\n",
    "\n",
    "- The column NumberOfFloors also has zeros where its minimum value should be 1\n",
    "\n",
    "- The column NumberOfFloors\n",
    "\n",
    "- Some properties can already be classified as being unhelpful to the future model since they do not provide any relevant or quantifiable information about the building in itself: OSEBuildingID, DataYear, ZipCode, CouncilDistrictCode\n",
    "\n",
    "- Instead of using directly YearBuilt, we are going to transform it into an Age column to simplify its relationship to the target variable and avoid data leakage.\n",
    "\n",
    "- Since the site energy use is known, there is no need for having an absolute value for the consumption of Electricity, Steam or Gas. We are going to replace the corresponding columns with the ratio of the consumption of those types of energy on the total energy use.\n",
    "\n",
    "- In the same way, instead of using absolute values for the largest use types GPAs, we can use the ratios on the total GPA.\n"
   ]
  },
  {
   "cell_type": "markdown",
   "metadata": {},
   "source": [
    "### Categorical Features\n"
   ]
  },
  {
   "cell_type": "code",
   "execution_count": null,
   "metadata": {},
   "outputs": [],
   "source": [
    "categorical_features = data.select_dtypes(include=[\"object\", \"bool\"]).columns\n",
    "categorical_data = data[categorical_features]\n",
    "categorical_data[TARGET_NAME] = data[TARGET_NAME]\n",
    "logger.info(f\"Categorical features:\\n {sorted(categorical_features)}\\n\")"
   ]
  },
  {
   "cell_type": "code",
   "execution_count": null,
   "metadata": {},
   "outputs": [],
   "source": [
    "categorical_data.loc[:, categorical_features].describe()"
   ]
  },
  {
   "cell_type": "code",
   "execution_count": null,
   "metadata": {},
   "outputs": [],
   "source": [
    "categorical_data.loc[:, categorical_features].info()"
   ]
  },
  {
   "cell_type": "markdown",
   "metadata": {},
   "source": [
    "#### Box plots\n"
   ]
  },
  {
   "cell_type": "markdown",
   "metadata": {},
   "source": [
    "Before creating the box plots, some features can already be filtered out since they obviously do not provide any information relevant to energy use and they would make the visualization more difficult to analyze\n"
   ]
  },
  {
   "cell_type": "code",
   "execution_count": null,
   "metadata": {},
   "outputs": [],
   "source": [
    "categorical_features = list(filter(lambda x: x not in [\"TaxParcelIdentificationNumber\", \"PropertyName\", \"Address\", \"City\", \"State\", \"ListOfAllPropertyUseTypes\"], categorical_features))"
   ]
  },
  {
   "cell_type": "code",
   "execution_count": null,
   "metadata": {},
   "outputs": [],
   "source": [
    "categorical_features"
   ]
  },
  {
   "cell_type": "markdown",
   "metadata": {},
   "source": [
    "In the same manner as before, we are going to limit the data in order to have meaningful visualizations\n"
   ]
  },
  {
   "cell_type": "code",
   "execution_count": null,
   "metadata": {},
   "outputs": [],
   "source": [
    "len(set(data['LargestPropertyUseType'].unique()) - set(data['PrimaryPropertyType'].unique()))"
   ]
  },
  {
   "cell_type": "code",
   "execution_count": null,
   "metadata": {},
   "outputs": [],
   "source": [
    "data['PrimaryPropertyType'].unique()"
   ]
  },
  {
   "cell_type": "code",
   "execution_count": null,
   "metadata": {},
   "outputs": [],
   "source": [
    "data['LargestPropertyUseType'].unique()"
   ]
  },
  {
   "cell_type": "code",
   "execution_count": null,
   "metadata": {},
   "outputs": [],
   "source": [
    "lower_percentile = data[TARGET_NAME].quantile(0.05)\n",
    "upper_percentile = data[TARGET_NAME].quantile(0.95)\n",
    "\n",
    "limited_categorical_data = categorical_data[(categorical_data[TARGET_NAME] >= lower_percentile) & (categorical_data[TARGET_NAME] <= upper_percentile)]\n",
    "\n",
    "# Plot each categorical column against the target variable\n",
    "for i, column in enumerate(categorical_features):\n",
    "    fig = px.box(data_frame=limited_categorical_data, x=column, y=TARGET_NAME, title=f'{column} by {TARGET_NAME}')\n",
    "    fig.show()"
   ]
  },
  {
   "cell_type": "markdown",
   "metadata": {},
   "source": [
    "#### Observations\n",
    "\n",
    "- PrimaryPropertyType column contains data redundant to what's in LargestPropertyUseType. We will work only with the second one which contains a lot more classes. That could help the model make better choices.\n",
    "- The columns BuildingType, PrimaryPropertyType and the ones concerning the property use types seem to have an effect on the target column.\n",
    "- Some columns can already be classified as not providing valuable information for our problem: TaxParcelIdentificationNumber, PropertyName, Address, City and State\n",
    "- DefaultData, Outlier and ComplianceStatus do not really provide information that could be relevant to knowing the energy usage of a site. They will mostly help in order ot understand better the data at hand and clean it accordingly\n",
    "- ListOfAllPropertyUseTypes contains data that will be mostly redundant to what we have in LargestPropertyUseType, SecondLargestPropertyUseType and ThirdLargestPropertyUseType. There are very few buildings that have up to a third use, so we suppose that buildings that have 4 or more uses are even more rare. Since this column contains information redundant to other columns and does not provide more information than we have, we will not use it for our model.\n",
    "- YearsEnergyStarCertified cannot be used since it will cause data leakage. That information may not be known at the time of prediction.\n"
   ]
  },
  {
   "cell_type": "markdown",
   "metadata": {},
   "source": [
    "# Data Preparation\n"
   ]
  },
  {
   "cell_type": "markdown",
   "metadata": {},
   "source": [
    "## Handling Missing Values and Cleaning Data\n"
   ]
  },
  {
   "cell_type": "code",
   "execution_count": null,
   "metadata": {},
   "outputs": [],
   "source": [
    "data.isna().sum()"
   ]
  },
  {
   "cell_type": "markdown",
   "metadata": {},
   "source": [
    "We can populate some of the the missing information in some columns with simple strategies\n"
   ]
  },
  {
   "cell_type": "code",
   "execution_count": null,
   "metadata": {},
   "outputs": [],
   "source": [
    "# If there are no second and third property usage types, replace NaN with \"No Use\"\n",
    "data[['ThirdLargestPropertyUseType', 'SecondLargestPropertyUseType']] = data[['ThirdLargestPropertyUseType', 'SecondLargestPropertyUseType']].fillna('No Use')\n",
    "\n",
    "# If there are no second and third property usage types, replace GFA with 0\n",
    "data[['ThirdLargestPropertyUseTypeGFA', 'SecondLargestPropertyUseTypeGFA']] = data[['ThirdLargestPropertyUseTypeGFA', 'SecondLargestPropertyUseTypeGFA']].fillna(0, )\n",
    "\n",
    "# If LargestPropertyUseType is missing, replace with No Information\n",
    "data['LargestPropertyUseType'] = data['LargestPropertyUseType'].fillna('No information')"
   ]
  },
  {
   "cell_type": "code",
   "execution_count": null,
   "metadata": {},
   "outputs": [],
   "source": [
    "# If the row is neither a high or low outlier, replace missing value with 'normal'\n",
    "data['Outlier'].replace(np.nan,'normal', inplace=True)"
   ]
  },
  {
   "cell_type": "markdown",
   "metadata": {},
   "source": [
    "We are now going to drop the rows of the dataset marked as being non-compliant. When a record is indicated as such, it means that the information collected about it is erronous. We cannot feed that data to our model.\n"
   ]
  },
  {
   "cell_type": "code",
   "execution_count": null,
   "metadata": {},
   "outputs": [],
   "source": [
    "indexes_to_drop = data[data['ComplianceStatus'] == 'Non-Compliant'].index\n",
    "data.drop(indexes_to_drop, inplace=True, axis=0)"
   ]
  },
  {
   "cell_type": "code",
   "execution_count": null,
   "metadata": {},
   "outputs": [],
   "source": [
    "data.isna().sum()"
   ]
  },
  {
   "cell_type": "markdown",
   "metadata": {},
   "source": [
    "Next we can drop the rows for which we the compliance status indicate missing data. For those rows, the energy consumption is zero on the dataset.\n"
   ]
  },
  {
   "cell_type": "code",
   "execution_count": null,
   "metadata": {},
   "outputs": [],
   "source": [
    "indexes_to_drop = data[data['ComplianceStatus'] == 'Missing Data'].index\n",
    "data.drop(indexes_to_drop, inplace=True, axis=0)"
   ]
  },
  {
   "cell_type": "markdown",
   "metadata": {},
   "source": [
    "The are also other rows for which energy consumption is 0 or Nan. Some records indicate 0 electricity consumption or have a missing value for that column. They are going to be dropped from the dataset.\n"
   ]
  },
  {
   "cell_type": "code",
   "execution_count": null,
   "metadata": {},
   "outputs": [],
   "source": [
    "# Remaining records indicating no energy usage\n",
    "data[data[TARGET_NAME] == 0]"
   ]
  },
  {
   "cell_type": "code",
   "execution_count": null,
   "metadata": {},
   "outputs": [],
   "source": [
    "# Records indicating no electricity usage\n",
    "data[data['Electricity(kWh)'] == 0]"
   ]
  },
  {
   "cell_type": "code",
   "execution_count": null,
   "metadata": {},
   "outputs": [],
   "source": [
    "# Records having a missing value for electricity usage\n",
    "data[data['Electricity(kWh)'].isna()]"
   ]
  },
  {
   "cell_type": "code",
   "execution_count": null,
   "metadata": {},
   "outputs": [],
   "source": [
    "index_to_drop = data[(data[TARGET_NAME] == 0) | (data[TARGET_NAME].isna()) | (data['Electricity(kBtu)'] == 0) | (data['Electricity(kBtu)']).isna()].index\n",
    "print(index_to_drop)\n",
    "print(f'there are {len(index_to_drop)} samples with 0 energy consumption reported -> Drop')\n",
    "data.drop(index_to_drop, inplace=True, axis=0)"
   ]
  },
  {
   "cell_type": "code",
   "execution_count": null,
   "metadata": {},
   "outputs": [],
   "source": [
    "data.isna().sum()"
   ]
  },
  {
   "cell_type": "markdown",
   "metadata": {},
   "source": [
    "In this step, we are going to correct the apparent incoherences in the columns NumberOfFloors and NumberOfBuildings. As shown below, some records have values of 0 for them. We'll also replace the missing values for them.\n"
   ]
  },
  {
   "cell_type": "code",
   "execution_count": null,
   "metadata": {},
   "outputs": [],
   "source": [
    "# NumberOfFloors Value counts\n",
    "data[\"NumberofFloors\"].value_counts()"
   ]
  },
  {
   "cell_type": "code",
   "execution_count": null,
   "metadata": {},
   "outputs": [],
   "source": [
    "# NumberOfBuildings Value Counts\n",
    "data[\"NumberofBuildings\"].value_counts()"
   ]
  },
  {
   "cell_type": "code",
   "execution_count": null,
   "metadata": {},
   "outputs": [],
   "source": [
    "# Replace missing values and zeros in NumberOfFloors with the most representative value\n",
    "data['NumberofFloors'].replace(np.nan, 3, inplace=True)\n",
    "data['NumberofFloors'].replace(0, 3, inplace=True)"
   ]
  },
  {
   "cell_type": "code",
   "execution_count": null,
   "metadata": {},
   "outputs": [],
   "source": [
    "# Replace missing values and zeros in NumberOfBuildings with the most representative value\n",
    "data['NumberofBuildings'].replace(np.nan, 1, inplace=True)\n",
    "data['NumberofBuildings'].replace(0, 1, inplace=True)"
   ]
  },
  {
   "cell_type": "markdown",
   "metadata": {},
   "source": [
    "Since the building types present in the data are mostly for housing and offices, we can replace the missing values in LargestPropertyUseTypeGFA with the corresponding values of PropertyGFABuilding(s)\n"
   ]
  },
  {
   "cell_type": "code",
   "execution_count": null,
   "metadata": {},
   "outputs": [],
   "source": [
    "data[data['LargestPropertyUseTypeGFA'].isna()]"
   ]
  },
  {
   "cell_type": "code",
   "execution_count": null,
   "metadata": {},
   "outputs": [],
   "source": [
    "for index in range(len(data)):\n",
    "    if np.isnan(data.iloc[index]['LargestPropertyUseTypeGFA']):\n",
    "        data['LargestPropertyUseTypeGFA'].iloc[index] = data['PropertyGFABuilding(s)'].iloc[index]"
   ]
  },
  {
   "cell_type": "code",
   "execution_count": null,
   "metadata": {},
   "outputs": [],
   "source": [
    "data.isna().sum()"
   ]
  },
  {
   "cell_type": "markdown",
   "metadata": {},
   "source": [
    "### Removing Outliers\n"
   ]
  },
  {
   "cell_type": "markdown",
   "metadata": {},
   "source": [
    "In order to remove outliers, we are going to use the z-score. The information contained in the Outlier column will help us detect the false outliers from the true ones. Only records whose z_score for energy usage is more than 3 and not indicated as true outliers will be dropped.\n"
   ]
  },
  {
   "cell_type": "code",
   "execution_count": null,
   "metadata": {},
   "outputs": [],
   "source": [
    "target = data[TARGET_NAME]\n",
    "z_scores = np.abs((target - target.mean()) / target.std())"
   ]
  },
  {
   "cell_type": "code",
   "execution_count": null,
   "metadata": {},
   "outputs": [],
   "source": [
    "data = data[(z_scores < 3) & (data['Outlier'] == 'normal')]"
   ]
  },
  {
   "cell_type": "markdown",
   "metadata": {},
   "source": [
    "## Feature Engineering\n"
   ]
  },
  {
   "cell_type": "markdown",
   "metadata": {},
   "source": [
    "We are going to create new features based on the original ones.\n",
    "\n",
    "- Instead of working with YearBuilt, it will be more interesting to work with building's ages\n",
    "- We cannot use the different types of source energy consumption (Electricity, Gas and Steam) since they are linked to the target, but we can use the ratio of each type of energy.\n",
    "- In the same way, instead of using absolute values for PropertyGFAParking, PropertyGFABuilding(s), LargestPropertyUseTypeGFA, second and third, we can work with relative values.\n"
   ]
  },
  {
   "cell_type": "code",
   "execution_count": null,
   "metadata": {
    "trusted": true
   },
   "outputs": [],
   "source": [
    "# Changing YearBuilt column to Age Column with Age = 2016 - YearBuilt\n",
    "data[\"Age\"] = 2016 - data[\"YearBuilt\"]\n",
    "\n",
    "# Replace PropertyGFAParking, PropertyGFABuilding, LargestPropertyUseTypeGFA with values relative to PropertyGFATotal\n",
    "columns = [\"PropertyGFAParking\", \"PropertyGFABuilding(s)\", \"LargestPropertyUseTypeGFA\", \"SecondLargestPropertyUseTypeGFA\", \"ThirdLargestPropertyUseTypeGFA\"]\n",
    "for column in columns:\n",
    "    ratio_column = column + \"Ratio\"\n",
    "    data[ratio_column] = data[column]/data[\"PropertyGFATotal\"]\n",
    "    \n",
    "\n",
    "# Create columns for energy type proportion and replace absolute energy value with intensity (kBtu/sf)\n",
    "columns = [\"SteamUse(kBtu)\", \"Electricity(kBtu)\", \"NaturalGas(kBtu)\"]\n",
    "for column in columns:\n",
    "    # Calculating for each type of energy its ratio\n",
    "    ratio_column = column.replace(\"(kBtu)\", \"Ratio\")\n",
    "    data[ratio_column] = data[column]/data[\"SiteEnergyUse(kBtu)\"]"
   ]
  },
  {
   "cell_type": "markdown",
   "metadata": {},
   "source": [
    "## Remove irrelevant and redundant Data\n"
   ]
  },
  {
   "cell_type": "markdown",
   "metadata": {},
   "source": [
    "We are going to remove all the columns that we judged to be unhelpful for the model and redundant data. We will also remove the columns from which came the ones we created in the last step.\n"
   ]
  },
  {
   "cell_type": "code",
   "execution_count": null,
   "metadata": {},
   "outputs": [],
   "source": [
    "columns = [\"DataYear\", \"City\", \"State\", \"DefaultData\", \"OSEBuildingID\", \"PrimaryPropertyType\", \"YearsENERGYSTARCertified\", \n",
    "            \"Address\", \"CouncilDistrictCode\", \"PropertyName\", \"ComplianceStatus\", \"TaxParcelIdentificationNumber\",\n",
    "            \"ZipCode\", \"ENERGYSTARScore\", \"SiteEUI(kBtu/sf)\", \"SiteEUIWN(kBtu/sf)\", \"SourceEUI(kBtu/sf)\", \"SourceEUIWN(kBtu/sf)\", \n",
    "            \"SiteEnergyUseWN(kBtu)\", \"NaturalGas(therms)\", \"Electricity(kWh)\", \"TotalGHGEmissions\", \"ListOfAllPropertyUseTypes\",\n",
    "            \"SteamUse(kBtu)\", \"Electricity(kBtu)\", \"NaturalGas(kBtu)\", \"LargestPropertyUseTypeGFA\", \"SecondLargestPropertyUseTypeGFA\", \"ThirdLargestPropertyUseTypeGFA\",\n",
    "            \"GHGEmissionsIntensity\", \"PropertyGFAParking\", \"PropertyGFABuilding(s)\", \"YearBuilt\"]\n",
    "\n",
    "data = data.drop(columns, axis=1)"
   ]
  },
  {
   "cell_type": "code",
   "execution_count": null,
   "metadata": {},
   "outputs": [],
   "source": [
    "data.info()"
   ]
  },
  {
   "cell_type": "markdown",
   "metadata": {},
   "source": [
    "## Feature Selection\n"
   ]
  },
  {
   "cell_type": "markdown",
   "metadata": {},
   "source": [
    "We need to have SiteEnergyUse in log scale in order to have a normal distribution.\n"
   ]
  },
  {
   "cell_type": "code",
   "execution_count": null,
   "metadata": {},
   "outputs": [],
   "source": [
    "df = data.copy()\n",
    "df[\"SiteEnergyUse(kBtu)\"] = np.log(df[\"SiteEnergyUse(kBtu)\"])"
   ]
  },
  {
   "cell_type": "code",
   "execution_count": null,
   "metadata": {},
   "outputs": [],
   "source": [
    "pps_predictors = pps.predictors(df=df, y=\"SiteEnergyUse(kBtu)\", random_seed=MODEL_PARAMS[\"SEED\"])\n",
    "pps_predictors"
   ]
  },
  {
   "cell_type": "code",
   "execution_count": null,
   "metadata": {},
   "outputs": [],
   "source": [
    "# Check if there are invalid pps scores computed\n",
    "pps_predictors.is_valid_score.value_counts()"
   ]
  },
  {
   "cell_type": "code",
   "execution_count": null,
   "metadata": {},
   "outputs": [],
   "source": [
    "# Get features whose pps > MIN_PPS\n",
    "FEATURE_NAMES = pps_predictors.loc[pps_predictors.ppscore >= MODEL_PARAMS[\"MIN_PPS\"], \"x\"].values\n",
    "set(FEATURE_NAMES)"
   ]
  },
  {
   "cell_type": "markdown",
   "metadata": {},
   "source": [
    "# Modeling\n"
   ]
  },
  {
   "cell_type": "markdown",
   "metadata": {},
   "source": [
    "## Train/Test Split\n"
   ]
  },
  {
   "cell_type": "code",
   "execution_count": null,
   "metadata": {},
   "outputs": [],
   "source": [
    "FEATURES = list(FEATURE_NAMES)\n",
    "\n",
    "x_train, x_test, y_train, y_test = train_test_split(data.loc[:, FEATURES], data[TARGET_NAME], test_size=MODEL_PARAMS[\"TEST_SIZE\"], random_state=SEED)\n",
    "\n",
    "logger.info(f\"\\nX train: {x_train.shape}\\nY train: {y_train.shape}\\n\"\n",
    "            f\"X test: {x_test.shape}\\nY test: {y_test.shape}\")"
   ]
  },
  {
   "cell_type": "markdown",
   "metadata": {},
   "source": [
    "## Training\n"
   ]
  },
  {
   "cell_type": "code",
   "execution_count": null,
   "metadata": {},
   "outputs": [],
   "source": [
    "df = x_train.copy()\n",
    "df[TARGET_NAME] = np.log(y_train)"
   ]
  },
  {
   "cell_type": "code",
   "execution_count": 94,
   "metadata": {},
   "outputs": [
    {
     "data": {
      "text/html": [
       "<style type=\"text/css\">\n",
       "#T_9bb85_row9_col1 {\n",
       "  background-color: lightgreen;\n",
       "}\n",
       "</style>\n",
       "<table id=\"T_9bb85\">\n",
       "  <thead>\n",
       "    <tr>\n",
       "      <th class=\"blank level0\" >&nbsp;</th>\n",
       "      <th id=\"T_9bb85_level0_col0\" class=\"col_heading level0 col0\" >Description</th>\n",
       "      <th id=\"T_9bb85_level0_col1\" class=\"col_heading level0 col1\" >Value</th>\n",
       "    </tr>\n",
       "  </thead>\n",
       "  <tbody>\n",
       "    <tr>\n",
       "      <th id=\"T_9bb85_level0_row0\" class=\"row_heading level0 row0\" >0</th>\n",
       "      <td id=\"T_9bb85_row0_col0\" class=\"data row0 col0\" >Session id</td>\n",
       "      <td id=\"T_9bb85_row0_col1\" class=\"data row0 col1\" >621</td>\n",
       "    </tr>\n",
       "    <tr>\n",
       "      <th id=\"T_9bb85_level0_row1\" class=\"row_heading level0 row1\" >1</th>\n",
       "      <td id=\"T_9bb85_row1_col0\" class=\"data row1 col0\" >Target</td>\n",
       "      <td id=\"T_9bb85_row1_col1\" class=\"data row1 col1\" >SiteEnergyUse(kBtu)</td>\n",
       "    </tr>\n",
       "    <tr>\n",
       "      <th id=\"T_9bb85_level0_row2\" class=\"row_heading level0 row2\" >2</th>\n",
       "      <td id=\"T_9bb85_row2_col0\" class=\"data row2 col0\" >Target type</td>\n",
       "      <td id=\"T_9bb85_row2_col1\" class=\"data row2 col1\" >Regression</td>\n",
       "    </tr>\n",
       "    <tr>\n",
       "      <th id=\"T_9bb85_level0_row3\" class=\"row_heading level0 row3\" >3</th>\n",
       "      <td id=\"T_9bb85_row3_col0\" class=\"data row3 col0\" >Original data shape</td>\n",
       "      <td id=\"T_9bb85_row3_col1\" class=\"data row3 col1\" >(5205, 7)</td>\n",
       "    </tr>\n",
       "    <tr>\n",
       "      <th id=\"T_9bb85_level0_row4\" class=\"row_heading level0 row4\" >4</th>\n",
       "      <td id=\"T_9bb85_row4_col0\" class=\"data row4 col0\" >Transformed data shape</td>\n",
       "      <td id=\"T_9bb85_row4_col1\" class=\"data row4 col1\" >(5205, 44)</td>\n",
       "    </tr>\n",
       "    <tr>\n",
       "      <th id=\"T_9bb85_level0_row5\" class=\"row_heading level0 row5\" >5</th>\n",
       "      <td id=\"T_9bb85_row5_col0\" class=\"data row5 col0\" >Transformed train set shape</td>\n",
       "      <td id=\"T_9bb85_row5_col1\" class=\"data row5 col1\" >(4164, 44)</td>\n",
       "    </tr>\n",
       "    <tr>\n",
       "      <th id=\"T_9bb85_level0_row6\" class=\"row_heading level0 row6\" >6</th>\n",
       "      <td id=\"T_9bb85_row6_col0\" class=\"data row6 col0\" >Transformed test set shape</td>\n",
       "      <td id=\"T_9bb85_row6_col1\" class=\"data row6 col1\" >(1041, 44)</td>\n",
       "    </tr>\n",
       "    <tr>\n",
       "      <th id=\"T_9bb85_level0_row7\" class=\"row_heading level0 row7\" >7</th>\n",
       "      <td id=\"T_9bb85_row7_col0\" class=\"data row7 col0\" >Numeric features</td>\n",
       "      <td id=\"T_9bb85_row7_col1\" class=\"data row7 col1\" >4</td>\n",
       "    </tr>\n",
       "    <tr>\n",
       "      <th id=\"T_9bb85_level0_row8\" class=\"row_heading level0 row8\" >8</th>\n",
       "      <td id=\"T_9bb85_row8_col0\" class=\"data row8 col0\" >Categorical features</td>\n",
       "      <td id=\"T_9bb85_row8_col1\" class=\"data row8 col1\" >2</td>\n",
       "    </tr>\n",
       "    <tr>\n",
       "      <th id=\"T_9bb85_level0_row9\" class=\"row_heading level0 row9\" >9</th>\n",
       "      <td id=\"T_9bb85_row9_col0\" class=\"data row9 col0\" >Preprocess</td>\n",
       "      <td id=\"T_9bb85_row9_col1\" class=\"data row9 col1\" >True</td>\n",
       "    </tr>\n",
       "    <tr>\n",
       "      <th id=\"T_9bb85_level0_row10\" class=\"row_heading level0 row10\" >10</th>\n",
       "      <td id=\"T_9bb85_row10_col0\" class=\"data row10 col0\" >Imputation type</td>\n",
       "      <td id=\"T_9bb85_row10_col1\" class=\"data row10 col1\" >simple</td>\n",
       "    </tr>\n",
       "    <tr>\n",
       "      <th id=\"T_9bb85_level0_row11\" class=\"row_heading level0 row11\" >11</th>\n",
       "      <td id=\"T_9bb85_row11_col0\" class=\"data row11 col0\" >Numeric imputation</td>\n",
       "      <td id=\"T_9bb85_row11_col1\" class=\"data row11 col1\" >mean</td>\n",
       "    </tr>\n",
       "    <tr>\n",
       "      <th id=\"T_9bb85_level0_row12\" class=\"row_heading level0 row12\" >12</th>\n",
       "      <td id=\"T_9bb85_row12_col0\" class=\"data row12 col0\" >Categorical imputation</td>\n",
       "      <td id=\"T_9bb85_row12_col1\" class=\"data row12 col1\" >mode</td>\n",
       "    </tr>\n",
       "    <tr>\n",
       "      <th id=\"T_9bb85_level0_row13\" class=\"row_heading level0 row13\" >13</th>\n",
       "      <td id=\"T_9bb85_row13_col0\" class=\"data row13 col0\" >Maximum one-hot encoding</td>\n",
       "      <td id=\"T_9bb85_row13_col1\" class=\"data row13 col1\" >200</td>\n",
       "    </tr>\n",
       "    <tr>\n",
       "      <th id=\"T_9bb85_level0_row14\" class=\"row_heading level0 row14\" >14</th>\n",
       "      <td id=\"T_9bb85_row14_col0\" class=\"data row14 col0\" >Encoding method</td>\n",
       "      <td id=\"T_9bb85_row14_col1\" class=\"data row14 col1\" >None</td>\n",
       "    </tr>\n",
       "    <tr>\n",
       "      <th id=\"T_9bb85_level0_row15\" class=\"row_heading level0 row15\" >15</th>\n",
       "      <td id=\"T_9bb85_row15_col0\" class=\"data row15 col0\" >Fold Generator</td>\n",
       "      <td id=\"T_9bb85_row15_col1\" class=\"data row15 col1\" >KFold</td>\n",
       "    </tr>\n",
       "    <tr>\n",
       "      <th id=\"T_9bb85_level0_row16\" class=\"row_heading level0 row16\" >16</th>\n",
       "      <td id=\"T_9bb85_row16_col0\" class=\"data row16 col0\" >Fold Number</td>\n",
       "      <td id=\"T_9bb85_row16_col1\" class=\"data row16 col1\" >10</td>\n",
       "    </tr>\n",
       "    <tr>\n",
       "      <th id=\"T_9bb85_level0_row17\" class=\"row_heading level0 row17\" >17</th>\n",
       "      <td id=\"T_9bb85_row17_col0\" class=\"data row17 col0\" >CPU Jobs</td>\n",
       "      <td id=\"T_9bb85_row17_col1\" class=\"data row17 col1\" >-1</td>\n",
       "    </tr>\n",
       "    <tr>\n",
       "      <th id=\"T_9bb85_level0_row18\" class=\"row_heading level0 row18\" >18</th>\n",
       "      <td id=\"T_9bb85_row18_col0\" class=\"data row18 col0\" >Use GPU</td>\n",
       "      <td id=\"T_9bb85_row18_col1\" class=\"data row18 col1\" >False</td>\n",
       "    </tr>\n",
       "    <tr>\n",
       "      <th id=\"T_9bb85_level0_row19\" class=\"row_heading level0 row19\" >19</th>\n",
       "      <td id=\"T_9bb85_row19_col0\" class=\"data row19 col0\" >Log Experiment</td>\n",
       "      <td id=\"T_9bb85_row19_col1\" class=\"data row19 col1\" >MlflowLogger</td>\n",
       "    </tr>\n",
       "    <tr>\n",
       "      <th id=\"T_9bb85_level0_row20\" class=\"row_heading level0 row20\" >20</th>\n",
       "      <td id=\"T_9bb85_row20_col0\" class=\"data row20 col0\" >Experiment Name</td>\n",
       "      <td id=\"T_9bb85_row20_col1\" class=\"data row20 col1\" >building-energy-prediction-training</td>\n",
       "    </tr>\n",
       "    <tr>\n",
       "      <th id=\"T_9bb85_level0_row21\" class=\"row_heading level0 row21\" >21</th>\n",
       "      <td id=\"T_9bb85_row21_col0\" class=\"data row21 col0\" >USI</td>\n",
       "      <td id=\"T_9bb85_row21_col1\" class=\"data row21 col1\" >121e</td>\n",
       "    </tr>\n",
       "  </tbody>\n",
       "</table>\n"
      ],
      "text/plain": [
       "<pandas.io.formats.style.Styler at 0x331ab8580>"
      ]
     },
     "metadata": {},
     "output_type": "display_data"
    },
    {
     "name": "stderr",
     "output_type": "stream",
     "text": [
      "2024/08/04 18:18:27 INFO mlflow.tracking._tracking_service.client: 🏃 View run Session Initialized 605d at: http://localhost:8080/#/experiments/861360391147313407/runs/1f3918924bed479a869b185436c857f6.\n",
      "2024/08/04 18:18:27 INFO mlflow.tracking._tracking_service.client: 🧪 View experiment at: http://localhost:8080/#/experiments/861360391147313407.\n"
     ]
    }
   ],
   "source": [
    "exp_reg = regression.setup(df, target=TARGET_NAME, max_encoding_ohe=200, log_experiment=True, experiment_name=\"building-energy-prediction-training\", train_size=0.8)\n",
    "regression.set_config('seed', SEED)\n",
    "regression.remove_metric('MAPE')\n",
    "regression.remove_metric('MSE')\n",
    "regression.remove_metric('RMSLE')"
   ]
  },
  {
   "cell_type": "code",
   "execution_count": 95,
   "metadata": {},
   "outputs": [
    {
     "data": {
      "text/html": [],
      "text/plain": [
       "<IPython.core.display.HTML object>"
      ]
     },
     "metadata": {},
     "output_type": "display_data"
    },
    {
     "data": {
      "text/html": [
       "<style type=\"text/css\">\n",
       "#T_247f4 th {\n",
       "  text-align: left;\n",
       "}\n",
       "#T_247f4_row0_col0, #T_247f4_row0_col1, #T_247f4_row1_col0, #T_247f4_row1_col2, #T_247f4_row1_col3, #T_247f4_row2_col0, #T_247f4_row2_col1, #T_247f4_row2_col2, #T_247f4_row2_col3, #T_247f4_row3_col0, #T_247f4_row3_col1, #T_247f4_row3_col2, #T_247f4_row3_col3, #T_247f4_row4_col0, #T_247f4_row4_col1, #T_247f4_row4_col2, #T_247f4_row4_col3, #T_247f4_row5_col0, #T_247f4_row5_col1, #T_247f4_row5_col2, #T_247f4_row5_col3, #T_247f4_row6_col0, #T_247f4_row6_col1, #T_247f4_row6_col2, #T_247f4_row6_col3, #T_247f4_row7_col0, #T_247f4_row7_col1, #T_247f4_row7_col2, #T_247f4_row7_col3, #T_247f4_row8_col0, #T_247f4_row8_col1, #T_247f4_row8_col2, #T_247f4_row8_col3, #T_247f4_row9_col0, #T_247f4_row9_col1, #T_247f4_row9_col2, #T_247f4_row9_col3, #T_247f4_row10_col0, #T_247f4_row10_col1, #T_247f4_row10_col2, #T_247f4_row10_col3, #T_247f4_row11_col0, #T_247f4_row11_col1, #T_247f4_row11_col2, #T_247f4_row11_col3, #T_247f4_row12_col0, #T_247f4_row12_col1, #T_247f4_row12_col2, #T_247f4_row12_col3, #T_247f4_row13_col0, #T_247f4_row13_col1, #T_247f4_row13_col2, #T_247f4_row13_col3, #T_247f4_row14_col0, #T_247f4_row14_col1, #T_247f4_row14_col2, #T_247f4_row14_col3, #T_247f4_row15_col0, #T_247f4_row15_col1, #T_247f4_row15_col2, #T_247f4_row15_col3, #T_247f4_row16_col0, #T_247f4_row16_col1, #T_247f4_row16_col2, #T_247f4_row16_col3, #T_247f4_row17_col0, #T_247f4_row17_col1, #T_247f4_row17_col2, #T_247f4_row17_col3 {\n",
       "  text-align: left;\n",
       "}\n",
       "#T_247f4_row0_col2, #T_247f4_row0_col3, #T_247f4_row1_col1 {\n",
       "  text-align: left;\n",
       "  background-color: yellow;\n",
       "}\n",
       "#T_247f4_row0_col4, #T_247f4_row1_col4, #T_247f4_row2_col4, #T_247f4_row3_col4, #T_247f4_row4_col4, #T_247f4_row5_col4, #T_247f4_row6_col4, #T_247f4_row7_col4, #T_247f4_row8_col4, #T_247f4_row9_col4, #T_247f4_row11_col4, #T_247f4_row12_col4, #T_247f4_row13_col4, #T_247f4_row14_col4, #T_247f4_row15_col4, #T_247f4_row17_col4 {\n",
       "  text-align: left;\n",
       "  background-color: lightgrey;\n",
       "}\n",
       "#T_247f4_row10_col4, #T_247f4_row16_col4 {\n",
       "  text-align: left;\n",
       "  background-color: yellow;\n",
       "  background-color: lightgrey;\n",
       "}\n",
       "</style>\n",
       "<table id=\"T_247f4\">\n",
       "  <thead>\n",
       "    <tr>\n",
       "      <th class=\"blank level0\" >&nbsp;</th>\n",
       "      <th id=\"T_247f4_level0_col0\" class=\"col_heading level0 col0\" >Model</th>\n",
       "      <th id=\"T_247f4_level0_col1\" class=\"col_heading level0 col1\" >MAE</th>\n",
       "      <th id=\"T_247f4_level0_col2\" class=\"col_heading level0 col2\" >RMSE</th>\n",
       "      <th id=\"T_247f4_level0_col3\" class=\"col_heading level0 col3\" >R2</th>\n",
       "      <th id=\"T_247f4_level0_col4\" class=\"col_heading level0 col4\" >TT (Sec)</th>\n",
       "    </tr>\n",
       "  </thead>\n",
       "  <tbody>\n",
       "    <tr>\n",
       "      <th id=\"T_247f4_level0_row0\" class=\"row_heading level0 row0\" >rf</th>\n",
       "      <td id=\"T_247f4_row0_col0\" class=\"data row0 col0\" >Random Forest Regressor</td>\n",
       "      <td id=\"T_247f4_row0_col1\" class=\"data row0 col1\" >0.3013</td>\n",
       "      <td id=\"T_247f4_row0_col2\" class=\"data row0 col2\" >0.4683</td>\n",
       "      <td id=\"T_247f4_row0_col3\" class=\"data row0 col3\" >0.8096</td>\n",
       "      <td id=\"T_247f4_row0_col4\" class=\"data row0 col4\" >0.4130</td>\n",
       "    </tr>\n",
       "    <tr>\n",
       "      <th id=\"T_247f4_level0_row1\" class=\"row_heading level0 row1\" >et</th>\n",
       "      <td id=\"T_247f4_row1_col0\" class=\"data row1 col0\" >Extra Trees Regressor</td>\n",
       "      <td id=\"T_247f4_row1_col1\" class=\"data row1 col1\" >0.2777</td>\n",
       "      <td id=\"T_247f4_row1_col2\" class=\"data row1 col2\" >0.4777</td>\n",
       "      <td id=\"T_247f4_row1_col3\" class=\"data row1 col3\" >0.8014</td>\n",
       "      <td id=\"T_247f4_row1_col4\" class=\"data row1 col4\" >0.3300</td>\n",
       "    </tr>\n",
       "    <tr>\n",
       "      <th id=\"T_247f4_level0_row2\" class=\"row_heading level0 row2\" >xgboost</th>\n",
       "      <td id=\"T_247f4_row2_col0\" class=\"data row2 col0\" >Extreme Gradient Boosting</td>\n",
       "      <td id=\"T_247f4_row2_col1\" class=\"data row2 col1\" >0.3296</td>\n",
       "      <td id=\"T_247f4_row2_col2\" class=\"data row2 col2\" >0.4865</td>\n",
       "      <td id=\"T_247f4_row2_col3\" class=\"data row2 col3\" >0.7944</td>\n",
       "      <td id=\"T_247f4_row2_col4\" class=\"data row2 col4\" >0.3660</td>\n",
       "    </tr>\n",
       "    <tr>\n",
       "      <th id=\"T_247f4_level0_row3\" class=\"row_heading level0 row3\" >gbr</th>\n",
       "      <td id=\"T_247f4_row3_col0\" class=\"data row3 col0\" >Gradient Boosting Regressor</td>\n",
       "      <td id=\"T_247f4_row3_col1\" class=\"data row3 col1\" >0.3831</td>\n",
       "      <td id=\"T_247f4_row3_col2\" class=\"data row3 col2\" >0.5318</td>\n",
       "      <td id=\"T_247f4_row3_col3\" class=\"data row3 col3\" >0.7548</td>\n",
       "      <td id=\"T_247f4_row3_col4\" class=\"data row3 col4\" >0.1960</td>\n",
       "    </tr>\n",
       "    <tr>\n",
       "      <th id=\"T_247f4_level0_row4\" class=\"row_heading level0 row4\" >dt</th>\n",
       "      <td id=\"T_247f4_row4_col0\" class=\"data row4 col0\" >Decision Tree Regressor</td>\n",
       "      <td id=\"T_247f4_row4_col1\" class=\"data row4 col1\" >0.3328</td>\n",
       "      <td id=\"T_247f4_row4_col2\" class=\"data row4 col2\" >0.5841</td>\n",
       "      <td id=\"T_247f4_row4_col3\" class=\"data row4 col3\" >0.7027</td>\n",
       "      <td id=\"T_247f4_row4_col4\" class=\"data row4 col4\" >0.0270</td>\n",
       "    </tr>\n",
       "    <tr>\n",
       "      <th id=\"T_247f4_level0_row5\" class=\"row_heading level0 row5\" >ada</th>\n",
       "      <td id=\"T_247f4_row5_col0\" class=\"data row5 col0\" >AdaBoost Regressor</td>\n",
       "      <td id=\"T_247f4_row5_col1\" class=\"data row5 col1\" >0.4999</td>\n",
       "      <td id=\"T_247f4_row5_col2\" class=\"data row5 col2\" >0.6669</td>\n",
       "      <td id=\"T_247f4_row5_col3\" class=\"data row5 col3\" >0.6155</td>\n",
       "      <td id=\"T_247f4_row5_col4\" class=\"data row5 col4\" >0.1120</td>\n",
       "    </tr>\n",
       "    <tr>\n",
       "      <th id=\"T_247f4_level0_row6\" class=\"row_heading level0 row6\" >ridge</th>\n",
       "      <td id=\"T_247f4_row6_col0\" class=\"data row6 col0\" >Ridge Regression</td>\n",
       "      <td id=\"T_247f4_row6_col1\" class=\"data row6 col1\" >0.5070</td>\n",
       "      <td id=\"T_247f4_row6_col2\" class=\"data row6 col2\" >0.6757</td>\n",
       "      <td id=\"T_247f4_row6_col3\" class=\"data row6 col3\" >0.6053</td>\n",
       "      <td id=\"T_247f4_row6_col4\" class=\"data row6 col4\" >0.0240</td>\n",
       "    </tr>\n",
       "    <tr>\n",
       "      <th id=\"T_247f4_level0_row7\" class=\"row_heading level0 row7\" >br</th>\n",
       "      <td id=\"T_247f4_row7_col0\" class=\"data row7 col0\" >Bayesian Ridge</td>\n",
       "      <td id=\"T_247f4_row7_col1\" class=\"data row7 col1\" >0.5071</td>\n",
       "      <td id=\"T_247f4_row7_col2\" class=\"data row7 col2\" >0.6758</td>\n",
       "      <td id=\"T_247f4_row7_col3\" class=\"data row7 col3\" >0.6052</td>\n",
       "      <td id=\"T_247f4_row7_col4\" class=\"data row7 col4\" >0.0220</td>\n",
       "    </tr>\n",
       "    <tr>\n",
       "      <th id=\"T_247f4_level0_row8\" class=\"row_heading level0 row8\" >lr</th>\n",
       "      <td id=\"T_247f4_row8_col0\" class=\"data row8 col0\" >Linear Regression</td>\n",
       "      <td id=\"T_247f4_row8_col1\" class=\"data row8 col1\" >0.5073</td>\n",
       "      <td id=\"T_247f4_row8_col2\" class=\"data row8 col2\" >0.6761</td>\n",
       "      <td id=\"T_247f4_row8_col3\" class=\"data row8 col3\" >0.6048</td>\n",
       "      <td id=\"T_247f4_row8_col4\" class=\"data row8 col4\" >0.7230</td>\n",
       "    </tr>\n",
       "    <tr>\n",
       "      <th id=\"T_247f4_level0_row9\" class=\"row_heading level0 row9\" >knn</th>\n",
       "      <td id=\"T_247f4_row9_col0\" class=\"data row9 col0\" >K Neighbors Regressor</td>\n",
       "      <td id=\"T_247f4_row9_col1\" class=\"data row9 col1\" >0.5069</td>\n",
       "      <td id=\"T_247f4_row9_col2\" class=\"data row9 col2\" >0.6781</td>\n",
       "      <td id=\"T_247f4_row9_col3\" class=\"data row9 col3\" >0.6019</td>\n",
       "      <td id=\"T_247f4_row9_col4\" class=\"data row9 col4\" >0.0540</td>\n",
       "    </tr>\n",
       "    <tr>\n",
       "      <th id=\"T_247f4_level0_row10\" class=\"row_heading level0 row10\" >omp</th>\n",
       "      <td id=\"T_247f4_row10_col0\" class=\"data row10 col0\" >Orthogonal Matching Pursuit</td>\n",
       "      <td id=\"T_247f4_row10_col1\" class=\"data row10 col1\" >0.5739</td>\n",
       "      <td id=\"T_247f4_row10_col2\" class=\"data row10 col2\" >0.7735</td>\n",
       "      <td id=\"T_247f4_row10_col3\" class=\"data row10 col3\" >0.4829</td>\n",
       "      <td id=\"T_247f4_row10_col4\" class=\"data row10 col4\" >0.0200</td>\n",
       "    </tr>\n",
       "    <tr>\n",
       "      <th id=\"T_247f4_level0_row11\" class=\"row_heading level0 row11\" >lasso</th>\n",
       "      <td id=\"T_247f4_row11_col0\" class=\"data row11 col0\" >Lasso Regression</td>\n",
       "      <td id=\"T_247f4_row11_col1\" class=\"data row11 col1\" >0.6323</td>\n",
       "      <td id=\"T_247f4_row11_col2\" class=\"data row11 col2\" >0.8282</td>\n",
       "      <td id=\"T_247f4_row11_col3\" class=\"data row11 col3\" >0.4072</td>\n",
       "      <td id=\"T_247f4_row11_col4\" class=\"data row11 col4\" >0.0450</td>\n",
       "    </tr>\n",
       "    <tr>\n",
       "      <th id=\"T_247f4_level0_row12\" class=\"row_heading level0 row12\" >en</th>\n",
       "      <td id=\"T_247f4_row12_col0\" class=\"data row12 col0\" >Elastic Net</td>\n",
       "      <td id=\"T_247f4_row12_col1\" class=\"data row12 col1\" >0.6323</td>\n",
       "      <td id=\"T_247f4_row12_col2\" class=\"data row12 col2\" >0.8282</td>\n",
       "      <td id=\"T_247f4_row12_col3\" class=\"data row12 col3\" >0.4072</td>\n",
       "      <td id=\"T_247f4_row12_col4\" class=\"data row12 col4\" >0.0210</td>\n",
       "    </tr>\n",
       "    <tr>\n",
       "      <th id=\"T_247f4_level0_row13\" class=\"row_heading level0 row13\" >llar</th>\n",
       "      <td id=\"T_247f4_row13_col0\" class=\"data row13 col0\" >Lasso Least Angle Regression</td>\n",
       "      <td id=\"T_247f4_row13_col1\" class=\"data row13 col1\" >0.6323</td>\n",
       "      <td id=\"T_247f4_row13_col2\" class=\"data row13 col2\" >0.8282</td>\n",
       "      <td id=\"T_247f4_row13_col3\" class=\"data row13 col3\" >0.4072</td>\n",
       "      <td id=\"T_247f4_row13_col4\" class=\"data row13 col4\" >0.0210</td>\n",
       "    </tr>\n",
       "    <tr>\n",
       "      <th id=\"T_247f4_level0_row14\" class=\"row_heading level0 row14\" >dummy</th>\n",
       "      <td id=\"T_247f4_row14_col0\" class=\"data row14 col0\" >Dummy Regressor</td>\n",
       "      <td id=\"T_247f4_row14_col1\" class=\"data row14 col1\" >0.8596</td>\n",
       "      <td id=\"T_247f4_row14_col2\" class=\"data row14 col2\" >1.0772</td>\n",
       "      <td id=\"T_247f4_row14_col3\" class=\"data row14 col3\" >-0.0028</td>\n",
       "      <td id=\"T_247f4_row14_col4\" class=\"data row14 col4\" >0.0360</td>\n",
       "    </tr>\n",
       "    <tr>\n",
       "      <th id=\"T_247f4_level0_row15\" class=\"row_heading level0 row15\" >huber</th>\n",
       "      <td id=\"T_247f4_row15_col0\" class=\"data row15 col0\" >Huber Regressor</td>\n",
       "      <td id=\"T_247f4_row15_col1\" class=\"data row15 col1\" >7.4817</td>\n",
       "      <td id=\"T_247f4_row15_col2\" class=\"data row15 col2\" >12.0428</td>\n",
       "      <td id=\"T_247f4_row15_col3\" class=\"data row15 col3\" >-128.4988</td>\n",
       "      <td id=\"T_247f4_row15_col4\" class=\"data row15 col4\" >0.0310</td>\n",
       "    </tr>\n",
       "    <tr>\n",
       "      <th id=\"T_247f4_level0_row16\" class=\"row_heading level0 row16\" >par</th>\n",
       "      <td id=\"T_247f4_row16_col0\" class=\"data row16 col0\" >Passive Aggressive Regressor</td>\n",
       "      <td id=\"T_247f4_row16_col1\" class=\"data row16 col1\" >19.4857</td>\n",
       "      <td id=\"T_247f4_row16_col2\" class=\"data row16 col2\" >38.6724</td>\n",
       "      <td id=\"T_247f4_row16_col3\" class=\"data row16 col3\" >-2169.3977</td>\n",
       "      <td id=\"T_247f4_row16_col4\" class=\"data row16 col4\" >0.0200</td>\n",
       "    </tr>\n",
       "    <tr>\n",
       "      <th id=\"T_247f4_level0_row17\" class=\"row_heading level0 row17\" >lar</th>\n",
       "      <td id=\"T_247f4_row17_col0\" class=\"data row17 col0\" >Least Angle Regression</td>\n",
       "      <td id=\"T_247f4_row17_col1\" class=\"data row17 col1\" >825787567493099.7500</td>\n",
       "      <td id=\"T_247f4_row17_col2\" class=\"data row17 col2\" >16842827682894342.0000</td>\n",
       "      <td id=\"T_247f4_row17_col3\" class=\"data row17 col3\" >-2500441038022544172292856210259968.0000</td>\n",
       "      <td id=\"T_247f4_row17_col4\" class=\"data row17 col4\" >0.0240</td>\n",
       "    </tr>\n",
       "  </tbody>\n",
       "</table>\n"
      ],
      "text/plain": [
       "<pandas.io.formats.style.Styler at 0x31a0a63b0>"
      ]
     },
     "metadata": {},
     "output_type": "display_data"
    },
    {
     "data": {
      "text/html": [],
      "text/plain": [
       "<IPython.core.display.HTML object>"
      ]
     },
     "metadata": {},
     "output_type": "display_data"
    },
    {
     "name": "stderr",
     "output_type": "stream",
     "text": [
      "2024/08/04 18:19:17 WARNING mlflow.models.model: Input example should be provided to infer model signature if the model signature is not provided when logging the model.\n",
      "2024/08/04 18:19:17 INFO mlflow.tracking._tracking_service.client: 🏃 View run Random Forest Regressor at: http://localhost:8080/#/experiments/861360391147313407/runs/cac7bce5fdf54f45a739918bb21c7313.\n",
      "2024/08/04 18:19:17 INFO mlflow.tracking._tracking_service.client: 🧪 View experiment at: http://localhost:8080/#/experiments/861360391147313407.\n",
      "2024/08/04 18:19:19 WARNING mlflow.models.model: Input example should be provided to infer model signature if the model signature is not provided when logging the model.\n",
      "2024/08/04 18:19:19 INFO mlflow.tracking._tracking_service.client: 🏃 View run Extra Trees Regressor at: http://localhost:8080/#/experiments/861360391147313407/runs/fccebc686e0840fea2ebfa04ccdd7b90.\n",
      "2024/08/04 18:19:19 INFO mlflow.tracking._tracking_service.client: 🧪 View experiment at: http://localhost:8080/#/experiments/861360391147313407.\n",
      "2024/08/04 18:19:21 WARNING mlflow.models.model: Input example should be provided to infer model signature if the model signature is not provided when logging the model.\n",
      "2024/08/04 18:19:21 INFO mlflow.tracking._tracking_service.client: 🏃 View run Extreme Gradient Boosting at: http://localhost:8080/#/experiments/861360391147313407/runs/ab80c8f597544c82bff595b477e04acf.\n",
      "2024/08/04 18:19:21 INFO mlflow.tracking._tracking_service.client: 🧪 View experiment at: http://localhost:8080/#/experiments/861360391147313407.\n",
      "2024/08/04 18:19:22 WARNING mlflow.models.model: Input example should be provided to infer model signature if the model signature is not provided when logging the model.\n",
      "2024/08/04 18:19:22 INFO mlflow.tracking._tracking_service.client: 🏃 View run Gradient Boosting Regressor at: http://localhost:8080/#/experiments/861360391147313407/runs/1242067c458d4b029c1d5dedff8003aa.\n",
      "2024/08/04 18:19:22 INFO mlflow.tracking._tracking_service.client: 🧪 View experiment at: http://localhost:8080/#/experiments/861360391147313407.\n",
      "2024/08/04 18:19:23 WARNING mlflow.models.model: Input example should be provided to infer model signature if the model signature is not provided when logging the model.\n",
      "2024/08/04 18:19:23 INFO mlflow.tracking._tracking_service.client: 🏃 View run Decision Tree Regressor at: http://localhost:8080/#/experiments/861360391147313407/runs/761e2baf6a964e35b6a59fc26208c2bd.\n",
      "2024/08/04 18:19:23 INFO mlflow.tracking._tracking_service.client: 🧪 View experiment at: http://localhost:8080/#/experiments/861360391147313407.\n",
      "2024/08/04 18:19:24 WARNING mlflow.models.model: Input example should be provided to infer model signature if the model signature is not provided when logging the model.\n",
      "2024/08/04 18:19:24 INFO mlflow.tracking._tracking_service.client: 🏃 View run AdaBoost Regressor at: http://localhost:8080/#/experiments/861360391147313407/runs/e73316ccc7c84744b9f3f189bd31fd1b.\n",
      "2024/08/04 18:19:24 INFO mlflow.tracking._tracking_service.client: 🧪 View experiment at: http://localhost:8080/#/experiments/861360391147313407.\n",
      "2024/08/04 18:19:24 WARNING mlflow.models.model: Input example should be provided to infer model signature if the model signature is not provided when logging the model.\n",
      "2024/08/04 18:19:24 INFO mlflow.tracking._tracking_service.client: 🏃 View run Ridge Regression at: http://localhost:8080/#/experiments/861360391147313407/runs/f8437d529b544e3795a0419ff1e8d207.\n",
      "2024/08/04 18:19:24 INFO mlflow.tracking._tracking_service.client: 🧪 View experiment at: http://localhost:8080/#/experiments/861360391147313407.\n",
      "2024/08/04 18:19:25 WARNING mlflow.models.model: Input example should be provided to infer model signature if the model signature is not provided when logging the model.\n",
      "2024/08/04 18:19:25 INFO mlflow.tracking._tracking_service.client: 🏃 View run Bayesian Ridge at: http://localhost:8080/#/experiments/861360391147313407/runs/95bc5fbdf1e84c109113a52c67056cda.\n",
      "2024/08/04 18:19:25 INFO mlflow.tracking._tracking_service.client: 🧪 View experiment at: http://localhost:8080/#/experiments/861360391147313407.\n",
      "2024/08/04 18:19:25 WARNING mlflow.models.model: Input example should be provided to infer model signature if the model signature is not provided when logging the model.\n",
      "2024/08/04 18:19:25 INFO mlflow.tracking._tracking_service.client: 🏃 View run Linear Regression at: http://localhost:8080/#/experiments/861360391147313407/runs/8409fa9af17942b781551261e271ac8a.\n",
      "2024/08/04 18:19:25 INFO mlflow.tracking._tracking_service.client: 🧪 View experiment at: http://localhost:8080/#/experiments/861360391147313407.\n",
      "2024/08/04 18:19:26 WARNING mlflow.models.model: Input example should be provided to infer model signature if the model signature is not provided when logging the model.\n",
      "2024/08/04 18:19:26 INFO mlflow.tracking._tracking_service.client: 🏃 View run K Neighbors Regressor at: http://localhost:8080/#/experiments/861360391147313407/runs/0ac4bfdea96f4d7c8525842dd247f917.\n",
      "2024/08/04 18:19:26 INFO mlflow.tracking._tracking_service.client: 🧪 View experiment at: http://localhost:8080/#/experiments/861360391147313407.\n",
      "2024/08/04 18:19:27 WARNING mlflow.models.model: Input example should be provided to infer model signature if the model signature is not provided when logging the model.\n",
      "2024/08/04 18:19:27 INFO mlflow.tracking._tracking_service.client: 🏃 View run Orthogonal Matching Pursuit at: http://localhost:8080/#/experiments/861360391147313407/runs/4217a9d203564eb9ae7df8636755e81b.\n",
      "2024/08/04 18:19:27 INFO mlflow.tracking._tracking_service.client: 🧪 View experiment at: http://localhost:8080/#/experiments/861360391147313407.\n",
      "2024/08/04 18:19:28 WARNING mlflow.models.model: Input example should be provided to infer model signature if the model signature is not provided when logging the model.\n",
      "2024/08/04 18:19:28 INFO mlflow.tracking._tracking_service.client: 🏃 View run Lasso Regression at: http://localhost:8080/#/experiments/861360391147313407/runs/6014a47ee6ed4e9fbf9860bf59bbbaa7.\n",
      "2024/08/04 18:19:28 INFO mlflow.tracking._tracking_service.client: 🧪 View experiment at: http://localhost:8080/#/experiments/861360391147313407.\n",
      "2024/08/04 18:19:28 WARNING mlflow.models.model: Input example should be provided to infer model signature if the model signature is not provided when logging the model.\n",
      "2024/08/04 18:19:28 INFO mlflow.tracking._tracking_service.client: 🏃 View run Elastic Net at: http://localhost:8080/#/experiments/861360391147313407/runs/dfcf5e058afe4ff4acaa84d39480589a.\n",
      "2024/08/04 18:19:28 INFO mlflow.tracking._tracking_service.client: 🧪 View experiment at: http://localhost:8080/#/experiments/861360391147313407.\n",
      "2024/08/04 18:19:29 WARNING mlflow.models.model: Input example should be provided to infer model signature if the model signature is not provided when logging the model.\n",
      "2024/08/04 18:19:29 INFO mlflow.tracking._tracking_service.client: 🏃 View run Lasso Least Angle Regression at: http://localhost:8080/#/experiments/861360391147313407/runs/503496858cba40909973bd753b4fd7a4.\n",
      "2024/08/04 18:19:29 INFO mlflow.tracking._tracking_service.client: 🧪 View experiment at: http://localhost:8080/#/experiments/861360391147313407.\n",
      "2024/08/04 18:19:30 WARNING mlflow.models.model: Input example should be provided to infer model signature if the model signature is not provided when logging the model.\n",
      "2024/08/04 18:19:30 INFO mlflow.tracking._tracking_service.client: 🏃 View run Dummy Regressor at: http://localhost:8080/#/experiments/861360391147313407/runs/bb005b9a3e184de6b0df0ba9dbbd1073.\n",
      "2024/08/04 18:19:30 INFO mlflow.tracking._tracking_service.client: 🧪 View experiment at: http://localhost:8080/#/experiments/861360391147313407.\n",
      "2024/08/04 18:19:30 WARNING mlflow.models.model: Input example should be provided to infer model signature if the model signature is not provided when logging the model.\n",
      "2024/08/04 18:19:30 INFO mlflow.tracking._tracking_service.client: 🏃 View run Huber Regressor at: http://localhost:8080/#/experiments/861360391147313407/runs/ab439cc2c4eb4687937d2d16360070c9.\n",
      "2024/08/04 18:19:30 INFO mlflow.tracking._tracking_service.client: 🧪 View experiment at: http://localhost:8080/#/experiments/861360391147313407.\n",
      "2024/08/04 18:19:31 WARNING mlflow.models.model: Input example should be provided to infer model signature if the model signature is not provided when logging the model.\n",
      "2024/08/04 18:19:31 INFO mlflow.tracking._tracking_service.client: 🏃 View run Passive Aggressive Regressor at: http://localhost:8080/#/experiments/861360391147313407/runs/d44f1232f525462caf6983ed7304e8cb.\n",
      "2024/08/04 18:19:31 INFO mlflow.tracking._tracking_service.client: 🧪 View experiment at: http://localhost:8080/#/experiments/861360391147313407.\n",
      "2024/08/04 18:19:32 WARNING mlflow.models.model: Input example should be provided to infer model signature if the model signature is not provided when logging the model.\n",
      "2024/08/04 18:19:32 INFO mlflow.tracking._tracking_service.client: 🏃 View run Least Angle Regression at: http://localhost:8080/#/experiments/861360391147313407/runs/31ba9cef7fed4a2290f30149149a9f99.\n",
      "2024/08/04 18:19:32 INFO mlflow.tracking._tracking_service.client: 🧪 View experiment at: http://localhost:8080/#/experiments/861360391147313407.\n"
     ]
    }
   ],
   "source": [
    "best_threes_model = regression.compare_models(n_select=3)"
   ]
  },
  {
   "cell_type": "code",
   "execution_count": 96,
   "metadata": {},
   "outputs": [
    {
     "name": "stderr",
     "output_type": "stream",
     "text": [
      "2024/08/04 18:20:22 INFO mlflow.tracking._tracking_service.client: 🏃 View run Session Initialized 121e at: http://localhost:8080/#/experiments/861360391147313407/runs/acb63b2d701b407a866cc96b082f3643.\n",
      "2024/08/04 18:20:22 INFO mlflow.tracking._tracking_service.client: 🧪 View experiment at: http://localhost:8080/#/experiments/861360391147313407.\n"
     ]
    }
   ],
   "source": [
    "mlflow.end_run()"
   ]
  },
  {
   "cell_type": "code",
   "execution_count": 97,
   "metadata": {},
   "outputs": [
    {
     "data": {
      "image/png": "[encoded data removed]",
      "text/plain": [
       "<Figure size 4400x1200 with 1 Axes>"
      ]
     },
     "metadata": {},
     "output_type": "display_data"
    }
   ],
   "source": [
    "regression.plot_model(best_threes_model[0], plot='pipeline', plot_kwargs={ \"fontsize\": 30 }, scale=2)"
   ]
  },
  {
   "cell_type": "markdown",
   "metadata": {},
   "source": [
    "## Fine-Tuning\n"
   ]
  },
  {
   "cell_type": "code",
   "execution_count": 98,
   "metadata": {},
   "outputs": [],
   "source": [
    "def define_pipeline(numerical_transformer: list,\n",
    "                    categorical_transformer: list,\n",
    "                    estimator: Pipeline,\n",
    "                    target_transformer: bool = False,\n",
    "                    **kwargs: dict) -> Pipeline:\n",
    "    \"\"\" Define pipeline for modeling\n",
    "\n",
    "    Args:\n",
    "        **kwargs:\n",
    "\n",
    "    Returns:\n",
    "        Pipeline: sklearn pipeline\n",
    "    \"\"\"\n",
    "    numerical_transformer = make_pipeline(*numerical_transformer)\n",
    "\n",
    "    categorical_transformer = make_pipeline(*categorical_transformer)\n",
    "\n",
    "    preprocessor = ColumnTransformer(\n",
    "        transformers=[\n",
    "            (\"num\", numerical_transformer, make_column_selector(dtype_include=[\"number\"])),\n",
    "            (\"cat\", categorical_transformer, make_column_selector(dtype_include=[\"object\", \"bool\"])),\n",
    "        ],\n",
    "        remainder=\"drop\",  # non-specified columns are dropped\n",
    "        verbose_feature_names_out=False,  # will not prefix any feature names with the name of the transformer\n",
    "    )\n",
    "    # Append regressor to preprocessing pipelineregreregffdffdffd.\n",
    "    # Now we have a full prediction pipeline.\n",
    "    if target_transformer:\n",
    "        model_pipe1 = Pipeline(steps=[(\"preprocessor\", preprocessor),\n",
    "                                     (\"estimator\", estimator)])\n",
    "        model_pipe = TransformedTargetRegressor(regressor=model_pipe1,\n",
    "                                                func=np.log,\n",
    "                                                inverse_func=np.exp)\n",
    "    else:\n",
    "        model_pipe = Pipeline(steps=[(\"preprocessor\", preprocessor), (\"estimator\", estimator)])\n",
    "        \n",
    "    # logger.info(f\"{model_pipe}\")\n",
    "    return model_pipe"
   ]
  },
  {
   "cell_type": "code",
   "execution_count": 99,
   "metadata": {},
   "outputs": [],
   "source": [
    "ESTIMATOR_PARAMS = {\n",
    "    ExtraTreesRegressor.__name__: {\n",
    "        \"estimator\": ExtraTreesRegressor(),\n",
    "        \"params\": {\n",
    "            'regressor__estimator__n_estimators': randint(10, 150),\n",
    "            'regressor__estimator__max_depth': np.arange(1, 10, 1),\n",
    "            'regressor__estimator__min_samples_split': np.arange(2, 10, 1),\n",
    "            'regressor__estimator__min_samples_leaf': [1, 2, 3, 4],\n",
    "        }\n",
    "    },\n",
    "    RandomForestRegressor.__name__: {\n",
    "        \"estimator\": RandomForestRegressor(),\n",
    "        \"params\": {\n",
    "            'regressor__estimator__n_estimators': randint(10, 150),\n",
    "            'regressor__estimator__max_depth': np.arange(1, 10, 1),\n",
    "            'regressor__estimator__min_samples_split': np.arange(1, 10, 1),\n",
    "            'regressor__estimator__min_samples_leaf': [1, 2, 3, 4]\n",
    "        }\n",
    "    },\n",
    "    xgb.XGBRegressor.__name__: {\n",
    "        \"estimator\": xgb.XGBRegressor(),\n",
    "        \"params\": {\n",
    "            'regressor__estimator__n_estimators': randint(10, 150),\n",
    "            'regressor__estimator__max_depth': np.arange(1, 11, 1),\n",
    "            'regressor__estimator__learning_rate': uniform(0.01, 0.2),\n",
    "            'regressor__estimator__subsample': uniform(0.8, 1),\n",
    "            'regressor__estimator__colsample_bytree': uniform(0.8, 1),\n",
    "            'regressor__estimator__gamma': uniform(0, 0.2)\n",
    "        }\n",
    "    }\n",
    "}"
   ]
  },
  {
   "cell_type": "code",
   "execution_count": null,
   "metadata": {},
   "outputs": [],
   "source": [
    "CURRENT_DATE = pendulum.now()\n",
    "\n",
    "search_cvs = {}\n",
    "\n",
    "def rmse(actual, predicted):\n",
    "    return np.sqrt(mean_squared_error(actual, predicted))\n",
    "\n",
    "def mlflow_log_search(search):\n",
    "    best_params = search.best_params_\n",
    "\n",
    "    # Log the best parameters\n",
    "    mlflow.log_params(best_params)\n",
    "\n",
    "    # Log the best metric\n",
    "    mlflow.log_metric(\"R2\", search.best_score_)\n",
    "\n",
    "    # Log the model\n",
    "    mlflow.sklearn.log_model(search.best_estimator_, \"model\")\n",
    "\n",
    "scoring = {'r2': make_scorer(r2_score),\n",
    "          'rmse': make_scorer(rmse, greater_is_better=False),\n",
    "          'mae': make_scorer(mean_absolute_error, greater_is_better=False)}\n",
    "\n",
    "# Create an experiment if not exists\n",
    "exp_name = \"building-energy-prediction-tuning-sklearn\"\n",
    "experiment = mlflow.get_experiment_by_name(exp_name)\n",
    "if not experiment:\n",
    "    experiment_id = mlflow.create_experiment(exp_name)\n",
    "else:\n",
    "    experiment_id = experiment.experiment_id\n",
    "\n",
    "with mlflow.start_run(run_name=f\"Session-{CURRENT_DATE.strftime('%Y%m%d_%H%m%S')}\", experiment_id=experiment_id) as parent_run:\n",
    "    for estimator_name, settings in ESTIMATOR_PARAMS.items():\n",
    "        with mlflow.start_run(run_name=estimator_name, nested=True, experiment_id=experiment_id):  \n",
    "            estimator = settings[\"estimator\"]\n",
    "            param_grid = settings[\"params\"]\n",
    "            pipeline = define_pipeline(numerical_transformer=[SimpleImputer(strategy=\"median\"),RobustScaler()],\n",
    "                            categorical_transformer=[SimpleImputer(strategy=\"constant\", fill_value=\"undefined\"), OneHotEncoder(drop=\"if_binary\", handle_unknown=\"ignore\")],\n",
    "                            target_transformer=True,\n",
    "                            estimator=estimator\n",
    "                        ) \n",
    "            random_search = RandomizedSearchCV(\n",
    "                estimator=pipeline,  # Instantiate the estimator\n",
    "                param_distributions=param_grid,\n",
    "                scoring=scoring,\n",
    "                refit='r2',\n",
    "                n_iter=200,  # Adjust the number of iterations as needed\n",
    "                cv=5,  # Adjust the number of cross-validation folds as needed\n",
    "                n_jobs=-1  # Use all available cores\n",
    "            )\n",
    "            random_search.fit(x_train, y_train)\n",
    "            search_cvs[estimator_name] = random_search\n",
    "\n",
    "            mlflow.log_param(\"Estimator\", estimator_name)\n",
    "            mlflow_log_search(random_search)\n",
    "mlflow.end_run()"
   ]
  },
  {
   "cell_type": "markdown",
   "metadata": {},
   "source": [
    "## Model Evaluation\n"
   ]
  },
  {
   "cell_type": "markdown",
   "metadata": {},
   "source": [
    "### Residual Analysis\n"
   ]
  }
 ],
 "metadata": {
  "kaggle": {
   "accelerator": "none",
   "dataSources": [
    {
     "datasetId": 34249,
     "sourceId": 2384070,
     "sourceType": "datasetVersion"
    }
   ],
   "dockerImageVersionId": 30746,
   "isGpuEnabled": false,
   "isInternetEnabled": false,
   "language": "python",
   "sourceType": "notebook"
  },
  "kernelspec": {
   "display_name": "Python 3",
   "language": "python",
   "name": "python3"
  },
  "language_info": {
   "codemirror_mode": {
    "name": "ipython",
    "version": 3
   },
   "file_extension": ".py",
   "mimetype": "text/x-python",
   "name": "python",
   "nbconvert_exporter": "python",
   "pygments_lexer": "ipython3",
   "version": "3.10.10"
  }
 },
 "nbformat": 4,
 "nbformat_minor": 4
}
