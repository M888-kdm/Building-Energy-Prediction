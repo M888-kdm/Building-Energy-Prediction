{
 "cells": [
  {
   "cell_type": "code",
   "execution_count": 1,
   "id": "1b5147e6",
   "metadata": {
    "execution": {
     "iopub.execute_input": "2024-08-05T22:30:57.671476Z",
     "iopub.status.busy": "2024-08-05T22:30:57.671243Z",
     "iopub.status.idle": "2024-08-05T22:31:00.946958Z",
     "shell.execute_reply": "2024-08-05T22:31:00.946491Z"
    },
    "papermill": {
     "duration": 3.283212,
     "end_time": "2024-08-05T22:31:00.948918",
     "exception": false,
     "start_time": "2024-08-05T22:30:57.665706",
     "status": "completed"
    },
    "tags": []
   },
   "outputs": [],
   "source": [
    "%reload_ext autoreload\n",
    "%autoreload 2\n",
    "\n",
    "import mlflow\n",
    "import os\n",
    "import numpy as np\n",
    "import pandas as pd\n",
    "import pendulum\n",
    "import sys\n",
    "import xgboost as xgb\n",
    "\n",
    "from loguru import logger\n",
    "from pathlib import Path\n",
    "from pycaret import regression\n",
    "from sklearn.metrics import make_scorer, mean_squared_error, mean_absolute_error, r2_score\n",
    "from sklearn.model_selection import train_test_split\n",
    "from sklearn.impute import SimpleImputer\n",
    "from sklearn.model_selection import GridSearchCV\n",
    "from sklearn.preprocessing import RobustScaler, OneHotEncoder\n",
    "from sklearn.ensemble import RandomForestRegressor, ExtraTreesRegressor\n",
    "\n",
    "\n",
    "sys.path.append(str(Path.cwd().parent))\n",
    "sys.path.append(os.path.join(str(Path.cwd().parent), \"src\"))\n",
    "from settings.params import *\n",
    "from metrics import eval_metrics\n",
    "from pipeline import define_pipeline\n",
    "from plot import prediction_error_plot, residual_plot\n",
    "from tracking import mlflow_log_search\n",
    "\n",
    "pd.set_option(\"display.max_columns\", None)\n",
    "pd.set_option(\"display.max_rows\", 100)"
   ]
  },
  {
   "cell_type": "code",
   "execution_count": 2,
   "id": "db405310",
   "metadata": {
    "execution": {
     "iopub.execute_input": "2024-08-05T22:31:00.957720Z",
     "iopub.status.busy": "2024-08-05T22:31:00.957107Z",
     "iopub.status.idle": "2024-08-05T22:31:00.993992Z",
     "shell.execute_reply": "2024-08-05T22:31:00.993534Z"
    },
    "papermill": {
     "duration": 0.042127,
     "end_time": "2024-08-05T22:31:00.995484",
     "exception": false,
     "start_time": "2024-08-05T22:31:00.953357",
     "status": "completed"
    },
    "tags": []
   },
   "outputs": [],
   "source": [
    "data = pd.read_csv(CLEANED_DATA)\n",
    "TARGET_NAME = MODEL_PARAMS['TARGET_NAME']"
   ]
  },
  {
   "cell_type": "code",
   "execution_count": 3,
   "id": "b52cdcd1",
   "metadata": {
    "execution": {
     "iopub.execute_input": "2024-08-05T22:31:01.002080Z",
     "iopub.status.busy": "2024-08-05T22:31:01.001866Z",
     "iopub.status.idle": "2024-08-05T22:31:01.030639Z",
     "shell.execute_reply": "2024-08-05T22:31:01.030169Z"
    },
    "papermill": {
     "duration": 0.033712,
     "end_time": "2024-08-05T22:31:01.032154",
     "exception": false,
     "start_time": "2024-08-05T22:31:00.998442",
     "status": "completed"
    },
    "tags": []
   },
   "outputs": [],
   "source": [
    "mlflow.set_tracking_uri(uri=\"http://localhost:8080\")"
   ]
  },
  {
   "cell_type": "markdown",
   "id": "4d4286d9",
   "metadata": {
    "papermill": {
     "duration": 0.002604,
     "end_time": "2024-08-05T22:31:01.037746",
     "exception": false,
     "start_time": "2024-08-05T22:31:01.035142",
     "status": "completed"
    },
    "tags": []
   },
   "source": [
    "# Modeling\n"
   ]
  },
  {
   "cell_type": "markdown",
   "id": "bdb87ec2",
   "metadata": {
    "papermill": {
     "duration": 0.002478,
     "end_time": "2024-08-05T22:31:01.042725",
     "exception": false,
     "start_time": "2024-08-05T22:31:01.040247",
     "status": "completed"
    },
    "tags": []
   },
   "source": [
    "## Train/Test Split\n"
   ]
  },
  {
   "cell_type": "code",
   "execution_count": 4,
   "id": "a69009a8",
   "metadata": {
    "execution": {
     "iopub.execute_input": "2024-08-05T22:31:01.049654Z",
     "iopub.status.busy": "2024-08-05T22:31:01.048802Z",
     "iopub.status.idle": "2024-08-05T22:31:01.081835Z",
     "shell.execute_reply": "2024-08-05T22:31:01.080929Z"
    },
    "papermill": {
     "duration": 0.038926,
     "end_time": "2024-08-05T22:31:01.084135",
     "exception": false,
     "start_time": "2024-08-05T22:31:01.045209",
     "status": "completed"
    },
    "tags": []
   },
   "outputs": [
    {
     "name": "stderr",
     "output_type": "stream",
     "text": [
      "\u001b[32m2024-08-05 22:31:01.078\u001b[0m | \u001b[1mINFO    \u001b[0m | \u001b[36m__main__\u001b[0m:\u001b[36m<module>\u001b[0m:\u001b[36m3\u001b[0m - \u001b[1m\n",
      "X train: (5205, 7)\n",
      "Y train: (5205,)\n",
      "X test: (1302, 7)\n",
      "Y test: (1302,)\u001b[0m\n"
     ]
    }
   ],
   "source": [
    "x_train, x_test, y_train, y_test = train_test_split(data, data[TARGET_NAME], test_size=MODEL_PARAMS[\"TEST_SIZE\"], random_state=SEED)\n",
    "\n",
    "logger.info(f\"\\nX train: {x_train.shape}\\nY train: {y_train.shape}\\n\"\n",
    "            f\"X test: {x_test.shape}\\nY test: {y_test.shape}\")"
   ]
  },
  {
   "cell_type": "markdown",
   "id": "4b4e15bb",
   "metadata": {
    "papermill": {
     "duration": 0.006672,
     "end_time": "2024-08-05T22:31:01.096434",
     "exception": false,
     "start_time": "2024-08-05T22:31:01.089762",
     "status": "completed"
    },
    "tags": []
   },
   "source": [
    "## Training\n"
   ]
  },
  {
   "cell_type": "code",
   "execution_count": 5,
   "id": "05d283bc",
   "metadata": {
    "execution": {
     "iopub.execute_input": "2024-08-05T22:31:01.112118Z",
     "iopub.status.busy": "2024-08-05T22:31:01.111317Z",
     "iopub.status.idle": "2024-08-05T22:31:01.149517Z",
     "shell.execute_reply": "2024-08-05T22:31:01.148661Z"
    },
    "papermill": {
     "duration": 0.046375,
     "end_time": "2024-08-05T22:31:01.151104",
     "exception": false,
     "start_time": "2024-08-05T22:31:01.104729",
     "status": "completed"
    },
    "tags": []
   },
   "outputs": [],
   "source": [
    "df = x_train.copy()\n",
    "df[TARGET_NAME] = np.log(y_train)"
   ]
  },
  {
   "cell_type": "code",
   "execution_count": 6,
   "id": "71bb3839",
   "metadata": {
    "execution": {
     "iopub.execute_input": "2024-08-05T22:31:01.157394Z",
     "iopub.status.busy": "2024-08-05T22:31:01.157196Z",
     "iopub.status.idle": "2024-08-05T22:31:02.882146Z",
     "shell.execute_reply": "2024-08-05T22:31:02.881686Z"
    },
    "papermill": {
     "duration": 1.730138,
     "end_time": "2024-08-05T22:31:02.884115",
     "exception": false,
     "start_time": "2024-08-05T22:31:01.153977",
     "status": "completed"
    },
    "tags": []
   },
   "outputs": [
    {
     "data": {
      "text/html": [
       "<style type=\"text/css\">\n",
       "#T_24c49_row9_col1 {\n",
       "  background-color: lightgreen;\n",
       "}\n",
       "</style>\n",
       "<table id=\"T_24c49\">\n",
       "  <thead>\n",
       "    <tr>\n",
       "      <th class=\"blank level0\" >&nbsp;</th>\n",
       "      <th id=\"T_24c49_level0_col0\" class=\"col_heading level0 col0\" >Description</th>\n",
       "      <th id=\"T_24c49_level0_col1\" class=\"col_heading level0 col1\" >Value</th>\n",
       "    </tr>\n",
       "  </thead>\n",
       "  <tbody>\n",
       "    <tr>\n",
       "      <th id=\"T_24c49_level0_row0\" class=\"row_heading level0 row0\" >0</th>\n",
       "      <td id=\"T_24c49_row0_col0\" class=\"data row0 col0\" >Session id</td>\n",
       "      <td id=\"T_24c49_row0_col1\" class=\"data row0 col1\" >1893</td>\n",
       "    </tr>\n",
       "    <tr>\n",
       "      <th id=\"T_24c49_level0_row1\" class=\"row_heading level0 row1\" >1</th>\n",
       "      <td id=\"T_24c49_row1_col0\" class=\"data row1 col0\" >Target</td>\n",
       "      <td id=\"T_24c49_row1_col1\" class=\"data row1 col1\" >SiteEnergyUse(kBtu)</td>\n",
       "    </tr>\n",
       "    <tr>\n",
       "      <th id=\"T_24c49_level0_row2\" class=\"row_heading level0 row2\" >2</th>\n",
       "      <td id=\"T_24c49_row2_col0\" class=\"data row2 col0\" >Target type</td>\n",
       "      <td id=\"T_24c49_row2_col1\" class=\"data row2 col1\" >Regression</td>\n",
       "    </tr>\n",
       "    <tr>\n",
       "      <th id=\"T_24c49_level0_row3\" class=\"row_heading level0 row3\" >3</th>\n",
       "      <td id=\"T_24c49_row3_col0\" class=\"data row3 col0\" >Original data shape</td>\n",
       "      <td id=\"T_24c49_row3_col1\" class=\"data row3 col1\" >(5205, 7)</td>\n",
       "    </tr>\n",
       "    <tr>\n",
       "      <th id=\"T_24c49_level0_row4\" class=\"row_heading level0 row4\" >4</th>\n",
       "      <td id=\"T_24c49_row4_col0\" class=\"data row4 col0\" >Transformed data shape</td>\n",
       "      <td id=\"T_24c49_row4_col1\" class=\"data row4 col1\" >(5205, 67)</td>\n",
       "    </tr>\n",
       "    <tr>\n",
       "      <th id=\"T_24c49_level0_row5\" class=\"row_heading level0 row5\" >5</th>\n",
       "      <td id=\"T_24c49_row5_col0\" class=\"data row5 col0\" >Transformed train set shape</td>\n",
       "      <td id=\"T_24c49_row5_col1\" class=\"data row5 col1\" >(4164, 67)</td>\n",
       "    </tr>\n",
       "    <tr>\n",
       "      <th id=\"T_24c49_level0_row6\" class=\"row_heading level0 row6\" >6</th>\n",
       "      <td id=\"T_24c49_row6_col0\" class=\"data row6 col0\" >Transformed test set shape</td>\n",
       "      <td id=\"T_24c49_row6_col1\" class=\"data row6 col1\" >(1041, 67)</td>\n",
       "    </tr>\n",
       "    <tr>\n",
       "      <th id=\"T_24c49_level0_row7\" class=\"row_heading level0 row7\" >7</th>\n",
       "      <td id=\"T_24c49_row7_col0\" class=\"data row7 col0\" >Numeric features</td>\n",
       "      <td id=\"T_24c49_row7_col1\" class=\"data row7 col1\" >4</td>\n",
       "    </tr>\n",
       "    <tr>\n",
       "      <th id=\"T_24c49_level0_row8\" class=\"row_heading level0 row8\" >8</th>\n",
       "      <td id=\"T_24c49_row8_col0\" class=\"data row8 col0\" >Categorical features</td>\n",
       "      <td id=\"T_24c49_row8_col1\" class=\"data row8 col1\" >2</td>\n",
       "    </tr>\n",
       "    <tr>\n",
       "      <th id=\"T_24c49_level0_row9\" class=\"row_heading level0 row9\" >9</th>\n",
       "      <td id=\"T_24c49_row9_col0\" class=\"data row9 col0\" >Preprocess</td>\n",
       "      <td id=\"T_24c49_row9_col1\" class=\"data row9 col1\" >True</td>\n",
       "    </tr>\n",
       "    <tr>\n",
       "      <th id=\"T_24c49_level0_row10\" class=\"row_heading level0 row10\" >10</th>\n",
       "      <td id=\"T_24c49_row10_col0\" class=\"data row10 col0\" >Imputation type</td>\n",
       "      <td id=\"T_24c49_row10_col1\" class=\"data row10 col1\" >simple</td>\n",
       "    </tr>\n",
       "    <tr>\n",
       "      <th id=\"T_24c49_level0_row11\" class=\"row_heading level0 row11\" >11</th>\n",
       "      <td id=\"T_24c49_row11_col0\" class=\"data row11 col0\" >Numeric imputation</td>\n",
       "      <td id=\"T_24c49_row11_col1\" class=\"data row11 col1\" >mean</td>\n",
       "    </tr>\n",
       "    <tr>\n",
       "      <th id=\"T_24c49_level0_row12\" class=\"row_heading level0 row12\" >12</th>\n",
       "      <td id=\"T_24c49_row12_col0\" class=\"data row12 col0\" >Categorical imputation</td>\n",
       "      <td id=\"T_24c49_row12_col1\" class=\"data row12 col1\" >mode</td>\n",
       "    </tr>\n",
       "    <tr>\n",
       "      <th id=\"T_24c49_level0_row13\" class=\"row_heading level0 row13\" >13</th>\n",
       "      <td id=\"T_24c49_row13_col0\" class=\"data row13 col0\" >Maximum one-hot encoding</td>\n",
       "      <td id=\"T_24c49_row13_col1\" class=\"data row13 col1\" >200</td>\n",
       "    </tr>\n",
       "    <tr>\n",
       "      <th id=\"T_24c49_level0_row14\" class=\"row_heading level0 row14\" >14</th>\n",
       "      <td id=\"T_24c49_row14_col0\" class=\"data row14 col0\" >Encoding method</td>\n",
       "      <td id=\"T_24c49_row14_col1\" class=\"data row14 col1\" >None</td>\n",
       "    </tr>\n",
       "    <tr>\n",
       "      <th id=\"T_24c49_level0_row15\" class=\"row_heading level0 row15\" >15</th>\n",
       "      <td id=\"T_24c49_row15_col0\" class=\"data row15 col0\" >Fold Generator</td>\n",
       "      <td id=\"T_24c49_row15_col1\" class=\"data row15 col1\" >KFold</td>\n",
       "    </tr>\n",
       "    <tr>\n",
       "      <th id=\"T_24c49_level0_row16\" class=\"row_heading level0 row16\" >16</th>\n",
       "      <td id=\"T_24c49_row16_col0\" class=\"data row16 col0\" >Fold Number</td>\n",
       "      <td id=\"T_24c49_row16_col1\" class=\"data row16 col1\" >10</td>\n",
       "    </tr>\n",
       "    <tr>\n",
       "      <th id=\"T_24c49_level0_row17\" class=\"row_heading level0 row17\" >17</th>\n",
       "      <td id=\"T_24c49_row17_col0\" class=\"data row17 col0\" >CPU Jobs</td>\n",
       "      <td id=\"T_24c49_row17_col1\" class=\"data row17 col1\" >-1</td>\n",
       "    </tr>\n",
       "    <tr>\n",
       "      <th id=\"T_24c49_level0_row18\" class=\"row_heading level0 row18\" >18</th>\n",
       "      <td id=\"T_24c49_row18_col0\" class=\"data row18 col0\" >Use GPU</td>\n",
       "      <td id=\"T_24c49_row18_col1\" class=\"data row18 col1\" >False</td>\n",
       "    </tr>\n",
       "    <tr>\n",
       "      <th id=\"T_24c49_level0_row19\" class=\"row_heading level0 row19\" >19</th>\n",
       "      <td id=\"T_24c49_row19_col0\" class=\"data row19 col0\" >Log Experiment</td>\n",
       "      <td id=\"T_24c49_row19_col1\" class=\"data row19 col1\" >MlflowLogger</td>\n",
       "    </tr>\n",
       "    <tr>\n",
       "      <th id=\"T_24c49_level0_row20\" class=\"row_heading level0 row20\" >20</th>\n",
       "      <td id=\"T_24c49_row20_col0\" class=\"data row20 col0\" >Experiment Name</td>\n",
       "      <td id=\"T_24c49_row20_col1\" class=\"data row20 col1\" >building-energy-prediction-training</td>\n",
       "    </tr>\n",
       "    <tr>\n",
       "      <th id=\"T_24c49_level0_row21\" class=\"row_heading level0 row21\" >21</th>\n",
       "      <td id=\"T_24c49_row21_col0\" class=\"data row21 col0\" >USI</td>\n",
       "      <td id=\"T_24c49_row21_col1\" class=\"data row21 col1\" >a25f</td>\n",
       "    </tr>\n",
       "  </tbody>\n",
       "</table>\n"
      ],
      "text/plain": [
       "<pandas.io.formats.style.Styler at 0x308ca71f0>"
      ]
     },
     "metadata": {},
     "output_type": "display_data"
    }
   ],
   "source": [
    "exp_reg = regression.setup(df, target=TARGET_NAME, max_encoding_ohe=200, log_experiment=True, experiment_name=\"building-energy-prediction-training\", train_size=0.8)\n",
    "regression.set_config('seed', SEED)\n",
    "\n",
    "# Removing useless metrics improve training speed\n",
    "regression.remove_metric('MAPE')\n",
    "regression.remove_metric('MSE')\n",
    "regression.remove_metric('RMSLE')"
   ]
  },
  {
   "cell_type": "code",
   "execution_count": 7,
   "id": "02b43531",
   "metadata": {
    "execution": {
     "iopub.execute_input": "2024-08-05T22:31:02.893107Z",
     "iopub.status.busy": "2024-08-05T22:31:02.892648Z",
     "iopub.status.idle": "2024-08-05T22:31:42.949606Z",
     "shell.execute_reply": "2024-08-05T22:31:42.949071Z"
    },
    "papermill": {
     "duration": 40.063186,
     "end_time": "2024-08-05T22:31:42.951316",
     "exception": false,
     "start_time": "2024-08-05T22:31:02.888130",
     "status": "completed"
    },
    "tags": []
   },
   "outputs": [
    {
     "data": {
      "text/html": [],
      "text/plain": [
       "<IPython.core.display.HTML object>"
      ]
     },
     "metadata": {},
     "output_type": "display_data"
    },
    {
     "data": {
      "text/html": [
       "<style type=\"text/css\">\n",
       "#T_d3cdc th {\n",
       "  text-align: left;\n",
       "}\n",
       "#T_d3cdc_row0_col0, #T_d3cdc_row1_col0, #T_d3cdc_row1_col1, #T_d3cdc_row1_col2, #T_d3cdc_row1_col3, #T_d3cdc_row2_col0, #T_d3cdc_row2_col1, #T_d3cdc_row2_col2, #T_d3cdc_row2_col3, #T_d3cdc_row3_col0, #T_d3cdc_row3_col1, #T_d3cdc_row3_col2, #T_d3cdc_row3_col3, #T_d3cdc_row4_col0, #T_d3cdc_row4_col1, #T_d3cdc_row4_col2, #T_d3cdc_row4_col3, #T_d3cdc_row5_col0, #T_d3cdc_row5_col1, #T_d3cdc_row5_col2, #T_d3cdc_row5_col3, #T_d3cdc_row6_col0, #T_d3cdc_row6_col1, #T_d3cdc_row6_col2, #T_d3cdc_row6_col3, #T_d3cdc_row7_col0, #T_d3cdc_row7_col1, #T_d3cdc_row7_col2, #T_d3cdc_row7_col3, #T_d3cdc_row8_col0, #T_d3cdc_row8_col1, #T_d3cdc_row8_col2, #T_d3cdc_row8_col3, #T_d3cdc_row9_col0, #T_d3cdc_row9_col1, #T_d3cdc_row9_col2, #T_d3cdc_row9_col3, #T_d3cdc_row10_col0, #T_d3cdc_row10_col1, #T_d3cdc_row10_col2, #T_d3cdc_row10_col3, #T_d3cdc_row11_col0, #T_d3cdc_row11_col1, #T_d3cdc_row11_col2, #T_d3cdc_row11_col3, #T_d3cdc_row12_col0, #T_d3cdc_row12_col1, #T_d3cdc_row12_col2, #T_d3cdc_row12_col3, #T_d3cdc_row13_col0, #T_d3cdc_row13_col1, #T_d3cdc_row13_col2, #T_d3cdc_row13_col3, #T_d3cdc_row14_col0, #T_d3cdc_row14_col1, #T_d3cdc_row14_col2, #T_d3cdc_row14_col3, #T_d3cdc_row15_col0, #T_d3cdc_row15_col1, #T_d3cdc_row15_col2, #T_d3cdc_row15_col3, #T_d3cdc_row16_col0, #T_d3cdc_row16_col1, #T_d3cdc_row16_col2, #T_d3cdc_row16_col3, #T_d3cdc_row17_col0, #T_d3cdc_row17_col1, #T_d3cdc_row17_col2, #T_d3cdc_row17_col3, #T_d3cdc_row18_col0, #T_d3cdc_row18_col1, #T_d3cdc_row18_col2, #T_d3cdc_row18_col3 {\n",
       "  text-align: left;\n",
       "}\n",
       "#T_d3cdc_row0_col1, #T_d3cdc_row0_col2, #T_d3cdc_row0_col3 {\n",
       "  text-align: left;\n",
       "  background-color: yellow;\n",
       "}\n",
       "#T_d3cdc_row0_col4, #T_d3cdc_row1_col4, #T_d3cdc_row2_col4, #T_d3cdc_row3_col4, #T_d3cdc_row4_col4, #T_d3cdc_row5_col4, #T_d3cdc_row6_col4, #T_d3cdc_row7_col4, #T_d3cdc_row8_col4, #T_d3cdc_row9_col4, #T_d3cdc_row10_col4, #T_d3cdc_row11_col4, #T_d3cdc_row12_col4, #T_d3cdc_row15_col4, #T_d3cdc_row16_col4 {\n",
       "  text-align: left;\n",
       "  background-color: lightgrey;\n",
       "}\n",
       "#T_d3cdc_row13_col4, #T_d3cdc_row14_col4, #T_d3cdc_row17_col4, #T_d3cdc_row18_col4 {\n",
       "  text-align: left;\n",
       "  background-color: yellow;\n",
       "  background-color: lightgrey;\n",
       "}\n",
       "</style>\n",
       "<table id=\"T_d3cdc\">\n",
       "  <thead>\n",
       "    <tr>\n",
       "      <th class=\"blank level0\" >&nbsp;</th>\n",
       "      <th id=\"T_d3cdc_level0_col0\" class=\"col_heading level0 col0\" >Model</th>\n",
       "      <th id=\"T_d3cdc_level0_col1\" class=\"col_heading level0 col1\" >MAE</th>\n",
       "      <th id=\"T_d3cdc_level0_col2\" class=\"col_heading level0 col2\" >RMSE</th>\n",
       "      <th id=\"T_d3cdc_level0_col3\" class=\"col_heading level0 col3\" >R2</th>\n",
       "      <th id=\"T_d3cdc_level0_col4\" class=\"col_heading level0 col4\" >TT (Sec)</th>\n",
       "    </tr>\n",
       "  </thead>\n",
       "  <tbody>\n",
       "    <tr>\n",
       "      <th id=\"T_d3cdc_level0_row0\" class=\"row_heading level0 row0\" >et</th>\n",
       "      <td id=\"T_d3cdc_row0_col0\" class=\"data row0 col0\" >Extra Trees Regressor</td>\n",
       "      <td id=\"T_d3cdc_row0_col1\" class=\"data row0 col1\" >0.2484</td>\n",
       "      <td id=\"T_d3cdc_row0_col2\" class=\"data row0 col2\" >0.4361</td>\n",
       "      <td id=\"T_d3cdc_row0_col3\" class=\"data row0 col3\" >0.8345</td>\n",
       "      <td id=\"T_d3cdc_row0_col4\" class=\"data row0 col4\" >0.3330</td>\n",
       "    </tr>\n",
       "    <tr>\n",
       "      <th id=\"T_d3cdc_level0_row1\" class=\"row_heading level0 row1\" >rf</th>\n",
       "      <td id=\"T_d3cdc_row1_col0\" class=\"data row1 col0\" >Random Forest Regressor</td>\n",
       "      <td id=\"T_d3cdc_row1_col1\" class=\"data row1 col1\" >0.2863</td>\n",
       "      <td id=\"T_d3cdc_row1_col2\" class=\"data row1 col2\" >0.4447</td>\n",
       "      <td id=\"T_d3cdc_row1_col3\" class=\"data row1 col3\" >0.8278</td>\n",
       "      <td id=\"T_d3cdc_row1_col4\" class=\"data row1 col4\" >0.4090</td>\n",
       "    </tr>\n",
       "    <tr>\n",
       "      <th id=\"T_d3cdc_level0_row2\" class=\"row_heading level0 row2\" >xgboost</th>\n",
       "      <td id=\"T_d3cdc_row2_col0\" class=\"data row2 col0\" >Extreme Gradient Boosting</td>\n",
       "      <td id=\"T_d3cdc_row2_col1\" class=\"data row2 col1\" >0.3210</td>\n",
       "      <td id=\"T_d3cdc_row2_col2\" class=\"data row2 col2\" >0.4608</td>\n",
       "      <td id=\"T_d3cdc_row2_col3\" class=\"data row2 col3\" >0.8156</td>\n",
       "      <td id=\"T_d3cdc_row2_col4\" class=\"data row2 col4\" >0.4540</td>\n",
       "    </tr>\n",
       "    <tr>\n",
       "      <th id=\"T_d3cdc_level0_row3\" class=\"row_heading level0 row3\" >lightgbm</th>\n",
       "      <td id=\"T_d3cdc_row3_col0\" class=\"data row3 col0\" >Light Gradient Boosting Machine</td>\n",
       "      <td id=\"T_d3cdc_row3_col1\" class=\"data row3 col1\" >0.3524</td>\n",
       "      <td id=\"T_d3cdc_row3_col2\" class=\"data row3 col2\" >0.4937</td>\n",
       "      <td id=\"T_d3cdc_row3_col3\" class=\"data row3 col3\" >0.7884</td>\n",
       "      <td id=\"T_d3cdc_row3_col4\" class=\"data row3 col4\" >0.3610</td>\n",
       "    </tr>\n",
       "    <tr>\n",
       "      <th id=\"T_d3cdc_level0_row4\" class=\"row_heading level0 row4\" >gbr</th>\n",
       "      <td id=\"T_d3cdc_row4_col0\" class=\"data row4 col0\" >Gradient Boosting Regressor</td>\n",
       "      <td id=\"T_d3cdc_row4_col1\" class=\"data row4 col1\" >0.3706</td>\n",
       "      <td id=\"T_d3cdc_row4_col2\" class=\"data row4 col2\" >0.5087</td>\n",
       "      <td id=\"T_d3cdc_row4_col3\" class=\"data row4 col3\" >0.7754</td>\n",
       "      <td id=\"T_d3cdc_row4_col4\" class=\"data row4 col4\" >0.1930</td>\n",
       "    </tr>\n",
       "    <tr>\n",
       "      <th id=\"T_d3cdc_level0_row5\" class=\"row_heading level0 row5\" >dt</th>\n",
       "      <td id=\"T_d3cdc_row5_col0\" class=\"data row5 col0\" >Decision Tree Regressor</td>\n",
       "      <td id=\"T_d3cdc_row5_col1\" class=\"data row5 col1\" >0.2959</td>\n",
       "      <td id=\"T_d3cdc_row5_col2\" class=\"data row5 col2\" >0.5216</td>\n",
       "      <td id=\"T_d3cdc_row5_col3\" class=\"data row5 col3\" >0.7637</td>\n",
       "      <td id=\"T_d3cdc_row5_col4\" class=\"data row5 col4\" >0.0340</td>\n",
       "    </tr>\n",
       "    <tr>\n",
       "      <th id=\"T_d3cdc_level0_row6\" class=\"row_heading level0 row6\" >ada</th>\n",
       "      <td id=\"T_d3cdc_row6_col0\" class=\"data row6 col0\" >AdaBoost Regressor</td>\n",
       "      <td id=\"T_d3cdc_row6_col1\" class=\"data row6 col1\" >0.5056</td>\n",
       "      <td id=\"T_d3cdc_row6_col2\" class=\"data row6 col2\" >0.6579</td>\n",
       "      <td id=\"T_d3cdc_row6_col3\" class=\"data row6 col3\" >0.6245</td>\n",
       "      <td id=\"T_d3cdc_row6_col4\" class=\"data row6 col4\" >0.1340</td>\n",
       "    </tr>\n",
       "    <tr>\n",
       "      <th id=\"T_d3cdc_level0_row7\" class=\"row_heading level0 row7\" >ridge</th>\n",
       "      <td id=\"T_d3cdc_row7_col0\" class=\"data row7 col0\" >Ridge Regression</td>\n",
       "      <td id=\"T_d3cdc_row7_col1\" class=\"data row7 col1\" >0.5090</td>\n",
       "      <td id=\"T_d3cdc_row7_col2\" class=\"data row7 col2\" >0.6737</td>\n",
       "      <td id=\"T_d3cdc_row7_col3\" class=\"data row7 col3\" >0.6071</td>\n",
       "      <td id=\"T_d3cdc_row7_col4\" class=\"data row7 col4\" >0.0280</td>\n",
       "    </tr>\n",
       "    <tr>\n",
       "      <th id=\"T_d3cdc_level0_row8\" class=\"row_heading level0 row8\" >br</th>\n",
       "      <td id=\"T_d3cdc_row8_col0\" class=\"data row8 col0\" >Bayesian Ridge</td>\n",
       "      <td id=\"T_d3cdc_row8_col1\" class=\"data row8 col1\" >0.5090</td>\n",
       "      <td id=\"T_d3cdc_row8_col2\" class=\"data row8 col2\" >0.6737</td>\n",
       "      <td id=\"T_d3cdc_row8_col3\" class=\"data row8 col3\" >0.6071</td>\n",
       "      <td id=\"T_d3cdc_row8_col4\" class=\"data row8 col4\" >0.0310</td>\n",
       "    </tr>\n",
       "    <tr>\n",
       "      <th id=\"T_d3cdc_level0_row9\" class=\"row_heading level0 row9\" >lr</th>\n",
       "      <td id=\"T_d3cdc_row9_col0\" class=\"data row9 col0\" >Linear Regression</td>\n",
       "      <td id=\"T_d3cdc_row9_col1\" class=\"data row9 col1\" >0.5090</td>\n",
       "      <td id=\"T_d3cdc_row9_col2\" class=\"data row9 col2\" >0.6742</td>\n",
       "      <td id=\"T_d3cdc_row9_col3\" class=\"data row9 col3\" >0.6066</td>\n",
       "      <td id=\"T_d3cdc_row9_col4\" class=\"data row9 col4\" >0.7080</td>\n",
       "    </tr>\n",
       "    <tr>\n",
       "      <th id=\"T_d3cdc_level0_row10\" class=\"row_heading level0 row10\" >knn</th>\n",
       "      <td id=\"T_d3cdc_row10_col0\" class=\"data row10 col0\" >K Neighbors Regressor</td>\n",
       "      <td id=\"T_d3cdc_row10_col1\" class=\"data row10 col1\" >0.5105</td>\n",
       "      <td id=\"T_d3cdc_row10_col2\" class=\"data row10 col2\" >0.6826</td>\n",
       "      <td id=\"T_d3cdc_row10_col3\" class=\"data row10 col3\" >0.5965</td>\n",
       "      <td id=\"T_d3cdc_row10_col4\" class=\"data row10 col4\" >0.0310</td>\n",
       "    </tr>\n",
       "    <tr>\n",
       "      <th id=\"T_d3cdc_level0_row11\" class=\"row_heading level0 row11\" >omp</th>\n",
       "      <td id=\"T_d3cdc_row11_col0\" class=\"data row11 col0\" >Orthogonal Matching Pursuit</td>\n",
       "      <td id=\"T_d3cdc_row11_col1\" class=\"data row11 col1\" >0.5588</td>\n",
       "      <td id=\"T_d3cdc_row11_col2\" class=\"data row11 col2\" >0.7445</td>\n",
       "      <td id=\"T_d3cdc_row11_col3\" class=\"data row11 col3\" >0.5196</td>\n",
       "      <td id=\"T_d3cdc_row11_col4\" class=\"data row11 col4\" >0.0250</td>\n",
       "    </tr>\n",
       "    <tr>\n",
       "      <th id=\"T_d3cdc_level0_row12\" class=\"row_heading level0 row12\" >lasso</th>\n",
       "      <td id=\"T_d3cdc_row12_col0\" class=\"data row12 col0\" >Lasso Regression</td>\n",
       "      <td id=\"T_d3cdc_row12_col1\" class=\"data row12 col1\" >0.6340</td>\n",
       "      <td id=\"T_d3cdc_row12_col2\" class=\"data row12 col2\" >0.8286</td>\n",
       "      <td id=\"T_d3cdc_row12_col3\" class=\"data row12 col3\" >0.4053</td>\n",
       "      <td id=\"T_d3cdc_row12_col4\" class=\"data row12 col4\" >0.0250</td>\n",
       "    </tr>\n",
       "    <tr>\n",
       "      <th id=\"T_d3cdc_level0_row13\" class=\"row_heading level0 row13\" >en</th>\n",
       "      <td id=\"T_d3cdc_row13_col0\" class=\"data row13 col0\" >Elastic Net</td>\n",
       "      <td id=\"T_d3cdc_row13_col1\" class=\"data row13 col1\" >0.6340</td>\n",
       "      <td id=\"T_d3cdc_row13_col2\" class=\"data row13 col2\" >0.8286</td>\n",
       "      <td id=\"T_d3cdc_row13_col3\" class=\"data row13 col3\" >0.4053</td>\n",
       "      <td id=\"T_d3cdc_row13_col4\" class=\"data row13 col4\" >0.0240</td>\n",
       "    </tr>\n",
       "    <tr>\n",
       "      <th id=\"T_d3cdc_level0_row14\" class=\"row_heading level0 row14\" >llar</th>\n",
       "      <td id=\"T_d3cdc_row14_col0\" class=\"data row14 col0\" >Lasso Least Angle Regression</td>\n",
       "      <td id=\"T_d3cdc_row14_col1\" class=\"data row14 col1\" >0.6340</td>\n",
       "      <td id=\"T_d3cdc_row14_col2\" class=\"data row14 col2\" >0.8286</td>\n",
       "      <td id=\"T_d3cdc_row14_col3\" class=\"data row14 col3\" >0.4053</td>\n",
       "      <td id=\"T_d3cdc_row14_col4\" class=\"data row14 col4\" >0.0240</td>\n",
       "    </tr>\n",
       "    <tr>\n",
       "      <th id=\"T_d3cdc_level0_row15\" class=\"row_heading level0 row15\" >dummy</th>\n",
       "      <td id=\"T_d3cdc_row15_col0\" class=\"data row15 col0\" >Dummy Regressor</td>\n",
       "      <td id=\"T_d3cdc_row15_col1\" class=\"data row15 col1\" >0.8570</td>\n",
       "      <td id=\"T_d3cdc_row15_col2\" class=\"data row15 col2\" >1.0768</td>\n",
       "      <td id=\"T_d3cdc_row15_col3\" class=\"data row15 col3\" >-0.0028</td>\n",
       "      <td id=\"T_d3cdc_row15_col4\" class=\"data row15 col4\" >0.0280</td>\n",
       "    </tr>\n",
       "    <tr>\n",
       "      <th id=\"T_d3cdc_level0_row16\" class=\"row_heading level0 row16\" >huber</th>\n",
       "      <td id=\"T_d3cdc_row16_col0\" class=\"data row16 col0\" >Huber Regressor</td>\n",
       "      <td id=\"T_d3cdc_row16_col1\" class=\"data row16 col1\" >6.6134</td>\n",
       "      <td id=\"T_d3cdc_row16_col2\" class=\"data row16 col2\" >10.8897</td>\n",
       "      <td id=\"T_d3cdc_row16_col3\" class=\"data row16 col3\" >-111.7810</td>\n",
       "      <td id=\"T_d3cdc_row16_col4\" class=\"data row16 col4\" >0.0410</td>\n",
       "    </tr>\n",
       "    <tr>\n",
       "      <th id=\"T_d3cdc_level0_row17\" class=\"row_heading level0 row17\" >par</th>\n",
       "      <td id=\"T_d3cdc_row17_col0\" class=\"data row17 col0\" >Passive Aggressive Regressor</td>\n",
       "      <td id=\"T_d3cdc_row17_col1\" class=\"data row17 col1\" >10.8901</td>\n",
       "      <td id=\"T_d3cdc_row17_col2\" class=\"data row17 col2\" >16.4520</td>\n",
       "      <td id=\"T_d3cdc_row17_col3\" class=\"data row17 col3\" >-248.4103</td>\n",
       "      <td id=\"T_d3cdc_row17_col4\" class=\"data row17 col4\" >0.0240</td>\n",
       "    </tr>\n",
       "    <tr>\n",
       "      <th id=\"T_d3cdc_level0_row18\" class=\"row_heading level0 row18\" >lar</th>\n",
       "      <td id=\"T_d3cdc_row18_col0\" class=\"data row18 col0\" >Least Angle Regression</td>\n",
       "      <td id=\"T_d3cdc_row18_col1\" class=\"data row18 col1\" >52496640340817464.0000</td>\n",
       "      <td id=\"T_d3cdc_row18_col2\" class=\"data row18 col2\" >1070702428540435712.0000</td>\n",
       "      <td id=\"T_d3cdc_row18_col3\" class=\"data row18 col3\" >-6551661823624376888365992721210408960.0000</td>\n",
       "      <td id=\"T_d3cdc_row18_col4\" class=\"data row18 col4\" >0.0240</td>\n",
       "    </tr>\n",
       "  </tbody>\n",
       "</table>\n"
      ],
      "text/plain": [
       "<pandas.io.formats.style.Styler at 0x1066f9ab0>"
      ]
     },
     "metadata": {},
     "output_type": "display_data"
    },
    {
     "data": {
      "text/html": [],
      "text/plain": [
       "<IPython.core.display.HTML object>"
      ]
     },
     "metadata": {},
     "output_type": "display_data"
    },
    {
     "name": "stderr",
     "output_type": "stream",
     "text": [
      "2024/08/05 22:31:36 WARNING mlflow.models.model: Input example should be provided to infer model signature if the model signature is not provided when logging the model.\n"
     ]
    },
    {
     "name": "stderr",
     "output_type": "stream",
     "text": [
      "2024/08/05 22:31:36 INFO mlflow.tracking._tracking_service.client: 🏃 View run Extra Trees Regressor at: http://localhost:8080/#/experiments/584040955558151400/runs/5f502b01f0dc4b6e8f7e8fad8aa248e8.\n"
     ]
    },
    {
     "name": "stderr",
     "output_type": "stream",
     "text": [
      "2024/08/05 22:31:36 INFO mlflow.tracking._tracking_service.client: 🧪 View experiment at: http://localhost:8080/#/experiments/584040955558151400.\n"
     ]
    },
    {
     "name": "stderr",
     "output_type": "stream",
     "text": [
      "2024/08/05 22:31:37 WARNING mlflow.models.model: Input example should be provided to infer model signature if the model signature is not provided when logging the model.\n"
     ]
    },
    {
     "name": "stderr",
     "output_type": "stream",
     "text": [
      "2024/08/05 22:31:37 INFO mlflow.tracking._tracking_service.client: 🏃 View run Random Forest Regressor at: http://localhost:8080/#/experiments/584040955558151400/runs/5b8004196eeb48888f8b7f9e248f6fb7.\n"
     ]
    },
    {
     "name": "stderr",
     "output_type": "stream",
     "text": [
      "2024/08/05 22:31:37 INFO mlflow.tracking._tracking_service.client: 🧪 View experiment at: http://localhost:8080/#/experiments/584040955558151400.\n"
     ]
    },
    {
     "name": "stderr",
     "output_type": "stream",
     "text": [
      "2024/08/05 22:31:38 WARNING mlflow.models.model: Input example should be provided to infer model signature if the model signature is not provided when logging the model.\n"
     ]
    },
    {
     "name": "stderr",
     "output_type": "stream",
     "text": [
      "2024/08/05 22:31:38 INFO mlflow.tracking._tracking_service.client: 🏃 View run Extreme Gradient Boosting at: http://localhost:8080/#/experiments/584040955558151400/runs/9ada3623c05f42d6a97f564caff9e1ba.\n"
     ]
    },
    {
     "name": "stderr",
     "output_type": "stream",
     "text": [
      "2024/08/05 22:31:38 INFO mlflow.tracking._tracking_service.client: 🧪 View experiment at: http://localhost:8080/#/experiments/584040955558151400.\n"
     ]
    },
    {
     "name": "stderr",
     "output_type": "stream",
     "text": [
      "2024/08/05 22:31:39 WARNING mlflow.models.model: Input example should be provided to infer model signature if the model signature is not provided when logging the model.\n"
     ]
    },
    {
     "name": "stderr",
     "output_type": "stream",
     "text": [
      "2024/08/05 22:31:39 INFO mlflow.tracking._tracking_service.client: 🏃 View run Light Gradient Boosting Machine at: http://localhost:8080/#/experiments/584040955558151400/runs/9678e578c72c47f5a2a82df38079dd43.\n"
     ]
    },
    {
     "name": "stderr",
     "output_type": "stream",
     "text": [
      "2024/08/05 22:31:39 INFO mlflow.tracking._tracking_service.client: 🧪 View experiment at: http://localhost:8080/#/experiments/584040955558151400.\n"
     ]
    },
    {
     "name": "stderr",
     "output_type": "stream",
     "text": [
      "2024/08/05 22:31:39 WARNING mlflow.models.model: Input example should be provided to infer model signature if the model signature is not provided when logging the model.\n"
     ]
    },
    {
     "name": "stderr",
     "output_type": "stream",
     "text": [
      "2024/08/05 22:31:39 INFO mlflow.tracking._tracking_service.client: 🏃 View run Gradient Boosting Regressor at: http://localhost:8080/#/experiments/584040955558151400/runs/80bf746e06174ae6bd1082ede01f8447.\n"
     ]
    },
    {
     "name": "stderr",
     "output_type": "stream",
     "text": [
      "2024/08/05 22:31:39 INFO mlflow.tracking._tracking_service.client: 🧪 View experiment at: http://localhost:8080/#/experiments/584040955558151400.\n"
     ]
    },
    {
     "name": "stderr",
     "output_type": "stream",
     "text": [
      "2024/08/05 22:31:39 WARNING mlflow.models.model: Input example should be provided to infer model signature if the model signature is not provided when logging the model.\n"
     ]
    },
    {
     "name": "stderr",
     "output_type": "stream",
     "text": [
      "2024/08/05 22:31:39 INFO mlflow.tracking._tracking_service.client: 🏃 View run Decision Tree Regressor at: http://localhost:8080/#/experiments/584040955558151400/runs/ed39af6e7d25421f817d47ca407d05ea.\n"
     ]
    },
    {
     "name": "stderr",
     "output_type": "stream",
     "text": [
      "2024/08/05 22:31:39 INFO mlflow.tracking._tracking_service.client: 🧪 View experiment at: http://localhost:8080/#/experiments/584040955558151400.\n"
     ]
    },
    {
     "name": "stderr",
     "output_type": "stream",
     "text": [
      "2024/08/05 22:31:39 WARNING mlflow.models.model: Input example should be provided to infer model signature if the model signature is not provided when logging the model.\n"
     ]
    },
    {
     "name": "stderr",
     "output_type": "stream",
     "text": [
      "2024/08/05 22:31:39 INFO mlflow.tracking._tracking_service.client: 🏃 View run AdaBoost Regressor at: http://localhost:8080/#/experiments/584040955558151400/runs/2f0a54150ae8405eacd578cc6bcaca60.\n"
     ]
    },
    {
     "name": "stderr",
     "output_type": "stream",
     "text": [
      "2024/08/05 22:31:39 INFO mlflow.tracking._tracking_service.client: 🧪 View experiment at: http://localhost:8080/#/experiments/584040955558151400.\n"
     ]
    },
    {
     "name": "stderr",
     "output_type": "stream",
     "text": [
      "2024/08/05 22:31:40 WARNING mlflow.models.model: Input example should be provided to infer model signature if the model signature is not provided when logging the model.\n"
     ]
    },
    {
     "name": "stderr",
     "output_type": "stream",
     "text": [
      "2024/08/05 22:31:40 INFO mlflow.tracking._tracking_service.client: 🏃 View run Ridge Regression at: http://localhost:8080/#/experiments/584040955558151400/runs/64a778383b35470c80164330b40e5ee5.\n"
     ]
    },
    {
     "name": "stderr",
     "output_type": "stream",
     "text": [
      "2024/08/05 22:31:40 INFO mlflow.tracking._tracking_service.client: 🧪 View experiment at: http://localhost:8080/#/experiments/584040955558151400.\n"
     ]
    },
    {
     "name": "stderr",
     "output_type": "stream",
     "text": [
      "2024/08/05 22:31:40 WARNING mlflow.models.model: Input example should be provided to infer model signature if the model signature is not provided when logging the model.\n"
     ]
    },
    {
     "name": "stderr",
     "output_type": "stream",
     "text": [
      "2024/08/05 22:31:40 INFO mlflow.tracking._tracking_service.client: 🏃 View run Bayesian Ridge at: http://localhost:8080/#/experiments/584040955558151400/runs/675aa36fea6240d59e2a087580d0df70.\n"
     ]
    },
    {
     "name": "stderr",
     "output_type": "stream",
     "text": [
      "2024/08/05 22:31:40 INFO mlflow.tracking._tracking_service.client: 🧪 View experiment at: http://localhost:8080/#/experiments/584040955558151400.\n"
     ]
    },
    {
     "name": "stderr",
     "output_type": "stream",
     "text": [
      "2024/08/05 22:31:40 WARNING mlflow.models.model: Input example should be provided to infer model signature if the model signature is not provided when logging the model.\n"
     ]
    },
    {
     "name": "stderr",
     "output_type": "stream",
     "text": [
      "2024/08/05 22:31:40 INFO mlflow.tracking._tracking_service.client: 🏃 View run Linear Regression at: http://localhost:8080/#/experiments/584040955558151400/runs/068c8c64789d468e8a5f3663a8ea582a.\n"
     ]
    },
    {
     "name": "stderr",
     "output_type": "stream",
     "text": [
      "2024/08/05 22:31:40 INFO mlflow.tracking._tracking_service.client: 🧪 View experiment at: http://localhost:8080/#/experiments/584040955558151400.\n"
     ]
    },
    {
     "name": "stderr",
     "output_type": "stream",
     "text": [
      "2024/08/05 22:31:40 WARNING mlflow.models.model: Input example should be provided to infer model signature if the model signature is not provided when logging the model.\n"
     ]
    },
    {
     "name": "stderr",
     "output_type": "stream",
     "text": [
      "2024/08/05 22:31:40 INFO mlflow.tracking._tracking_service.client: 🏃 View run K Neighbors Regressor at: http://localhost:8080/#/experiments/584040955558151400/runs/2889d0b8c4e94bb798a091db21092074.\n"
     ]
    },
    {
     "name": "stderr",
     "output_type": "stream",
     "text": [
      "2024/08/05 22:31:40 INFO mlflow.tracking._tracking_service.client: 🧪 View experiment at: http://localhost:8080/#/experiments/584040955558151400.\n"
     ]
    },
    {
     "name": "stderr",
     "output_type": "stream",
     "text": [
      "2024/08/05 22:31:41 WARNING mlflow.models.model: Input example should be provided to infer model signature if the model signature is not provided when logging the model.\n"
     ]
    },
    {
     "name": "stderr",
     "output_type": "stream",
     "text": [
      "2024/08/05 22:31:41 INFO mlflow.tracking._tracking_service.client: 🏃 View run Orthogonal Matching Pursuit at: http://localhost:8080/#/experiments/584040955558151400/runs/63c08597278c4ae886843687b6b14d96.\n"
     ]
    },
    {
     "name": "stderr",
     "output_type": "stream",
     "text": [
      "2024/08/05 22:31:41 INFO mlflow.tracking._tracking_service.client: 🧪 View experiment at: http://localhost:8080/#/experiments/584040955558151400.\n"
     ]
    },
    {
     "name": "stderr",
     "output_type": "stream",
     "text": [
      "2024/08/05 22:31:41 WARNING mlflow.models.model: Input example should be provided to infer model signature if the model signature is not provided when logging the model.\n"
     ]
    },
    {
     "name": "stderr",
     "output_type": "stream",
     "text": [
      "2024/08/05 22:31:41 INFO mlflow.tracking._tracking_service.client: 🏃 View run Lasso Regression at: http://localhost:8080/#/experiments/584040955558151400/runs/e2ca71feefbe4e5c96445bdf7ef28b96.\n"
     ]
    },
    {
     "name": "stderr",
     "output_type": "stream",
     "text": [
      "2024/08/05 22:31:41 INFO mlflow.tracking._tracking_service.client: 🧪 View experiment at: http://localhost:8080/#/experiments/584040955558151400.\n"
     ]
    },
    {
     "name": "stderr",
     "output_type": "stream",
     "text": [
      "2024/08/05 22:31:41 WARNING mlflow.models.model: Input example should be provided to infer model signature if the model signature is not provided when logging the model.\n"
     ]
    },
    {
     "name": "stderr",
     "output_type": "stream",
     "text": [
      "2024/08/05 22:31:41 INFO mlflow.tracking._tracking_service.client: 🏃 View run Elastic Net at: http://localhost:8080/#/experiments/584040955558151400/runs/bd976d8295ac4588949b250d9719a3e3.\n"
     ]
    },
    {
     "name": "stderr",
     "output_type": "stream",
     "text": [
      "2024/08/05 22:31:41 INFO mlflow.tracking._tracking_service.client: 🧪 View experiment at: http://localhost:8080/#/experiments/584040955558151400.\n"
     ]
    },
    {
     "name": "stderr",
     "output_type": "stream",
     "text": [
      "2024/08/05 22:31:41 WARNING mlflow.models.model: Input example should be provided to infer model signature if the model signature is not provided when logging the model.\n"
     ]
    },
    {
     "name": "stderr",
     "output_type": "stream",
     "text": [
      "2024/08/05 22:31:41 INFO mlflow.tracking._tracking_service.client: 🏃 View run Lasso Least Angle Regression at: http://localhost:8080/#/experiments/584040955558151400/runs/a7b10f9225d445e9bb6f3a8fd210df5a.\n"
     ]
    },
    {
     "name": "stderr",
     "output_type": "stream",
     "text": [
      "2024/08/05 22:31:41 INFO mlflow.tracking._tracking_service.client: 🧪 View experiment at: http://localhost:8080/#/experiments/584040955558151400.\n"
     ]
    },
    {
     "name": "stderr",
     "output_type": "stream",
     "text": [
      "2024/08/05 22:31:42 WARNING mlflow.models.model: Input example should be provided to infer model signature if the model signature is not provided when logging the model.\n"
     ]
    },
    {
     "name": "stderr",
     "output_type": "stream",
     "text": [
      "2024/08/05 22:31:42 INFO mlflow.tracking._tracking_service.client: 🏃 View run Dummy Regressor at: http://localhost:8080/#/experiments/584040955558151400/runs/0dc1b679c50b481784e1589c482e6b6d.\n"
     ]
    },
    {
     "name": "stderr",
     "output_type": "stream",
     "text": [
      "2024/08/05 22:31:42 INFO mlflow.tracking._tracking_service.client: 🧪 View experiment at: http://localhost:8080/#/experiments/584040955558151400.\n"
     ]
    },
    {
     "name": "stderr",
     "output_type": "stream",
     "text": [
      "2024/08/05 22:31:42 WARNING mlflow.models.model: Input example should be provided to infer model signature if the model signature is not provided when logging the model.\n"
     ]
    },
    {
     "name": "stderr",
     "output_type": "stream",
     "text": [
      "2024/08/05 22:31:42 INFO mlflow.tracking._tracking_service.client: 🏃 View run Huber Regressor at: http://localhost:8080/#/experiments/584040955558151400/runs/edb8f16fa0b54e67a216d5d8e2fc4d12.\n"
     ]
    },
    {
     "name": "stderr",
     "output_type": "stream",
     "text": [
      "2024/08/05 22:31:42 INFO mlflow.tracking._tracking_service.client: 🧪 View experiment at: http://localhost:8080/#/experiments/584040955558151400.\n"
     ]
    },
    {
     "name": "stderr",
     "output_type": "stream",
     "text": [
      "2024/08/05 22:31:42 WARNING mlflow.models.model: Input example should be provided to infer model signature if the model signature is not provided when logging the model.\n"
     ]
    },
    {
     "name": "stderr",
     "output_type": "stream",
     "text": [
      "2024/08/05 22:31:42 INFO mlflow.tracking._tracking_service.client: 🏃 View run Passive Aggressive Regressor at: http://localhost:8080/#/experiments/584040955558151400/runs/1c04b6c93a224046b4ab85297f3311ff.\n"
     ]
    },
    {
     "name": "stderr",
     "output_type": "stream",
     "text": [
      "2024/08/05 22:31:42 INFO mlflow.tracking._tracking_service.client: 🧪 View experiment at: http://localhost:8080/#/experiments/584040955558151400.\n"
     ]
    },
    {
     "name": "stderr",
     "output_type": "stream",
     "text": [
      "2024/08/05 22:31:42 WARNING mlflow.models.model: Input example should be provided to infer model signature if the model signature is not provided when logging the model.\n"
     ]
    },
    {
     "name": "stderr",
     "output_type": "stream",
     "text": [
      "2024/08/05 22:31:42 INFO mlflow.tracking._tracking_service.client: 🏃 View run Least Angle Regression at: http://localhost:8080/#/experiments/584040955558151400/runs/1a8ab11380614426b4483df856c399cb.\n"
     ]
    },
    {
     "name": "stderr",
     "output_type": "stream",
     "text": [
      "2024/08/05 22:31:42 INFO mlflow.tracking._tracking_service.client: 🧪 View experiment at: http://localhost:8080/#/experiments/584040955558151400.\n"
     ]
    }
   ],
   "source": [
    "best_threes_model = regression.compare_models(n_select=3)"
   ]
  },
  {
   "cell_type": "code",
   "execution_count": 8,
   "id": "02c0ee2d",
   "metadata": {
    "execution": {
     "iopub.execute_input": "2024-08-05T22:31:42.966476Z",
     "iopub.status.busy": "2024-08-05T22:31:42.966086Z",
     "iopub.status.idle": "2024-08-05T22:31:43.019906Z",
     "shell.execute_reply": "2024-08-05T22:31:43.019459Z"
    },
    "papermill": {
     "duration": 0.063043,
     "end_time": "2024-08-05T22:31:43.022128",
     "exception": false,
     "start_time": "2024-08-05T22:31:42.959085",
     "status": "completed"
    },
    "tags": []
   },
   "outputs": [
    {
     "name": "stderr",
     "output_type": "stream",
     "text": [
      "2024/08/05 22:31:43 INFO mlflow.tracking._tracking_service.client: 🏃 View run Session Initialized a25f at: http://localhost:8080/#/experiments/584040955558151400/runs/445bae09f28c4da99a9bfb7296db8f56.\n"
     ]
    },
    {
     "name": "stderr",
     "output_type": "stream",
     "text": [
      "2024/08/05 22:31:43 INFO mlflow.tracking._tracking_service.client: 🧪 View experiment at: http://localhost:8080/#/experiments/584040955558151400.\n"
     ]
    }
   ],
   "source": [
    "mlflow.end_run()"
   ]
  },
  {
   "cell_type": "markdown",
   "id": "f1fa1873",
   "metadata": {
    "papermill": {
     "duration": 0.005657,
     "end_time": "2024-08-05T22:31:43.034832",
     "exception": false,
     "start_time": "2024-08-05T22:31:43.029175",
     "status": "completed"
    },
    "tags": []
   },
   "source": [
    "L'entrainement sur plusieurs types de modèles avec PyCaret montre que pour ce problème, les modèles: ExtraTreesRegressor, XGBRegressor et RandomForestRegressor sont les plus adaptés. Toutefois, nous pensons que les performances obtenus lors de ce premier entrainement peuvent être nettement améliorées. Nous allons attendre de faire le réglage de paramètres et d'obtenir les modèles finaux avant de faire un choix.\n"
   ]
  },
  {
   "cell_type": "markdown",
   "id": "e0ef2fb8",
   "metadata": {
    "papermill": {
     "duration": 0.006117,
     "end_time": "2024-08-05T22:31:43.046865",
     "exception": false,
     "start_time": "2024-08-05T22:31:43.040748",
     "status": "completed"
    },
    "tags": []
   },
   "source": [
    "## Fine-Tuning\n"
   ]
  },
  {
   "cell_type": "code",
   "execution_count": 9,
   "id": "aba0ca01",
   "metadata": {
    "execution": {
     "iopub.execute_input": "2024-08-05T22:31:43.059892Z",
     "iopub.status.busy": "2024-08-05T22:31:43.059525Z",
     "iopub.status.idle": "2024-08-05T22:31:43.088845Z",
     "shell.execute_reply": "2024-08-05T22:31:43.088420Z"
    },
    "papermill": {
     "duration": 0.036968,
     "end_time": "2024-08-05T22:31:43.090300",
     "exception": false,
     "start_time": "2024-08-05T22:31:43.053332",
     "status": "completed"
    },
    "tags": []
   },
   "outputs": [],
   "source": [
    "ESTIMATOR_PARAMS = {\n",
    "    ExtraTreesRegressor.__name__: {\n",
    "        \"estimator\": ExtraTreesRegressor(),\n",
    "        \"params\": {\n",
    "            'regressor__estimator__n_estimators': np.arange(10, 200, 5),\n",
    "        }\n",
    "    },\n",
    "    RandomForestRegressor.__name__: {\n",
    "        \"estimator\": RandomForestRegressor(),\n",
    "        \"params\": {\n",
    "            'regressor__estimator__n_estimators': np.arange(10, 200, 5),\n",
    "        }\n",
    "    },\n",
    "    xgb.XGBRegressor.__name__: {\n",
    "        \"estimator\": xgb.XGBRegressor(),\n",
    "        \"params\": {\n",
    "            'regressor__estimator__n_estimators': np.arange(10, 200, 5),\n",
    "        }\n",
    "    }\n",
    "}"
   ]
  },
  {
   "cell_type": "code",
   "execution_count": 10,
   "id": "c74b879c",
   "metadata": {
    "execution": {
     "iopub.execute_input": "2024-08-05T22:31:43.105044Z",
     "iopub.status.busy": "2024-08-05T22:31:43.104543Z",
     "iopub.status.idle": "2024-08-05T22:41:24.421558Z",
     "shell.execute_reply": "2024-08-05T22:41:24.420759Z"
    },
    "papermill": {
     "duration": 581.327901,
     "end_time": "2024-08-05T22:41:24.424588",
     "exception": false,
     "start_time": "2024-08-05T22:31:43.096687",
     "status": "completed"
    },
    "tags": []
   },
   "outputs": [
    {
     "name": "stderr",
     "output_type": "stream",
     "text": [
      "2024/08/05 22:36:45 WARNING mlflow.models.model: Input example should be provided to infer model signature if the model signature is not provided when logging the model.\n"
     ]
    },
    {
     "name": "stderr",
     "output_type": "stream",
     "text": [
      "2024/08/05 22:36:45 INFO mlflow.tracking._tracking_service.client: 🏃 View run ExtraTreesRegressor at: http://localhost:8080/#/experiments/558378607717202508/runs/20f06ae5a7b94b4d978d84985c20bdde.\n"
     ]
    },
    {
     "name": "stderr",
     "output_type": "stream",
     "text": [
      "2024/08/05 22:36:45 INFO mlflow.tracking._tracking_service.client: 🧪 View experiment at: http://localhost:8080/#/experiments/558378607717202508.\n"
     ]
    },
    {
     "name": "stderr",
     "output_type": "stream",
     "text": [
      "2024/08/05 22:40:47 WARNING mlflow.models.model: Input example should be provided to infer model signature if the model signature is not provided when logging the model.\n"
     ]
    },
    {
     "name": "stderr",
     "output_type": "stream",
     "text": [
      "2024/08/05 22:40:47 INFO mlflow.tracking._tracking_service.client: 🏃 View run RandomForestRegressor at: http://localhost:8080/#/experiments/558378607717202508/runs/75cc2e4d0c3846f38892bddc5897d35c.\n"
     ]
    },
    {
     "name": "stderr",
     "output_type": "stream",
     "text": [
      "2024/08/05 22:40:47 INFO mlflow.tracking._tracking_service.client: 🧪 View experiment at: http://localhost:8080/#/experiments/558378607717202508.\n"
     ]
    },
    {
     "name": "stderr",
     "output_type": "stream",
     "text": [
      "2024/08/05 22:41:24 WARNING mlflow.models.model: Input example should be provided to infer model signature if the model signature is not provided when logging the model.\n"
     ]
    },
    {
     "name": "stderr",
     "output_type": "stream",
     "text": [
      "2024/08/05 22:41:24 INFO mlflow.tracking._tracking_service.client: 🏃 View run XGBRegressor at: http://localhost:8080/#/experiments/558378607717202508/runs/5e1e515fa8c74fdbbaf9e1bc2133ab21.\n"
     ]
    },
    {
     "name": "stderr",
     "output_type": "stream",
     "text": [
      "2024/08/05 22:41:24 INFO mlflow.tracking._tracking_service.client: 🧪 View experiment at: http://localhost:8080/#/experiments/558378607717202508.\n"
     ]
    },
    {
     "name": "stderr",
     "output_type": "stream",
     "text": [
      "2024/08/05 22:41:24 INFO mlflow.tracking._tracking_service.client: 🏃 View run Session-20240805_220843 at: http://localhost:8080/#/experiments/558378607717202508/runs/3869121fc8ba493f903b92bb6a2b1f7b.\n"
     ]
    },
    {
     "name": "stderr",
     "output_type": "stream",
     "text": [
      "2024/08/05 22:41:24 INFO mlflow.tracking._tracking_service.client: 🧪 View experiment at: http://localhost:8080/#/experiments/558378607717202508.\n"
     ]
    }
   ],
   "source": [
    "CURRENT_DATE = pendulum.now()\n",
    "\n",
    "search_cvs = {}\n",
    "\n",
    "def rmse(actual, predicted):\n",
    "    return np.sqrt(mean_squared_error(actual, predicted))\n",
    "\n",
    "scoring = {'r2': make_scorer(r2_score),\n",
    "          'rmse': make_scorer(rmse, greater_is_better=False),\n",
    "          'mae': make_scorer(mean_absolute_error, greater_is_better=False)}\n",
    "\n",
    "# Create an experiment if not exists\n",
    "exp_name = \"building-energy-prediction-tuning-sklearn\"\n",
    "experiment = mlflow.get_experiment_by_name(exp_name)\n",
    "if not experiment:\n",
    "    experiment_id = mlflow.create_experiment(exp_name)\n",
    "else:\n",
    "    experiment_id = experiment.experiment_id\n",
    "\n",
    "with mlflow.start_run(run_name=f\"Session-{CURRENT_DATE.strftime('%Y%m%d_%H%m%S')}\", experiment_id=experiment_id) as parent_run:\n",
    "    for estimator_name, settings in ESTIMATOR_PARAMS.items():\n",
    "        with mlflow.start_run(run_name=estimator_name, nested=True, experiment_id=experiment_id):  \n",
    "            estimator = settings[\"estimator\"]\n",
    "            param_grid = settings[\"params\"]\n",
    "            pipeline = define_pipeline(numerical_transformer=[SimpleImputer(strategy=\"median\"), RobustScaler()],\n",
    "                            categorical_transformer=[SimpleImputer(strategy=\"constant\", fill_value=\"undefined\"), OneHotEncoder(drop=\"if_binary\", handle_unknown=\"ignore\")],\n",
    "                            target_transformer=True,\n",
    "                            estimator=estimator\n",
    "                        ) \n",
    "            grid_search = GridSearchCV(\n",
    "                estimator=pipeline,  # Instantiate the estimator\n",
    "                param_grid=param_grid,\n",
    "                scoring=scoring,\n",
    "                refit='r2',\n",
    "                cv=5,  # Adjust the number of cross-validation folds as needed\n",
    "                n_jobs=-1  # Use all available cores\n",
    "            )\n",
    "            grid_search.fit(x_train, y_train)\n",
    "            search_cvs[estimator_name] = grid_search\n",
    "\n",
    "            mlflow.log_param(\"Estimator\", estimator_name)\n",
    "            mlflow_log_search(grid_search)\n",
    "mlflow.end_run()"
   ]
  },
  {
   "cell_type": "markdown",
   "id": "8bb9cf5a",
   "metadata": {
    "papermill": {
     "duration": 0.007446,
     "end_time": "2024-08-05T22:41:24.444262",
     "exception": false,
     "start_time": "2024-08-05T22:41:24.436816",
     "status": "completed"
    },
    "tags": []
   },
   "source": [
    "## Model Evaluation on Test Data\n"
   ]
  },
  {
   "cell_type": "markdown",
   "id": "ddab31c7",
   "metadata": {
    "papermill": {
     "duration": 0.006505,
     "end_time": "2024-08-05T22:41:24.458978",
     "exception": false,
     "start_time": "2024-08-05T22:41:24.452473",
     "status": "completed"
    },
    "tags": []
   },
   "source": [
    "We are going to evaluate the fine-tuned models to see which one we are going to pick as the final model.\n"
   ]
  },
  {
   "cell_type": "code",
   "execution_count": 11,
   "id": "e9dcf4c4",
   "metadata": {
    "execution": {
     "iopub.execute_input": "2024-08-05T22:41:24.474204Z",
     "iopub.status.busy": "2024-08-05T22:41:24.473934Z",
     "iopub.status.idle": "2024-08-05T22:41:24.539019Z",
     "shell.execute_reply": "2024-08-05T22:41:24.538573Z"
    },
    "papermill": {
     "duration": 0.073939,
     "end_time": "2024-08-05T22:41:24.540597",
     "exception": false,
     "start_time": "2024-08-05T22:41:24.466658",
     "status": "completed"
    },
    "tags": []
   },
   "outputs": [],
   "source": [
    "# Obtaining best_models after fine-tuning\n",
    "models = { f\"{estimator_name}\": search_cv.best_estimator_ for estimator_name, search_cv in search_cvs.items()}"
   ]
  },
  {
   "cell_type": "code",
   "execution_count": 12,
   "id": "853f4cf1",
   "metadata": {
    "execution": {
     "iopub.execute_input": "2024-08-05T22:41:24.555838Z",
     "iopub.status.busy": "2024-08-05T22:41:24.555540Z",
     "iopub.status.idle": "2024-08-05T22:41:32.099872Z",
     "shell.execute_reply": "2024-08-05T22:41:32.099363Z"
    },
    "papermill": {
     "duration": 7.553985,
     "end_time": "2024-08-05T22:41:32.101662",
     "exception": false,
     "start_time": "2024-08-05T22:41:24.547677",
     "status": "completed"
    },
    "tags": []
   },
   "outputs": [
    {
     "name": "stderr",
     "output_type": "stream",
     "text": [
      "2024/08/05 22:41:27 WARNING mlflow.models.model: Input example should be provided to infer model signature if the model signature is not provided when logging the model.\n"
     ]
    },
    {
     "name": "stderr",
     "output_type": "stream",
     "text": [
      "\u001b[32m2024-08-05 22:41:27.888\u001b[0m | \u001b[1mINFO    \u001b[0m | \u001b[36m__main__\u001b[0m:\u001b[36mevaluate_models\u001b[0m:\u001b[36m32\u001b[0m - \u001b[1mExtraTreesRegressor performance \n",
      "               rmse           mae        r2      maxerror\n",
      "train      0.048126      0.001053  1.000000  2.450000e+00\n",
      "test   48369.475170  10081.420872  0.999957  1.095773e+06\u001b[0m\n"
     ]
    },
    {
     "name": "stderr",
     "output_type": "stream",
     "text": [
      "2024/08/05 22:41:27 INFO mlflow.tracking._tracking_service.client: 🏃 View run ExtraTreesRegressor at: http://localhost:8080/#/experiments/109946002118914662/runs/fce8dc197f52495d9d3e490d2509e261.\n"
     ]
    },
    {
     "name": "stderr",
     "output_type": "stream",
     "text": [
      "2024/08/05 22:41:27 INFO mlflow.tracking._tracking_service.client: 🧪 View experiment at: http://localhost:8080/#/experiments/109946002118914662.\n"
     ]
    },
    {
     "name": "stderr",
     "output_type": "stream",
     "text": [
      "2024/08/05 22:41:30 WARNING mlflow.models.model: Input example should be provided to infer model signature if the model signature is not provided when logging the model.\n"
     ]
    },
    {
     "name": "stderr",
     "output_type": "stream",
     "text": [
      "\u001b[32m2024-08-05 22:41:30.265\u001b[0m | \u001b[1mINFO    \u001b[0m | \u001b[36m__main__\u001b[0m:\u001b[36mevaluate_models\u001b[0m:\u001b[36m32\u001b[0m - \u001b[1mRandomForestRegressor performance \n",
      "               rmse          mae       r2       maxerror\n",
      "train  21713.875866  3655.122823  0.99999  527733.169894\n",
      "test   57238.830956  9691.325000  0.99994  976613.839451\u001b[0m\n"
     ]
    },
    {
     "name": "stderr",
     "output_type": "stream",
     "text": [
      "2024/08/05 22:41:30 INFO mlflow.tracking._tracking_service.client: 🏃 View run RandomForestRegressor at: http://localhost:8080/#/experiments/109946002118914662/runs/8f152807d65546b5886038bfd93c490a.\n"
     ]
    },
    {
     "name": "stderr",
     "output_type": "stream",
     "text": [
      "2024/08/05 22:41:30 INFO mlflow.tracking._tracking_service.client: 🧪 View experiment at: http://localhost:8080/#/experiments/109946002118914662.\n"
     ]
    },
    {
     "name": "stderr",
     "output_type": "stream",
     "text": [
      "2024/08/05 22:41:32 WARNING mlflow.models.model: Input example should be provided to infer model signature if the model signature is not provided when logging the model.\n"
     ]
    },
    {
     "name": "stderr",
     "output_type": "stream",
     "text": [
      "\u001b[32m2024-08-05 22:41:32.056\u001b[0m | \u001b[1mINFO    \u001b[0m | \u001b[36m__main__\u001b[0m:\u001b[36mevaluate_models\u001b[0m:\u001b[36m32\u001b[0m - \u001b[1mXGBRegressor performance \n",
      "               rmse           mae        r2   maxerror\n",
      "train  12080.151165   4857.946258  0.999997   144560.0\n",
      "test   99689.462709  21382.829393  0.999819  1350564.0\u001b[0m\n"
     ]
    },
    {
     "name": "stderr",
     "output_type": "stream",
     "text": [
      "2024/08/05 22:41:32 INFO mlflow.tracking._tracking_service.client: 🏃 View run XGBRegressor at: http://localhost:8080/#/experiments/109946002118914662/runs/e6c7029dc4d84ac78c0955948820b1c1.\n"
     ]
    },
    {
     "name": "stderr",
     "output_type": "stream",
     "text": [
      "2024/08/05 22:41:32 INFO mlflow.tracking._tracking_service.client: 🧪 View experiment at: http://localhost:8080/#/experiments/109946002118914662.\n"
     ]
    },
    {
     "name": "stderr",
     "output_type": "stream",
     "text": [
      "2024/08/05 22:41:32 INFO mlflow.tracking._tracking_service.client: 🏃 View run Session-20240805_220843 at: http://localhost:8080/#/experiments/109946002118914662/runs/a1c2c6690f54491bb14e9a38ad15298a.\n"
     ]
    },
    {
     "name": "stderr",
     "output_type": "stream",
     "text": [
      "2024/08/05 22:41:32 INFO mlflow.tracking._tracking_service.client: 🧪 View experiment at: http://localhost:8080/#/experiments/109946002118914662.\n"
     ]
    },
    {
     "name": "stderr",
     "output_type": "stream",
     "text": [
      "\u001b[32m2024-08-05 22:41:32.093\u001b[0m | \u001b[1mINFO    \u001b[0m | \u001b[36m__main__\u001b[0m:\u001b[36m<module>\u001b[0m:\u001b[36m39\u001b[0m - \u001b[1mExtraTreesRegressor is the best estimator found for this problem with an R2 score of 0.9999573625215327\u001b[0m\n"
     ]
    }
   ],
   "source": [
    "exp_name = \"building-energy-prediction-evaluation\"\n",
    "experiment = mlflow.get_experiment_by_name(exp_name)\n",
    "if not experiment:\n",
    "    experiment_id = mlflow.create_experiment(exp_name)\n",
    "else:\n",
    "    experiment_id = experiment.experiment_id\n",
    "\n",
    "def evaluate_models(estimators, x_train, x_test, y_train, y_test):\n",
    "    # Dict of R2 scores for the estimators\n",
    "    r2_scores = {}\n",
    "    with mlflow.start_run(run_name=f\"Session-{CURRENT_DATE.strftime('%Y%m%d_%H%m%S')}\", experiment_id=experiment_id):\n",
    "        for estimator_name, estimator in estimators.items():\n",
    "            with mlflow.start_run(run_name=estimator_name, nested=True, experiment_id=experiment_id): \n",
    "                y_train_pred = estimator.predict(x_train)\n",
    "                y_test_pred = estimator.predict(x_test)\n",
    "\n",
    "                train_metrics = eval_metrics(y_train, y_train_pred)\n",
    "                test_metrics = eval_metrics(y_test, y_test_pred)\n",
    "\n",
    "                # Add the R2 score of the model to the global dict\n",
    "                r2_scores[estimator_name] = test_metrics['r2']\n",
    "\n",
    "                # Log the regressor parameters\n",
    "                mlflow.log_params(estimator.regressor.steps[-1][1].get_params())\n",
    "\n",
    "                # Log the best metric\n",
    "                mlflow.log_metrics(test_metrics)\n",
    "\n",
    "                # Log the model\n",
    "                mlflow.sklearn.log_model(estimator.regressor.steps[-1][1], \"model\")\n",
    "\n",
    "                logger.info(f\"\"\"{estimator_name} performance \\n{pd.DataFrame({'train': train_metrics, 'test': test_metrics}).T}\"\"\")\n",
    "    return max(r2_scores.items(), key=lambda item: item[1])\n",
    "\n",
    "mlflow.end_run()\n",
    "\n",
    "best_estimator, score = evaluate_models(models, x_train, x_test, y_train, y_test)\n",
    "\n",
    "logger.info(f\"\"\"{best_estimator} is the best estimator found for this problem with an R2 score of {score}\"\"\")"
   ]
  },
  {
   "cell_type": "markdown",
   "id": "8e5e16d4",
   "metadata": {
    "papermill": {
     "duration": 0.007511,
     "end_time": "2024-08-05T22:41:32.118316",
     "exception": false,
     "start_time": "2024-08-05T22:41:32.110805",
     "status": "completed"
    },
    "tags": []
   },
   "source": [
    "### Prediction Error Plot\n"
   ]
  },
  {
   "cell_type": "code",
   "execution_count": 13,
   "id": "7dd2502c",
   "metadata": {
    "execution": {
     "iopub.execute_input": "2024-08-05T22:41:32.133265Z",
     "iopub.status.busy": "2024-08-05T22:41:32.132998Z",
     "iopub.status.idle": "2024-08-05T22:41:33.203465Z",
     "shell.execute_reply": "2024-08-05T22:41:33.202147Z"
    },
    "papermill": {
     "duration": 1.08247,
     "end_time": "2024-08-05T22:41:33.207527",
     "exception": false,
     "start_time": "2024-08-05T22:41:32.125057",
     "status": "completed"
    },
    "tags": []
   },
   "outputs": [
    {
     "name": "stdout",
     "output_type": "stream",
     "text": [
      "Prediction plot for estimator ExtraTreesRegressor\n"
     ]
    },
    {
     "data": {
      "image/png": "[encoded data removed]",
      "text/plain": [
       "<Figure size 800x550 with 1 Axes>"
      ]
     },
     "metadata": {},
     "output_type": "display_data"
    },
    {
     "name": "stdout",
     "output_type": "stream",
     "text": [
      "Prediction plot for estimator RandomForestRegressor\n"
     ]
    },
    {
     "data": {
      "image/png": "[encoded data removed]",
      "text/plain": [
       "<Figure size 800x550 with 1 Axes>"
      ]
     },
     "metadata": {},
     "output_type": "display_data"
    },
    {
     "name": "stdout",
     "output_type": "stream",
     "text": [
      "Prediction plot for estimator XGBRegressor\n"
     ]
    },
    {
     "data": {
      "image/png": "[encoded data removed]",
      "text/plain": [
       "<Figure size 800x550 with 1 Axes>"
      ]
     },
     "metadata": {},
     "output_type": "display_data"
    }
   ],
   "source": [
    "prediction_error_plot(models, x_train, x_test, y_train, y_test)"
   ]
  },
  {
   "cell_type": "markdown",
   "id": "b00334cb",
   "metadata": {
    "papermill": {
     "duration": 0.017943,
     "end_time": "2024-08-05T22:41:33.244241",
     "exception": false,
     "start_time": "2024-08-05T22:41:33.226298",
     "status": "completed"
    },
    "tags": []
   },
   "source": [
    "### Residual Plot\n"
   ]
  },
  {
   "cell_type": "code",
   "execution_count": 14,
   "id": "97461d10",
   "metadata": {
    "execution": {
     "iopub.execute_input": "2024-08-05T22:41:33.271053Z",
     "iopub.status.busy": "2024-08-05T22:41:33.270713Z",
     "iopub.status.idle": "2024-08-05T22:41:34.987418Z",
     "shell.execute_reply": "2024-08-05T22:41:34.986869Z"
    },
    "papermill": {
     "duration": 1.732141,
     "end_time": "2024-08-05T22:41:34.989540",
     "exception": false,
     "start_time": "2024-08-05T22:41:33.257399",
     "status": "completed"
    },
    "tags": []
   },
   "outputs": [
    {
     "name": "stdout",
     "output_type": "stream",
     "text": [
      "Residual plot for estimator ExtraTreesRegressor\n"
     ]
    },
    {
     "data": {
      "image/png": "[encoded data removed]",
      "text/plain": [
       "<Figure size 800x550 with 2 Axes>"
      ]
     },
     "metadata": {},
     "output_type": "display_data"
    },
    {
     "name": "stdout",
     "output_type": "stream",
     "text": [
      "Residual plot for estimator RandomForestRegressor\n"
     ]
    },
    {
     "data": {
      "image/png": "[encoded data removed]",
      "text/plain": [
       "<Figure size 800x550 with 2 Axes>"
      ]
     },
     "metadata": {},
     "output_type": "display_data"
    },
    {
     "name": "stdout",
     "output_type": "stream",
     "text": [
      "Residual plot for estimator XGBRegressor\n"
     ]
    },
    {
     "data": {
      "image/png": "[encoded data removed]",
      "text/plain": [
       "<Figure size 800x550 with 2 Axes>"
      ]
     },
     "metadata": {},
     "output_type": "display_data"
    }
   ],
   "source": [
    "residual_plot(models, x_train, x_test, y_train, y_test)"
   ]
  }
 ],
 "metadata": {
  "kernelspec": {
   "display_name": "mlops",
   "language": "python",
   "name": "python3"
  },
  "language_info": {
   "codemirror_mode": {
    "name": "ipython",
    "version": 3
   },
   "file_extension": ".py",
   "mimetype": "text/x-python",
   "name": "python",
   "nbconvert_exporter": "python",
   "pygments_lexer": "ipython3",
   "version": "3.10.10"
  },
  "papermill": {
   "default_parameters": {},
   "duration": 641.079819,
   "end_time": "2024-08-05T22:41:37.628558",
   "environment_variables": {},
   "exception": null,
   "input_path": "../notebooks/04-modelisation.ipynb",
   "output_path": "../notebooks/outputs/04-modelisation_output.ipynb",
   "parameters": {},
   "start_time": "2024-08-05T22:30:56.548739",
   "version": "2.6.0"
  },
  "widgets": {
   "application/vnd.jupyter.widget-state+json": {
    "state": {
     "1942b66a70d144f0a49d2515feb56c73": {
      "model_module": "@jupyter-widgets/base",
      "model_module_version": "2.0.0",
      "model_name": "LayoutModel",
      "state": {
       "_model_module": "@jupyter-widgets/base",
       "_model_module_version": "2.0.0",
       "_model_name": "LayoutModel",
       "_view_count": null,
       "_view_module": "@jupyter-widgets/base",
       "_view_module_version": "2.0.0",
       "_view_name": "LayoutView",
       "align_content": null,
       "align_items": null,
       "align_self": null,
       "border_bottom": null,
       "border_left": null,
       "border_right": null,
       "border_top": null,
       "bottom": null,
       "display": null,
       "flex": null,
       "flex_flow": null,
       "grid_area": null,
       "grid_auto_columns": null,
       "grid_auto_flow": null,
       "grid_auto_rows": null,
       "grid_column": null,
       "grid_gap": null,
       "grid_row": null,
       "grid_template_areas": null,
       "grid_template_columns": null,
       "grid_template_rows": null,
       "height": null,
       "justify_content": null,
       "justify_items": null,
       "left": null,
       "margin": null,
       "max_height": null,
       "max_width": null,
       "min_height": null,
       "min_width": null,
       "object_fit": null,
       "object_position": null,
       "order": null,
       "overflow": null,
       "padding": null,
       "right": null,
       "top": null,
       "visibility": null,
       "width": null
      }
     },
     "4cf205dbb1b6421f9e33c514c5efbc78": {
      "model_module": "@jupyter-widgets/base",
      "model_module_version": "2.0.0",
      "model_name": "LayoutModel",
      "state": {
       "_model_module": "@jupyter-widgets/base",
       "_model_module_version": "2.0.0",
       "_model_name": "LayoutModel",
       "_view_count": null,
       "_view_module": "@jupyter-widgets/base",
       "_view_module_version": "2.0.0",
       "_view_name": "LayoutView",
       "align_content": null,
       "align_items": null,
       "align_self": null,
       "border_bottom": null,
       "border_left": null,
       "border_right": null,
       "border_top": null,
       "bottom": null,
       "display": null,
       "flex": null,
       "flex_flow": null,
       "grid_area": null,
       "grid_auto_columns": null,
       "grid_auto_flow": null,
       "grid_auto_rows": null,
       "grid_column": null,
       "grid_gap": null,
       "grid_row": null,
       "grid_template_areas": null,
       "grid_template_columns": null,
       "grid_template_rows": null,
       "height": null,
       "justify_content": null,
       "justify_items": null,
       "left": null,
       "margin": null,
       "max_height": null,
       "max_width": null,
       "min_height": null,
       "min_width": null,
       "object_fit": null,
       "object_position": null,
       "order": null,
       "overflow": null,
       "padding": null,
       "right": null,
       "top": null,
       "visibility": null,
       "width": null
      }
     },
     "69319597b97f48c985e94f1f32d79d99": {
      "model_module": "@jupyter-widgets/controls",
      "model_module_version": "2.0.0",
      "model_name": "HTMLModel",
      "state": {
       "_dom_classes": [],
       "_model_module": "@jupyter-widgets/controls",
       "_model_module_version": "2.0.0",
       "_model_name": "HTMLModel",
       "_view_count": null,
       "_view_module": "@jupyter-widgets/controls",
       "_view_module_version": "2.0.0",
       "_view_name": "HTMLView",
       "description": "",
       "description_allow_html": false,
       "layout": "IPY_MODEL_1942b66a70d144f0a49d2515feb56c73",
       "placeholder": "​",
       "style": "IPY_MODEL_e080fce8e79140cba5caea3a606bf24b",
       "tabbable": null,
       "tooltip": null,
       "value": " 83/83 [00:35&lt;00:00,  1.43it/s]"
      }
     },
     "7b207ccd05154e198f50545a3b22a3f5": {
      "model_module": "@jupyter-widgets/controls",
      "model_module_version": "2.0.0",
      "model_name": "HTMLModel",
      "state": {
       "_dom_classes": [],
       "_model_module": "@jupyter-widgets/controls",
       "_model_module_version": "2.0.0",
       "_model_name": "HTMLModel",
       "_view_count": null,
       "_view_module": "@jupyter-widgets/controls",
       "_view_module_version": "2.0.0",
       "_view_name": "HTMLView",
       "description": "",
       "description_allow_html": false,
       "layout": "IPY_MODEL_c7d22c410a544d94b6df7fc25dc6b164",
       "placeholder": "​",
       "style": "IPY_MODEL_ac10000d09e94f9184a6324c099a058f",
       "tabbable": null,
       "tooltip": null,
       "value": "Processing: 100%"
      }
     },
     "9ed2df379f904dfbabac2b8824fa8461": {
      "model_module": "@jupyter-widgets/controls",
      "model_module_version": "2.0.0",
      "model_name": "FloatProgressModel",
      "state": {
       "_dom_classes": [],
       "_model_module": "@jupyter-widgets/controls",
       "_model_module_version": "2.0.0",
       "_model_name": "FloatProgressModel",
       "_view_count": null,
       "_view_module": "@jupyter-widgets/controls",
       "_view_module_version": "2.0.0",
       "_view_name": "ProgressView",
       "bar_style": "",
       "description": "",
       "description_allow_html": false,
       "layout": "IPY_MODEL_4cf205dbb1b6421f9e33c514c5efbc78",
       "max": 83.0,
       "min": 0.0,
       "orientation": "horizontal",
       "style": "IPY_MODEL_d99dd0aa7eaa4f16932c579b3b1346b8",
       "tabbable": null,
       "tooltip": null,
       "value": 83.0
      }
     },
     "ac10000d09e94f9184a6324c099a058f": {
      "model_module": "@jupyter-widgets/controls",
      "model_module_version": "2.0.0",
      "model_name": "HTMLStyleModel",
      "state": {
       "_model_module": "@jupyter-widgets/controls",
       "_model_module_version": "2.0.0",
       "_model_name": "HTMLStyleModel",
       "_view_count": null,
       "_view_module": "@jupyter-widgets/base",
       "_view_module_version": "2.0.0",
       "_view_name": "StyleView",
       "background": null,
       "description_width": "",
       "font_size": null,
       "text_color": null
      }
     },
     "c287e9f218004edd92c4f78e93195b62": {
      "model_module": "@jupyter-widgets/base",
      "model_module_version": "2.0.0",
      "model_name": "LayoutModel",
      "state": {
       "_model_module": "@jupyter-widgets/base",
       "_model_module_version": "2.0.0",
       "_model_name": "LayoutModel",
       "_view_count": null,
       "_view_module": "@jupyter-widgets/base",
       "_view_module_version": "2.0.0",
       "_view_name": "LayoutView",
       "align_content": null,
       "align_items": null,
       "align_self": null,
       "border_bottom": null,
       "border_left": null,
       "border_right": null,
       "border_top": null,
       "bottom": null,
       "display": null,
       "flex": null,
       "flex_flow": null,
       "grid_area": null,
       "grid_auto_columns": null,
       "grid_auto_flow": null,
       "grid_auto_rows": null,
       "grid_column": null,
       "grid_gap": null,
       "grid_row": null,
       "grid_template_areas": null,
       "grid_template_columns": null,
       "grid_template_rows": null,
       "height": null,
       "justify_content": null,
       "justify_items": null,
       "left": null,
       "margin": null,
       "max_height": null,
       "max_width": null,
       "min_height": null,
       "min_width": null,
       "object_fit": null,
       "object_position": null,
       "order": null,
       "overflow": null,
       "padding": null,
       "right": null,
       "top": null,
       "visibility": "hidden",
       "width": null
      }
     },
     "c7d22c410a544d94b6df7fc25dc6b164": {
      "model_module": "@jupyter-widgets/base",
      "model_module_version": "2.0.0",
      "model_name": "LayoutModel",
      "state": {
       "_model_module": "@jupyter-widgets/base",
       "_model_module_version": "2.0.0",
       "_model_name": "LayoutModel",
       "_view_count": null,
       "_view_module": "@jupyter-widgets/base",
       "_view_module_version": "2.0.0",
       "_view_name": "LayoutView",
       "align_content": null,
       "align_items": null,
       "align_self": null,
       "border_bottom": null,
       "border_left": null,
       "border_right": null,
       "border_top": null,
       "bottom": null,
       "display": null,
       "flex": null,
       "flex_flow": null,
       "grid_area": null,
       "grid_auto_columns": null,
       "grid_auto_flow": null,
       "grid_auto_rows": null,
       "grid_column": null,
       "grid_gap": null,
       "grid_row": null,
       "grid_template_areas": null,
       "grid_template_columns": null,
       "grid_template_rows": null,
       "height": null,
       "justify_content": null,
       "justify_items": null,
       "left": null,
       "margin": null,
       "max_height": null,
       "max_width": null,
       "min_height": null,
       "min_width": null,
       "object_fit": null,
       "object_position": null,
       "order": null,
       "overflow": null,
       "padding": null,
       "right": null,
       "top": null,
       "visibility": null,
       "width": null
      }
     },
     "d99dd0aa7eaa4f16932c579b3b1346b8": {
      "model_module": "@jupyter-widgets/controls",
      "model_module_version": "2.0.0",
      "model_name": "ProgressStyleModel",
      "state": {
       "_model_module": "@jupyter-widgets/controls",
       "_model_module_version": "2.0.0",
       "_model_name": "ProgressStyleModel",
       "_view_count": null,
       "_view_module": "@jupyter-widgets/base",
       "_view_module_version": "2.0.0",
       "_view_name": "StyleView",
       "bar_color": null,
       "description_width": ""
      }
     },
     "df3dbdd1e5fc441c8dd483ba2aa4fb33": {
      "model_module": "@jupyter-widgets/controls",
      "model_module_version": "2.0.0",
      "model_name": "HBoxModel",
      "state": {
       "_dom_classes": [],
       "_model_module": "@jupyter-widgets/controls",
       "_model_module_version": "2.0.0",
       "_model_name": "HBoxModel",
       "_view_count": null,
       "_view_module": "@jupyter-widgets/controls",
       "_view_module_version": "2.0.0",
       "_view_name": "HBoxView",
       "box_style": "",
       "children": [
        "IPY_MODEL_7b207ccd05154e198f50545a3b22a3f5",
        "IPY_MODEL_9ed2df379f904dfbabac2b8824fa8461",
        "IPY_MODEL_69319597b97f48c985e94f1f32d79d99"
       ],
       "layout": "IPY_MODEL_c287e9f218004edd92c4f78e93195b62",
       "tabbable": null,
       "tooltip": null
      }
     },
     "e080fce8e79140cba5caea3a606bf24b": {
      "model_module": "@jupyter-widgets/controls",
      "model_module_version": "2.0.0",
      "model_name": "HTMLStyleModel",
      "state": {
       "_model_module": "@jupyter-widgets/controls",
       "_model_module_version": "2.0.0",
       "_model_name": "HTMLStyleModel",
       "_view_count": null,
       "_view_module": "@jupyter-widgets/base",
       "_view_module_version": "2.0.0",
       "_view_name": "StyleView",
       "background": null,
       "description_width": "",
       "font_size": null,
       "text_color": null
      }
     }
    },
    "version_major": 2,
    "version_minor": 0
   }
  }
 },
 "nbformat": 4,
 "nbformat_minor": 5
}