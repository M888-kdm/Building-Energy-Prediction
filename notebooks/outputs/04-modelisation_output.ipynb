{
 "cells": [
  {
   "cell_type": "code",
   "execution_count": 1,
   "id": "b4a4060c",
   "metadata": {
    "execution": {
     "iopub.execute_input": "2024-08-05T21:11:05.235256Z",
     "iopub.status.busy": "2024-08-05T21:11:05.234877Z",
     "iopub.status.idle": "2024-08-05T21:11:08.876472Z",
     "shell.execute_reply": "2024-08-05T21:11:08.875980Z"
    },
    "papermill": {
     "duration": 3.653088,
     "end_time": "2024-08-05T21:11:08.878348",
     "exception": false,
     "start_time": "2024-08-05T21:11:05.225260",
     "status": "completed"
    },
    "tags": []
   },
   "outputs": [],
   "source": [
    "%reload_ext autoreload\n",
    "%autoreload 2\n",
    "\n",
    "import ast\n",
    "import mlflow\n",
    "import missingno as msno\n",
    "import numpy as np\n",
    "import pandas as pd\n",
    "import ppscore as pps\n",
    "import plotly.express as px\n",
    "import pendulum\n",
    "import seaborn as sns\n",
    "import sys\n",
    "import xgboost as xgb\n",
    "\n",
    "from loguru import logger\n",
    "from matplotlib import pyplot as plt\n",
    "from pathlib import Path\n",
    "from pycaret import regression\n",
    "from scipy.stats import uniform, randint, yeojohnson\n",
    "from sklearn.pipeline import make_pipeline, Pipeline\n",
    "from sklearn.compose import ColumnTransformer, make_column_selector, TransformedTargetRegressor\n",
    "from sklearn.metrics import make_scorer, mean_squared_error, mean_absolute_error, r2_score, max_error\n",
    "from sklearn.model_selection import train_test_split\n",
    "from sklearn.impute import SimpleImputer\n",
    "from sklearn.model_selection import GridSearchCV, RandomizedSearchCV\n",
    "from sklearn.preprocessing import StandardScaler, RobustScaler, OneHotEncoder, quantile_transform\n",
    "from sklearn.ensemble import RandomForestRegressor, ExtraTreesRegressor\n",
    "from typing import Union, Dict\n",
    "from ydata_profiling import ProfileReport\n",
    "from yellowbrick.regressor import ResidualsPlot, PredictionError\n",
    "\n",
    "sys.path.append(str(Path.cwd().parent))\n",
    "from settings.params import *\n",
    "\n",
    "pd.set_option(\"display.max_columns\", None)\n",
    "pd.set_option(\"display.max_rows\", 100)"
   ]
  },
  {
   "cell_type": "code",
   "execution_count": 2,
   "id": "d21fb9b7",
   "metadata": {
    "execution": {
     "iopub.execute_input": "2024-08-05T21:11:08.887612Z",
     "iopub.status.busy": "2024-08-05T21:11:08.887076Z",
     "iopub.status.idle": "2024-08-05T21:11:08.927848Z",
     "shell.execute_reply": "2024-08-05T21:11:08.927384Z"
    },
    "papermill": {
     "duration": 0.046758,
     "end_time": "2024-08-05T21:11:08.929396",
     "exception": false,
     "start_time": "2024-08-05T21:11:08.882638",
     "status": "completed"
    },
    "tags": []
   },
   "outputs": [],
   "source": [
    "data = pd.read_csv(CLEANED_DATA)\n",
    "TARGET_NAME = MODEL_PARAMS['TARGET_NAME']"
   ]
  },
  {
   "cell_type": "code",
   "execution_count": 3,
   "id": "b0330e88",
   "metadata": {
    "execution": {
     "iopub.execute_input": "2024-08-05T21:11:08.936434Z",
     "iopub.status.busy": "2024-08-05T21:11:08.936252Z",
     "iopub.status.idle": "2024-08-05T21:11:08.968234Z",
     "shell.execute_reply": "2024-08-05T21:11:08.967832Z"
    },
    "papermill": {
     "duration": 0.037031,
     "end_time": "2024-08-05T21:11:08.969662",
     "exception": false,
     "start_time": "2024-08-05T21:11:08.932631",
     "status": "completed"
    },
    "tags": []
   },
   "outputs": [],
   "source": [
    "mlflow.set_tracking_uri(uri=\"http://localhost:8080\")"
   ]
  },
  {
   "cell_type": "markdown",
   "id": "83a64672",
   "metadata": {
    "papermill": {
     "duration": 0.003455,
     "end_time": "2024-08-05T21:11:08.976253",
     "exception": false,
     "start_time": "2024-08-05T21:11:08.972798",
     "status": "completed"
    },
    "tags": []
   },
   "source": [
    "# Modeling\n"
   ]
  },
  {
   "cell_type": "markdown",
   "id": "0e392203",
   "metadata": {
    "papermill": {
     "duration": 0.002868,
     "end_time": "2024-08-05T21:11:08.982063",
     "exception": false,
     "start_time": "2024-08-05T21:11:08.979195",
     "status": "completed"
    },
    "tags": []
   },
   "source": [
    "## Train/Test Split\n"
   ]
  },
  {
   "cell_type": "code",
   "execution_count": 4,
   "id": "aeb6c260",
   "metadata": {
    "execution": {
     "iopub.execute_input": "2024-08-05T21:11:08.990873Z",
     "iopub.status.busy": "2024-08-05T21:11:08.990035Z",
     "iopub.status.idle": "2024-08-05T21:11:09.025947Z",
     "shell.execute_reply": "2024-08-05T21:11:09.025523Z"
    },
    "papermill": {
     "duration": 0.041815,
     "end_time": "2024-08-05T21:11:09.027315",
     "exception": false,
     "start_time": "2024-08-05T21:11:08.985500",
     "status": "completed"
    },
    "tags": []
   },
   "outputs": [
    {
     "name": "stderr",
     "output_type": "stream",
     "text": [
      "\u001b[32m2024-08-05 21:11:09.023\u001b[0m | \u001b[1mINFO    \u001b[0m | \u001b[36m__main__\u001b[0m:\u001b[36m<module>\u001b[0m:\u001b[36m3\u001b[0m - \u001b[1m\n",
      "X train: (5205, 8)\n",
      "Y train: (5205,)\n",
      "X test: (1302, 8)\n",
      "Y test: (1302,)\u001b[0m\n"
     ]
    }
   ],
   "source": [
    "x_train, x_test, y_train, y_test = train_test_split(data, data[TARGET_NAME], test_size=MODEL_PARAMS[\"TEST_SIZE\"], random_state=SEED)\n",
    "\n",
    "logger.info(f\"\\nX train: {x_train.shape}\\nY train: {y_train.shape}\\n\"\n",
    "            f\"X test: {x_test.shape}\\nY test: {y_test.shape}\")"
   ]
  },
  {
   "cell_type": "markdown",
   "id": "ee7e10a0",
   "metadata": {
    "papermill": {
     "duration": 0.003024,
     "end_time": "2024-08-05T21:11:09.033732",
     "exception": false,
     "start_time": "2024-08-05T21:11:09.030708",
     "status": "completed"
    },
    "tags": []
   },
   "source": [
    "## Training\n"
   ]
  },
  {
   "cell_type": "code",
   "execution_count": 5,
   "id": "6c3cdc42",
   "metadata": {
    "execution": {
     "iopub.execute_input": "2024-08-05T21:11:09.040529Z",
     "iopub.status.busy": "2024-08-05T21:11:09.040288Z",
     "iopub.status.idle": "2024-08-05T21:11:09.072801Z",
     "shell.execute_reply": "2024-08-05T21:11:09.072263Z"
    },
    "papermill": {
     "duration": 0.037656,
     "end_time": "2024-08-05T21:11:09.074311",
     "exception": false,
     "start_time": "2024-08-05T21:11:09.036655",
     "status": "completed"
    },
    "tags": []
   },
   "outputs": [],
   "source": [
    "df = x_train.copy()\n",
    "df[TARGET_NAME] = np.log(y_train)"
   ]
  },
  {
   "cell_type": "code",
   "execution_count": 6,
   "id": "7795d4d4",
   "metadata": {
    "execution": {
     "iopub.execute_input": "2024-08-05T21:11:09.081804Z",
     "iopub.status.busy": "2024-08-05T21:11:09.081618Z",
     "iopub.status.idle": "2024-08-05T21:11:10.866748Z",
     "shell.execute_reply": "2024-08-05T21:11:10.866277Z"
    },
    "papermill": {
     "duration": 1.790602,
     "end_time": "2024-08-05T21:11:10.868226",
     "exception": false,
     "start_time": "2024-08-05T21:11:09.077624",
     "status": "completed"
    },
    "tags": []
   },
   "outputs": [
    {
     "data": {
      "text/html": [
       "<style type=\"text/css\">\n",
       "#T_954ed_row9_col1 {\n",
       "  background-color: lightgreen;\n",
       "}\n",
       "</style>\n",
       "<table id=\"T_954ed\">\n",
       "  <thead>\n",
       "    <tr>\n",
       "      <th class=\"blank level0\" >&nbsp;</th>\n",
       "      <th id=\"T_954ed_level0_col0\" class=\"col_heading level0 col0\" >Description</th>\n",
       "      <th id=\"T_954ed_level0_col1\" class=\"col_heading level0 col1\" >Value</th>\n",
       "    </tr>\n",
       "  </thead>\n",
       "  <tbody>\n",
       "    <tr>\n",
       "      <th id=\"T_954ed_level0_row0\" class=\"row_heading level0 row0\" >0</th>\n",
       "      <td id=\"T_954ed_row0_col0\" class=\"data row0 col0\" >Session id</td>\n",
       "      <td id=\"T_954ed_row0_col1\" class=\"data row0 col1\" >7707</td>\n",
       "    </tr>\n",
       "    <tr>\n",
       "      <th id=\"T_954ed_level0_row1\" class=\"row_heading level0 row1\" >1</th>\n",
       "      <td id=\"T_954ed_row1_col0\" class=\"data row1 col0\" >Target</td>\n",
       "      <td id=\"T_954ed_row1_col1\" class=\"data row1 col1\" >SiteEnergyUse(kBtu)</td>\n",
       "    </tr>\n",
       "    <tr>\n",
       "      <th id=\"T_954ed_level0_row2\" class=\"row_heading level0 row2\" >2</th>\n",
       "      <td id=\"T_954ed_row2_col0\" class=\"data row2 col0\" >Target type</td>\n",
       "      <td id=\"T_954ed_row2_col1\" class=\"data row2 col1\" >Regression</td>\n",
       "    </tr>\n",
       "    <tr>\n",
       "      <th id=\"T_954ed_level0_row3\" class=\"row_heading level0 row3\" >3</th>\n",
       "      <td id=\"T_954ed_row3_col0\" class=\"data row3 col0\" >Original data shape</td>\n",
       "      <td id=\"T_954ed_row3_col1\" class=\"data row3 col1\" >(5205, 8)</td>\n",
       "    </tr>\n",
       "    <tr>\n",
       "      <th id=\"T_954ed_level0_row4\" class=\"row_heading level0 row4\" >4</th>\n",
       "      <td id=\"T_954ed_row4_col0\" class=\"data row4 col0\" >Transformed data shape</td>\n",
       "      <td id=\"T_954ed_row4_col1\" class=\"data row4 col1\" >(5205, 69)</td>\n",
       "    </tr>\n",
       "    <tr>\n",
       "      <th id=\"T_954ed_level0_row5\" class=\"row_heading level0 row5\" >5</th>\n",
       "      <td id=\"T_954ed_row5_col0\" class=\"data row5 col0\" >Transformed train set shape</td>\n",
       "      <td id=\"T_954ed_row5_col1\" class=\"data row5 col1\" >(4164, 69)</td>\n",
       "    </tr>\n",
       "    <tr>\n",
       "      <th id=\"T_954ed_level0_row6\" class=\"row_heading level0 row6\" >6</th>\n",
       "      <td id=\"T_954ed_row6_col0\" class=\"data row6 col0\" >Transformed test set shape</td>\n",
       "      <td id=\"T_954ed_row6_col1\" class=\"data row6 col1\" >(1041, 69)</td>\n",
       "    </tr>\n",
       "    <tr>\n",
       "      <th id=\"T_954ed_level0_row7\" class=\"row_heading level0 row7\" >7</th>\n",
       "      <td id=\"T_954ed_row7_col0\" class=\"data row7 col0\" >Numeric features</td>\n",
       "      <td id=\"T_954ed_row7_col1\" class=\"data row7 col1\" >5</td>\n",
       "    </tr>\n",
       "    <tr>\n",
       "      <th id=\"T_954ed_level0_row8\" class=\"row_heading level0 row8\" >8</th>\n",
       "      <td id=\"T_954ed_row8_col0\" class=\"data row8 col0\" >Categorical features</td>\n",
       "      <td id=\"T_954ed_row8_col1\" class=\"data row8 col1\" >2</td>\n",
       "    </tr>\n",
       "    <tr>\n",
       "      <th id=\"T_954ed_level0_row9\" class=\"row_heading level0 row9\" >9</th>\n",
       "      <td id=\"T_954ed_row9_col0\" class=\"data row9 col0\" >Preprocess</td>\n",
       "      <td id=\"T_954ed_row9_col1\" class=\"data row9 col1\" >True</td>\n",
       "    </tr>\n",
       "    <tr>\n",
       "      <th id=\"T_954ed_level0_row10\" class=\"row_heading level0 row10\" >10</th>\n",
       "      <td id=\"T_954ed_row10_col0\" class=\"data row10 col0\" >Imputation type</td>\n",
       "      <td id=\"T_954ed_row10_col1\" class=\"data row10 col1\" >simple</td>\n",
       "    </tr>\n",
       "    <tr>\n",
       "      <th id=\"T_954ed_level0_row11\" class=\"row_heading level0 row11\" >11</th>\n",
       "      <td id=\"T_954ed_row11_col0\" class=\"data row11 col0\" >Numeric imputation</td>\n",
       "      <td id=\"T_954ed_row11_col1\" class=\"data row11 col1\" >mean</td>\n",
       "    </tr>\n",
       "    <tr>\n",
       "      <th id=\"T_954ed_level0_row12\" class=\"row_heading level0 row12\" >12</th>\n",
       "      <td id=\"T_954ed_row12_col0\" class=\"data row12 col0\" >Categorical imputation</td>\n",
       "      <td id=\"T_954ed_row12_col1\" class=\"data row12 col1\" >mode</td>\n",
       "    </tr>\n",
       "    <tr>\n",
       "      <th id=\"T_954ed_level0_row13\" class=\"row_heading level0 row13\" >13</th>\n",
       "      <td id=\"T_954ed_row13_col0\" class=\"data row13 col0\" >Maximum one-hot encoding</td>\n",
       "      <td id=\"T_954ed_row13_col1\" class=\"data row13 col1\" >200</td>\n",
       "    </tr>\n",
       "    <tr>\n",
       "      <th id=\"T_954ed_level0_row14\" class=\"row_heading level0 row14\" >14</th>\n",
       "      <td id=\"T_954ed_row14_col0\" class=\"data row14 col0\" >Encoding method</td>\n",
       "      <td id=\"T_954ed_row14_col1\" class=\"data row14 col1\" >None</td>\n",
       "    </tr>\n",
       "    <tr>\n",
       "      <th id=\"T_954ed_level0_row15\" class=\"row_heading level0 row15\" >15</th>\n",
       "      <td id=\"T_954ed_row15_col0\" class=\"data row15 col0\" >Fold Generator</td>\n",
       "      <td id=\"T_954ed_row15_col1\" class=\"data row15 col1\" >KFold</td>\n",
       "    </tr>\n",
       "    <tr>\n",
       "      <th id=\"T_954ed_level0_row16\" class=\"row_heading level0 row16\" >16</th>\n",
       "      <td id=\"T_954ed_row16_col0\" class=\"data row16 col0\" >Fold Number</td>\n",
       "      <td id=\"T_954ed_row16_col1\" class=\"data row16 col1\" >10</td>\n",
       "    </tr>\n",
       "    <tr>\n",
       "      <th id=\"T_954ed_level0_row17\" class=\"row_heading level0 row17\" >17</th>\n",
       "      <td id=\"T_954ed_row17_col0\" class=\"data row17 col0\" >CPU Jobs</td>\n",
       "      <td id=\"T_954ed_row17_col1\" class=\"data row17 col1\" >-1</td>\n",
       "    </tr>\n",
       "    <tr>\n",
       "      <th id=\"T_954ed_level0_row18\" class=\"row_heading level0 row18\" >18</th>\n",
       "      <td id=\"T_954ed_row18_col0\" class=\"data row18 col0\" >Use GPU</td>\n",
       "      <td id=\"T_954ed_row18_col1\" class=\"data row18 col1\" >False</td>\n",
       "    </tr>\n",
       "    <tr>\n",
       "      <th id=\"T_954ed_level0_row19\" class=\"row_heading level0 row19\" >19</th>\n",
       "      <td id=\"T_954ed_row19_col0\" class=\"data row19 col0\" >Log Experiment</td>\n",
       "      <td id=\"T_954ed_row19_col1\" class=\"data row19 col1\" >MlflowLogger</td>\n",
       "    </tr>\n",
       "    <tr>\n",
       "      <th id=\"T_954ed_level0_row20\" class=\"row_heading level0 row20\" >20</th>\n",
       "      <td id=\"T_954ed_row20_col0\" class=\"data row20 col0\" >Experiment Name</td>\n",
       "      <td id=\"T_954ed_row20_col1\" class=\"data row20 col1\" >building-energy-prediction-training</td>\n",
       "    </tr>\n",
       "    <tr>\n",
       "      <th id=\"T_954ed_level0_row21\" class=\"row_heading level0 row21\" >21</th>\n",
       "      <td id=\"T_954ed_row21_col0\" class=\"data row21 col0\" >USI</td>\n",
       "      <td id=\"T_954ed_row21_col1\" class=\"data row21 col1\" >a050</td>\n",
       "    </tr>\n",
       "  </tbody>\n",
       "</table>\n"
      ],
      "text/plain": [
       "<pandas.io.formats.style.Styler at 0x16a1c61a0>"
      ]
     },
     "metadata": {},
     "output_type": "display_data"
    }
   ],
   "source": [
    "exp_reg = regression.setup(df, target=TARGET_NAME, max_encoding_ohe=200, log_experiment=True, experiment_name=\"building-energy-prediction-training\", train_size=0.8)\n",
    "regression.set_config('seed', SEED)\n",
    "regression.remove_metric('MAPE')\n",
    "regression.remove_metric('MSE')\n",
    "regression.remove_metric('RMSLE')"
   ]
  },
  {
   "cell_type": "code",
   "execution_count": 7,
   "id": "52530bef",
   "metadata": {
    "execution": {
     "iopub.execute_input": "2024-08-05T21:11:10.877912Z",
     "iopub.status.busy": "2024-08-05T21:11:10.877364Z",
     "iopub.status.idle": "2024-08-05T21:11:53.612306Z",
     "shell.execute_reply": "2024-08-05T21:11:53.611903Z"
    },
    "papermill": {
     "duration": 42.741706,
     "end_time": "2024-08-05T21:11:53.613963",
     "exception": false,
     "start_time": "2024-08-05T21:11:10.872257",
     "status": "completed"
    },
    "tags": []
   },
   "outputs": [
    {
     "data": {
      "text/html": [],
      "text/plain": [
       "<IPython.core.display.HTML object>"
      ]
     },
     "metadata": {},
     "output_type": "display_data"
    },
    {
     "data": {
      "text/html": [
       "<style type=\"text/css\">\n",
       "#T_487d9 th {\n",
       "  text-align: left;\n",
       "}\n",
       "#T_487d9_row0_col0, #T_487d9_row1_col0, #T_487d9_row1_col1, #T_487d9_row1_col2, #T_487d9_row1_col3, #T_487d9_row2_col0, #T_487d9_row2_col1, #T_487d9_row2_col2, #T_487d9_row2_col3, #T_487d9_row3_col0, #T_487d9_row3_col1, #T_487d9_row3_col2, #T_487d9_row3_col3, #T_487d9_row4_col0, #T_487d9_row4_col1, #T_487d9_row4_col2, #T_487d9_row4_col3, #T_487d9_row5_col0, #T_487d9_row5_col1, #T_487d9_row5_col2, #T_487d9_row5_col3, #T_487d9_row6_col0, #T_487d9_row6_col1, #T_487d9_row6_col2, #T_487d9_row6_col3, #T_487d9_row7_col0, #T_487d9_row7_col1, #T_487d9_row7_col2, #T_487d9_row7_col3, #T_487d9_row8_col0, #T_487d9_row8_col1, #T_487d9_row8_col2, #T_487d9_row8_col3, #T_487d9_row9_col0, #T_487d9_row9_col1, #T_487d9_row9_col2, #T_487d9_row9_col3, #T_487d9_row10_col0, #T_487d9_row10_col1, #T_487d9_row10_col2, #T_487d9_row10_col3, #T_487d9_row11_col0, #T_487d9_row11_col1, #T_487d9_row11_col2, #T_487d9_row11_col3, #T_487d9_row12_col0, #T_487d9_row12_col1, #T_487d9_row12_col2, #T_487d9_row12_col3, #T_487d9_row13_col0, #T_487d9_row13_col1, #T_487d9_row13_col2, #T_487d9_row13_col3, #T_487d9_row14_col0, #T_487d9_row14_col1, #T_487d9_row14_col2, #T_487d9_row14_col3, #T_487d9_row15_col0, #T_487d9_row15_col1, #T_487d9_row15_col2, #T_487d9_row15_col3, #T_487d9_row16_col0, #T_487d9_row16_col1, #T_487d9_row16_col2, #T_487d9_row16_col3, #T_487d9_row17_col0, #T_487d9_row17_col1, #T_487d9_row17_col2, #T_487d9_row17_col3, #T_487d9_row18_col0, #T_487d9_row18_col1, #T_487d9_row18_col2, #T_487d9_row18_col3 {\n",
       "  text-align: left;\n",
       "}\n",
       "#T_487d9_row0_col1, #T_487d9_row0_col2, #T_487d9_row0_col3 {\n",
       "  text-align: left;\n",
       "  background-color: yellow;\n",
       "}\n",
       "#T_487d9_row0_col4, #T_487d9_row1_col4, #T_487d9_row2_col4, #T_487d9_row3_col4, #T_487d9_row4_col4, #T_487d9_row5_col4, #T_487d9_row6_col4, #T_487d9_row7_col4, #T_487d9_row8_col4, #T_487d9_row9_col4, #T_487d9_row10_col4, #T_487d9_row11_col4, #T_487d9_row12_col4, #T_487d9_row15_col4, #T_487d9_row16_col4, #T_487d9_row17_col4, #T_487d9_row18_col4 {\n",
       "  text-align: left;\n",
       "  background-color: lightgrey;\n",
       "}\n",
       "#T_487d9_row13_col4, #T_487d9_row14_col4 {\n",
       "  text-align: left;\n",
       "  background-color: yellow;\n",
       "  background-color: lightgrey;\n",
       "}\n",
       "</style>\n",
       "<table id=\"T_487d9\">\n",
       "  <thead>\n",
       "    <tr>\n",
       "      <th class=\"blank level0\" >&nbsp;</th>\n",
       "      <th id=\"T_487d9_level0_col0\" class=\"col_heading level0 col0\" >Model</th>\n",
       "      <th id=\"T_487d9_level0_col1\" class=\"col_heading level0 col1\" >MAE</th>\n",
       "      <th id=\"T_487d9_level0_col2\" class=\"col_heading level0 col2\" >RMSE</th>\n",
       "      <th id=\"T_487d9_level0_col3\" class=\"col_heading level0 col3\" >R2</th>\n",
       "      <th id=\"T_487d9_level0_col4\" class=\"col_heading level0 col4\" >TT (Sec)</th>\n",
       "    </tr>\n",
       "  </thead>\n",
       "  <tbody>\n",
       "    <tr>\n",
       "      <th id=\"T_487d9_level0_row0\" class=\"row_heading level0 row0\" >et</th>\n",
       "      <td id=\"T_487d9_row0_col0\" class=\"data row0 col0\" >Extra Trees Regressor</td>\n",
       "      <td id=\"T_487d9_row0_col1\" class=\"data row0 col1\" >0.2443</td>\n",
       "      <td id=\"T_487d9_row0_col2\" class=\"data row0 col2\" >0.4394</td>\n",
       "      <td id=\"T_487d9_row0_col3\" class=\"data row0 col3\" >0.8334</td>\n",
       "      <td id=\"T_487d9_row0_col4\" class=\"data row0 col4\" >0.3520</td>\n",
       "    </tr>\n",
       "    <tr>\n",
       "      <th id=\"T_487d9_level0_row1\" class=\"row_heading level0 row1\" >rf</th>\n",
       "      <td id=\"T_487d9_row1_col0\" class=\"data row1 col0\" >Random Forest Regressor</td>\n",
       "      <td id=\"T_487d9_row1_col1\" class=\"data row1 col1\" >0.2818</td>\n",
       "      <td id=\"T_487d9_row1_col2\" class=\"data row1 col2\" >0.4456</td>\n",
       "      <td id=\"T_487d9_row1_col3\" class=\"data row1 col3\" >0.8294</td>\n",
       "      <td id=\"T_487d9_row1_col4\" class=\"data row1 col4\" >0.4460</td>\n",
       "    </tr>\n",
       "    <tr>\n",
       "      <th id=\"T_487d9_level0_row2\" class=\"row_heading level0 row2\" >xgboost</th>\n",
       "      <td id=\"T_487d9_row2_col0\" class=\"data row2 col0\" >Extreme Gradient Boosting</td>\n",
       "      <td id=\"T_487d9_row2_col1\" class=\"data row2 col1\" >0.3138</td>\n",
       "      <td id=\"T_487d9_row2_col2\" class=\"data row2 col2\" >0.4607</td>\n",
       "      <td id=\"T_487d9_row2_col3\" class=\"data row2 col3\" >0.8178</td>\n",
       "      <td id=\"T_487d9_row2_col4\" class=\"data row2 col4\" >0.5020</td>\n",
       "    </tr>\n",
       "    <tr>\n",
       "      <th id=\"T_487d9_level0_row3\" class=\"row_heading level0 row3\" >lightgbm</th>\n",
       "      <td id=\"T_487d9_row3_col0\" class=\"data row3 col0\" >Light Gradient Boosting Machine</td>\n",
       "      <td id=\"T_487d9_row3_col1\" class=\"data row3 col1\" >0.3437</td>\n",
       "      <td id=\"T_487d9_row3_col2\" class=\"data row3 col2\" >0.4897</td>\n",
       "      <td id=\"T_487d9_row3_col3\" class=\"data row3 col3\" >0.7944</td>\n",
       "      <td id=\"T_487d9_row3_col4\" class=\"data row3 col4\" >0.3920</td>\n",
       "    </tr>\n",
       "    <tr>\n",
       "      <th id=\"T_487d9_level0_row4\" class=\"row_heading level0 row4\" >gbr</th>\n",
       "      <td id=\"T_487d9_row4_col0\" class=\"data row4 col0\" >Gradient Boosting Regressor</td>\n",
       "      <td id=\"T_487d9_row4_col1\" class=\"data row4 col1\" >0.3663</td>\n",
       "      <td id=\"T_487d9_row4_col2\" class=\"data row4 col2\" >0.5073</td>\n",
       "      <td id=\"T_487d9_row4_col3\" class=\"data row4 col3\" >0.7795</td>\n",
       "      <td id=\"T_487d9_row4_col4\" class=\"data row4 col4\" >0.2180</td>\n",
       "    </tr>\n",
       "    <tr>\n",
       "      <th id=\"T_487d9_level0_row5\" class=\"row_heading level0 row5\" >dt</th>\n",
       "      <td id=\"T_487d9_row5_col0\" class=\"data row5 col0\" >Decision Tree Regressor</td>\n",
       "      <td id=\"T_487d9_row5_col1\" class=\"data row5 col1\" >0.2992</td>\n",
       "      <td id=\"T_487d9_row5_col2\" class=\"data row5 col2\" >0.5547</td>\n",
       "      <td id=\"T_487d9_row5_col3\" class=\"data row5 col3\" >0.7363</td>\n",
       "      <td id=\"T_487d9_row5_col4\" class=\"data row5 col4\" >0.0400</td>\n",
       "    </tr>\n",
       "    <tr>\n",
       "      <th id=\"T_487d9_level0_row6\" class=\"row_heading level0 row6\" >ada</th>\n",
       "      <td id=\"T_487d9_row6_col0\" class=\"data row6 col0\" >AdaBoost Regressor</td>\n",
       "      <td id=\"T_487d9_row6_col1\" class=\"data row6 col1\" >0.4938</td>\n",
       "      <td id=\"T_487d9_row6_col2\" class=\"data row6 col2\" >0.6503</td>\n",
       "      <td id=\"T_487d9_row6_col3\" class=\"data row6 col3\" >0.6380</td>\n",
       "      <td id=\"T_487d9_row6_col4\" class=\"data row6 col4\" >0.1110</td>\n",
       "    </tr>\n",
       "    <tr>\n",
       "      <th id=\"T_487d9_level0_row7\" class=\"row_heading level0 row7\" >knn</th>\n",
       "      <td id=\"T_487d9_row7_col0\" class=\"data row7 col0\" >K Neighbors Regressor</td>\n",
       "      <td id=\"T_487d9_row7_col1\" class=\"data row7 col1\" >0.5036</td>\n",
       "      <td id=\"T_487d9_row7_col2\" class=\"data row7 col2\" >0.6758</td>\n",
       "      <td id=\"T_487d9_row7_col3\" class=\"data row7 col3\" >0.6092</td>\n",
       "      <td id=\"T_487d9_row7_col4\" class=\"data row7 col4\" >0.0330</td>\n",
       "    </tr>\n",
       "    <tr>\n",
       "      <th id=\"T_487d9_level0_row8\" class=\"row_heading level0 row8\" >ridge</th>\n",
       "      <td id=\"T_487d9_row8_col0\" class=\"data row8 col0\" >Ridge Regression</td>\n",
       "      <td id=\"T_487d9_row8_col1\" class=\"data row8 col1\" >0.5095</td>\n",
       "      <td id=\"T_487d9_row8_col2\" class=\"data row8 col2\" >0.6778</td>\n",
       "      <td id=\"T_487d9_row8_col3\" class=\"data row8 col3\" >0.6071</td>\n",
       "      <td id=\"T_487d9_row8_col4\" class=\"data row8 col4\" >0.0380</td>\n",
       "    </tr>\n",
       "    <tr>\n",
       "      <th id=\"T_487d9_level0_row9\" class=\"row_heading level0 row9\" >br</th>\n",
       "      <td id=\"T_487d9_row9_col0\" class=\"data row9 col0\" >Bayesian Ridge</td>\n",
       "      <td id=\"T_487d9_row9_col1\" class=\"data row9 col1\" >0.5096</td>\n",
       "      <td id=\"T_487d9_row9_col2\" class=\"data row9 col2\" >0.6779</td>\n",
       "      <td id=\"T_487d9_row9_col3\" class=\"data row9 col3\" >0.6070</td>\n",
       "      <td id=\"T_487d9_row9_col4\" class=\"data row9 col4\" >0.0420</td>\n",
       "    </tr>\n",
       "    <tr>\n",
       "      <th id=\"T_487d9_level0_row10\" class=\"row_heading level0 row10\" >lr</th>\n",
       "      <td id=\"T_487d9_row10_col0\" class=\"data row10 col0\" >Linear Regression</td>\n",
       "      <td id=\"T_487d9_row10_col1\" class=\"data row10 col1\" >0.5096</td>\n",
       "      <td id=\"T_487d9_row10_col2\" class=\"data row10 col2\" >0.6785</td>\n",
       "      <td id=\"T_487d9_row10_col3\" class=\"data row10 col3\" >0.6063</td>\n",
       "      <td id=\"T_487d9_row10_col4\" class=\"data row10 col4\" >0.7630</td>\n",
       "    </tr>\n",
       "    <tr>\n",
       "      <th id=\"T_487d9_level0_row11\" class=\"row_heading level0 row11\" >omp</th>\n",
       "      <td id=\"T_487d9_row11_col0\" class=\"data row11 col0\" >Orthogonal Matching Pursuit</td>\n",
       "      <td id=\"T_487d9_row11_col1\" class=\"data row11 col1\" >0.5585</td>\n",
       "      <td id=\"T_487d9_row11_col2\" class=\"data row11 col2\" >0.7456</td>\n",
       "      <td id=\"T_487d9_row11_col3\" class=\"data row11 col3\" >0.5243</td>\n",
       "      <td id=\"T_487d9_row11_col4\" class=\"data row11 col4\" >0.0250</td>\n",
       "    </tr>\n",
       "    <tr>\n",
       "      <th id=\"T_487d9_level0_row12\" class=\"row_heading level0 row12\" >lasso</th>\n",
       "      <td id=\"T_487d9_row12_col0\" class=\"data row12 col0\" >Lasso Regression</td>\n",
       "      <td id=\"T_487d9_row12_col1\" class=\"data row12 col1\" >0.6317</td>\n",
       "      <td id=\"T_487d9_row12_col2\" class=\"data row12 col2\" >0.8281</td>\n",
       "      <td id=\"T_487d9_row12_col3\" class=\"data row12 col3\" >0.4130</td>\n",
       "      <td id=\"T_487d9_row12_col4\" class=\"data row12 col4\" >0.0250</td>\n",
       "    </tr>\n",
       "    <tr>\n",
       "      <th id=\"T_487d9_level0_row13\" class=\"row_heading level0 row13\" >en</th>\n",
       "      <td id=\"T_487d9_row13_col0\" class=\"data row13 col0\" >Elastic Net</td>\n",
       "      <td id=\"T_487d9_row13_col1\" class=\"data row13 col1\" >0.6317</td>\n",
       "      <td id=\"T_487d9_row13_col2\" class=\"data row13 col2\" >0.8281</td>\n",
       "      <td id=\"T_487d9_row13_col3\" class=\"data row13 col3\" >0.4130</td>\n",
       "      <td id=\"T_487d9_row13_col4\" class=\"data row13 col4\" >0.0220</td>\n",
       "    </tr>\n",
       "    <tr>\n",
       "      <th id=\"T_487d9_level0_row14\" class=\"row_heading level0 row14\" >llar</th>\n",
       "      <td id=\"T_487d9_row14_col0\" class=\"data row14 col0\" >Lasso Least Angle Regression</td>\n",
       "      <td id=\"T_487d9_row14_col1\" class=\"data row14 col1\" >0.6317</td>\n",
       "      <td id=\"T_487d9_row14_col2\" class=\"data row14 col2\" >0.8281</td>\n",
       "      <td id=\"T_487d9_row14_col3\" class=\"data row14 col3\" >0.4130</td>\n",
       "      <td id=\"T_487d9_row14_col4\" class=\"data row14 col4\" >0.0220</td>\n",
       "    </tr>\n",
       "    <tr>\n",
       "      <th id=\"T_487d9_level0_row15\" class=\"row_heading level0 row15\" >dummy</th>\n",
       "      <td id=\"T_487d9_row15_col0\" class=\"data row15 col0\" >Dummy Regressor</td>\n",
       "      <td id=\"T_487d9_row15_col1\" class=\"data row15 col1\" >0.8633</td>\n",
       "      <td id=\"T_487d9_row15_col2\" class=\"data row15 col2\" >1.0830</td>\n",
       "      <td id=\"T_487d9_row15_col3\" class=\"data row15 col3\" >-0.0023</td>\n",
       "      <td id=\"T_487d9_row15_col4\" class=\"data row15 col4\" >0.0250</td>\n",
       "    </tr>\n",
       "    <tr>\n",
       "      <th id=\"T_487d9_level0_row16\" class=\"row_heading level0 row16\" >huber</th>\n",
       "      <td id=\"T_487d9_row16_col0\" class=\"data row16 col0\" >Huber Regressor</td>\n",
       "      <td id=\"T_487d9_row16_col1\" class=\"data row16 col1\" >7.3057</td>\n",
       "      <td id=\"T_487d9_row16_col2\" class=\"data row16 col2\" >10.1071</td>\n",
       "      <td id=\"T_487d9_row16_col3\" class=\"data row16 col3\" >-110.6863</td>\n",
       "      <td id=\"T_487d9_row16_col4\" class=\"data row16 col4\" >0.0470</td>\n",
       "    </tr>\n",
       "    <tr>\n",
       "      <th id=\"T_487d9_level0_row17\" class=\"row_heading level0 row17\" >par</th>\n",
       "      <td id=\"T_487d9_row17_col0\" class=\"data row17 col0\" >Passive Aggressive Regressor</td>\n",
       "      <td id=\"T_487d9_row17_col1\" class=\"data row17 col1\" >17.6171</td>\n",
       "      <td id=\"T_487d9_row17_col2\" class=\"data row17 col2\" >40.0046</td>\n",
       "      <td id=\"T_487d9_row17_col3\" class=\"data row17 col3\" >-1571.4348</td>\n",
       "      <td id=\"T_487d9_row17_col4\" class=\"data row17 col4\" >0.0240</td>\n",
       "    </tr>\n",
       "    <tr>\n",
       "      <th id=\"T_487d9_level0_row18\" class=\"row_heading level0 row18\" >lar</th>\n",
       "      <td id=\"T_487d9_row18_col0\" class=\"data row18 col0\" >Least Angle Regression</td>\n",
       "      <td id=\"T_487d9_row18_col1\" class=\"data row18 col1\" >6934076537955412.0000</td>\n",
       "      <td id=\"T_487d9_row18_col2\" class=\"data row18 col2\" >139245322473637776.0000</td>\n",
       "      <td id=\"T_487d9_row18_col3\" class=\"data row18 col3\" >-104123145085751452800139151886254080.0000</td>\n",
       "      <td id=\"T_487d9_row18_col4\" class=\"data row18 col4\" >0.0300</td>\n",
       "    </tr>\n",
       "  </tbody>\n",
       "</table>\n"
      ],
      "text/plain": [
       "<pandas.io.formats.style.Styler at 0x1037f6ef0>"
      ]
     },
     "metadata": {},
     "output_type": "display_data"
    },
    {
     "data": {
      "text/html": [],
      "text/plain": [
       "<IPython.core.display.HTML object>"
      ]
     },
     "metadata": {},
     "output_type": "display_data"
    },
    {
     "name": "stderr",
     "output_type": "stream",
     "text": [
      "2024/08/05 21:11:46 WARNING mlflow.models.model: Input example should be provided to infer model signature if the model signature is not provided when logging the model.\n"
     ]
    },
    {
     "name": "stderr",
     "output_type": "stream",
     "text": [
      "2024/08/05 21:11:46 INFO mlflow.tracking._tracking_service.client: 🏃 View run Extra Trees Regressor at: http://localhost:8080/#/experiments/584040955558151400/runs/7b54e4d8061541bdad03215e15e2139c.\n"
     ]
    },
    {
     "name": "stderr",
     "output_type": "stream",
     "text": [
      "2024/08/05 21:11:46 INFO mlflow.tracking._tracking_service.client: 🧪 View experiment at: http://localhost:8080/#/experiments/584040955558151400.\n"
     ]
    },
    {
     "name": "stderr",
     "output_type": "stream",
     "text": [
      "2024/08/05 21:11:48 WARNING mlflow.models.model: Input example should be provided to infer model signature if the model signature is not provided when logging the model.\n"
     ]
    },
    {
     "name": "stderr",
     "output_type": "stream",
     "text": [
      "2024/08/05 21:11:48 INFO mlflow.tracking._tracking_service.client: 🏃 View run Random Forest Regressor at: http://localhost:8080/#/experiments/584040955558151400/runs/0021aa0e320f43ca8227880383ac49a1.\n"
     ]
    },
    {
     "name": "stderr",
     "output_type": "stream",
     "text": [
      "2024/08/05 21:11:48 INFO mlflow.tracking._tracking_service.client: 🧪 View experiment at: http://localhost:8080/#/experiments/584040955558151400.\n"
     ]
    },
    {
     "name": "stderr",
     "output_type": "stream",
     "text": [
      "2024/08/05 21:11:49 WARNING mlflow.models.model: Input example should be provided to infer model signature if the model signature is not provided when logging the model.\n"
     ]
    },
    {
     "name": "stderr",
     "output_type": "stream",
     "text": [
      "2024/08/05 21:11:49 INFO mlflow.tracking._tracking_service.client: 🏃 View run Extreme Gradient Boosting at: http://localhost:8080/#/experiments/584040955558151400/runs/867e4c29086f48bc8626b4bad4ae8f75.\n"
     ]
    },
    {
     "name": "stderr",
     "output_type": "stream",
     "text": [
      "2024/08/05 21:11:49 INFO mlflow.tracking._tracking_service.client: 🧪 View experiment at: http://localhost:8080/#/experiments/584040955558151400.\n"
     ]
    },
    {
     "name": "stderr",
     "output_type": "stream",
     "text": [
      "2024/08/05 21:11:49 WARNING mlflow.models.model: Input example should be provided to infer model signature if the model signature is not provided when logging the model.\n"
     ]
    },
    {
     "name": "stderr",
     "output_type": "stream",
     "text": [
      "2024/08/05 21:11:49 INFO mlflow.tracking._tracking_service.client: 🏃 View run Light Gradient Boosting Machine at: http://localhost:8080/#/experiments/584040955558151400/runs/50b92d255a8c4f80a0bc91d3ecb2385e.\n"
     ]
    },
    {
     "name": "stderr",
     "output_type": "stream",
     "text": [
      "2024/08/05 21:11:49 INFO mlflow.tracking._tracking_service.client: 🧪 View experiment at: http://localhost:8080/#/experiments/584040955558151400.\n"
     ]
    },
    {
     "name": "stderr",
     "output_type": "stream",
     "text": [
      "2024/08/05 21:11:49 WARNING mlflow.models.model: Input example should be provided to infer model signature if the model signature is not provided when logging the model.\n"
     ]
    },
    {
     "name": "stderr",
     "output_type": "stream",
     "text": [
      "2024/08/05 21:11:49 INFO mlflow.tracking._tracking_service.client: 🏃 View run Gradient Boosting Regressor at: http://localhost:8080/#/experiments/584040955558151400/runs/3dddf7ac3fc947cca273565559181aec.\n"
     ]
    },
    {
     "name": "stderr",
     "output_type": "stream",
     "text": [
      "2024/08/05 21:11:49 INFO mlflow.tracking._tracking_service.client: 🧪 View experiment at: http://localhost:8080/#/experiments/584040955558151400.\n"
     ]
    },
    {
     "name": "stderr",
     "output_type": "stream",
     "text": [
      "2024/08/05 21:11:50 WARNING mlflow.models.model: Input example should be provided to infer model signature if the model signature is not provided when logging the model.\n"
     ]
    },
    {
     "name": "stderr",
     "output_type": "stream",
     "text": [
      "2024/08/05 21:11:50 INFO mlflow.tracking._tracking_service.client: 🏃 View run Decision Tree Regressor at: http://localhost:8080/#/experiments/584040955558151400/runs/f8963488a7154f5388f7f06a0e50ce55.\n"
     ]
    },
    {
     "name": "stderr",
     "output_type": "stream",
     "text": [
      "2024/08/05 21:11:50 INFO mlflow.tracking._tracking_service.client: 🧪 View experiment at: http://localhost:8080/#/experiments/584040955558151400.\n"
     ]
    },
    {
     "name": "stderr",
     "output_type": "stream",
     "text": [
      "2024/08/05 21:11:50 WARNING mlflow.models.model: Input example should be provided to infer model signature if the model signature is not provided when logging the model.\n"
     ]
    },
    {
     "name": "stderr",
     "output_type": "stream",
     "text": [
      "2024/08/05 21:11:50 INFO mlflow.tracking._tracking_service.client: 🏃 View run AdaBoost Regressor at: http://localhost:8080/#/experiments/584040955558151400/runs/e35b59f6e5924b5d9576e6bd40278ce3.\n"
     ]
    },
    {
     "name": "stderr",
     "output_type": "stream",
     "text": [
      "2024/08/05 21:11:50 INFO mlflow.tracking._tracking_service.client: 🧪 View experiment at: http://localhost:8080/#/experiments/584040955558151400.\n"
     ]
    },
    {
     "name": "stderr",
     "output_type": "stream",
     "text": [
      "2024/08/05 21:11:50 WARNING mlflow.models.model: Input example should be provided to infer model signature if the model signature is not provided when logging the model.\n"
     ]
    },
    {
     "name": "stderr",
     "output_type": "stream",
     "text": [
      "2024/08/05 21:11:50 INFO mlflow.tracking._tracking_service.client: 🏃 View run K Neighbors Regressor at: http://localhost:8080/#/experiments/584040955558151400/runs/cd78311a91ba4c6b8e3306695a87723e.\n"
     ]
    },
    {
     "name": "stderr",
     "output_type": "stream",
     "text": [
      "2024/08/05 21:11:50 INFO mlflow.tracking._tracking_service.client: 🧪 View experiment at: http://localhost:8080/#/experiments/584040955558151400.\n"
     ]
    },
    {
     "name": "stderr",
     "output_type": "stream",
     "text": [
      "2024/08/05 21:11:50 WARNING mlflow.models.model: Input example should be provided to infer model signature if the model signature is not provided when logging the model.\n"
     ]
    },
    {
     "name": "stderr",
     "output_type": "stream",
     "text": [
      "2024/08/05 21:11:50 INFO mlflow.tracking._tracking_service.client: 🏃 View run Ridge Regression at: http://localhost:8080/#/experiments/584040955558151400/runs/13e6ff894ddc478191a3ee47a2819bf8.\n"
     ]
    },
    {
     "name": "stderr",
     "output_type": "stream",
     "text": [
      "2024/08/05 21:11:50 INFO mlflow.tracking._tracking_service.client: 🧪 View experiment at: http://localhost:8080/#/experiments/584040955558151400.\n"
     ]
    },
    {
     "name": "stderr",
     "output_type": "stream",
     "text": [
      "2024/08/05 21:11:51 WARNING mlflow.models.model: Input example should be provided to infer model signature if the model signature is not provided when logging the model.\n"
     ]
    },
    {
     "name": "stderr",
     "output_type": "stream",
     "text": [
      "2024/08/05 21:11:51 INFO mlflow.tracking._tracking_service.client: 🏃 View run Bayesian Ridge at: http://localhost:8080/#/experiments/584040955558151400/runs/3ae780e94e454defa2d772d35d0d16fe.\n"
     ]
    },
    {
     "name": "stderr",
     "output_type": "stream",
     "text": [
      "2024/08/05 21:11:51 INFO mlflow.tracking._tracking_service.client: 🧪 View experiment at: http://localhost:8080/#/experiments/584040955558151400.\n"
     ]
    },
    {
     "name": "stderr",
     "output_type": "stream",
     "text": [
      "2024/08/05 21:11:51 WARNING mlflow.models.model: Input example should be provided to infer model signature if the model signature is not provided when logging the model.\n"
     ]
    },
    {
     "name": "stderr",
     "output_type": "stream",
     "text": [
      "2024/08/05 21:11:51 INFO mlflow.tracking._tracking_service.client: 🏃 View run Linear Regression at: http://localhost:8080/#/experiments/584040955558151400/runs/291106ffa69f41df96206b8d263eb397.\n"
     ]
    },
    {
     "name": "stderr",
     "output_type": "stream",
     "text": [
      "2024/08/05 21:11:51 INFO mlflow.tracking._tracking_service.client: 🧪 View experiment at: http://localhost:8080/#/experiments/584040955558151400.\n"
     ]
    },
    {
     "name": "stderr",
     "output_type": "stream",
     "text": [
      "2024/08/05 21:11:51 WARNING mlflow.models.model: Input example should be provided to infer model signature if the model signature is not provided when logging the model.\n"
     ]
    },
    {
     "name": "stderr",
     "output_type": "stream",
     "text": [
      "2024/08/05 21:11:51 INFO mlflow.tracking._tracking_service.client: 🏃 View run Orthogonal Matching Pursuit at: http://localhost:8080/#/experiments/584040955558151400/runs/a00fc2169bb345aaad6e01b696b1e304.\n"
     ]
    },
    {
     "name": "stderr",
     "output_type": "stream",
     "text": [
      "2024/08/05 21:11:51 INFO mlflow.tracking._tracking_service.client: 🧪 View experiment at: http://localhost:8080/#/experiments/584040955558151400.\n"
     ]
    },
    {
     "name": "stderr",
     "output_type": "stream",
     "text": [
      "2024/08/05 21:11:51 WARNING mlflow.models.model: Input example should be provided to infer model signature if the model signature is not provided when logging the model.\n"
     ]
    },
    {
     "name": "stderr",
     "output_type": "stream",
     "text": [
      "2024/08/05 21:11:52 INFO mlflow.tracking._tracking_service.client: 🏃 View run Lasso Regression at: http://localhost:8080/#/experiments/584040955558151400/runs/637bf0381ddd43119237a88082b1948f.\n"
     ]
    },
    {
     "name": "stderr",
     "output_type": "stream",
     "text": [
      "2024/08/05 21:11:52 INFO mlflow.tracking._tracking_service.client: 🧪 View experiment at: http://localhost:8080/#/experiments/584040955558151400.\n"
     ]
    },
    {
     "name": "stderr",
     "output_type": "stream",
     "text": [
      "2024/08/05 21:11:52 WARNING mlflow.models.model: Input example should be provided to infer model signature if the model signature is not provided when logging the model.\n"
     ]
    },
    {
     "name": "stderr",
     "output_type": "stream",
     "text": [
      "2024/08/05 21:11:52 INFO mlflow.tracking._tracking_service.client: 🏃 View run Elastic Net at: http://localhost:8080/#/experiments/584040955558151400/runs/03c6f1c6683a4c468be0b59aa6d37b16.\n"
     ]
    },
    {
     "name": "stderr",
     "output_type": "stream",
     "text": [
      "2024/08/05 21:11:52 INFO mlflow.tracking._tracking_service.client: 🧪 View experiment at: http://localhost:8080/#/experiments/584040955558151400.\n"
     ]
    },
    {
     "name": "stderr",
     "output_type": "stream",
     "text": [
      "2024/08/05 21:11:52 WARNING mlflow.models.model: Input example should be provided to infer model signature if the model signature is not provided when logging the model.\n"
     ]
    },
    {
     "name": "stderr",
     "output_type": "stream",
     "text": [
      "2024/08/05 21:11:52 INFO mlflow.tracking._tracking_service.client: 🏃 View run Lasso Least Angle Regression at: http://localhost:8080/#/experiments/584040955558151400/runs/97e7a91e75314befb2bb0a0022453e64.\n"
     ]
    },
    {
     "name": "stderr",
     "output_type": "stream",
     "text": [
      "2024/08/05 21:11:52 INFO mlflow.tracking._tracking_service.client: 🧪 View experiment at: http://localhost:8080/#/experiments/584040955558151400.\n"
     ]
    },
    {
     "name": "stderr",
     "output_type": "stream",
     "text": [
      "2024/08/05 21:11:52 WARNING mlflow.models.model: Input example should be provided to infer model signature if the model signature is not provided when logging the model.\n"
     ]
    },
    {
     "name": "stderr",
     "output_type": "stream",
     "text": [
      "2024/08/05 21:11:52 INFO mlflow.tracking._tracking_service.client: 🏃 View run Dummy Regressor at: http://localhost:8080/#/experiments/584040955558151400/runs/2b62366885994bf7b7c24d05087b0c34.\n"
     ]
    },
    {
     "name": "stderr",
     "output_type": "stream",
     "text": [
      "2024/08/05 21:11:52 INFO mlflow.tracking._tracking_service.client: 🧪 View experiment at: http://localhost:8080/#/experiments/584040955558151400.\n"
     ]
    },
    {
     "name": "stderr",
     "output_type": "stream",
     "text": [
      "2024/08/05 21:11:52 WARNING mlflow.models.model: Input example should be provided to infer model signature if the model signature is not provided when logging the model.\n"
     ]
    },
    {
     "name": "stderr",
     "output_type": "stream",
     "text": [
      "2024/08/05 21:11:52 INFO mlflow.tracking._tracking_service.client: 🏃 View run Huber Regressor at: http://localhost:8080/#/experiments/584040955558151400/runs/b4bb8799352c4922af4d8fec36885102.\n"
     ]
    },
    {
     "name": "stderr",
     "output_type": "stream",
     "text": [
      "2024/08/05 21:11:52 INFO mlflow.tracking._tracking_service.client: 🧪 View experiment at: http://localhost:8080/#/experiments/584040955558151400.\n"
     ]
    },
    {
     "name": "stderr",
     "output_type": "stream",
     "text": [
      "2024/08/05 21:11:53 WARNING mlflow.models.model: Input example should be provided to infer model signature if the model signature is not provided when logging the model.\n"
     ]
    },
    {
     "name": "stderr",
     "output_type": "stream",
     "text": [
      "2024/08/05 21:11:53 INFO mlflow.tracking._tracking_service.client: 🏃 View run Passive Aggressive Regressor at: http://localhost:8080/#/experiments/584040955558151400/runs/0c1bafaef92842cea047b700de2133e2.\n"
     ]
    },
    {
     "name": "stderr",
     "output_type": "stream",
     "text": [
      "2024/08/05 21:11:53 INFO mlflow.tracking._tracking_service.client: 🧪 View experiment at: http://localhost:8080/#/experiments/584040955558151400.\n"
     ]
    },
    {
     "name": "stderr",
     "output_type": "stream",
     "text": [
      "2024/08/05 21:11:53 WARNING mlflow.models.model: Input example should be provided to infer model signature if the model signature is not provided when logging the model.\n"
     ]
    },
    {
     "name": "stderr",
     "output_type": "stream",
     "text": [
      "2024/08/05 21:11:53 INFO mlflow.tracking._tracking_service.client: 🏃 View run Least Angle Regression at: http://localhost:8080/#/experiments/584040955558151400/runs/0074b2f218b5420cbe85aa766d7b161e.\n"
     ]
    },
    {
     "name": "stderr",
     "output_type": "stream",
     "text": [
      "2024/08/05 21:11:53 INFO mlflow.tracking._tracking_service.client: 🧪 View experiment at: http://localhost:8080/#/experiments/584040955558151400.\n"
     ]
    }
   ],
   "source": [
    "best_threes_model = regression.compare_models(n_select=3)"
   ]
  },
  {
   "cell_type": "code",
   "execution_count": 8,
   "id": "74ad38d4",
   "metadata": {
    "execution": {
     "iopub.execute_input": "2024-08-05T21:11:53.630339Z",
     "iopub.status.busy": "2024-08-05T21:11:53.630097Z",
     "iopub.status.idle": "2024-08-05T21:11:53.692090Z",
     "shell.execute_reply": "2024-08-05T21:11:53.691679Z"
    },
    "papermill": {
     "duration": 0.070996,
     "end_time": "2024-08-05T21:11:53.693464",
     "exception": false,
     "start_time": "2024-08-05T21:11:53.622468",
     "status": "completed"
    },
    "tags": []
   },
   "outputs": [
    {
     "name": "stderr",
     "output_type": "stream",
     "text": [
      "2024/08/05 21:11:53 INFO mlflow.tracking._tracking_service.client: 🏃 View run Session Initialized a050 at: http://localhost:8080/#/experiments/584040955558151400/runs/4590340b834a4b0f81e3395083080ef1.\n"
     ]
    },
    {
     "name": "stderr",
     "output_type": "stream",
     "text": [
      "2024/08/05 21:11:53 INFO mlflow.tracking._tracking_service.client: 🧪 View experiment at: http://localhost:8080/#/experiments/584040955558151400.\n"
     ]
    }
   ],
   "source": [
    "mlflow.end_run()"
   ]
  },
  {
   "cell_type": "markdown",
   "id": "e4bf0911",
   "metadata": {
    "papermill": {
     "duration": 0.005865,
     "end_time": "2024-08-05T21:11:53.705624",
     "exception": false,
     "start_time": "2024-08-05T21:11:53.699759",
     "status": "completed"
    },
    "tags": []
   },
   "source": [
    "L'entrainement sur plusieurs types de modèles avec PyCaret montre que pour ce problème, les modèles: ExtraTreesRegressor, XGBRegressor et RandomForestRegressor sont les plus adaptés. Toutefois, nous pensons que les performances obtenus lors de ce premier entrainement peuvent être nettement améliorées. Nous allons attendre de faire le réglage de paramètres et d'obtenir les modèles finaux avant de faire un choix.\n"
   ]
  },
  {
   "cell_type": "markdown",
   "id": "952a93d4",
   "metadata": {
    "papermill": {
     "duration": 0.006013,
     "end_time": "2024-08-05T21:11:53.718164",
     "exception": false,
     "start_time": "2024-08-05T21:11:53.712151",
     "status": "completed"
    },
    "tags": []
   },
   "source": [
    "## Fine-Tuning\n"
   ]
  },
  {
   "cell_type": "code",
   "execution_count": 9,
   "id": "84c5c685",
   "metadata": {
    "execution": {
     "iopub.execute_input": "2024-08-05T21:11:53.732487Z",
     "iopub.status.busy": "2024-08-05T21:11:53.732170Z",
     "iopub.status.idle": "2024-08-05T21:11:53.767044Z",
     "shell.execute_reply": "2024-08-05T21:11:53.766596Z"
    },
    "papermill": {
     "duration": 0.044112,
     "end_time": "2024-08-05T21:11:53.768571",
     "exception": false,
     "start_time": "2024-08-05T21:11:53.724459",
     "status": "completed"
    },
    "tags": []
   },
   "outputs": [],
   "source": [
    "def define_pipeline(numerical_transformer: list,\n",
    "                    categorical_transformer: list,\n",
    "                    estimator: Pipeline,\n",
    "                    target_transformer: bool = False,\n",
    "                    **kwargs: dict) -> Pipeline:\n",
    "    \"\"\" Define pipeline for modeling\n",
    "\n",
    "    Args:\n",
    "        **kwargs:\n",
    "\n",
    "    Returns:\n",
    "        Pipeline: sklearn pipeline\n",
    "    \"\"\"\n",
    "    numerical_transformer = make_pipeline(*numerical_transformer)\n",
    "\n",
    "    categorical_transformer = make_pipeline(*categorical_transformer)\n",
    "\n",
    "    preprocessor = ColumnTransformer(\n",
    "        transformers=[\n",
    "            (\"num\", numerical_transformer, make_column_selector(dtype_include=[\"number\"])),\n",
    "            (\"cat\", categorical_transformer, make_column_selector(dtype_include=[\"object\", \"bool\"])),\n",
    "        ],\n",
    "        remainder=\"drop\",  # non-specified columns are dropped\n",
    "        verbose_feature_names_out=False,  # will not prefix any feature names with the name of the transformer\n",
    "    )\n",
    "    # Append regressor to preprocessing pipelineregreregffdffdffd.\n",
    "    # Now we have a full prediction pipeline.\n",
    "    if target_transformer:\n",
    "        model_pipe1 = Pipeline(steps=[(\"preprocessor\", preprocessor),\n",
    "                                     (\"estimator\", estimator)])\n",
    "        model_pipe = TransformedTargetRegressor(regressor=model_pipe1,\n",
    "                                                func=np.log,\n",
    "                                                inverse_func=np.exp)\n",
    "    else:\n",
    "        model_pipe = Pipeline(steps=[(\"preprocessor\", preprocessor), (\"estimator\", estimator)])\n",
    "        \n",
    "    # logger.info(f\"{model_pipe}\")\n",
    "    return model_pipe"
   ]
  },
  {
   "cell_type": "code",
   "execution_count": 10,
   "id": "784059bf",
   "metadata": {
    "execution": {
     "iopub.execute_input": "2024-08-05T21:11:53.781586Z",
     "iopub.status.busy": "2024-08-05T21:11:53.781368Z",
     "iopub.status.idle": "2024-08-05T21:11:53.814074Z",
     "shell.execute_reply": "2024-08-05T21:11:53.813654Z"
    },
    "papermill": {
     "duration": 0.040717,
     "end_time": "2024-08-05T21:11:53.815485",
     "exception": false,
     "start_time": "2024-08-05T21:11:53.774768",
     "status": "completed"
    },
    "tags": []
   },
   "outputs": [],
   "source": [
    "ESTIMATOR_PARAMS = {\n",
    "    ExtraTreesRegressor.__name__: {\n",
    "        \"estimator\": ExtraTreesRegressor(),\n",
    "        \"params\": {\n",
    "            'regressor__estimator__n_estimators': np.arange(10, 200, 5),\n",
    "        }\n",
    "    },\n",
    "    RandomForestRegressor.__name__: {\n",
    "        \"estimator\": RandomForestRegressor(),\n",
    "        \"params\": {\n",
    "            'regressor__estimator__n_estimators': np.arange(10, 200, 5),\n",
    "        }\n",
    "    },\n",
    "    xgb.XGBRegressor.__name__: {\n",
    "        \"estimator\": xgb.XGBRegressor(),\n",
    "        \"params\": {\n",
    "            'regressor__estimator__n_estimators': np.arange(10, 200, 5),\n",
    "        }\n",
    "    }\n",
    "}"
   ]
  },
  {
   "cell_type": "code",
   "execution_count": 11,
   "id": "4ee88f92",
   "metadata": {
    "execution": {
     "iopub.execute_input": "2024-08-05T21:11:53.829287Z",
     "iopub.status.busy": "2024-08-05T21:11:53.829059Z",
     "iopub.status.idle": "2024-08-05T21:23:17.283163Z",
     "shell.execute_reply": "2024-08-05T21:23:17.282401Z"
    },
    "papermill": {
     "duration": 683.463692,
     "end_time": "2024-08-05T21:23:17.285846",
     "exception": false,
     "start_time": "2024-08-05T21:11:53.822154",
     "status": "completed"
    },
    "tags": []
   },
   "outputs": [
    {
     "name": "stderr",
     "output_type": "stream",
     "text": [
      "2024/08/05 21:17:41 WARNING mlflow.models.model: Input example should be provided to infer model signature if the model signature is not provided when logging the model.\n"
     ]
    },
    {
     "name": "stderr",
     "output_type": "stream",
     "text": [
      "2024/08/05 21:17:41 INFO mlflow.tracking._tracking_service.client: 🏃 View run ExtraTreesRegressor at: http://localhost:8080/#/experiments/558378607717202508/runs/5d478fdfa56f44beb3839ef802ea8474.\n"
     ]
    },
    {
     "name": "stderr",
     "output_type": "stream",
     "text": [
      "2024/08/05 21:17:41 INFO mlflow.tracking._tracking_service.client: 🧪 View experiment at: http://localhost:8080/#/experiments/558378607717202508.\n"
     ]
    },
    {
     "name": "stderr",
     "output_type": "stream",
     "text": [
      "2024/08/05 21:22:39 WARNING mlflow.models.model: Input example should be provided to infer model signature if the model signature is not provided when logging the model.\n"
     ]
    },
    {
     "name": "stderr",
     "output_type": "stream",
     "text": [
      "2024/08/05 21:22:39 INFO mlflow.tracking._tracking_service.client: 🏃 View run RandomForestRegressor at: http://localhost:8080/#/experiments/558378607717202508/runs/e330de05a95d4d4dbcea58bddc5b3d82.\n"
     ]
    },
    {
     "name": "stderr",
     "output_type": "stream",
     "text": [
      "2024/08/05 21:22:39 INFO mlflow.tracking._tracking_service.client: 🧪 View experiment at: http://localhost:8080/#/experiments/558378607717202508.\n"
     ]
    },
    {
     "name": "stderr",
     "output_type": "stream",
     "text": [
      "2024/08/05 21:23:17 WARNING mlflow.models.model: Input example should be provided to infer model signature if the model signature is not provided when logging the model.\n"
     ]
    },
    {
     "name": "stderr",
     "output_type": "stream",
     "text": [
      "2024/08/05 21:23:17 INFO mlflow.tracking._tracking_service.client: 🏃 View run XGBRegressor at: http://localhost:8080/#/experiments/558378607717202508/runs/44879d5f173c45cd810453fba48cb570.\n"
     ]
    },
    {
     "name": "stderr",
     "output_type": "stream",
     "text": [
      "2024/08/05 21:23:17 INFO mlflow.tracking._tracking_service.client: 🧪 View experiment at: http://localhost:8080/#/experiments/558378607717202508.\n"
     ]
    },
    {
     "name": "stderr",
     "output_type": "stream",
     "text": [
      "2024/08/05 21:23:17 INFO mlflow.tracking._tracking_service.client: 🏃 View run Session-20240805_210853 at: http://localhost:8080/#/experiments/558378607717202508/runs/67d74d81408d4655ac5ec47f7bfb07df.\n"
     ]
    },
    {
     "name": "stderr",
     "output_type": "stream",
     "text": [
      "2024/08/05 21:23:17 INFO mlflow.tracking._tracking_service.client: 🧪 View experiment at: http://localhost:8080/#/experiments/558378607717202508.\n"
     ]
    }
   ],
   "source": [
    "CURRENT_DATE = pendulum.now()\n",
    "\n",
    "search_cvs = {}\n",
    "\n",
    "def rmse(actual, predicted):\n",
    "    return np.sqrt(mean_squared_error(actual, predicted))\n",
    "\n",
    "def mlflow_log_search(search):\n",
    "    best_params = search.best_params_\n",
    "\n",
    "    # Log the best parameters\n",
    "    mlflow.log_params(best_params)\n",
    "\n",
    "    # Log the best metric\n",
    "    mlflow.log_metric(\"R2\", search.best_score_)\n",
    "\n",
    "    # Log the model\n",
    "    mlflow.sklearn.log_model(search.best_estimator_, \"model\")\n",
    "\n",
    "scoring = {'r2': make_scorer(r2_score),\n",
    "          'rmse': make_scorer(rmse, greater_is_better=False),\n",
    "          'mae': make_scorer(mean_absolute_error, greater_is_better=False)}\n",
    "\n",
    "# Create an experiment if not exists\n",
    "exp_name = \"building-energy-prediction-tuning-sklearn\"\n",
    "experiment = mlflow.get_experiment_by_name(exp_name)\n",
    "if not experiment:\n",
    "    experiment_id = mlflow.create_experiment(exp_name)\n",
    "else:\n",
    "    experiment_id = experiment.experiment_id\n",
    "\n",
    "with mlflow.start_run(run_name=f\"Session-{CURRENT_DATE.strftime('%Y%m%d_%H%m%S')}\", experiment_id=experiment_id) as parent_run:\n",
    "    for estimator_name, settings in ESTIMATOR_PARAMS.items():\n",
    "        with mlflow.start_run(run_name=estimator_name, nested=True, experiment_id=experiment_id):  \n",
    "            estimator = settings[\"estimator\"]\n",
    "            param_grid = settings[\"params\"]\n",
    "            pipeline = define_pipeline(numerical_transformer=[SimpleImputer(strategy=\"median\"),RobustScaler()],\n",
    "                            categorical_transformer=[SimpleImputer(strategy=\"constant\", fill_value=\"undefined\"), OneHotEncoder(drop=\"if_binary\", handle_unknown=\"ignore\")],\n",
    "                            target_transformer=True,\n",
    "                            estimator=estimator\n",
    "                        ) \n",
    "            grid_search = GridSearchCV(\n",
    "                estimator=pipeline,  # Instantiate the estimator\n",
    "                param_grid=param_grid,\n",
    "                scoring=scoring,\n",
    "                refit='r2',\n",
    "                cv=5,  # Adjust the number of cross-validation folds as needed\n",
    "                n_jobs=-1  # Use all available cores\n",
    "            )\n",
    "            grid_search.fit(x_train, y_train)\n",
    "            search_cvs[estimator_name] = grid_search\n",
    "\n",
    "            mlflow.log_param(\"Estimator\", estimator_name)\n",
    "            mlflow_log_search(grid_search)\n",
    "mlflow.end_run()"
   ]
  },
  {
   "cell_type": "code",
   "execution_count": 12,
   "id": "5284b62f",
   "metadata": {
    "execution": {
     "iopub.execute_input": "2024-08-05T21:23:17.306638Z",
     "iopub.status.busy": "2024-08-05T21:23:17.306390Z",
     "iopub.status.idle": "2024-08-05T21:29:13.944046Z",
     "shell.execute_reply": "2024-08-05T21:29:13.943203Z"
    },
    "papermill": {
     "duration": 355.441749,
     "end_time": "2024-08-05T21:29:12.738754",
     "exception": false,
     "start_time": "2024-08-05T21:23:17.297005",
     "status": "completed"
    },
    "tags": []
   },
   "outputs": [
    {
     "name": "stderr",
     "output_type": "stream",
     "text": [
      "2024/08/05 21:28:49 WARNING mlflow.models.model: Input example should be provided to infer model signature if the model signature is not provided when logging the model.\n"
     ]
    },
    {
     "name": "stderr",
     "output_type": "stream",
     "text": [
      "2024/08/05 21:28:49 INFO mlflow.tracking._tracking_service.client: 🏃 View run ExtraTreesRegressor at: http://localhost:8080/#/experiments/558378607717202508/runs/1a3271ea04bc46aeb00c4fd21c83742d.\n"
     ]
    },
    {
     "name": "stderr",
     "output_type": "stream",
     "text": [
      "2024/08/05 21:28:49 INFO mlflow.tracking._tracking_service.client: 🧪 View experiment at: http://localhost:8080/#/experiments/558378607717202508.\n"
     ]
    },
    {
     "name": "stderr",
     "output_type": "stream",
     "text": [
      "2024/08/05 21:29:13 INFO mlflow.tracking._tracking_service.client: 🏃 View run RandomForestRegressor at: http://localhost:8080/#/experiments/558378607717202508/runs/b57acd5c2431432db0ee8eee29ca0bef.\n"
     ]
    },
    {
     "name": "stderr",
     "output_type": "stream",
     "text": [
      "2024/08/05 21:29:13 INFO mlflow.tracking._tracking_service.client: 🧪 View experiment at: http://localhost:8080/#/experiments/558378607717202508.\n"
     ]
    },
    {
     "name": "stderr",
     "output_type": "stream",
     "text": [
      "2024/08/05 21:29:13 INFO mlflow.tracking._tracking_service.client: 🏃 View run Session-20240805_210817 at: http://localhost:8080/#/experiments/558378607717202508/runs/3d056654576845cd8255624a65e7e0b0.\n"
     ]
    },
    {
     "name": "stderr",
     "output_type": "stream",
     "text": [
      "2024/08/05 21:29:13 INFO mlflow.tracking._tracking_service.client: 🧪 View experiment at: http://localhost:8080/#/experiments/558378607717202508.\n"
     ]
    },
    {
     "ename": "KeyboardInterrupt",
     "evalue": "",
     "output_type": "error",
     "traceback": [
      "\u001b[0;31m---------------------------------------------------------------------------\u001b[0m",
      "\u001b[0;31mKeyboardInterrupt\u001b[0m                         Traceback (most recent call last)",
      "Cell \u001b[0;32mIn[12], line 50\u001b[0m\n\u001b[1;32m     37\u001b[0m pipeline \u001b[38;5;241m=\u001b[39m define_pipeline(numerical_transformer\u001b[38;5;241m=\u001b[39m[SimpleImputer(strategy\u001b[38;5;241m=\u001b[39m\u001b[38;5;124m\"\u001b[39m\u001b[38;5;124mmedian\u001b[39m\u001b[38;5;124m\"\u001b[39m),RobustScaler()],\n\u001b[1;32m     38\u001b[0m                 categorical_transformer\u001b[38;5;241m=\u001b[39m[SimpleImputer(strategy\u001b[38;5;241m=\u001b[39m\u001b[38;5;124m\"\u001b[39m\u001b[38;5;124mconstant\u001b[39m\u001b[38;5;124m\"\u001b[39m, fill_value\u001b[38;5;241m=\u001b[39m\u001b[38;5;124m\"\u001b[39m\u001b[38;5;124mundefined\u001b[39m\u001b[38;5;124m\"\u001b[39m), OneHotEncoder(drop\u001b[38;5;241m=\u001b[39m\u001b[38;5;124m\"\u001b[39m\u001b[38;5;124mif_binary\u001b[39m\u001b[38;5;124m\"\u001b[39m, handle_unknown\u001b[38;5;241m=\u001b[39m\u001b[38;5;124m\"\u001b[39m\u001b[38;5;124mignore\u001b[39m\u001b[38;5;124m\"\u001b[39m)],\n\u001b[1;32m     39\u001b[0m                 target_transformer\u001b[38;5;241m=\u001b[39m\u001b[38;5;28;01mTrue\u001b[39;00m,\n\u001b[1;32m     40\u001b[0m                 estimator\u001b[38;5;241m=\u001b[39mestimator\n\u001b[1;32m     41\u001b[0m             ) \n\u001b[1;32m     42\u001b[0m grid_search \u001b[38;5;241m=\u001b[39m GridSearchCV(\n\u001b[1;32m     43\u001b[0m     estimator\u001b[38;5;241m=\u001b[39mpipeline,  \u001b[38;5;66;03m# Instantiate the estimator\u001b[39;00m\n\u001b[1;32m     44\u001b[0m     param_grid\u001b[38;5;241m=\u001b[39mparam_grid,\n\u001b[0;32m   (...)\u001b[0m\n\u001b[1;32m     48\u001b[0m     n_jobs\u001b[38;5;241m=\u001b[39m\u001b[38;5;241m-\u001b[39m\u001b[38;5;241m1\u001b[39m  \u001b[38;5;66;03m# Use all available cores\u001b[39;00m\n\u001b[1;32m     49\u001b[0m )\n\u001b[0;32m---> 50\u001b[0m \u001b[43mgrid_search\u001b[49m\u001b[38;5;241;43m.\u001b[39;49m\u001b[43mfit\u001b[49m\u001b[43m(\u001b[49m\u001b[43mx_train\u001b[49m\u001b[43m,\u001b[49m\u001b[43m \u001b[49m\u001b[43my_train\u001b[49m\u001b[43m)\u001b[49m\n\u001b[1;32m     51\u001b[0m search_cvs[estimator_name] \u001b[38;5;241m=\u001b[39m grid_search\n\u001b[1;32m     53\u001b[0m mlflow\u001b[38;5;241m.\u001b[39mlog_param(\u001b[38;5;124m\"\u001b[39m\u001b[38;5;124mEstimator\u001b[39m\u001b[38;5;124m\"\u001b[39m, estimator_name)\n",
      "File \u001b[0;32m~/anaconda3/envs/mlops/lib/python3.10/site-packages/sklearn/base.py:1474\u001b[0m, in \u001b[0;36m_fit_context.<locals>.decorator.<locals>.wrapper\u001b[0;34m(estimator, *args, **kwargs)\u001b[0m\n\u001b[1;32m   1467\u001b[0m     estimator\u001b[38;5;241m.\u001b[39m_validate_params()\n\u001b[1;32m   1469\u001b[0m \u001b[38;5;28;01mwith\u001b[39;00m config_context(\n\u001b[1;32m   1470\u001b[0m     skip_parameter_validation\u001b[38;5;241m=\u001b[39m(\n\u001b[1;32m   1471\u001b[0m         prefer_skip_nested_validation \u001b[38;5;129;01mor\u001b[39;00m global_skip_validation\n\u001b[1;32m   1472\u001b[0m     )\n\u001b[1;32m   1473\u001b[0m ):\n\u001b[0;32m-> 1474\u001b[0m     \u001b[38;5;28;01mreturn\u001b[39;00m \u001b[43mfit_method\u001b[49m\u001b[43m(\u001b[49m\u001b[43mestimator\u001b[49m\u001b[43m,\u001b[49m\u001b[43m \u001b[49m\u001b[38;5;241;43m*\u001b[39;49m\u001b[43margs\u001b[49m\u001b[43m,\u001b[49m\u001b[43m \u001b[49m\u001b[38;5;241;43m*\u001b[39;49m\u001b[38;5;241;43m*\u001b[39;49m\u001b[43mkwargs\u001b[49m\u001b[43m)\u001b[49m\n",
      "File \u001b[0;32m~/anaconda3/envs/mlops/lib/python3.10/site-packages/sklearn/model_selection/_search.py:970\u001b[0m, in \u001b[0;36mBaseSearchCV.fit\u001b[0;34m(self, X, y, **params)\u001b[0m\n\u001b[1;32m    964\u001b[0m     results \u001b[38;5;241m=\u001b[39m \u001b[38;5;28mself\u001b[39m\u001b[38;5;241m.\u001b[39m_format_results(\n\u001b[1;32m    965\u001b[0m         all_candidate_params, n_splits, all_out, all_more_results\n\u001b[1;32m    966\u001b[0m     )\n\u001b[1;32m    968\u001b[0m     \u001b[38;5;28;01mreturn\u001b[39;00m results\n\u001b[0;32m--> 970\u001b[0m \u001b[38;5;28;43mself\u001b[39;49m\u001b[38;5;241;43m.\u001b[39;49m\u001b[43m_run_search\u001b[49m\u001b[43m(\u001b[49m\u001b[43mevaluate_candidates\u001b[49m\u001b[43m)\u001b[49m\n\u001b[1;32m    972\u001b[0m \u001b[38;5;66;03m# multimetric is determined here because in the case of a callable\u001b[39;00m\n\u001b[1;32m    973\u001b[0m \u001b[38;5;66;03m# self.scoring the return type is only known after calling\u001b[39;00m\n\u001b[1;32m    974\u001b[0m first_test_score \u001b[38;5;241m=\u001b[39m all_out[\u001b[38;5;241m0\u001b[39m][\u001b[38;5;124m\"\u001b[39m\u001b[38;5;124mtest_scores\u001b[39m\u001b[38;5;124m\"\u001b[39m]\n",
      "File \u001b[0;32m~/anaconda3/envs/mlops/lib/python3.10/site-packages/sklearn/model_selection/_search.py:1527\u001b[0m, in \u001b[0;36mGridSearchCV._run_search\u001b[0;34m(self, evaluate_candidates)\u001b[0m\n\u001b[1;32m   1525\u001b[0m \u001b[38;5;28;01mdef\u001b[39;00m \u001b[38;5;21m_run_search\u001b[39m(\u001b[38;5;28mself\u001b[39m, evaluate_candidates):\n\u001b[1;32m   1526\u001b[0m \u001b[38;5;250m    \u001b[39m\u001b[38;5;124;03m\"\"\"Search all candidates in param_grid\"\"\"\u001b[39;00m\n\u001b[0;32m-> 1527\u001b[0m     \u001b[43mevaluate_candidates\u001b[49m\u001b[43m(\u001b[49m\u001b[43mParameterGrid\u001b[49m\u001b[43m(\u001b[49m\u001b[38;5;28;43mself\u001b[39;49m\u001b[38;5;241;43m.\u001b[39;49m\u001b[43mparam_grid\u001b[49m\u001b[43m)\u001b[49m\u001b[43m)\u001b[49m\n",
      "File \u001b[0;32m~/anaconda3/envs/mlops/lib/python3.10/site-packages/sklearn/model_selection/_search.py:916\u001b[0m, in \u001b[0;36mBaseSearchCV.fit.<locals>.evaluate_candidates\u001b[0;34m(candidate_params, cv, more_results)\u001b[0m\n\u001b[1;32m    908\u001b[0m \u001b[38;5;28;01mif\u001b[39;00m \u001b[38;5;28mself\u001b[39m\u001b[38;5;241m.\u001b[39mverbose \u001b[38;5;241m>\u001b[39m \u001b[38;5;241m0\u001b[39m:\n\u001b[1;32m    909\u001b[0m     \u001b[38;5;28mprint\u001b[39m(\n\u001b[1;32m    910\u001b[0m         \u001b[38;5;124m\"\u001b[39m\u001b[38;5;124mFitting \u001b[39m\u001b[38;5;132;01m{0}\u001b[39;00m\u001b[38;5;124m folds for each of \u001b[39m\u001b[38;5;132;01m{1}\u001b[39;00m\u001b[38;5;124m candidates,\u001b[39m\u001b[38;5;124m\"\u001b[39m\n\u001b[1;32m    911\u001b[0m         \u001b[38;5;124m\"\u001b[39m\u001b[38;5;124m totalling \u001b[39m\u001b[38;5;132;01m{2}\u001b[39;00m\u001b[38;5;124m fits\u001b[39m\u001b[38;5;124m\"\u001b[39m\u001b[38;5;241m.\u001b[39mformat(\n\u001b[1;32m    912\u001b[0m             n_splits, n_candidates, n_candidates \u001b[38;5;241m*\u001b[39m n_splits\n\u001b[1;32m    913\u001b[0m         )\n\u001b[1;32m    914\u001b[0m     )\n\u001b[0;32m--> 916\u001b[0m out \u001b[38;5;241m=\u001b[39m \u001b[43mparallel\u001b[49m\u001b[43m(\u001b[49m\n\u001b[1;32m    917\u001b[0m \u001b[43m    \u001b[49m\u001b[43mdelayed\u001b[49m\u001b[43m(\u001b[49m\u001b[43m_fit_and_score\u001b[49m\u001b[43m)\u001b[49m\u001b[43m(\u001b[49m\n\u001b[1;32m    918\u001b[0m \u001b[43m        \u001b[49m\u001b[43mclone\u001b[49m\u001b[43m(\u001b[49m\u001b[43mbase_estimator\u001b[49m\u001b[43m)\u001b[49m\u001b[43m,\u001b[49m\n\u001b[1;32m    919\u001b[0m \u001b[43m        \u001b[49m\u001b[43mX\u001b[49m\u001b[43m,\u001b[49m\n\u001b[1;32m    920\u001b[0m \u001b[43m        \u001b[49m\u001b[43my\u001b[49m\u001b[43m,\u001b[49m\n\u001b[1;32m    921\u001b[0m \u001b[43m        \u001b[49m\u001b[43mtrain\u001b[49m\u001b[38;5;241;43m=\u001b[39;49m\u001b[43mtrain\u001b[49m\u001b[43m,\u001b[49m\n\u001b[1;32m    922\u001b[0m \u001b[43m        \u001b[49m\u001b[43mtest\u001b[49m\u001b[38;5;241;43m=\u001b[39;49m\u001b[43mtest\u001b[49m\u001b[43m,\u001b[49m\n\u001b[1;32m    923\u001b[0m \u001b[43m        \u001b[49m\u001b[43mparameters\u001b[49m\u001b[38;5;241;43m=\u001b[39;49m\u001b[43mparameters\u001b[49m\u001b[43m,\u001b[49m\n\u001b[1;32m    924\u001b[0m \u001b[43m        \u001b[49m\u001b[43msplit_progress\u001b[49m\u001b[38;5;241;43m=\u001b[39;49m\u001b[43m(\u001b[49m\u001b[43msplit_idx\u001b[49m\u001b[43m,\u001b[49m\u001b[43m \u001b[49m\u001b[43mn_splits\u001b[49m\u001b[43m)\u001b[49m\u001b[43m,\u001b[49m\n\u001b[1;32m    925\u001b[0m \u001b[43m        \u001b[49m\u001b[43mcandidate_progress\u001b[49m\u001b[38;5;241;43m=\u001b[39;49m\u001b[43m(\u001b[49m\u001b[43mcand_idx\u001b[49m\u001b[43m,\u001b[49m\u001b[43m \u001b[49m\u001b[43mn_candidates\u001b[49m\u001b[43m)\u001b[49m\u001b[43m,\u001b[49m\n\u001b[1;32m    926\u001b[0m \u001b[43m        \u001b[49m\u001b[38;5;241;43m*\u001b[39;49m\u001b[38;5;241;43m*\u001b[39;49m\u001b[43mfit_and_score_kwargs\u001b[49m\u001b[43m,\u001b[49m\n\u001b[1;32m    927\u001b[0m \u001b[43m    \u001b[49m\u001b[43m)\u001b[49m\n\u001b[1;32m    928\u001b[0m \u001b[43m    \u001b[49m\u001b[38;5;28;43;01mfor\u001b[39;49;00m\u001b[43m \u001b[49m\u001b[43m(\u001b[49m\u001b[43mcand_idx\u001b[49m\u001b[43m,\u001b[49m\u001b[43m \u001b[49m\u001b[43mparameters\u001b[49m\u001b[43m)\u001b[49m\u001b[43m,\u001b[49m\u001b[43m \u001b[49m\u001b[43m(\u001b[49m\u001b[43msplit_idx\u001b[49m\u001b[43m,\u001b[49m\u001b[43m \u001b[49m\u001b[43m(\u001b[49m\u001b[43mtrain\u001b[49m\u001b[43m,\u001b[49m\u001b[43m \u001b[49m\u001b[43mtest\u001b[49m\u001b[43m)\u001b[49m\u001b[43m)\u001b[49m\u001b[43m \u001b[49m\u001b[38;5;129;43;01min\u001b[39;49;00m\u001b[43m \u001b[49m\u001b[43mproduct\u001b[49m\u001b[43m(\u001b[49m\n\u001b[1;32m    929\u001b[0m \u001b[43m        \u001b[49m\u001b[38;5;28;43menumerate\u001b[39;49m\u001b[43m(\u001b[49m\u001b[43mcandidate_params\u001b[49m\u001b[43m)\u001b[49m\u001b[43m,\u001b[49m\n\u001b[1;32m    930\u001b[0m \u001b[43m        \u001b[49m\u001b[38;5;28;43menumerate\u001b[39;49m\u001b[43m(\u001b[49m\u001b[43mcv\u001b[49m\u001b[38;5;241;43m.\u001b[39;49m\u001b[43msplit\u001b[49m\u001b[43m(\u001b[49m\u001b[43mX\u001b[49m\u001b[43m,\u001b[49m\u001b[43m \u001b[49m\u001b[43my\u001b[49m\u001b[43m,\u001b[49m\u001b[43m \u001b[49m\u001b[38;5;241;43m*\u001b[39;49m\u001b[38;5;241;43m*\u001b[39;49m\u001b[43mrouted_params\u001b[49m\u001b[38;5;241;43m.\u001b[39;49m\u001b[43msplitter\u001b[49m\u001b[38;5;241;43m.\u001b[39;49m\u001b[43msplit\u001b[49m\u001b[43m)\u001b[49m\u001b[43m)\u001b[49m\u001b[43m,\u001b[49m\n\u001b[1;32m    931\u001b[0m \u001b[43m    \u001b[49m\u001b[43m)\u001b[49m\n\u001b[1;32m    932\u001b[0m \u001b[43m\u001b[49m\u001b[43m)\u001b[49m\n\u001b[1;32m    934\u001b[0m \u001b[38;5;28;01mif\u001b[39;00m \u001b[38;5;28mlen\u001b[39m(out) \u001b[38;5;241m<\u001b[39m \u001b[38;5;241m1\u001b[39m:\n\u001b[1;32m    935\u001b[0m     \u001b[38;5;28;01mraise\u001b[39;00m \u001b[38;5;167;01mValueError\u001b[39;00m(\n\u001b[1;32m    936\u001b[0m         \u001b[38;5;124m\"\u001b[39m\u001b[38;5;124mNo fits were performed. \u001b[39m\u001b[38;5;124m\"\u001b[39m\n\u001b[1;32m    937\u001b[0m         \u001b[38;5;124m\"\u001b[39m\u001b[38;5;124mWas the CV iterator empty? \u001b[39m\u001b[38;5;124m\"\u001b[39m\n\u001b[1;32m    938\u001b[0m         \u001b[38;5;124m\"\u001b[39m\u001b[38;5;124mWere there no candidates?\u001b[39m\u001b[38;5;124m\"\u001b[39m\n\u001b[1;32m    939\u001b[0m     )\n",
      "File \u001b[0;32m~/anaconda3/envs/mlops/lib/python3.10/site-packages/sklearn/utils/parallel.py:67\u001b[0m, in \u001b[0;36mParallel.__call__\u001b[0;34m(self, iterable)\u001b[0m\n\u001b[1;32m     62\u001b[0m config \u001b[38;5;241m=\u001b[39m get_config()\n\u001b[1;32m     63\u001b[0m iterable_with_config \u001b[38;5;241m=\u001b[39m (\n\u001b[1;32m     64\u001b[0m     (_with_config(delayed_func, config), args, kwargs)\n\u001b[1;32m     65\u001b[0m     \u001b[38;5;28;01mfor\u001b[39;00m delayed_func, args, kwargs \u001b[38;5;129;01min\u001b[39;00m iterable\n\u001b[1;32m     66\u001b[0m )\n\u001b[0;32m---> 67\u001b[0m \u001b[38;5;28;01mreturn\u001b[39;00m \u001b[38;5;28;43msuper\u001b[39;49m\u001b[43m(\u001b[49m\u001b[43m)\u001b[49m\u001b[38;5;241;43m.\u001b[39;49m\u001b[38;5;21;43m__call__\u001b[39;49m\u001b[43m(\u001b[49m\u001b[43miterable_with_config\u001b[49m\u001b[43m)\u001b[49m\n",
      "File \u001b[0;32m~/anaconda3/envs/mlops/lib/python3.10/site-packages/joblib/parallel.py:1952\u001b[0m, in \u001b[0;36mParallel.__call__\u001b[0;34m(self, iterable)\u001b[0m\n\u001b[1;32m   1946\u001b[0m \u001b[38;5;66;03m# The first item from the output is blank, but it makes the interpreter\u001b[39;00m\n\u001b[1;32m   1947\u001b[0m \u001b[38;5;66;03m# progress until it enters the Try/Except block of the generator and\u001b[39;00m\n\u001b[1;32m   1948\u001b[0m \u001b[38;5;66;03m# reach the first `yield` statement. This starts the aynchronous\u001b[39;00m\n\u001b[1;32m   1949\u001b[0m \u001b[38;5;66;03m# dispatch of the tasks to the workers.\u001b[39;00m\n\u001b[1;32m   1950\u001b[0m \u001b[38;5;28mnext\u001b[39m(output)\n\u001b[0;32m-> 1952\u001b[0m \u001b[38;5;28;01mreturn\u001b[39;00m output \u001b[38;5;28;01mif\u001b[39;00m \u001b[38;5;28mself\u001b[39m\u001b[38;5;241m.\u001b[39mreturn_generator \u001b[38;5;28;01melse\u001b[39;00m \u001b[38;5;28;43mlist\u001b[39;49m\u001b[43m(\u001b[49m\u001b[43moutput\u001b[49m\u001b[43m)\u001b[49m\n",
      "File \u001b[0;32m~/anaconda3/envs/mlops/lib/python3.10/site-packages/joblib/parallel.py:1595\u001b[0m, in \u001b[0;36mParallel._get_outputs\u001b[0;34m(self, iterator, pre_dispatch)\u001b[0m\n\u001b[1;32m   1592\u001b[0m     \u001b[38;5;28;01myield\u001b[39;00m\n\u001b[1;32m   1594\u001b[0m     \u001b[38;5;28;01mwith\u001b[39;00m \u001b[38;5;28mself\u001b[39m\u001b[38;5;241m.\u001b[39m_backend\u001b[38;5;241m.\u001b[39mretrieval_context():\n\u001b[0;32m-> 1595\u001b[0m         \u001b[38;5;28;01myield from\u001b[39;00m \u001b[38;5;28mself\u001b[39m\u001b[38;5;241m.\u001b[39m_retrieve()\n\u001b[1;32m   1597\u001b[0m \u001b[38;5;28;01mexcept\u001b[39;00m \u001b[38;5;167;01mGeneratorExit\u001b[39;00m:\n\u001b[1;32m   1598\u001b[0m     \u001b[38;5;66;03m# The generator has been garbage collected before being fully\u001b[39;00m\n\u001b[1;32m   1599\u001b[0m     \u001b[38;5;66;03m# consumed. This aborts the remaining tasks if possible and warn\u001b[39;00m\n\u001b[1;32m   1600\u001b[0m     \u001b[38;5;66;03m# the user if necessary.\u001b[39;00m\n\u001b[1;32m   1601\u001b[0m     \u001b[38;5;28mself\u001b[39m\u001b[38;5;241m.\u001b[39m_exception \u001b[38;5;241m=\u001b[39m \u001b[38;5;28;01mTrue\u001b[39;00m\n",
      "File \u001b[0;32m~/anaconda3/envs/mlops/lib/python3.10/site-packages/joblib/parallel.py:1707\u001b[0m, in \u001b[0;36mParallel._retrieve\u001b[0;34m(self)\u001b[0m\n\u001b[1;32m   1702\u001b[0m \u001b[38;5;66;03m# If the next job is not ready for retrieval yet, we just wait for\u001b[39;00m\n\u001b[1;32m   1703\u001b[0m \u001b[38;5;66;03m# async callbacks to progress.\u001b[39;00m\n\u001b[1;32m   1704\u001b[0m \u001b[38;5;28;01mif\u001b[39;00m ((\u001b[38;5;28mlen\u001b[39m(\u001b[38;5;28mself\u001b[39m\u001b[38;5;241m.\u001b[39m_jobs) \u001b[38;5;241m==\u001b[39m \u001b[38;5;241m0\u001b[39m) \u001b[38;5;129;01mor\u001b[39;00m\n\u001b[1;32m   1705\u001b[0m     (\u001b[38;5;28mself\u001b[39m\u001b[38;5;241m.\u001b[39m_jobs[\u001b[38;5;241m0\u001b[39m]\u001b[38;5;241m.\u001b[39mget_status(\n\u001b[1;32m   1706\u001b[0m         timeout\u001b[38;5;241m=\u001b[39m\u001b[38;5;28mself\u001b[39m\u001b[38;5;241m.\u001b[39mtimeout) \u001b[38;5;241m==\u001b[39m TASK_PENDING)):\n\u001b[0;32m-> 1707\u001b[0m     \u001b[43mtime\u001b[49m\u001b[38;5;241;43m.\u001b[39;49m\u001b[43msleep\u001b[49m\u001b[43m(\u001b[49m\u001b[38;5;241;43m0.01\u001b[39;49m\u001b[43m)\u001b[49m\n\u001b[1;32m   1708\u001b[0m     \u001b[38;5;28;01mcontinue\u001b[39;00m\n\u001b[1;32m   1710\u001b[0m \u001b[38;5;66;03m# We need to be careful: the job list can be filling up as\u001b[39;00m\n\u001b[1;32m   1711\u001b[0m \u001b[38;5;66;03m# we empty it and Python list are not thread-safe by\u001b[39;00m\n\u001b[1;32m   1712\u001b[0m \u001b[38;5;66;03m# default hence the use of the lock\u001b[39;00m\n",
      "\u001b[0;31mKeyboardInterrupt\u001b[0m: "
     ]
    }
   ],
   "source": [
    "CURRENT_DATE = pendulum.now()\n",
    "\n",
    "search_cvs = {}\n",
    "\n",
    "def rmse(actual, predicted):\n",
    "    return np.sqrt(mean_squared_error(actual, predicted))\n",
    "\n",
    "def mlflow_log_search(search):\n",
    "    best_params = search.best_params_\n",
    "\n",
    "    # Log the best parameters\n",
    "    mlflow.log_params(best_params)\n",
    "\n",
    "    # Log the best metric\n",
    "    mlflow.log_metric(\"R2\", search.best_score_)\n",
    "\n",
    "    # Log the model\n",
    "    mlflow.sklearn.log_model(search.best_estimator_, \"model\")\n",
    "\n",
    "scoring = {'r2': make_scorer(r2_score),\n",
    "          'rmse': make_scorer(rmse, greater_is_better=False),\n",
    "          'mae': make_scorer(mean_absolute_error, greater_is_better=False)}\n",
    "\n",
    "# Create an experiment if not exists\n",
    "exp_name = \"building-energy-prediction-tuning-sklearn\"\n",
    "experiment = mlflow.get_experiment_by_name(exp_name)\n",
    "if not experiment:\n",
    "    experiment_id = mlflow.create_experiment(exp_name)\n",
    "else:\n",
    "    experiment_id = experiment.experiment_id\n",
    "\n",
    "with mlflow.start_run(run_name=f\"Session-{CURRENT_DATE.strftime('%Y%m%d_%H%m%S')}\", experiment_id=experiment_id) as parent_run:\n",
    "    for estimator_name, settings in ESTIMATOR_PARAMS.items():\n",
    "        with mlflow.start_run(run_name=estimator_name, nested=True, experiment_id=experiment_id):  \n",
    "            estimator = settings[\"estimator\"]\n",
    "            param_grid = settings[\"params\"]\n",
    "            pipeline = define_pipeline(numerical_transformer=[SimpleImputer(strategy=\"median\"),RobustScaler()],\n",
    "                            categorical_transformer=[SimpleImputer(strategy=\"constant\", fill_value=\"undefined\"), OneHotEncoder(drop=\"if_binary\", handle_unknown=\"ignore\")],\n",
    "                            target_transformer=True,\n",
    "                            estimator=estimator\n",
    "                        ) \n",
    "            grid_search = GridSearchCV(\n",
    "                estimator=pipeline,  # Instantiate the estimator\n",
    "                param_grid=param_grid,\n",
    "                scoring=scoring,\n",
    "                refit='r2',\n",
    "                cv=5,  # Adjust the number of cross-validation folds as needed\n",
    "                n_jobs=-1  # Use all available cores\n",
    "            )\n",
    "            grid_search.fit(x_train, y_train)\n",
    "            search_cvs[estimator_name] = grid_search\n",
    "\n",
    "            mlflow.log_param(\"Estimator\", estimator_name)\n",
    "            mlflow_log_search(grid_search)\n",
    "mlflow.end_run()"
   ]
  },
  {
   "cell_type": "markdown",
   "id": "5139bc19",
   "metadata": {
    "papermill": {
     "duration": null,
     "end_time": null,
     "exception": null,
     "start_time": null,
     "status": "completed"
    },
    "tags": []
   },
   "source": [
    "## Model Evaluation on Test Data\n"
   ]
  },
  {
   "cell_type": "markdown",
   "id": "e90e254b",
   "metadata": {
    "papermill": {
     "duration": null,
     "end_time": null,
     "exception": null,
     "start_time": null,
     "status": "completed"
    },
    "tags": []
   },
   "source": [
    "We are going to evaluate the fine-tuned models to see which one we are going to pick as the final model.\n"
   ]
  },
  {
   "cell_type": "code",
   "execution_count": null,
   "id": "28643136",
   "metadata": {
    "papermill": {
     "duration": null,
     "end_time": null,
     "exception": null,
     "start_time": null,
     "status": "completed"
    },
    "tags": []
   },
   "outputs": [],
   "source": [
    "def eval_metrics(y_actual: Union[pd.DataFrame, pd.Series, np.ndarray],\n",
    "                 y_pred: Union[pd.DataFrame, pd.Series, np.ndarray]\n",
    "                 ) -> Dict[str, float]:\n",
    "    \"\"\"Compute evaluation metrics.\n",
    "\n",
    "    Args:\n",
    "        y_actual: Ground truth (correct) target values\n",
    "        y_pred: Estimated target values.\n",
    "\n",
    "    Returns:\n",
    "        Dict[str, float]: dictionary of evaluation metrics.\n",
    "            Expected keys are: \"rmse\", \"mae\", \"r2\", \"max_error\"\n",
    "\n",
    "    \"\"\"\n",
    "    metrics = dict()\n",
    "    # Calculate Root mean squared error, named rmse\n",
    "    metrics['rmse'] = mean_squared_error(y_actual, y_pred) ** 0.5\n",
    "    # Calculate mean absolute error, named mae\n",
    "    metrics['mae'] = mean_absolute_error(y_actual, y_pred)\n",
    "    # Calculate R-squared: coefficient of determination, named r2\n",
    "    metrics['r2'] = r2_score(y_actual, y_pred)\n",
    "    # Calculate max error: maximum value of absolute error (y_actual - y_pred), named maxerror\n",
    "    metrics['maxerror'] = max_error(y_actual, y_pred)\n",
    "    # Return a dictionary\n",
    "    return metrics"
   ]
  },
  {
   "cell_type": "code",
   "execution_count": null,
   "id": "12fafe74",
   "metadata": {
    "papermill": {
     "duration": null,
     "end_time": null,
     "exception": null,
     "start_time": null,
     "status": "completed"
    },
    "tags": []
   },
   "outputs": [],
   "source": [
    "# Obtaining best_models after fine-tuning\n",
    "models = { f\"{estimator_name}\": search_cv.best_estimator_ for estimator_name, search_cv in search_cvs.items()}"
   ]
  },
  {
   "cell_type": "code",
   "execution_count": null,
   "id": "f0bf52a5",
   "metadata": {
    "papermill": {
     "duration": null,
     "end_time": null,
     "exception": null,
     "start_time": null,
     "status": "completed"
    },
    "tags": []
   },
   "outputs": [],
   "source": [
    "exp_name = \"building-energy-prediction-evaluation\"\n",
    "experiment = mlflow.get_experiment_by_name(exp_name)\n",
    "if not experiment:\n",
    "    experiment_id = mlflow.create_experiment(exp_name)\n",
    "else:\n",
    "    experiment_id = experiment.experiment_id\n",
    "\n",
    "def evaluate_models(estimators, x_train, x_test, y_train, y_test):\n",
    "    # Dict of R2 scores for the estimators\n",
    "    r2_scores = {}\n",
    "    with mlflow.start_run(run_name=f\"Session-{CURRENT_DATE.strftime('%Y%m%d_%H%m%S')}\", experiment_id=experiment_id):\n",
    "        for estimator_name, estimator in estimators.items():\n",
    "            with mlflow.start_run(run_name=estimator_name, nested=True, experiment_id=experiment_id): \n",
    "                y_train_pred = estimator.predict(x_train)\n",
    "                y_test_pred = estimator.predict(x_test)\n",
    "\n",
    "                train_metrics = eval_metrics(y_train, y_train_pred)\n",
    "                test_metrics = eval_metrics(y_test, y_test_pred)\n",
    "\n",
    "                # Add the R2 score of the model to the global dict\n",
    "                r2_scores[estimator_name] = test_metrics['r2']\n",
    "\n",
    "                # Log the regressor parameters\n",
    "                mlflow.log_params(estimator.regressor.steps[-1][1].get_params())\n",
    "\n",
    "                # Log the best metric\n",
    "                mlflow.log_metrics(test_metrics)\n",
    "\n",
    "                # Log the model\n",
    "                mlflow.sklearn.log_model(estimator.best_estimator_, \"model\")\n",
    "\n",
    "                logger.info(f\"\"\"{estimator_name} performance \\n{pd.DataFrame({'train': train_metrics, 'test': test_metrics}).T}\"\"\")\n",
    "    return max(r2_scores.items(), key=lambda item: item[1])\n",
    "\n",
    "mlflow.end_run()\n",
    "\n",
    "best_estimator, score = evaluate_models(models, x_train, x_test, y_train, y_test)\n",
    "\n",
    "logger.info(f\"\"\"{best_estimator} is the best estimator found for this problem with an R2 score of {score}\"\"\")"
   ]
  },
  {
   "cell_type": "markdown",
   "id": "43fb0559",
   "metadata": {
    "papermill": {
     "duration": null,
     "end_time": null,
     "exception": null,
     "start_time": null,
     "status": "completed"
    },
    "tags": []
   },
   "source": [
    "### Prediction Error Plot\n"
   ]
  },
  {
   "cell_type": "code",
   "execution_count": null,
   "id": "c57b8655",
   "metadata": {
    "papermill": {
     "duration": null,
     "end_time": null,
     "exception": null,
     "start_time": null,
     "status": "completed"
    },
    "tags": []
   },
   "outputs": [],
   "source": [
    "def prediction_error_plot(estimators, x_train, x_test, y_train, y_test):\n",
    "    for estimator_name, estimator in estimators.items():\n",
    "        visualizer = PredictionError(estimator, is_fitted=\"auto\", identity=True, bestfit=True)\n",
    "        visualizer.fit(x_train, y_train)\n",
    "        visualizer.score(x_test, y_test)\n",
    "        print(f\"Prediction plot for estimator {estimator_name}\")\n",
    "        visualizer.show()"
   ]
  },
  {
   "cell_type": "code",
   "execution_count": null,
   "id": "407b53d2",
   "metadata": {
    "papermill": {
     "duration": null,
     "end_time": null,
     "exception": null,
     "start_time": null,
     "status": "completed"
    },
    "tags": []
   },
   "outputs": [],
   "source": [
    "prediction_error_plot(models, x_train, x_test, y_train, y_test)"
   ]
  },
  {
   "cell_type": "markdown",
   "id": "b6143385",
   "metadata": {
    "papermill": {
     "duration": null,
     "end_time": null,
     "exception": null,
     "start_time": null,
     "status": "completed"
    },
    "tags": []
   },
   "source": [
    "### Residual Plot\n"
   ]
  },
  {
   "cell_type": "code",
   "execution_count": null,
   "id": "9ed3d064",
   "metadata": {
    "papermill": {
     "duration": null,
     "end_time": null,
     "exception": null,
     "start_time": null,
     "status": "completed"
    },
    "tags": []
   },
   "outputs": [],
   "source": [
    "def residual_plot(estimators, x_train, x_test, y_train, y_test):\n",
    "    for estimator_name, estimator in estimators.items():\n",
    "        visualizer = ResidualsPlot(estimator, is_fitted=\"auto\")\n",
    "        visualizer.fit(x_train, y_train)\n",
    "        visualizer.score(x_test, y_test)\n",
    "        print(f\"Residual plot for estimator {estimator_name}\")\n",
    "        visualizer.show()"
   ]
  },
  {
   "cell_type": "code",
   "execution_count": null,
   "id": "f9022e85",
   "metadata": {
    "papermill": {
     "duration": null,
     "end_time": null,
     "exception": null,
     "start_time": null,
     "status": "completed"
    },
    "tags": []
   },
   "outputs": [],
   "source": [
    "residual_plot(models, x_train, x_test, y_train, y_test)"
   ]
  }
 ],
 "metadata": {
  "kernelspec": {
   "display_name": "mlops",
   "language": "python",
   "name": "python3"
  },
  "language_info": {
   "codemirror_mode": {
    "name": "ipython",
    "version": 3
   },
   "file_extension": ".py",
   "mimetype": "text/x-python",
   "name": "python",
   "nbconvert_exporter": "python",
   "pygments_lexer": "ipython3",
   "version": "3.10.10"
  },
  "papermill": {
   "default_parameters": {},
   "duration": 1090.680547,
   "end_time": "2024-08-05T21:29:14.883819",
   "environment_variables": {},
   "exception": null,
   "input_path": "../notebooks/04-modelisation.ipynb",
   "output_path": "../notebooks/outputs/04-modelisation_output.ipynb",
   "parameters": {},
   "start_time": "2024-08-05T21:11:04.203272",
   "version": "2.6.0"
  }
 },
 "nbformat": 4,
 "nbformat_minor": 5
}