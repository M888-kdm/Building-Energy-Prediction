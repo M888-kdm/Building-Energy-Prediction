{
 "cells": [
  {
   "cell_type": "markdown",
   "id": "97c71350",
   "metadata": {
    "tags": [
     "papermill-error-cell-tag"
    ]
   },
   "source": [
    "<span style=\"color:red; font-family:Helvetica Neue, Helvetica, Arial, sans-serif; font-size:2em;\">An Exception was encountered at '<a href=\"#papermill-error-cell\">In [10]</a>'.</span>"
   ]
  },
  {
   "cell_type": "code",
   "execution_count": 1,
   "id": "3d8b0ab7",
   "metadata": {
    "execution": {
     "iopub.execute_input": "2024-08-05T21:54:16.817986Z",
     "iopub.status.busy": "2024-08-05T21:54:16.817722Z",
     "iopub.status.idle": "2024-08-05T21:54:20.038523Z",
     "shell.execute_reply": "2024-08-05T21:54:20.038043Z"
    },
    "papermill": {
     "duration": 3.227764,
     "end_time": "2024-08-05T21:54:20.040744",
     "exception": false,
     "start_time": "2024-08-05T21:54:16.812980",
     "status": "completed"
    },
    "tags": []
   },
   "outputs": [],
   "source": [
    "%reload_ext autoreload\n",
    "%autoreload 2\n",
    "\n",
    "import mlflow\n",
    "import os\n",
    "import numpy as np\n",
    "import pandas as pd\n",
    "import pendulum\n",
    "import sys\n",
    "import xgboost as xgb\n",
    "\n",
    "from loguru import logger\n",
    "from pathlib import Path\n",
    "from pycaret import regression\n",
    "from sklearn.metrics import make_scorer, mean_squared_error, mean_absolute_error, r2_score\n",
    "from sklearn.model_selection import train_test_split\n",
    "from sklearn.impute import SimpleImputer\n",
    "from sklearn.model_selection import GridSearchCV\n",
    "from sklearn.preprocessing import RobustScaler, OneHotEncoder\n",
    "from sklearn.ensemble import RandomForestRegressor, ExtraTreesRegressor\n",
    "\n",
    "\n",
    "sys.path.append(str(Path.cwd().parent))\n",
    "sys.path.append(os.path.join(str(Path.cwd().parent), \"src\"))\n",
    "from settings.params import *\n",
    "from metrics import eval_metrics\n",
    "from pipeline import define_pipeline\n",
    "from plot import prediction_error_plot, residual_plot\n",
    "from tracking import mlflow_log_search\n",
    "\n",
    "pd.set_option(\"display.max_columns\", None)\n",
    "pd.set_option(\"display.max_rows\", 100)"
   ]
  },
  {
   "cell_type": "code",
   "execution_count": 2,
   "id": "cf8bce68",
   "metadata": {
    "execution": {
     "iopub.execute_input": "2024-08-05T21:54:20.049414Z",
     "iopub.status.busy": "2024-08-05T21:54:20.049053Z",
     "iopub.status.idle": "2024-08-05T21:54:20.083563Z",
     "shell.execute_reply": "2024-08-05T21:54:20.083133Z"
    },
    "papermill": {
     "duration": 0.039993,
     "end_time": "2024-08-05T21:54:20.085105",
     "exception": false,
     "start_time": "2024-08-05T21:54:20.045112",
     "status": "completed"
    },
    "tags": []
   },
   "outputs": [],
   "source": [
    "data = pd.read_csv(CLEANED_DATA)\n",
    "TARGET_NAME = MODEL_PARAMS['TARGET_NAME']"
   ]
  },
  {
   "cell_type": "code",
   "execution_count": 3,
   "id": "647e20ba",
   "metadata": {
    "execution": {
     "iopub.execute_input": "2024-08-05T21:54:20.091714Z",
     "iopub.status.busy": "2024-08-05T21:54:20.091415Z",
     "iopub.status.idle": "2024-08-05T21:54:20.118679Z",
     "shell.execute_reply": "2024-08-05T21:54:20.118253Z"
    },
    "papermill": {
     "duration": 0.031863,
     "end_time": "2024-08-05T21:54:20.120148",
     "exception": false,
     "start_time": "2024-08-05T21:54:20.088285",
     "status": "completed"
    },
    "tags": []
   },
   "outputs": [],
   "source": [
    "mlflow.set_tracking_uri(uri=\"http://localhost:8080\")"
   ]
  },
  {
   "cell_type": "markdown",
   "id": "2e96cf3a",
   "metadata": {
    "papermill": {
     "duration": 0.002473,
     "end_time": "2024-08-05T21:54:20.125514",
     "exception": false,
     "start_time": "2024-08-05T21:54:20.123041",
     "status": "completed"
    },
    "tags": []
   },
   "source": [
    "# Modeling\n"
   ]
  },
  {
   "cell_type": "markdown",
   "id": "4928a251",
   "metadata": {
    "papermill": {
     "duration": 0.002448,
     "end_time": "2024-08-05T21:54:20.130526",
     "exception": false,
     "start_time": "2024-08-05T21:54:20.128078",
     "status": "completed"
    },
    "tags": []
   },
   "source": [
    "## Train/Test Split\n"
   ]
  },
  {
   "cell_type": "code",
   "execution_count": 4,
   "id": "5b9cde0b",
   "metadata": {
    "execution": {
     "iopub.execute_input": "2024-08-05T21:54:20.136336Z",
     "iopub.status.busy": "2024-08-05T21:54:20.136117Z",
     "iopub.status.idle": "2024-08-05T21:54:20.169727Z",
     "shell.execute_reply": "2024-08-05T21:54:20.169301Z"
    },
    "papermill": {
     "duration": 0.038001,
     "end_time": "2024-08-05T21:54:20.171039",
     "exception": false,
     "start_time": "2024-08-05T21:54:20.133038",
     "status": "completed"
    },
    "tags": []
   },
   "outputs": [
    {
     "name": "stderr",
     "output_type": "stream",
     "text": [
      "\u001b[32m2024-08-05 21:54:20.167\u001b[0m | \u001b[1mINFO    \u001b[0m | \u001b[36m__main__\u001b[0m:\u001b[36m<module>\u001b[0m:\u001b[36m3\u001b[0m - \u001b[1m\n",
      "X train: (5205, 8)\n",
      "Y train: (5205,)\n",
      "X test: (1302, 8)\n",
      "Y test: (1302,)\u001b[0m\n"
     ]
    }
   ],
   "source": [
    "x_train, x_test, y_train, y_test = train_test_split(data, data[TARGET_NAME], test_size=MODEL_PARAMS[\"TEST_SIZE\"], random_state=SEED)\n",
    "\n",
    "logger.info(f\"\\nX train: {x_train.shape}\\nY train: {y_train.shape}\\n\"\n",
    "            f\"X test: {x_test.shape}\\nY test: {y_test.shape}\")"
   ]
  },
  {
   "cell_type": "markdown",
   "id": "7a401747",
   "metadata": {
    "papermill": {
     "duration": 0.003005,
     "end_time": "2024-08-05T21:54:20.177401",
     "exception": false,
     "start_time": "2024-08-05T21:54:20.174396",
     "status": "completed"
    },
    "tags": []
   },
   "source": [
    "## Training\n"
   ]
  },
  {
   "cell_type": "code",
   "execution_count": 5,
   "id": "8c069556",
   "metadata": {
    "execution": {
     "iopub.execute_input": "2024-08-05T21:54:20.184361Z",
     "iopub.status.busy": "2024-08-05T21:54:20.184136Z",
     "iopub.status.idle": "2024-08-05T21:54:20.212039Z",
     "shell.execute_reply": "2024-08-05T21:54:20.211562Z"
    },
    "papermill": {
     "duration": 0.033201,
     "end_time": "2024-08-05T21:54:20.213560",
     "exception": false,
     "start_time": "2024-08-05T21:54:20.180359",
     "status": "completed"
    },
    "tags": []
   },
   "outputs": [],
   "source": [
    "df = x_train.copy()\n",
    "df[TARGET_NAME] = np.log(y_train)"
   ]
  },
  {
   "cell_type": "code",
   "execution_count": 6,
   "id": "7d83a09c",
   "metadata": {
    "execution": {
     "iopub.execute_input": "2024-08-05T21:54:20.220686Z",
     "iopub.status.busy": "2024-08-05T21:54:20.220461Z",
     "iopub.status.idle": "2024-08-05T21:54:22.310113Z",
     "shell.execute_reply": "2024-08-05T21:54:22.309537Z"
    },
    "papermill": {
     "duration": 2.095112,
     "end_time": "2024-08-05T21:54:22.312081",
     "exception": false,
     "start_time": "2024-08-05T21:54:20.216969",
     "status": "completed"
    },
    "tags": []
   },
   "outputs": [
    {
     "data": {
      "text/html": [
       "<style type=\"text/css\">\n",
       "#T_04798_row9_col1 {\n",
       "  background-color: lightgreen;\n",
       "}\n",
       "</style>\n",
       "<table id=\"T_04798\">\n",
       "  <thead>\n",
       "    <tr>\n",
       "      <th class=\"blank level0\" >&nbsp;</th>\n",
       "      <th id=\"T_04798_level0_col0\" class=\"col_heading level0 col0\" >Description</th>\n",
       "      <th id=\"T_04798_level0_col1\" class=\"col_heading level0 col1\" >Value</th>\n",
       "    </tr>\n",
       "  </thead>\n",
       "  <tbody>\n",
       "    <tr>\n",
       "      <th id=\"T_04798_level0_row0\" class=\"row_heading level0 row0\" >0</th>\n",
       "      <td id=\"T_04798_row0_col0\" class=\"data row0 col0\" >Session id</td>\n",
       "      <td id=\"T_04798_row0_col1\" class=\"data row0 col1\" >4217</td>\n",
       "    </tr>\n",
       "    <tr>\n",
       "      <th id=\"T_04798_level0_row1\" class=\"row_heading level0 row1\" >1</th>\n",
       "      <td id=\"T_04798_row1_col0\" class=\"data row1 col0\" >Target</td>\n",
       "      <td id=\"T_04798_row1_col1\" class=\"data row1 col1\" >SiteEnergyUse(kBtu)</td>\n",
       "    </tr>\n",
       "    <tr>\n",
       "      <th id=\"T_04798_level0_row2\" class=\"row_heading level0 row2\" >2</th>\n",
       "      <td id=\"T_04798_row2_col0\" class=\"data row2 col0\" >Target type</td>\n",
       "      <td id=\"T_04798_row2_col1\" class=\"data row2 col1\" >Regression</td>\n",
       "    </tr>\n",
       "    <tr>\n",
       "      <th id=\"T_04798_level0_row3\" class=\"row_heading level0 row3\" >3</th>\n",
       "      <td id=\"T_04798_row3_col0\" class=\"data row3 col0\" >Original data shape</td>\n",
       "      <td id=\"T_04798_row3_col1\" class=\"data row3 col1\" >(5205, 8)</td>\n",
       "    </tr>\n",
       "    <tr>\n",
       "      <th id=\"T_04798_level0_row4\" class=\"row_heading level0 row4\" >4</th>\n",
       "      <td id=\"T_04798_row4_col0\" class=\"data row4 col0\" >Transformed data shape</td>\n",
       "      <td id=\"T_04798_row4_col1\" class=\"data row4 col1\" >(5205, 68)</td>\n",
       "    </tr>\n",
       "    <tr>\n",
       "      <th id=\"T_04798_level0_row5\" class=\"row_heading level0 row5\" >5</th>\n",
       "      <td id=\"T_04798_row5_col0\" class=\"data row5 col0\" >Transformed train set shape</td>\n",
       "      <td id=\"T_04798_row5_col1\" class=\"data row5 col1\" >(4164, 68)</td>\n",
       "    </tr>\n",
       "    <tr>\n",
       "      <th id=\"T_04798_level0_row6\" class=\"row_heading level0 row6\" >6</th>\n",
       "      <td id=\"T_04798_row6_col0\" class=\"data row6 col0\" >Transformed test set shape</td>\n",
       "      <td id=\"T_04798_row6_col1\" class=\"data row6 col1\" >(1041, 68)</td>\n",
       "    </tr>\n",
       "    <tr>\n",
       "      <th id=\"T_04798_level0_row7\" class=\"row_heading level0 row7\" >7</th>\n",
       "      <td id=\"T_04798_row7_col0\" class=\"data row7 col0\" >Numeric features</td>\n",
       "      <td id=\"T_04798_row7_col1\" class=\"data row7 col1\" >5</td>\n",
       "    </tr>\n",
       "    <tr>\n",
       "      <th id=\"T_04798_level0_row8\" class=\"row_heading level0 row8\" >8</th>\n",
       "      <td id=\"T_04798_row8_col0\" class=\"data row8 col0\" >Categorical features</td>\n",
       "      <td id=\"T_04798_row8_col1\" class=\"data row8 col1\" >2</td>\n",
       "    </tr>\n",
       "    <tr>\n",
       "      <th id=\"T_04798_level0_row9\" class=\"row_heading level0 row9\" >9</th>\n",
       "      <td id=\"T_04798_row9_col0\" class=\"data row9 col0\" >Preprocess</td>\n",
       "      <td id=\"T_04798_row9_col1\" class=\"data row9 col1\" >True</td>\n",
       "    </tr>\n",
       "    <tr>\n",
       "      <th id=\"T_04798_level0_row10\" class=\"row_heading level0 row10\" >10</th>\n",
       "      <td id=\"T_04798_row10_col0\" class=\"data row10 col0\" >Imputation type</td>\n",
       "      <td id=\"T_04798_row10_col1\" class=\"data row10 col1\" >simple</td>\n",
       "    </tr>\n",
       "    <tr>\n",
       "      <th id=\"T_04798_level0_row11\" class=\"row_heading level0 row11\" >11</th>\n",
       "      <td id=\"T_04798_row11_col0\" class=\"data row11 col0\" >Numeric imputation</td>\n",
       "      <td id=\"T_04798_row11_col1\" class=\"data row11 col1\" >mean</td>\n",
       "    </tr>\n",
       "    <tr>\n",
       "      <th id=\"T_04798_level0_row12\" class=\"row_heading level0 row12\" >12</th>\n",
       "      <td id=\"T_04798_row12_col0\" class=\"data row12 col0\" >Categorical imputation</td>\n",
       "      <td id=\"T_04798_row12_col1\" class=\"data row12 col1\" >mode</td>\n",
       "    </tr>\n",
       "    <tr>\n",
       "      <th id=\"T_04798_level0_row13\" class=\"row_heading level0 row13\" >13</th>\n",
       "      <td id=\"T_04798_row13_col0\" class=\"data row13 col0\" >Maximum one-hot encoding</td>\n",
       "      <td id=\"T_04798_row13_col1\" class=\"data row13 col1\" >200</td>\n",
       "    </tr>\n",
       "    <tr>\n",
       "      <th id=\"T_04798_level0_row14\" class=\"row_heading level0 row14\" >14</th>\n",
       "      <td id=\"T_04798_row14_col0\" class=\"data row14 col0\" >Encoding method</td>\n",
       "      <td id=\"T_04798_row14_col1\" class=\"data row14 col1\" >None</td>\n",
       "    </tr>\n",
       "    <tr>\n",
       "      <th id=\"T_04798_level0_row15\" class=\"row_heading level0 row15\" >15</th>\n",
       "      <td id=\"T_04798_row15_col0\" class=\"data row15 col0\" >Fold Generator</td>\n",
       "      <td id=\"T_04798_row15_col1\" class=\"data row15 col1\" >KFold</td>\n",
       "    </tr>\n",
       "    <tr>\n",
       "      <th id=\"T_04798_level0_row16\" class=\"row_heading level0 row16\" >16</th>\n",
       "      <td id=\"T_04798_row16_col0\" class=\"data row16 col0\" >Fold Number</td>\n",
       "      <td id=\"T_04798_row16_col1\" class=\"data row16 col1\" >10</td>\n",
       "    </tr>\n",
       "    <tr>\n",
       "      <th id=\"T_04798_level0_row17\" class=\"row_heading level0 row17\" >17</th>\n",
       "      <td id=\"T_04798_row17_col0\" class=\"data row17 col0\" >CPU Jobs</td>\n",
       "      <td id=\"T_04798_row17_col1\" class=\"data row17 col1\" >-1</td>\n",
       "    </tr>\n",
       "    <tr>\n",
       "      <th id=\"T_04798_level0_row18\" class=\"row_heading level0 row18\" >18</th>\n",
       "      <td id=\"T_04798_row18_col0\" class=\"data row18 col0\" >Use GPU</td>\n",
       "      <td id=\"T_04798_row18_col1\" class=\"data row18 col1\" >False</td>\n",
       "    </tr>\n",
       "    <tr>\n",
       "      <th id=\"T_04798_level0_row19\" class=\"row_heading level0 row19\" >19</th>\n",
       "      <td id=\"T_04798_row19_col0\" class=\"data row19 col0\" >Log Experiment</td>\n",
       "      <td id=\"T_04798_row19_col1\" class=\"data row19 col1\" >MlflowLogger</td>\n",
       "    </tr>\n",
       "    <tr>\n",
       "      <th id=\"T_04798_level0_row20\" class=\"row_heading level0 row20\" >20</th>\n",
       "      <td id=\"T_04798_row20_col0\" class=\"data row20 col0\" >Experiment Name</td>\n",
       "      <td id=\"T_04798_row20_col1\" class=\"data row20 col1\" >building-energy-prediction-training</td>\n",
       "    </tr>\n",
       "    <tr>\n",
       "      <th id=\"T_04798_level0_row21\" class=\"row_heading level0 row21\" >21</th>\n",
       "      <td id=\"T_04798_row21_col0\" class=\"data row21 col0\" >USI</td>\n",
       "      <td id=\"T_04798_row21_col1\" class=\"data row21 col1\" >bb8c</td>\n",
       "    </tr>\n",
       "  </tbody>\n",
       "</table>\n"
      ],
      "text/plain": [
       "<pandas.io.formats.style.Styler at 0x305fa7040>"
      ]
     },
     "metadata": {},
     "output_type": "display_data"
    }
   ],
   "source": [
    "exp_reg = regression.setup(df, target=TARGET_NAME, max_encoding_ohe=200, log_experiment=True, experiment_name=\"building-energy-prediction-training\", train_size=0.8)\n",
    "regression.set_config('seed', SEED)\n",
    "\n",
    "# Removing useless metrics improve training speed\n",
    "regression.remove_metric('MAPE')\n",
    "regression.remove_metric('MSE')\n",
    "regression.remove_metric('RMSLE')"
   ]
  },
  {
   "cell_type": "code",
   "execution_count": 7,
   "id": "b1f18e84",
   "metadata": {
    "execution": {
     "iopub.execute_input": "2024-08-05T21:54:22.321580Z",
     "iopub.status.busy": "2024-08-05T21:54:22.321330Z",
     "iopub.status.idle": "2024-08-05T21:55:19.326645Z",
     "shell.execute_reply": "2024-08-05T21:55:19.326137Z"
    },
    "papermill": {
     "duration": 57.012259,
     "end_time": "2024-08-05T21:55:19.329128",
     "exception": false,
     "start_time": "2024-08-05T21:54:22.316869",
     "status": "completed"
    },
    "tags": []
   },
   "outputs": [
    {
     "data": {
      "text/html": [],
      "text/plain": [
       "<IPython.core.display.HTML object>"
      ]
     },
     "metadata": {},
     "output_type": "display_data"
    },
    {
     "data": {
      "text/html": [
       "<style type=\"text/css\">\n",
       "#T_abb3f th {\n",
       "  text-align: left;\n",
       "}\n",
       "#T_abb3f_row0_col0, #T_abb3f_row1_col0, #T_abb3f_row1_col1, #T_abb3f_row1_col2, #T_abb3f_row1_col3, #T_abb3f_row2_col0, #T_abb3f_row2_col1, #T_abb3f_row2_col2, #T_abb3f_row2_col3, #T_abb3f_row3_col0, #T_abb3f_row3_col1, #T_abb3f_row3_col2, #T_abb3f_row3_col3, #T_abb3f_row4_col0, #T_abb3f_row4_col1, #T_abb3f_row4_col2, #T_abb3f_row4_col3, #T_abb3f_row5_col0, #T_abb3f_row5_col1, #T_abb3f_row5_col2, #T_abb3f_row5_col3, #T_abb3f_row6_col0, #T_abb3f_row6_col1, #T_abb3f_row6_col2, #T_abb3f_row6_col3, #T_abb3f_row7_col0, #T_abb3f_row7_col1, #T_abb3f_row7_col2, #T_abb3f_row7_col3, #T_abb3f_row8_col0, #T_abb3f_row8_col1, #T_abb3f_row8_col2, #T_abb3f_row8_col3, #T_abb3f_row9_col0, #T_abb3f_row9_col1, #T_abb3f_row9_col2, #T_abb3f_row9_col3, #T_abb3f_row10_col0, #T_abb3f_row10_col1, #T_abb3f_row10_col2, #T_abb3f_row10_col3, #T_abb3f_row11_col0, #T_abb3f_row11_col1, #T_abb3f_row11_col2, #T_abb3f_row11_col3, #T_abb3f_row12_col0, #T_abb3f_row12_col1, #T_abb3f_row12_col2, #T_abb3f_row12_col3, #T_abb3f_row13_col0, #T_abb3f_row13_col1, #T_abb3f_row13_col2, #T_abb3f_row13_col3, #T_abb3f_row14_col0, #T_abb3f_row14_col1, #T_abb3f_row14_col2, #T_abb3f_row14_col3, #T_abb3f_row15_col0, #T_abb3f_row15_col1, #T_abb3f_row15_col2, #T_abb3f_row15_col3, #T_abb3f_row16_col0, #T_abb3f_row16_col1, #T_abb3f_row16_col2, #T_abb3f_row16_col3, #T_abb3f_row17_col0, #T_abb3f_row17_col1, #T_abb3f_row17_col2, #T_abb3f_row17_col3, #T_abb3f_row18_col0, #T_abb3f_row18_col1, #T_abb3f_row18_col2, #T_abb3f_row18_col3 {\n",
       "  text-align: left;\n",
       "}\n",
       "#T_abb3f_row0_col1, #T_abb3f_row0_col2, #T_abb3f_row0_col3 {\n",
       "  text-align: left;\n",
       "  background-color: yellow;\n",
       "}\n",
       "#T_abb3f_row0_col4, #T_abb3f_row1_col4, #T_abb3f_row2_col4, #T_abb3f_row3_col4, #T_abb3f_row4_col4, #T_abb3f_row5_col4, #T_abb3f_row6_col4, #T_abb3f_row7_col4, #T_abb3f_row8_col4, #T_abb3f_row9_col4, #T_abb3f_row10_col4, #T_abb3f_row11_col4, #T_abb3f_row12_col4, #T_abb3f_row13_col4, #T_abb3f_row15_col4, #T_abb3f_row16_col4, #T_abb3f_row17_col4, #T_abb3f_row18_col4 {\n",
       "  text-align: left;\n",
       "  background-color: lightgrey;\n",
       "}\n",
       "#T_abb3f_row14_col4 {\n",
       "  text-align: left;\n",
       "  background-color: yellow;\n",
       "  background-color: lightgrey;\n",
       "}\n",
       "</style>\n",
       "<table id=\"T_abb3f\">\n",
       "  <thead>\n",
       "    <tr>\n",
       "      <th class=\"blank level0\" >&nbsp;</th>\n",
       "      <th id=\"T_abb3f_level0_col0\" class=\"col_heading level0 col0\" >Model</th>\n",
       "      <th id=\"T_abb3f_level0_col1\" class=\"col_heading level0 col1\" >MAE</th>\n",
       "      <th id=\"T_abb3f_level0_col2\" class=\"col_heading level0 col2\" >RMSE</th>\n",
       "      <th id=\"T_abb3f_level0_col3\" class=\"col_heading level0 col3\" >R2</th>\n",
       "      <th id=\"T_abb3f_level0_col4\" class=\"col_heading level0 col4\" >TT (Sec)</th>\n",
       "    </tr>\n",
       "  </thead>\n",
       "  <tbody>\n",
       "    <tr>\n",
       "      <th id=\"T_abb3f_level0_row0\" class=\"row_heading level0 row0\" >et</th>\n",
       "      <td id=\"T_abb3f_row0_col0\" class=\"data row0 col0\" >Extra Trees Regressor</td>\n",
       "      <td id=\"T_abb3f_row0_col1\" class=\"data row0 col1\" >0.2459</td>\n",
       "      <td id=\"T_abb3f_row0_col2\" class=\"data row0 col2\" >0.4461</td>\n",
       "      <td id=\"T_abb3f_row0_col3\" class=\"data row0 col3\" >0.8304</td>\n",
       "      <td id=\"T_abb3f_row0_col4\" class=\"data row0 col4\" >0.5250</td>\n",
       "    </tr>\n",
       "    <tr>\n",
       "      <th id=\"T_abb3f_level0_row1\" class=\"row_heading level0 row1\" >rf</th>\n",
       "      <td id=\"T_abb3f_row1_col0\" class=\"data row1 col0\" >Random Forest Regressor</td>\n",
       "      <td id=\"T_abb3f_row1_col1\" class=\"data row1 col1\" >0.2847</td>\n",
       "      <td id=\"T_abb3f_row1_col2\" class=\"data row1 col2\" >0.4570</td>\n",
       "      <td id=\"T_abb3f_row1_col3\" class=\"data row1 col3\" >0.8217</td>\n",
       "      <td id=\"T_abb3f_row1_col4\" class=\"data row1 col4\" >0.5400</td>\n",
       "    </tr>\n",
       "    <tr>\n",
       "      <th id=\"T_abb3f_level0_row2\" class=\"row_heading level0 row2\" >xgboost</th>\n",
       "      <td id=\"T_abb3f_row2_col0\" class=\"data row2 col0\" >Extreme Gradient Boosting</td>\n",
       "      <td id=\"T_abb3f_row2_col1\" class=\"data row2 col1\" >0.3185</td>\n",
       "      <td id=\"T_abb3f_row2_col2\" class=\"data row2 col2\" >0.4704</td>\n",
       "      <td id=\"T_abb3f_row2_col3\" class=\"data row2 col3\" >0.8114</td>\n",
       "      <td id=\"T_abb3f_row2_col4\" class=\"data row2 col4\" >0.7450</td>\n",
       "    </tr>\n",
       "    <tr>\n",
       "      <th id=\"T_abb3f_level0_row3\" class=\"row_heading level0 row3\" >lightgbm</th>\n",
       "      <td id=\"T_abb3f_row3_col0\" class=\"data row3 col0\" >Light Gradient Boosting Machine</td>\n",
       "      <td id=\"T_abb3f_row3_col1\" class=\"data row3 col1\" >0.3476</td>\n",
       "      <td id=\"T_abb3f_row3_col2\" class=\"data row3 col2\" >0.4970</td>\n",
       "      <td id=\"T_abb3f_row3_col3\" class=\"data row3 col3\" >0.7896</td>\n",
       "      <td id=\"T_abb3f_row3_col4\" class=\"data row3 col4\" >0.4750</td>\n",
       "    </tr>\n",
       "    <tr>\n",
       "      <th id=\"T_abb3f_level0_row4\" class=\"row_heading level0 row4\" >gbr</th>\n",
       "      <td id=\"T_abb3f_row4_col0\" class=\"data row4 col0\" >Gradient Boosting Regressor</td>\n",
       "      <td id=\"T_abb3f_row4_col1\" class=\"data row4 col1\" >0.3735</td>\n",
       "      <td id=\"T_abb3f_row4_col2\" class=\"data row4 col2\" >0.5172</td>\n",
       "      <td id=\"T_abb3f_row4_col3\" class=\"data row4 col3\" >0.7721</td>\n",
       "      <td id=\"T_abb3f_row4_col4\" class=\"data row4 col4\" >0.4460</td>\n",
       "    </tr>\n",
       "    <tr>\n",
       "      <th id=\"T_abb3f_level0_row5\" class=\"row_heading level0 row5\" >dt</th>\n",
       "      <td id=\"T_abb3f_row5_col0\" class=\"data row5 col0\" >Decision Tree Regressor</td>\n",
       "      <td id=\"T_abb3f_row5_col1\" class=\"data row5 col1\" >0.3027</td>\n",
       "      <td id=\"T_abb3f_row5_col2\" class=\"data row5 col2\" >0.5540</td>\n",
       "      <td id=\"T_abb3f_row5_col3\" class=\"data row5 col3\" >0.7376</td>\n",
       "      <td id=\"T_abb3f_row5_col4\" class=\"data row5 col4\" >0.0340</td>\n",
       "    </tr>\n",
       "    <tr>\n",
       "      <th id=\"T_abb3f_level0_row6\" class=\"row_heading level0 row6\" >ada</th>\n",
       "      <td id=\"T_abb3f_row6_col0\" class=\"data row6 col0\" >AdaBoost Regressor</td>\n",
       "      <td id=\"T_abb3f_row6_col1\" class=\"data row6 col1\" >0.5196</td>\n",
       "      <td id=\"T_abb3f_row6_col2\" class=\"data row6 col2\" >0.6778</td>\n",
       "      <td id=\"T_abb3f_row6_col3\" class=\"data row6 col3\" >0.6089</td>\n",
       "      <td id=\"T_abb3f_row6_col4\" class=\"data row6 col4\" >0.2240</td>\n",
       "    </tr>\n",
       "    <tr>\n",
       "      <th id=\"T_abb3f_level0_row7\" class=\"row_heading level0 row7\" >knn</th>\n",
       "      <td id=\"T_abb3f_row7_col0\" class=\"data row7 col0\" >K Neighbors Regressor</td>\n",
       "      <td id=\"T_abb3f_row7_col1\" class=\"data row7 col1\" >0.5082</td>\n",
       "      <td id=\"T_abb3f_row7_col2\" class=\"data row7 col2\" >0.6847</td>\n",
       "      <td id=\"T_abb3f_row7_col3\" class=\"data row7 col3\" >0.6008</td>\n",
       "      <td id=\"T_abb3f_row7_col4\" class=\"data row7 col4\" >0.0510</td>\n",
       "    </tr>\n",
       "    <tr>\n",
       "      <th id=\"T_abb3f_level0_row8\" class=\"row_heading level0 row8\" >br</th>\n",
       "      <td id=\"T_abb3f_row8_col0\" class=\"data row8 col0\" >Bayesian Ridge</td>\n",
       "      <td id=\"T_abb3f_row8_col1\" class=\"data row8 col1\" >0.5193</td>\n",
       "      <td id=\"T_abb3f_row8_col2\" class=\"data row8 col2\" >0.6895</td>\n",
       "      <td id=\"T_abb3f_row8_col3\" class=\"data row8 col3\" >0.5957</td>\n",
       "      <td id=\"T_abb3f_row8_col4\" class=\"data row8 col4\" >0.0350</td>\n",
       "    </tr>\n",
       "    <tr>\n",
       "      <th id=\"T_abb3f_level0_row9\" class=\"row_heading level0 row9\" >ridge</th>\n",
       "      <td id=\"T_abb3f_row9_col0\" class=\"data row9 col0\" >Ridge Regression</td>\n",
       "      <td id=\"T_abb3f_row9_col1\" class=\"data row9 col1\" >0.5192</td>\n",
       "      <td id=\"T_abb3f_row9_col2\" class=\"data row9 col2\" >0.6895</td>\n",
       "      <td id=\"T_abb3f_row9_col3\" class=\"data row9 col3\" >0.5957</td>\n",
       "      <td id=\"T_abb3f_row9_col4\" class=\"data row9 col4\" >0.0300</td>\n",
       "    </tr>\n",
       "    <tr>\n",
       "      <th id=\"T_abb3f_level0_row10\" class=\"row_heading level0 row10\" >lr</th>\n",
       "      <td id=\"T_abb3f_row10_col0\" class=\"data row10 col0\" >Linear Regression</td>\n",
       "      <td id=\"T_abb3f_row10_col1\" class=\"data row10 col1\" >0.5194</td>\n",
       "      <td id=\"T_abb3f_row10_col2\" class=\"data row10 col2\" >0.6904</td>\n",
       "      <td id=\"T_abb3f_row10_col3\" class=\"data row10 col3\" >0.5945</td>\n",
       "      <td id=\"T_abb3f_row10_col4\" class=\"data row10 col4\" >0.9010</td>\n",
       "    </tr>\n",
       "    <tr>\n",
       "      <th id=\"T_abb3f_level0_row11\" class=\"row_heading level0 row11\" >omp</th>\n",
       "      <td id=\"T_abb3f_row11_col0\" class=\"data row11 col0\" >Orthogonal Matching Pursuit</td>\n",
       "      <td id=\"T_abb3f_row11_col1\" class=\"data row11 col1\" >0.5654</td>\n",
       "      <td id=\"T_abb3f_row11_col2\" class=\"data row11 col2\" >0.7527</td>\n",
       "      <td id=\"T_abb3f_row11_col3\" class=\"data row11 col3\" >0.5189</td>\n",
       "      <td id=\"T_abb3f_row11_col4\" class=\"data row11 col4\" >0.0300</td>\n",
       "    </tr>\n",
       "    <tr>\n",
       "      <th id=\"T_abb3f_level0_row12\" class=\"row_heading level0 row12\" >lasso</th>\n",
       "      <td id=\"T_abb3f_row12_col0\" class=\"data row12 col0\" >Lasso Regression</td>\n",
       "      <td id=\"T_abb3f_row12_col1\" class=\"data row12 col1\" >0.6369</td>\n",
       "      <td id=\"T_abb3f_row12_col2\" class=\"data row12 col2\" >0.8356</td>\n",
       "      <td id=\"T_abb3f_row12_col3\" class=\"data row12 col3\" >0.4072</td>\n",
       "      <td id=\"T_abb3f_row12_col4\" class=\"data row12 col4\" >0.0340</td>\n",
       "    </tr>\n",
       "    <tr>\n",
       "      <th id=\"T_abb3f_level0_row13\" class=\"row_heading level0 row13\" >en</th>\n",
       "      <td id=\"T_abb3f_row13_col0\" class=\"data row13 col0\" >Elastic Net</td>\n",
       "      <td id=\"T_abb3f_row13_col1\" class=\"data row13 col1\" >0.6369</td>\n",
       "      <td id=\"T_abb3f_row13_col2\" class=\"data row13 col2\" >0.8356</td>\n",
       "      <td id=\"T_abb3f_row13_col3\" class=\"data row13 col3\" >0.4072</td>\n",
       "      <td id=\"T_abb3f_row13_col4\" class=\"data row13 col4\" >0.0290</td>\n",
       "    </tr>\n",
       "    <tr>\n",
       "      <th id=\"T_abb3f_level0_row14\" class=\"row_heading level0 row14\" >llar</th>\n",
       "      <td id=\"T_abb3f_row14_col0\" class=\"data row14 col0\" >Lasso Least Angle Regression</td>\n",
       "      <td id=\"T_abb3f_row14_col1\" class=\"data row14 col1\" >0.6369</td>\n",
       "      <td id=\"T_abb3f_row14_col2\" class=\"data row14 col2\" >0.8356</td>\n",
       "      <td id=\"T_abb3f_row14_col3\" class=\"data row14 col3\" >0.4072</td>\n",
       "      <td id=\"T_abb3f_row14_col4\" class=\"data row14 col4\" >0.0220</td>\n",
       "    </tr>\n",
       "    <tr>\n",
       "      <th id=\"T_abb3f_level0_row15\" class=\"row_heading level0 row15\" >dummy</th>\n",
       "      <td id=\"T_abb3f_row15_col0\" class=\"data row15 col0\" >Dummy Regressor</td>\n",
       "      <td id=\"T_abb3f_row15_col1\" class=\"data row15 col1\" >0.8677</td>\n",
       "      <td id=\"T_abb3f_row15_col2\" class=\"data row15 col2\" >1.0868</td>\n",
       "      <td id=\"T_abb3f_row15_col3\" class=\"data row15 col3\" >-0.0025</td>\n",
       "      <td id=\"T_abb3f_row15_col4\" class=\"data row15 col4\" >0.0300</td>\n",
       "    </tr>\n",
       "    <tr>\n",
       "      <th id=\"T_abb3f_level0_row16\" class=\"row_heading level0 row16\" >huber</th>\n",
       "      <td id=\"T_abb3f_row16_col0\" class=\"data row16 col0\" >Huber Regressor</td>\n",
       "      <td id=\"T_abb3f_row16_col1\" class=\"data row16 col1\" >7.0823</td>\n",
       "      <td id=\"T_abb3f_row16_col2\" class=\"data row16 col2\" >11.3320</td>\n",
       "      <td id=\"T_abb3f_row16_col3\" class=\"data row16 col3\" >-117.9418</td>\n",
       "      <td id=\"T_abb3f_row16_col4\" class=\"data row16 col4\" >0.0560</td>\n",
       "    </tr>\n",
       "    <tr>\n",
       "      <th id=\"T_abb3f_level0_row17\" class=\"row_heading level0 row17\" >par</th>\n",
       "      <td id=\"T_abb3f_row17_col0\" class=\"data row17 col0\" >Passive Aggressive Regressor</td>\n",
       "      <td id=\"T_abb3f_row17_col1\" class=\"data row17 col1\" >21.4420</td>\n",
       "      <td id=\"T_abb3f_row17_col2\" class=\"data row17 col2\" >44.6482</td>\n",
       "      <td id=\"T_abb3f_row17_col3\" class=\"data row17 col3\" >-2562.0649</td>\n",
       "      <td id=\"T_abb3f_row17_col4\" class=\"data row17 col4\" >0.0260</td>\n",
       "    </tr>\n",
       "    <tr>\n",
       "      <th id=\"T_abb3f_level0_row18\" class=\"row_heading level0 row18\" >lar</th>\n",
       "      <td id=\"T_abb3f_row18_col0\" class=\"data row18 col0\" >Least Angle Regression</td>\n",
       "      <td id=\"T_abb3f_row18_col1\" class=\"data row18 col1\" >157164507268305972012379392246524937049450670929773778010851538685192943228767891010276559507177978415904089573041501074317405086159410832302903001693657497600.0000</td>\n",
       "      <td id=\"T_abb3f_row18_col2\" class=\"data row18 col2\" >inf</td>\n",
       "      <td id=\"T_abb3f_row18_col3\" class=\"data row18 col3\" >-inf</td>\n",
       "      <td id=\"T_abb3f_row18_col4\" class=\"data row18 col4\" >0.0330</td>\n",
       "    </tr>\n",
       "  </tbody>\n",
       "</table>\n"
      ],
      "text/plain": [
       "<pandas.io.formats.style.Styler at 0x305af0880>"
      ]
     },
     "metadata": {},
     "output_type": "display_data"
    },
    {
     "data": {
      "text/html": [],
      "text/plain": [
       "<IPython.core.display.HTML object>"
      ]
     },
     "metadata": {},
     "output_type": "display_data"
    },
    {
     "name": "stderr",
     "output_type": "stream",
     "text": [
      "2024/08/05 21:55:10 WARNING mlflow.models.model: Input example should be provided to infer model signature if the model signature is not provided when logging the model.\n"
     ]
    },
    {
     "name": "stderr",
     "output_type": "stream",
     "text": [
      "2024/08/05 21:55:10 INFO mlflow.tracking._tracking_service.client: 🏃 View run Extra Trees Regressor at: http://localhost:8080/#/experiments/584040955558151400/runs/28b763a9354a48dc87b3ee58601c75d5.\n"
     ]
    },
    {
     "name": "stderr",
     "output_type": "stream",
     "text": [
      "2024/08/05 21:55:10 INFO mlflow.tracking._tracking_service.client: 🧪 View experiment at: http://localhost:8080/#/experiments/584040955558151400.\n"
     ]
    },
    {
     "name": "stderr",
     "output_type": "stream",
     "text": [
      "2024/08/05 21:55:11 WARNING mlflow.models.model: Input example should be provided to infer model signature if the model signature is not provided when logging the model.\n"
     ]
    },
    {
     "name": "stderr",
     "output_type": "stream",
     "text": [
      "2024/08/05 21:55:11 INFO mlflow.tracking._tracking_service.client: 🏃 View run Random Forest Regressor at: http://localhost:8080/#/experiments/584040955558151400/runs/7735e9f944aa4e83a1604fb3b7cb7bad.\n"
     ]
    },
    {
     "name": "stderr",
     "output_type": "stream",
     "text": [
      "2024/08/05 21:55:11 INFO mlflow.tracking._tracking_service.client: 🧪 View experiment at: http://localhost:8080/#/experiments/584040955558151400.\n"
     ]
    },
    {
     "name": "stderr",
     "output_type": "stream",
     "text": [
      "2024/08/05 21:55:13 WARNING mlflow.models.model: Input example should be provided to infer model signature if the model signature is not provided when logging the model.\n"
     ]
    },
    {
     "name": "stderr",
     "output_type": "stream",
     "text": [
      "2024/08/05 21:55:13 INFO mlflow.tracking._tracking_service.client: 🏃 View run Extreme Gradient Boosting at: http://localhost:8080/#/experiments/584040955558151400/runs/578f95a564af403788db7c46df4dfe6f.\n"
     ]
    },
    {
     "name": "stderr",
     "output_type": "stream",
     "text": [
      "2024/08/05 21:55:13 INFO mlflow.tracking._tracking_service.client: 🧪 View experiment at: http://localhost:8080/#/experiments/584040955558151400.\n"
     ]
    },
    {
     "name": "stderr",
     "output_type": "stream",
     "text": [
      "2024/08/05 21:55:13 WARNING mlflow.models.model: Input example should be provided to infer model signature if the model signature is not provided when logging the model.\n"
     ]
    },
    {
     "name": "stderr",
     "output_type": "stream",
     "text": [
      "2024/08/05 21:55:13 INFO mlflow.tracking._tracking_service.client: 🏃 View run Light Gradient Boosting Machine at: http://localhost:8080/#/experiments/584040955558151400/runs/f7275ea238fc49f8b955d068cbaaab17.\n"
     ]
    },
    {
     "name": "stderr",
     "output_type": "stream",
     "text": [
      "2024/08/05 21:55:13 INFO mlflow.tracking._tracking_service.client: 🧪 View experiment at: http://localhost:8080/#/experiments/584040955558151400.\n"
     ]
    },
    {
     "name": "stderr",
     "output_type": "stream",
     "text": [
      "2024/08/05 21:55:14 WARNING mlflow.models.model: Input example should be provided to infer model signature if the model signature is not provided when logging the model.\n"
     ]
    },
    {
     "name": "stderr",
     "output_type": "stream",
     "text": [
      "2024/08/05 21:55:14 INFO mlflow.tracking._tracking_service.client: 🏃 View run Gradient Boosting Regressor at: http://localhost:8080/#/experiments/584040955558151400/runs/c0535e221f454eb582fafb8ad9350cc5.\n"
     ]
    },
    {
     "name": "stderr",
     "output_type": "stream",
     "text": [
      "2024/08/05 21:55:14 INFO mlflow.tracking._tracking_service.client: 🧪 View experiment at: http://localhost:8080/#/experiments/584040955558151400.\n"
     ]
    },
    {
     "name": "stderr",
     "output_type": "stream",
     "text": [
      "2024/08/05 21:55:14 WARNING mlflow.models.model: Input example should be provided to infer model signature if the model signature is not provided when logging the model.\n"
     ]
    },
    {
     "name": "stderr",
     "output_type": "stream",
     "text": [
      "2024/08/05 21:55:14 INFO mlflow.tracking._tracking_service.client: 🏃 View run Decision Tree Regressor at: http://localhost:8080/#/experiments/584040955558151400/runs/03a9521bbd75458d9f542fa27cf2bb73.\n"
     ]
    },
    {
     "name": "stderr",
     "output_type": "stream",
     "text": [
      "2024/08/05 21:55:14 INFO mlflow.tracking._tracking_service.client: 🧪 View experiment at: http://localhost:8080/#/experiments/584040955558151400.\n"
     ]
    },
    {
     "name": "stderr",
     "output_type": "stream",
     "text": [
      "2024/08/05 21:55:14 WARNING mlflow.models.model: Input example should be provided to infer model signature if the model signature is not provided when logging the model.\n"
     ]
    },
    {
     "name": "stderr",
     "output_type": "stream",
     "text": [
      "2024/08/05 21:55:14 INFO mlflow.tracking._tracking_service.client: 🏃 View run AdaBoost Regressor at: http://localhost:8080/#/experiments/584040955558151400/runs/50382205fd52436caba272565d1fde78.\n"
     ]
    },
    {
     "name": "stderr",
     "output_type": "stream",
     "text": [
      "2024/08/05 21:55:14 INFO mlflow.tracking._tracking_service.client: 🧪 View experiment at: http://localhost:8080/#/experiments/584040955558151400.\n"
     ]
    },
    {
     "name": "stderr",
     "output_type": "stream",
     "text": [
      "2024/08/05 21:55:14 WARNING mlflow.models.model: Input example should be provided to infer model signature if the model signature is not provided when logging the model.\n"
     ]
    },
    {
     "name": "stderr",
     "output_type": "stream",
     "text": [
      "2024/08/05 21:55:14 INFO mlflow.tracking._tracking_service.client: 🏃 View run K Neighbors Regressor at: http://localhost:8080/#/experiments/584040955558151400/runs/edf47236d5b842609c8cb2e130488b34.\n"
     ]
    },
    {
     "name": "stderr",
     "output_type": "stream",
     "text": [
      "2024/08/05 21:55:14 INFO mlflow.tracking._tracking_service.client: 🧪 View experiment at: http://localhost:8080/#/experiments/584040955558151400.\n"
     ]
    },
    {
     "name": "stderr",
     "output_type": "stream",
     "text": [
      "2024/08/05 21:55:15 WARNING mlflow.models.model: Input example should be provided to infer model signature if the model signature is not provided when logging the model.\n"
     ]
    },
    {
     "name": "stderr",
     "output_type": "stream",
     "text": [
      "2024/08/05 21:55:15 INFO mlflow.tracking._tracking_service.client: 🏃 View run Bayesian Ridge at: http://localhost:8080/#/experiments/584040955558151400/runs/156477de2cec4e6bac1f0e53886689c0.\n"
     ]
    },
    {
     "name": "stderr",
     "output_type": "stream",
     "text": [
      "2024/08/05 21:55:15 INFO mlflow.tracking._tracking_service.client: 🧪 View experiment at: http://localhost:8080/#/experiments/584040955558151400.\n"
     ]
    },
    {
     "name": "stderr",
     "output_type": "stream",
     "text": [
      "2024/08/05 21:55:15 WARNING mlflow.models.model: Input example should be provided to infer model signature if the model signature is not provided when logging the model.\n"
     ]
    },
    {
     "name": "stderr",
     "output_type": "stream",
     "text": [
      "2024/08/05 21:55:15 INFO mlflow.tracking._tracking_service.client: 🏃 View run Ridge Regression at: http://localhost:8080/#/experiments/584040955558151400/runs/7b3a99d661144cf0afa41a8243c639c5.\n"
     ]
    },
    {
     "name": "stderr",
     "output_type": "stream",
     "text": [
      "2024/08/05 21:55:15 INFO mlflow.tracking._tracking_service.client: 🧪 View experiment at: http://localhost:8080/#/experiments/584040955558151400.\n"
     ]
    },
    {
     "name": "stderr",
     "output_type": "stream",
     "text": [
      "2024/08/05 21:55:15 WARNING mlflow.models.model: Input example should be provided to infer model signature if the model signature is not provided when logging the model.\n"
     ]
    },
    {
     "name": "stderr",
     "output_type": "stream",
     "text": [
      "2024/08/05 21:55:15 INFO mlflow.tracking._tracking_service.client: 🏃 View run Linear Regression at: http://localhost:8080/#/experiments/584040955558151400/runs/f2f447eec49846eba4936e130a9f5ac6.\n"
     ]
    },
    {
     "name": "stderr",
     "output_type": "stream",
     "text": [
      "2024/08/05 21:55:15 INFO mlflow.tracking._tracking_service.client: 🧪 View experiment at: http://localhost:8080/#/experiments/584040955558151400.\n"
     ]
    },
    {
     "name": "stderr",
     "output_type": "stream",
     "text": [
      "2024/08/05 21:55:15 WARNING mlflow.models.model: Input example should be provided to infer model signature if the model signature is not provided when logging the model.\n"
     ]
    },
    {
     "name": "stderr",
     "output_type": "stream",
     "text": [
      "2024/08/05 21:55:16 INFO mlflow.tracking._tracking_service.client: 🏃 View run Orthogonal Matching Pursuit at: http://localhost:8080/#/experiments/584040955558151400/runs/dd7d3c28110b44f3b43f75dcd4499a38.\n"
     ]
    },
    {
     "name": "stderr",
     "output_type": "stream",
     "text": [
      "2024/08/05 21:55:16 INFO mlflow.tracking._tracking_service.client: 🧪 View experiment at: http://localhost:8080/#/experiments/584040955558151400.\n"
     ]
    },
    {
     "name": "stderr",
     "output_type": "stream",
     "text": [
      "2024/08/05 21:55:16 WARNING mlflow.models.model: Input example should be provided to infer model signature if the model signature is not provided when logging the model.\n"
     ]
    },
    {
     "name": "stderr",
     "output_type": "stream",
     "text": [
      "2024/08/05 21:55:16 INFO mlflow.tracking._tracking_service.client: 🏃 View run Lasso Regression at: http://localhost:8080/#/experiments/584040955558151400/runs/342bf13fef434341b6710fd9a5764f00.\n"
     ]
    },
    {
     "name": "stderr",
     "output_type": "stream",
     "text": [
      "2024/08/05 21:55:16 INFO mlflow.tracking._tracking_service.client: 🧪 View experiment at: http://localhost:8080/#/experiments/584040955558151400.\n"
     ]
    },
    {
     "name": "stderr",
     "output_type": "stream",
     "text": [
      "2024/08/05 21:55:16 WARNING mlflow.models.model: Input example should be provided to infer model signature if the model signature is not provided when logging the model.\n"
     ]
    },
    {
     "name": "stderr",
     "output_type": "stream",
     "text": [
      "2024/08/05 21:55:16 INFO mlflow.tracking._tracking_service.client: 🏃 View run Elastic Net at: http://localhost:8080/#/experiments/584040955558151400/runs/14878df12f794aa7b1e97e34ded36b8a.\n"
     ]
    },
    {
     "name": "stderr",
     "output_type": "stream",
     "text": [
      "2024/08/05 21:55:16 INFO mlflow.tracking._tracking_service.client: 🧪 View experiment at: http://localhost:8080/#/experiments/584040955558151400.\n"
     ]
    },
    {
     "name": "stderr",
     "output_type": "stream",
     "text": [
      "2024/08/05 21:55:17 WARNING mlflow.models.model: Input example should be provided to infer model signature if the model signature is not provided when logging the model.\n"
     ]
    },
    {
     "name": "stderr",
     "output_type": "stream",
     "text": [
      "2024/08/05 21:55:17 INFO mlflow.tracking._tracking_service.client: 🏃 View run Lasso Least Angle Regression at: http://localhost:8080/#/experiments/584040955558151400/runs/cb3d9356a0f14d35ae4cdff04a60bf89.\n"
     ]
    },
    {
     "name": "stderr",
     "output_type": "stream",
     "text": [
      "2024/08/05 21:55:17 INFO mlflow.tracking._tracking_service.client: 🧪 View experiment at: http://localhost:8080/#/experiments/584040955558151400.\n"
     ]
    },
    {
     "name": "stderr",
     "output_type": "stream",
     "text": [
      "2024/08/05 21:55:18 WARNING mlflow.models.model: Input example should be provided to infer model signature if the model signature is not provided when logging the model.\n"
     ]
    },
    {
     "name": "stderr",
     "output_type": "stream",
     "text": [
      "2024/08/05 21:55:18 INFO mlflow.tracking._tracking_service.client: 🏃 View run Dummy Regressor at: http://localhost:8080/#/experiments/584040955558151400/runs/9567d46640d34db4aa439e39991f3cb6.\n"
     ]
    },
    {
     "name": "stderr",
     "output_type": "stream",
     "text": [
      "2024/08/05 21:55:18 INFO mlflow.tracking._tracking_service.client: 🧪 View experiment at: http://localhost:8080/#/experiments/584040955558151400.\n"
     ]
    },
    {
     "name": "stderr",
     "output_type": "stream",
     "text": [
      "2024/08/05 21:55:18 WARNING mlflow.models.model: Input example should be provided to infer model signature if the model signature is not provided when logging the model.\n"
     ]
    },
    {
     "name": "stderr",
     "output_type": "stream",
     "text": [
      "2024/08/05 21:55:18 INFO mlflow.tracking._tracking_service.client: 🏃 View run Huber Regressor at: http://localhost:8080/#/experiments/584040955558151400/runs/00b9b68a0588402f9c3643b095e40428.\n"
     ]
    },
    {
     "name": "stderr",
     "output_type": "stream",
     "text": [
      "2024/08/05 21:55:18 INFO mlflow.tracking._tracking_service.client: 🧪 View experiment at: http://localhost:8080/#/experiments/584040955558151400.\n"
     ]
    },
    {
     "name": "stderr",
     "output_type": "stream",
     "text": [
      "2024/08/05 21:55:18 WARNING mlflow.models.model: Input example should be provided to infer model signature if the model signature is not provided when logging the model.\n"
     ]
    },
    {
     "name": "stderr",
     "output_type": "stream",
     "text": [
      "2024/08/05 21:55:18 INFO mlflow.tracking._tracking_service.client: 🏃 View run Passive Aggressive Regressor at: http://localhost:8080/#/experiments/584040955558151400/runs/e1d3b5b5e7b54ea08699c0127bbcfb91.\n"
     ]
    },
    {
     "name": "stderr",
     "output_type": "stream",
     "text": [
      "2024/08/05 21:55:18 INFO mlflow.tracking._tracking_service.client: 🧪 View experiment at: http://localhost:8080/#/experiments/584040955558151400.\n"
     ]
    },
    {
     "name": "stderr",
     "output_type": "stream",
     "text": [
      "2024/08/05 21:55:19 WARNING mlflow.models.model: Input example should be provided to infer model signature if the model signature is not provided when logging the model.\n"
     ]
    },
    {
     "name": "stderr",
     "output_type": "stream",
     "text": [
      "2024/08/05 21:55:19 INFO mlflow.tracking._tracking_service.client: 🏃 View run Least Angle Regression at: http://localhost:8080/#/experiments/584040955558151400/runs/183ea05edce049a39696dda44eb544ca.\n"
     ]
    },
    {
     "name": "stderr",
     "output_type": "stream",
     "text": [
      "2024/08/05 21:55:19 INFO mlflow.tracking._tracking_service.client: 🧪 View experiment at: http://localhost:8080/#/experiments/584040955558151400.\n"
     ]
    }
   ],
   "source": [
    "best_threes_model = regression.compare_models(n_select=3)"
   ]
  },
  {
   "cell_type": "code",
   "execution_count": 8,
   "id": "42f8af5f",
   "metadata": {
    "execution": {
     "iopub.execute_input": "2024-08-05T21:55:19.353910Z",
     "iopub.status.busy": "2024-08-05T21:55:19.353594Z",
     "iopub.status.idle": "2024-08-05T21:55:19.421519Z",
     "shell.execute_reply": "2024-08-05T21:55:19.420938Z"
    },
    "papermill": {
     "duration": 0.082476,
     "end_time": "2024-08-05T21:55:19.423569",
     "exception": false,
     "start_time": "2024-08-05T21:55:19.341093",
     "status": "completed"
    },
    "tags": []
   },
   "outputs": [
    {
     "name": "stderr",
     "output_type": "stream",
     "text": [
      "2024/08/05 21:55:19 INFO mlflow.tracking._tracking_service.client: 🏃 View run Session Initialized bb8c at: http://localhost:8080/#/experiments/584040955558151400/runs/80c424cf9c0e4c6881eaffbe242457a8.\n"
     ]
    },
    {
     "name": "stderr",
     "output_type": "stream",
     "text": [
      "2024/08/05 21:55:19 INFO mlflow.tracking._tracking_service.client: 🧪 View experiment at: http://localhost:8080/#/experiments/584040955558151400.\n"
     ]
    }
   ],
   "source": [
    "mlflow.end_run()"
   ]
  },
  {
   "cell_type": "markdown",
   "id": "32313981",
   "metadata": {
    "papermill": {
     "duration": 0.007537,
     "end_time": "2024-08-05T21:55:19.439093",
     "exception": false,
     "start_time": "2024-08-05T21:55:19.431556",
     "status": "completed"
    },
    "tags": []
   },
   "source": [
    "L'entrainement sur plusieurs types de modèles avec PyCaret montre que pour ce problème, les modèles: ExtraTreesRegressor, XGBRegressor et RandomForestRegressor sont les plus adaptés. Toutefois, nous pensons que les performances obtenus lors de ce premier entrainement peuvent être nettement améliorées. Nous allons attendre de faire le réglage de paramètres et d'obtenir les modèles finaux avant de faire un choix.\n"
   ]
  },
  {
   "cell_type": "markdown",
   "id": "5c5a9b18",
   "metadata": {
    "papermill": {
     "duration": 0.007612,
     "end_time": "2024-08-05T21:55:19.454417",
     "exception": false,
     "start_time": "2024-08-05T21:55:19.446805",
     "status": "completed"
    },
    "tags": []
   },
   "source": [
    "## Fine-Tuning\n"
   ]
  },
  {
   "cell_type": "code",
   "execution_count": 9,
   "id": "feb3f1c1",
   "metadata": {
    "execution": {
     "iopub.execute_input": "2024-08-05T21:55:19.469463Z",
     "iopub.status.busy": "2024-08-05T21:55:19.469209Z",
     "iopub.status.idle": "2024-08-05T21:55:19.501105Z",
     "shell.execute_reply": "2024-08-05T21:55:19.500649Z"
    },
    "papermill": {
     "duration": 0.04083,
     "end_time": "2024-08-05T21:55:19.502738",
     "exception": false,
     "start_time": "2024-08-05T21:55:19.461908",
     "status": "completed"
    },
    "tags": []
   },
   "outputs": [],
   "source": [
    "ESTIMATOR_PARAMS = {\n",
    "    ExtraTreesRegressor.__name__: {\n",
    "        \"estimator\": ExtraTreesRegressor(),\n",
    "        \"params\": {\n",
    "            'regressor__estimator__n_estimators': np.arange(10, 200, 5),\n",
    "        }\n",
    "    },\n",
    "    RandomForestRegressor.__name__: {\n",
    "        \"estimator\": RandomForestRegressor(),\n",
    "        \"params\": {\n",
    "            'regressor__estimator__n_estimators': np.arange(10, 200, 5),\n",
    "        }\n",
    "    },\n",
    "    xgb.XGBRegressor.__name__: {\n",
    "        \"estimator\": xgb.XGBRegressor(),\n",
    "        \"params\": {\n",
    "            'regressor__estimator__n_estimators': np.arange(10, 200, 5),\n",
    "        }\n",
    "    }\n",
    "}"
   ]
  },
  {
   "cell_type": "markdown",
   "id": "b5014960",
   "metadata": {
    "tags": [
     "papermill-error-cell-tag"
    ]
   },
   "source": [
    "<span id=\"papermill-error-cell\" style=\"color:red; font-family:Helvetica Neue, Helvetica, Arial, sans-serif; font-size:2em;\">Execution using papermill encountered an exception here and stopped:</span>"
   ]
  },
  {
   "cell_type": "code",
   "execution_count": 10,
   "id": "465a7b60",
   "metadata": {
    "execution": {
     "iopub.execute_input": "2024-08-05T21:55:19.517724Z",
     "iopub.status.busy": "2024-08-05T21:55:19.517272Z",
     "iopub.status.idle": "2024-08-05T21:55:20.009683Z",
     "shell.execute_reply": "2024-08-05T21:55:20.008958Z"
    },
    "papermill": {
     "duration": 0.502455,
     "end_time": "2024-08-05T21:55:20.011731",
     "exception": true,
     "start_time": "2024-08-05T21:55:19.509276",
     "status": "failed"
    },
    "tags": []
   },
   "outputs": [
    {
     "name": "stderr",
     "output_type": "stream",
     "text": [
      "2024/08/05 21:55:19 INFO mlflow.tracking._tracking_service.client: 🏃 View run ExtraTreesRegressor at: http://localhost:8080/#/experiments/558378607717202508/runs/51eb1044d75f4fc19cc3b06c04fa9e3a.\n"
     ]
    },
    {
     "name": "stderr",
     "output_type": "stream",
     "text": [
      "2024/08/05 21:55:19 INFO mlflow.tracking._tracking_service.client: 🧪 View experiment at: http://localhost:8080/#/experiments/558378607717202508.\n"
     ]
    },
    {
     "name": "stderr",
     "output_type": "stream",
     "text": [
      "2024/08/05 21:55:19 INFO mlflow.tracking._tracking_service.client: 🏃 View run Session-20240805_210819 at: http://localhost:8080/#/experiments/558378607717202508/runs/a4308f182e534b75882d50e2d5dc67c3.\n"
     ]
    },
    {
     "name": "stderr",
     "output_type": "stream",
     "text": [
      "2024/08/05 21:55:19 INFO mlflow.tracking._tracking_service.client: 🧪 View experiment at: http://localhost:8080/#/experiments/558378607717202508.\n"
     ]
    },
    {
     "ename": "NameError",
     "evalue": "name 'np' is not defined",
     "output_type": "error",
     "traceback": [
      "\u001b[0;31m---------------------------------------------------------------------------\u001b[0m",
      "\u001b[0;31mNameError\u001b[0m                                 Traceback (most recent call last)",
      "Cell \u001b[0;32mIn[10], line 25\u001b[0m\n\u001b[1;32m     23\u001b[0m estimator \u001b[38;5;241m=\u001b[39m settings[\u001b[38;5;124m\"\u001b[39m\u001b[38;5;124mestimator\u001b[39m\u001b[38;5;124m\"\u001b[39m]\n\u001b[1;32m     24\u001b[0m param_grid \u001b[38;5;241m=\u001b[39m settings[\u001b[38;5;124m\"\u001b[39m\u001b[38;5;124mparams\u001b[39m\u001b[38;5;124m\"\u001b[39m]\n\u001b[0;32m---> 25\u001b[0m pipeline \u001b[38;5;241m=\u001b[39m \u001b[43mdefine_pipeline\u001b[49m\u001b[43m(\u001b[49m\u001b[43mnumerical_transformer\u001b[49m\u001b[38;5;241;43m=\u001b[39;49m\u001b[43m[\u001b[49m\u001b[43mSimpleImputer\u001b[49m\u001b[43m(\u001b[49m\u001b[43mstrategy\u001b[49m\u001b[38;5;241;43m=\u001b[39;49m\u001b[38;5;124;43m\"\u001b[39;49m\u001b[38;5;124;43mmedian\u001b[39;49m\u001b[38;5;124;43m\"\u001b[39;49m\u001b[43m)\u001b[49m\u001b[43m,\u001b[49m\u001b[43m \u001b[49m\u001b[43mRobustScaler\u001b[49m\u001b[43m(\u001b[49m\u001b[43m)\u001b[49m\u001b[43m]\u001b[49m\u001b[43m,\u001b[49m\n\u001b[1;32m     26\u001b[0m \u001b[43m                \u001b[49m\u001b[43mcategorical_transformer\u001b[49m\u001b[38;5;241;43m=\u001b[39;49m\u001b[43m[\u001b[49m\u001b[43mSimpleImputer\u001b[49m\u001b[43m(\u001b[49m\u001b[43mstrategy\u001b[49m\u001b[38;5;241;43m=\u001b[39;49m\u001b[38;5;124;43m\"\u001b[39;49m\u001b[38;5;124;43mconstant\u001b[39;49m\u001b[38;5;124;43m\"\u001b[39;49m\u001b[43m,\u001b[49m\u001b[43m \u001b[49m\u001b[43mfill_value\u001b[49m\u001b[38;5;241;43m=\u001b[39;49m\u001b[38;5;124;43m\"\u001b[39;49m\u001b[38;5;124;43mundefined\u001b[39;49m\u001b[38;5;124;43m\"\u001b[39;49m\u001b[43m)\u001b[49m\u001b[43m,\u001b[49m\u001b[43m \u001b[49m\u001b[43mOneHotEncoder\u001b[49m\u001b[43m(\u001b[49m\u001b[43mdrop\u001b[49m\u001b[38;5;241;43m=\u001b[39;49m\u001b[38;5;124;43m\"\u001b[39;49m\u001b[38;5;124;43mif_binary\u001b[39;49m\u001b[38;5;124;43m\"\u001b[39;49m\u001b[43m,\u001b[49m\u001b[43m \u001b[49m\u001b[43mhandle_unknown\u001b[49m\u001b[38;5;241;43m=\u001b[39;49m\u001b[38;5;124;43m\"\u001b[39;49m\u001b[38;5;124;43mignore\u001b[39;49m\u001b[38;5;124;43m\"\u001b[39;49m\u001b[43m)\u001b[49m\u001b[43m]\u001b[49m\u001b[43m,\u001b[49m\n\u001b[1;32m     27\u001b[0m \u001b[43m                \u001b[49m\u001b[43mtarget_transformer\u001b[49m\u001b[38;5;241;43m=\u001b[39;49m\u001b[38;5;28;43;01mTrue\u001b[39;49;00m\u001b[43m,\u001b[49m\n\u001b[1;32m     28\u001b[0m \u001b[43m                \u001b[49m\u001b[43mestimator\u001b[49m\u001b[38;5;241;43m=\u001b[39;49m\u001b[43mestimator\u001b[49m\n\u001b[1;32m     29\u001b[0m \u001b[43m            \u001b[49m\u001b[43m)\u001b[49m \n\u001b[1;32m     30\u001b[0m grid_search \u001b[38;5;241m=\u001b[39m GridSearchCV(\n\u001b[1;32m     31\u001b[0m     estimator\u001b[38;5;241m=\u001b[39mpipeline,  \u001b[38;5;66;03m# Instantiate the estimator\u001b[39;00m\n\u001b[1;32m     32\u001b[0m     param_grid\u001b[38;5;241m=\u001b[39mparam_grid,\n\u001b[0;32m   (...)\u001b[0m\n\u001b[1;32m     36\u001b[0m     n_jobs\u001b[38;5;241m=\u001b[39m\u001b[38;5;241m-\u001b[39m\u001b[38;5;241m1\u001b[39m  \u001b[38;5;66;03m# Use all available cores\u001b[39;00m\n\u001b[1;32m     37\u001b[0m )\n\u001b[1;32m     38\u001b[0m grid_search\u001b[38;5;241m.\u001b[39mfit(x_train, y_train)\n",
      "File \u001b[0;32m~/Desktop/Building-Energy-Prediction/src/pipeline.py:55\u001b[0m, in \u001b[0;36mdefine_pipeline\u001b[0;34m(numerical_transformer, categorical_transformer, estimator, target_transformer, **kwargs)\u001b[0m\n\u001b[1;32m     51\u001b[0m \u001b[38;5;28;01mif\u001b[39;00m target_transformer:\n\u001b[1;32m     52\u001b[0m     model_pipe1 \u001b[38;5;241m=\u001b[39m Pipeline(steps\u001b[38;5;241m=\u001b[39m[(\u001b[38;5;124m\"\u001b[39m\u001b[38;5;124mpreprocessor\u001b[39m\u001b[38;5;124m\"\u001b[39m, preprocessor),\n\u001b[1;32m     53\u001b[0m                                  (\u001b[38;5;124m\"\u001b[39m\u001b[38;5;124mestimator\u001b[39m\u001b[38;5;124m\"\u001b[39m, estimator)])\n\u001b[1;32m     54\u001b[0m     model_pipe \u001b[38;5;241m=\u001b[39m TransformedTargetRegressor(regressor\u001b[38;5;241m=\u001b[39mmodel_pipe1,\n\u001b[0;32m---> 55\u001b[0m                                             func\u001b[38;5;241m=\u001b[39m\u001b[43mnp\u001b[49m\u001b[38;5;241m.\u001b[39mlog,\n\u001b[1;32m     56\u001b[0m                                             inverse_func\u001b[38;5;241m=\u001b[39mnp\u001b[38;5;241m.\u001b[39mexp)\n\u001b[1;32m     57\u001b[0m \u001b[38;5;28;01melse\u001b[39;00m:\n\u001b[1;32m     58\u001b[0m     model_pipe \u001b[38;5;241m=\u001b[39m Pipeline(steps\u001b[38;5;241m=\u001b[39m[(\u001b[38;5;124m\"\u001b[39m\u001b[38;5;124mpreprocessor\u001b[39m\u001b[38;5;124m\"\u001b[39m, preprocessor), (\u001b[38;5;124m\"\u001b[39m\u001b[38;5;124mestimator\u001b[39m\u001b[38;5;124m\"\u001b[39m, estimator)])\n",
      "\u001b[0;31mNameError\u001b[0m: name 'np' is not defined"
     ]
    }
   ],
   "source": [
    "CURRENT_DATE = pendulum.now()\n",
    "\n",
    "search_cvs = {}\n",
    "\n",
    "def rmse(actual, predicted):\n",
    "    return np.sqrt(mean_squared_error(actual, predicted))\n",
    "\n",
    "scoring = {'r2': make_scorer(r2_score),\n",
    "          'rmse': make_scorer(rmse, greater_is_better=False),\n",
    "          'mae': make_scorer(mean_absolute_error, greater_is_better=False)}\n",
    "\n",
    "# Create an experiment if not exists\n",
    "exp_name = \"building-energy-prediction-tuning-sklearn\"\n",
    "experiment = mlflow.get_experiment_by_name(exp_name)\n",
    "if not experiment:\n",
    "    experiment_id = mlflow.create_experiment(exp_name)\n",
    "else:\n",
    "    experiment_id = experiment.experiment_id\n",
    "\n",
    "with mlflow.start_run(run_name=f\"Session-{CURRENT_DATE.strftime('%Y%m%d_%H%m%S')}\", experiment_id=experiment_id) as parent_run:\n",
    "    for estimator_name, settings in ESTIMATOR_PARAMS.items():\n",
    "        with mlflow.start_run(run_name=estimator_name, nested=True, experiment_id=experiment_id):  \n",
    "            estimator = settings[\"estimator\"]\n",
    "            param_grid = settings[\"params\"]\n",
    "            pipeline = define_pipeline(numerical_transformer=[SimpleImputer(strategy=\"median\"), RobustScaler()],\n",
    "                            categorical_transformer=[SimpleImputer(strategy=\"constant\", fill_value=\"undefined\"), OneHotEncoder(drop=\"if_binary\", handle_unknown=\"ignore\")],\n",
    "                            target_transformer=True,\n",
    "                            estimator=estimator\n",
    "                        ) \n",
    "            grid_search = GridSearchCV(\n",
    "                estimator=pipeline,  # Instantiate the estimator\n",
    "                param_grid=param_grid,\n",
    "                scoring=scoring,\n",
    "                refit='r2',\n",
    "                cv=5,  # Adjust the number of cross-validation folds as needed\n",
    "                n_jobs=-1  # Use all available cores\n",
    "            )\n",
    "            grid_search.fit(x_train, y_train)\n",
    "            search_cvs[estimator_name] = grid_search\n",
    "\n",
    "            mlflow.log_param(\"Estimator\", estimator_name)\n",
    "            mlflow_log_search(grid_search)\n",
    "mlflow.end_run()"
   ]
  },
  {
   "cell_type": "markdown",
   "id": "0b79dd3a",
   "metadata": {
    "papermill": {
     "duration": null,
     "end_time": null,
     "exception": null,
     "start_time": null,
     "status": "pending"
    },
    "tags": []
   },
   "source": [
    "## Model Evaluation on Test Data\n"
   ]
  },
  {
   "cell_type": "markdown",
   "id": "404bf7c7",
   "metadata": {
    "papermill": {
     "duration": null,
     "end_time": null,
     "exception": null,
     "start_time": null,
     "status": "pending"
    },
    "tags": []
   },
   "source": [
    "We are going to evaluate the fine-tuned models to see which one we are going to pick as the final model.\n"
   ]
  },
  {
   "cell_type": "code",
   "execution_count": null,
   "id": "edcc32ad",
   "metadata": {
    "papermill": {
     "duration": null,
     "end_time": null,
     "exception": null,
     "start_time": null,
     "status": "pending"
    },
    "tags": []
   },
   "outputs": [],
   "source": [
    "# Obtaining best_models after fine-tuning\n",
    "models = { f\"{estimator_name}\": search_cv.best_estimator_ for estimator_name, search_cv in search_cvs.items()}"
   ]
  },
  {
   "cell_type": "code",
   "execution_count": null,
   "id": "0ebac8d6",
   "metadata": {
    "papermill": {
     "duration": null,
     "end_time": null,
     "exception": null,
     "start_time": null,
     "status": "pending"
    },
    "tags": []
   },
   "outputs": [],
   "source": [
    "exp_name = \"building-energy-prediction-evaluation\"\n",
    "experiment = mlflow.get_experiment_by_name(exp_name)\n",
    "if not experiment:\n",
    "    experiment_id = mlflow.create_experiment(exp_name)\n",
    "else:\n",
    "    experiment_id = experiment.experiment_id\n",
    "\n",
    "def evaluate_models(estimators, x_train, x_test, y_train, y_test):\n",
    "    # Dict of R2 scores for the estimators\n",
    "    r2_scores = {}\n",
    "    with mlflow.start_run(run_name=f\"Session-{CURRENT_DATE.strftime('%Y%m%d_%H%m%S')}\", experiment_id=experiment_id):\n",
    "        for estimator_name, estimator in estimators.items():\n",
    "            with mlflow.start_run(run_name=estimator_name, nested=True, experiment_id=experiment_id): \n",
    "                y_train_pred = estimator.predict(x_train)\n",
    "                y_test_pred = estimator.predict(x_test)\n",
    "\n",
    "                train_metrics = eval_metrics(y_train, y_train_pred)\n",
    "                test_metrics = eval_metrics(y_test, y_test_pred)\n",
    "\n",
    "                # Add the R2 score of the model to the global dict\n",
    "                r2_scores[estimator_name] = test_metrics['r2']\n",
    "\n",
    "                # Log the regressor parameters\n",
    "                mlflow.log_params(estimator.regressor.steps[-1][1].get_params())\n",
    "\n",
    "                # Log the best metric\n",
    "                mlflow.log_metrics(test_metrics)\n",
    "\n",
    "                # Log the model\n",
    "                mlflow.sklearn.log_model(estimator.best_estimator_, \"model\")\n",
    "\n",
    "                logger.info(f\"\"\"{estimator_name} performance \\n{pd.DataFrame({'train': train_metrics, 'test': test_metrics}).T}\"\"\")\n",
    "    return max(r2_scores.items(), key=lambda item: item[1])\n",
    "\n",
    "mlflow.end_run()\n",
    "\n",
    "best_estimator, score = evaluate_models(models, x_train, x_test, y_train, y_test)\n",
    "\n",
    "logger.info(f\"\"\"{best_estimator} is the best estimator found for this problem with an R2 score of {score}\"\"\")"
   ]
  },
  {
   "cell_type": "markdown",
   "id": "6aaef7e3",
   "metadata": {
    "papermill": {
     "duration": null,
     "end_time": null,
     "exception": null,
     "start_time": null,
     "status": "pending"
    },
    "tags": []
   },
   "source": [
    "### Prediction Error Plot\n"
   ]
  },
  {
   "cell_type": "code",
   "execution_count": null,
   "id": "19c204b3",
   "metadata": {
    "papermill": {
     "duration": null,
     "end_time": null,
     "exception": null,
     "start_time": null,
     "status": "pending"
    },
    "tags": []
   },
   "outputs": [],
   "source": [
    "prediction_error_plot(models, x_train, x_test, y_train, y_test)"
   ]
  },
  {
   "cell_type": "markdown",
   "id": "ca48d1b7",
   "metadata": {
    "papermill": {
     "duration": null,
     "end_time": null,
     "exception": null,
     "start_time": null,
     "status": "pending"
    },
    "tags": []
   },
   "source": [
    "### Residual Plot\n"
   ]
  },
  {
   "cell_type": "code",
   "execution_count": null,
   "id": "fbac7001",
   "metadata": {
    "papermill": {
     "duration": null,
     "end_time": null,
     "exception": null,
     "start_time": null,
     "status": "pending"
    },
    "tags": []
   },
   "outputs": [],
   "source": [
    "residual_plot(models, x_train, x_test, y_train, y_test)"
   ]
  }
 ],
 "metadata": {
  "kernelspec": {
   "display_name": "mlops",
   "language": "python",
   "name": "python3"
  },
  "language_info": {
   "codemirror_mode": {
    "name": "ipython",
    "version": 3
   },
   "file_extension": ".py",
   "mimetype": "text/x-python",
   "name": "python",
   "nbconvert_exporter": "python",
   "pygments_lexer": "ipython3",
   "version": "3.10.10"
  },
  "papermill": {
   "default_parameters": {},
   "duration": 66.64523,
   "end_time": "2024-08-05T21:55:22.641062",
   "environment_variables": {},
   "exception": true,
   "input_path": "../notebooks/04-modelisation.ipynb",
   "output_path": "../notebooks/outputs/04-modelisation_output.ipynb",
   "parameters": {},
   "start_time": "2024-08-05T21:54:15.995832",
   "version": "2.6.0"
  },
  "widgets": {
   "application/vnd.jupyter.widget-state+json": {
    "state": {
     "0572b365f4c246bc829fabd9eb3f5958": {
      "model_module": "@jupyter-widgets/controls",
      "model_module_version": "2.0.0",
      "model_name": "HTMLModel",
      "state": {
       "_dom_classes": [],
       "_model_module": "@jupyter-widgets/controls",
       "_model_module_version": "2.0.0",
       "_model_name": "HTMLModel",
       "_view_count": null,
       "_view_module": "@jupyter-widgets/controls",
       "_view_module_version": "2.0.0",
       "_view_name": "HTMLView",
       "description": "",
       "description_allow_html": false,
       "layout": "IPY_MODEL_a519eab6b7044957a66f4903e02bd7c1",
       "placeholder": "​",
       "style": "IPY_MODEL_702072964661468d910bca9efcdc8e78",
       "tabbable": null,
       "tooltip": null,
       "value": " 83/83 [00:50&lt;00:00,  1.12it/s]"
      }
     },
     "5f8fa53a19ac47129c2c8e942b2cd0e9": {
      "model_module": "@jupyter-widgets/controls",
      "model_module_version": "2.0.0",
      "model_name": "FloatProgressModel",
      "state": {
       "_dom_classes": [],
       "_model_module": "@jupyter-widgets/controls",
       "_model_module_version": "2.0.0",
       "_model_name": "FloatProgressModel",
       "_view_count": null,
       "_view_module": "@jupyter-widgets/controls",
       "_view_module_version": "2.0.0",
       "_view_name": "ProgressView",
       "bar_style": "",
       "description": "",
       "description_allow_html": false,
       "layout": "IPY_MODEL_af7a070991054316a2b646a96f98fc41",
       "max": 83.0,
       "min": 0.0,
       "orientation": "horizontal",
       "style": "IPY_MODEL_72b7f3f6eaa247ad8818bf53e5d51b38",
       "tabbable": null,
       "tooltip": null,
       "value": 83.0
      }
     },
     "702072964661468d910bca9efcdc8e78": {
      "model_module": "@jupyter-widgets/controls",
      "model_module_version": "2.0.0",
      "model_name": "HTMLStyleModel",
      "state": {
       "_model_module": "@jupyter-widgets/controls",
       "_model_module_version": "2.0.0",
       "_model_name": "HTMLStyleModel",
       "_view_count": null,
       "_view_module": "@jupyter-widgets/base",
       "_view_module_version": "2.0.0",
       "_view_name": "StyleView",
       "background": null,
       "description_width": "",
       "font_size": null,
       "text_color": null
      }
     },
     "72b7f3f6eaa247ad8818bf53e5d51b38": {
      "model_module": "@jupyter-widgets/controls",
      "model_module_version": "2.0.0",
      "model_name": "ProgressStyleModel",
      "state": {
       "_model_module": "@jupyter-widgets/controls",
       "_model_module_version": "2.0.0",
       "_model_name": "ProgressStyleModel",
       "_view_count": null,
       "_view_module": "@jupyter-widgets/base",
       "_view_module_version": "2.0.0",
       "_view_name": "StyleView",
       "bar_color": null,
       "description_width": ""
      }
     },
     "890db231845046b7b6d142c851a5d182": {
      "model_module": "@jupyter-widgets/controls",
      "model_module_version": "2.0.0",
      "model_name": "HBoxModel",
      "state": {
       "_dom_classes": [],
       "_model_module": "@jupyter-widgets/controls",
       "_model_module_version": "2.0.0",
       "_model_name": "HBoxModel",
       "_view_count": null,
       "_view_module": "@jupyter-widgets/controls",
       "_view_module_version": "2.0.0",
       "_view_name": "HBoxView",
       "box_style": "",
       "children": [
        "IPY_MODEL_b8d884d1e93d4f85b509001ff86c50d3",
        "IPY_MODEL_5f8fa53a19ac47129c2c8e942b2cd0e9",
        "IPY_MODEL_0572b365f4c246bc829fabd9eb3f5958"
       ],
       "layout": "IPY_MODEL_cf213e1a68dc446484b364b54cdb3b87",
       "tabbable": null,
       "tooltip": null
      }
     },
     "a519eab6b7044957a66f4903e02bd7c1": {
      "model_module": "@jupyter-widgets/base",
      "model_module_version": "2.0.0",
      "model_name": "LayoutModel",
      "state": {
       "_model_module": "@jupyter-widgets/base",
       "_model_module_version": "2.0.0",
       "_model_name": "LayoutModel",
       "_view_count": null,
       "_view_module": "@jupyter-widgets/base",
       "_view_module_version": "2.0.0",
       "_view_name": "LayoutView",
       "align_content": null,
       "align_items": null,
       "align_self": null,
       "border_bottom": null,
       "border_left": null,
       "border_right": null,
       "border_top": null,
       "bottom": null,
       "display": null,
       "flex": null,
       "flex_flow": null,
       "grid_area": null,
       "grid_auto_columns": null,
       "grid_auto_flow": null,
       "grid_auto_rows": null,
       "grid_column": null,
       "grid_gap": null,
       "grid_row": null,
       "grid_template_areas": null,
       "grid_template_columns": null,
       "grid_template_rows": null,
       "height": null,
       "justify_content": null,
       "justify_items": null,
       "left": null,
       "margin": null,
       "max_height": null,
       "max_width": null,
       "min_height": null,
       "min_width": null,
       "object_fit": null,
       "object_position": null,
       "order": null,
       "overflow": null,
       "padding": null,
       "right": null,
       "top": null,
       "visibility": null,
       "width": null
      }
     },
     "af7a070991054316a2b646a96f98fc41": {
      "model_module": "@jupyter-widgets/base",
      "model_module_version": "2.0.0",
      "model_name": "LayoutModel",
      "state": {
       "_model_module": "@jupyter-widgets/base",
       "_model_module_version": "2.0.0",
       "_model_name": "LayoutModel",
       "_view_count": null,
       "_view_module": "@jupyter-widgets/base",
       "_view_module_version": "2.0.0",
       "_view_name": "LayoutView",
       "align_content": null,
       "align_items": null,
       "align_self": null,
       "border_bottom": null,
       "border_left": null,
       "border_right": null,
       "border_top": null,
       "bottom": null,
       "display": null,
       "flex": null,
       "flex_flow": null,
       "grid_area": null,
       "grid_auto_columns": null,
       "grid_auto_flow": null,
       "grid_auto_rows": null,
       "grid_column": null,
       "grid_gap": null,
       "grid_row": null,
       "grid_template_areas": null,
       "grid_template_columns": null,
       "grid_template_rows": null,
       "height": null,
       "justify_content": null,
       "justify_items": null,
       "left": null,
       "margin": null,
       "max_height": null,
       "max_width": null,
       "min_height": null,
       "min_width": null,
       "object_fit": null,
       "object_position": null,
       "order": null,
       "overflow": null,
       "padding": null,
       "right": null,
       "top": null,
       "visibility": null,
       "width": null
      }
     },
     "b8d884d1e93d4f85b509001ff86c50d3": {
      "model_module": "@jupyter-widgets/controls",
      "model_module_version": "2.0.0",
      "model_name": "HTMLModel",
      "state": {
       "_dom_classes": [],
       "_model_module": "@jupyter-widgets/controls",
       "_model_module_version": "2.0.0",
       "_model_name": "HTMLModel",
       "_view_count": null,
       "_view_module": "@jupyter-widgets/controls",
       "_view_module_version": "2.0.0",
       "_view_name": "HTMLView",
       "description": "",
       "description_allow_html": false,
       "layout": "IPY_MODEL_e3fbb5851bf94fbc9d3d7292a67a0739",
       "placeholder": "​",
       "style": "IPY_MODEL_c28e349af5ba4173aaf77ef140d0b910",
       "tabbable": null,
       "tooltip": null,
       "value": "Processing: 100%"
      }
     },
     "c28e349af5ba4173aaf77ef140d0b910": {
      "model_module": "@jupyter-widgets/controls",
      "model_module_version": "2.0.0",
      "model_name": "HTMLStyleModel",
      "state": {
       "_model_module": "@jupyter-widgets/controls",
       "_model_module_version": "2.0.0",
       "_model_name": "HTMLStyleModel",
       "_view_count": null,
       "_view_module": "@jupyter-widgets/base",
       "_view_module_version": "2.0.0",
       "_view_name": "StyleView",
       "background": null,
       "description_width": "",
       "font_size": null,
       "text_color": null
      }
     },
     "cf213e1a68dc446484b364b54cdb3b87": {
      "model_module": "@jupyter-widgets/base",
      "model_module_version": "2.0.0",
      "model_name": "LayoutModel",
      "state": {
       "_model_module": "@jupyter-widgets/base",
       "_model_module_version": "2.0.0",
       "_model_name": "LayoutModel",
       "_view_count": null,
       "_view_module": "@jupyter-widgets/base",
       "_view_module_version": "2.0.0",
       "_view_name": "LayoutView",
       "align_content": null,
       "align_items": null,
       "align_self": null,
       "border_bottom": null,
       "border_left": null,
       "border_right": null,
       "border_top": null,
       "bottom": null,
       "display": null,
       "flex": null,
       "flex_flow": null,
       "grid_area": null,
       "grid_auto_columns": null,
       "grid_auto_flow": null,
       "grid_auto_rows": null,
       "grid_column": null,
       "grid_gap": null,
       "grid_row": null,
       "grid_template_areas": null,
       "grid_template_columns": null,
       "grid_template_rows": null,
       "height": null,
       "justify_content": null,
       "justify_items": null,
       "left": null,
       "margin": null,
       "max_height": null,
       "max_width": null,
       "min_height": null,
       "min_width": null,
       "object_fit": null,
       "object_position": null,
       "order": null,
       "overflow": null,
       "padding": null,
       "right": null,
       "top": null,
       "visibility": "hidden",
       "width": null
      }
     },
     "e3fbb5851bf94fbc9d3d7292a67a0739": {
      "model_module": "@jupyter-widgets/base",
      "model_module_version": "2.0.0",
      "model_name": "LayoutModel",
      "state": {
       "_model_module": "@jupyter-widgets/base",
       "_model_module_version": "2.0.0",
       "_model_name": "LayoutModel",
       "_view_count": null,
       "_view_module": "@jupyter-widgets/base",
       "_view_module_version": "2.0.0",
       "_view_name": "LayoutView",
       "align_content": null,
       "align_items": null,
       "align_self": null,
       "border_bottom": null,
       "border_left": null,
       "border_right": null,
       "border_top": null,
       "bottom": null,
       "display": null,
       "flex": null,
       "flex_flow": null,
       "grid_area": null,
       "grid_auto_columns": null,
       "grid_auto_flow": null,
       "grid_auto_rows": null,
       "grid_column": null,
       "grid_gap": null,
       "grid_row": null,
       "grid_template_areas": null,
       "grid_template_columns": null,
       "grid_template_rows": null,
       "height": null,
       "justify_content": null,
       "justify_items": null,
       "left": null,
       "margin": null,
       "max_height": null,
       "max_width": null,
       "min_height": null,
       "min_width": null,
       "object_fit": null,
       "object_position": null,
       "order": null,
       "overflow": null,
       "padding": null,
       "right": null,
       "top": null,
       "visibility": null,
       "width": null
      }
     }
    },
    "version_major": 2,
    "version_minor": 0
   }
  }
 },
 "nbformat": 4,
 "nbformat_minor": 5
}