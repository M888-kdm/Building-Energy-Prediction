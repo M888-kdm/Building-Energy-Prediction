{
 "cells": [
  {
   "cell_type": "code",
   "execution_count": null,
   "id": "b746e363",
   "metadata": {
    "execution": {
     "iopub.execute_input": "2024-08-05T23:20:39.058445Z",
     "iopub.status.busy": "2024-08-05T23:20:39.057860Z",
     "iopub.status.idle": "2024-08-05T23:20:43.203130Z",
     "shell.execute_reply": "2024-08-05T23:20:43.202591Z"
    },
    "papermill": {
     "duration": 4.161731,
     "end_time": "2024-08-05T23:20:43.207044",
     "exception": false,
     "start_time": "2024-08-05T23:20:39.045313",
     "status": "completed"
    },
    "tags": []
   },
   "outputs": [],
   "source": [
    "%reload_ext autoreload\n",
    "%autoreload 2\n",
    "\n",
    "import mlflow\n",
    "import os\n",
    "import numpy as np\n",
    "import pandas as pd\n",
    "import pendulum\n",
    "import sys\n",
    "import xgboost as xgb\n",
    "\n",
    "from loguru import logger\n",
    "from pathlib import Path\n",
    "from pycaret import regression\n",
    "from sklearn.metrics import make_scorer, mean_squared_error, mean_absolute_error, r2_score\n",
    "from sklearn.model_selection import train_test_split\n",
    "from sklearn.impute import SimpleImputer\n",
    "from sklearn.model_selection import GridSearchCV\n",
    "from sklearn.preprocessing import RobustScaler, OneHotEncoder\n",
    "from sklearn.ensemble import RandomForestRegressor, ExtraTreesRegressor\n",
    "\n",
    "\n",
    "sys.path.append(str(Path.cwd().parent))\n",
    "sys.path.append(os.path.join(str(Path.cwd().parent), \"src\"))\n",
    "from settings.params import *\n",
    "from metrics import eval_metrics\n",
    "from pipeline import define_pipeline\n",
    "from plot import prediction_error_plot, residual_plot\n",
    "from tracking import mlflow_log_search\n",
    "\n",
    "pd.set_option(\"display.max_columns\", None)\n",
    "pd.set_option(\"display.max_rows\", 100)"
   ]
  },
  {
   "cell_type": "code",
   "execution_count": null,
   "id": "1824d9bf",
   "metadata": {
    "execution": {
     "iopub.execute_input": "2024-08-05T23:20:43.217073Z",
     "iopub.status.busy": "2024-08-05T23:20:43.216485Z",
     "iopub.status.idle": "2024-08-05T23:20:43.251612Z",
     "shell.execute_reply": "2024-08-05T23:20:43.251204Z"
    },
    "papermill": {
     "duration": 0.040548,
     "end_time": "2024-08-05T23:20:43.253022",
     "exception": false,
     "start_time": "2024-08-05T23:20:43.212474",
     "status": "completed"
    },
    "tags": []
   },
   "outputs": [],
   "source": [
    "data = pd.read_csv(CLEANED_DATA)\n",
    "TARGET_NAME = MODEL_PARAMS['TARGET_NAME']"
   ]
  },
  {
   "cell_type": "code",
   "execution_count": null,
   "id": "f7e55b63",
   "metadata": {
    "execution": {
     "iopub.execute_input": "2024-08-05T23:20:43.259333Z",
     "iopub.status.busy": "2024-08-05T23:20:43.259128Z",
     "iopub.status.idle": "2024-08-05T23:20:43.286561Z",
     "shell.execute_reply": "2024-08-05T23:20:43.286157Z"
    },
    "papermill": {
     "duration": 0.032058,
     "end_time": "2024-08-05T23:20:43.288032",
     "exception": false,
     "start_time": "2024-08-05T23:20:43.255974",
     "status": "completed"
    },
    "tags": []
   },
   "outputs": [],
   "source": [
    "mlflow.set_tracking_uri(uri=\"http://localhost:8080\")"
   ]
  },
  {
   "cell_type": "markdown",
   "id": "40e9398a",
   "metadata": {
    "papermill": {
     "duration": 0.00246,
     "end_time": "2024-08-05T23:20:43.293204",
     "exception": false,
     "start_time": "2024-08-05T23:20:43.290744",
     "status": "completed"
    },
    "tags": []
   },
   "source": [
    "# Modeling\n"
   ]
  },
  {
   "cell_type": "markdown",
   "id": "33e3dc98",
   "metadata": {
    "papermill": {
     "duration": 0.002447,
     "end_time": "2024-08-05T23:20:43.298097",
     "exception": false,
     "start_time": "2024-08-05T23:20:43.295650",
     "status": "completed"
    },
    "tags": []
   },
   "source": [
    "## Train/Test Split\n"
   ]
  },
  {
   "cell_type": "code",
   "execution_count": null,
   "id": "d0ee74ff",
   "metadata": {
    "execution": {
     "iopub.execute_input": "2024-08-05T23:20:43.304870Z",
     "iopub.status.busy": "2024-08-05T23:20:43.304616Z",
     "iopub.status.idle": "2024-08-05T23:20:43.359255Z",
     "shell.execute_reply": "2024-08-05T23:20:43.358010Z"
    },
    "papermill": {
     "duration": 0.063965,
     "end_time": "2024-08-05T23:20:43.364851",
     "exception": false,
     "start_time": "2024-08-05T23:20:43.300886",
     "status": "completed"
    },
    "tags": []
   },
   "outputs": [],
   "source": [
    "x_train, x_test, y_train, y_test = train_test_split(data.drop(TARGET_NAME, axis=1), data[TARGET_NAME], test_size=MODEL_PARAMS[\"TEST_SIZE\"], random_state=SEED)\n",
    "\n",
    "logger.info(f\"\\nX train: {x_train.shape}\\nY train: {y_train.shape}\\n\"\n",
    "            f\"X test: {x_test.shape}\\nY test: {y_test.shape}\")"
   ]
  },
  {
   "cell_type": "markdown",
   "id": "4b3f3779",
   "metadata": {
    "papermill": {
     "duration": 0.004264,
     "end_time": "2024-08-05T23:20:43.374466",
     "exception": false,
     "start_time": "2024-08-05T23:20:43.370202",
     "status": "completed"
    },
    "tags": []
   },
   "source": [
    "## Training\n"
   ]
  },
  {
   "cell_type": "code",
   "execution_count": null,
   "id": "3c560318",
   "metadata": {
    "execution": {
     "iopub.execute_input": "2024-08-05T23:20:43.384845Z",
     "iopub.status.busy": "2024-08-05T23:20:43.384368Z",
     "iopub.status.idle": "2024-08-05T23:20:43.731593Z",
     "shell.execute_reply": "2024-08-05T23:20:43.727501Z"
    },
    "papermill": {
     "duration": 0.361362,
     "end_time": "2024-08-05T23:20:43.739546",
     "exception": false,
     "start_time": "2024-08-05T23:20:43.378184",
     "status": "completed"
    },
    "tags": []
   },
   "outputs": [],
   "source": [
    "df = x_train.copy()\n",
    "df[TARGET_NAME] = np.log(y_train)"
   ]
  },
  {
   "cell_type": "code",
   "execution_count": null,
   "id": "cb52e522",
   "metadata": {
    "execution": {
     "iopub.execute_input": "2024-08-05T23:20:43.768705Z",
     "iopub.status.busy": "2024-08-05T23:20:43.768044Z",
     "iopub.status.idle": "2024-08-05T23:20:46.986891Z",
     "shell.execute_reply": "2024-08-05T23:20:46.981106Z"
    },
    "papermill": {
     "duration": 3.243315,
     "end_time": "2024-08-05T23:20:47.004361",
     "exception": false,
     "start_time": "2024-08-05T23:20:43.761046",
     "status": "completed"
    },
    "tags": []
   },
   "outputs": [],
   "source": [
    "exp_reg = regression.setup(df, target=TARGET_NAME, max_encoding_ohe=200, log_experiment=True, experiment_name=\"building-energy-prediction-training\", train_size=0.8)\n",
    "regression.set_config('seed', SEED)\n",
    "\n",
    "# Removing useless metrics improve training speed\n",
    "regression.remove_metric('MAPE')\n",
    "regression.remove_metric('MSE')\n",
    "regression.remove_metric('RMSLE')"
   ]
  },
  {
   "cell_type": "code",
   "execution_count": null,
   "id": "3e112579",
   "metadata": {
    "execution": {
     "iopub.execute_input": "2024-08-05T23:20:47.026331Z",
     "iopub.status.busy": "2024-08-05T23:20:47.025907Z",
     "iopub.status.idle": "2024-08-05T23:21:52.077488Z",
     "shell.execute_reply": "2024-08-05T23:21:52.077065Z"
    },
    "papermill": {
     "duration": 65.063153,
     "end_time": "2024-08-05T23:21:52.079434",
     "exception": false,
     "start_time": "2024-08-05T23:20:47.016281",
     "status": "completed"
    },
    "tags": []
   },
   "outputs": [],
   "source": [
    "best_threes_model = regression.compare_models(n_select=3)"
   ]
  },
  {
   "cell_type": "code",
   "execution_count": null,
   "id": "1988c585",
   "metadata": {
    "execution": {
     "iopub.execute_input": "2024-08-05T23:21:52.095198Z",
     "iopub.status.busy": "2024-08-05T23:21:52.094948Z",
     "iopub.status.idle": "2024-08-05T23:21:52.147628Z",
     "shell.execute_reply": "2024-08-05T23:21:52.147106Z"
    },
    "papermill": {
     "duration": 0.061681,
     "end_time": "2024-08-05T23:21:52.149378",
     "exception": false,
     "start_time": "2024-08-05T23:21:52.087697",
     "status": "completed"
    },
    "tags": []
   },
   "outputs": [],
   "source": [
    "mlflow.end_run()"
   ]
  },
  {
   "cell_type": "markdown",
   "id": "76c7588a",
   "metadata": {
    "papermill": {
     "duration": 0.005703,
     "end_time": "2024-08-05T23:21:52.160779",
     "exception": false,
     "start_time": "2024-08-05T23:21:52.155076",
     "status": "completed"
    },
    "tags": []
   },
   "source": [
    "L'entrainement sur plusieurs types de modèles avec PyCaret montre que pour ce problème, les modèles: ExtraTreesRegressor, XGBRegressor et RandomForestRegressor sont les plus adaptés. Toutefois, nous pensons que les performances obtenus lors de ce premier entrainement peuvent être nettement améliorées. Nous allons attendre de faire le réglage de paramètres et d'obtenir les modèles finaux avant de faire un choix.\n"
   ]
  },
  {
   "cell_type": "markdown",
   "id": "33d93ed4",
   "metadata": {
    "papermill": {
     "duration": 0.005912,
     "end_time": "2024-08-05T23:21:52.174119",
     "exception": false,
     "start_time": "2024-08-05T23:21:52.168207",
     "status": "completed"
    },
    "tags": []
   },
   "source": [
    "## Fine-Tuning\n"
   ]
  },
  {
   "cell_type": "code",
   "execution_count": null,
   "id": "c091296a",
   "metadata": {
    "execution": {
     "iopub.execute_input": "2024-08-05T23:21:52.186341Z",
     "iopub.status.busy": "2024-08-05T23:21:52.186099Z",
     "iopub.status.idle": "2024-08-05T23:21:52.215611Z",
     "shell.execute_reply": "2024-08-05T23:21:52.215159Z"
    },
    "papermill": {
     "duration": 0.03769,
     "end_time": "2024-08-05T23:21:52.217250",
     "exception": false,
     "start_time": "2024-08-05T23:21:52.179560",
     "status": "completed"
    },
    "tags": []
   },
   "outputs": [],
   "source": [
    "ESTIMATOR_PARAMS = {\n",
    "    ExtraTreesRegressor.__name__: {\n",
    "        \"estimator\": ExtraTreesRegressor(),\n",
    "        \"params\": {\n",
    "            'regressor__estimator__n_estimators': np.arange(10, 200, 5),\n",
    "        }\n",
    "    },\n",
    "    RandomForestRegressor.__name__: {\n",
    "        \"estimator\": RandomForestRegressor(),\n",
    "        \"params\": {\n",
    "            'regressor__estimator__n_estimators': np.arange(10, 200, 5),\n",
    "        }\n",
    "    },\n",
    "    xgb.XGBRegressor.__name__: {\n",
    "        \"estimator\": xgb.XGBRegressor(),\n",
    "        \"params\": {\n",
    "            'regressor__estimator__n_estimators': np.arange(10, 200, 5),\n",
    "        }\n",
    "    }\n",
    "}"
   ]
  },
  {
   "cell_type": "code",
   "execution_count": null,
   "id": "12d69802",
   "metadata": {
    "execution": {
     "iopub.execute_input": "2024-08-05T23:21:52.231809Z",
     "iopub.status.busy": "2024-08-05T23:21:52.231496Z",
     "iopub.status.idle": "2024-08-05T23:24:53.532216Z",
     "shell.execute_reply": "2024-08-05T23:24:53.531477Z"
    },
    "papermill": {
     "duration": 180.406823,
     "end_time": "2024-08-05T23:24:52.630573",
     "exception": false,
     "start_time": "2024-08-05T23:21:52.223750",
     "status": "completed"
    },
    "tags": []
   },
   "outputs": [],
   "source": [
    "CURRENT_DATE = pendulum.now()\n",
    "\n",
    "search_cvs = {}\n",
    "\n",
    "def rmse(actual, predicted):\n",
    "    return np.sqrt(mean_squared_error(actual, predicted))\n",
    "\n",
    "scoring = {'r2': make_scorer(r2_score),\n",
    "          'rmse': make_scorer(rmse, greater_is_better=False),\n",
    "          'mae': make_scorer(mean_absolute_error, greater_is_better=False)}\n",
    "\n",
    "# Create an experiment if not exists\n",
    "exp_name = \"building-energy-prediction-tuning-sklearn\"\n",
    "experiment = mlflow.get_experiment_by_name(exp_name)\n",
    "if not experiment:\n",
    "    experiment_id = mlflow.create_experiment(exp_name)\n",
    "else:\n",
    "    experiment_id = experiment.experiment_id\n",
    "\n",
    "with mlflow.start_run(run_name=f\"Session-{CURRENT_DATE.strftime('%Y%m%d_%H%m%S')}\", experiment_id=experiment_id) as parent_run:\n",
    "    for estimator_name, settings in ESTIMATOR_PARAMS.items():\n",
    "        with mlflow.start_run(run_name=estimator_name, nested=True, experiment_id=experiment_id):  \n",
    "            estimator = settings[\"estimator\"]\n",
    "            param_grid = settings[\"params\"]\n",
    "            pipeline = define_pipeline(numerical_transformer=[SimpleImputer(strategy=\"median\"), RobustScaler()],\n",
    "                            categorical_transformer=[SimpleImputer(strategy=\"constant\", fill_value=\"undefined\"), OneHotEncoder(drop=\"if_binary\", handle_unknown=\"ignore\")],\n",
    "                            target_transformer=True,\n",
    "                            estimator=estimator\n",
    "                        ) \n",
    "            grid_search = GridSearchCV(\n",
    "                estimator=pipeline,  # Instantiate the estimator\n",
    "                param_grid=param_grid,\n",
    "                scoring=scoring,\n",
    "                refit='r2',\n",
    "                cv=5,  # Adjust the number of cross-validation folds as needed\n",
    "                n_jobs=-1  # Use all available cores\n",
    "            )\n",
    "            grid_search.fit(x_train, y_train)\n",
    "            search_cvs[estimator_name] = grid_search\n",
    "\n",
    "            mlflow.log_param(\"Estimator\", estimator_name)\n",
    "            mlflow_log_search(grid_search)\n",
    "mlflow.end_run()"
   ]
  },
  {
   "cell_type": "markdown",
   "id": "6ee768b7",
   "metadata": {
    "papermill": {
     "duration": null,
     "end_time": null,
     "exception": null,
     "start_time": null,
     "status": "completed"
    },
    "tags": []
   },
   "source": [
    "## Model Evaluation on Test Data\n"
   ]
  },
  {
   "cell_type": "markdown",
   "id": "d038a887",
   "metadata": {
    "papermill": {
     "duration": null,
     "end_time": null,
     "exception": null,
     "start_time": null,
     "status": "completed"
    },
    "tags": []
   },
   "source": [
    "We are going to evaluate the fine-tuned models to see which one we are going to pick as the final model.\n"
   ]
  },
  {
   "cell_type": "code",
   "execution_count": null,
   "id": "3bafaa43",
   "metadata": {
    "papermill": {
     "duration": null,
     "end_time": null,
     "exception": null,
     "start_time": null,
     "status": "completed"
    },
    "tags": []
   },
   "outputs": [],
   "source": [
    "# Obtaining best_models after fine-tuning\n",
    "models = { f\"{estimator_name}\": search_cv.best_estimator_ for estimator_name, search_cv in search_cvs.items()}"
   ]
  },
  {
   "cell_type": "code",
   "execution_count": null,
   "id": "b39dd50a",
   "metadata": {
    "papermill": {
     "duration": null,
     "end_time": null,
     "exception": null,
     "start_time": null,
     "status": "completed"
    },
    "tags": []
   },
   "outputs": [],
   "source": [
    "exp_name = \"building-energy-prediction-evaluation\"\n",
    "experiment = mlflow.get_experiment_by_name(exp_name)\n",
    "if not experiment:\n",
    "    experiment_id = mlflow.create_experiment(exp_name)\n",
    "else:\n",
    "    experiment_id = experiment.experiment_id\n",
    "\n",
    "def evaluate_models(estimators, x_train, x_test, y_train, y_test):\n",
    "    # Dict of R2 scores for the estimators\n",
    "    r2_scores = {}\n",
    "    with mlflow.start_run(run_name=f\"Session-{CURRENT_DATE.strftime('%Y%m%d_%H%m%S')}\", experiment_id=experiment_id):\n",
    "        for estimator_name, estimator in estimators.items():\n",
    "            with mlflow.start_run(run_name=estimator_name, nested=True, experiment_id=experiment_id): \n",
    "                y_train_pred = estimator.predict(x_train)\n",
    "                y_test_pred = estimator.predict(x_test)\n",
    "\n",
    "                train_metrics = eval_metrics(y_train, y_train_pred)\n",
    "                test_metrics = eval_metrics(y_test, y_test_pred)\n",
    "\n",
    "                # Add the R2 score of the model to the global dict\n",
    "                r2_scores[estimator_name] = test_metrics['r2']\n",
    "\n",
    "                # Log the regressor parameters\n",
    "                mlflow.log_params(estimator.regressor.steps[-1][1].get_params())\n",
    "\n",
    "                # Log the best metric\n",
    "                mlflow.log_metrics(test_metrics)\n",
    "\n",
    "                # Log the model\n",
    "                mlflow.sklearn.log_model(estimator.regressor.steps[-1][1], \"model\")\n",
    "\n",
    "                logger.info(f\"\"\"{estimator_name} performance \\n{pd.DataFrame({'train': train_metrics, 'test': test_metrics}).T}\"\"\")\n",
    "    return max(r2_scores.items(), key=lambda item: item[1])\n",
    "\n",
    "mlflow.end_run()\n",
    "\n",
    "best_estimator, score = evaluate_models(models, x_train, x_test, y_train, y_test)\n",
    "\n",
    "logger.info(f\"\"\"{best_estimator} is the best estimator found for this problem with an R2 score of {score}\"\"\")"
   ]
  },
  {
   "cell_type": "markdown",
   "id": "5997a65d",
   "metadata": {
    "papermill": {
     "duration": null,
     "end_time": null,
     "exception": null,
     "start_time": null,
     "status": "completed"
    },
    "tags": []
   },
   "source": [
    "### Prediction Error Plot\n"
   ]
  },
  {
   "cell_type": "code",
   "execution_count": null,
   "id": "9f919018",
   "metadata": {
    "papermill": {
     "duration": null,
     "end_time": null,
     "exception": null,
     "start_time": null,
     "status": "completed"
    },
    "tags": []
   },
   "outputs": [],
   "source": [
    "prediction_error_plot(models, x_train, x_test, y_train, y_test)"
   ]
  },
  {
   "cell_type": "markdown",
   "id": "16af0dd6",
   "metadata": {
    "papermill": {
     "duration": null,
     "end_time": null,
     "exception": null,
     "start_time": null,
     "status": "completed"
    },
    "tags": []
   },
   "source": [
    "### Residual Plot\n"
   ]
  },
  {
   "cell_type": "code",
   "execution_count": null,
   "id": "ee719e24",
   "metadata": {
    "papermill": {
     "duration": null,
     "end_time": null,
     "exception": null,
     "start_time": null,
     "status": "completed"
    },
    "tags": []
   },
   "outputs": [],
   "source": [
    "residual_plot(models, x_train, x_test, y_train, y_test)"
   ]
  }
 ],
 "metadata": {
  "kernelspec": {
   "display_name": "mlops",
   "language": "python",
   "name": "python3"
  },
  "language_info": {
   "codemirror_mode": {
    "name": "ipython",
    "version": 3
   },
   "file_extension": ".py",
   "mimetype": "text/x-python",
   "name": "python",
   "nbconvert_exporter": "python",
   "pygments_lexer": "ipython3",
   "version": "3.10.10"
  },
  "papermill": {
   "default_parameters": {},
   "duration": 257.926756,
   "end_time": "2024-08-05T23:24:54.189594",
   "environment_variables": {},
   "exception": null,
   "input_path": "../notebooks/04-modelisation.ipynb",
   "output_path": "../notebooks/outputs/04-modelisation_output.ipynb",
   "parameters": {},
   "start_time": "2024-08-05T23:20:36.262838",
   "version": "2.6.0"
  }
 },
 "nbformat": 4,
 "nbformat_minor": 5
}
