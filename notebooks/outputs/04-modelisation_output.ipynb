{
 "cells": [
  {
   "cell_type": "code",
   "execution_count": 1,
   "id": "4aeb37fd",
   "metadata": {
    "execution": {
     "iopub.execute_input": "2024-08-05T21:58:08.188050Z",
     "iopub.status.busy": "2024-08-05T21:58:08.187659Z",
     "iopub.status.idle": "2024-08-05T21:58:11.247707Z",
     "shell.execute_reply": "2024-08-05T21:58:11.247184Z"
    },
    "papermill": {
     "duration": 3.070553,
     "end_time": "2024-08-05T21:58:11.251076",
     "exception": false,
     "start_time": "2024-08-05T21:58:08.180523",
     "status": "completed"
    },
    "tags": []
   },
   "outputs": [],
   "source": [
    "%reload_ext autoreload\n",
    "%autoreload 2\n",
    "\n",
    "import mlflow\n",
    "import os\n",
    "import numpy as np\n",
    "import pandas as pd\n",
    "import pendulum\n",
    "import sys\n",
    "import xgboost as xgb\n",
    "\n",
    "from loguru import logger\n",
    "from pathlib import Path\n",
    "from pycaret import regression\n",
    "from sklearn.metrics import make_scorer, mean_squared_error, mean_absolute_error, r2_score\n",
    "from sklearn.model_selection import train_test_split\n",
    "from sklearn.impute import SimpleImputer\n",
    "from sklearn.model_selection import GridSearchCV\n",
    "from sklearn.preprocessing import RobustScaler, OneHotEncoder\n",
    "from sklearn.ensemble import RandomForestRegressor, ExtraTreesRegressor\n",
    "\n",
    "\n",
    "sys.path.append(str(Path.cwd().parent))\n",
    "sys.path.append(os.path.join(str(Path.cwd().parent), \"src\"))\n",
    "from settings.params import *\n",
    "from metrics import eval_metrics\n",
    "from pipeline import define_pipeline\n",
    "from plot import prediction_error_plot, residual_plot\n",
    "from tracking import mlflow_log_search\n",
    "\n",
    "pd.set_option(\"display.max_columns\", None)\n",
    "pd.set_option(\"display.max_rows\", 100)"
   ]
  },
  {
   "cell_type": "code",
   "execution_count": 2,
   "id": "a0f49444",
   "metadata": {
    "execution": {
     "iopub.execute_input": "2024-08-05T21:58:11.260809Z",
     "iopub.status.busy": "2024-08-05T21:58:11.260337Z",
     "iopub.status.idle": "2024-08-05T21:58:11.299512Z",
     "shell.execute_reply": "2024-08-05T21:58:11.298886Z"
    },
    "papermill": {
     "duration": 0.044553,
     "end_time": "2024-08-05T21:58:11.301045",
     "exception": false,
     "start_time": "2024-08-05T21:58:11.256492",
     "status": "completed"
    },
    "tags": []
   },
   "outputs": [],
   "source": [
    "data = pd.read_csv(CLEANED_DATA)\n",
    "TARGET_NAME = MODEL_PARAMS['TARGET_NAME']"
   ]
  },
  {
   "cell_type": "code",
   "execution_count": 3,
   "id": "8003ea5d",
   "metadata": {
    "execution": {
     "iopub.execute_input": "2024-08-05T21:58:11.307659Z",
     "iopub.status.busy": "2024-08-05T21:58:11.307443Z",
     "iopub.status.idle": "2024-08-05T21:58:11.337764Z",
     "shell.execute_reply": "2024-08-05T21:58:11.337255Z"
    },
    "papermill": {
     "duration": 0.035427,
     "end_time": "2024-08-05T21:58:11.339544",
     "exception": false,
     "start_time": "2024-08-05T21:58:11.304117",
     "status": "completed"
    },
    "tags": []
   },
   "outputs": [],
   "source": [
    "mlflow.set_tracking_uri(uri=\"http://localhost:8080\")"
   ]
  },
  {
   "cell_type": "markdown",
   "id": "6dc3a85e",
   "metadata": {
    "papermill": {
     "duration": 0.003498,
     "end_time": "2024-08-05T21:58:11.346157",
     "exception": false,
     "start_time": "2024-08-05T21:58:11.342659",
     "status": "completed"
    },
    "tags": []
   },
   "source": [
    "# Modeling\n"
   ]
  },
  {
   "cell_type": "markdown",
   "id": "2b81f9a4",
   "metadata": {
    "papermill": {
     "duration": 0.002749,
     "end_time": "2024-08-05T21:58:11.351697",
     "exception": false,
     "start_time": "2024-08-05T21:58:11.348948",
     "status": "completed"
    },
    "tags": []
   },
   "source": [
    "## Train/Test Split\n"
   ]
  },
  {
   "cell_type": "code",
   "execution_count": 4,
   "id": "67ca01cb",
   "metadata": {
    "execution": {
     "iopub.execute_input": "2024-08-05T21:58:11.358581Z",
     "iopub.status.busy": "2024-08-05T21:58:11.358341Z",
     "iopub.status.idle": "2024-08-05T21:58:11.387713Z",
     "shell.execute_reply": "2024-08-05T21:58:11.387300Z"
    },
    "papermill": {
     "duration": 0.034222,
     "end_time": "2024-08-05T21:58:11.389021",
     "exception": false,
     "start_time": "2024-08-05T21:58:11.354799",
     "status": "completed"
    },
    "tags": []
   },
   "outputs": [
    {
     "name": "stderr",
     "output_type": "stream",
     "text": [
      "\u001b[32m2024-08-05 21:58:11.385\u001b[0m | \u001b[1mINFO    \u001b[0m | \u001b[36m__main__\u001b[0m:\u001b[36m<module>\u001b[0m:\u001b[36m3\u001b[0m - \u001b[1m\n",
      "X train: (5205, 8)\n",
      "Y train: (5205,)\n",
      "X test: (1302, 8)\n",
      "Y test: (1302,)\u001b[0m\n"
     ]
    }
   ],
   "source": [
    "x_train, x_test, y_train, y_test = train_test_split(data, data[TARGET_NAME], test_size=MODEL_PARAMS[\"TEST_SIZE\"], random_state=SEED)\n",
    "\n",
    "logger.info(f\"\\nX train: {x_train.shape}\\nY train: {y_train.shape}\\n\"\n",
    "            f\"X test: {x_test.shape}\\nY test: {y_test.shape}\")"
   ]
  },
  {
   "cell_type": "markdown",
   "id": "10d75c4e",
   "metadata": {
    "papermill": {
     "duration": 0.003121,
     "end_time": "2024-08-05T21:58:11.395400",
     "exception": false,
     "start_time": "2024-08-05T21:58:11.392279",
     "status": "completed"
    },
    "tags": []
   },
   "source": [
    "## Training\n"
   ]
  },
  {
   "cell_type": "code",
   "execution_count": 5,
   "id": "f02d6d15",
   "metadata": {
    "execution": {
     "iopub.execute_input": "2024-08-05T21:58:11.402861Z",
     "iopub.status.busy": "2024-08-05T21:58:11.402638Z",
     "iopub.status.idle": "2024-08-05T21:58:11.430143Z",
     "shell.execute_reply": "2024-08-05T21:58:11.429720Z"
    },
    "papermill": {
     "duration": 0.033247,
     "end_time": "2024-08-05T21:58:11.431578",
     "exception": false,
     "start_time": "2024-08-05T21:58:11.398331",
     "status": "completed"
    },
    "tags": []
   },
   "outputs": [],
   "source": [
    "df = x_train.copy()\n",
    "df[TARGET_NAME] = np.log(y_train)"
   ]
  },
  {
   "cell_type": "code",
   "execution_count": 6,
   "id": "a01a3ff3",
   "metadata": {
    "execution": {
     "iopub.execute_input": "2024-08-05T21:58:11.437864Z",
     "iopub.status.busy": "2024-08-05T21:58:11.437685Z",
     "iopub.status.idle": "2024-08-05T21:58:13.449615Z",
     "shell.execute_reply": "2024-08-05T21:58:13.449159Z"
    },
    "papermill": {
     "duration": 2.017238,
     "end_time": "2024-08-05T21:58:13.451717",
     "exception": false,
     "start_time": "2024-08-05T21:58:11.434479",
     "status": "completed"
    },
    "tags": []
   },
   "outputs": [
    {
     "data": {
      "text/html": [
       "<style type=\"text/css\">\n",
       "#T_34903_row9_col1 {\n",
       "  background-color: lightgreen;\n",
       "}\n",
       "</style>\n",
       "<table id=\"T_34903\">\n",
       "  <thead>\n",
       "    <tr>\n",
       "      <th class=\"blank level0\" >&nbsp;</th>\n",
       "      <th id=\"T_34903_level0_col0\" class=\"col_heading level0 col0\" >Description</th>\n",
       "      <th id=\"T_34903_level0_col1\" class=\"col_heading level0 col1\" >Value</th>\n",
       "    </tr>\n",
       "  </thead>\n",
       "  <tbody>\n",
       "    <tr>\n",
       "      <th id=\"T_34903_level0_row0\" class=\"row_heading level0 row0\" >0</th>\n",
       "      <td id=\"T_34903_row0_col0\" class=\"data row0 col0\" >Session id</td>\n",
       "      <td id=\"T_34903_row0_col1\" class=\"data row0 col1\" >3844</td>\n",
       "    </tr>\n",
       "    <tr>\n",
       "      <th id=\"T_34903_level0_row1\" class=\"row_heading level0 row1\" >1</th>\n",
       "      <td id=\"T_34903_row1_col0\" class=\"data row1 col0\" >Target</td>\n",
       "      <td id=\"T_34903_row1_col1\" class=\"data row1 col1\" >SiteEnergyUse(kBtu)</td>\n",
       "    </tr>\n",
       "    <tr>\n",
       "      <th id=\"T_34903_level0_row2\" class=\"row_heading level0 row2\" >2</th>\n",
       "      <td id=\"T_34903_row2_col0\" class=\"data row2 col0\" >Target type</td>\n",
       "      <td id=\"T_34903_row2_col1\" class=\"data row2 col1\" >Regression</td>\n",
       "    </tr>\n",
       "    <tr>\n",
       "      <th id=\"T_34903_level0_row3\" class=\"row_heading level0 row3\" >3</th>\n",
       "      <td id=\"T_34903_row3_col0\" class=\"data row3 col0\" >Original data shape</td>\n",
       "      <td id=\"T_34903_row3_col1\" class=\"data row3 col1\" >(5205, 8)</td>\n",
       "    </tr>\n",
       "    <tr>\n",
       "      <th id=\"T_34903_level0_row4\" class=\"row_heading level0 row4\" >4</th>\n",
       "      <td id=\"T_34903_row4_col0\" class=\"data row4 col0\" >Transformed data shape</td>\n",
       "      <td id=\"T_34903_row4_col1\" class=\"data row4 col1\" >(5205, 67)</td>\n",
       "    </tr>\n",
       "    <tr>\n",
       "      <th id=\"T_34903_level0_row5\" class=\"row_heading level0 row5\" >5</th>\n",
       "      <td id=\"T_34903_row5_col0\" class=\"data row5 col0\" >Transformed train set shape</td>\n",
       "      <td id=\"T_34903_row5_col1\" class=\"data row5 col1\" >(4164, 67)</td>\n",
       "    </tr>\n",
       "    <tr>\n",
       "      <th id=\"T_34903_level0_row6\" class=\"row_heading level0 row6\" >6</th>\n",
       "      <td id=\"T_34903_row6_col0\" class=\"data row6 col0\" >Transformed test set shape</td>\n",
       "      <td id=\"T_34903_row6_col1\" class=\"data row6 col1\" >(1041, 67)</td>\n",
       "    </tr>\n",
       "    <tr>\n",
       "      <th id=\"T_34903_level0_row7\" class=\"row_heading level0 row7\" >7</th>\n",
       "      <td id=\"T_34903_row7_col0\" class=\"data row7 col0\" >Numeric features</td>\n",
       "      <td id=\"T_34903_row7_col1\" class=\"data row7 col1\" >5</td>\n",
       "    </tr>\n",
       "    <tr>\n",
       "      <th id=\"T_34903_level0_row8\" class=\"row_heading level0 row8\" >8</th>\n",
       "      <td id=\"T_34903_row8_col0\" class=\"data row8 col0\" >Categorical features</td>\n",
       "      <td id=\"T_34903_row8_col1\" class=\"data row8 col1\" >2</td>\n",
       "    </tr>\n",
       "    <tr>\n",
       "      <th id=\"T_34903_level0_row9\" class=\"row_heading level0 row9\" >9</th>\n",
       "      <td id=\"T_34903_row9_col0\" class=\"data row9 col0\" >Preprocess</td>\n",
       "      <td id=\"T_34903_row9_col1\" class=\"data row9 col1\" >True</td>\n",
       "    </tr>\n",
       "    <tr>\n",
       "      <th id=\"T_34903_level0_row10\" class=\"row_heading level0 row10\" >10</th>\n",
       "      <td id=\"T_34903_row10_col0\" class=\"data row10 col0\" >Imputation type</td>\n",
       "      <td id=\"T_34903_row10_col1\" class=\"data row10 col1\" >simple</td>\n",
       "    </tr>\n",
       "    <tr>\n",
       "      <th id=\"T_34903_level0_row11\" class=\"row_heading level0 row11\" >11</th>\n",
       "      <td id=\"T_34903_row11_col0\" class=\"data row11 col0\" >Numeric imputation</td>\n",
       "      <td id=\"T_34903_row11_col1\" class=\"data row11 col1\" >mean</td>\n",
       "    </tr>\n",
       "    <tr>\n",
       "      <th id=\"T_34903_level0_row12\" class=\"row_heading level0 row12\" >12</th>\n",
       "      <td id=\"T_34903_row12_col0\" class=\"data row12 col0\" >Categorical imputation</td>\n",
       "      <td id=\"T_34903_row12_col1\" class=\"data row12 col1\" >mode</td>\n",
       "    </tr>\n",
       "    <tr>\n",
       "      <th id=\"T_34903_level0_row13\" class=\"row_heading level0 row13\" >13</th>\n",
       "      <td id=\"T_34903_row13_col0\" class=\"data row13 col0\" >Maximum one-hot encoding</td>\n",
       "      <td id=\"T_34903_row13_col1\" class=\"data row13 col1\" >200</td>\n",
       "    </tr>\n",
       "    <tr>\n",
       "      <th id=\"T_34903_level0_row14\" class=\"row_heading level0 row14\" >14</th>\n",
       "      <td id=\"T_34903_row14_col0\" class=\"data row14 col0\" >Encoding method</td>\n",
       "      <td id=\"T_34903_row14_col1\" class=\"data row14 col1\" >None</td>\n",
       "    </tr>\n",
       "    <tr>\n",
       "      <th id=\"T_34903_level0_row15\" class=\"row_heading level0 row15\" >15</th>\n",
       "      <td id=\"T_34903_row15_col0\" class=\"data row15 col0\" >Fold Generator</td>\n",
       "      <td id=\"T_34903_row15_col1\" class=\"data row15 col1\" >KFold</td>\n",
       "    </tr>\n",
       "    <tr>\n",
       "      <th id=\"T_34903_level0_row16\" class=\"row_heading level0 row16\" >16</th>\n",
       "      <td id=\"T_34903_row16_col0\" class=\"data row16 col0\" >Fold Number</td>\n",
       "      <td id=\"T_34903_row16_col1\" class=\"data row16 col1\" >10</td>\n",
       "    </tr>\n",
       "    <tr>\n",
       "      <th id=\"T_34903_level0_row17\" class=\"row_heading level0 row17\" >17</th>\n",
       "      <td id=\"T_34903_row17_col0\" class=\"data row17 col0\" >CPU Jobs</td>\n",
       "      <td id=\"T_34903_row17_col1\" class=\"data row17 col1\" >-1</td>\n",
       "    </tr>\n",
       "    <tr>\n",
       "      <th id=\"T_34903_level0_row18\" class=\"row_heading level0 row18\" >18</th>\n",
       "      <td id=\"T_34903_row18_col0\" class=\"data row18 col0\" >Use GPU</td>\n",
       "      <td id=\"T_34903_row18_col1\" class=\"data row18 col1\" >False</td>\n",
       "    </tr>\n",
       "    <tr>\n",
       "      <th id=\"T_34903_level0_row19\" class=\"row_heading level0 row19\" >19</th>\n",
       "      <td id=\"T_34903_row19_col0\" class=\"data row19 col0\" >Log Experiment</td>\n",
       "      <td id=\"T_34903_row19_col1\" class=\"data row19 col1\" >MlflowLogger</td>\n",
       "    </tr>\n",
       "    <tr>\n",
       "      <th id=\"T_34903_level0_row20\" class=\"row_heading level0 row20\" >20</th>\n",
       "      <td id=\"T_34903_row20_col0\" class=\"data row20 col0\" >Experiment Name</td>\n",
       "      <td id=\"T_34903_row20_col1\" class=\"data row20 col1\" >building-energy-prediction-training</td>\n",
       "    </tr>\n",
       "    <tr>\n",
       "      <th id=\"T_34903_level0_row21\" class=\"row_heading level0 row21\" >21</th>\n",
       "      <td id=\"T_34903_row21_col0\" class=\"data row21 col0\" >USI</td>\n",
       "      <td id=\"T_34903_row21_col1\" class=\"data row21 col1\" >c71a</td>\n",
       "    </tr>\n",
       "  </tbody>\n",
       "</table>\n"
      ],
      "text/plain": [
       "<pandas.io.formats.style.Styler at 0x3000a33a0>"
      ]
     },
     "metadata": {},
     "output_type": "display_data"
    }
   ],
   "source": [
    "exp_reg = regression.setup(df, target=TARGET_NAME, max_encoding_ohe=200, log_experiment=True, experiment_name=\"building-energy-prediction-training\", train_size=0.8)\n",
    "regression.set_config('seed', SEED)\n",
    "\n",
    "# Removing useless metrics improve training speed\n",
    "regression.remove_metric('MAPE')\n",
    "regression.remove_metric('MSE')\n",
    "regression.remove_metric('RMSLE')"
   ]
  },
  {
   "cell_type": "code",
   "execution_count": 7,
   "id": "d51dc272",
   "metadata": {
    "execution": {
     "iopub.execute_input": "2024-08-05T21:58:13.462155Z",
     "iopub.status.busy": "2024-08-05T21:58:13.461824Z",
     "iopub.status.idle": "2024-08-05T21:58:58.377224Z",
     "shell.execute_reply": "2024-08-05T21:58:58.376809Z"
    },
    "papermill": {
     "duration": 44.922799,
     "end_time": "2024-08-05T21:58:58.378948",
     "exception": false,
     "start_time": "2024-08-05T21:58:13.456149",
     "status": "completed"
    },
    "tags": []
   },
   "outputs": [
    {
     "data": {
      "text/html": [],
      "text/plain": [
       "<IPython.core.display.HTML object>"
      ]
     },
     "metadata": {},
     "output_type": "display_data"
    },
    {
     "data": {
      "text/html": [
       "<style type=\"text/css\">\n",
       "#T_c7246 th {\n",
       "  text-align: left;\n",
       "}\n",
       "#T_c7246_row0_col0, #T_c7246_row1_col0, #T_c7246_row1_col1, #T_c7246_row1_col2, #T_c7246_row1_col3, #T_c7246_row2_col0, #T_c7246_row2_col1, #T_c7246_row2_col2, #T_c7246_row2_col3, #T_c7246_row3_col0, #T_c7246_row3_col1, #T_c7246_row3_col2, #T_c7246_row3_col3, #T_c7246_row4_col0, #T_c7246_row4_col1, #T_c7246_row4_col2, #T_c7246_row4_col3, #T_c7246_row5_col0, #T_c7246_row5_col1, #T_c7246_row5_col2, #T_c7246_row5_col3, #T_c7246_row6_col0, #T_c7246_row6_col1, #T_c7246_row6_col2, #T_c7246_row6_col3, #T_c7246_row7_col0, #T_c7246_row7_col1, #T_c7246_row7_col2, #T_c7246_row7_col3, #T_c7246_row8_col0, #T_c7246_row8_col1, #T_c7246_row8_col2, #T_c7246_row8_col3, #T_c7246_row9_col0, #T_c7246_row9_col1, #T_c7246_row9_col2, #T_c7246_row9_col3, #T_c7246_row10_col0, #T_c7246_row10_col1, #T_c7246_row10_col2, #T_c7246_row10_col3, #T_c7246_row11_col0, #T_c7246_row11_col1, #T_c7246_row11_col2, #T_c7246_row11_col3, #T_c7246_row12_col0, #T_c7246_row12_col1, #T_c7246_row12_col2, #T_c7246_row12_col3, #T_c7246_row13_col0, #T_c7246_row13_col1, #T_c7246_row13_col2, #T_c7246_row13_col3, #T_c7246_row14_col0, #T_c7246_row14_col1, #T_c7246_row14_col2, #T_c7246_row14_col3, #T_c7246_row15_col0, #T_c7246_row15_col1, #T_c7246_row15_col2, #T_c7246_row15_col3, #T_c7246_row16_col0, #T_c7246_row16_col1, #T_c7246_row16_col2, #T_c7246_row16_col3, #T_c7246_row17_col0, #T_c7246_row17_col1, #T_c7246_row17_col2, #T_c7246_row17_col3, #T_c7246_row18_col0, #T_c7246_row18_col1, #T_c7246_row18_col2, #T_c7246_row18_col3 {\n",
       "  text-align: left;\n",
       "}\n",
       "#T_c7246_row0_col1, #T_c7246_row0_col2, #T_c7246_row0_col3 {\n",
       "  text-align: left;\n",
       "  background-color: yellow;\n",
       "}\n",
       "#T_c7246_row0_col4, #T_c7246_row1_col4, #T_c7246_row2_col4, #T_c7246_row3_col4, #T_c7246_row4_col4, #T_c7246_row5_col4, #T_c7246_row6_col4, #T_c7246_row7_col4, #T_c7246_row8_col4, #T_c7246_row9_col4, #T_c7246_row10_col4, #T_c7246_row11_col4, #T_c7246_row12_col4, #T_c7246_row14_col4, #T_c7246_row15_col4, #T_c7246_row16_col4, #T_c7246_row17_col4, #T_c7246_row18_col4 {\n",
       "  text-align: left;\n",
       "  background-color: lightgrey;\n",
       "}\n",
       "#T_c7246_row13_col4 {\n",
       "  text-align: left;\n",
       "  background-color: yellow;\n",
       "  background-color: lightgrey;\n",
       "}\n",
       "</style>\n",
       "<table id=\"T_c7246\">\n",
       "  <thead>\n",
       "    <tr>\n",
       "      <th class=\"blank level0\" >&nbsp;</th>\n",
       "      <th id=\"T_c7246_level0_col0\" class=\"col_heading level0 col0\" >Model</th>\n",
       "      <th id=\"T_c7246_level0_col1\" class=\"col_heading level0 col1\" >MAE</th>\n",
       "      <th id=\"T_c7246_level0_col2\" class=\"col_heading level0 col2\" >RMSE</th>\n",
       "      <th id=\"T_c7246_level0_col3\" class=\"col_heading level0 col3\" >R2</th>\n",
       "      <th id=\"T_c7246_level0_col4\" class=\"col_heading level0 col4\" >TT (Sec)</th>\n",
       "    </tr>\n",
       "  </thead>\n",
       "  <tbody>\n",
       "    <tr>\n",
       "      <th id=\"T_c7246_level0_row0\" class=\"row_heading level0 row0\" >et</th>\n",
       "      <td id=\"T_c7246_row0_col0\" class=\"data row0 col0\" >Extra Trees Regressor</td>\n",
       "      <td id=\"T_c7246_row0_col1\" class=\"data row0 col1\" >0.2506</td>\n",
       "      <td id=\"T_c7246_row0_col2\" class=\"data row0 col2\" >0.4473</td>\n",
       "      <td id=\"T_c7246_row0_col3\" class=\"data row0 col3\" >0.8281</td>\n",
       "      <td id=\"T_c7246_row0_col4\" class=\"data row0 col4\" >0.3650</td>\n",
       "    </tr>\n",
       "    <tr>\n",
       "      <th id=\"T_c7246_level0_row1\" class=\"row_heading level0 row1\" >rf</th>\n",
       "      <td id=\"T_c7246_row1_col0\" class=\"data row1 col0\" >Random Forest Regressor</td>\n",
       "      <td id=\"T_c7246_row1_col1\" class=\"data row1 col1\" >0.2906</td>\n",
       "      <td id=\"T_c7246_row1_col2\" class=\"data row1 col2\" >0.4576</td>\n",
       "      <td id=\"T_c7246_row1_col3\" class=\"data row1 col3\" >0.8207</td>\n",
       "      <td id=\"T_c7246_row1_col4\" class=\"data row1 col4\" >0.4510</td>\n",
       "    </tr>\n",
       "    <tr>\n",
       "      <th id=\"T_c7246_level0_row2\" class=\"row_heading level0 row2\" >xgboost</th>\n",
       "      <td id=\"T_c7246_row2_col0\" class=\"data row2 col0\" >Extreme Gradient Boosting</td>\n",
       "      <td id=\"T_c7246_row2_col1\" class=\"data row2 col1\" >0.3225</td>\n",
       "      <td id=\"T_c7246_row2_col2\" class=\"data row2 col2\" >0.4699</td>\n",
       "      <td id=\"T_c7246_row2_col3\" class=\"data row2 col3\" >0.8112</td>\n",
       "      <td id=\"T_c7246_row2_col4\" class=\"data row2 col4\" >0.6210</td>\n",
       "    </tr>\n",
       "    <tr>\n",
       "      <th id=\"T_c7246_level0_row3\" class=\"row_heading level0 row3\" >lightgbm</th>\n",
       "      <td id=\"T_c7246_row3_col0\" class=\"data row3 col0\" >Light Gradient Boosting Machine</td>\n",
       "      <td id=\"T_c7246_row3_col1\" class=\"data row3 col1\" >0.3503</td>\n",
       "      <td id=\"T_c7246_row3_col2\" class=\"data row3 col2\" >0.5003</td>\n",
       "      <td id=\"T_c7246_row3_col3\" class=\"data row3 col3\" >0.7864</td>\n",
       "      <td id=\"T_c7246_row3_col4\" class=\"data row3 col4\" >0.4810</td>\n",
       "    </tr>\n",
       "    <tr>\n",
       "      <th id=\"T_c7246_level0_row4\" class=\"row_heading level0 row4\" >gbr</th>\n",
       "      <td id=\"T_c7246_row4_col0\" class=\"data row4 col0\" >Gradient Boosting Regressor</td>\n",
       "      <td id=\"T_c7246_row4_col1\" class=\"data row4 col1\" >0.3739</td>\n",
       "      <td id=\"T_c7246_row4_col2\" class=\"data row4 col2\" >0.5187</td>\n",
       "      <td id=\"T_c7246_row4_col3\" class=\"data row4 col3\" >0.7706</td>\n",
       "      <td id=\"T_c7246_row4_col4\" class=\"data row4 col4\" >0.1930</td>\n",
       "    </tr>\n",
       "    <tr>\n",
       "      <th id=\"T_c7246_level0_row5\" class=\"row_heading level0 row5\" >dt</th>\n",
       "      <td id=\"T_c7246_row5_col0\" class=\"data row5 col0\" >Decision Tree Regressor</td>\n",
       "      <td id=\"T_c7246_row5_col1\" class=\"data row5 col1\" >0.3053</td>\n",
       "      <td id=\"T_c7246_row5_col2\" class=\"data row5 col2\" >0.5447</td>\n",
       "      <td id=\"T_c7246_row5_col3\" class=\"data row5 col3\" >0.7443</td>\n",
       "      <td id=\"T_c7246_row5_col4\" class=\"data row5 col4\" >0.0480</td>\n",
       "    </tr>\n",
       "    <tr>\n",
       "      <th id=\"T_c7246_level0_row6\" class=\"row_heading level0 row6\" >ada</th>\n",
       "      <td id=\"T_c7246_row6_col0\" class=\"data row6 col0\" >AdaBoost Regressor</td>\n",
       "      <td id=\"T_c7246_row6_col1\" class=\"data row6 col1\" >0.5051</td>\n",
       "      <td id=\"T_c7246_row6_col2\" class=\"data row6 col2\" >0.6634</td>\n",
       "      <td id=\"T_c7246_row6_col3\" class=\"data row6 col3\" >0.6255</td>\n",
       "      <td id=\"T_c7246_row6_col4\" class=\"data row6 col4\" >0.1130</td>\n",
       "    </tr>\n",
       "    <tr>\n",
       "      <th id=\"T_c7246_level0_row7\" class=\"row_heading level0 row7\" >ridge</th>\n",
       "      <td id=\"T_c7246_row7_col0\" class=\"data row7 col0\" >Ridge Regression</td>\n",
       "      <td id=\"T_c7246_row7_col1\" class=\"data row7 col1\" >0.5192</td>\n",
       "      <td id=\"T_c7246_row7_col2\" class=\"data row7 col2\" >0.6874</td>\n",
       "      <td id=\"T_c7246_row7_col3\" class=\"data row7 col3\" >0.5965</td>\n",
       "      <td id=\"T_c7246_row7_col4\" class=\"data row7 col4\" >0.0300</td>\n",
       "    </tr>\n",
       "    <tr>\n",
       "      <th id=\"T_c7246_level0_row8\" class=\"row_heading level0 row8\" >br</th>\n",
       "      <td id=\"T_c7246_row8_col0\" class=\"data row8 col0\" >Bayesian Ridge</td>\n",
       "      <td id=\"T_c7246_row8_col1\" class=\"data row8 col1\" >0.5193</td>\n",
       "      <td id=\"T_c7246_row8_col2\" class=\"data row8 col2\" >0.6876</td>\n",
       "      <td id=\"T_c7246_row8_col3\" class=\"data row8 col3\" >0.5963</td>\n",
       "      <td id=\"T_c7246_row8_col4\" class=\"data row8 col4\" >0.0310</td>\n",
       "    </tr>\n",
       "    <tr>\n",
       "      <th id=\"T_c7246_level0_row9\" class=\"row_heading level0 row9\" >knn</th>\n",
       "      <td id=\"T_c7246_row9_col0\" class=\"data row9 col0\" >K Neighbors Regressor</td>\n",
       "      <td id=\"T_c7246_row9_col1\" class=\"data row9 col1\" >0.5153</td>\n",
       "      <td id=\"T_c7246_row9_col2\" class=\"data row9 col2\" >0.6886</td>\n",
       "      <td id=\"T_c7246_row9_col3\" class=\"data row9 col3\" >0.5962</td>\n",
       "      <td id=\"T_c7246_row9_col4\" class=\"data row9 col4\" >0.0370</td>\n",
       "    </tr>\n",
       "    <tr>\n",
       "      <th id=\"T_c7246_level0_row10\" class=\"row_heading level0 row10\" >lr</th>\n",
       "      <td id=\"T_c7246_row10_col0\" class=\"data row10 col0\" >Linear Regression</td>\n",
       "      <td id=\"T_c7246_row10_col1\" class=\"data row10 col1\" >0.5191</td>\n",
       "      <td id=\"T_c7246_row10_col2\" class=\"data row10 col2\" >0.6878</td>\n",
       "      <td id=\"T_c7246_row10_col3\" class=\"data row10 col3\" >0.5959</td>\n",
       "      <td id=\"T_c7246_row10_col4\" class=\"data row10 col4\" >0.7430</td>\n",
       "    </tr>\n",
       "    <tr>\n",
       "      <th id=\"T_c7246_level0_row11\" class=\"row_heading level0 row11\" >omp</th>\n",
       "      <td id=\"T_c7246_row11_col0\" class=\"data row11 col0\" >Orthogonal Matching Pursuit</td>\n",
       "      <td id=\"T_c7246_row11_col1\" class=\"data row11 col1\" >0.5702</td>\n",
       "      <td id=\"T_c7246_row11_col2\" class=\"data row11 col2\" >0.7608</td>\n",
       "      <td id=\"T_c7246_row11_col3\" class=\"data row11 col3\" >0.5072</td>\n",
       "      <td id=\"T_c7246_row11_col4\" class=\"data row11 col4\" >0.0240</td>\n",
       "    </tr>\n",
       "    <tr>\n",
       "      <th id=\"T_c7246_level0_row12\" class=\"row_heading level0 row12\" >lasso</th>\n",
       "      <td id=\"T_c7246_row12_col0\" class=\"data row12 col0\" >Lasso Regression</td>\n",
       "      <td id=\"T_c7246_row12_col1\" class=\"data row12 col1\" >0.6415</td>\n",
       "      <td id=\"T_c7246_row12_col2\" class=\"data row12 col2\" >0.8399</td>\n",
       "      <td id=\"T_c7246_row12_col3\" class=\"data row12 col3\" >0.3991</td>\n",
       "      <td id=\"T_c7246_row12_col4\" class=\"data row12 col4\" >0.0240</td>\n",
       "    </tr>\n",
       "    <tr>\n",
       "      <th id=\"T_c7246_level0_row13\" class=\"row_heading level0 row13\" >en</th>\n",
       "      <td id=\"T_c7246_row13_col0\" class=\"data row13 col0\" >Elastic Net</td>\n",
       "      <td id=\"T_c7246_row13_col1\" class=\"data row13 col1\" >0.6415</td>\n",
       "      <td id=\"T_c7246_row13_col2\" class=\"data row13 col2\" >0.8399</td>\n",
       "      <td id=\"T_c7246_row13_col3\" class=\"data row13 col3\" >0.3991</td>\n",
       "      <td id=\"T_c7246_row13_col4\" class=\"data row13 col4\" >0.0220</td>\n",
       "    </tr>\n",
       "    <tr>\n",
       "      <th id=\"T_c7246_level0_row14\" class=\"row_heading level0 row14\" >llar</th>\n",
       "      <td id=\"T_c7246_row14_col0\" class=\"data row14 col0\" >Lasso Least Angle Regression</td>\n",
       "      <td id=\"T_c7246_row14_col1\" class=\"data row14 col1\" >0.6415</td>\n",
       "      <td id=\"T_c7246_row14_col2\" class=\"data row14 col2\" >0.8399</td>\n",
       "      <td id=\"T_c7246_row14_col3\" class=\"data row14 col3\" >0.3991</td>\n",
       "      <td id=\"T_c7246_row14_col4\" class=\"data row14 col4\" >0.0270</td>\n",
       "    </tr>\n",
       "    <tr>\n",
       "      <th id=\"T_c7246_level0_row15\" class=\"row_heading level0 row15\" >dummy</th>\n",
       "      <td id=\"T_c7246_row15_col0\" class=\"data row15 col0\" >Dummy Regressor</td>\n",
       "      <td id=\"T_c7246_row15_col1\" class=\"data row15 col1\" >0.8634</td>\n",
       "      <td id=\"T_c7246_row15_col2\" class=\"data row15 col2\" >1.0862</td>\n",
       "      <td id=\"T_c7246_row15_col3\" class=\"data row15 col3\" >-0.0036</td>\n",
       "      <td id=\"T_c7246_row15_col4\" class=\"data row15 col4\" >0.0290</td>\n",
       "    </tr>\n",
       "    <tr>\n",
       "      <th id=\"T_c7246_level0_row16\" class=\"row_heading level0 row16\" >huber</th>\n",
       "      <td id=\"T_c7246_row16_col0\" class=\"data row16 col0\" >Huber Regressor</td>\n",
       "      <td id=\"T_c7246_row16_col1\" class=\"data row16 col1\" >5.4391</td>\n",
       "      <td id=\"T_c7246_row16_col2\" class=\"data row16 col2\" >9.2562</td>\n",
       "      <td id=\"T_c7246_row16_col3\" class=\"data row16 col3\" >-100.7958</td>\n",
       "      <td id=\"T_c7246_row16_col4\" class=\"data row16 col4\" >0.0520</td>\n",
       "    </tr>\n",
       "    <tr>\n",
       "      <th id=\"T_c7246_level0_row17\" class=\"row_heading level0 row17\" >par</th>\n",
       "      <td id=\"T_c7246_row17_col0\" class=\"data row17 col0\" >Passive Aggressive Regressor</td>\n",
       "      <td id=\"T_c7246_row17_col1\" class=\"data row17 col1\" >17.1956</td>\n",
       "      <td id=\"T_c7246_row17_col2\" class=\"data row17 col2\" >40.3401</td>\n",
       "      <td id=\"T_c7246_row17_col3\" class=\"data row17 col3\" >-1593.2986</td>\n",
       "      <td id=\"T_c7246_row17_col4\" class=\"data row17 col4\" >0.0270</td>\n",
       "    </tr>\n",
       "    <tr>\n",
       "      <th id=\"T_c7246_level0_row18\" class=\"row_heading level0 row18\" >lar</th>\n",
       "      <td id=\"T_c7246_row18_col0\" class=\"data row18 col0\" >Least Angle Regression</td>\n",
       "      <td id=\"T_c7246_row18_col1\" class=\"data row18 col1\" >99718073178827.3750</td>\n",
       "      <td id=\"T_c7246_row18_col2\" class=\"data row18 col2\" >1440115424878368.7500</td>\n",
       "      <td id=\"T_c7246_row18_col3\" class=\"data row18 col3\" >-18857890202756035710854019153920.0000</td>\n",
       "      <td id=\"T_c7246_row18_col4\" class=\"data row18 col4\" >0.0290</td>\n",
       "    </tr>\n",
       "  </tbody>\n",
       "</table>\n"
      ],
      "text/plain": [
       "<pandas.io.formats.style.Styler at 0x3003aa290>"
      ]
     },
     "metadata": {},
     "output_type": "display_data"
    },
    {
     "data": {
      "text/html": [],
      "text/plain": [
       "<IPython.core.display.HTML object>"
      ]
     },
     "metadata": {},
     "output_type": "display_data"
    },
    {
     "name": "stderr",
     "output_type": "stream",
     "text": [
      "2024/08/05 21:58:51 WARNING mlflow.models.model: Input example should be provided to infer model signature if the model signature is not provided when logging the model.\n"
     ]
    },
    {
     "name": "stderr",
     "output_type": "stream",
     "text": [
      "2024/08/05 21:58:51 INFO mlflow.tracking._tracking_service.client: 🏃 View run Extra Trees Regressor at: http://localhost:8080/#/experiments/584040955558151400/runs/e48c49e8e85949af809f57a49e177cfe.\n"
     ]
    },
    {
     "name": "stderr",
     "output_type": "stream",
     "text": [
      "2024/08/05 21:58:51 INFO mlflow.tracking._tracking_service.client: 🧪 View experiment at: http://localhost:8080/#/experiments/584040955558151400.\n"
     ]
    },
    {
     "name": "stderr",
     "output_type": "stream",
     "text": [
      "2024/08/05 21:58:52 WARNING mlflow.models.model: Input example should be provided to infer model signature if the model signature is not provided when logging the model.\n"
     ]
    },
    {
     "name": "stderr",
     "output_type": "stream",
     "text": [
      "2024/08/05 21:58:52 INFO mlflow.tracking._tracking_service.client: 🏃 View run Random Forest Regressor at: http://localhost:8080/#/experiments/584040955558151400/runs/e03e0fb168444f87a23ba7572fc0348e.\n"
     ]
    },
    {
     "name": "stderr",
     "output_type": "stream",
     "text": [
      "2024/08/05 21:58:52 INFO mlflow.tracking._tracking_service.client: 🧪 View experiment at: http://localhost:8080/#/experiments/584040955558151400.\n"
     ]
    },
    {
     "name": "stderr",
     "output_type": "stream",
     "text": [
      "2024/08/05 21:58:54 WARNING mlflow.models.model: Input example should be provided to infer model signature if the model signature is not provided when logging the model.\n"
     ]
    },
    {
     "name": "stderr",
     "output_type": "stream",
     "text": [
      "2024/08/05 21:58:54 INFO mlflow.tracking._tracking_service.client: 🏃 View run Extreme Gradient Boosting at: http://localhost:8080/#/experiments/584040955558151400/runs/985e7db404194bde9d6bf8c5dbda9241.\n"
     ]
    },
    {
     "name": "stderr",
     "output_type": "stream",
     "text": [
      "2024/08/05 21:58:54 INFO mlflow.tracking._tracking_service.client: 🧪 View experiment at: http://localhost:8080/#/experiments/584040955558151400.\n"
     ]
    },
    {
     "name": "stderr",
     "output_type": "stream",
     "text": [
      "2024/08/05 21:58:54 WARNING mlflow.models.model: Input example should be provided to infer model signature if the model signature is not provided when logging the model.\n"
     ]
    },
    {
     "name": "stderr",
     "output_type": "stream",
     "text": [
      "2024/08/05 21:58:54 INFO mlflow.tracking._tracking_service.client: 🏃 View run Light Gradient Boosting Machine at: http://localhost:8080/#/experiments/584040955558151400/runs/a5d2d9079a50473c84b6a5dbe924c567.\n"
     ]
    },
    {
     "name": "stderr",
     "output_type": "stream",
     "text": [
      "2024/08/05 21:58:54 INFO mlflow.tracking._tracking_service.client: 🧪 View experiment at: http://localhost:8080/#/experiments/584040955558151400.\n"
     ]
    },
    {
     "name": "stderr",
     "output_type": "stream",
     "text": [
      "2024/08/05 21:58:54 WARNING mlflow.models.model: Input example should be provided to infer model signature if the model signature is not provided when logging the model.\n"
     ]
    },
    {
     "name": "stderr",
     "output_type": "stream",
     "text": [
      "2024/08/05 21:58:54 INFO mlflow.tracking._tracking_service.client: 🏃 View run Gradient Boosting Regressor at: http://localhost:8080/#/experiments/584040955558151400/runs/cdb127a755974cb692bdca2d5610a73e.\n"
     ]
    },
    {
     "name": "stderr",
     "output_type": "stream",
     "text": [
      "2024/08/05 21:58:54 INFO mlflow.tracking._tracking_service.client: 🧪 View experiment at: http://localhost:8080/#/experiments/584040955558151400.\n"
     ]
    },
    {
     "name": "stderr",
     "output_type": "stream",
     "text": [
      "2024/08/05 21:58:55 WARNING mlflow.models.model: Input example should be provided to infer model signature if the model signature is not provided when logging the model.\n"
     ]
    },
    {
     "name": "stderr",
     "output_type": "stream",
     "text": [
      "2024/08/05 21:58:55 INFO mlflow.tracking._tracking_service.client: 🏃 View run Decision Tree Regressor at: http://localhost:8080/#/experiments/584040955558151400/runs/0594aef9fd624db3bf29352a531bd440.\n"
     ]
    },
    {
     "name": "stderr",
     "output_type": "stream",
     "text": [
      "2024/08/05 21:58:55 INFO mlflow.tracking._tracking_service.client: 🧪 View experiment at: http://localhost:8080/#/experiments/584040955558151400.\n"
     ]
    },
    {
     "name": "stderr",
     "output_type": "stream",
     "text": [
      "2024/08/05 21:58:55 WARNING mlflow.models.model: Input example should be provided to infer model signature if the model signature is not provided when logging the model.\n"
     ]
    },
    {
     "name": "stderr",
     "output_type": "stream",
     "text": [
      "2024/08/05 21:58:55 INFO mlflow.tracking._tracking_service.client: 🏃 View run AdaBoost Regressor at: http://localhost:8080/#/experiments/584040955558151400/runs/475e209b56d94c73a6a19f157a549822.\n"
     ]
    },
    {
     "name": "stderr",
     "output_type": "stream",
     "text": [
      "2024/08/05 21:58:55 INFO mlflow.tracking._tracking_service.client: 🧪 View experiment at: http://localhost:8080/#/experiments/584040955558151400.\n"
     ]
    },
    {
     "name": "stderr",
     "output_type": "stream",
     "text": [
      "2024/08/05 21:58:55 WARNING mlflow.models.model: Input example should be provided to infer model signature if the model signature is not provided when logging the model.\n"
     ]
    },
    {
     "name": "stderr",
     "output_type": "stream",
     "text": [
      "2024/08/05 21:58:55 INFO mlflow.tracking._tracking_service.client: 🏃 View run Ridge Regression at: http://localhost:8080/#/experiments/584040955558151400/runs/648ea87e90b74400b45d8111460ec0c2.\n"
     ]
    },
    {
     "name": "stderr",
     "output_type": "stream",
     "text": [
      "2024/08/05 21:58:55 INFO mlflow.tracking._tracking_service.client: 🧪 View experiment at: http://localhost:8080/#/experiments/584040955558151400.\n"
     ]
    },
    {
     "name": "stderr",
     "output_type": "stream",
     "text": [
      "2024/08/05 21:58:55 WARNING mlflow.models.model: Input example should be provided to infer model signature if the model signature is not provided when logging the model.\n"
     ]
    },
    {
     "name": "stderr",
     "output_type": "stream",
     "text": [
      "2024/08/05 21:58:55 INFO mlflow.tracking._tracking_service.client: 🏃 View run Bayesian Ridge at: http://localhost:8080/#/experiments/584040955558151400/runs/e4bef51910174feb974fe01a91668ae3.\n"
     ]
    },
    {
     "name": "stderr",
     "output_type": "stream",
     "text": [
      "2024/08/05 21:58:55 INFO mlflow.tracking._tracking_service.client: 🧪 View experiment at: http://localhost:8080/#/experiments/584040955558151400.\n"
     ]
    },
    {
     "name": "stderr",
     "output_type": "stream",
     "text": [
      "2024/08/05 21:58:56 WARNING mlflow.models.model: Input example should be provided to infer model signature if the model signature is not provided when logging the model.\n"
     ]
    },
    {
     "name": "stderr",
     "output_type": "stream",
     "text": [
      "2024/08/05 21:58:56 INFO mlflow.tracking._tracking_service.client: 🏃 View run K Neighbors Regressor at: http://localhost:8080/#/experiments/584040955558151400/runs/d478b892cee345f1b8298584d3293d64.\n"
     ]
    },
    {
     "name": "stderr",
     "output_type": "stream",
     "text": [
      "2024/08/05 21:58:56 INFO mlflow.tracking._tracking_service.client: 🧪 View experiment at: http://localhost:8080/#/experiments/584040955558151400.\n"
     ]
    },
    {
     "name": "stderr",
     "output_type": "stream",
     "text": [
      "2024/08/05 21:58:56 WARNING mlflow.models.model: Input example should be provided to infer model signature if the model signature is not provided when logging the model.\n"
     ]
    },
    {
     "name": "stderr",
     "output_type": "stream",
     "text": [
      "2024/08/05 21:58:56 INFO mlflow.tracking._tracking_service.client: 🏃 View run Linear Regression at: http://localhost:8080/#/experiments/584040955558151400/runs/53df74af133242f090b84c4f8207a471.\n"
     ]
    },
    {
     "name": "stderr",
     "output_type": "stream",
     "text": [
      "2024/08/05 21:58:56 INFO mlflow.tracking._tracking_service.client: 🧪 View experiment at: http://localhost:8080/#/experiments/584040955558151400.\n"
     ]
    },
    {
     "name": "stderr",
     "output_type": "stream",
     "text": [
      "2024/08/05 21:58:56 WARNING mlflow.models.model: Input example should be provided to infer model signature if the model signature is not provided when logging the model.\n"
     ]
    },
    {
     "name": "stderr",
     "output_type": "stream",
     "text": [
      "2024/08/05 21:58:56 INFO mlflow.tracking._tracking_service.client: 🏃 View run Orthogonal Matching Pursuit at: http://localhost:8080/#/experiments/584040955558151400/runs/c088105afd8f462bac67a1b6091818cb.\n"
     ]
    },
    {
     "name": "stderr",
     "output_type": "stream",
     "text": [
      "2024/08/05 21:58:56 INFO mlflow.tracking._tracking_service.client: 🧪 View experiment at: http://localhost:8080/#/experiments/584040955558151400.\n"
     ]
    },
    {
     "name": "stderr",
     "output_type": "stream",
     "text": [
      "2024/08/05 21:58:56 WARNING mlflow.models.model: Input example should be provided to infer model signature if the model signature is not provided when logging the model.\n"
     ]
    },
    {
     "name": "stderr",
     "output_type": "stream",
     "text": [
      "2024/08/05 21:58:56 INFO mlflow.tracking._tracking_service.client: 🏃 View run Lasso Regression at: http://localhost:8080/#/experiments/584040955558151400/runs/00199ac93430443d9bb44c082a0fc447.\n"
     ]
    },
    {
     "name": "stderr",
     "output_type": "stream",
     "text": [
      "2024/08/05 21:58:56 INFO mlflow.tracking._tracking_service.client: 🧪 View experiment at: http://localhost:8080/#/experiments/584040955558151400.\n"
     ]
    },
    {
     "name": "stderr",
     "output_type": "stream",
     "text": [
      "2024/08/05 21:58:57 WARNING mlflow.models.model: Input example should be provided to infer model signature if the model signature is not provided when logging the model.\n"
     ]
    },
    {
     "name": "stderr",
     "output_type": "stream",
     "text": [
      "2024/08/05 21:58:57 INFO mlflow.tracking._tracking_service.client: 🏃 View run Elastic Net at: http://localhost:8080/#/experiments/584040955558151400/runs/c6abc2103e93430f86e839bdecfdbd34.\n"
     ]
    },
    {
     "name": "stderr",
     "output_type": "stream",
     "text": [
      "2024/08/05 21:58:57 INFO mlflow.tracking._tracking_service.client: 🧪 View experiment at: http://localhost:8080/#/experiments/584040955558151400.\n"
     ]
    },
    {
     "name": "stderr",
     "output_type": "stream",
     "text": [
      "2024/08/05 21:58:57 WARNING mlflow.models.model: Input example should be provided to infer model signature if the model signature is not provided when logging the model.\n"
     ]
    },
    {
     "name": "stderr",
     "output_type": "stream",
     "text": [
      "2024/08/05 21:58:57 INFO mlflow.tracking._tracking_service.client: 🏃 View run Lasso Least Angle Regression at: http://localhost:8080/#/experiments/584040955558151400/runs/66de1b39c02947a7aff1669562779fdf.\n"
     ]
    },
    {
     "name": "stderr",
     "output_type": "stream",
     "text": [
      "2024/08/05 21:58:57 INFO mlflow.tracking._tracking_service.client: 🧪 View experiment at: http://localhost:8080/#/experiments/584040955558151400.\n"
     ]
    },
    {
     "name": "stderr",
     "output_type": "stream",
     "text": [
      "2024/08/05 21:58:57 WARNING mlflow.models.model: Input example should be provided to infer model signature if the model signature is not provided when logging the model.\n"
     ]
    },
    {
     "name": "stderr",
     "output_type": "stream",
     "text": [
      "2024/08/05 21:58:57 INFO mlflow.tracking._tracking_service.client: 🏃 View run Dummy Regressor at: http://localhost:8080/#/experiments/584040955558151400/runs/14e1e71cef3944fda7f389c263810178.\n"
     ]
    },
    {
     "name": "stderr",
     "output_type": "stream",
     "text": [
      "2024/08/05 21:58:57 INFO mlflow.tracking._tracking_service.client: 🧪 View experiment at: http://localhost:8080/#/experiments/584040955558151400.\n"
     ]
    },
    {
     "name": "stderr",
     "output_type": "stream",
     "text": [
      "2024/08/05 21:58:57 WARNING mlflow.models.model: Input example should be provided to infer model signature if the model signature is not provided when logging the model.\n"
     ]
    },
    {
     "name": "stderr",
     "output_type": "stream",
     "text": [
      "2024/08/05 21:58:57 INFO mlflow.tracking._tracking_service.client: 🏃 View run Huber Regressor at: http://localhost:8080/#/experiments/584040955558151400/runs/90fcb256721c40ff91b5a93c62dfeace.\n"
     ]
    },
    {
     "name": "stderr",
     "output_type": "stream",
     "text": [
      "2024/08/05 21:58:57 INFO mlflow.tracking._tracking_service.client: 🧪 View experiment at: http://localhost:8080/#/experiments/584040955558151400.\n"
     ]
    },
    {
     "name": "stderr",
     "output_type": "stream",
     "text": [
      "2024/08/05 21:58:58 WARNING mlflow.models.model: Input example should be provided to infer model signature if the model signature is not provided when logging the model.\n"
     ]
    },
    {
     "name": "stderr",
     "output_type": "stream",
     "text": [
      "2024/08/05 21:58:58 INFO mlflow.tracking._tracking_service.client: 🏃 View run Passive Aggressive Regressor at: http://localhost:8080/#/experiments/584040955558151400/runs/4ef2a9bbe4f1440ca79165afb3668704.\n"
     ]
    },
    {
     "name": "stderr",
     "output_type": "stream",
     "text": [
      "2024/08/05 21:58:58 INFO mlflow.tracking._tracking_service.client: 🧪 View experiment at: http://localhost:8080/#/experiments/584040955558151400.\n"
     ]
    },
    {
     "name": "stderr",
     "output_type": "stream",
     "text": [
      "2024/08/05 21:58:58 WARNING mlflow.models.model: Input example should be provided to infer model signature if the model signature is not provided when logging the model.\n"
     ]
    },
    {
     "name": "stderr",
     "output_type": "stream",
     "text": [
      "2024/08/05 21:58:58 INFO mlflow.tracking._tracking_service.client: 🏃 View run Least Angle Regression at: http://localhost:8080/#/experiments/584040955558151400/runs/f11264f6a96b40cba6a01e4afcaa32a6.\n"
     ]
    },
    {
     "name": "stderr",
     "output_type": "stream",
     "text": [
      "2024/08/05 21:58:58 INFO mlflow.tracking._tracking_service.client: 🧪 View experiment at: http://localhost:8080/#/experiments/584040955558151400.\n"
     ]
    }
   ],
   "source": [
    "best_threes_model = regression.compare_models(n_select=3)"
   ]
  },
  {
   "cell_type": "code",
   "execution_count": 8,
   "id": "2a2b232f",
   "metadata": {
    "execution": {
     "iopub.execute_input": "2024-08-05T21:58:58.393803Z",
     "iopub.status.busy": "2024-08-05T21:58:58.393551Z",
     "iopub.status.idle": "2024-08-05T21:58:58.447325Z",
     "shell.execute_reply": "2024-08-05T21:58:58.446915Z"
    },
    "papermill": {
     "duration": 0.062068,
     "end_time": "2024-08-05T21:58:58.448802",
     "exception": false,
     "start_time": "2024-08-05T21:58:58.386734",
     "status": "completed"
    },
    "tags": []
   },
   "outputs": [
    {
     "name": "stderr",
     "output_type": "stream",
     "text": [
      "2024/08/05 21:58:58 INFO mlflow.tracking._tracking_service.client: 🏃 View run Session Initialized c71a at: http://localhost:8080/#/experiments/584040955558151400/runs/03af506f74824c52b66a8512f9a120be.\n"
     ]
    },
    {
     "name": "stderr",
     "output_type": "stream",
     "text": [
      "2024/08/05 21:58:58 INFO mlflow.tracking._tracking_service.client: 🧪 View experiment at: http://localhost:8080/#/experiments/584040955558151400.\n"
     ]
    }
   ],
   "source": [
    "mlflow.end_run()"
   ]
  },
  {
   "cell_type": "markdown",
   "id": "a6f4b473",
   "metadata": {
    "papermill": {
     "duration": 0.005381,
     "end_time": "2024-08-05T21:58:58.460213",
     "exception": false,
     "start_time": "2024-08-05T21:58:58.454832",
     "status": "completed"
    },
    "tags": []
   },
   "source": [
    "L'entrainement sur plusieurs types de modèles avec PyCaret montre que pour ce problème, les modèles: ExtraTreesRegressor, XGBRegressor et RandomForestRegressor sont les plus adaptés. Toutefois, nous pensons que les performances obtenus lors de ce premier entrainement peuvent être nettement améliorées. Nous allons attendre de faire le réglage de paramètres et d'obtenir les modèles finaux avant de faire un choix.\n"
   ]
  },
  {
   "cell_type": "markdown",
   "id": "486438b3",
   "metadata": {
    "papermill": {
     "duration": 0.005462,
     "end_time": "2024-08-05T21:58:58.471645",
     "exception": false,
     "start_time": "2024-08-05T21:58:58.466183",
     "status": "completed"
    },
    "tags": []
   },
   "source": [
    "## Fine-Tuning\n"
   ]
  },
  {
   "cell_type": "code",
   "execution_count": 9,
   "id": "a60c8336",
   "metadata": {
    "execution": {
     "iopub.execute_input": "2024-08-05T21:58:58.483516Z",
     "iopub.status.busy": "2024-08-05T21:58:58.483291Z",
     "iopub.status.idle": "2024-08-05T21:58:58.511110Z",
     "shell.execute_reply": "2024-08-05T21:58:58.510627Z"
    },
    "papermill": {
     "duration": 0.035577,
     "end_time": "2024-08-05T21:58:58.512699",
     "exception": false,
     "start_time": "2024-08-05T21:58:58.477122",
     "status": "completed"
    },
    "tags": []
   },
   "outputs": [],
   "source": [
    "ESTIMATOR_PARAMS = {\n",
    "    ExtraTreesRegressor.__name__: {\n",
    "        \"estimator\": ExtraTreesRegressor(),\n",
    "        \"params\": {\n",
    "            'regressor__estimator__n_estimators': np.arange(10, 200, 5),\n",
    "        }\n",
    "    },\n",
    "    RandomForestRegressor.__name__: {\n",
    "        \"estimator\": RandomForestRegressor(),\n",
    "        \"params\": {\n",
    "            'regressor__estimator__n_estimators': np.arange(10, 200, 5),\n",
    "        }\n",
    "    },\n",
    "    xgb.XGBRegressor.__name__: {\n",
    "        \"estimator\": xgb.XGBRegressor(),\n",
    "        \"params\": {\n",
    "            'regressor__estimator__n_estimators': np.arange(10, 200, 5),\n",
    "        }\n",
    "    }\n",
    "}"
   ]
  },
  {
   "cell_type": "code",
   "execution_count": null,
   "id": "07b27da5",
   "metadata": {
    "papermill": {
     "duration": null,
     "end_time": null,
     "exception": false,
     "start_time": "2024-08-05T21:58:58.523355",
     "status": "running"
    },
    "tags": []
   },
   "outputs": [],
   "source": [
    "CURRENT_DATE = pendulum.now()\n",
    "\n",
    "search_cvs = {}\n",
    "\n",
    "def rmse(actual, predicted):\n",
    "    return np.sqrt(mean_squared_error(actual, predicted))\n",
    "\n",
    "scoring = {'r2': make_scorer(r2_score),\n",
    "          'rmse': make_scorer(rmse, greater_is_better=False),\n",
    "          'mae': make_scorer(mean_absolute_error, greater_is_better=False)}\n",
    "\n",
    "# Create an experiment if not exists\n",
    "exp_name = \"building-energy-prediction-tuning-sklearn\"\n",
    "experiment = mlflow.get_experiment_by_name(exp_name)\n",
    "if not experiment:\n",
    "    experiment_id = mlflow.create_experiment(exp_name)\n",
    "else:\n",
    "    experiment_id = experiment.experiment_id\n",
    "\n",
    "with mlflow.start_run(run_name=f\"Session-{CURRENT_DATE.strftime('%Y%m%d_%H%m%S')}\", experiment_id=experiment_id) as parent_run:\n",
    "    for estimator_name, settings in ESTIMATOR_PARAMS.items():\n",
    "        with mlflow.start_run(run_name=estimator_name, nested=True, experiment_id=experiment_id):  \n",
    "            estimator = settings[\"estimator\"]\n",
    "            param_grid = settings[\"params\"]\n",
    "            pipeline = define_pipeline(numerical_transformer=[SimpleImputer(strategy=\"median\"), RobustScaler()],\n",
    "                            categorical_transformer=[SimpleImputer(strategy=\"constant\", fill_value=\"undefined\"), OneHotEncoder(drop=\"if_binary\", handle_unknown=\"ignore\")],\n",
    "                            target_transformer=True,\n",
    "                            estimator=estimator\n",
    "                        ) \n",
    "            grid_search = GridSearchCV(\n",
    "                estimator=pipeline,  # Instantiate the estimator\n",
    "                param_grid=param_grid,\n",
    "                scoring=scoring,\n",
    "                refit='r2',\n",
    "                cv=5,  # Adjust the number of cross-validation folds as needed\n",
    "                n_jobs=-1  # Use all available cores\n",
    "            )\n",
    "            grid_search.fit(x_train, y_train)\n",
    "            search_cvs[estimator_name] = grid_search\n",
    "\n",
    "            mlflow.log_param(\"Estimator\", estimator_name)\n",
    "            mlflow_log_search(grid_search)\n",
    "mlflow.end_run()"
   ]
  },
  {
   "cell_type": "markdown",
   "id": "d5b32c21",
   "metadata": {
    "papermill": {
     "duration": null,
     "end_time": null,
     "exception": null,
     "start_time": null,
     "status": "pending"
    },
    "tags": []
   },
   "source": [
    "## Model Evaluation on Test Data\n"
   ]
  },
  {
   "cell_type": "markdown",
   "id": "c6038536",
   "metadata": {
    "papermill": {
     "duration": null,
     "end_time": null,
     "exception": null,
     "start_time": null,
     "status": "pending"
    },
    "tags": []
   },
   "source": [
    "We are going to evaluate the fine-tuned models to see which one we are going to pick as the final model.\n"
   ]
  },
  {
   "cell_type": "code",
   "execution_count": null,
   "id": "889dd312",
   "metadata": {
    "papermill": {
     "duration": null,
     "end_time": null,
     "exception": null,
     "start_time": null,
     "status": "pending"
    },
    "tags": []
   },
   "outputs": [],
   "source": [
    "# Obtaining best_models after fine-tuning\n",
    "models = { f\"{estimator_name}\": search_cv.best_estimator_ for estimator_name, search_cv in search_cvs.items()}"
   ]
  },
  {
   "cell_type": "code",
   "execution_count": null,
   "id": "1ba1c28a",
   "metadata": {
    "papermill": {
     "duration": null,
     "end_time": null,
     "exception": null,
     "start_time": null,
     "status": "pending"
    },
    "tags": []
   },
   "outputs": [],
   "source": [
    "exp_name = \"building-energy-prediction-evaluation\"\n",
    "experiment = mlflow.get_experiment_by_name(exp_name)\n",
    "if not experiment:\n",
    "    experiment_id = mlflow.create_experiment(exp_name)\n",
    "else:\n",
    "    experiment_id = experiment.experiment_id\n",
    "\n",
    "def evaluate_models(estimators, x_train, x_test, y_train, y_test):\n",
    "    # Dict of R2 scores for the estimators\n",
    "    r2_scores = {}\n",
    "    with mlflow.start_run(run_name=f\"Session-{CURRENT_DATE.strftime('%Y%m%d_%H%m%S')}\", experiment_id=experiment_id):\n",
    "        for estimator_name, estimator in estimators.items():\n",
    "            with mlflow.start_run(run_name=estimator_name, nested=True, experiment_id=experiment_id): \n",
    "                y_train_pred = estimator.predict(x_train)\n",
    "                y_test_pred = estimator.predict(x_test)\n",
    "\n",
    "                train_metrics = eval_metrics(y_train, y_train_pred)\n",
    "                test_metrics = eval_metrics(y_test, y_test_pred)\n",
    "\n",
    "                # Add the R2 score of the model to the global dict\n",
    "                r2_scores[estimator_name] = test_metrics['r2']\n",
    "\n",
    "                # Log the regressor parameters\n",
    "                mlflow.log_params(estimator.regressor.steps[-1][1].get_params())\n",
    "\n",
    "                # Log the best metric\n",
    "                mlflow.log_metrics(test_metrics)\n",
    "\n",
    "                # Log the model\n",
    "                mlflow.sklearn.log_model(estimator.best_estimator_, \"model\")\n",
    "\n",
    "                logger.info(f\"\"\"{estimator_name} performance \\n{pd.DataFrame({'train': train_metrics, 'test': test_metrics}).T}\"\"\")\n",
    "    return max(r2_scores.items(), key=lambda item: item[1])\n",
    "\n",
    "mlflow.end_run()\n",
    "\n",
    "best_estimator, score = evaluate_models(models, x_train, x_test, y_train, y_test)\n",
    "\n",
    "logger.info(f\"\"\"{best_estimator} is the best estimator found for this problem with an R2 score of {score}\"\"\")"
   ]
  },
  {
   "cell_type": "markdown",
   "id": "a2dc9220",
   "metadata": {
    "papermill": {
     "duration": null,
     "end_time": null,
     "exception": null,
     "start_time": null,
     "status": "pending"
    },
    "tags": []
   },
   "source": [
    "### Prediction Error Plot\n"
   ]
  },
  {
   "cell_type": "code",
   "execution_count": null,
   "id": "6c54609c",
   "metadata": {
    "papermill": {
     "duration": null,
     "end_time": null,
     "exception": null,
     "start_time": null,
     "status": "pending"
    },
    "tags": []
   },
   "outputs": [],
   "source": [
    "prediction_error_plot(models, x_train, x_test, y_train, y_test)"
   ]
  },
  {
   "cell_type": "markdown",
   "id": "3fb5e022",
   "metadata": {
    "papermill": {
     "duration": null,
     "end_time": null,
     "exception": null,
     "start_time": null,
     "status": "pending"
    },
    "tags": []
   },
   "source": [
    "### Residual Plot\n"
   ]
  },
  {
   "cell_type": "code",
   "execution_count": null,
   "id": "21a723c1",
   "metadata": {
    "papermill": {
     "duration": null,
     "end_time": null,
     "exception": null,
     "start_time": null,
     "status": "pending"
    },
    "tags": []
   },
   "outputs": [],
   "source": [
    "residual_plot(models, x_train, x_test, y_train, y_test)"
   ]
  }
 ],
 "metadata": {
  "kernelspec": {
   "display_name": "mlops",
   "language": "python",
   "name": "python3"
  },
  "language_info": {
   "codemirror_mode": {
    "name": "ipython",
    "version": 3
   },
   "file_extension": ".py",
   "mimetype": "text/x-python",
   "name": "python",
   "nbconvert_exporter": "python",
   "pygments_lexer": "ipython3",
   "version": "3.10.10"
  },
  "papermill": {
   "default_parameters": {},
   "duration": null,
   "end_time": null,
   "environment_variables": {},
   "exception": null,
   "input_path": "../notebooks/04-modelisation.ipynb",
   "output_path": "../notebooks/outputs/04-modelisation_output.ipynb",
   "parameters": {},
   "start_time": "2024-08-05T21:58:07.264016",
   "version": "2.6.0"
  }
 },
 "nbformat": 4,
 "nbformat_minor": 5
}