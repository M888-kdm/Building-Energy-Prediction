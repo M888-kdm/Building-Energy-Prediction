{
 "cells": [
  {
   "cell_type": "code",
   "execution_count": 1,
   "id": "b746e363",
   "metadata": {
    "execution": {
     "iopub.execute_input": "2024-08-05T23:20:39.058445Z",
     "iopub.status.busy": "2024-08-05T23:20:39.057860Z",
     "iopub.status.idle": "2024-08-05T23:20:43.203130Z",
     "shell.execute_reply": "2024-08-05T23:20:43.202591Z"
    },
    "papermill": {
     "duration": 4.161731,
     "end_time": "2024-08-05T23:20:43.207044",
     "exception": false,
     "start_time": "2024-08-05T23:20:39.045313",
     "status": "completed"
    },
    "tags": []
   },
   "outputs": [],
   "source": [
    "%reload_ext autoreload\n",
    "%autoreload 2\n",
    "\n",
    "import mlflow\n",
    "import os\n",
    "import numpy as np\n",
    "import pandas as pd\n",
    "import pendulum\n",
    "import sys\n",
    "import xgboost as xgb\n",
    "\n",
    "from loguru import logger\n",
    "from pathlib import Path\n",
    "from pycaret import regression\n",
    "from sklearn.metrics import make_scorer, mean_squared_error, mean_absolute_error, r2_score\n",
    "from sklearn.model_selection import train_test_split\n",
    "from sklearn.impute import SimpleImputer\n",
    "from sklearn.model_selection import GridSearchCV\n",
    "from sklearn.preprocessing import RobustScaler, OneHotEncoder\n",
    "from sklearn.ensemble import RandomForestRegressor, ExtraTreesRegressor\n",
    "\n",
    "\n",
    "sys.path.append(str(Path.cwd().parent))\n",
    "sys.path.append(os.path.join(str(Path.cwd().parent), \"src\"))\n",
    "from settings.params import *\n",
    "from metrics import eval_metrics\n",
    "from pipeline import define_pipeline\n",
    "from plot import prediction_error_plot, residual_plot\n",
    "from tracking import mlflow_log_search\n",
    "\n",
    "pd.set_option(\"display.max_columns\", None)\n",
    "pd.set_option(\"display.max_rows\", 100)"
   ]
  },
  {
   "cell_type": "code",
   "execution_count": 2,
   "id": "1824d9bf",
   "metadata": {
    "execution": {
     "iopub.execute_input": "2024-08-05T23:20:43.217073Z",
     "iopub.status.busy": "2024-08-05T23:20:43.216485Z",
     "iopub.status.idle": "2024-08-05T23:20:43.251612Z",
     "shell.execute_reply": "2024-08-05T23:20:43.251204Z"
    },
    "papermill": {
     "duration": 0.040548,
     "end_time": "2024-08-05T23:20:43.253022",
     "exception": false,
     "start_time": "2024-08-05T23:20:43.212474",
     "status": "completed"
    },
    "tags": []
   },
   "outputs": [],
   "source": [
    "data = pd.read_csv(CLEANED_DATA)\n",
    "TARGET_NAME = MODEL_PARAMS['TARGET_NAME']"
   ]
  },
  {
   "cell_type": "code",
   "execution_count": 3,
   "id": "f7e55b63",
   "metadata": {
    "execution": {
     "iopub.execute_input": "2024-08-05T23:20:43.259333Z",
     "iopub.status.busy": "2024-08-05T23:20:43.259128Z",
     "iopub.status.idle": "2024-08-05T23:20:43.286561Z",
     "shell.execute_reply": "2024-08-05T23:20:43.286157Z"
    },
    "papermill": {
     "duration": 0.032058,
     "end_time": "2024-08-05T23:20:43.288032",
     "exception": false,
     "start_time": "2024-08-05T23:20:43.255974",
     "status": "completed"
    },
    "tags": []
   },
   "outputs": [],
   "source": [
    "mlflow.set_tracking_uri(uri=\"http://localhost:8080\")"
   ]
  },
  {
   "cell_type": "markdown",
   "id": "40e9398a",
   "metadata": {
    "papermill": {
     "duration": 0.00246,
     "end_time": "2024-08-05T23:20:43.293204",
     "exception": false,
     "start_time": "2024-08-05T23:20:43.290744",
     "status": "completed"
    },
    "tags": []
   },
   "source": [
    "# Modeling\n"
   ]
  },
  {
   "cell_type": "markdown",
   "id": "33e3dc98",
   "metadata": {
    "papermill": {
     "duration": 0.002447,
     "end_time": "2024-08-05T23:20:43.298097",
     "exception": false,
     "start_time": "2024-08-05T23:20:43.295650",
     "status": "completed"
    },
    "tags": []
   },
   "source": [
    "## Train/Test Split\n"
   ]
  },
  {
   "cell_type": "code",
   "execution_count": 4,
   "id": "d0ee74ff",
   "metadata": {
    "execution": {
     "iopub.execute_input": "2024-08-05T23:20:43.304870Z",
     "iopub.status.busy": "2024-08-05T23:20:43.304616Z",
     "iopub.status.idle": "2024-08-05T23:20:43.359255Z",
     "shell.execute_reply": "2024-08-05T23:20:43.358010Z"
    },
    "papermill": {
     "duration": 0.063965,
     "end_time": "2024-08-05T23:20:43.364851",
     "exception": false,
     "start_time": "2024-08-05T23:20:43.300886",
     "status": "completed"
    },
    "tags": []
   },
   "outputs": [
    {
     "name": "stderr",
     "output_type": "stream",
     "text": [
      "\u001b[32m2024-08-05 23:20:43.353\u001b[0m | \u001b[1mINFO    \u001b[0m | \u001b[36m__main__\u001b[0m:\u001b[36m<module>\u001b[0m:\u001b[36m3\u001b[0m - \u001b[1m\n",
      "X train: (5205, 7)\n",
      "Y train: (5205,)\n",
      "X test: (1302, 7)\n",
      "Y test: (1302,)\u001b[0m\n"
     ]
    }
   ],
   "source": [
    "x_train, x_test, y_train, y_test = train_test_split(data.drop(TARGET_NAME, axis=1), data[TARGET_NAME], test_size=MODEL_PARAMS[\"TEST_SIZE\"], random_state=SEED)\n",
    "\n",
    "logger.info(f\"\\nX train: {x_train.shape}\\nY train: {y_train.shape}\\n\"\n",
    "            f\"X test: {x_test.shape}\\nY test: {y_test.shape}\")"
   ]
  },
  {
   "cell_type": "markdown",
   "id": "4b3f3779",
   "metadata": {
    "papermill": {
     "duration": 0.004264,
     "end_time": "2024-08-05T23:20:43.374466",
     "exception": false,
     "start_time": "2024-08-05T23:20:43.370202",
     "status": "completed"
    },
    "tags": []
   },
   "source": [
    "## Training\n"
   ]
  },
  {
   "cell_type": "code",
   "execution_count": 5,
   "id": "3c560318",
   "metadata": {
    "execution": {
     "iopub.execute_input": "2024-08-05T23:20:43.384845Z",
     "iopub.status.busy": "2024-08-05T23:20:43.384368Z",
     "iopub.status.idle": "2024-08-05T23:20:43.731593Z",
     "shell.execute_reply": "2024-08-05T23:20:43.727501Z"
    },
    "papermill": {
     "duration": 0.361362,
     "end_time": "2024-08-05T23:20:43.739546",
     "exception": false,
     "start_time": "2024-08-05T23:20:43.378184",
     "status": "completed"
    },
    "tags": []
   },
   "outputs": [],
   "source": [
    "df = x_train.copy()\n",
    "df[TARGET_NAME] = np.log(y_train)"
   ]
  },
  {
   "cell_type": "code",
   "execution_count": 6,
   "id": "cb52e522",
   "metadata": {
    "execution": {
     "iopub.execute_input": "2024-08-05T23:20:43.768705Z",
     "iopub.status.busy": "2024-08-05T23:20:43.768044Z",
     "iopub.status.idle": "2024-08-05T23:20:46.986891Z",
     "shell.execute_reply": "2024-08-05T23:20:46.981106Z"
    },
    "papermill": {
     "duration": 3.243315,
     "end_time": "2024-08-05T23:20:47.004361",
     "exception": false,
     "start_time": "2024-08-05T23:20:43.761046",
     "status": "completed"
    },
    "tags": []
   },
   "outputs": [
    {
     "data": {
      "text/html": [
       "<style type=\"text/css\">\n",
       "#T_27074_row9_col1 {\n",
       "  background-color: lightgreen;\n",
       "}\n",
       "</style>\n",
       "<table id=\"T_27074\">\n",
       "  <thead>\n",
       "    <tr>\n",
       "      <th class=\"blank level0\" >&nbsp;</th>\n",
       "      <th id=\"T_27074_level0_col0\" class=\"col_heading level0 col0\" >Description</th>\n",
       "      <th id=\"T_27074_level0_col1\" class=\"col_heading level0 col1\" >Value</th>\n",
       "    </tr>\n",
       "  </thead>\n",
       "  <tbody>\n",
       "    <tr>\n",
       "      <th id=\"T_27074_level0_row0\" class=\"row_heading level0 row0\" >0</th>\n",
       "      <td id=\"T_27074_row0_col0\" class=\"data row0 col0\" >Session id</td>\n",
       "      <td id=\"T_27074_row0_col1\" class=\"data row0 col1\" >3047</td>\n",
       "    </tr>\n",
       "    <tr>\n",
       "      <th id=\"T_27074_level0_row1\" class=\"row_heading level0 row1\" >1</th>\n",
       "      <td id=\"T_27074_row1_col0\" class=\"data row1 col0\" >Target</td>\n",
       "      <td id=\"T_27074_row1_col1\" class=\"data row1 col1\" >SiteEnergyUse(kBtu)</td>\n",
       "    </tr>\n",
       "    <tr>\n",
       "      <th id=\"T_27074_level0_row2\" class=\"row_heading level0 row2\" >2</th>\n",
       "      <td id=\"T_27074_row2_col0\" class=\"data row2 col0\" >Target type</td>\n",
       "      <td id=\"T_27074_row2_col1\" class=\"data row2 col1\" >Regression</td>\n",
       "    </tr>\n",
       "    <tr>\n",
       "      <th id=\"T_27074_level0_row3\" class=\"row_heading level0 row3\" >3</th>\n",
       "      <td id=\"T_27074_row3_col0\" class=\"data row3 col0\" >Original data shape</td>\n",
       "      <td id=\"T_27074_row3_col1\" class=\"data row3 col1\" >(5205, 8)</td>\n",
       "    </tr>\n",
       "    <tr>\n",
       "      <th id=\"T_27074_level0_row4\" class=\"row_heading level0 row4\" >4</th>\n",
       "      <td id=\"T_27074_row4_col0\" class=\"data row4 col0\" >Transformed data shape</td>\n",
       "      <td id=\"T_27074_row4_col1\" class=\"data row4 col1\" >(5205, 68)</td>\n",
       "    </tr>\n",
       "    <tr>\n",
       "      <th id=\"T_27074_level0_row5\" class=\"row_heading level0 row5\" >5</th>\n",
       "      <td id=\"T_27074_row5_col0\" class=\"data row5 col0\" >Transformed train set shape</td>\n",
       "      <td id=\"T_27074_row5_col1\" class=\"data row5 col1\" >(4164, 68)</td>\n",
       "    </tr>\n",
       "    <tr>\n",
       "      <th id=\"T_27074_level0_row6\" class=\"row_heading level0 row6\" >6</th>\n",
       "      <td id=\"T_27074_row6_col0\" class=\"data row6 col0\" >Transformed test set shape</td>\n",
       "      <td id=\"T_27074_row6_col1\" class=\"data row6 col1\" >(1041, 68)</td>\n",
       "    </tr>\n",
       "    <tr>\n",
       "      <th id=\"T_27074_level0_row7\" class=\"row_heading level0 row7\" >7</th>\n",
       "      <td id=\"T_27074_row7_col0\" class=\"data row7 col0\" >Numeric features</td>\n",
       "      <td id=\"T_27074_row7_col1\" class=\"data row7 col1\" >5</td>\n",
       "    </tr>\n",
       "    <tr>\n",
       "      <th id=\"T_27074_level0_row8\" class=\"row_heading level0 row8\" >8</th>\n",
       "      <td id=\"T_27074_row8_col0\" class=\"data row8 col0\" >Categorical features</td>\n",
       "      <td id=\"T_27074_row8_col1\" class=\"data row8 col1\" >2</td>\n",
       "    </tr>\n",
       "    <tr>\n",
       "      <th id=\"T_27074_level0_row9\" class=\"row_heading level0 row9\" >9</th>\n",
       "      <td id=\"T_27074_row9_col0\" class=\"data row9 col0\" >Preprocess</td>\n",
       "      <td id=\"T_27074_row9_col1\" class=\"data row9 col1\" >True</td>\n",
       "    </tr>\n",
       "    <tr>\n",
       "      <th id=\"T_27074_level0_row10\" class=\"row_heading level0 row10\" >10</th>\n",
       "      <td id=\"T_27074_row10_col0\" class=\"data row10 col0\" >Imputation type</td>\n",
       "      <td id=\"T_27074_row10_col1\" class=\"data row10 col1\" >simple</td>\n",
       "    </tr>\n",
       "    <tr>\n",
       "      <th id=\"T_27074_level0_row11\" class=\"row_heading level0 row11\" >11</th>\n",
       "      <td id=\"T_27074_row11_col0\" class=\"data row11 col0\" >Numeric imputation</td>\n",
       "      <td id=\"T_27074_row11_col1\" class=\"data row11 col1\" >mean</td>\n",
       "    </tr>\n",
       "    <tr>\n",
       "      <th id=\"T_27074_level0_row12\" class=\"row_heading level0 row12\" >12</th>\n",
       "      <td id=\"T_27074_row12_col0\" class=\"data row12 col0\" >Categorical imputation</td>\n",
       "      <td id=\"T_27074_row12_col1\" class=\"data row12 col1\" >mode</td>\n",
       "    </tr>\n",
       "    <tr>\n",
       "      <th id=\"T_27074_level0_row13\" class=\"row_heading level0 row13\" >13</th>\n",
       "      <td id=\"T_27074_row13_col0\" class=\"data row13 col0\" >Maximum one-hot encoding</td>\n",
       "      <td id=\"T_27074_row13_col1\" class=\"data row13 col1\" >200</td>\n",
       "    </tr>\n",
       "    <tr>\n",
       "      <th id=\"T_27074_level0_row14\" class=\"row_heading level0 row14\" >14</th>\n",
       "      <td id=\"T_27074_row14_col0\" class=\"data row14 col0\" >Encoding method</td>\n",
       "      <td id=\"T_27074_row14_col1\" class=\"data row14 col1\" >None</td>\n",
       "    </tr>\n",
       "    <tr>\n",
       "      <th id=\"T_27074_level0_row15\" class=\"row_heading level0 row15\" >15</th>\n",
       "      <td id=\"T_27074_row15_col0\" class=\"data row15 col0\" >Fold Generator</td>\n",
       "      <td id=\"T_27074_row15_col1\" class=\"data row15 col1\" >KFold</td>\n",
       "    </tr>\n",
       "    <tr>\n",
       "      <th id=\"T_27074_level0_row16\" class=\"row_heading level0 row16\" >16</th>\n",
       "      <td id=\"T_27074_row16_col0\" class=\"data row16 col0\" >Fold Number</td>\n",
       "      <td id=\"T_27074_row16_col1\" class=\"data row16 col1\" >10</td>\n",
       "    </tr>\n",
       "    <tr>\n",
       "      <th id=\"T_27074_level0_row17\" class=\"row_heading level0 row17\" >17</th>\n",
       "      <td id=\"T_27074_row17_col0\" class=\"data row17 col0\" >CPU Jobs</td>\n",
       "      <td id=\"T_27074_row17_col1\" class=\"data row17 col1\" >-1</td>\n",
       "    </tr>\n",
       "    <tr>\n",
       "      <th id=\"T_27074_level0_row18\" class=\"row_heading level0 row18\" >18</th>\n",
       "      <td id=\"T_27074_row18_col0\" class=\"data row18 col0\" >Use GPU</td>\n",
       "      <td id=\"T_27074_row18_col1\" class=\"data row18 col1\" >False</td>\n",
       "    </tr>\n",
       "    <tr>\n",
       "      <th id=\"T_27074_level0_row19\" class=\"row_heading level0 row19\" >19</th>\n",
       "      <td id=\"T_27074_row19_col0\" class=\"data row19 col0\" >Log Experiment</td>\n",
       "      <td id=\"T_27074_row19_col1\" class=\"data row19 col1\" >MlflowLogger</td>\n",
       "    </tr>\n",
       "    <tr>\n",
       "      <th id=\"T_27074_level0_row20\" class=\"row_heading level0 row20\" >20</th>\n",
       "      <td id=\"T_27074_row20_col0\" class=\"data row20 col0\" >Experiment Name</td>\n",
       "      <td id=\"T_27074_row20_col1\" class=\"data row20 col1\" >building-energy-prediction-training</td>\n",
       "    </tr>\n",
       "    <tr>\n",
       "      <th id=\"T_27074_level0_row21\" class=\"row_heading level0 row21\" >21</th>\n",
       "      <td id=\"T_27074_row21_col0\" class=\"data row21 col0\" >USI</td>\n",
       "      <td id=\"T_27074_row21_col1\" class=\"data row21 col1\" >dbdb</td>\n",
       "    </tr>\n",
       "  </tbody>\n",
       "</table>\n"
      ],
      "text/plain": [
       "<pandas.io.formats.style.Styler at 0x30a3af160>"
      ]
     },
     "metadata": {},
     "output_type": "display_data"
    }
   ],
   "source": [
    "exp_reg = regression.setup(df, target=TARGET_NAME, max_encoding_ohe=200, log_experiment=True, experiment_name=\"building-energy-prediction-training\", train_size=0.8)\n",
    "regression.set_config('seed', SEED)\n",
    "\n",
    "# Removing useless metrics improve training speed\n",
    "regression.remove_metric('MAPE')\n",
    "regression.remove_metric('MSE')\n",
    "regression.remove_metric('RMSLE')"
   ]
  },
  {
   "cell_type": "code",
   "execution_count": 7,
   "id": "3e112579",
   "metadata": {
    "execution": {
     "iopub.execute_input": "2024-08-05T23:20:47.026331Z",
     "iopub.status.busy": "2024-08-05T23:20:47.025907Z",
     "iopub.status.idle": "2024-08-05T23:21:52.077488Z",
     "shell.execute_reply": "2024-08-05T23:21:52.077065Z"
    },
    "papermill": {
     "duration": 65.063153,
     "end_time": "2024-08-05T23:21:52.079434",
     "exception": false,
     "start_time": "2024-08-05T23:20:47.016281",
     "status": "completed"
    },
    "tags": []
   },
   "outputs": [
    {
     "data": {
      "text/html": [],
      "text/plain": [
       "<IPython.core.display.HTML object>"
      ]
     },
     "metadata": {},
     "output_type": "display_data"
    },
    {
     "data": {
      "text/html": [
       "<style type=\"text/css\">\n",
       "#T_a00c0 th {\n",
       "  text-align: left;\n",
       "}\n",
       "#T_a00c0_row0_col0, #T_a00c0_row1_col0, #T_a00c0_row1_col1, #T_a00c0_row1_col2, #T_a00c0_row1_col3, #T_a00c0_row2_col0, #T_a00c0_row2_col1, #T_a00c0_row2_col2, #T_a00c0_row2_col3, #T_a00c0_row3_col0, #T_a00c0_row3_col1, #T_a00c0_row3_col2, #T_a00c0_row3_col3, #T_a00c0_row4_col0, #T_a00c0_row4_col1, #T_a00c0_row4_col2, #T_a00c0_row4_col3, #T_a00c0_row5_col0, #T_a00c0_row5_col1, #T_a00c0_row5_col2, #T_a00c0_row5_col3, #T_a00c0_row6_col0, #T_a00c0_row6_col1, #T_a00c0_row6_col2, #T_a00c0_row6_col3, #T_a00c0_row7_col0, #T_a00c0_row7_col1, #T_a00c0_row7_col2, #T_a00c0_row7_col3, #T_a00c0_row8_col0, #T_a00c0_row8_col1, #T_a00c0_row8_col2, #T_a00c0_row8_col3, #T_a00c0_row9_col0, #T_a00c0_row9_col1, #T_a00c0_row9_col2, #T_a00c0_row9_col3, #T_a00c0_row10_col0, #T_a00c0_row10_col1, #T_a00c0_row10_col2, #T_a00c0_row10_col3, #T_a00c0_row11_col0, #T_a00c0_row11_col1, #T_a00c0_row11_col2, #T_a00c0_row11_col3, #T_a00c0_row12_col0, #T_a00c0_row12_col1, #T_a00c0_row12_col2, #T_a00c0_row12_col3, #T_a00c0_row13_col0, #T_a00c0_row13_col1, #T_a00c0_row13_col2, #T_a00c0_row13_col3, #T_a00c0_row14_col0, #T_a00c0_row14_col1, #T_a00c0_row14_col2, #T_a00c0_row14_col3, #T_a00c0_row15_col0, #T_a00c0_row15_col1, #T_a00c0_row15_col2, #T_a00c0_row15_col3, #T_a00c0_row16_col0, #T_a00c0_row16_col1, #T_a00c0_row16_col2, #T_a00c0_row16_col3, #T_a00c0_row17_col0, #T_a00c0_row17_col1, #T_a00c0_row17_col2, #T_a00c0_row17_col3, #T_a00c0_row18_col0, #T_a00c0_row18_col1, #T_a00c0_row18_col2, #T_a00c0_row18_col3 {\n",
       "  text-align: left;\n",
       "}\n",
       "#T_a00c0_row0_col1, #T_a00c0_row0_col2, #T_a00c0_row0_col3 {\n",
       "  text-align: left;\n",
       "  background-color: yellow;\n",
       "}\n",
       "#T_a00c0_row0_col4, #T_a00c0_row1_col4, #T_a00c0_row2_col4, #T_a00c0_row3_col4, #T_a00c0_row4_col4, #T_a00c0_row5_col4, #T_a00c0_row6_col4, #T_a00c0_row7_col4, #T_a00c0_row8_col4, #T_a00c0_row9_col4, #T_a00c0_row10_col4, #T_a00c0_row11_col4, #T_a00c0_row12_col4, #T_a00c0_row13_col4, #T_a00c0_row14_col4, #T_a00c0_row16_col4, #T_a00c0_row17_col4, #T_a00c0_row18_col4 {\n",
       "  text-align: left;\n",
       "  background-color: lightgrey;\n",
       "}\n",
       "#T_a00c0_row15_col4 {\n",
       "  text-align: left;\n",
       "  background-color: yellow;\n",
       "  background-color: lightgrey;\n",
       "}\n",
       "</style>\n",
       "<table id=\"T_a00c0\">\n",
       "  <thead>\n",
       "    <tr>\n",
       "      <th class=\"blank level0\" >&nbsp;</th>\n",
       "      <th id=\"T_a00c0_level0_col0\" class=\"col_heading level0 col0\" >Model</th>\n",
       "      <th id=\"T_a00c0_level0_col1\" class=\"col_heading level0 col1\" >MAE</th>\n",
       "      <th id=\"T_a00c0_level0_col2\" class=\"col_heading level0 col2\" >RMSE</th>\n",
       "      <th id=\"T_a00c0_level0_col3\" class=\"col_heading level0 col3\" >R2</th>\n",
       "      <th id=\"T_a00c0_level0_col4\" class=\"col_heading level0 col4\" >TT (Sec)</th>\n",
       "    </tr>\n",
       "  </thead>\n",
       "  <tbody>\n",
       "    <tr>\n",
       "      <th id=\"T_a00c0_level0_row0\" class=\"row_heading level0 row0\" >et</th>\n",
       "      <td id=\"T_a00c0_row0_col0\" class=\"data row0 col0\" >Extra Trees Regressor</td>\n",
       "      <td id=\"T_a00c0_row0_col1\" class=\"data row0 col1\" >0.2415</td>\n",
       "      <td id=\"T_a00c0_row0_col2\" class=\"data row0 col2\" >0.4365</td>\n",
       "      <td id=\"T_a00c0_row0_col3\" class=\"data row0 col3\" >0.8335</td>\n",
       "      <td id=\"T_a00c0_row0_col4\" class=\"data row0 col4\" >0.7220</td>\n",
       "    </tr>\n",
       "    <tr>\n",
       "      <th id=\"T_a00c0_level0_row1\" class=\"row_heading level0 row1\" >rf</th>\n",
       "      <td id=\"T_a00c0_row1_col0\" class=\"data row1 col0\" >Random Forest Regressor</td>\n",
       "      <td id=\"T_a00c0_row1_col1\" class=\"data row1 col1\" >0.2795</td>\n",
       "      <td id=\"T_a00c0_row1_col2\" class=\"data row1 col2\" >0.4419</td>\n",
       "      <td id=\"T_a00c0_row1_col3\" class=\"data row1 col3\" >0.8299</td>\n",
       "      <td id=\"T_a00c0_row1_col4\" class=\"data row1 col4\" >0.7540</td>\n",
       "    </tr>\n",
       "    <tr>\n",
       "      <th id=\"T_a00c0_level0_row2\" class=\"row_heading level0 row2\" >xgboost</th>\n",
       "      <td id=\"T_a00c0_row2_col0\" class=\"data row2 col0\" >Extreme Gradient Boosting</td>\n",
       "      <td id=\"T_a00c0_row2_col1\" class=\"data row2 col1\" >0.3158</td>\n",
       "      <td id=\"T_a00c0_row2_col2\" class=\"data row2 col2\" >0.4596</td>\n",
       "      <td id=\"T_a00c0_row2_col3\" class=\"data row2 col3\" >0.8167</td>\n",
       "      <td id=\"T_a00c0_row2_col4\" class=\"data row2 col4\" >0.5810</td>\n",
       "    </tr>\n",
       "    <tr>\n",
       "      <th id=\"T_a00c0_level0_row3\" class=\"row_heading level0 row3\" >lightgbm</th>\n",
       "      <td id=\"T_a00c0_row3_col0\" class=\"data row3 col0\" >Light Gradient Boosting Machine</td>\n",
       "      <td id=\"T_a00c0_row3_col1\" class=\"data row3 col1\" >0.3464</td>\n",
       "      <td id=\"T_a00c0_row3_col2\" class=\"data row3 col2\" >0.4922</td>\n",
       "      <td id=\"T_a00c0_row3_col3\" class=\"data row3 col3\" >0.7898</td>\n",
       "      <td id=\"T_a00c0_row3_col4\" class=\"data row3 col4\" >0.4720</td>\n",
       "    </tr>\n",
       "    <tr>\n",
       "      <th id=\"T_a00c0_level0_row4\" class=\"row_heading level0 row4\" >gbr</th>\n",
       "      <td id=\"T_a00c0_row4_col0\" class=\"data row4 col0\" >Gradient Boosting Regressor</td>\n",
       "      <td id=\"T_a00c0_row4_col1\" class=\"data row4 col1\" >0.3714</td>\n",
       "      <td id=\"T_a00c0_row4_col2\" class=\"data row4 col2\" >0.5123</td>\n",
       "      <td id=\"T_a00c0_row4_col3\" class=\"data row4 col3\" >0.7724</td>\n",
       "      <td id=\"T_a00c0_row4_col4\" class=\"data row4 col4\" >0.3330</td>\n",
       "    </tr>\n",
       "    <tr>\n",
       "      <th id=\"T_a00c0_level0_row5\" class=\"row_heading level0 row5\" >dt</th>\n",
       "      <td id=\"T_a00c0_row5_col0\" class=\"data row5 col0\" >Decision Tree Regressor</td>\n",
       "      <td id=\"T_a00c0_row5_col1\" class=\"data row5 col1\" >0.2986</td>\n",
       "      <td id=\"T_a00c0_row5_col2\" class=\"data row5 col2\" >0.5488</td>\n",
       "      <td id=\"T_a00c0_row5_col3\" class=\"data row5 col3\" >0.7353</td>\n",
       "      <td id=\"T_a00c0_row5_col4\" class=\"data row5 col4\" >0.1060</td>\n",
       "    </tr>\n",
       "    <tr>\n",
       "      <th id=\"T_a00c0_level0_row6\" class=\"row_heading level0 row6\" >ada</th>\n",
       "      <td id=\"T_a00c0_row6_col0\" class=\"data row6 col0\" >AdaBoost Regressor</td>\n",
       "      <td id=\"T_a00c0_row6_col1\" class=\"data row6 col1\" >0.5104</td>\n",
       "      <td id=\"T_a00c0_row6_col2\" class=\"data row6 col2\" >0.6682</td>\n",
       "      <td id=\"T_a00c0_row6_col3\" class=\"data row6 col3\" >0.6134</td>\n",
       "      <td id=\"T_a00c0_row6_col4\" class=\"data row6 col4\" >0.1970</td>\n",
       "    </tr>\n",
       "    <tr>\n",
       "      <th id=\"T_a00c0_level0_row7\" class=\"row_heading level0 row7\" >ridge</th>\n",
       "      <td id=\"T_a00c0_row7_col0\" class=\"data row7 col0\" >Ridge Regression</td>\n",
       "      <td id=\"T_a00c0_row7_col1\" class=\"data row7 col1\" >0.5090</td>\n",
       "      <td id=\"T_a00c0_row7_col2\" class=\"data row7 col2\" >0.6746</td>\n",
       "      <td id=\"T_a00c0_row7_col3\" class=\"data row7 col3\" >0.6065</td>\n",
       "      <td id=\"T_a00c0_row7_col4\" class=\"data row7 col4\" >0.0400</td>\n",
       "    </tr>\n",
       "    <tr>\n",
       "      <th id=\"T_a00c0_level0_row8\" class=\"row_heading level0 row8\" >br</th>\n",
       "      <td id=\"T_a00c0_row8_col0\" class=\"data row8 col0\" >Bayesian Ridge</td>\n",
       "      <td id=\"T_a00c0_row8_col1\" class=\"data row8 col1\" >0.5091</td>\n",
       "      <td id=\"T_a00c0_row8_col2\" class=\"data row8 col2\" >0.6748</td>\n",
       "      <td id=\"T_a00c0_row8_col3\" class=\"data row8 col3\" >0.6063</td>\n",
       "      <td id=\"T_a00c0_row8_col4\" class=\"data row8 col4\" >0.0930</td>\n",
       "    </tr>\n",
       "    <tr>\n",
       "      <th id=\"T_a00c0_level0_row9\" class=\"row_heading level0 row9\" >lr</th>\n",
       "      <td id=\"T_a00c0_row9_col0\" class=\"data row9 col0\" >Linear Regression</td>\n",
       "      <td id=\"T_a00c0_row9_col1\" class=\"data row9 col1\" >0.5094</td>\n",
       "      <td id=\"T_a00c0_row9_col2\" class=\"data row9 col2\" >0.6761</td>\n",
       "      <td id=\"T_a00c0_row9_col3\" class=\"data row9 col3\" >0.6048</td>\n",
       "      <td id=\"T_a00c0_row9_col4\" class=\"data row9 col4\" >1.2700</td>\n",
       "    </tr>\n",
       "    <tr>\n",
       "      <th id=\"T_a00c0_level0_row10\" class=\"row_heading level0 row10\" >knn</th>\n",
       "      <td id=\"T_a00c0_row10_col0\" class=\"data row10 col0\" >K Neighbors Regressor</td>\n",
       "      <td id=\"T_a00c0_row10_col1\" class=\"data row10 col1\" >0.5077</td>\n",
       "      <td id=\"T_a00c0_row10_col2\" class=\"data row10 col2\" >0.6773</td>\n",
       "      <td id=\"T_a00c0_row10_col3\" class=\"data row10 col3\" >0.6021</td>\n",
       "      <td id=\"T_a00c0_row10_col4\" class=\"data row10 col4\" >0.0800</td>\n",
       "    </tr>\n",
       "    <tr>\n",
       "      <th id=\"T_a00c0_level0_row11\" class=\"row_heading level0 row11\" >omp</th>\n",
       "      <td id=\"T_a00c0_row11_col0\" class=\"data row11 col0\" >Orthogonal Matching Pursuit</td>\n",
       "      <td id=\"T_a00c0_row11_col1\" class=\"data row11 col1\" >0.5562</td>\n",
       "      <td id=\"T_a00c0_row11_col2\" class=\"data row11 col2\" >0.7457</td>\n",
       "      <td id=\"T_a00c0_row11_col3\" class=\"data row11 col3\" >0.5191</td>\n",
       "      <td id=\"T_a00c0_row11_col4\" class=\"data row11 col4\" >0.0950</td>\n",
       "    </tr>\n",
       "    <tr>\n",
       "      <th id=\"T_a00c0_level0_row12\" class=\"row_heading level0 row12\" >lasso</th>\n",
       "      <td id=\"T_a00c0_row12_col0\" class=\"data row12 col0\" >Lasso Regression</td>\n",
       "      <td id=\"T_a00c0_row12_col1\" class=\"data row12 col1\" >0.6318</td>\n",
       "      <td id=\"T_a00c0_row12_col2\" class=\"data row12 col2\" >0.8297</td>\n",
       "      <td id=\"T_a00c0_row12_col3\" class=\"data row12 col3\" >0.4052</td>\n",
       "      <td id=\"T_a00c0_row12_col4\" class=\"data row12 col4\" >0.0670</td>\n",
       "    </tr>\n",
       "    <tr>\n",
       "      <th id=\"T_a00c0_level0_row13\" class=\"row_heading level0 row13\" >en</th>\n",
       "      <td id=\"T_a00c0_row13_col0\" class=\"data row13 col0\" >Elastic Net</td>\n",
       "      <td id=\"T_a00c0_row13_col1\" class=\"data row13 col1\" >0.6318</td>\n",
       "      <td id=\"T_a00c0_row13_col2\" class=\"data row13 col2\" >0.8297</td>\n",
       "      <td id=\"T_a00c0_row13_col3\" class=\"data row13 col3\" >0.4052</td>\n",
       "      <td id=\"T_a00c0_row13_col4\" class=\"data row13 col4\" >0.0320</td>\n",
       "    </tr>\n",
       "    <tr>\n",
       "      <th id=\"T_a00c0_level0_row14\" class=\"row_heading level0 row14\" >llar</th>\n",
       "      <td id=\"T_a00c0_row14_col0\" class=\"data row14 col0\" >Lasso Least Angle Regression</td>\n",
       "      <td id=\"T_a00c0_row14_col1\" class=\"data row14 col1\" >0.6318</td>\n",
       "      <td id=\"T_a00c0_row14_col2\" class=\"data row14 col2\" >0.8297</td>\n",
       "      <td id=\"T_a00c0_row14_col3\" class=\"data row14 col3\" >0.4052</td>\n",
       "      <td id=\"T_a00c0_row14_col4\" class=\"data row14 col4\" >0.0440</td>\n",
       "    </tr>\n",
       "    <tr>\n",
       "      <th id=\"T_a00c0_level0_row15\" class=\"row_heading level0 row15\" >dummy</th>\n",
       "      <td id=\"T_a00c0_row15_col0\" class=\"data row15 col0\" >Dummy Regressor</td>\n",
       "      <td id=\"T_a00c0_row15_col1\" class=\"data row15 col1\" >0.8592</td>\n",
       "      <td id=\"T_a00c0_row15_col2\" class=\"data row15 col2\" >1.0782</td>\n",
       "      <td id=\"T_a00c0_row15_col3\" class=\"data row15 col3\" >-0.0021</td>\n",
       "      <td id=\"T_a00c0_row15_col4\" class=\"data row15 col4\" >0.0280</td>\n",
       "    </tr>\n",
       "    <tr>\n",
       "      <th id=\"T_a00c0_level0_row16\" class=\"row_heading level0 row16\" >huber</th>\n",
       "      <td id=\"T_a00c0_row16_col0\" class=\"data row16 col0\" >Huber Regressor</td>\n",
       "      <td id=\"T_a00c0_row16_col1\" class=\"data row16 col1\" >9.0048</td>\n",
       "      <td id=\"T_a00c0_row16_col2\" class=\"data row16 col2\" >13.1548</td>\n",
       "      <td id=\"T_a00c0_row16_col3\" class=\"data row16 col3\" >-152.0000</td>\n",
       "      <td id=\"T_a00c0_row16_col4\" class=\"data row16 col4\" >0.0780</td>\n",
       "    </tr>\n",
       "    <tr>\n",
       "      <th id=\"T_a00c0_level0_row17\" class=\"row_heading level0 row17\" >par</th>\n",
       "      <td id=\"T_a00c0_row17_col0\" class=\"data row17 col0\" >Passive Aggressive Regressor</td>\n",
       "      <td id=\"T_a00c0_row17_col1\" class=\"data row17 col1\" >11.4809</td>\n",
       "      <td id=\"T_a00c0_row17_col2\" class=\"data row17 col2\" >17.3735</td>\n",
       "      <td id=\"T_a00c0_row17_col3\" class=\"data row17 col3\" >-300.3642</td>\n",
       "      <td id=\"T_a00c0_row17_col4\" class=\"data row17 col4\" >0.0400</td>\n",
       "    </tr>\n",
       "    <tr>\n",
       "      <th id=\"T_a00c0_level0_row18\" class=\"row_heading level0 row18\" >lar</th>\n",
       "      <td id=\"T_a00c0_row18_col0\" class=\"data row18 col0\" >Least Angle Regression</td>\n",
       "      <td id=\"T_a00c0_row18_col1\" class=\"data row18 col1\" >19381768713077024.0000</td>\n",
       "      <td id=\"T_a00c0_row18_col2\" class=\"data row18 col2\" >272371410297826464.0000</td>\n",
       "      <td id=\"T_a00c0_row18_col3\" class=\"data row18 col3\" >-530946418087038807185093725540843520.0000</td>\n",
       "      <td id=\"T_a00c0_row18_col4\" class=\"data row18 col4\" >0.0320</td>\n",
       "    </tr>\n",
       "  </tbody>\n",
       "</table>\n"
      ],
      "text/plain": [
       "<pandas.io.formats.style.Styler at 0x30a6adbd0>"
      ]
     },
     "metadata": {},
     "output_type": "display_data"
    },
    {
     "data": {
      "text/html": [],
      "text/plain": [
       "<IPython.core.display.HTML object>"
      ]
     },
     "metadata": {},
     "output_type": "display_data"
    },
    {
     "name": "stderr",
     "output_type": "stream",
     "text": [
      "2024/08/05 23:21:44 WARNING mlflow.models.model: Input example should be provided to infer model signature if the model signature is not provided when logging the model.\n"
     ]
    },
    {
     "name": "stderr",
     "output_type": "stream",
     "text": [
      "2024/08/05 23:21:44 INFO mlflow.tracking._tracking_service.client: 🏃 View run Extra Trees Regressor at: http://localhost:8080/#/experiments/584040955558151400/runs/202880323b8d42e7ae13fc78551c7c71.\n"
     ]
    },
    {
     "name": "stderr",
     "output_type": "stream",
     "text": [
      "2024/08/05 23:21:44 INFO mlflow.tracking._tracking_service.client: 🧪 View experiment at: http://localhost:8080/#/experiments/584040955558151400.\n"
     ]
    },
    {
     "name": "stderr",
     "output_type": "stream",
     "text": [
      "2024/08/05 23:21:46 WARNING mlflow.models.model: Input example should be provided to infer model signature if the model signature is not provided when logging the model.\n"
     ]
    },
    {
     "name": "stderr",
     "output_type": "stream",
     "text": [
      "2024/08/05 23:21:46 INFO mlflow.tracking._tracking_service.client: 🏃 View run Random Forest Regressor at: http://localhost:8080/#/experiments/584040955558151400/runs/66aa61f322304eca8017dd98bcfd54e8.\n"
     ]
    },
    {
     "name": "stderr",
     "output_type": "stream",
     "text": [
      "2024/08/05 23:21:46 INFO mlflow.tracking._tracking_service.client: 🧪 View experiment at: http://localhost:8080/#/experiments/584040955558151400.\n"
     ]
    },
    {
     "name": "stderr",
     "output_type": "stream",
     "text": [
      "2024/08/05 23:21:47 WARNING mlflow.models.model: Input example should be provided to infer model signature if the model signature is not provided when logging the model.\n"
     ]
    },
    {
     "name": "stderr",
     "output_type": "stream",
     "text": [
      "2024/08/05 23:21:47 INFO mlflow.tracking._tracking_service.client: 🏃 View run Extreme Gradient Boosting at: http://localhost:8080/#/experiments/584040955558151400/runs/1fed2e215c544f4ea55ed8d1935706ea.\n"
     ]
    },
    {
     "name": "stderr",
     "output_type": "stream",
     "text": [
      "2024/08/05 23:21:47 INFO mlflow.tracking._tracking_service.client: 🧪 View experiment at: http://localhost:8080/#/experiments/584040955558151400.\n"
     ]
    },
    {
     "name": "stderr",
     "output_type": "stream",
     "text": [
      "2024/08/05 23:21:48 WARNING mlflow.models.model: Input example should be provided to infer model signature if the model signature is not provided when logging the model.\n"
     ]
    },
    {
     "name": "stderr",
     "output_type": "stream",
     "text": [
      "2024/08/05 23:21:48 INFO mlflow.tracking._tracking_service.client: 🏃 View run Light Gradient Boosting Machine at: http://localhost:8080/#/experiments/584040955558151400/runs/4d20d309937844bb82438c84d27edb12.\n"
     ]
    },
    {
     "name": "stderr",
     "output_type": "stream",
     "text": [
      "2024/08/05 23:21:48 INFO mlflow.tracking._tracking_service.client: 🧪 View experiment at: http://localhost:8080/#/experiments/584040955558151400.\n"
     ]
    },
    {
     "name": "stderr",
     "output_type": "stream",
     "text": [
      "2024/08/05 23:21:48 WARNING mlflow.models.model: Input example should be provided to infer model signature if the model signature is not provided when logging the model.\n"
     ]
    },
    {
     "name": "stderr",
     "output_type": "stream",
     "text": [
      "2024/08/05 23:21:48 INFO mlflow.tracking._tracking_service.client: 🏃 View run Gradient Boosting Regressor at: http://localhost:8080/#/experiments/584040955558151400/runs/be06f7dfee5e43c0a2c7d8c7c0d2e5c3.\n"
     ]
    },
    {
     "name": "stderr",
     "output_type": "stream",
     "text": [
      "2024/08/05 23:21:48 INFO mlflow.tracking._tracking_service.client: 🧪 View experiment at: http://localhost:8080/#/experiments/584040955558151400.\n"
     ]
    },
    {
     "name": "stderr",
     "output_type": "stream",
     "text": [
      "2024/08/05 23:21:48 WARNING mlflow.models.model: Input example should be provided to infer model signature if the model signature is not provided when logging the model.\n"
     ]
    },
    {
     "name": "stderr",
     "output_type": "stream",
     "text": [
      "2024/08/05 23:21:48 INFO mlflow.tracking._tracking_service.client: 🏃 View run Decision Tree Regressor at: http://localhost:8080/#/experiments/584040955558151400/runs/c356d8d2db5c419f887e51328257a376.\n"
     ]
    },
    {
     "name": "stderr",
     "output_type": "stream",
     "text": [
      "2024/08/05 23:21:48 INFO mlflow.tracking._tracking_service.client: 🧪 View experiment at: http://localhost:8080/#/experiments/584040955558151400.\n"
     ]
    },
    {
     "name": "stderr",
     "output_type": "stream",
     "text": [
      "2024/08/05 23:21:48 WARNING mlflow.models.model: Input example should be provided to infer model signature if the model signature is not provided when logging the model.\n"
     ]
    },
    {
     "name": "stderr",
     "output_type": "stream",
     "text": [
      "2024/08/05 23:21:48 INFO mlflow.tracking._tracking_service.client: 🏃 View run AdaBoost Regressor at: http://localhost:8080/#/experiments/584040955558151400/runs/7024bf7f6caf4febb31d48a6d3ad9d20.\n"
     ]
    },
    {
     "name": "stderr",
     "output_type": "stream",
     "text": [
      "2024/08/05 23:21:48 INFO mlflow.tracking._tracking_service.client: 🧪 View experiment at: http://localhost:8080/#/experiments/584040955558151400.\n"
     ]
    },
    {
     "name": "stderr",
     "output_type": "stream",
     "text": [
      "2024/08/05 23:21:49 WARNING mlflow.models.model: Input example should be provided to infer model signature if the model signature is not provided when logging the model.\n"
     ]
    },
    {
     "name": "stderr",
     "output_type": "stream",
     "text": [
      "2024/08/05 23:21:49 INFO mlflow.tracking._tracking_service.client: 🏃 View run Ridge Regression at: http://localhost:8080/#/experiments/584040955558151400/runs/57d6f9f8d19a413b807a183008b16b38.\n"
     ]
    },
    {
     "name": "stderr",
     "output_type": "stream",
     "text": [
      "2024/08/05 23:21:49 INFO mlflow.tracking._tracking_service.client: 🧪 View experiment at: http://localhost:8080/#/experiments/584040955558151400.\n"
     ]
    },
    {
     "name": "stderr",
     "output_type": "stream",
     "text": [
      "2024/08/05 23:21:49 WARNING mlflow.models.model: Input example should be provided to infer model signature if the model signature is not provided when logging the model.\n"
     ]
    },
    {
     "name": "stderr",
     "output_type": "stream",
     "text": [
      "2024/08/05 23:21:49 INFO mlflow.tracking._tracking_service.client: 🏃 View run Bayesian Ridge at: http://localhost:8080/#/experiments/584040955558151400/runs/8f442110716641bd8b3c9f8f6b3fc57b.\n"
     ]
    },
    {
     "name": "stderr",
     "output_type": "stream",
     "text": [
      "2024/08/05 23:21:49 INFO mlflow.tracking._tracking_service.client: 🧪 View experiment at: http://localhost:8080/#/experiments/584040955558151400.\n"
     ]
    },
    {
     "name": "stderr",
     "output_type": "stream",
     "text": [
      "2024/08/05 23:21:49 WARNING mlflow.models.model: Input example should be provided to infer model signature if the model signature is not provided when logging the model.\n"
     ]
    },
    {
     "name": "stderr",
     "output_type": "stream",
     "text": [
      "2024/08/05 23:21:49 INFO mlflow.tracking._tracking_service.client: 🏃 View run Linear Regression at: http://localhost:8080/#/experiments/584040955558151400/runs/121a62b2f9c54404aefcb1c6f6aa9f70.\n"
     ]
    },
    {
     "name": "stderr",
     "output_type": "stream",
     "text": [
      "2024/08/05 23:21:49 INFO mlflow.tracking._tracking_service.client: 🧪 View experiment at: http://localhost:8080/#/experiments/584040955558151400.\n"
     ]
    },
    {
     "name": "stderr",
     "output_type": "stream",
     "text": [
      "2024/08/05 23:21:49 WARNING mlflow.models.model: Input example should be provided to infer model signature if the model signature is not provided when logging the model.\n"
     ]
    },
    {
     "name": "stderr",
     "output_type": "stream",
     "text": [
      "2024/08/05 23:21:49 INFO mlflow.tracking._tracking_service.client: 🏃 View run K Neighbors Regressor at: http://localhost:8080/#/experiments/584040955558151400/runs/f8b71da920564a51b5dbf1af65578f97.\n"
     ]
    },
    {
     "name": "stderr",
     "output_type": "stream",
     "text": [
      "2024/08/05 23:21:49 INFO mlflow.tracking._tracking_service.client: 🧪 View experiment at: http://localhost:8080/#/experiments/584040955558151400.\n"
     ]
    },
    {
     "name": "stderr",
     "output_type": "stream",
     "text": [
      "2024/08/05 23:21:50 WARNING mlflow.models.model: Input example should be provided to infer model signature if the model signature is not provided when logging the model.\n"
     ]
    },
    {
     "name": "stderr",
     "output_type": "stream",
     "text": [
      "2024/08/05 23:21:50 INFO mlflow.tracking._tracking_service.client: 🏃 View run Orthogonal Matching Pursuit at: http://localhost:8080/#/experiments/584040955558151400/runs/1cf55b3d2c1242b9bcac43459ab48690.\n"
     ]
    },
    {
     "name": "stderr",
     "output_type": "stream",
     "text": [
      "2024/08/05 23:21:50 INFO mlflow.tracking._tracking_service.client: 🧪 View experiment at: http://localhost:8080/#/experiments/584040955558151400.\n"
     ]
    },
    {
     "name": "stderr",
     "output_type": "stream",
     "text": [
      "2024/08/05 23:21:50 WARNING mlflow.models.model: Input example should be provided to infer model signature if the model signature is not provided when logging the model.\n"
     ]
    },
    {
     "name": "stderr",
     "output_type": "stream",
     "text": [
      "2024/08/05 23:21:50 INFO mlflow.tracking._tracking_service.client: 🏃 View run Lasso Regression at: http://localhost:8080/#/experiments/584040955558151400/runs/7672e1ac810d47c18d83e48979b4b299.\n"
     ]
    },
    {
     "name": "stderr",
     "output_type": "stream",
     "text": [
      "2024/08/05 23:21:50 INFO mlflow.tracking._tracking_service.client: 🧪 View experiment at: http://localhost:8080/#/experiments/584040955558151400.\n"
     ]
    },
    {
     "name": "stderr",
     "output_type": "stream",
     "text": [
      "2024/08/05 23:21:50 WARNING mlflow.models.model: Input example should be provided to infer model signature if the model signature is not provided when logging the model.\n"
     ]
    },
    {
     "name": "stderr",
     "output_type": "stream",
     "text": [
      "2024/08/05 23:21:50 INFO mlflow.tracking._tracking_service.client: 🏃 View run Elastic Net at: http://localhost:8080/#/experiments/584040955558151400/runs/ea93b08ecff547e896354c33f694fe03.\n"
     ]
    },
    {
     "name": "stderr",
     "output_type": "stream",
     "text": [
      "2024/08/05 23:21:50 INFO mlflow.tracking._tracking_service.client: 🧪 View experiment at: http://localhost:8080/#/experiments/584040955558151400.\n"
     ]
    },
    {
     "name": "stderr",
     "output_type": "stream",
     "text": [
      "2024/08/05 23:21:50 WARNING mlflow.models.model: Input example should be provided to infer model signature if the model signature is not provided when logging the model.\n"
     ]
    },
    {
     "name": "stderr",
     "output_type": "stream",
     "text": [
      "2024/08/05 23:21:51 INFO mlflow.tracking._tracking_service.client: 🏃 View run Lasso Least Angle Regression at: http://localhost:8080/#/experiments/584040955558151400/runs/cad3f11f4f4e45a4beb0df1c7694083e.\n"
     ]
    },
    {
     "name": "stderr",
     "output_type": "stream",
     "text": [
      "2024/08/05 23:21:51 INFO mlflow.tracking._tracking_service.client: 🧪 View experiment at: http://localhost:8080/#/experiments/584040955558151400.\n"
     ]
    },
    {
     "name": "stderr",
     "output_type": "stream",
     "text": [
      "2024/08/05 23:21:51 WARNING mlflow.models.model: Input example should be provided to infer model signature if the model signature is not provided when logging the model.\n"
     ]
    },
    {
     "name": "stderr",
     "output_type": "stream",
     "text": [
      "2024/08/05 23:21:51 INFO mlflow.tracking._tracking_service.client: 🏃 View run Dummy Regressor at: http://localhost:8080/#/experiments/584040955558151400/runs/65a8ae3118644edf8f3c04f6cb00f301.\n"
     ]
    },
    {
     "name": "stderr",
     "output_type": "stream",
     "text": [
      "2024/08/05 23:21:51 INFO mlflow.tracking._tracking_service.client: 🧪 View experiment at: http://localhost:8080/#/experiments/584040955558151400.\n"
     ]
    },
    {
     "name": "stderr",
     "output_type": "stream",
     "text": [
      "2024/08/05 23:21:51 WARNING mlflow.models.model: Input example should be provided to infer model signature if the model signature is not provided when logging the model.\n"
     ]
    },
    {
     "name": "stderr",
     "output_type": "stream",
     "text": [
      "2024/08/05 23:21:51 INFO mlflow.tracking._tracking_service.client: 🏃 View run Huber Regressor at: http://localhost:8080/#/experiments/584040955558151400/runs/3128de44900e4195bfaf36d7573d4953.\n"
     ]
    },
    {
     "name": "stderr",
     "output_type": "stream",
     "text": [
      "2024/08/05 23:21:51 INFO mlflow.tracking._tracking_service.client: 🧪 View experiment at: http://localhost:8080/#/experiments/584040955558151400.\n"
     ]
    },
    {
     "name": "stderr",
     "output_type": "stream",
     "text": [
      "2024/08/05 23:21:51 WARNING mlflow.models.model: Input example should be provided to infer model signature if the model signature is not provided when logging the model.\n"
     ]
    },
    {
     "name": "stderr",
     "output_type": "stream",
     "text": [
      "2024/08/05 23:21:51 INFO mlflow.tracking._tracking_service.client: 🏃 View run Passive Aggressive Regressor at: http://localhost:8080/#/experiments/584040955558151400/runs/e51abb5e4cb3403f88c2e0b5d5266956.\n"
     ]
    },
    {
     "name": "stderr",
     "output_type": "stream",
     "text": [
      "2024/08/05 23:21:51 INFO mlflow.tracking._tracking_service.client: 🧪 View experiment at: http://localhost:8080/#/experiments/584040955558151400.\n"
     ]
    },
    {
     "name": "stderr",
     "output_type": "stream",
     "text": [
      "2024/08/05 23:21:51 WARNING mlflow.models.model: Input example should be provided to infer model signature if the model signature is not provided when logging the model.\n"
     ]
    },
    {
     "name": "stderr",
     "output_type": "stream",
     "text": [
      "2024/08/05 23:21:51 INFO mlflow.tracking._tracking_service.client: 🏃 View run Least Angle Regression at: http://localhost:8080/#/experiments/584040955558151400/runs/57ce23d9a4d4448c8daf91902910bf5b.\n"
     ]
    },
    {
     "name": "stderr",
     "output_type": "stream",
     "text": [
      "2024/08/05 23:21:51 INFO mlflow.tracking._tracking_service.client: 🧪 View experiment at: http://localhost:8080/#/experiments/584040955558151400.\n"
     ]
    }
   ],
   "source": [
    "best_threes_model = regression.compare_models(n_select=3)"
   ]
  },
  {
   "cell_type": "code",
   "execution_count": 8,
   "id": "1988c585",
   "metadata": {
    "execution": {
     "iopub.execute_input": "2024-08-05T23:21:52.095198Z",
     "iopub.status.busy": "2024-08-05T23:21:52.094948Z",
     "iopub.status.idle": "2024-08-05T23:21:52.147628Z",
     "shell.execute_reply": "2024-08-05T23:21:52.147106Z"
    },
    "papermill": {
     "duration": 0.061681,
     "end_time": "2024-08-05T23:21:52.149378",
     "exception": false,
     "start_time": "2024-08-05T23:21:52.087697",
     "status": "completed"
    },
    "tags": []
   },
   "outputs": [
    {
     "name": "stderr",
     "output_type": "stream",
     "text": [
      "2024/08/05 23:21:52 INFO mlflow.tracking._tracking_service.client: 🏃 View run Session Initialized dbdb at: http://localhost:8080/#/experiments/584040955558151400/runs/6947f59eaf89460782d86669338b1e5b.\n"
     ]
    },
    {
     "name": "stderr",
     "output_type": "stream",
     "text": [
      "2024/08/05 23:21:52 INFO mlflow.tracking._tracking_service.client: 🧪 View experiment at: http://localhost:8080/#/experiments/584040955558151400.\n"
     ]
    }
   ],
   "source": [
    "mlflow.end_run()"
   ]
  },
  {
   "cell_type": "markdown",
   "id": "76c7588a",
   "metadata": {
    "papermill": {
     "duration": 0.005703,
     "end_time": "2024-08-05T23:21:52.160779",
     "exception": false,
     "start_time": "2024-08-05T23:21:52.155076",
     "status": "completed"
    },
    "tags": []
   },
   "source": [
    "L'entrainement sur plusieurs types de modèles avec PyCaret montre que pour ce problème, les modèles: ExtraTreesRegressor, XGBRegressor et RandomForestRegressor sont les plus adaptés. Toutefois, nous pensons que les performances obtenus lors de ce premier entrainement peuvent être nettement améliorées. Nous allons attendre de faire le réglage de paramètres et d'obtenir les modèles finaux avant de faire un choix.\n"
   ]
  },
  {
   "cell_type": "markdown",
   "id": "33d93ed4",
   "metadata": {
    "papermill": {
     "duration": 0.005912,
     "end_time": "2024-08-05T23:21:52.174119",
     "exception": false,
     "start_time": "2024-08-05T23:21:52.168207",
     "status": "completed"
    },
    "tags": []
   },
   "source": [
    "## Fine-Tuning\n"
   ]
  },
  {
   "cell_type": "code",
   "execution_count": 9,
   "id": "c091296a",
   "metadata": {
    "execution": {
     "iopub.execute_input": "2024-08-05T23:21:52.186341Z",
     "iopub.status.busy": "2024-08-05T23:21:52.186099Z",
     "iopub.status.idle": "2024-08-05T23:21:52.215611Z",
     "shell.execute_reply": "2024-08-05T23:21:52.215159Z"
    },
    "papermill": {
     "duration": 0.03769,
     "end_time": "2024-08-05T23:21:52.217250",
     "exception": false,
     "start_time": "2024-08-05T23:21:52.179560",
     "status": "completed"
    },
    "tags": []
   },
   "outputs": [],
   "source": [
    "ESTIMATOR_PARAMS = {\n",
    "    ExtraTreesRegressor.__name__: {\n",
    "        \"estimator\": ExtraTreesRegressor(),\n",
    "        \"params\": {\n",
    "            'regressor__estimator__n_estimators': np.arange(10, 200, 5),\n",
    "        }\n",
    "    },\n",
    "    RandomForestRegressor.__name__: {\n",
    "        \"estimator\": RandomForestRegressor(),\n",
    "        \"params\": {\n",
    "            'regressor__estimator__n_estimators': np.arange(10, 200, 5),\n",
    "        }\n",
    "    },\n",
    "    xgb.XGBRegressor.__name__: {\n",
    "        \"estimator\": xgb.XGBRegressor(),\n",
    "        \"params\": {\n",
    "            'regressor__estimator__n_estimators': np.arange(10, 200, 5),\n",
    "        }\n",
    "    }\n",
    "}"
   ]
  },
  {
   "cell_type": "code",
   "execution_count": 10,
   "id": "12d69802",
   "metadata": {
    "execution": {
     "iopub.execute_input": "2024-08-05T23:21:52.231809Z",
     "iopub.status.busy": "2024-08-05T23:21:52.231496Z",
     "iopub.status.idle": "2024-08-05T23:24:53.532216Z",
     "shell.execute_reply": "2024-08-05T23:24:53.531477Z"
    },
    "papermill": {
     "duration": 180.406823,
     "end_time": "2024-08-05T23:24:52.630573",
     "exception": false,
     "start_time": "2024-08-05T23:21:52.223750",
     "status": "completed"
    },
    "tags": []
   },
   "outputs": [
    {
     "name": "stderr",
     "output_type": "stream",
     "text": [
      "2024/08/05 23:24:52 INFO mlflow.tracking._tracking_service.client: 🏃 View run ExtraTreesRegressor at: http://localhost:8080/#/experiments/558378607717202508/runs/b8c4f5de2b8541028408325cce85557c.\n"
     ]
    },
    {
     "name": "stderr",
     "output_type": "stream",
     "text": [
      "2024/08/05 23:24:52 INFO mlflow.tracking._tracking_service.client: 🧪 View experiment at: http://localhost:8080/#/experiments/558378607717202508.\n"
     ]
    },
    {
     "name": "stderr",
     "output_type": "stream",
     "text": [
      "2024/08/05 23:24:52 INFO mlflow.tracking._tracking_service.client: 🏃 View run Session-20240805_230852 at: http://localhost:8080/#/experiments/558378607717202508/runs/b41b835c52364ed98f527599ad49f46f.\n"
     ]
    },
    {
     "name": "stderr",
     "output_type": "stream",
     "text": [
      "2024/08/05 23:24:52 INFO mlflow.tracking._tracking_service.client: 🧪 View experiment at: http://localhost:8080/#/experiments/558378607717202508.\n"
     ]
    },
    {
     "ename": "KeyboardInterrupt",
     "evalue": "",
     "output_type": "error",
     "traceback": [
      "\u001b[0;31m---------------------------------------------------------------------------\u001b[0m",
      "\u001b[0;31mKeyboardInterrupt\u001b[0m                         Traceback (most recent call last)",
      "Cell \u001b[0;32mIn[10], line 38\u001b[0m\n\u001b[1;32m     25\u001b[0m pipeline \u001b[38;5;241m=\u001b[39m define_pipeline(numerical_transformer\u001b[38;5;241m=\u001b[39m[SimpleImputer(strategy\u001b[38;5;241m=\u001b[39m\u001b[38;5;124m\"\u001b[39m\u001b[38;5;124mmedian\u001b[39m\u001b[38;5;124m\"\u001b[39m), RobustScaler()],\n\u001b[1;32m     26\u001b[0m                 categorical_transformer\u001b[38;5;241m=\u001b[39m[SimpleImputer(strategy\u001b[38;5;241m=\u001b[39m\u001b[38;5;124m\"\u001b[39m\u001b[38;5;124mconstant\u001b[39m\u001b[38;5;124m\"\u001b[39m, fill_value\u001b[38;5;241m=\u001b[39m\u001b[38;5;124m\"\u001b[39m\u001b[38;5;124mundefined\u001b[39m\u001b[38;5;124m\"\u001b[39m), OneHotEncoder(drop\u001b[38;5;241m=\u001b[39m\u001b[38;5;124m\"\u001b[39m\u001b[38;5;124mif_binary\u001b[39m\u001b[38;5;124m\"\u001b[39m, handle_unknown\u001b[38;5;241m=\u001b[39m\u001b[38;5;124m\"\u001b[39m\u001b[38;5;124mignore\u001b[39m\u001b[38;5;124m\"\u001b[39m)],\n\u001b[1;32m     27\u001b[0m                 target_transformer\u001b[38;5;241m=\u001b[39m\u001b[38;5;28;01mTrue\u001b[39;00m,\n\u001b[1;32m     28\u001b[0m                 estimator\u001b[38;5;241m=\u001b[39mestimator\n\u001b[1;32m     29\u001b[0m             ) \n\u001b[1;32m     30\u001b[0m grid_search \u001b[38;5;241m=\u001b[39m GridSearchCV(\n\u001b[1;32m     31\u001b[0m     estimator\u001b[38;5;241m=\u001b[39mpipeline,  \u001b[38;5;66;03m# Instantiate the estimator\u001b[39;00m\n\u001b[1;32m     32\u001b[0m     param_grid\u001b[38;5;241m=\u001b[39mparam_grid,\n\u001b[0;32m   (...)\u001b[0m\n\u001b[1;32m     36\u001b[0m     n_jobs\u001b[38;5;241m=\u001b[39m\u001b[38;5;241m-\u001b[39m\u001b[38;5;241m1\u001b[39m  \u001b[38;5;66;03m# Use all available cores\u001b[39;00m\n\u001b[1;32m     37\u001b[0m )\n\u001b[0;32m---> 38\u001b[0m \u001b[43mgrid_search\u001b[49m\u001b[38;5;241;43m.\u001b[39;49m\u001b[43mfit\u001b[49m\u001b[43m(\u001b[49m\u001b[43mx_train\u001b[49m\u001b[43m,\u001b[49m\u001b[43m \u001b[49m\u001b[43my_train\u001b[49m\u001b[43m)\u001b[49m\n\u001b[1;32m     39\u001b[0m search_cvs[estimator_name] \u001b[38;5;241m=\u001b[39m grid_search\n\u001b[1;32m     41\u001b[0m mlflow\u001b[38;5;241m.\u001b[39mlog_param(\u001b[38;5;124m\"\u001b[39m\u001b[38;5;124mEstimator\u001b[39m\u001b[38;5;124m\"\u001b[39m, estimator_name)\n",
      "File \u001b[0;32m~/anaconda3/envs/mlops/lib/python3.10/site-packages/sklearn/base.py:1474\u001b[0m, in \u001b[0;36m_fit_context.<locals>.decorator.<locals>.wrapper\u001b[0;34m(estimator, *args, **kwargs)\u001b[0m\n\u001b[1;32m   1467\u001b[0m     estimator\u001b[38;5;241m.\u001b[39m_validate_params()\n\u001b[1;32m   1469\u001b[0m \u001b[38;5;28;01mwith\u001b[39;00m config_context(\n\u001b[1;32m   1470\u001b[0m     skip_parameter_validation\u001b[38;5;241m=\u001b[39m(\n\u001b[1;32m   1471\u001b[0m         prefer_skip_nested_validation \u001b[38;5;129;01mor\u001b[39;00m global_skip_validation\n\u001b[1;32m   1472\u001b[0m     )\n\u001b[1;32m   1473\u001b[0m ):\n\u001b[0;32m-> 1474\u001b[0m     \u001b[38;5;28;01mreturn\u001b[39;00m \u001b[43mfit_method\u001b[49m\u001b[43m(\u001b[49m\u001b[43mestimator\u001b[49m\u001b[43m,\u001b[49m\u001b[43m \u001b[49m\u001b[38;5;241;43m*\u001b[39;49m\u001b[43margs\u001b[49m\u001b[43m,\u001b[49m\u001b[43m \u001b[49m\u001b[38;5;241;43m*\u001b[39;49m\u001b[38;5;241;43m*\u001b[39;49m\u001b[43mkwargs\u001b[49m\u001b[43m)\u001b[49m\n",
      "File \u001b[0;32m~/anaconda3/envs/mlops/lib/python3.10/site-packages/sklearn/model_selection/_search.py:970\u001b[0m, in \u001b[0;36mBaseSearchCV.fit\u001b[0;34m(self, X, y, **params)\u001b[0m\n\u001b[1;32m    964\u001b[0m     results \u001b[38;5;241m=\u001b[39m \u001b[38;5;28mself\u001b[39m\u001b[38;5;241m.\u001b[39m_format_results(\n\u001b[1;32m    965\u001b[0m         all_candidate_params, n_splits, all_out, all_more_results\n\u001b[1;32m    966\u001b[0m     )\n\u001b[1;32m    968\u001b[0m     \u001b[38;5;28;01mreturn\u001b[39;00m results\n\u001b[0;32m--> 970\u001b[0m \u001b[38;5;28;43mself\u001b[39;49m\u001b[38;5;241;43m.\u001b[39;49m\u001b[43m_run_search\u001b[49m\u001b[43m(\u001b[49m\u001b[43mevaluate_candidates\u001b[49m\u001b[43m)\u001b[49m\n\u001b[1;32m    972\u001b[0m \u001b[38;5;66;03m# multimetric is determined here because in the case of a callable\u001b[39;00m\n\u001b[1;32m    973\u001b[0m \u001b[38;5;66;03m# self.scoring the return type is only known after calling\u001b[39;00m\n\u001b[1;32m    974\u001b[0m first_test_score \u001b[38;5;241m=\u001b[39m all_out[\u001b[38;5;241m0\u001b[39m][\u001b[38;5;124m\"\u001b[39m\u001b[38;5;124mtest_scores\u001b[39m\u001b[38;5;124m\"\u001b[39m]\n",
      "File \u001b[0;32m~/anaconda3/envs/mlops/lib/python3.10/site-packages/sklearn/model_selection/_search.py:1527\u001b[0m, in \u001b[0;36mGridSearchCV._run_search\u001b[0;34m(self, evaluate_candidates)\u001b[0m\n\u001b[1;32m   1525\u001b[0m \u001b[38;5;28;01mdef\u001b[39;00m \u001b[38;5;21m_run_search\u001b[39m(\u001b[38;5;28mself\u001b[39m, evaluate_candidates):\n\u001b[1;32m   1526\u001b[0m \u001b[38;5;250m    \u001b[39m\u001b[38;5;124;03m\"\"\"Search all candidates in param_grid\"\"\"\u001b[39;00m\n\u001b[0;32m-> 1527\u001b[0m     \u001b[43mevaluate_candidates\u001b[49m\u001b[43m(\u001b[49m\u001b[43mParameterGrid\u001b[49m\u001b[43m(\u001b[49m\u001b[38;5;28;43mself\u001b[39;49m\u001b[38;5;241;43m.\u001b[39;49m\u001b[43mparam_grid\u001b[49m\u001b[43m)\u001b[49m\u001b[43m)\u001b[49m\n",
      "File \u001b[0;32m~/anaconda3/envs/mlops/lib/python3.10/site-packages/sklearn/model_selection/_search.py:916\u001b[0m, in \u001b[0;36mBaseSearchCV.fit.<locals>.evaluate_candidates\u001b[0;34m(candidate_params, cv, more_results)\u001b[0m\n\u001b[1;32m    908\u001b[0m \u001b[38;5;28;01mif\u001b[39;00m \u001b[38;5;28mself\u001b[39m\u001b[38;5;241m.\u001b[39mverbose \u001b[38;5;241m>\u001b[39m \u001b[38;5;241m0\u001b[39m:\n\u001b[1;32m    909\u001b[0m     \u001b[38;5;28mprint\u001b[39m(\n\u001b[1;32m    910\u001b[0m         \u001b[38;5;124m\"\u001b[39m\u001b[38;5;124mFitting \u001b[39m\u001b[38;5;132;01m{0}\u001b[39;00m\u001b[38;5;124m folds for each of \u001b[39m\u001b[38;5;132;01m{1}\u001b[39;00m\u001b[38;5;124m candidates,\u001b[39m\u001b[38;5;124m\"\u001b[39m\n\u001b[1;32m    911\u001b[0m         \u001b[38;5;124m\"\u001b[39m\u001b[38;5;124m totalling \u001b[39m\u001b[38;5;132;01m{2}\u001b[39;00m\u001b[38;5;124m fits\u001b[39m\u001b[38;5;124m\"\u001b[39m\u001b[38;5;241m.\u001b[39mformat(\n\u001b[1;32m    912\u001b[0m             n_splits, n_candidates, n_candidates \u001b[38;5;241m*\u001b[39m n_splits\n\u001b[1;32m    913\u001b[0m         )\n\u001b[1;32m    914\u001b[0m     )\n\u001b[0;32m--> 916\u001b[0m out \u001b[38;5;241m=\u001b[39m \u001b[43mparallel\u001b[49m\u001b[43m(\u001b[49m\n\u001b[1;32m    917\u001b[0m \u001b[43m    \u001b[49m\u001b[43mdelayed\u001b[49m\u001b[43m(\u001b[49m\u001b[43m_fit_and_score\u001b[49m\u001b[43m)\u001b[49m\u001b[43m(\u001b[49m\n\u001b[1;32m    918\u001b[0m \u001b[43m        \u001b[49m\u001b[43mclone\u001b[49m\u001b[43m(\u001b[49m\u001b[43mbase_estimator\u001b[49m\u001b[43m)\u001b[49m\u001b[43m,\u001b[49m\n\u001b[1;32m    919\u001b[0m \u001b[43m        \u001b[49m\u001b[43mX\u001b[49m\u001b[43m,\u001b[49m\n\u001b[1;32m    920\u001b[0m \u001b[43m        \u001b[49m\u001b[43my\u001b[49m\u001b[43m,\u001b[49m\n\u001b[1;32m    921\u001b[0m \u001b[43m        \u001b[49m\u001b[43mtrain\u001b[49m\u001b[38;5;241;43m=\u001b[39;49m\u001b[43mtrain\u001b[49m\u001b[43m,\u001b[49m\n\u001b[1;32m    922\u001b[0m \u001b[43m        \u001b[49m\u001b[43mtest\u001b[49m\u001b[38;5;241;43m=\u001b[39;49m\u001b[43mtest\u001b[49m\u001b[43m,\u001b[49m\n\u001b[1;32m    923\u001b[0m \u001b[43m        \u001b[49m\u001b[43mparameters\u001b[49m\u001b[38;5;241;43m=\u001b[39;49m\u001b[43mparameters\u001b[49m\u001b[43m,\u001b[49m\n\u001b[1;32m    924\u001b[0m \u001b[43m        \u001b[49m\u001b[43msplit_progress\u001b[49m\u001b[38;5;241;43m=\u001b[39;49m\u001b[43m(\u001b[49m\u001b[43msplit_idx\u001b[49m\u001b[43m,\u001b[49m\u001b[43m \u001b[49m\u001b[43mn_splits\u001b[49m\u001b[43m)\u001b[49m\u001b[43m,\u001b[49m\n\u001b[1;32m    925\u001b[0m \u001b[43m        \u001b[49m\u001b[43mcandidate_progress\u001b[49m\u001b[38;5;241;43m=\u001b[39;49m\u001b[43m(\u001b[49m\u001b[43mcand_idx\u001b[49m\u001b[43m,\u001b[49m\u001b[43m \u001b[49m\u001b[43mn_candidates\u001b[49m\u001b[43m)\u001b[49m\u001b[43m,\u001b[49m\n\u001b[1;32m    926\u001b[0m \u001b[43m        \u001b[49m\u001b[38;5;241;43m*\u001b[39;49m\u001b[38;5;241;43m*\u001b[39;49m\u001b[43mfit_and_score_kwargs\u001b[49m\u001b[43m,\u001b[49m\n\u001b[1;32m    927\u001b[0m \u001b[43m    \u001b[49m\u001b[43m)\u001b[49m\n\u001b[1;32m    928\u001b[0m \u001b[43m    \u001b[49m\u001b[38;5;28;43;01mfor\u001b[39;49;00m\u001b[43m \u001b[49m\u001b[43m(\u001b[49m\u001b[43mcand_idx\u001b[49m\u001b[43m,\u001b[49m\u001b[43m \u001b[49m\u001b[43mparameters\u001b[49m\u001b[43m)\u001b[49m\u001b[43m,\u001b[49m\u001b[43m \u001b[49m\u001b[43m(\u001b[49m\u001b[43msplit_idx\u001b[49m\u001b[43m,\u001b[49m\u001b[43m \u001b[49m\u001b[43m(\u001b[49m\u001b[43mtrain\u001b[49m\u001b[43m,\u001b[49m\u001b[43m \u001b[49m\u001b[43mtest\u001b[49m\u001b[43m)\u001b[49m\u001b[43m)\u001b[49m\u001b[43m \u001b[49m\u001b[38;5;129;43;01min\u001b[39;49;00m\u001b[43m \u001b[49m\u001b[43mproduct\u001b[49m\u001b[43m(\u001b[49m\n\u001b[1;32m    929\u001b[0m \u001b[43m        \u001b[49m\u001b[38;5;28;43menumerate\u001b[39;49m\u001b[43m(\u001b[49m\u001b[43mcandidate_params\u001b[49m\u001b[43m)\u001b[49m\u001b[43m,\u001b[49m\n\u001b[1;32m    930\u001b[0m \u001b[43m        \u001b[49m\u001b[38;5;28;43menumerate\u001b[39;49m\u001b[43m(\u001b[49m\u001b[43mcv\u001b[49m\u001b[38;5;241;43m.\u001b[39;49m\u001b[43msplit\u001b[49m\u001b[43m(\u001b[49m\u001b[43mX\u001b[49m\u001b[43m,\u001b[49m\u001b[43m \u001b[49m\u001b[43my\u001b[49m\u001b[43m,\u001b[49m\u001b[43m \u001b[49m\u001b[38;5;241;43m*\u001b[39;49m\u001b[38;5;241;43m*\u001b[39;49m\u001b[43mrouted_params\u001b[49m\u001b[38;5;241;43m.\u001b[39;49m\u001b[43msplitter\u001b[49m\u001b[38;5;241;43m.\u001b[39;49m\u001b[43msplit\u001b[49m\u001b[43m)\u001b[49m\u001b[43m)\u001b[49m\u001b[43m,\u001b[49m\n\u001b[1;32m    931\u001b[0m \u001b[43m    \u001b[49m\u001b[43m)\u001b[49m\n\u001b[1;32m    932\u001b[0m \u001b[43m\u001b[49m\u001b[43m)\u001b[49m\n\u001b[1;32m    934\u001b[0m \u001b[38;5;28;01mif\u001b[39;00m \u001b[38;5;28mlen\u001b[39m(out) \u001b[38;5;241m<\u001b[39m \u001b[38;5;241m1\u001b[39m:\n\u001b[1;32m    935\u001b[0m     \u001b[38;5;28;01mraise\u001b[39;00m \u001b[38;5;167;01mValueError\u001b[39;00m(\n\u001b[1;32m    936\u001b[0m         \u001b[38;5;124m\"\u001b[39m\u001b[38;5;124mNo fits were performed. \u001b[39m\u001b[38;5;124m\"\u001b[39m\n\u001b[1;32m    937\u001b[0m         \u001b[38;5;124m\"\u001b[39m\u001b[38;5;124mWas the CV iterator empty? \u001b[39m\u001b[38;5;124m\"\u001b[39m\n\u001b[1;32m    938\u001b[0m         \u001b[38;5;124m\"\u001b[39m\u001b[38;5;124mWere there no candidates?\u001b[39m\u001b[38;5;124m\"\u001b[39m\n\u001b[1;32m    939\u001b[0m     )\n",
      "File \u001b[0;32m~/anaconda3/envs/mlops/lib/python3.10/site-packages/sklearn/utils/parallel.py:67\u001b[0m, in \u001b[0;36mParallel.__call__\u001b[0;34m(self, iterable)\u001b[0m\n\u001b[1;32m     62\u001b[0m config \u001b[38;5;241m=\u001b[39m get_config()\n\u001b[1;32m     63\u001b[0m iterable_with_config \u001b[38;5;241m=\u001b[39m (\n\u001b[1;32m     64\u001b[0m     (_with_config(delayed_func, config), args, kwargs)\n\u001b[1;32m     65\u001b[0m     \u001b[38;5;28;01mfor\u001b[39;00m delayed_func, args, kwargs \u001b[38;5;129;01min\u001b[39;00m iterable\n\u001b[1;32m     66\u001b[0m )\n\u001b[0;32m---> 67\u001b[0m \u001b[38;5;28;01mreturn\u001b[39;00m \u001b[38;5;28;43msuper\u001b[39;49m\u001b[43m(\u001b[49m\u001b[43m)\u001b[49m\u001b[38;5;241;43m.\u001b[39;49m\u001b[38;5;21;43m__call__\u001b[39;49m\u001b[43m(\u001b[49m\u001b[43miterable_with_config\u001b[49m\u001b[43m)\u001b[49m\n",
      "File \u001b[0;32m~/anaconda3/envs/mlops/lib/python3.10/site-packages/joblib/parallel.py:1952\u001b[0m, in \u001b[0;36mParallel.__call__\u001b[0;34m(self, iterable)\u001b[0m\n\u001b[1;32m   1946\u001b[0m \u001b[38;5;66;03m# The first item from the output is blank, but it makes the interpreter\u001b[39;00m\n\u001b[1;32m   1947\u001b[0m \u001b[38;5;66;03m# progress until it enters the Try/Except block of the generator and\u001b[39;00m\n\u001b[1;32m   1948\u001b[0m \u001b[38;5;66;03m# reach the first `yield` statement. This starts the aynchronous\u001b[39;00m\n\u001b[1;32m   1949\u001b[0m \u001b[38;5;66;03m# dispatch of the tasks to the workers.\u001b[39;00m\n\u001b[1;32m   1950\u001b[0m \u001b[38;5;28mnext\u001b[39m(output)\n\u001b[0;32m-> 1952\u001b[0m \u001b[38;5;28;01mreturn\u001b[39;00m output \u001b[38;5;28;01mif\u001b[39;00m \u001b[38;5;28mself\u001b[39m\u001b[38;5;241m.\u001b[39mreturn_generator \u001b[38;5;28;01melse\u001b[39;00m \u001b[38;5;28;43mlist\u001b[39;49m\u001b[43m(\u001b[49m\u001b[43moutput\u001b[49m\u001b[43m)\u001b[49m\n",
      "File \u001b[0;32m~/anaconda3/envs/mlops/lib/python3.10/site-packages/joblib/parallel.py:1595\u001b[0m, in \u001b[0;36mParallel._get_outputs\u001b[0;34m(self, iterator, pre_dispatch)\u001b[0m\n\u001b[1;32m   1592\u001b[0m     \u001b[38;5;28;01myield\u001b[39;00m\n\u001b[1;32m   1594\u001b[0m     \u001b[38;5;28;01mwith\u001b[39;00m \u001b[38;5;28mself\u001b[39m\u001b[38;5;241m.\u001b[39m_backend\u001b[38;5;241m.\u001b[39mretrieval_context():\n\u001b[0;32m-> 1595\u001b[0m         \u001b[38;5;28;01myield from\u001b[39;00m \u001b[38;5;28mself\u001b[39m\u001b[38;5;241m.\u001b[39m_retrieve()\n\u001b[1;32m   1597\u001b[0m \u001b[38;5;28;01mexcept\u001b[39;00m \u001b[38;5;167;01mGeneratorExit\u001b[39;00m:\n\u001b[1;32m   1598\u001b[0m     \u001b[38;5;66;03m# The generator has been garbage collected before being fully\u001b[39;00m\n\u001b[1;32m   1599\u001b[0m     \u001b[38;5;66;03m# consumed. This aborts the remaining tasks if possible and warn\u001b[39;00m\n\u001b[1;32m   1600\u001b[0m     \u001b[38;5;66;03m# the user if necessary.\u001b[39;00m\n\u001b[1;32m   1601\u001b[0m     \u001b[38;5;28mself\u001b[39m\u001b[38;5;241m.\u001b[39m_exception \u001b[38;5;241m=\u001b[39m \u001b[38;5;28;01mTrue\u001b[39;00m\n",
      "File \u001b[0;32m~/anaconda3/envs/mlops/lib/python3.10/site-packages/joblib/parallel.py:1707\u001b[0m, in \u001b[0;36mParallel._retrieve\u001b[0;34m(self)\u001b[0m\n\u001b[1;32m   1702\u001b[0m \u001b[38;5;66;03m# If the next job is not ready for retrieval yet, we just wait for\u001b[39;00m\n\u001b[1;32m   1703\u001b[0m \u001b[38;5;66;03m# async callbacks to progress.\u001b[39;00m\n\u001b[1;32m   1704\u001b[0m \u001b[38;5;28;01mif\u001b[39;00m ((\u001b[38;5;28mlen\u001b[39m(\u001b[38;5;28mself\u001b[39m\u001b[38;5;241m.\u001b[39m_jobs) \u001b[38;5;241m==\u001b[39m \u001b[38;5;241m0\u001b[39m) \u001b[38;5;129;01mor\u001b[39;00m\n\u001b[1;32m   1705\u001b[0m     (\u001b[38;5;28mself\u001b[39m\u001b[38;5;241m.\u001b[39m_jobs[\u001b[38;5;241m0\u001b[39m]\u001b[38;5;241m.\u001b[39mget_status(\n\u001b[1;32m   1706\u001b[0m         timeout\u001b[38;5;241m=\u001b[39m\u001b[38;5;28mself\u001b[39m\u001b[38;5;241m.\u001b[39mtimeout) \u001b[38;5;241m==\u001b[39m TASK_PENDING)):\n\u001b[0;32m-> 1707\u001b[0m     \u001b[43mtime\u001b[49m\u001b[38;5;241;43m.\u001b[39;49m\u001b[43msleep\u001b[49m\u001b[43m(\u001b[49m\u001b[38;5;241;43m0.01\u001b[39;49m\u001b[43m)\u001b[49m\n\u001b[1;32m   1708\u001b[0m     \u001b[38;5;28;01mcontinue\u001b[39;00m\n\u001b[1;32m   1710\u001b[0m \u001b[38;5;66;03m# We need to be careful: the job list can be filling up as\u001b[39;00m\n\u001b[1;32m   1711\u001b[0m \u001b[38;5;66;03m# we empty it and Python list are not thread-safe by\u001b[39;00m\n\u001b[1;32m   1712\u001b[0m \u001b[38;5;66;03m# default hence the use of the lock\u001b[39;00m\n",
      "\u001b[0;31mKeyboardInterrupt\u001b[0m: "
     ]
    }
   ],
   "source": [
    "CURRENT_DATE = pendulum.now()\n",
    "\n",
    "search_cvs = {}\n",
    "\n",
    "def rmse(actual, predicted):\n",
    "    return np.sqrt(mean_squared_error(actual, predicted))\n",
    "\n",
    "scoring = {'r2': make_scorer(r2_score),\n",
    "          'rmse': make_scorer(rmse, greater_is_better=False),\n",
    "          'mae': make_scorer(mean_absolute_error, greater_is_better=False)}\n",
    "\n",
    "# Create an experiment if not exists\n",
    "exp_name = \"building-energy-prediction-tuning-sklearn\"\n",
    "experiment = mlflow.get_experiment_by_name(exp_name)\n",
    "if not experiment:\n",
    "    experiment_id = mlflow.create_experiment(exp_name)\n",
    "else:\n",
    "    experiment_id = experiment.experiment_id\n",
    "\n",
    "with mlflow.start_run(run_name=f\"Session-{CURRENT_DATE.strftime('%Y%m%d_%H%m%S')}\", experiment_id=experiment_id) as parent_run:\n",
    "    for estimator_name, settings in ESTIMATOR_PARAMS.items():\n",
    "        with mlflow.start_run(run_name=estimator_name, nested=True, experiment_id=experiment_id):  \n",
    "            estimator = settings[\"estimator\"]\n",
    "            param_grid = settings[\"params\"]\n",
    "            pipeline = define_pipeline(numerical_transformer=[SimpleImputer(strategy=\"median\"), RobustScaler()],\n",
    "                            categorical_transformer=[SimpleImputer(strategy=\"constant\", fill_value=\"undefined\"), OneHotEncoder(drop=\"if_binary\", handle_unknown=\"ignore\")],\n",
    "                            target_transformer=True,\n",
    "                            estimator=estimator\n",
    "                        ) \n",
    "            grid_search = GridSearchCV(\n",
    "                estimator=pipeline,  # Instantiate the estimator\n",
    "                param_grid=param_grid,\n",
    "                scoring=scoring,\n",
    "                refit='r2',\n",
    "                cv=5,  # Adjust the number of cross-validation folds as needed\n",
    "                n_jobs=-1  # Use all available cores\n",
    "            )\n",
    "            grid_search.fit(x_train, y_train)\n",
    "            search_cvs[estimator_name] = grid_search\n",
    "\n",
    "            mlflow.log_param(\"Estimator\", estimator_name)\n",
    "            mlflow_log_search(grid_search)\n",
    "mlflow.end_run()"
   ]
  },
  {
   "cell_type": "markdown",
   "id": "6ee768b7",
   "metadata": {
    "papermill": {
     "duration": null,
     "end_time": null,
     "exception": null,
     "start_time": null,
     "status": "completed"
    },
    "tags": []
   },
   "source": [
    "## Model Evaluation on Test Data\n"
   ]
  },
  {
   "cell_type": "markdown",
   "id": "d038a887",
   "metadata": {
    "papermill": {
     "duration": null,
     "end_time": null,
     "exception": null,
     "start_time": null,
     "status": "completed"
    },
    "tags": []
   },
   "source": [
    "We are going to evaluate the fine-tuned models to see which one we are going to pick as the final model.\n"
   ]
  },
  {
   "cell_type": "code",
   "execution_count": null,
   "id": "3bafaa43",
   "metadata": {
    "papermill": {
     "duration": null,
     "end_time": null,
     "exception": null,
     "start_time": null,
     "status": "completed"
    },
    "tags": []
   },
   "outputs": [],
   "source": [
    "# Obtaining best_models after fine-tuning\n",
    "models = { f\"{estimator_name}\": search_cv.best_estimator_ for estimator_name, search_cv in search_cvs.items()}"
   ]
  },
  {
   "cell_type": "code",
   "execution_count": null,
   "id": "b39dd50a",
   "metadata": {
    "papermill": {
     "duration": null,
     "end_time": null,
     "exception": null,
     "start_time": null,
     "status": "completed"
    },
    "tags": []
   },
   "outputs": [],
   "source": [
    "exp_name = \"building-energy-prediction-evaluation\"\n",
    "experiment = mlflow.get_experiment_by_name(exp_name)\n",
    "if not experiment:\n",
    "    experiment_id = mlflow.create_experiment(exp_name)\n",
    "else:\n",
    "    experiment_id = experiment.experiment_id\n",
    "\n",
    "def evaluate_models(estimators, x_train, x_test, y_train, y_test):\n",
    "    # Dict of R2 scores for the estimators\n",
    "    r2_scores = {}\n",
    "    with mlflow.start_run(run_name=f\"Session-{CURRENT_DATE.strftime('%Y%m%d_%H%m%S')}\", experiment_id=experiment_id):\n",
    "        for estimator_name, estimator in estimators.items():\n",
    "            with mlflow.start_run(run_name=estimator_name, nested=True, experiment_id=experiment_id): \n",
    "                y_train_pred = estimator.predict(x_train)\n",
    "                y_test_pred = estimator.predict(x_test)\n",
    "\n",
    "                train_metrics = eval_metrics(y_train, y_train_pred)\n",
    "                test_metrics = eval_metrics(y_test, y_test_pred)\n",
    "\n",
    "                # Add the R2 score of the model to the global dict\n",
    "                r2_scores[estimator_name] = test_metrics['r2']\n",
    "\n",
    "                # Log the regressor parameters\n",
    "                mlflow.log_params(estimator.regressor.steps[-1][1].get_params())\n",
    "\n",
    "                # Log the best metric\n",
    "                mlflow.log_metrics(test_metrics)\n",
    "\n",
    "                # Log the model\n",
    "                mlflow.sklearn.log_model(estimator.regressor.steps[-1][1], \"model\")\n",
    "\n",
    "                logger.info(f\"\"\"{estimator_name} performance \\n{pd.DataFrame({'train': train_metrics, 'test': test_metrics}).T}\"\"\")\n",
    "    return max(r2_scores.items(), key=lambda item: item[1])\n",
    "\n",
    "mlflow.end_run()\n",
    "\n",
    "best_estimator, score = evaluate_models(models, x_train, x_test, y_train, y_test)\n",
    "\n",
    "logger.info(f\"\"\"{best_estimator} is the best estimator found for this problem with an R2 score of {score}\"\"\")"
   ]
  },
  {
   "cell_type": "markdown",
   "id": "5997a65d",
   "metadata": {
    "papermill": {
     "duration": null,
     "end_time": null,
     "exception": null,
     "start_time": null,
     "status": "completed"
    },
    "tags": []
   },
   "source": [
    "### Prediction Error Plot\n"
   ]
  },
  {
   "cell_type": "code",
   "execution_count": null,
   "id": "9f919018",
   "metadata": {
    "papermill": {
     "duration": null,
     "end_time": null,
     "exception": null,
     "start_time": null,
     "status": "completed"
    },
    "tags": []
   },
   "outputs": [],
   "source": [
    "prediction_error_plot(models, x_train, x_test, y_train, y_test)"
   ]
  },
  {
   "cell_type": "markdown",
   "id": "16af0dd6",
   "metadata": {
    "papermill": {
     "duration": null,
     "end_time": null,
     "exception": null,
     "start_time": null,
     "status": "completed"
    },
    "tags": []
   },
   "source": [
    "### Residual Plot\n"
   ]
  },
  {
   "cell_type": "code",
   "execution_count": null,
   "id": "ee719e24",
   "metadata": {
    "papermill": {
     "duration": null,
     "end_time": null,
     "exception": null,
     "start_time": null,
     "status": "completed"
    },
    "tags": []
   },
   "outputs": [],
   "source": [
    "residual_plot(models, x_train, x_test, y_train, y_test)"
   ]
  }
 ],
 "metadata": {
  "kernelspec": {
   "display_name": "mlops",
   "language": "python",
   "name": "python3"
  },
  "language_info": {
   "codemirror_mode": {
    "name": "ipython",
    "version": 3
   },
   "file_extension": ".py",
   "mimetype": "text/x-python",
   "name": "python",
   "nbconvert_exporter": "python",
   "pygments_lexer": "ipython3",
   "version": "3.10.10"
  },
  "papermill": {
   "default_parameters": {},
   "duration": 257.926756,
   "end_time": "2024-08-05T23:24:54.189594",
   "environment_variables": {},
   "exception": null,
   "input_path": "../notebooks/04-modelisation.ipynb",
   "output_path": "../notebooks/outputs/04-modelisation_output.ipynb",
   "parameters": {},
   "start_time": "2024-08-05T23:20:36.262838",
   "version": "2.6.0"
  }
 },
 "nbformat": 4,
 "nbformat_minor": 5
}