{
 "cells": [
  {
   "cell_type": "markdown",
   "id": "9ad48499",
   "metadata": {
    "papermill": {
     "duration": 0.034533,
     "end_time": "2024-08-07T19:47:34.821501",
     "exception": false,
     "start_time": "2024-08-07T19:47:34.786968",
     "status": "completed"
    },
    "tags": []
   },
   "source": [
    "# Import Libraries\n"
   ]
  },
  {
   "cell_type": "code",
   "execution_count": 1,
   "id": "a38da3ba",
   "metadata": {
    "execution": {
     "iopub.execute_input": "2024-08-07T19:47:34.885823Z",
     "iopub.status.busy": "2024-08-07T19:47:34.885557Z",
     "iopub.status.idle": "2024-08-07T19:47:35.650039Z",
     "shell.execute_reply": "2024-08-07T19:47:35.649541Z"
    },
    "papermill": {
     "duration": 0.782917,
     "end_time": "2024-08-07T19:47:35.651614",
     "exception": false,
     "start_time": "2024-08-07T19:47:34.868697",
     "status": "completed"
    },
    "tags": []
   },
   "outputs": [],
   "source": [
    "%reload_ext autoreload\n",
    "%autoreload 2\n",
    "\n",
    "import ast\n",
    "import pandas as pd\n",
    "import plotly.express as px\n",
    "import sys\n",
    "\n",
    "from dotenv import load_dotenv\n",
    "from loguru import logger\n",
    "from pathlib import Path\n",
    "\n",
    "sys.path.append(str(Path.cwd().parent))\n",
    "\n",
    "from settings.params import *\n",
    "from src.utils import configure_logger\n",
    "\n",
    "pd.set_option(\"display.max_columns\", None)\n",
    "pd.set_option(\"display.max_rows\", 100)\n",
    "configure_logger()"
   ]
  },
  {
   "cell_type": "markdown",
   "id": "e3822b44",
   "metadata": {
    "papermill": {
     "duration": 0.003429,
     "end_time": "2024-08-07T19:47:35.660304",
     "exception": false,
     "start_time": "2024-08-07T19:47:35.656875",
     "status": "completed"
    },
    "tags": []
   },
   "source": [
    "# Settings\n"
   ]
  },
  {
   "cell_type": "code",
   "execution_count": 2,
   "id": "378657d9",
   "metadata": {
    "execution": {
     "iopub.execute_input": "2024-08-07T19:47:35.668599Z",
     "iopub.status.busy": "2024-08-07T19:47:35.668286Z",
     "iopub.status.idle": "2024-08-07T19:47:35.682465Z",
     "shell.execute_reply": "2024-08-07T19:47:35.682043Z"
    },
    "papermill": {
     "duration": 0.020124,
     "end_time": "2024-08-07T19:47:35.683859",
     "exception": false,
     "start_time": "2024-08-07T19:47:35.663735",
     "status": "completed"
    },
    "tags": []
   },
   "outputs": [],
   "source": [
    "TARGET_NAME = MODEL_PARAMS[\"TARGET_NAME\"]\n",
    "SEED = 42"
   ]
  },
  {
   "cell_type": "markdown",
   "id": "e18ca4fe",
   "metadata": {
    "papermill": {
     "duration": 0.00337,
     "end_time": "2024-08-07T19:47:35.691052",
     "exception": false,
     "start_time": "2024-08-07T19:47:35.687682",
     "status": "completed"
    },
    "tags": []
   },
   "source": [
    "# Data Collection\n"
   ]
  },
  {
   "cell_type": "code",
   "execution_count": 3,
   "id": "025e69ce",
   "metadata": {
    "execution": {
     "iopub.execute_input": "2024-08-07T19:47:35.698594Z",
     "iopub.status.busy": "2024-08-07T19:47:35.698384Z",
     "iopub.status.idle": "2024-08-07T19:47:35.762964Z",
     "shell.execute_reply": "2024-08-07T19:47:35.762552Z"
    },
    "papermill": {
     "duration": 0.069854,
     "end_time": "2024-08-07T19:47:35.764263",
     "exception": false,
     "start_time": "2024-08-07T19:47:35.694409",
     "status": "completed"
    },
    "tags": []
   },
   "outputs": [
    {
     "name": "stderr",
     "output_type": "stream",
     "text": [
      "\u001b[32m2024-08-07 19:47:35.759\u001b[0m | \u001b[1mINFO    \u001b[0m | \u001b[36m__main__\u001b[0m:\u001b[36m<module>\u001b[0m:\u001b[36m4\u001b[0m - 2015 Data Shape: (3340, 47)\n"
     ]
    },
    {
     "name": "stderr",
     "output_type": "stream",
     "text": [
      "\u001b[32m2024-08-07 19:47:35.760\u001b[0m | \u001b[1mINFO    \u001b[0m | \u001b[36m__main__\u001b[0m:\u001b[36m<module>\u001b[0m:\u001b[36m5\u001b[0m - 2016 Data Shape: (3376, 46)\n"
     ]
    }
   ],
   "source": [
    "data2015 = pd.read_csv(f\"{DATASETS_DIR}/2015-building-energy-benchmarking.csv\")\n",
    "data2016 = pd.read_csv(f\"{DATASETS_DIR}/2016-building-energy-benchmarking.csv\")\n",
    "\n",
    "logger.info(f\"2015 Data Shape: {data2015.shape}\")\n",
    "logger.info(f\"2016 Data Shape: {data2016.shape}\")"
   ]
  },
  {
   "cell_type": "code",
   "execution_count": 4,
   "id": "122f1920",
   "metadata": {
    "execution": {
     "iopub.execute_input": "2024-08-07T19:47:35.773455Z",
     "iopub.status.busy": "2024-08-07T19:47:35.773218Z",
     "iopub.status.idle": "2024-08-07T19:47:35.802708Z",
     "shell.execute_reply": "2024-08-07T19:47:35.802224Z"
    },
    "papermill": {
     "duration": 0.035283,
     "end_time": "2024-08-07T19:47:35.803962",
     "exception": false,
     "start_time": "2024-08-07T19:47:35.768679",
     "status": "completed"
    },
    "tags": []
   },
   "outputs": [
    {
     "name": "stdout",
     "output_type": "stream",
     "text": [
      "<class 'pandas.core.frame.DataFrame'>\n",
      "RangeIndex: 3340 entries, 0 to 3339\n",
      "Data columns (total 47 columns):\n",
      " #   Column                                                         Non-Null Count  Dtype  \n",
      "---  ------                                                         --------------  -----  \n",
      " 0   OSEBuildingID                                                  3340 non-null   int64  \n",
      " 1   DataYear                                                       3340 non-null   int64  \n",
      " 2   BuildingType                                                   3340 non-null   object \n",
      " 3   PrimaryPropertyType                                            3340 non-null   object \n",
      " 4   PropertyName                                                   3340 non-null   object \n",
      " 5   TaxParcelIdentificationNumber                                  3338 non-null   object \n",
      " 6   Location                                                       3340 non-null   object \n",
      " 7   CouncilDistrictCode                                            3340 non-null   int64  \n",
      " 8   Neighborhood                                                   3340 non-null   object \n",
      " 9   YearBuilt                                                      3340 non-null   int64  \n",
      " 10  NumberofBuildings                                              3340 non-null   int64  \n",
      " 11  NumberofFloors                                                 3332 non-null   float64\n",
      " 12  PropertyGFATotal                                               3340 non-null   int64  \n",
      " 13  PropertyGFAParking                                             3340 non-null   int64  \n",
      " 14  PropertyGFABuilding(s)                                         3340 non-null   int64  \n",
      " 15  ListOfAllPropertyUseTypes                                      3213 non-null   object \n",
      " 16  LargestPropertyUseType                                         3204 non-null   object \n",
      " 17  LargestPropertyUseTypeGFA                                      3204 non-null   float64\n",
      " 18  SecondLargestPropertyUseType                                   1559 non-null   object \n",
      " 19  SecondLargestPropertyUseTypeGFA                                1559 non-null   float64\n",
      " 20  ThirdLargestPropertyUseType                                    560 non-null    object \n",
      " 21  ThirdLargestPropertyUseTypeGFA                                 560 non-null    float64\n",
      " 22  YearsENERGYSTARCertified                                       110 non-null    object \n",
      " 23  ENERGYSTARScore                                                2560 non-null   float64\n",
      " 24  SiteEUI(kBtu/sf)                                               3330 non-null   float64\n",
      " 25  SiteEUIWN(kBtu/sf)                                             3330 non-null   float64\n",
      " 26  SourceEUI(kBtu/sf)                                             3330 non-null   float64\n",
      " 27  SourceEUIWN(kBtu/sf)                                           3330 non-null   float64\n",
      " 28  SiteEnergyUse(kBtu)                                            3330 non-null   float64\n",
      " 29  SiteEnergyUseWN(kBtu)                                          3330 non-null   float64\n",
      " 30  SteamUse(kBtu)                                                 3330 non-null   float64\n",
      " 31  Electricity(kWh)                                               3330 non-null   float64\n",
      " 32  Electricity(kBtu)                                              3330 non-null   float64\n",
      " 33  NaturalGas(therms)                                             3330 non-null   float64\n",
      " 34  NaturalGas(kBtu)                                               3330 non-null   float64\n",
      " 35  OtherFuelUse(kBtu)                                             3330 non-null   float64\n",
      " 36  GHGEmissions(MetricTonsCO2e)                                   3330 non-null   float64\n",
      " 37  GHGEmissionsIntensity(kgCO2e/ft2)                              3330 non-null   float64\n",
      " 38  DefaultData                                                    3339 non-null   object \n",
      " 39  Comment                                                        13 non-null     object \n",
      " 40  ComplianceStatus                                               3340 non-null   object \n",
      " 41  Outlier                                                        84 non-null     object \n",
      " 42  2010 Census Tracts                                             224 non-null    float64\n",
      " 43  Seattle Police Department Micro Community Policing Plan Areas  3338 non-null   float64\n",
      " 44  City Council Districts                                         213 non-null    float64\n",
      " 45  SPD Beats                                                      3338 non-null   float64\n",
      " 46  Zip Codes                                                      3340 non-null   int64  \n",
      "dtypes: float64(23), int64(9), object(15)\n",
      "memory usage: 1.2+ MB\n"
     ]
    }
   ],
   "source": [
    "data2015.info()"
   ]
  },
  {
   "cell_type": "code",
   "execution_count": 5,
   "id": "fcd59084",
   "metadata": {
    "execution": {
     "iopub.execute_input": "2024-08-07T19:47:35.812542Z",
     "iopub.status.busy": "2024-08-07T19:47:35.812341Z",
     "iopub.status.idle": "2024-08-07T19:47:35.836724Z",
     "shell.execute_reply": "2024-08-07T19:47:35.836292Z"
    },
    "papermill": {
     "duration": 0.030105,
     "end_time": "2024-08-07T19:47:35.838154",
     "exception": false,
     "start_time": "2024-08-07T19:47:35.808049",
     "status": "completed"
    },
    "tags": []
   },
   "outputs": [
    {
     "name": "stdout",
     "output_type": "stream",
     "text": [
      "<class 'pandas.core.frame.DataFrame'>\n",
      "RangeIndex: 3376 entries, 0 to 3375\n",
      "Data columns (total 46 columns):\n",
      " #   Column                           Non-Null Count  Dtype  \n",
      "---  ------                           --------------  -----  \n",
      " 0   OSEBuildingID                    3376 non-null   int64  \n",
      " 1   DataYear                         3376 non-null   int64  \n",
      " 2   BuildingType                     3376 non-null   object \n",
      " 3   PrimaryPropertyType              3376 non-null   object \n",
      " 4   PropertyName                     3376 non-null   object \n",
      " 5   Address                          3376 non-null   object \n",
      " 6   City                             3376 non-null   object \n",
      " 7   State                            3376 non-null   object \n",
      " 8   ZipCode                          3360 non-null   float64\n",
      " 9   TaxParcelIdentificationNumber    3376 non-null   object \n",
      " 10  CouncilDistrictCode              3376 non-null   int64  \n",
      " 11  Neighborhood                     3376 non-null   object \n",
      " 12  Latitude                         3376 non-null   float64\n",
      " 13  Longitude                        3376 non-null   float64\n",
      " 14  YearBuilt                        3376 non-null   int64  \n",
      " 15  NumberofBuildings                3368 non-null   float64\n",
      " 16  NumberofFloors                   3376 non-null   int64  \n",
      " 17  PropertyGFATotal                 3376 non-null   int64  \n",
      " 18  PropertyGFAParking               3376 non-null   int64  \n",
      " 19  PropertyGFABuilding(s)           3376 non-null   int64  \n",
      " 20  ListOfAllPropertyUseTypes        3367 non-null   object \n",
      " 21  LargestPropertyUseType           3356 non-null   object \n",
      " 22  LargestPropertyUseTypeGFA        3356 non-null   float64\n",
      " 23  SecondLargestPropertyUseType     1679 non-null   object \n",
      " 24  SecondLargestPropertyUseTypeGFA  1679 non-null   float64\n",
      " 25  ThirdLargestPropertyUseType      596 non-null    object \n",
      " 26  ThirdLargestPropertyUseTypeGFA   596 non-null    float64\n",
      " 27  YearsENERGYSTARCertified         119 non-null    object \n",
      " 28  ENERGYSTARScore                  2533 non-null   float64\n",
      " 29  SiteEUI(kBtu/sf)                 3369 non-null   float64\n",
      " 30  SiteEUIWN(kBtu/sf)               3370 non-null   float64\n",
      " 31  SourceEUI(kBtu/sf)               3367 non-null   float64\n",
      " 32  SourceEUIWN(kBtu/sf)             3367 non-null   float64\n",
      " 33  SiteEnergyUse(kBtu)              3371 non-null   float64\n",
      " 34  SiteEnergyUseWN(kBtu)            3370 non-null   float64\n",
      " 35  SteamUse(kBtu)                   3367 non-null   float64\n",
      " 36  Electricity(kWh)                 3367 non-null   float64\n",
      " 37  Electricity(kBtu)                3367 non-null   float64\n",
      " 38  NaturalGas(therms)               3367 non-null   float64\n",
      " 39  NaturalGas(kBtu)                 3367 non-null   float64\n",
      " 40  DefaultData                      3376 non-null   bool   \n",
      " 41  Comments                         0 non-null      float64\n",
      " 42  ComplianceStatus                 3376 non-null   object \n",
      " 43  Outlier                          32 non-null     object \n",
      " 44  TotalGHGEmissions                3367 non-null   float64\n",
      " 45  GHGEmissionsIntensity            3367 non-null   float64\n",
      "dtypes: bool(1), float64(22), int64(8), object(15)\n",
      "memory usage: 1.2+ MB\n"
     ]
    }
   ],
   "source": [
    "data2016.info()"
   ]
  },
  {
   "cell_type": "markdown",
   "id": "4646bd4e",
   "metadata": {
    "papermill": {
     "duration": 0.004137,
     "end_time": "2024-08-07T19:47:35.846699",
     "exception": false,
     "start_time": "2024-08-07T19:47:35.842562",
     "status": "completed"
    },
    "tags": []
   },
   "source": [
    "## Harmonize datasets\n"
   ]
  },
  {
   "cell_type": "code",
   "execution_count": 6,
   "id": "4fb1f69a",
   "metadata": {
    "execution": {
     "iopub.execute_input": "2024-08-07T19:47:35.855738Z",
     "iopub.status.busy": "2024-08-07T19:47:35.855516Z",
     "iopub.status.idle": "2024-08-07T19:47:35.870515Z",
     "shell.execute_reply": "2024-08-07T19:47:35.870112Z"
    },
    "papermill": {
     "duration": 0.020762,
     "end_time": "2024-08-07T19:47:35.871751",
     "exception": false,
     "start_time": "2024-08-07T19:47:35.850989",
     "status": "completed"
    },
    "tags": []
   },
   "outputs": [
    {
     "name": "stderr",
     "output_type": "stream",
     "text": [
      "\u001b[32m2024-08-07 19:47:35.868\u001b[0m | \u001b[1mINFO    \u001b[0m | \u001b[36m__main__\u001b[0m:\u001b[36m<module>\u001b[0m:\u001b[36m1\u001b[0m - Starting alignment between 2015 and 2016 datasets\n"
     ]
    }
   ],
   "source": [
    "logger.info(\"Starting alignment between 2015 and 2016 datasets\")"
   ]
  },
  {
   "cell_type": "markdown",
   "id": "0748dd36",
   "metadata": {
    "papermill": {
     "duration": 0.003692,
     "end_time": "2024-08-07T19:47:35.879507",
     "exception": false,
     "start_time": "2024-08-07T19:47:35.875815",
     "status": "completed"
    },
    "tags": []
   },
   "source": [
    "The 2015 data is not aligned with 2016. Need to populate missing columns in one file vs the other. Let's re-arrange 2015\n"
   ]
  },
  {
   "cell_type": "code",
   "execution_count": 7,
   "id": "51fddf3e",
   "metadata": {
    "execution": {
     "iopub.execute_input": "2024-08-07T19:47:35.888954Z",
     "iopub.status.busy": "2024-08-07T19:47:35.888733Z",
     "iopub.status.idle": "2024-08-07T19:47:35.905570Z",
     "shell.execute_reply": "2024-08-07T19:47:35.905146Z"
    },
    "papermill": {
     "duration": 0.023394,
     "end_time": "2024-08-07T19:47:35.906867",
     "exception": false,
     "start_time": "2024-08-07T19:47:35.883473",
     "status": "completed"
    },
    "tags": []
   },
   "outputs": [
    {
     "data": {
      "text/plain": [
       "{'2010 Census Tracts',\n",
       " 'City Council Districts',\n",
       " 'Comment',\n",
       " 'GHGEmissions(MetricTonsCO2e)',\n",
       " 'GHGEmissionsIntensity(kgCO2e/ft2)',\n",
       " 'Location',\n",
       " 'OtherFuelUse(kBtu)',\n",
       " 'SPD Beats',\n",
       " 'Seattle Police Department Micro Community Policing Plan Areas',\n",
       " 'Zip Codes'}"
      ]
     },
     "execution_count": 7,
     "metadata": {},
     "output_type": "execute_result"
    }
   ],
   "source": [
    "set(data2015) - set(data2016)"
   ]
  },
  {
   "cell_type": "code",
   "execution_count": 8,
   "id": "372ea76b",
   "metadata": {
    "execution": {
     "iopub.execute_input": "2024-08-07T19:47:35.915980Z",
     "iopub.status.busy": "2024-08-07T19:47:35.915771Z",
     "iopub.status.idle": "2024-08-07T19:47:35.930698Z",
     "shell.execute_reply": "2024-08-07T19:47:35.930296Z"
    },
    "papermill": {
     "duration": 0.020971,
     "end_time": "2024-08-07T19:47:35.931920",
     "exception": false,
     "start_time": "2024-08-07T19:47:35.910949",
     "status": "completed"
    },
    "tags": []
   },
   "outputs": [
    {
     "data": {
      "text/plain": [
       "{'Address',\n",
       " 'City',\n",
       " 'Comments',\n",
       " 'GHGEmissionsIntensity',\n",
       " 'Latitude',\n",
       " 'Longitude',\n",
       " 'State',\n",
       " 'TotalGHGEmissions',\n",
       " 'ZipCode'}"
      ]
     },
     "execution_count": 8,
     "metadata": {},
     "output_type": "execute_result"
    }
   ],
   "source": [
    "# 2016 missing in 2015\n",
    "set(data2016) - set(data2015)"
   ]
  },
  {
   "cell_type": "code",
   "execution_count": 9,
   "id": "43aba1e7",
   "metadata": {
    "execution": {
     "iopub.execute_input": "2024-08-07T19:47:35.941469Z",
     "iopub.status.busy": "2024-08-07T19:47:35.941284Z",
     "iopub.status.idle": "2024-08-07T19:47:35.956168Z",
     "shell.execute_reply": "2024-08-07T19:47:35.955779Z"
    },
    "papermill": {
     "duration": 0.021272,
     "end_time": "2024-08-07T19:47:35.957462",
     "exception": false,
     "start_time": "2024-08-07T19:47:35.936190",
     "status": "completed"
    },
    "tags": []
   },
   "outputs": [
    {
     "data": {
      "text/plain": [
       "{'latitude': '47.61310583',\n",
       " 'longitude': '-122.33335756',\n",
       " 'human_address': '{\"address\": \"724 PINE ST\", \"city\": \"SEATTLE\", \"state\": \"WA\", \"zip\": \"98101\"}'}"
      ]
     },
     "execution_count": 9,
     "metadata": {},
     "output_type": "execute_result"
    }
   ],
   "source": [
    "ast.literal_eval(data2015['Location'][1])"
   ]
  },
  {
   "cell_type": "code",
   "execution_count": 10,
   "id": "853690a5",
   "metadata": {
    "execution": {
     "iopub.execute_input": "2024-08-07T19:47:35.966362Z",
     "iopub.status.busy": "2024-08-07T19:47:35.966190Z",
     "iopub.status.idle": "2024-08-07T19:47:36.562269Z",
     "shell.execute_reply": "2024-08-07T19:47:36.561780Z"
    },
    "papermill": {
     "duration": 0.602112,
     "end_time": "2024-08-07T19:47:36.563792",
     "exception": false,
     "start_time": "2024-08-07T19:47:35.961680",
     "status": "completed"
    },
    "tags": []
   },
   "outputs": [],
   "source": [
    "data2015['Latitude']=data2015['Location'].apply(lambda l : ast.literal_eval(l)['latitude'])\n",
    "data2015['Longitude']=data2015['Location'].apply(lambda l : ast.literal_eval(l)['longitude'])\n",
    "data2015['State']=data2015['Location'].apply(lambda l :  ast.literal_eval(ast.literal_eval(l)['human_address'])['state'])\n",
    "data2015['ZipCode']=data2015['Location'].apply(lambda l :  ast.literal_eval(ast.literal_eval(l)['human_address'])['zip'])\n",
    "data2015['City']=data2015['Location'].apply(lambda l :  ast.literal_eval(ast.literal_eval(l)['human_address'])['city'])\n",
    "data2015['Address']=data2015['Location'].apply(lambda l :  ast.literal_eval(ast.literal_eval(l)['human_address'])['address'])"
   ]
  },
  {
   "cell_type": "code",
   "execution_count": 11,
   "id": "d6ed2be1",
   "metadata": {
    "execution": {
     "iopub.execute_input": "2024-08-07T19:47:36.573673Z",
     "iopub.status.busy": "2024-08-07T19:47:36.573477Z",
     "iopub.status.idle": "2024-08-07T19:47:36.588520Z",
     "shell.execute_reply": "2024-08-07T19:47:36.588076Z"
    },
    "papermill": {
     "duration": 0.021376,
     "end_time": "2024-08-07T19:47:36.589956",
     "exception": false,
     "start_time": "2024-08-07T19:47:36.568580",
     "status": "completed"
    },
    "tags": []
   },
   "outputs": [],
   "source": [
    "data2015['TotalGHGEmissions']=data2015['GHGEmissions(MetricTonsCO2e)']\n",
    "data2015['GHGEmissionsIntensity']=data2015['GHGEmissionsIntensity(kgCO2e/ft2)']"
   ]
  },
  {
   "cell_type": "code",
   "execution_count": 12,
   "id": "3233f310",
   "metadata": {
    "execution": {
     "iopub.execute_input": "2024-08-07T19:47:36.599098Z",
     "iopub.status.busy": "2024-08-07T19:47:36.598908Z",
     "iopub.status.idle": "2024-08-07T19:47:36.613811Z",
     "shell.execute_reply": "2024-08-07T19:47:36.613414Z"
    },
    "papermill": {
     "duration": 0.020849,
     "end_time": "2024-08-07T19:47:36.615077",
     "exception": false,
     "start_time": "2024-08-07T19:47:36.594228",
     "status": "completed"
    },
    "tags": []
   },
   "outputs": [
    {
     "data": {
      "text/plain": [
       "{'2010 Census Tracts',\n",
       " 'City Council Districts',\n",
       " 'Comment',\n",
       " 'GHGEmissions(MetricTonsCO2e)',\n",
       " 'GHGEmissionsIntensity(kgCO2e/ft2)',\n",
       " 'Location',\n",
       " 'OtherFuelUse(kBtu)',\n",
       " 'SPD Beats',\n",
       " 'Seattle Police Department Micro Community Policing Plan Areas',\n",
       " 'Zip Codes'}"
      ]
     },
     "execution_count": 12,
     "metadata": {},
     "output_type": "execute_result"
    }
   ],
   "source": [
    "# 2015 and 2016 now aligned and ready to be combined\n",
    "set(data2015) - set(data2016)"
   ]
  },
  {
   "cell_type": "code",
   "execution_count": 13,
   "id": "a825f7a4",
   "metadata": {
    "execution": {
     "iopub.execute_input": "2024-08-07T19:47:36.624553Z",
     "iopub.status.busy": "2024-08-07T19:47:36.624262Z",
     "iopub.status.idle": "2024-08-07T19:47:36.638755Z",
     "shell.execute_reply": "2024-08-07T19:47:36.638375Z"
    },
    "papermill": {
     "duration": 0.020413,
     "end_time": "2024-08-07T19:47:36.640057",
     "exception": false,
     "start_time": "2024-08-07T19:47:36.619644",
     "status": "completed"
    },
    "tags": []
   },
   "outputs": [
    {
     "data": {
      "text/plain": [
       "{'Comments'}"
      ]
     },
     "execution_count": 13,
     "metadata": {},
     "output_type": "execute_result"
    }
   ],
   "source": [
    "set(data2016) - set(data2015)"
   ]
  },
  {
   "cell_type": "markdown",
   "id": "0d3700c8",
   "metadata": {
    "papermill": {
     "duration": 0.004216,
     "end_time": "2024-08-07T19:47:36.648703",
     "exception": false,
     "start_time": "2024-08-07T19:47:36.644487",
     "status": "completed"
    },
    "tags": []
   },
   "source": [
    "Some columns are only available in the 2015 dataset. Some of them do not provide useful information and the others are largely incomplete. We are going to drop them in order to have a perfectly harmonized dataset.\n"
   ]
  },
  {
   "cell_type": "code",
   "execution_count": 14,
   "id": "2bc3b5cd",
   "metadata": {
    "execution": {
     "iopub.execute_input": "2024-08-07T19:47:36.657849Z",
     "iopub.status.busy": "2024-08-07T19:47:36.657660Z",
     "iopub.status.idle": "2024-08-07T19:47:36.675720Z",
     "shell.execute_reply": "2024-08-07T19:47:36.675292Z"
    },
    "papermill": {
     "duration": 0.024385,
     "end_time": "2024-08-07T19:47:36.677210",
     "exception": false,
     "start_time": "2024-08-07T19:47:36.652825",
     "status": "completed"
    },
    "tags": []
   },
   "outputs": [],
   "source": [
    "data2015.drop(['Location','GHGEmissions(MetricTonsCO2e)','GHGEmissionsIntensity(kgCO2e/ft2)', 'SPD Beats','Seattle Police Department Micro Community Policing Plan Areas',\n",
    "               'Zip Codes','OtherFuelUse(kBtu)','2010 Census Tracts','City Council Districts', 'Comment'], axis='columns', inplace=True)"
   ]
  },
  {
   "cell_type": "code",
   "execution_count": 15,
   "id": "0bbeb58e",
   "metadata": {
    "execution": {
     "iopub.execute_input": "2024-08-07T19:47:36.687011Z",
     "iopub.status.busy": "2024-08-07T19:47:36.686812Z",
     "iopub.status.idle": "2024-08-07T19:47:36.703278Z",
     "shell.execute_reply": "2024-08-07T19:47:36.702788Z"
    },
    "papermill": {
     "duration": 0.02278,
     "end_time": "2024-08-07T19:47:36.704745",
     "exception": false,
     "start_time": "2024-08-07T19:47:36.681965",
     "status": "completed"
    },
    "tags": []
   },
   "outputs": [],
   "source": [
    "data2016.drop(['Comments'], axis='columns', inplace=True)"
   ]
  },
  {
   "cell_type": "markdown",
   "id": "22cd5619",
   "metadata": {
    "papermill": {
     "duration": 0.004485,
     "end_time": "2024-08-07T19:47:36.713828",
     "exception": false,
     "start_time": "2024-08-07T19:47:36.709343",
     "status": "completed"
    },
    "tags": []
   },
   "source": [
    "### Align data types between the 2 files\n"
   ]
  },
  {
   "cell_type": "code",
   "execution_count": 16,
   "id": "8d49a001",
   "metadata": {
    "execution": {
     "iopub.execute_input": "2024-08-07T19:47:36.723973Z",
     "iopub.status.busy": "2024-08-07T19:47:36.723756Z",
     "iopub.status.idle": "2024-08-07T19:47:36.753114Z",
     "shell.execute_reply": "2024-08-07T19:47:36.752702Z"
    },
    "papermill": {
     "duration": 0.035944,
     "end_time": "2024-08-07T19:47:36.754368",
     "exception": false,
     "start_time": "2024-08-07T19:47:36.718424",
     "status": "completed"
    },
    "tags": []
   },
   "outputs": [
    {
     "data": {
      "text/html": [
       "<div>\n",
       "<style scoped>\n",
       "    .dataframe tbody tr th:only-of-type {\n",
       "        vertical-align: middle;\n",
       "    }\n",
       "\n",
       "    .dataframe tbody tr th {\n",
       "        vertical-align: top;\n",
       "    }\n",
       "\n",
       "    .dataframe thead th {\n",
       "        text-align: right;\n",
       "    }\n",
       "</style>\n",
       "<table border=\"1\" class=\"dataframe\">\n",
       "  <thead>\n",
       "    <tr style=\"text-align: right;\">\n",
       "      <th></th>\n",
       "      <th>OSEBuildingID</th>\n",
       "      <th>DataYear</th>\n",
       "      <th>BuildingType</th>\n",
       "      <th>PrimaryPropertyType</th>\n",
       "      <th>PropertyName</th>\n",
       "      <th>TaxParcelIdentificationNumber</th>\n",
       "      <th>CouncilDistrictCode</th>\n",
       "      <th>Neighborhood</th>\n",
       "      <th>YearBuilt</th>\n",
       "      <th>NumberofBuildings</th>\n",
       "      <th>NumberofFloors</th>\n",
       "      <th>PropertyGFATotal</th>\n",
       "      <th>PropertyGFAParking</th>\n",
       "      <th>PropertyGFABuilding(s)</th>\n",
       "      <th>ListOfAllPropertyUseTypes</th>\n",
       "      <th>LargestPropertyUseType</th>\n",
       "      <th>LargestPropertyUseTypeGFA</th>\n",
       "      <th>SecondLargestPropertyUseType</th>\n",
       "      <th>SecondLargestPropertyUseTypeGFA</th>\n",
       "      <th>ThirdLargestPropertyUseType</th>\n",
       "      <th>ThirdLargestPropertyUseTypeGFA</th>\n",
       "      <th>YearsENERGYSTARCertified</th>\n",
       "      <th>ENERGYSTARScore</th>\n",
       "      <th>SiteEUI(kBtu/sf)</th>\n",
       "      <th>SiteEUIWN(kBtu/sf)</th>\n",
       "      <th>SourceEUI(kBtu/sf)</th>\n",
       "      <th>SourceEUIWN(kBtu/sf)</th>\n",
       "      <th>SiteEnergyUse(kBtu)</th>\n",
       "      <th>SiteEnergyUseWN(kBtu)</th>\n",
       "      <th>SteamUse(kBtu)</th>\n",
       "      <th>Electricity(kWh)</th>\n",
       "      <th>Electricity(kBtu)</th>\n",
       "      <th>NaturalGas(therms)</th>\n",
       "      <th>NaturalGas(kBtu)</th>\n",
       "      <th>DefaultData</th>\n",
       "      <th>ComplianceStatus</th>\n",
       "      <th>Outlier</th>\n",
       "      <th>Latitude</th>\n",
       "      <th>Longitude</th>\n",
       "      <th>State</th>\n",
       "      <th>ZipCode</th>\n",
       "      <th>City</th>\n",
       "      <th>Address</th>\n",
       "      <th>TotalGHGEmissions</th>\n",
       "      <th>GHGEmissionsIntensity</th>\n",
       "    </tr>\n",
       "  </thead>\n",
       "  <tbody>\n",
       "    <tr>\n",
       "      <th>0</th>\n",
       "      <td>int64</td>\n",
       "      <td>int64</td>\n",
       "      <td>object</td>\n",
       "      <td>object</td>\n",
       "      <td>object</td>\n",
       "      <td>object</td>\n",
       "      <td>int64</td>\n",
       "      <td>object</td>\n",
       "      <td>int64</td>\n",
       "      <td>int64</td>\n",
       "      <td>float64</td>\n",
       "      <td>int64</td>\n",
       "      <td>int64</td>\n",
       "      <td>int64</td>\n",
       "      <td>object</td>\n",
       "      <td>object</td>\n",
       "      <td>float64</td>\n",
       "      <td>object</td>\n",
       "      <td>float64</td>\n",
       "      <td>object</td>\n",
       "      <td>float64</td>\n",
       "      <td>object</td>\n",
       "      <td>float64</td>\n",
       "      <td>float64</td>\n",
       "      <td>float64</td>\n",
       "      <td>float64</td>\n",
       "      <td>float64</td>\n",
       "      <td>float64</td>\n",
       "      <td>float64</td>\n",
       "      <td>float64</td>\n",
       "      <td>float64</td>\n",
       "      <td>float64</td>\n",
       "      <td>float64</td>\n",
       "      <td>float64</td>\n",
       "      <td>object</td>\n",
       "      <td>object</td>\n",
       "      <td>object</td>\n",
       "      <td>object</td>\n",
       "      <td>object</td>\n",
       "      <td>object</td>\n",
       "      <td>object</td>\n",
       "      <td>object</td>\n",
       "      <td>object</td>\n",
       "      <td>float64</td>\n",
       "      <td>float64</td>\n",
       "    </tr>\n",
       "    <tr>\n",
       "      <th>1</th>\n",
       "      <td>int64</td>\n",
       "      <td>int64</td>\n",
       "      <td>object</td>\n",
       "      <td>object</td>\n",
       "      <td>object</td>\n",
       "      <td>object</td>\n",
       "      <td>int64</td>\n",
       "      <td>object</td>\n",
       "      <td>int64</td>\n",
       "      <td>float64</td>\n",
       "      <td>int64</td>\n",
       "      <td>int64</td>\n",
       "      <td>int64</td>\n",
       "      <td>int64</td>\n",
       "      <td>object</td>\n",
       "      <td>object</td>\n",
       "      <td>float64</td>\n",
       "      <td>object</td>\n",
       "      <td>float64</td>\n",
       "      <td>object</td>\n",
       "      <td>float64</td>\n",
       "      <td>object</td>\n",
       "      <td>float64</td>\n",
       "      <td>float64</td>\n",
       "      <td>float64</td>\n",
       "      <td>float64</td>\n",
       "      <td>float64</td>\n",
       "      <td>float64</td>\n",
       "      <td>float64</td>\n",
       "      <td>float64</td>\n",
       "      <td>float64</td>\n",
       "      <td>float64</td>\n",
       "      <td>float64</td>\n",
       "      <td>float64</td>\n",
       "      <td>bool</td>\n",
       "      <td>object</td>\n",
       "      <td>object</td>\n",
       "      <td>float64</td>\n",
       "      <td>float64</td>\n",
       "      <td>object</td>\n",
       "      <td>float64</td>\n",
       "      <td>object</td>\n",
       "      <td>object</td>\n",
       "      <td>float64</td>\n",
       "      <td>float64</td>\n",
       "    </tr>\n",
       "  </tbody>\n",
       "</table>\n",
       "</div>"
      ],
      "text/plain": [
       "  OSEBuildingID DataYear BuildingType PrimaryPropertyType PropertyName  \\\n",
       "0         int64    int64       object              object       object   \n",
       "1         int64    int64       object              object       object   \n",
       "\n",
       "  TaxParcelIdentificationNumber CouncilDistrictCode Neighborhood YearBuilt  \\\n",
       "0                        object               int64       object     int64   \n",
       "1                        object               int64       object     int64   \n",
       "\n",
       "  NumberofBuildings NumberofFloors PropertyGFATotal PropertyGFAParking  \\\n",
       "0             int64        float64            int64              int64   \n",
       "1           float64          int64            int64              int64   \n",
       "\n",
       "  PropertyGFABuilding(s) ListOfAllPropertyUseTypes LargestPropertyUseType  \\\n",
       "0                  int64                    object                 object   \n",
       "1                  int64                    object                 object   \n",
       "\n",
       "  LargestPropertyUseTypeGFA SecondLargestPropertyUseType  \\\n",
       "0                   float64                       object   \n",
       "1                   float64                       object   \n",
       "\n",
       "  SecondLargestPropertyUseTypeGFA ThirdLargestPropertyUseType  \\\n",
       "0                         float64                      object   \n",
       "1                         float64                      object   \n",
       "\n",
       "  ThirdLargestPropertyUseTypeGFA YearsENERGYSTARCertified ENERGYSTARScore  \\\n",
       "0                        float64                   object         float64   \n",
       "1                        float64                   object         float64   \n",
       "\n",
       "  SiteEUI(kBtu/sf) SiteEUIWN(kBtu/sf) SourceEUI(kBtu/sf) SourceEUIWN(kBtu/sf)  \\\n",
       "0          float64            float64            float64              float64   \n",
       "1          float64            float64            float64              float64   \n",
       "\n",
       "  SiteEnergyUse(kBtu) SiteEnergyUseWN(kBtu) SteamUse(kBtu) Electricity(kWh)  \\\n",
       "0             float64               float64        float64          float64   \n",
       "1             float64               float64        float64          float64   \n",
       "\n",
       "  Electricity(kBtu) NaturalGas(therms) NaturalGas(kBtu) DefaultData  \\\n",
       "0           float64            float64          float64      object   \n",
       "1           float64            float64          float64        bool   \n",
       "\n",
       "  ComplianceStatus Outlier Latitude Longitude   State  ZipCode    City  \\\n",
       "0           object  object   object    object  object   object  object   \n",
       "1           object  object  float64   float64  object  float64  object   \n",
       "\n",
       "  Address TotalGHGEmissions GHGEmissionsIntensity  \n",
       "0  object           float64               float64  \n",
       "1  object           float64               float64  "
      ]
     },
     "execution_count": 16,
     "metadata": {},
     "output_type": "execute_result"
    }
   ],
   "source": [
    "pd.DataFrame([data2015.dtypes,data2016.dtypes])"
   ]
  },
  {
   "cell_type": "code",
   "execution_count": 17,
   "id": "e3d9b56d",
   "metadata": {
    "execution": {
     "iopub.execute_input": "2024-08-07T19:47:36.764490Z",
     "iopub.status.busy": "2024-08-07T19:47:36.764298Z",
     "iopub.status.idle": "2024-08-07T19:47:36.783393Z",
     "shell.execute_reply": "2024-08-07T19:47:36.782918Z"
    },
    "papermill": {
     "duration": 0.025663,
     "end_time": "2024-08-07T19:47:36.784860",
     "exception": false,
     "start_time": "2024-08-07T19:47:36.759197",
     "status": "completed"
    },
    "tags": []
   },
   "outputs": [],
   "source": [
    "data2015[['Latitude','Longitude','ZipCode']]=data2015[['Latitude','Longitude','ZipCode']].astype('float64')"
   ]
  },
  {
   "cell_type": "code",
   "execution_count": 18,
   "id": "4aab806a",
   "metadata": {
    "execution": {
     "iopub.execute_input": "2024-08-07T19:47:36.795982Z",
     "iopub.status.busy": "2024-08-07T19:47:36.795798Z",
     "iopub.status.idle": "2024-08-07T19:47:36.813658Z",
     "shell.execute_reply": "2024-08-07T19:47:36.813199Z"
    },
    "papermill": {
     "duration": 0.024494,
     "end_time": "2024-08-07T19:47:36.815035",
     "exception": false,
     "start_time": "2024-08-07T19:47:36.790541",
     "status": "completed"
    },
    "tags": []
   },
   "outputs": [],
   "source": [
    "data2015['DefaultData'] = data2015['DefaultData'].map({'Yes' : True, 'No' : False}).head()"
   ]
  },
  {
   "cell_type": "markdown",
   "id": "cca5f408",
   "metadata": {
    "papermill": {
     "duration": 0.004549,
     "end_time": "2024-08-07T19:47:36.824524",
     "exception": false,
     "start_time": "2024-08-07T19:47:36.819975",
     "status": "completed"
    },
    "tags": []
   },
   "source": [
    "### Combine the 2 datasets\n"
   ]
  },
  {
   "cell_type": "code",
   "execution_count": 19,
   "id": "14bcfefa",
   "metadata": {
    "execution": {
     "iopub.execute_input": "2024-08-07T19:47:36.834539Z",
     "iopub.status.busy": "2024-08-07T19:47:36.834318Z",
     "iopub.status.idle": "2024-08-07T19:47:36.852825Z",
     "shell.execute_reply": "2024-08-07T19:47:36.852368Z"
    },
    "papermill": {
     "duration": 0.025214,
     "end_time": "2024-08-07T19:47:36.854285",
     "exception": false,
     "start_time": "2024-08-07T19:47:36.829071",
     "status": "completed"
    },
    "tags": []
   },
   "outputs": [],
   "source": [
    "data = pd.concat([data2015,data2016], axis=0, ignore_index=True)"
   ]
  },
  {
   "cell_type": "code",
   "execution_count": 20,
   "id": "45c57770",
   "metadata": {
    "execution": {
     "iopub.execute_input": "2024-08-07T19:47:36.864828Z",
     "iopub.status.busy": "2024-08-07T19:47:36.864536Z",
     "iopub.status.idle": "2024-08-07T19:47:36.894844Z",
     "shell.execute_reply": "2024-08-07T19:47:36.894448Z"
    },
    "papermill": {
     "duration": 0.036843,
     "end_time": "2024-08-07T19:47:36.896138",
     "exception": false,
     "start_time": "2024-08-07T19:47:36.859295",
     "status": "completed"
    },
    "tags": []
   },
   "outputs": [
    {
     "name": "stdout",
     "output_type": "stream",
     "text": [
      "<class 'pandas.core.frame.DataFrame'>\n",
      "RangeIndex: 6716 entries, 0 to 6715\n",
      "Data columns (total 45 columns):\n",
      " #   Column                           Non-Null Count  Dtype  \n",
      "---  ------                           --------------  -----  \n",
      " 0   OSEBuildingID                    6716 non-null   int64  \n",
      " 1   DataYear                         6716 non-null   int64  \n",
      " 2   BuildingType                     6716 non-null   object \n",
      " 3   PrimaryPropertyType              6716 non-null   object \n",
      " 4   PropertyName                     6716 non-null   object \n",
      " 5   TaxParcelIdentificationNumber    6714 non-null   object \n",
      " 6   CouncilDistrictCode              6716 non-null   int64  \n",
      " 7   Neighborhood                     6716 non-null   object \n",
      " 8   YearBuilt                        6716 non-null   int64  \n",
      " 9   NumberofBuildings                6708 non-null   float64\n",
      " 10  NumberofFloors                   6708 non-null   float64\n",
      " 11  PropertyGFATotal                 6716 non-null   int64  \n",
      " 12  PropertyGFAParking               6716 non-null   int64  \n",
      " 13  PropertyGFABuilding(s)           6716 non-null   int64  \n",
      " 14  ListOfAllPropertyUseTypes        6580 non-null   object \n",
      " 15  LargestPropertyUseType           6560 non-null   object \n",
      " 16  LargestPropertyUseTypeGFA        6560 non-null   float64\n",
      " 17  SecondLargestPropertyUseType     3238 non-null   object \n",
      " 18  SecondLargestPropertyUseTypeGFA  3238 non-null   float64\n",
      " 19  ThirdLargestPropertyUseType      1156 non-null   object \n",
      " 20  ThirdLargestPropertyUseTypeGFA   1156 non-null   float64\n",
      " 21  YearsENERGYSTARCertified         229 non-null    object \n",
      " 22  ENERGYSTARScore                  5093 non-null   float64\n",
      " 23  SiteEUI(kBtu/sf)                 6699 non-null   float64\n",
      " 24  SiteEUIWN(kBtu/sf)               6700 non-null   float64\n",
      " 25  SourceEUI(kBtu/sf)               6697 non-null   float64\n",
      " 26  SourceEUIWN(kBtu/sf)             6697 non-null   float64\n",
      " 27  SiteEnergyUse(kBtu)              6701 non-null   float64\n",
      " 28  SiteEnergyUseWN(kBtu)            6700 non-null   float64\n",
      " 29  SteamUse(kBtu)                   6697 non-null   float64\n",
      " 30  Electricity(kWh)                 6697 non-null   float64\n",
      " 31  Electricity(kBtu)                6697 non-null   float64\n",
      " 32  NaturalGas(therms)               6697 non-null   float64\n",
      " 33  NaturalGas(kBtu)                 6697 non-null   float64\n",
      " 34  DefaultData                      3381 non-null   object \n",
      " 35  ComplianceStatus                 6716 non-null   object \n",
      " 36  Outlier                          116 non-null    object \n",
      " 37  Latitude                         6716 non-null   float64\n",
      " 38  Longitude                        6716 non-null   float64\n",
      " 39  State                            6716 non-null   object \n",
      " 40  ZipCode                          6700 non-null   float64\n",
      " 41  City                             6716 non-null   object \n",
      " 42  Address                          6716 non-null   object \n",
      " 43  TotalGHGEmissions                6697 non-null   float64\n",
      " 44  GHGEmissionsIntensity            6697 non-null   float64\n",
      "dtypes: float64(22), int64(7), object(16)\n",
      "memory usage: 2.3+ MB\n"
     ]
    }
   ],
   "source": [
    "# Columns \n",
    "data.info()"
   ]
  },
  {
   "cell_type": "markdown",
   "id": "7dbd4b89",
   "metadata": {
    "papermill": {
     "duration": 0.004634,
     "end_time": "2024-08-07T19:47:36.906139",
     "exception": false,
     "start_time": "2024-08-07T19:47:36.901505",
     "status": "completed"
    },
    "tags": []
   },
   "source": [
    "### Harmonize values\n"
   ]
  },
  {
   "cell_type": "code",
   "execution_count": 21,
   "id": "6678bce5",
   "metadata": {
    "execution": {
     "iopub.execute_input": "2024-08-07T19:47:36.917238Z",
     "iopub.status.busy": "2024-08-07T19:47:36.917001Z",
     "iopub.status.idle": "2024-08-07T19:47:36.955247Z",
     "shell.execute_reply": "2024-08-07T19:47:36.954371Z"
    },
    "papermill": {
     "duration": 0.045689,
     "end_time": "2024-08-07T19:47:36.957036",
     "exception": false,
     "start_time": "2024-08-07T19:47:36.911347",
     "status": "completed"
    },
    "tags": []
   },
   "outputs": [
    {
     "name": "stdout",
     "output_type": "stream",
     "text": [
      "OSEBuildingID -------> 3432\n",
      "DataYear -------> [2015 2016]\n",
      "BuildingType -------> ['NonResidential' 'Nonresidential COS' 'Multifamily MR (5-9)'\n",
      " 'SPS-District K-12' 'Multifamily LR (1-4)' 'Campus'\n",
      " 'Multifamily HR (10+)' 'Nonresidential WA']\n",
      "PrimaryPropertyType -------> 32\n",
      "PropertyName -------> 6527\n",
      "TaxParcelIdentificationNumber -------> 3729\n",
      "CouncilDistrictCode -------> [7 3 2 4 5 6 1]\n",
      "Neighborhood -------> ['DOWNTOWN' 'SOUTHEAST' 'NORTHEAST' 'EAST' 'CENTRAL' 'NORTH'\n",
      " 'MAGNOLIA / QUEEN ANNE' 'LAKE UNION' 'GREATER DUWAMISH' 'BALLARD'\n",
      " 'NORTHWEST' 'SOUTHWEST' 'DELRIDGE' 'Central' 'Ballard' 'North' 'Delridge'\n",
      " 'Northwest' 'DELRIDGE NEIGHBORHOODS']\n",
      "YearBuilt -------> 113\n",
      "NumberofBuildings -------> [  1.   7.  11.  16.   4.   3.  39.   2.  10.   6.   0.  27.  14.   9.\n",
      "   5.  nan   8.  23. 111.]\n",
      "NumberofFloors -------> 50\n",
      "PropertyGFATotal -------> 3297\n",
      "PropertyGFAParking -------> 960\n",
      "PropertyGFABuilding(s) -------> 3726\n",
      "ListOfAllPropertyUseTypes -------> 488\n",
      "LargestPropertyUseType -------> 57\n",
      "LargestPropertyUseTypeGFA -------> 3332\n",
      "SecondLargestPropertyUseType -------> 50\n",
      "SecondLargestPropertyUseTypeGFA -------> 1434\n",
      "ThirdLargestPropertyUseType -------> 45\n",
      "ThirdLargestPropertyUseTypeGFA -------> 531\n",
      "YearsENERGYSTARCertified -------> 116\n",
      "ENERGYSTARScore -------> 100\n",
      "SiteEUI(kBtu/sf) -------> 2020\n",
      "SiteEUIWN(kBtu/sf) -------> 2065\n",
      "SourceEUI(kBtu/sf) -------> 3137\n",
      "SourceEUIWN(kBtu/sf) -------> 3191\n",
      "SiteEnergyUse(kBtu) -------> 6679\n",
      "SiteEnergyUseWN(kBtu) -------> 6659\n",
      "SteamUse(kBtu) -------> 261\n",
      "Electricity(kWh) -------> 6677\n",
      "Electricity(kBtu) -------> 6678\n",
      "NaturalGas(therms) -------> 4101\n",
      "NaturalGas(kBtu) -------> 4181\n",
      "DefaultData -------> [False True nan]\n",
      "ComplianceStatus -------> ['Compliant' 'Not Compliant' 'Error - Correct Default Data' 'Missing Data'\n",
      " 'Non-Compliant']\n",
      "Outlier -------> [nan 'High Outlier' 'Low Outlier' 'High outlier' 'Low outlier']\n",
      "Latitude -------> 6111\n",
      "Longitude -------> 5863\n",
      "State -------> ['WA']\n",
      "ZipCode -------> 55\n",
      "City -------> ['SEATTLE' 'Seattle']\n",
      "Address -------> 6379\n",
      "TotalGHGEmissions -------> 4924\n",
      "GHGEmissionsIntensity -------> 612\n"
     ]
    }
   ],
   "source": [
    "for key in list(data.keys()):\n",
    "    if data[key].nunique()<20:\n",
    "        print(key,'------->', data[key].unique())\n",
    "    else:\n",
    "        print(key, '------->',data[key].nunique())"
   ]
  },
  {
   "cell_type": "code",
   "execution_count": 22,
   "id": "a54fd586",
   "metadata": {
    "execution": {
     "iopub.execute_input": "2024-08-07T19:47:36.968893Z",
     "iopub.status.busy": "2024-08-07T19:47:36.968663Z",
     "iopub.status.idle": "2024-08-07T19:47:36.988313Z",
     "shell.execute_reply": "2024-08-07T19:47:36.987564Z"
    },
    "papermill": {
     "duration": 0.028244,
     "end_time": "2024-08-07T19:47:36.990867",
     "exception": false,
     "start_time": "2024-08-07T19:47:36.962623",
     "status": "completed"
    },
    "tags": []
   },
   "outputs": [],
   "source": [
    "data['Neighborhood'].replace('Delridge', 'DELRIDGE', inplace=True)\n",
    "data['Neighborhood'].replace('DELRIDGE NEIGHBORHOODS', 'DELRIDGE', inplace=True)\n",
    "data['Neighborhood'].replace('North', 'NORTH', inplace=True)\n",
    "data['Neighborhood'].replace('Northwest', 'NORTHWEST', inplace=True)\n",
    "data['Neighborhood'].replace('Central', 'CENTRAL', inplace=True)\n",
    "data['Neighborhood'].replace('Ballard', 'BALLARD', inplace=True)"
   ]
  },
  {
   "cell_type": "code",
   "execution_count": 23,
   "id": "ca67d8ea",
   "metadata": {
    "execution": {
     "iopub.execute_input": "2024-08-07T19:47:37.001917Z",
     "iopub.status.busy": "2024-08-07T19:47:37.001693Z",
     "iopub.status.idle": "2024-08-07T19:47:37.017815Z",
     "shell.execute_reply": "2024-08-07T19:47:37.017114Z"
    },
    "papermill": {
     "duration": 0.023205,
     "end_time": "2024-08-07T19:47:37.019271",
     "exception": false,
     "start_time": "2024-08-07T19:47:36.996066",
     "status": "completed"
    },
    "tags": []
   },
   "outputs": [],
   "source": [
    "data['City'].replace('SEATTLE', 'Seattle', inplace=True)\n",
    "data['ComplianceStatus'].replace('Not Compliant', 'Non-Compliant', inplace=True)"
   ]
  },
  {
   "cell_type": "code",
   "execution_count": 24,
   "id": "228ae464",
   "metadata": {
    "execution": {
     "iopub.execute_input": "2024-08-07T19:47:37.030407Z",
     "iopub.status.busy": "2024-08-07T19:47:37.030186Z",
     "iopub.status.idle": "2024-08-07T19:47:37.045315Z",
     "shell.execute_reply": "2024-08-07T19:47:37.044868Z"
    },
    "papermill": {
     "duration": 0.022023,
     "end_time": "2024-08-07T19:47:37.046593",
     "exception": false,
     "start_time": "2024-08-07T19:47:37.024570",
     "status": "completed"
    },
    "tags": []
   },
   "outputs": [
    {
     "name": "stderr",
     "output_type": "stream",
     "text": [
      "\u001b[32m2024-08-07 19:47:37.043\u001b[0m | \u001b[1mINFO    \u001b[0m | \u001b[36m__main__\u001b[0m:\u001b[36m<module>\u001b[0m:\u001b[36m1\u001b[0m - Alignment Operations done !\n"
     ]
    }
   ],
   "source": [
    "logger.info(\"Alignment Operations done !\")"
   ]
  },
  {
   "cell_type": "code",
   "execution_count": 25,
   "id": "22c9dbf8",
   "metadata": {
    "execution": {
     "iopub.execute_input": "2024-08-07T19:47:37.058176Z",
     "iopub.status.busy": "2024-08-07T19:47:37.057830Z",
     "iopub.status.idle": "2024-08-07T19:47:37.121000Z",
     "shell.execute_reply": "2024-08-07T19:47:37.120591Z"
    },
    "papermill": {
     "duration": 0.07031,
     "end_time": "2024-08-07T19:47:37.122358",
     "exception": false,
     "start_time": "2024-08-07T19:47:37.052048",
     "status": "completed"
    },
    "tags": []
   },
   "outputs": [
    {
     "data": {
      "text/html": [
       "<div>\n",
       "<style scoped>\n",
       "    .dataframe tbody tr th:only-of-type {\n",
       "        vertical-align: middle;\n",
       "    }\n",
       "\n",
       "    .dataframe tbody tr th {\n",
       "        vertical-align: top;\n",
       "    }\n",
       "\n",
       "    .dataframe thead th {\n",
       "        text-align: right;\n",
       "    }\n",
       "</style>\n",
       "<table border=\"1\" class=\"dataframe\">\n",
       "  <thead>\n",
       "    <tr style=\"text-align: right;\">\n",
       "      <th></th>\n",
       "      <th>OSEBuildingID</th>\n",
       "      <th>DataYear</th>\n",
       "      <th>CouncilDistrictCode</th>\n",
       "      <th>YearBuilt</th>\n",
       "      <th>NumberofBuildings</th>\n",
       "      <th>NumberofFloors</th>\n",
       "      <th>PropertyGFATotal</th>\n",
       "      <th>PropertyGFAParking</th>\n",
       "      <th>PropertyGFABuilding(s)</th>\n",
       "      <th>LargestPropertyUseTypeGFA</th>\n",
       "      <th>SecondLargestPropertyUseTypeGFA</th>\n",
       "      <th>ThirdLargestPropertyUseTypeGFA</th>\n",
       "      <th>ENERGYSTARScore</th>\n",
       "      <th>SiteEUI(kBtu/sf)</th>\n",
       "      <th>SiteEUIWN(kBtu/sf)</th>\n",
       "      <th>SourceEUI(kBtu/sf)</th>\n",
       "      <th>SourceEUIWN(kBtu/sf)</th>\n",
       "      <th>SiteEnergyUse(kBtu)</th>\n",
       "      <th>SiteEnergyUseWN(kBtu)</th>\n",
       "      <th>SteamUse(kBtu)</th>\n",
       "      <th>Electricity(kWh)</th>\n",
       "      <th>Electricity(kBtu)</th>\n",
       "      <th>NaturalGas(therms)</th>\n",
       "      <th>NaturalGas(kBtu)</th>\n",
       "      <th>Latitude</th>\n",
       "      <th>Longitude</th>\n",
       "      <th>ZipCode</th>\n",
       "      <th>TotalGHGEmissions</th>\n",
       "      <th>GHGEmissionsIntensity</th>\n",
       "    </tr>\n",
       "  </thead>\n",
       "  <tbody>\n",
       "    <tr>\n",
       "      <th>count</th>\n",
       "      <td>6716.000000</td>\n",
       "      <td>6716.00000</td>\n",
       "      <td>6716.000000</td>\n",
       "      <td>6716.000000</td>\n",
       "      <td>6708.000000</td>\n",
       "      <td>6708.000000</td>\n",
       "      <td>6.716000e+03</td>\n",
       "      <td>6716.000000</td>\n",
       "      <td>6.716000e+03</td>\n",
       "      <td>6.560000e+03</td>\n",
       "      <td>3238.000000</td>\n",
       "      <td>1156.000000</td>\n",
       "      <td>5093.000000</td>\n",
       "      <td>6699.000000</td>\n",
       "      <td>6700.000000</td>\n",
       "      <td>6697.000000</td>\n",
       "      <td>6697.000000</td>\n",
       "      <td>6.701000e+03</td>\n",
       "      <td>6.700000e+03</td>\n",
       "      <td>6.697000e+03</td>\n",
       "      <td>6.697000e+03</td>\n",
       "      <td>6.697000e+03</td>\n",
       "      <td>6.697000e+03</td>\n",
       "      <td>6.697000e+03</td>\n",
       "      <td>6716.000000</td>\n",
       "      <td>6716.000000</td>\n",
       "      <td>6700.000000</td>\n",
       "      <td>6697.000000</td>\n",
       "      <td>6697.000000</td>\n",
       "    </tr>\n",
       "    <tr>\n",
       "      <th>mean</th>\n",
       "      <td>20867.420488</td>\n",
       "      <td>2015.50268</td>\n",
       "      <td>4.445057</td>\n",
       "      <td>1968.101549</td>\n",
       "      <td>1.071407</td>\n",
       "      <td>4.695736</td>\n",
       "      <td>9.281410e+04</td>\n",
       "      <td>9519.597975</td>\n",
       "      <td>8.329450e+04</td>\n",
       "      <td>7.707936e+04</td>\n",
       "      <td>28074.100153</td>\n",
       "      <td>11262.497750</td>\n",
       "      <td>67.906342</td>\n",
       "      <td>54.182341</td>\n",
       "      <td>57.308522</td>\n",
       "      <td>133.510303</td>\n",
       "      <td>138.356802</td>\n",
       "      <td>5.194673e+06</td>\n",
       "      <td>5.240110e+06</td>\n",
       "      <td>2.625076e+05</td>\n",
       "      <td>1.052458e+06</td>\n",
       "      <td>3.591058e+06</td>\n",
       "      <td>1.311223e+04</td>\n",
       "      <td>1.311223e+06</td>\n",
       "      <td>47.624062</td>\n",
       "      <td>-122.334904</td>\n",
       "      <td>98116.843582</td>\n",
       "      <td>114.935638</td>\n",
       "      <td>1.081154</td>\n",
       "    </tr>\n",
       "    <tr>\n",
       "      <th>std</th>\n",
       "      <td>11878.968174</td>\n",
       "      <td>0.50003</td>\n",
       "      <td>2.123749</td>\n",
       "      <td>33.020391</td>\n",
       "      <td>1.593505</td>\n",
       "      <td>5.476218</td>\n",
       "      <td>1.875062e+05</td>\n",
       "      <td>33868.050881</td>\n",
       "      <td>1.733470e+05</td>\n",
       "      <td>1.681617e+05</td>\n",
       "      <td>53473.984688</td>\n",
       "      <td>26287.655182</td>\n",
       "      <td>27.012124</td>\n",
       "      <td>55.101657</td>\n",
       "      <td>56.390651</td>\n",
       "      <td>135.677195</td>\n",
       "      <td>135.302508</td>\n",
       "      <td>1.813648e+07</td>\n",
       "      <td>1.500896e+07</td>\n",
       "      <td>3.704221e+06</td>\n",
       "      <td>3.659769e+06</td>\n",
       "      <td>1.248728e+07</td>\n",
       "      <td>5.685626e+04</td>\n",
       "      <td>5.685627e+06</td>\n",
       "      <td>0.047837</td>\n",
       "      <td>0.027185</td>\n",
       "      <td>17.730253</td>\n",
       "      <td>478.876573</td>\n",
       "      <td>1.734763</td>\n",
       "    </tr>\n",
       "    <tr>\n",
       "      <th>min</th>\n",
       "      <td>1.000000</td>\n",
       "      <td>2015.00000</td>\n",
       "      <td>1.000000</td>\n",
       "      <td>1900.000000</td>\n",
       "      <td>0.000000</td>\n",
       "      <td>0.000000</td>\n",
       "      <td>1.128500e+04</td>\n",
       "      <td>-3.000000</td>\n",
       "      <td>-5.055000e+04</td>\n",
       "      <td>5.656000e+03</td>\n",
       "      <td>0.000000</td>\n",
       "      <td>0.000000</td>\n",
       "      <td>1.000000</td>\n",
       "      <td>0.000000</td>\n",
       "      <td>0.000000</td>\n",
       "      <td>-2.000000</td>\n",
       "      <td>-2.100000</td>\n",
       "      <td>0.000000e+00</td>\n",
       "      <td>0.000000e+00</td>\n",
       "      <td>0.000000e+00</td>\n",
       "      <td>-3.382680e+04</td>\n",
       "      <td>-1.154170e+05</td>\n",
       "      <td>0.000000e+00</td>\n",
       "      <td>0.000000e+00</td>\n",
       "      <td>47.499170</td>\n",
       "      <td>-122.414250</td>\n",
       "      <td>98006.000000</td>\n",
       "      <td>-0.800000</td>\n",
       "      <td>-0.020000</td>\n",
       "    </tr>\n",
       "    <tr>\n",
       "      <th>25%</th>\n",
       "      <td>19934.000000</td>\n",
       "      <td>2015.00000</td>\n",
       "      <td>3.000000</td>\n",
       "      <td>1948.000000</td>\n",
       "      <td>1.000000</td>\n",
       "      <td>2.000000</td>\n",
       "      <td>2.848700e+04</td>\n",
       "      <td>0.000000</td>\n",
       "      <td>2.727300e+04</td>\n",
       "      <td>2.501600e+04</td>\n",
       "      <td>4993.000000</td>\n",
       "      <td>2325.000000</td>\n",
       "      <td>52.000000</td>\n",
       "      <td>27.600000</td>\n",
       "      <td>29.600000</td>\n",
       "      <td>74.000000</td>\n",
       "      <td>79.199997</td>\n",
       "      <td>9.200689e+05</td>\n",
       "      <td>9.818029e+05</td>\n",
       "      <td>0.000000e+00</td>\n",
       "      <td>1.867660e+05</td>\n",
       "      <td>6.372730e+05</td>\n",
       "      <td>0.000000e+00</td>\n",
       "      <td>0.000000e+00</td>\n",
       "      <td>47.599857</td>\n",
       "      <td>-122.350603</td>\n",
       "      <td>98105.000000</td>\n",
       "      <td>9.450000</td>\n",
       "      <td>0.160000</td>\n",
       "    </tr>\n",
       "    <tr>\n",
       "      <th>50%</th>\n",
       "      <td>23064.000000</td>\n",
       "      <td>2016.00000</td>\n",
       "      <td>4.000000</td>\n",
       "      <td>1974.000000</td>\n",
       "      <td>1.000000</td>\n",
       "      <td>4.000000</td>\n",
       "      <td>4.400800e+04</td>\n",
       "      <td>0.000000</td>\n",
       "      <td>4.218500e+04</td>\n",
       "      <td>3.953000e+04</td>\n",
       "      <td>10631.000000</td>\n",
       "      <td>5039.000000</td>\n",
       "      <td>75.000000</td>\n",
       "      <td>38.000000</td>\n",
       "      <td>40.900000</td>\n",
       "      <td>95.600000</td>\n",
       "      <td>102.099998</td>\n",
       "      <td>1.791071e+06</td>\n",
       "      <td>1.926136e+06</td>\n",
       "      <td>0.000000e+00</td>\n",
       "      <td>3.422434e+05</td>\n",
       "      <td>1.167735e+06</td>\n",
       "      <td>3.051000e+03</td>\n",
       "      <td>3.051000e+05</td>\n",
       "      <td>47.618608</td>\n",
       "      <td>-122.332630</td>\n",
       "      <td>98115.000000</td>\n",
       "      <td>33.180000</td>\n",
       "      <td>0.540000</td>\n",
       "    </tr>\n",
       "    <tr>\n",
       "      <th>75%</th>\n",
       "      <td>25868.250000</td>\n",
       "      <td>2016.00000</td>\n",
       "      <td>7.000000</td>\n",
       "      <td>1996.000000</td>\n",
       "      <td>1.000000</td>\n",
       "      <td>5.000000</td>\n",
       "      <td>8.943125e+04</td>\n",
       "      <td>0.000000</td>\n",
       "      <td>8.112000e+04</td>\n",
       "      <td>7.417800e+04</td>\n",
       "      <td>26462.000000</td>\n",
       "      <td>10270.000000</td>\n",
       "      <td>90.000000</td>\n",
       "      <td>60.200000</td>\n",
       "      <td>64.925001</td>\n",
       "      <td>143.900000</td>\n",
       "      <td>149.800000</td>\n",
       "      <td>4.135280e+06</td>\n",
       "      <td>4.377974e+06</td>\n",
       "      <td>0.000000e+00</td>\n",
       "      <td>8.198140e+05</td>\n",
       "      <td>2.797320e+06</td>\n",
       "      <td>1.149639e+04</td>\n",
       "      <td>1.149639e+06</td>\n",
       "      <td>47.657135</td>\n",
       "      <td>-122.319733</td>\n",
       "      <td>98122.000000</td>\n",
       "      <td>91.530000</td>\n",
       "      <td>1.280000</td>\n",
       "    </tr>\n",
       "    <tr>\n",
       "      <th>max</th>\n",
       "      <td>50226.000000</td>\n",
       "      <td>2016.00000</td>\n",
       "      <td>7.000000</td>\n",
       "      <td>2015.000000</td>\n",
       "      <td>111.000000</td>\n",
       "      <td>99.000000</td>\n",
       "      <td>9.320156e+06</td>\n",
       "      <td>512608.000000</td>\n",
       "      <td>9.320156e+06</td>\n",
       "      <td>9.320156e+06</td>\n",
       "      <td>686750.000000</td>\n",
       "      <td>459748.000000</td>\n",
       "      <td>100.000000</td>\n",
       "      <td>834.400024</td>\n",
       "      <td>834.400024</td>\n",
       "      <td>2620.000000</td>\n",
       "      <td>2620.000000</td>\n",
       "      <td>8.739237e+08</td>\n",
       "      <td>4.716139e+08</td>\n",
       "      <td>1.349435e+08</td>\n",
       "      <td>1.925775e+08</td>\n",
       "      <td>6.570744e+08</td>\n",
       "      <td>2.979090e+06</td>\n",
       "      <td>2.979090e+08</td>\n",
       "      <td>47.733870</td>\n",
       "      <td>-122.220470</td>\n",
       "      <td>98272.000000</td>\n",
       "      <td>16870.980000</td>\n",
       "      <td>34.090000</td>\n",
       "    </tr>\n",
       "  </tbody>\n",
       "</table>\n",
       "</div>"
      ],
      "text/plain": [
       "       OSEBuildingID    DataYear  CouncilDistrictCode    YearBuilt  \\\n",
       "count    6716.000000  6716.00000          6716.000000  6716.000000   \n",
       "mean    20867.420488  2015.50268             4.445057  1968.101549   \n",
       "std     11878.968174     0.50003             2.123749    33.020391   \n",
       "min         1.000000  2015.00000             1.000000  1900.000000   \n",
       "25%     19934.000000  2015.00000             3.000000  1948.000000   \n",
       "50%     23064.000000  2016.00000             4.000000  1974.000000   \n",
       "75%     25868.250000  2016.00000             7.000000  1996.000000   \n",
       "max     50226.000000  2016.00000             7.000000  2015.000000   \n",
       "\n",
       "       NumberofBuildings  NumberofFloors  PropertyGFATotal  \\\n",
       "count        6708.000000     6708.000000      6.716000e+03   \n",
       "mean            1.071407        4.695736      9.281410e+04   \n",
       "std             1.593505        5.476218      1.875062e+05   \n",
       "min             0.000000        0.000000      1.128500e+04   \n",
       "25%             1.000000        2.000000      2.848700e+04   \n",
       "50%             1.000000        4.000000      4.400800e+04   \n",
       "75%             1.000000        5.000000      8.943125e+04   \n",
       "max           111.000000       99.000000      9.320156e+06   \n",
       "\n",
       "       PropertyGFAParking  PropertyGFABuilding(s)  LargestPropertyUseTypeGFA  \\\n",
       "count         6716.000000            6.716000e+03               6.560000e+03   \n",
       "mean          9519.597975            8.329450e+04               7.707936e+04   \n",
       "std          33868.050881            1.733470e+05               1.681617e+05   \n",
       "min             -3.000000           -5.055000e+04               5.656000e+03   \n",
       "25%              0.000000            2.727300e+04               2.501600e+04   \n",
       "50%              0.000000            4.218500e+04               3.953000e+04   \n",
       "75%              0.000000            8.112000e+04               7.417800e+04   \n",
       "max         512608.000000            9.320156e+06               9.320156e+06   \n",
       "\n",
       "       SecondLargestPropertyUseTypeGFA  ThirdLargestPropertyUseTypeGFA  \\\n",
       "count                      3238.000000                     1156.000000   \n",
       "mean                      28074.100153                    11262.497750   \n",
       "std                       53473.984688                    26287.655182   \n",
       "min                           0.000000                        0.000000   \n",
       "25%                        4993.000000                     2325.000000   \n",
       "50%                       10631.000000                     5039.000000   \n",
       "75%                       26462.000000                    10270.000000   \n",
       "max                      686750.000000                   459748.000000   \n",
       "\n",
       "       ENERGYSTARScore  SiteEUI(kBtu/sf)  SiteEUIWN(kBtu/sf)  \\\n",
       "count      5093.000000       6699.000000         6700.000000   \n",
       "mean         67.906342         54.182341           57.308522   \n",
       "std          27.012124         55.101657           56.390651   \n",
       "min           1.000000          0.000000            0.000000   \n",
       "25%          52.000000         27.600000           29.600000   \n",
       "50%          75.000000         38.000000           40.900000   \n",
       "75%          90.000000         60.200000           64.925001   \n",
       "max         100.000000        834.400024          834.400024   \n",
       "\n",
       "       SourceEUI(kBtu/sf)  SourceEUIWN(kBtu/sf)  SiteEnergyUse(kBtu)  \\\n",
       "count         6697.000000           6697.000000         6.701000e+03   \n",
       "mean           133.510303            138.356802         5.194673e+06   \n",
       "std            135.677195            135.302508         1.813648e+07   \n",
       "min             -2.000000             -2.100000         0.000000e+00   \n",
       "25%             74.000000             79.199997         9.200689e+05   \n",
       "50%             95.600000            102.099998         1.791071e+06   \n",
       "75%            143.900000            149.800000         4.135280e+06   \n",
       "max           2620.000000           2620.000000         8.739237e+08   \n",
       "\n",
       "       SiteEnergyUseWN(kBtu)  SteamUse(kBtu)  Electricity(kWh)  \\\n",
       "count           6.700000e+03    6.697000e+03      6.697000e+03   \n",
       "mean            5.240110e+06    2.625076e+05      1.052458e+06   \n",
       "std             1.500896e+07    3.704221e+06      3.659769e+06   \n",
       "min             0.000000e+00    0.000000e+00     -3.382680e+04   \n",
       "25%             9.818029e+05    0.000000e+00      1.867660e+05   \n",
       "50%             1.926136e+06    0.000000e+00      3.422434e+05   \n",
       "75%             4.377974e+06    0.000000e+00      8.198140e+05   \n",
       "max             4.716139e+08    1.349435e+08      1.925775e+08   \n",
       "\n",
       "       Electricity(kBtu)  NaturalGas(therms)  NaturalGas(kBtu)     Latitude  \\\n",
       "count       6.697000e+03        6.697000e+03      6.697000e+03  6716.000000   \n",
       "mean        3.591058e+06        1.311223e+04      1.311223e+06    47.624062   \n",
       "std         1.248728e+07        5.685626e+04      5.685627e+06     0.047837   \n",
       "min        -1.154170e+05        0.000000e+00      0.000000e+00    47.499170   \n",
       "25%         6.372730e+05        0.000000e+00      0.000000e+00    47.599857   \n",
       "50%         1.167735e+06        3.051000e+03      3.051000e+05    47.618608   \n",
       "75%         2.797320e+06        1.149639e+04      1.149639e+06    47.657135   \n",
       "max         6.570744e+08        2.979090e+06      2.979090e+08    47.733870   \n",
       "\n",
       "         Longitude       ZipCode  TotalGHGEmissions  GHGEmissionsIntensity  \n",
       "count  6716.000000   6700.000000        6697.000000            6697.000000  \n",
       "mean   -122.334904  98116.843582         114.935638               1.081154  \n",
       "std       0.027185     17.730253         478.876573               1.734763  \n",
       "min    -122.414250  98006.000000          -0.800000              -0.020000  \n",
       "25%    -122.350603  98105.000000           9.450000               0.160000  \n",
       "50%    -122.332630  98115.000000          33.180000               0.540000  \n",
       "75%    -122.319733  98122.000000          91.530000               1.280000  \n",
       "max    -122.220470  98272.000000       16870.980000              34.090000  "
      ]
     },
     "execution_count": 25,
     "metadata": {},
     "output_type": "execute_result"
    }
   ],
   "source": [
    "data.describe()"
   ]
  },
  {
   "cell_type": "code",
   "execution_count": 26,
   "id": "e1fa36ce",
   "metadata": {
    "execution": {
     "iopub.execute_input": "2024-08-07T19:47:37.137954Z",
     "iopub.status.busy": "2024-08-07T19:47:37.137721Z",
     "iopub.status.idle": "2024-08-07T19:47:37.152641Z",
     "shell.execute_reply": "2024-08-07T19:47:37.152260Z"
    },
    "papermill": {
     "duration": 0.022464,
     "end_time": "2024-08-07T19:47:37.153952",
     "exception": false,
     "start_time": "2024-08-07T19:47:37.131488",
     "status": "completed"
    },
    "tags": []
   },
   "outputs": [
    {
     "name": "stderr",
     "output_type": "stream",
     "text": [
      "\u001b[32m2024-08-07 19:47:37.150\u001b[0m | \u001b[1mINFO    \u001b[0m | \u001b[36m__main__\u001b[0m:\u001b[36m<module>\u001b[0m:\u001b[36m1\u001b[0m - Final Dataset Shape: (6716, 45)\n"
     ]
    }
   ],
   "source": [
    "logger.info(f\"Final Dataset Shape: {data.shape}\")"
   ]
  },
  {
   "cell_type": "code",
   "execution_count": 27,
   "id": "632c8f53",
   "metadata": {
    "execution": {
     "iopub.execute_input": "2024-08-07T19:47:37.165776Z",
     "iopub.status.busy": "2024-08-07T19:47:37.165600Z",
     "iopub.status.idle": "2024-08-07T19:47:37.314894Z",
     "shell.execute_reply": "2024-08-07T19:47:37.314450Z"
    },
    "papermill": {
     "duration": 0.156628,
     "end_time": "2024-08-07T19:47:37.316333",
     "exception": false,
     "start_time": "2024-08-07T19:47:37.159705",
     "status": "completed"
    },
    "tags": []
   },
   "outputs": [],
   "source": [
    "# Save the concatenated dataset as one csv file\n",
    "data.to_csv(RAW_DATA, index=False)"
   ]
  }
 ],
 "metadata": {
  "kernelspec": {
   "display_name": "mlops",
   "language": "python",
   "name": "python3"
  },
  "language_info": {
   "codemirror_mode": {
    "name": "ipython",
    "version": 3
   },
   "file_extension": ".py",
   "mimetype": "text/x-python",
   "name": "python",
   "nbconvert_exporter": "python",
   "pygments_lexer": "ipython3",
   "version": "3.10.10"
  },
  "papermill": {
   "default_parameters": {},
   "duration": 3.744964,
   "end_time": "2024-08-07T19:47:37.742403",
   "environment_variables": {},
   "exception": null,
   "input_path": "notebooks/01-data-collection.ipynb",
   "output_path": "notebooks/outputs/01-data-collection_output.ipynb",
   "parameters": {},
   "start_time": "2024-08-07T19:47:33.997439",
   "version": "2.6.0"
  }
 },
 "nbformat": 4,
 "nbformat_minor": 5
}