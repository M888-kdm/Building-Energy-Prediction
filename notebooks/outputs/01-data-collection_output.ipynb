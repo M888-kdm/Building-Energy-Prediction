{
 "cells": [
  {
   "cell_type": "markdown",
   "id": "7e932025",
   "metadata": {
    "papermill": {
     "duration": 0.00665,
     "end_time": "2024-08-06T13:03:36.537875",
     "exception": false,
     "start_time": "2024-08-06T13:03:36.531225",
     "status": "completed"
    },
    "tags": []
   },
   "source": [
    "# Import Libraries\n"
   ]
  },
  {
   "cell_type": "code",
   "execution_count": 1,
   "id": "12a890b1",
   "metadata": {
    "execution": {
     "iopub.execute_input": "2024-08-06T13:03:36.551669Z",
     "iopub.status.busy": "2024-08-06T13:03:36.551392Z",
     "iopub.status.idle": "2024-08-06T13:03:37.309296Z",
     "shell.execute_reply": "2024-08-06T13:03:37.308870Z"
    },
    "papermill": {
     "duration": 0.767514,
     "end_time": "2024-08-06T13:03:37.310833",
     "exception": false,
     "start_time": "2024-08-06T13:03:36.543319",
     "status": "completed"
    },
    "tags": []
   },
   "outputs": [],
   "source": [
    "%reload_ext autoreload\n",
    "%autoreload 2\n",
    "\n",
    "import ast\n",
    "import pandas as pd\n",
    "import plotly.express as px\n",
    "import sys\n",
    "\n",
    "from loguru import logger\n",
    "from pathlib import Path\n",
    "\n",
    "sys.path.append(str(Path.cwd().parent))\n",
    "from settings.params import *\n",
    "\n",
    "pd.set_option(\"display.max_columns\", None)\n",
    "pd.set_option(\"display.max_rows\", 100)"
   ]
  },
  {
   "cell_type": "markdown",
   "id": "e10b8e2f",
   "metadata": {
    "papermill": {
     "duration": 0.003685,
     "end_time": "2024-08-06T13:03:37.318968",
     "exception": false,
     "start_time": "2024-08-06T13:03:37.315283",
     "status": "completed"
    },
    "tags": []
   },
   "source": [
    "# Settings\n"
   ]
  },
  {
   "cell_type": "code",
   "execution_count": 2,
   "id": "a55bf329",
   "metadata": {
    "execution": {
     "iopub.execute_input": "2024-08-06T13:03:37.328061Z",
     "iopub.status.busy": "2024-08-06T13:03:37.327796Z",
     "iopub.status.idle": "2024-08-06T13:03:37.344694Z",
     "shell.execute_reply": "2024-08-06T13:03:37.344282Z"
    },
    "papermill": {
     "duration": 0.022871,
     "end_time": "2024-08-06T13:03:37.346395",
     "exception": false,
     "start_time": "2024-08-06T13:03:37.323524",
     "status": "completed"
    },
    "tags": []
   },
   "outputs": [],
   "source": [
    "log_fmt = \"<green>{time:YYYY-MM-DD HH:mm:ss.SSS!UTC}</green> | <level>{level: <8}</level> | <cyan>{name}</cyan>:<cyan>{function}</cyan>:<cyan>{line}</cyan> - {message}\"\n",
    "logger.configure(handlers=[{\"sink\": sys.stderr, \"format\": log_fmt}])\n",
    "\n",
    "TARGET_NAME = MODEL_PARAMS[\"TARGET_NAME\"]\n",
    "SEED = 42"
   ]
  },
  {
   "cell_type": "markdown",
   "id": "076e4ba7",
   "metadata": {
    "papermill": {
     "duration": 0.003353,
     "end_time": "2024-08-06T13:03:37.353531",
     "exception": false,
     "start_time": "2024-08-06T13:03:37.350178",
     "status": "completed"
    },
    "tags": []
   },
   "source": [
    "# Data Collection\n"
   ]
  },
  {
   "cell_type": "code",
   "execution_count": 3,
   "id": "d98a511e",
   "metadata": {
    "execution": {
     "iopub.execute_input": "2024-08-06T13:03:37.361169Z",
     "iopub.status.busy": "2024-08-06T13:03:37.360957Z",
     "iopub.status.idle": "2024-08-06T13:03:37.428002Z",
     "shell.execute_reply": "2024-08-06T13:03:37.427296Z"
    },
    "papermill": {
     "duration": 0.073936,
     "end_time": "2024-08-06T13:03:37.430818",
     "exception": false,
     "start_time": "2024-08-06T13:03:37.356882",
     "status": "completed"
    },
    "tags": []
   },
   "outputs": [
    {
     "name": "stderr",
     "output_type": "stream",
     "text": [
      "\u001b[32m2024-08-06 13:03:37.424\u001b[0m | \u001b[1mINFO    \u001b[0m | \u001b[36m__main__\u001b[0m:\u001b[36m<module>\u001b[0m:\u001b[36m4\u001b[0m - 2015 Data Shape: (3340, 47)\n"
     ]
    },
    {
     "name": "stderr",
     "output_type": "stream",
     "text": [
      "\u001b[32m2024-08-06 13:03:37.425\u001b[0m | \u001b[1mINFO    \u001b[0m | \u001b[36m__main__\u001b[0m:\u001b[36m<module>\u001b[0m:\u001b[36m5\u001b[0m - 2016 Data Shape: (3376, 46)\n"
     ]
    }
   ],
   "source": [
    "data2015 = pd.read_csv('../datasets/2015-building-energy-benchmarking.csv')\n",
    "data2016 = pd.read_csv('../datasets/2016-building-energy-benchmarking.csv')\n",
    "\n",
    "logger.info(f\"2015 Data Shape: {data2015.shape}\")\n",
    "logger.info(f\"2016 Data Shape: {data2016.shape}\")"
   ]
  },
  {
   "cell_type": "code",
   "execution_count": 4,
   "id": "2f1cc242",
   "metadata": {
    "execution": {
     "iopub.execute_input": "2024-08-06T13:03:37.444681Z",
     "iopub.status.busy": "2024-08-06T13:03:37.444212Z",
     "iopub.status.idle": "2024-08-06T13:03:37.481468Z",
     "shell.execute_reply": "2024-08-06T13:03:37.480807Z"
    },
    "papermill": {
     "duration": 0.047011,
     "end_time": "2024-08-06T13:03:37.483055",
     "exception": false,
     "start_time": "2024-08-06T13:03:37.436044",
     "status": "completed"
    },
    "tags": []
   },
   "outputs": [
    {
     "name": "stderr",
     "output_type": "stream",
     "text": [
      "\u001b[32m2024-08-06 13:03:37.478\u001b[0m | \u001b[1mINFO    \u001b[0m | \u001b[36m__main__\u001b[0m:\u001b[36m<module>\u001b[0m:\u001b[36m2\u001b[0m - 2015 Dataset Metadata: None\n"
     ]
    },
    {
     "name": "stdout",
     "output_type": "stream",
     "text": [
      "<class 'pandas.core.frame.DataFrame'>\n",
      "RangeIndex: 3340 entries, 0 to 3339\n",
      "Data columns (total 47 columns):\n",
      " #   Column                                                         Non-Null Count  Dtype  \n",
      "---  ------                                                         --------------  -----  \n",
      " 0   OSEBuildingID                                                  3340 non-null   int64  \n",
      " 1   DataYear                                                       3340 non-null   int64  \n",
      " 2   BuildingType                                                   3340 non-null   object \n",
      " 3   PrimaryPropertyType                                            3340 non-null   object \n",
      " 4   PropertyName                                                   3340 non-null   object \n",
      " 5   TaxParcelIdentificationNumber                                  3338 non-null   object \n",
      " 6   Location                                                       3340 non-null   object \n",
      " 7   CouncilDistrictCode                                            3340 non-null   int64  \n",
      " 8   Neighborhood                                                   3340 non-null   object \n",
      " 9   YearBuilt                                                      3340 non-null   int64  \n",
      " 10  NumberofBuildings                                              3340 non-null   int64  \n",
      " 11  NumberofFloors                                                 3332 non-null   float64\n",
      " 12  PropertyGFATotal                                               3340 non-null   int64  \n",
      " 13  PropertyGFAParking                                             3340 non-null   int64  \n",
      " 14  PropertyGFABuilding(s)                                         3340 non-null   int64  \n",
      " 15  ListOfAllPropertyUseTypes                                      3213 non-null   object \n",
      " 16  LargestPropertyUseType                                         3204 non-null   object \n",
      " 17  LargestPropertyUseTypeGFA                                      3204 non-null   float64\n",
      " 18  SecondLargestPropertyUseType                                   1559 non-null   object \n",
      " 19  SecondLargestPropertyUseTypeGFA                                1559 non-null   float64\n",
      " 20  ThirdLargestPropertyUseType                                    560 non-null    object \n",
      " 21  ThirdLargestPropertyUseTypeGFA                                 560 non-null    float64\n",
      " 22  YearsENERGYSTARCertified                                       110 non-null    object \n",
      " 23  ENERGYSTARScore                                                2560 non-null   float64\n",
      " 24  SiteEUI(kBtu/sf)                                               3330 non-null   float64\n",
      " 25  SiteEUIWN(kBtu/sf)                                             3330 non-null   float64\n",
      " 26  SourceEUI(kBtu/sf)                                             3330 non-null   float64\n",
      " 27  SourceEUIWN(kBtu/sf)                                           3330 non-null   float64\n",
      " 28  SiteEnergyUse(kBtu)                                            3330 non-null   float64\n",
      " 29  SiteEnergyUseWN(kBtu)                                          3330 non-null   float64\n",
      " 30  SteamUse(kBtu)                                                 3330 non-null   float64\n",
      " 31  Electricity(kWh)                                               3330 non-null   float64\n",
      " 32  Electricity(kBtu)                                              3330 non-null   float64\n",
      " 33  NaturalGas(therms)                                             3330 non-null   float64\n",
      " 34  NaturalGas(kBtu)                                               3330 non-null   float64\n",
      " 35  OtherFuelUse(kBtu)                                             3330 non-null   float64\n",
      " 36  GHGEmissions(MetricTonsCO2e)                                   3330 non-null   float64\n",
      " 37  GHGEmissionsIntensity(kgCO2e/ft2)                              3330 non-null   float64\n",
      " 38  DefaultData                                                    3339 non-null   object \n",
      " 39  Comment                                                        13 non-null     object \n",
      " 40  ComplianceStatus                                               3340 non-null   object \n",
      " 41  Outlier                                                        84 non-null     object \n",
      " 42  2010 Census Tracts                                             224 non-null    float64\n",
      " 43  Seattle Police Department Micro Community Policing Plan Areas  3338 non-null   float64\n",
      " 44  City Council Districts                                         213 non-null    float64\n",
      " 45  SPD Beats                                                      3338 non-null   float64\n",
      " 46  Zip Codes                                                      3340 non-null   int64  \n",
      "dtypes: float64(23), int64(9), object(15)\n",
      "memory usage: 1.2+ MB\n",
      "<class 'pandas.core.frame.DataFrame'>\n",
      "RangeIndex: 3340 entries, 0 to 3339\n",
      "Data columns (total 47 columns):\n",
      " #   Column                                                         Non-Null Count  Dtype  \n",
      "---  ------                                                         --------------  -----  \n",
      " 0   OSEBuildingID                                                  3340 non-null   int64  \n",
      " 1   DataYear                                                       3340 non-null   int64  \n",
      " 2   BuildingType                                                   3340 non-null   object \n",
      " 3   PrimaryPropertyType                                            3340 non-null   object \n",
      " 4   PropertyName                                                   3340 non-null   object \n",
      " 5   TaxParcelIdentificationNumber                                  3338 non-null   object \n",
      " 6   Location                                                       3340 non-null   object \n",
      " 7   CouncilDistrictCode                                            3340 non-null   int64  \n",
      " 8   Neighborhood                                                   3340 non-null   object \n",
      " 9   YearBuilt                                                      3340 non-null   int64  \n",
      " 10  NumberofBuildings                                              3340 non-null   int64  \n",
      " 11  NumberofFloors                                                 3332 non-null   float64\n",
      " 12  PropertyGFATotal                                               3340 non-null   int64  \n",
      " 13  PropertyGFAParking                                             3340 non-null   int64  \n",
      " 14  PropertyGFABuilding(s)                                         3340 non-null   int64  \n",
      " 15  ListOfAllPropertyUseTypes                                      3213 non-null   object \n",
      " 16  LargestPropertyUseType                                         3204 non-null   object \n",
      " 17  LargestPropertyUseTypeGFA                                      3204 non-null   float64\n",
      " 18  SecondLargestPropertyUseType                                   1559 non-null   object \n",
      " 19  SecondLargestPropertyUseTypeGFA                                1559 non-null   float64\n",
      " 20  ThirdLargestPropertyUseType                                    560 non-null    object \n",
      " 21  ThirdLargestPropertyUseTypeGFA                                 560 non-null    float64\n",
      " 22  YearsENERGYSTARCertified                                       110 non-null    object \n",
      " 23  ENERGYSTARScore                                                2560 non-null   float64\n",
      " 24  SiteEUI(kBtu/sf)                                               3330 non-null   float64\n",
      " 25  SiteEUIWN(kBtu/sf)                                             3330 non-null   float64\n",
      " 26  SourceEUI(kBtu/sf)                                             3330 non-null   float64\n",
      " 27  SourceEUIWN(kBtu/sf)                                           3330 non-null   float64\n",
      " 28  SiteEnergyUse(kBtu)                                            3330 non-null   float64\n",
      " 29  SiteEnergyUseWN(kBtu)                                          3330 non-null   float64\n",
      " 30  SteamUse(kBtu)                                                 3330 non-null   float64\n",
      " 31  Electricity(kWh)                                               3330 non-null   float64\n",
      " 32  Electricity(kBtu)                                              3330 non-null   float64\n",
      " 33  NaturalGas(therms)                                             3330 non-null   float64\n",
      " 34  NaturalGas(kBtu)                                               3330 non-null   float64\n",
      " 35  OtherFuelUse(kBtu)                                             3330 non-null   float64\n",
      " 36  GHGEmissions(MetricTonsCO2e)                                   3330 non-null   float64\n",
      " 37  GHGEmissionsIntensity(kgCO2e/ft2)                              3330 non-null   float64\n",
      " 38  DefaultData                                                    3339 non-null   object \n",
      " 39  Comment                                                        13 non-null     object \n",
      " 40  ComplianceStatus                                               3340 non-null   object \n",
      " 41  Outlier                                                        84 non-null     object \n",
      " 42  2010 Census Tracts                                             224 non-null    float64\n",
      " 43  Seattle Police Department Micro Community Policing Plan Areas  3338 non-null   float64\n",
      " 44  City Council Districts                                         213 non-null    float64\n",
      " 45  SPD Beats                                                      3338 non-null   float64\n",
      " 46  Zip Codes                                                      3340 non-null   int64  \n",
      "dtypes: float64(23), int64(9), object(15)\n",
      "memory usage: 1.2+ MB\n"
     ]
    }
   ],
   "source": [
    "data2015.info()\n",
    "logger.info(f\"2015 Dataset Metadata: {data2015.info()}\")"
   ]
  },
  {
   "cell_type": "code",
   "execution_count": 5,
   "id": "4f9bc493",
   "metadata": {
    "execution": {
     "iopub.execute_input": "2024-08-06T13:03:37.493969Z",
     "iopub.status.busy": "2024-08-06T13:03:37.493491Z",
     "iopub.status.idle": "2024-08-06T13:03:37.530523Z",
     "shell.execute_reply": "2024-08-06T13:03:37.529458Z"
    },
    "papermill": {
     "duration": 0.044729,
     "end_time": "2024-08-06T13:03:37.532937",
     "exception": false,
     "start_time": "2024-08-06T13:03:37.488208",
     "status": "completed"
    },
    "tags": []
   },
   "outputs": [
    {
     "name": "stderr",
     "output_type": "stream",
     "text": [
      "\u001b[32m2024-08-06 13:03:37.526\u001b[0m | \u001b[1mINFO    \u001b[0m | \u001b[36m__main__\u001b[0m:\u001b[36m<module>\u001b[0m:\u001b[36m2\u001b[0m - 2016 Dataset Metadata: None\n"
     ]
    },
    {
     "name": "stdout",
     "output_type": "stream",
     "text": [
      "<class 'pandas.core.frame.DataFrame'>\n",
      "RangeIndex: 3376 entries, 0 to 3375\n",
      "Data columns (total 46 columns):\n",
      " #   Column                           Non-Null Count  Dtype  \n",
      "---  ------                           --------------  -----  \n",
      " 0   OSEBuildingID                    3376 non-null   int64  \n",
      " 1   DataYear                         3376 non-null   int64  \n",
      " 2   BuildingType                     3376 non-null   object \n",
      " 3   PrimaryPropertyType              3376 non-null   object \n",
      " 4   PropertyName                     3376 non-null   object \n",
      " 5   Address                          3376 non-null   object \n",
      " 6   City                             3376 non-null   object \n",
      " 7   State                            3376 non-null   object \n",
      " 8   ZipCode                          3360 non-null   float64\n",
      " 9   TaxParcelIdentificationNumber    3376 non-null   object \n",
      " 10  CouncilDistrictCode              3376 non-null   int64  \n",
      " 11  Neighborhood                     3376 non-null   object \n",
      " 12  Latitude                         3376 non-null   float64\n",
      " 13  Longitude                        3376 non-null   float64\n",
      " 14  YearBuilt                        3376 non-null   int64  \n",
      " 15  NumberofBuildings                3368 non-null   float64\n",
      " 16  NumberofFloors                   3376 non-null   int64  \n",
      " 17  PropertyGFATotal                 3376 non-null   int64  \n",
      " 18  PropertyGFAParking               3376 non-null   int64  \n",
      " 19  PropertyGFABuilding(s)           3376 non-null   int64  \n",
      " 20  ListOfAllPropertyUseTypes        3367 non-null   object \n",
      " 21  LargestPropertyUseType           3356 non-null   object \n",
      " 22  LargestPropertyUseTypeGFA        3356 non-null   float64\n",
      " 23  SecondLargestPropertyUseType     1679 non-null   object \n",
      " 24  SecondLargestPropertyUseTypeGFA  1679 non-null   float64\n",
      " 25  ThirdLargestPropertyUseType      596 non-null    object \n",
      " 26  ThirdLargestPropertyUseTypeGFA   596 non-null    float64\n",
      " 27  YearsENERGYSTARCertified         119 non-null    object \n",
      " 28  ENERGYSTARScore                  2533 non-null   float64\n",
      " 29  SiteEUI(kBtu/sf)                 3369 non-null   float64\n",
      " 30  SiteEUIWN(kBtu/sf)               3370 non-null   float64\n",
      " 31  SourceEUI(kBtu/sf)               3367 non-null   float64\n",
      " 32  SourceEUIWN(kBtu/sf)             3367 non-null   float64\n",
      " 33  SiteEnergyUse(kBtu)              3371 non-null   float64\n",
      " 34  SiteEnergyUseWN(kBtu)            3370 non-null   float64\n",
      " 35  SteamUse(kBtu)                   3367 non-null   float64\n",
      " 36  Electricity(kWh)                 3367 non-null   float64\n",
      " 37  Electricity(kBtu)                3367 non-null   float64\n",
      " 38  NaturalGas(therms)               3367 non-null   float64\n",
      " 39  NaturalGas(kBtu)                 3367 non-null   float64\n",
      " 40  DefaultData                      3376 non-null   bool   \n",
      " 41  Comments                         0 non-null      float64\n",
      " 42  ComplianceStatus                 3376 non-null   object \n",
      " 43  Outlier                          32 non-null     object \n",
      " 44  TotalGHGEmissions                3367 non-null   float64\n",
      " 45  GHGEmissionsIntensity            3367 non-null   float64\n",
      "dtypes: bool(1), float64(22), int64(8), object(15)\n",
      "memory usage: 1.2+ MB\n",
      "<class 'pandas.core.frame.DataFrame'>\n",
      "RangeIndex: 3376 entries, 0 to 3375\n",
      "Data columns (total 46 columns):\n",
      " #   Column                           Non-Null Count  Dtype  \n",
      "---  ------                           --------------  -----  \n",
      " 0   OSEBuildingID                    3376 non-null   int64  \n",
      " 1   DataYear                         3376 non-null   int64  \n",
      " 2   BuildingType                     3376 non-null   object \n",
      " 3   PrimaryPropertyType              3376 non-null   object \n",
      " 4   PropertyName                     3376 non-null   object \n",
      " 5   Address                          3376 non-null   object \n",
      " 6   City                             3376 non-null   object \n",
      " 7   State                            3376 non-null   object \n",
      " 8   ZipCode                          3360 non-null   float64\n",
      " 9   TaxParcelIdentificationNumber    3376 non-null   object \n",
      " 10  CouncilDistrictCode              3376 non-null   int64  \n",
      " 11  Neighborhood                     3376 non-null   object \n",
      " 12  Latitude                         3376 non-null   float64\n",
      " 13  Longitude                        3376 non-null   float64\n",
      " 14  YearBuilt                        3376 non-null   int64  \n",
      " 15  NumberofBuildings                3368 non-null   float64\n",
      " 16  NumberofFloors                   3376 non-null   int64  \n",
      " 17  PropertyGFATotal                 3376 non-null   int64  \n",
      " 18  PropertyGFAParking               3376 non-null   int64  \n",
      " 19  PropertyGFABuilding(s)           3376 non-null   int64  \n",
      " 20  ListOfAllPropertyUseTypes        3367 non-null   object \n",
      " 21  LargestPropertyUseType           3356 non-null   object \n",
      " 22  LargestPropertyUseTypeGFA        3356 non-null   float64\n",
      " 23  SecondLargestPropertyUseType     1679 non-null   object \n",
      " 24  SecondLargestPropertyUseTypeGFA  1679 non-null   float64\n",
      " 25  ThirdLargestPropertyUseType      596 non-null    object \n",
      " 26  ThirdLargestPropertyUseTypeGFA   596 non-null    float64\n",
      " 27  YearsENERGYSTARCertified         119 non-null    object \n",
      " 28  ENERGYSTARScore                  2533 non-null   float64\n",
      " 29  SiteEUI(kBtu/sf)                 3369 non-null   float64\n",
      " 30  SiteEUIWN(kBtu/sf)               3370 non-null   float64\n",
      " 31  SourceEUI(kBtu/sf)               3367 non-null   float64\n",
      " 32  SourceEUIWN(kBtu/sf)             3367 non-null   float64\n",
      " 33  SiteEnergyUse(kBtu)              3371 non-null   float64\n",
      " 34  SiteEnergyUseWN(kBtu)            3370 non-null   float64\n",
      " 35  SteamUse(kBtu)                   3367 non-null   float64\n",
      " 36  Electricity(kWh)                 3367 non-null   float64\n",
      " 37  Electricity(kBtu)                3367 non-null   float64\n",
      " 38  NaturalGas(therms)               3367 non-null   float64\n",
      " 39  NaturalGas(kBtu)                 3367 non-null   float64\n",
      " 40  DefaultData                      3376 non-null   bool   \n",
      " 41  Comments                         0 non-null      float64\n",
      " 42  ComplianceStatus                 3376 non-null   object \n",
      " 43  Outlier                          32 non-null     object \n",
      " 44  TotalGHGEmissions                3367 non-null   float64\n",
      " 45  GHGEmissionsIntensity            3367 non-null   float64\n",
      "dtypes: bool(1), float64(22), int64(8), object(15)\n",
      "memory usage: 1.2+ MB\n"
     ]
    }
   ],
   "source": [
    "data2016.info()\n",
    "logger.info(f\"2016 Dataset Metadata: {data2016.info()}\")"
   ]
  },
  {
   "cell_type": "markdown",
   "id": "ba81a4ca",
   "metadata": {
    "papermill": {
     "duration": 0.005727,
     "end_time": "2024-08-06T13:03:37.545270",
     "exception": false,
     "start_time": "2024-08-06T13:03:37.539543",
     "status": "completed"
    },
    "tags": []
   },
   "source": [
    "## Harmonize datasets\n"
   ]
  },
  {
   "cell_type": "code",
   "execution_count": 6,
   "id": "1e262fcf",
   "metadata": {
    "execution": {
     "iopub.execute_input": "2024-08-06T13:03:37.556630Z",
     "iopub.status.busy": "2024-08-06T13:03:37.556377Z",
     "iopub.status.idle": "2024-08-06T13:03:37.570274Z",
     "shell.execute_reply": "2024-08-06T13:03:37.569785Z"
    },
    "papermill": {
     "duration": 0.020356,
     "end_time": "2024-08-06T13:03:37.571828",
     "exception": false,
     "start_time": "2024-08-06T13:03:37.551472",
     "status": "completed"
    },
    "tags": []
   },
   "outputs": [
    {
     "name": "stderr",
     "output_type": "stream",
     "text": [
      "\u001b[32m2024-08-06 13:03:37.568\u001b[0m | \u001b[1mINFO    \u001b[0m | \u001b[36m__main__\u001b[0m:\u001b[36m<module>\u001b[0m:\u001b[36m1\u001b[0m - Starting alignment between 2015 and 2016 datasets\n"
     ]
    }
   ],
   "source": [
    "logger.info(\"Starting alignment between 2015 and 2016 datasets\")"
   ]
  },
  {
   "cell_type": "markdown",
   "id": "99fbe55f",
   "metadata": {
    "papermill": {
     "duration": 0.00457,
     "end_time": "2024-08-06T13:03:37.580853",
     "exception": false,
     "start_time": "2024-08-06T13:03:37.576283",
     "status": "completed"
    },
    "tags": []
   },
   "source": [
    "The 2015 data is not aligned with 2016. Need to populate missing columns in one file vs the other. Let's re-arrange 2015\n"
   ]
  },
  {
   "cell_type": "code",
   "execution_count": 7,
   "id": "53d7daac",
   "metadata": {
    "execution": {
     "iopub.execute_input": "2024-08-06T13:03:37.593601Z",
     "iopub.status.busy": "2024-08-06T13:03:37.593203Z",
     "iopub.status.idle": "2024-08-06T13:03:37.614974Z",
     "shell.execute_reply": "2024-08-06T13:03:37.614332Z"
    },
    "papermill": {
     "duration": 0.030946,
     "end_time": "2024-08-06T13:03:37.616581",
     "exception": false,
     "start_time": "2024-08-06T13:03:37.585635",
     "status": "completed"
    },
    "tags": []
   },
   "outputs": [
    {
     "data": {
      "text/plain": [
       "{'2010 Census Tracts',\n",
       " 'City Council Districts',\n",
       " 'Comment',\n",
       " 'GHGEmissions(MetricTonsCO2e)',\n",
       " 'GHGEmissionsIntensity(kgCO2e/ft2)',\n",
       " 'Location',\n",
       " 'OtherFuelUse(kBtu)',\n",
       " 'SPD Beats',\n",
       " 'Seattle Police Department Micro Community Policing Plan Areas',\n",
       " 'Zip Codes'}"
      ]
     },
     "execution_count": 7,
     "metadata": {},
     "output_type": "execute_result"
    }
   ],
   "source": [
    "set(data2015) - set(data2016)"
   ]
  },
  {
   "cell_type": "code",
   "execution_count": 8,
   "id": "cd135c64",
   "metadata": {
    "execution": {
     "iopub.execute_input": "2024-08-06T13:03:37.627083Z",
     "iopub.status.busy": "2024-08-06T13:03:37.626832Z",
     "iopub.status.idle": "2024-08-06T13:03:37.640831Z",
     "shell.execute_reply": "2024-08-06T13:03:37.640406Z"
    },
    "papermill": {
     "duration": 0.021033,
     "end_time": "2024-08-06T13:03:37.642302",
     "exception": false,
     "start_time": "2024-08-06T13:03:37.621269",
     "status": "completed"
    },
    "tags": []
   },
   "outputs": [
    {
     "data": {
      "text/plain": [
       "{'Address',\n",
       " 'City',\n",
       " 'Comments',\n",
       " 'GHGEmissionsIntensity',\n",
       " 'Latitude',\n",
       " 'Longitude',\n",
       " 'State',\n",
       " 'TotalGHGEmissions',\n",
       " 'ZipCode'}"
      ]
     },
     "execution_count": 8,
     "metadata": {},
     "output_type": "execute_result"
    }
   ],
   "source": [
    "# 2016 missing in 2015\n",
    "set(data2016) - set(data2015)"
   ]
  },
  {
   "cell_type": "code",
   "execution_count": 9,
   "id": "639b226f",
   "metadata": {
    "execution": {
     "iopub.execute_input": "2024-08-06T13:03:37.654710Z",
     "iopub.status.busy": "2024-08-06T13:03:37.654142Z",
     "iopub.status.idle": "2024-08-06T13:03:37.668745Z",
     "shell.execute_reply": "2024-08-06T13:03:37.668308Z"
    },
    "papermill": {
     "duration": 0.021709,
     "end_time": "2024-08-06T13:03:37.670015",
     "exception": false,
     "start_time": "2024-08-06T13:03:37.648306",
     "status": "completed"
    },
    "tags": []
   },
   "outputs": [
    {
     "data": {
      "text/plain": [
       "{'latitude': '47.61310583',\n",
       " 'longitude': '-122.33335756',\n",
       " 'human_address': '{\"address\": \"724 PINE ST\", \"city\": \"SEATTLE\", \"state\": \"WA\", \"zip\": \"98101\"}'}"
      ]
     },
     "execution_count": 9,
     "metadata": {},
     "output_type": "execute_result"
    }
   ],
   "source": [
    "ast.literal_eval(data2015['Location'][1])"
   ]
  },
  {
   "cell_type": "code",
   "execution_count": 10,
   "id": "362d3bf6",
   "metadata": {
    "execution": {
     "iopub.execute_input": "2024-08-06T13:03:37.680838Z",
     "iopub.status.busy": "2024-08-06T13:03:37.680612Z",
     "iopub.status.idle": "2024-08-06T13:03:38.268047Z",
     "shell.execute_reply": "2024-08-06T13:03:38.267597Z"
    },
    "papermill": {
     "duration": 0.59476,
     "end_time": "2024-08-06T13:03:38.269549",
     "exception": false,
     "start_time": "2024-08-06T13:03:37.674789",
     "status": "completed"
    },
    "tags": []
   },
   "outputs": [],
   "source": [
    "data2015['Latitude']=data2015['Location'].apply(lambda l : ast.literal_eval(l)['latitude'])\n",
    "data2015['Longitude']=data2015['Location'].apply(lambda l : ast.literal_eval(l)['longitude'])\n",
    "data2015['State']=data2015['Location'].apply(lambda l :  ast.literal_eval(ast.literal_eval(l)['human_address'])['state'])\n",
    "data2015['ZipCode']=data2015['Location'].apply(lambda l :  ast.literal_eval(ast.literal_eval(l)['human_address'])['zip'])\n",
    "data2015['City']=data2015['Location'].apply(lambda l :  ast.literal_eval(ast.literal_eval(l)['human_address'])['city'])\n",
    "data2015['Address']=data2015['Location'].apply(lambda l :  ast.literal_eval(ast.literal_eval(l)['human_address'])['address'])"
   ]
  },
  {
   "cell_type": "code",
   "execution_count": 11,
   "id": "fb9a01e0",
   "metadata": {
    "execution": {
     "iopub.execute_input": "2024-08-06T13:03:38.279471Z",
     "iopub.status.busy": "2024-08-06T13:03:38.279253Z",
     "iopub.status.idle": "2024-08-06T13:03:38.292484Z",
     "shell.execute_reply": "2024-08-06T13:03:38.292086Z"
    },
    "papermill": {
     "duration": 0.019816,
     "end_time": "2024-08-06T13:03:38.293930",
     "exception": false,
     "start_time": "2024-08-06T13:03:38.274114",
     "status": "completed"
    },
    "tags": []
   },
   "outputs": [],
   "source": [
    "data2015['TotalGHGEmissions']=data2015['GHGEmissions(MetricTonsCO2e)']\n",
    "data2015['GHGEmissionsIntensity']=data2015['GHGEmissionsIntensity(kgCO2e/ft2)']"
   ]
  },
  {
   "cell_type": "code",
   "execution_count": 12,
   "id": "352111ee",
   "metadata": {
    "execution": {
     "iopub.execute_input": "2024-08-06T13:03:38.305830Z",
     "iopub.status.busy": "2024-08-06T13:03:38.305368Z",
     "iopub.status.idle": "2024-08-06T13:03:38.320078Z",
     "shell.execute_reply": "2024-08-06T13:03:38.319632Z"
    },
    "papermill": {
     "duration": 0.021975,
     "end_time": "2024-08-06T13:03:38.321343",
     "exception": false,
     "start_time": "2024-08-06T13:03:38.299368",
     "status": "completed"
    },
    "tags": []
   },
   "outputs": [
    {
     "data": {
      "text/plain": [
       "{'2010 Census Tracts',\n",
       " 'City Council Districts',\n",
       " 'Comment',\n",
       " 'GHGEmissions(MetricTonsCO2e)',\n",
       " 'GHGEmissionsIntensity(kgCO2e/ft2)',\n",
       " 'Location',\n",
       " 'OtherFuelUse(kBtu)',\n",
       " 'SPD Beats',\n",
       " 'Seattle Police Department Micro Community Policing Plan Areas',\n",
       " 'Zip Codes'}"
      ]
     },
     "execution_count": 12,
     "metadata": {},
     "output_type": "execute_result"
    }
   ],
   "source": [
    "# 2015 and 2016 now aligned and ready to be combined\n",
    "set(data2015) - set(data2016)"
   ]
  },
  {
   "cell_type": "code",
   "execution_count": 13,
   "id": "ffb206a2",
   "metadata": {
    "execution": {
     "iopub.execute_input": "2024-08-06T13:03:38.332933Z",
     "iopub.status.busy": "2024-08-06T13:03:38.332718Z",
     "iopub.status.idle": "2024-08-06T13:03:38.346125Z",
     "shell.execute_reply": "2024-08-06T13:03:38.345727Z"
    },
    "papermill": {
     "duration": 0.020713,
     "end_time": "2024-08-06T13:03:38.347430",
     "exception": false,
     "start_time": "2024-08-06T13:03:38.326717",
     "status": "completed"
    },
    "tags": []
   },
   "outputs": [
    {
     "data": {
      "text/plain": [
       "{'Comments'}"
      ]
     },
     "execution_count": 13,
     "metadata": {},
     "output_type": "execute_result"
    }
   ],
   "source": [
    "set(data2016) - set(data2015)"
   ]
  },
  {
   "cell_type": "markdown",
   "id": "d39aa7bf",
   "metadata": {
    "papermill": {
     "duration": 0.004455,
     "end_time": "2024-08-06T13:03:38.356790",
     "exception": false,
     "start_time": "2024-08-06T13:03:38.352335",
     "status": "completed"
    },
    "tags": []
   },
   "source": [
    "Some columns are only available in the 2015 dataset. Some of them do not provide useful information and the others are largely incomplete. We are going to drop them in order to have a perfectly harmonized dataset.\n"
   ]
  },
  {
   "cell_type": "code",
   "execution_count": 14,
   "id": "d77f6250",
   "metadata": {
    "execution": {
     "iopub.execute_input": "2024-08-06T13:03:38.367550Z",
     "iopub.status.busy": "2024-08-06T13:03:38.367329Z",
     "iopub.status.idle": "2024-08-06T13:03:38.386142Z",
     "shell.execute_reply": "2024-08-06T13:03:38.385709Z"
    },
    "papermill": {
     "duration": 0.02627,
     "end_time": "2024-08-06T13:03:38.387631",
     "exception": false,
     "start_time": "2024-08-06T13:03:38.361361",
     "status": "completed"
    },
    "tags": []
   },
   "outputs": [],
   "source": [
    "data2015.drop(['Location','GHGEmissions(MetricTonsCO2e)','GHGEmissionsIntensity(kgCO2e/ft2)', 'SPD Beats','Seattle Police Department Micro Community Policing Plan Areas',\n",
    "               'Zip Codes','OtherFuelUse(kBtu)','2010 Census Tracts','City Council Districts', 'Comment'], axis='columns', inplace=True)"
   ]
  },
  {
   "cell_type": "code",
   "execution_count": 15,
   "id": "a6561fa2",
   "metadata": {
    "execution": {
     "iopub.execute_input": "2024-08-06T13:03:38.399496Z",
     "iopub.status.busy": "2024-08-06T13:03:38.399295Z",
     "iopub.status.idle": "2024-08-06T13:03:38.413850Z",
     "shell.execute_reply": "2024-08-06T13:03:38.413450Z"
    },
    "papermill": {
     "duration": 0.022196,
     "end_time": "2024-08-06T13:03:38.415288",
     "exception": false,
     "start_time": "2024-08-06T13:03:38.393092",
     "status": "completed"
    },
    "tags": []
   },
   "outputs": [],
   "source": [
    "data2016.drop(['Comments'], axis='columns', inplace=True)"
   ]
  },
  {
   "cell_type": "markdown",
   "id": "5c61419c",
   "metadata": {
    "papermill": {
     "duration": 0.004893,
     "end_time": "2024-08-06T13:03:38.425625",
     "exception": false,
     "start_time": "2024-08-06T13:03:38.420732",
     "status": "completed"
    },
    "tags": []
   },
   "source": [
    "### Align data types between the 2 files\n"
   ]
  },
  {
   "cell_type": "code",
   "execution_count": 16,
   "id": "6d0da7de",
   "metadata": {
    "execution": {
     "iopub.execute_input": "2024-08-06T13:03:38.437470Z",
     "iopub.status.busy": "2024-08-06T13:03:38.437249Z",
     "iopub.status.idle": "2024-08-06T13:03:38.465087Z",
     "shell.execute_reply": "2024-08-06T13:03:38.464655Z"
    },
    "papermill": {
     "duration": 0.034812,
     "end_time": "2024-08-06T13:03:38.466343",
     "exception": false,
     "start_time": "2024-08-06T13:03:38.431531",
     "status": "completed"
    },
    "tags": []
   },
   "outputs": [
    {
     "data": {
      "text/html": [
       "<div>\n",
       "<style scoped>\n",
       "    .dataframe tbody tr th:only-of-type {\n",
       "        vertical-align: middle;\n",
       "    }\n",
       "\n",
       "    .dataframe tbody tr th {\n",
       "        vertical-align: top;\n",
       "    }\n",
       "\n",
       "    .dataframe thead th {\n",
       "        text-align: right;\n",
       "    }\n",
       "</style>\n",
       "<table border=\"1\" class=\"dataframe\">\n",
       "  <thead>\n",
       "    <tr style=\"text-align: right;\">\n",
       "      <th></th>\n",
       "      <th>OSEBuildingID</th>\n",
       "      <th>DataYear</th>\n",
       "      <th>BuildingType</th>\n",
       "      <th>PrimaryPropertyType</th>\n",
       "      <th>PropertyName</th>\n",
       "      <th>TaxParcelIdentificationNumber</th>\n",
       "      <th>CouncilDistrictCode</th>\n",
       "      <th>Neighborhood</th>\n",
       "      <th>YearBuilt</th>\n",
       "      <th>NumberofBuildings</th>\n",
       "      <th>NumberofFloors</th>\n",
       "      <th>PropertyGFATotal</th>\n",
       "      <th>PropertyGFAParking</th>\n",
       "      <th>PropertyGFABuilding(s)</th>\n",
       "      <th>ListOfAllPropertyUseTypes</th>\n",
       "      <th>LargestPropertyUseType</th>\n",
       "      <th>LargestPropertyUseTypeGFA</th>\n",
       "      <th>SecondLargestPropertyUseType</th>\n",
       "      <th>SecondLargestPropertyUseTypeGFA</th>\n",
       "      <th>ThirdLargestPropertyUseType</th>\n",
       "      <th>ThirdLargestPropertyUseTypeGFA</th>\n",
       "      <th>YearsENERGYSTARCertified</th>\n",
       "      <th>ENERGYSTARScore</th>\n",
       "      <th>SiteEUI(kBtu/sf)</th>\n",
       "      <th>SiteEUIWN(kBtu/sf)</th>\n",
       "      <th>SourceEUI(kBtu/sf)</th>\n",
       "      <th>SourceEUIWN(kBtu/sf)</th>\n",
       "      <th>SiteEnergyUse(kBtu)</th>\n",
       "      <th>SiteEnergyUseWN(kBtu)</th>\n",
       "      <th>SteamUse(kBtu)</th>\n",
       "      <th>Electricity(kWh)</th>\n",
       "      <th>Electricity(kBtu)</th>\n",
       "      <th>NaturalGas(therms)</th>\n",
       "      <th>NaturalGas(kBtu)</th>\n",
       "      <th>DefaultData</th>\n",
       "      <th>ComplianceStatus</th>\n",
       "      <th>Outlier</th>\n",
       "      <th>Latitude</th>\n",
       "      <th>Longitude</th>\n",
       "      <th>State</th>\n",
       "      <th>ZipCode</th>\n",
       "      <th>City</th>\n",
       "      <th>Address</th>\n",
       "      <th>TotalGHGEmissions</th>\n",
       "      <th>GHGEmissionsIntensity</th>\n",
       "    </tr>\n",
       "  </thead>\n",
       "  <tbody>\n",
       "    <tr>\n",
       "      <th>0</th>\n",
       "      <td>int64</td>\n",
       "      <td>int64</td>\n",
       "      <td>object</td>\n",
       "      <td>object</td>\n",
       "      <td>object</td>\n",
       "      <td>object</td>\n",
       "      <td>int64</td>\n",
       "      <td>object</td>\n",
       "      <td>int64</td>\n",
       "      <td>int64</td>\n",
       "      <td>float64</td>\n",
       "      <td>int64</td>\n",
       "      <td>int64</td>\n",
       "      <td>int64</td>\n",
       "      <td>object</td>\n",
       "      <td>object</td>\n",
       "      <td>float64</td>\n",
       "      <td>object</td>\n",
       "      <td>float64</td>\n",
       "      <td>object</td>\n",
       "      <td>float64</td>\n",
       "      <td>object</td>\n",
       "      <td>float64</td>\n",
       "      <td>float64</td>\n",
       "      <td>float64</td>\n",
       "      <td>float64</td>\n",
       "      <td>float64</td>\n",
       "      <td>float64</td>\n",
       "      <td>float64</td>\n",
       "      <td>float64</td>\n",
       "      <td>float64</td>\n",
       "      <td>float64</td>\n",
       "      <td>float64</td>\n",
       "      <td>float64</td>\n",
       "      <td>object</td>\n",
       "      <td>object</td>\n",
       "      <td>object</td>\n",
       "      <td>object</td>\n",
       "      <td>object</td>\n",
       "      <td>object</td>\n",
       "      <td>object</td>\n",
       "      <td>object</td>\n",
       "      <td>object</td>\n",
       "      <td>float64</td>\n",
       "      <td>float64</td>\n",
       "    </tr>\n",
       "    <tr>\n",
       "      <th>1</th>\n",
       "      <td>int64</td>\n",
       "      <td>int64</td>\n",
       "      <td>object</td>\n",
       "      <td>object</td>\n",
       "      <td>object</td>\n",
       "      <td>object</td>\n",
       "      <td>int64</td>\n",
       "      <td>object</td>\n",
       "      <td>int64</td>\n",
       "      <td>float64</td>\n",
       "      <td>int64</td>\n",
       "      <td>int64</td>\n",
       "      <td>int64</td>\n",
       "      <td>int64</td>\n",
       "      <td>object</td>\n",
       "      <td>object</td>\n",
       "      <td>float64</td>\n",
       "      <td>object</td>\n",
       "      <td>float64</td>\n",
       "      <td>object</td>\n",
       "      <td>float64</td>\n",
       "      <td>object</td>\n",
       "      <td>float64</td>\n",
       "      <td>float64</td>\n",
       "      <td>float64</td>\n",
       "      <td>float64</td>\n",
       "      <td>float64</td>\n",
       "      <td>float64</td>\n",
       "      <td>float64</td>\n",
       "      <td>float64</td>\n",
       "      <td>float64</td>\n",
       "      <td>float64</td>\n",
       "      <td>float64</td>\n",
       "      <td>float64</td>\n",
       "      <td>bool</td>\n",
       "      <td>object</td>\n",
       "      <td>object</td>\n",
       "      <td>float64</td>\n",
       "      <td>float64</td>\n",
       "      <td>object</td>\n",
       "      <td>float64</td>\n",
       "      <td>object</td>\n",
       "      <td>object</td>\n",
       "      <td>float64</td>\n",
       "      <td>float64</td>\n",
       "    </tr>\n",
       "  </tbody>\n",
       "</table>\n",
       "</div>"
      ],
      "text/plain": [
       "  OSEBuildingID DataYear BuildingType PrimaryPropertyType PropertyName  \\\n",
       "0         int64    int64       object              object       object   \n",
       "1         int64    int64       object              object       object   \n",
       "\n",
       "  TaxParcelIdentificationNumber CouncilDistrictCode Neighborhood YearBuilt  \\\n",
       "0                        object               int64       object     int64   \n",
       "1                        object               int64       object     int64   \n",
       "\n",
       "  NumberofBuildings NumberofFloors PropertyGFATotal PropertyGFAParking  \\\n",
       "0             int64        float64            int64              int64   \n",
       "1           float64          int64            int64              int64   \n",
       "\n",
       "  PropertyGFABuilding(s) ListOfAllPropertyUseTypes LargestPropertyUseType  \\\n",
       "0                  int64                    object                 object   \n",
       "1                  int64                    object                 object   \n",
       "\n",
       "  LargestPropertyUseTypeGFA SecondLargestPropertyUseType  \\\n",
       "0                   float64                       object   \n",
       "1                   float64                       object   \n",
       "\n",
       "  SecondLargestPropertyUseTypeGFA ThirdLargestPropertyUseType  \\\n",
       "0                         float64                      object   \n",
       "1                         float64                      object   \n",
       "\n",
       "  ThirdLargestPropertyUseTypeGFA YearsENERGYSTARCertified ENERGYSTARScore  \\\n",
       "0                        float64                   object         float64   \n",
       "1                        float64                   object         float64   \n",
       "\n",
       "  SiteEUI(kBtu/sf) SiteEUIWN(kBtu/sf) SourceEUI(kBtu/sf) SourceEUIWN(kBtu/sf)  \\\n",
       "0          float64            float64            float64              float64   \n",
       "1          float64            float64            float64              float64   \n",
       "\n",
       "  SiteEnergyUse(kBtu) SiteEnergyUseWN(kBtu) SteamUse(kBtu) Electricity(kWh)  \\\n",
       "0             float64               float64        float64          float64   \n",
       "1             float64               float64        float64          float64   \n",
       "\n",
       "  Electricity(kBtu) NaturalGas(therms) NaturalGas(kBtu) DefaultData  \\\n",
       "0           float64            float64          float64      object   \n",
       "1           float64            float64          float64        bool   \n",
       "\n",
       "  ComplianceStatus Outlier Latitude Longitude   State  ZipCode    City  \\\n",
       "0           object  object   object    object  object   object  object   \n",
       "1           object  object  float64   float64  object  float64  object   \n",
       "\n",
       "  Address TotalGHGEmissions GHGEmissionsIntensity  \n",
       "0  object           float64               float64  \n",
       "1  object           float64               float64  "
      ]
     },
     "execution_count": 16,
     "metadata": {},
     "output_type": "execute_result"
    }
   ],
   "source": [
    "pd.DataFrame([data2015.dtypes,data2016.dtypes])"
   ]
  },
  {
   "cell_type": "code",
   "execution_count": 17,
   "id": "cb7580b7",
   "metadata": {
    "execution": {
     "iopub.execute_input": "2024-08-06T13:03:38.478980Z",
     "iopub.status.busy": "2024-08-06T13:03:38.478750Z",
     "iopub.status.idle": "2024-08-06T13:03:38.496454Z",
     "shell.execute_reply": "2024-08-06T13:03:38.495931Z"
    },
    "papermill": {
     "duration": 0.025539,
     "end_time": "2024-08-06T13:03:38.497943",
     "exception": false,
     "start_time": "2024-08-06T13:03:38.472404",
     "status": "completed"
    },
    "tags": []
   },
   "outputs": [],
   "source": [
    "data2015[['Latitude','Longitude','ZipCode']]=data2015[['Latitude','Longitude','ZipCode']].astype('float64')"
   ]
  },
  {
   "cell_type": "code",
   "execution_count": 18,
   "id": "8d66e67e",
   "metadata": {
    "execution": {
     "iopub.execute_input": "2024-08-06T13:03:38.510150Z",
     "iopub.status.busy": "2024-08-06T13:03:38.509960Z",
     "iopub.status.idle": "2024-08-06T13:03:38.525039Z",
     "shell.execute_reply": "2024-08-06T13:03:38.524653Z"
    },
    "papermill": {
     "duration": 0.022342,
     "end_time": "2024-08-06T13:03:38.526461",
     "exception": false,
     "start_time": "2024-08-06T13:03:38.504119",
     "status": "completed"
    },
    "tags": []
   },
   "outputs": [],
   "source": [
    "data2015['DefaultData'] = data2015['DefaultData'].map({'Yes' : True, 'No' : False}).head()"
   ]
  },
  {
   "cell_type": "markdown",
   "id": "153343aa",
   "metadata": {
    "papermill": {
     "duration": 0.006419,
     "end_time": "2024-08-06T13:03:38.539593",
     "exception": false,
     "start_time": "2024-08-06T13:03:38.533174",
     "status": "completed"
    },
    "tags": []
   },
   "source": [
    "### Combine the 2 datasets\n"
   ]
  },
  {
   "cell_type": "code",
   "execution_count": 19,
   "id": "17ab2133",
   "metadata": {
    "execution": {
     "iopub.execute_input": "2024-08-06T13:03:38.552501Z",
     "iopub.status.busy": "2024-08-06T13:03:38.552276Z",
     "iopub.status.idle": "2024-08-06T13:03:38.568693Z",
     "shell.execute_reply": "2024-08-06T13:03:38.568270Z"
    },
    "papermill": {
     "duration": 0.024446,
     "end_time": "2024-08-06T13:03:38.570153",
     "exception": false,
     "start_time": "2024-08-06T13:03:38.545707",
     "status": "completed"
    },
    "tags": []
   },
   "outputs": [],
   "source": [
    "data = pd.concat([data2015,data2016], axis=0, ignore_index=True)"
   ]
  },
  {
   "cell_type": "code",
   "execution_count": 20,
   "id": "187d5acf",
   "metadata": {
    "execution": {
     "iopub.execute_input": "2024-08-06T13:03:38.582240Z",
     "iopub.status.busy": "2024-08-06T13:03:38.582019Z",
     "iopub.status.idle": "2024-08-06T13:03:38.611209Z",
     "shell.execute_reply": "2024-08-06T13:03:38.610792Z"
    },
    "papermill": {
     "duration": 0.037181,
     "end_time": "2024-08-06T13:03:38.612782",
     "exception": false,
     "start_time": "2024-08-06T13:03:38.575601",
     "status": "completed"
    },
    "tags": []
   },
   "outputs": [
    {
     "name": "stdout",
     "output_type": "stream",
     "text": [
      "<class 'pandas.core.frame.DataFrame'>\n",
      "RangeIndex: 6716 entries, 0 to 6715\n",
      "Data columns (total 45 columns):\n",
      " #   Column                           Non-Null Count  Dtype  \n",
      "---  ------                           --------------  -----  \n",
      " 0   OSEBuildingID                    6716 non-null   int64  \n",
      " 1   DataYear                         6716 non-null   int64  \n",
      " 2   BuildingType                     6716 non-null   object \n",
      " 3   PrimaryPropertyType              6716 non-null   object \n",
      " 4   PropertyName                     6716 non-null   object \n",
      " 5   TaxParcelIdentificationNumber    6714 non-null   object \n",
      " 6   CouncilDistrictCode              6716 non-null   int64  \n",
      " 7   Neighborhood                     6716 non-null   object \n",
      " 8   YearBuilt                        6716 non-null   int64  \n",
      " 9   NumberofBuildings                6708 non-null   float64\n",
      " 10  NumberofFloors                   6708 non-null   float64\n",
      " 11  PropertyGFATotal                 6716 non-null   int64  \n",
      " 12  PropertyGFAParking               6716 non-null   int64  \n",
      " 13  PropertyGFABuilding(s)           6716 non-null   int64  \n",
      " 14  ListOfAllPropertyUseTypes        6580 non-null   object \n",
      " 15  LargestPropertyUseType           6560 non-null   object \n",
      " 16  LargestPropertyUseTypeGFA        6560 non-null   float64\n",
      " 17  SecondLargestPropertyUseType     3238 non-null   object \n",
      " 18  SecondLargestPropertyUseTypeGFA  3238 non-null   float64\n",
      " 19  ThirdLargestPropertyUseType      1156 non-null   object \n",
      " 20  ThirdLargestPropertyUseTypeGFA   1156 non-null   float64\n",
      " 21  YearsENERGYSTARCertified         229 non-null    object \n",
      " 22  ENERGYSTARScore                  5093 non-null   float64\n",
      " 23  SiteEUI(kBtu/sf)                 6699 non-null   float64\n",
      " 24  SiteEUIWN(kBtu/sf)               6700 non-null   float64\n",
      " 25  SourceEUI(kBtu/sf)               6697 non-null   float64\n",
      " 26  SourceEUIWN(kBtu/sf)             6697 non-null   float64\n",
      " 27  SiteEnergyUse(kBtu)              6701 non-null   float64\n",
      " 28  SiteEnergyUseWN(kBtu)            6700 non-null   float64\n",
      " 29  SteamUse(kBtu)                   6697 non-null   float64\n",
      " 30  Electricity(kWh)                 6697 non-null   float64\n",
      " 31  Electricity(kBtu)                6697 non-null   float64\n",
      " 32  NaturalGas(therms)               6697 non-null   float64\n",
      " 33  NaturalGas(kBtu)                 6697 non-null   float64\n",
      " 34  DefaultData                      3381 non-null   object \n",
      " 35  ComplianceStatus                 6716 non-null   object \n",
      " 36  Outlier                          116 non-null    object \n",
      " 37  Latitude                         6716 non-null   float64\n",
      " 38  Longitude                        6716 non-null   float64\n",
      " 39  State                            6716 non-null   object \n",
      " 40  ZipCode                          6700 non-null   float64\n",
      " 41  City                             6716 non-null   object \n",
      " 42  Address                          6716 non-null   object \n",
      " 43  TotalGHGEmissions                6697 non-null   float64\n",
      " 44  GHGEmissionsIntensity            6697 non-null   float64\n",
      "dtypes: float64(22), int64(7), object(16)\n",
      "memory usage: 2.3+ MB\n"
     ]
    }
   ],
   "source": [
    "# Columns \n",
    "data.info()"
   ]
  },
  {
   "cell_type": "markdown",
   "id": "93b70c57",
   "metadata": {
    "papermill": {
     "duration": 0.005801,
     "end_time": "2024-08-06T13:03:38.625132",
     "exception": false,
     "start_time": "2024-08-06T13:03:38.619331",
     "status": "completed"
    },
    "tags": []
   },
   "source": [
    "### Harmonize values\n"
   ]
  },
  {
   "cell_type": "code",
   "execution_count": 21,
   "id": "5c4571d3",
   "metadata": {
    "execution": {
     "iopub.execute_input": "2024-08-06T13:03:38.637967Z",
     "iopub.status.busy": "2024-08-06T13:03:38.637729Z",
     "iopub.status.idle": "2024-08-06T13:03:38.673524Z",
     "shell.execute_reply": "2024-08-06T13:03:38.673070Z"
    },
    "papermill": {
     "duration": 0.043855,
     "end_time": "2024-08-06T13:03:38.675366",
     "exception": false,
     "start_time": "2024-08-06T13:03:38.631511",
     "status": "completed"
    },
    "tags": []
   },
   "outputs": [
    {
     "name": "stdout",
     "output_type": "stream",
     "text": [
      "OSEBuildingID -------> 3432\n",
      "DataYear -------> [2015 2016]\n",
      "BuildingType -------> ['NonResidential' 'Nonresidential COS' 'Multifamily MR (5-9)'\n",
      " 'SPS-District K-12' 'Multifamily LR (1-4)' 'Campus'\n",
      " 'Multifamily HR (10+)' 'Nonresidential WA']\n",
      "PrimaryPropertyType -------> 32\n",
      "PropertyName -------> 6527\n",
      "TaxParcelIdentificationNumber -------> 3729\n",
      "CouncilDistrictCode -------> [7 3 2 4 5 6 1]\n",
      "Neighborhood -------> ['DOWNTOWN' 'SOUTHEAST' 'NORTHEAST' 'EAST' 'CENTRAL' 'NORTH'\n",
      " 'MAGNOLIA / QUEEN ANNE' 'LAKE UNION' 'GREATER DUWAMISH' 'BALLARD'\n",
      " 'NORTHWEST' 'SOUTHWEST' 'DELRIDGE' 'Central' 'Ballard' 'North' 'Delridge'\n",
      " 'Northwest' 'DELRIDGE NEIGHBORHOODS']\n",
      "YearBuilt -------> 113\n",
      "NumberofBuildings -------> [  1.   7.  11.  16.   4.   3.  39.   2.  10.   6.   0.  27.  14.   9.\n",
      "   5.  nan   8.  23. 111.]\n",
      "NumberofFloors -------> 50\n",
      "PropertyGFATotal -------> 3297\n",
      "PropertyGFAParking -------> 960\n",
      "PropertyGFABuilding(s) -------> 3726\n",
      "ListOfAllPropertyUseTypes -------> 488\n",
      "LargestPropertyUseType -------> 57\n",
      "LargestPropertyUseTypeGFA -------> 3332\n",
      "SecondLargestPropertyUseType -------> 50\n",
      "SecondLargestPropertyUseTypeGFA -------> 1434\n",
      "ThirdLargestPropertyUseType -------> 45\n",
      "ThirdLargestPropertyUseTypeGFA -------> 531\n",
      "YearsENERGYSTARCertified -------> 116\n",
      "ENERGYSTARScore -------> 100\n",
      "SiteEUI(kBtu/sf) -------> 2020\n",
      "SiteEUIWN(kBtu/sf) -------> 2065\n",
      "SourceEUI(kBtu/sf) -------> 3137\n",
      "SourceEUIWN(kBtu/sf) -------> 3191\n",
      "SiteEnergyUse(kBtu) -------> 6679\n",
      "SiteEnergyUseWN(kBtu) -------> 6659\n",
      "SteamUse(kBtu) -------> 261\n",
      "Electricity(kWh) -------> 6677\n",
      "Electricity(kBtu) -------> 6678\n",
      "NaturalGas(therms) -------> 4101\n",
      "NaturalGas(kBtu) -------> 4181\n",
      "DefaultData -------> [False True nan]\n",
      "ComplianceStatus -------> ['Compliant' 'Not Compliant' 'Error - Correct Default Data' 'Missing Data'\n",
      " 'Non-Compliant']\n",
      "Outlier -------> [nan 'High Outlier' 'Low Outlier' 'High outlier' 'Low outlier']\n",
      "Latitude -------> 6111\n",
      "Longitude -------> 5863\n",
      "State -------> ['WA']\n",
      "ZipCode -------> 55\n",
      "City -------> ['SEATTLE' 'Seattle']\n",
      "Address -------> 6379\n",
      "TotalGHGEmissions -------> 4924\n",
      "GHGEmissionsIntensity -------> 612\n"
     ]
    }
   ],
   "source": [
    "for key in list(data.keys()):\n",
    "    if data[key].nunique()<20:\n",
    "        print(key,'------->', data[key].unique())\n",
    "    else:\n",
    "        print(key, '------->',data[key].nunique())"
   ]
  },
  {
   "cell_type": "code",
   "execution_count": 22,
   "id": "d47d7943",
   "metadata": {
    "execution": {
     "iopub.execute_input": "2024-08-06T13:03:38.690423Z",
     "iopub.status.busy": "2024-08-06T13:03:38.690165Z",
     "iopub.status.idle": "2024-08-06T13:03:38.709816Z",
     "shell.execute_reply": "2024-08-06T13:03:38.709407Z"
    },
    "papermill": {
     "duration": 0.028922,
     "end_time": "2024-08-06T13:03:38.711275",
     "exception": false,
     "start_time": "2024-08-06T13:03:38.682353",
     "status": "completed"
    },
    "tags": []
   },
   "outputs": [],
   "source": [
    "data['Neighborhood'].replace('Delridge', 'DELRIDGE', inplace=True)\n",
    "data['Neighborhood'].replace('DELRIDGE NEIGHBORHOODS', 'DELRIDGE', inplace=True)\n",
    "data['Neighborhood'].replace('North', 'NORTH', inplace=True)\n",
    "data['Neighborhood'].replace('Northwest', 'NORTHWEST', inplace=True)\n",
    "data['Neighborhood'].replace('Central', 'CENTRAL', inplace=True)\n",
    "data['Neighborhood'].replace('Ballard', 'BALLARD', inplace=True)"
   ]
  },
  {
   "cell_type": "code",
   "execution_count": 23,
   "id": "5a4ab20f",
   "metadata": {
    "execution": {
     "iopub.execute_input": "2024-08-06T13:03:38.724056Z",
     "iopub.status.busy": "2024-08-06T13:03:38.723828Z",
     "iopub.status.idle": "2024-08-06T13:03:38.738070Z",
     "shell.execute_reply": "2024-08-06T13:03:38.737658Z"
    },
    "papermill": {
     "duration": 0.022578,
     "end_time": "2024-08-06T13:03:38.739608",
     "exception": false,
     "start_time": "2024-08-06T13:03:38.717030",
     "status": "completed"
    },
    "tags": []
   },
   "outputs": [],
   "source": [
    "data['City'].replace('SEATTLE', 'Seattle', inplace=True)\n",
    "data['ComplianceStatus'].replace('Not Compliant', 'Non-Compliant', inplace=True)"
   ]
  },
  {
   "cell_type": "code",
   "execution_count": 24,
   "id": "8467de44",
   "metadata": {
    "execution": {
     "iopub.execute_input": "2024-08-06T13:03:38.752649Z",
     "iopub.status.busy": "2024-08-06T13:03:38.752453Z",
     "iopub.status.idle": "2024-08-06T13:03:38.765413Z",
     "shell.execute_reply": "2024-08-06T13:03:38.765027Z"
    },
    "papermill": {
     "duration": 0.020788,
     "end_time": "2024-08-06T13:03:38.766649",
     "exception": false,
     "start_time": "2024-08-06T13:03:38.745861",
     "status": "completed"
    },
    "tags": []
   },
   "outputs": [
    {
     "name": "stderr",
     "output_type": "stream",
     "text": [
      "\u001b[32m2024-08-06 13:03:38.763\u001b[0m | \u001b[1mINFO    \u001b[0m | \u001b[36m__main__\u001b[0m:\u001b[36m<module>\u001b[0m:\u001b[36m1\u001b[0m - Alignment Operations done !\n"
     ]
    }
   ],
   "source": [
    "logger.info(\"Alignment Operations done !\")"
   ]
  },
  {
   "cell_type": "code",
   "execution_count": 25,
   "id": "672cd3e0",
   "metadata": {
    "execution": {
     "iopub.execute_input": "2024-08-06T13:03:38.779833Z",
     "iopub.status.busy": "2024-08-06T13:03:38.779608Z",
     "iopub.status.idle": "2024-08-06T13:03:38.974440Z",
     "shell.execute_reply": "2024-08-06T13:03:38.974001Z"
    },
    "papermill": {
     "duration": 0.20283,
     "end_time": "2024-08-06T13:03:38.975893",
     "exception": false,
     "start_time": "2024-08-06T13:03:38.773063",
     "status": "completed"
    },
    "tags": []
   },
   "outputs": [
    {
     "data": {
      "text/html": [
       "<div>\n",
       "<style scoped>\n",
       "    .dataframe tbody tr th:only-of-type {\n",
       "        vertical-align: middle;\n",
       "    }\n",
       "\n",
       "    .dataframe tbody tr th {\n",
       "        vertical-align: top;\n",
       "    }\n",
       "\n",
       "    .dataframe thead th {\n",
       "        text-align: right;\n",
       "    }\n",
       "</style>\n",
       "<table border=\"1\" class=\"dataframe\">\n",
       "  <thead>\n",
       "    <tr style=\"text-align: right;\">\n",
       "      <th></th>\n",
       "      <th>OSEBuildingID</th>\n",
       "      <th>DataYear</th>\n",
       "      <th>CouncilDistrictCode</th>\n",
       "      <th>YearBuilt</th>\n",
       "      <th>NumberofBuildings</th>\n",
       "      <th>NumberofFloors</th>\n",
       "      <th>PropertyGFATotal</th>\n",
       "      <th>PropertyGFAParking</th>\n",
       "      <th>PropertyGFABuilding(s)</th>\n",
       "      <th>LargestPropertyUseTypeGFA</th>\n",
       "      <th>SecondLargestPropertyUseTypeGFA</th>\n",
       "      <th>ThirdLargestPropertyUseTypeGFA</th>\n",
       "      <th>ENERGYSTARScore</th>\n",
       "      <th>SiteEUI(kBtu/sf)</th>\n",
       "      <th>SiteEUIWN(kBtu/sf)</th>\n",
       "      <th>SourceEUI(kBtu/sf)</th>\n",
       "      <th>SourceEUIWN(kBtu/sf)</th>\n",
       "      <th>SiteEnergyUse(kBtu)</th>\n",
       "      <th>SiteEnergyUseWN(kBtu)</th>\n",
       "      <th>SteamUse(kBtu)</th>\n",
       "      <th>Electricity(kWh)</th>\n",
       "      <th>Electricity(kBtu)</th>\n",
       "      <th>NaturalGas(therms)</th>\n",
       "      <th>NaturalGas(kBtu)</th>\n",
       "      <th>Latitude</th>\n",
       "      <th>Longitude</th>\n",
       "      <th>ZipCode</th>\n",
       "      <th>TotalGHGEmissions</th>\n",
       "      <th>GHGEmissionsIntensity</th>\n",
       "    </tr>\n",
       "  </thead>\n",
       "  <tbody>\n",
       "    <tr>\n",
       "      <th>count</th>\n",
       "      <td>6716.000000</td>\n",
       "      <td>6716.00000</td>\n",
       "      <td>6716.000000</td>\n",
       "      <td>6716.000000</td>\n",
       "      <td>6708.000000</td>\n",
       "      <td>6708.000000</td>\n",
       "      <td>6.716000e+03</td>\n",
       "      <td>6716.000000</td>\n",
       "      <td>6.716000e+03</td>\n",
       "      <td>6.560000e+03</td>\n",
       "      <td>3238.000000</td>\n",
       "      <td>1156.000000</td>\n",
       "      <td>5093.000000</td>\n",
       "      <td>6699.000000</td>\n",
       "      <td>6700.000000</td>\n",
       "      <td>6697.000000</td>\n",
       "      <td>6697.000000</td>\n",
       "      <td>6.701000e+03</td>\n",
       "      <td>6.700000e+03</td>\n",
       "      <td>6.697000e+03</td>\n",
       "      <td>6.697000e+03</td>\n",
       "      <td>6.697000e+03</td>\n",
       "      <td>6.697000e+03</td>\n",
       "      <td>6.697000e+03</td>\n",
       "      <td>6716.000000</td>\n",
       "      <td>6716.000000</td>\n",
       "      <td>6700.000000</td>\n",
       "      <td>6697.000000</td>\n",
       "      <td>6697.000000</td>\n",
       "    </tr>\n",
       "    <tr>\n",
       "      <th>mean</th>\n",
       "      <td>20867.420488</td>\n",
       "      <td>2015.50268</td>\n",
       "      <td>4.445057</td>\n",
       "      <td>1968.101549</td>\n",
       "      <td>1.071407</td>\n",
       "      <td>4.695736</td>\n",
       "      <td>9.281410e+04</td>\n",
       "      <td>9519.597975</td>\n",
       "      <td>8.329450e+04</td>\n",
       "      <td>7.707936e+04</td>\n",
       "      <td>28074.100153</td>\n",
       "      <td>11262.497750</td>\n",
       "      <td>67.906342</td>\n",
       "      <td>54.182341</td>\n",
       "      <td>57.308522</td>\n",
       "      <td>133.510303</td>\n",
       "      <td>138.356802</td>\n",
       "      <td>5.194673e+06</td>\n",
       "      <td>5.240110e+06</td>\n",
       "      <td>2.625076e+05</td>\n",
       "      <td>1.052458e+06</td>\n",
       "      <td>3.591058e+06</td>\n",
       "      <td>1.311223e+04</td>\n",
       "      <td>1.311223e+06</td>\n",
       "      <td>47.624062</td>\n",
       "      <td>-122.334904</td>\n",
       "      <td>98116.843582</td>\n",
       "      <td>114.935638</td>\n",
       "      <td>1.081154</td>\n",
       "    </tr>\n",
       "    <tr>\n",
       "      <th>std</th>\n",
       "      <td>11878.968174</td>\n",
       "      <td>0.50003</td>\n",
       "      <td>2.123749</td>\n",
       "      <td>33.020391</td>\n",
       "      <td>1.593505</td>\n",
       "      <td>5.476218</td>\n",
       "      <td>1.875062e+05</td>\n",
       "      <td>33868.050881</td>\n",
       "      <td>1.733470e+05</td>\n",
       "      <td>1.681617e+05</td>\n",
       "      <td>53473.984688</td>\n",
       "      <td>26287.655182</td>\n",
       "      <td>27.012124</td>\n",
       "      <td>55.101657</td>\n",
       "      <td>56.390651</td>\n",
       "      <td>135.677195</td>\n",
       "      <td>135.302508</td>\n",
       "      <td>1.813648e+07</td>\n",
       "      <td>1.500896e+07</td>\n",
       "      <td>3.704221e+06</td>\n",
       "      <td>3.659769e+06</td>\n",
       "      <td>1.248728e+07</td>\n",
       "      <td>5.685626e+04</td>\n",
       "      <td>5.685627e+06</td>\n",
       "      <td>0.047837</td>\n",
       "      <td>0.027185</td>\n",
       "      <td>17.730253</td>\n",
       "      <td>478.876573</td>\n",
       "      <td>1.734763</td>\n",
       "    </tr>\n",
       "    <tr>\n",
       "      <th>min</th>\n",
       "      <td>1.000000</td>\n",
       "      <td>2015.00000</td>\n",
       "      <td>1.000000</td>\n",
       "      <td>1900.000000</td>\n",
       "      <td>0.000000</td>\n",
       "      <td>0.000000</td>\n",
       "      <td>1.128500e+04</td>\n",
       "      <td>-3.000000</td>\n",
       "      <td>-5.055000e+04</td>\n",
       "      <td>5.656000e+03</td>\n",
       "      <td>0.000000</td>\n",
       "      <td>0.000000</td>\n",
       "      <td>1.000000</td>\n",
       "      <td>0.000000</td>\n",
       "      <td>0.000000</td>\n",
       "      <td>-2.000000</td>\n",
       "      <td>-2.100000</td>\n",
       "      <td>0.000000e+00</td>\n",
       "      <td>0.000000e+00</td>\n",
       "      <td>0.000000e+00</td>\n",
       "      <td>-3.382680e+04</td>\n",
       "      <td>-1.154170e+05</td>\n",
       "      <td>0.000000e+00</td>\n",
       "      <td>0.000000e+00</td>\n",
       "      <td>47.499170</td>\n",
       "      <td>-122.414250</td>\n",
       "      <td>98006.000000</td>\n",
       "      <td>-0.800000</td>\n",
       "      <td>-0.020000</td>\n",
       "    </tr>\n",
       "    <tr>\n",
       "      <th>25%</th>\n",
       "      <td>19934.000000</td>\n",
       "      <td>2015.00000</td>\n",
       "      <td>3.000000</td>\n",
       "      <td>1948.000000</td>\n",
       "      <td>1.000000</td>\n",
       "      <td>2.000000</td>\n",
       "      <td>2.848700e+04</td>\n",
       "      <td>0.000000</td>\n",
       "      <td>2.727300e+04</td>\n",
       "      <td>2.501600e+04</td>\n",
       "      <td>4993.000000</td>\n",
       "      <td>2325.000000</td>\n",
       "      <td>52.000000</td>\n",
       "      <td>27.600000</td>\n",
       "      <td>29.600000</td>\n",
       "      <td>74.000000</td>\n",
       "      <td>79.199997</td>\n",
       "      <td>9.200689e+05</td>\n",
       "      <td>9.818029e+05</td>\n",
       "      <td>0.000000e+00</td>\n",
       "      <td>1.867660e+05</td>\n",
       "      <td>6.372730e+05</td>\n",
       "      <td>0.000000e+00</td>\n",
       "      <td>0.000000e+00</td>\n",
       "      <td>47.599857</td>\n",
       "      <td>-122.350603</td>\n",
       "      <td>98105.000000</td>\n",
       "      <td>9.450000</td>\n",
       "      <td>0.160000</td>\n",
       "    </tr>\n",
       "    <tr>\n",
       "      <th>50%</th>\n",
       "      <td>23064.000000</td>\n",
       "      <td>2016.00000</td>\n",
       "      <td>4.000000</td>\n",
       "      <td>1974.000000</td>\n",
       "      <td>1.000000</td>\n",
       "      <td>4.000000</td>\n",
       "      <td>4.400800e+04</td>\n",
       "      <td>0.000000</td>\n",
       "      <td>4.218500e+04</td>\n",
       "      <td>3.953000e+04</td>\n",
       "      <td>10631.000000</td>\n",
       "      <td>5039.000000</td>\n",
       "      <td>75.000000</td>\n",
       "      <td>38.000000</td>\n",
       "      <td>40.900000</td>\n",
       "      <td>95.600000</td>\n",
       "      <td>102.099998</td>\n",
       "      <td>1.791071e+06</td>\n",
       "      <td>1.926136e+06</td>\n",
       "      <td>0.000000e+00</td>\n",
       "      <td>3.422434e+05</td>\n",
       "      <td>1.167735e+06</td>\n",
       "      <td>3.051000e+03</td>\n",
       "      <td>3.051000e+05</td>\n",
       "      <td>47.618608</td>\n",
       "      <td>-122.332630</td>\n",
       "      <td>98115.000000</td>\n",
       "      <td>33.180000</td>\n",
       "      <td>0.540000</td>\n",
       "    </tr>\n",
       "    <tr>\n",
       "      <th>75%</th>\n",
       "      <td>25868.250000</td>\n",
       "      <td>2016.00000</td>\n",
       "      <td>7.000000</td>\n",
       "      <td>1996.000000</td>\n",
       "      <td>1.000000</td>\n",
       "      <td>5.000000</td>\n",
       "      <td>8.943125e+04</td>\n",
       "      <td>0.000000</td>\n",
       "      <td>8.112000e+04</td>\n",
       "      <td>7.417800e+04</td>\n",
       "      <td>26462.000000</td>\n",
       "      <td>10270.000000</td>\n",
       "      <td>90.000000</td>\n",
       "      <td>60.200000</td>\n",
       "      <td>64.925001</td>\n",
       "      <td>143.900000</td>\n",
       "      <td>149.800000</td>\n",
       "      <td>4.135280e+06</td>\n",
       "      <td>4.377974e+06</td>\n",
       "      <td>0.000000e+00</td>\n",
       "      <td>8.198140e+05</td>\n",
       "      <td>2.797320e+06</td>\n",
       "      <td>1.149639e+04</td>\n",
       "      <td>1.149639e+06</td>\n",
       "      <td>47.657135</td>\n",
       "      <td>-122.319733</td>\n",
       "      <td>98122.000000</td>\n",
       "      <td>91.530000</td>\n",
       "      <td>1.280000</td>\n",
       "    </tr>\n",
       "    <tr>\n",
       "      <th>max</th>\n",
       "      <td>50226.000000</td>\n",
       "      <td>2016.00000</td>\n",
       "      <td>7.000000</td>\n",
       "      <td>2015.000000</td>\n",
       "      <td>111.000000</td>\n",
       "      <td>99.000000</td>\n",
       "      <td>9.320156e+06</td>\n",
       "      <td>512608.000000</td>\n",
       "      <td>9.320156e+06</td>\n",
       "      <td>9.320156e+06</td>\n",
       "      <td>686750.000000</td>\n",
       "      <td>459748.000000</td>\n",
       "      <td>100.000000</td>\n",
       "      <td>834.400024</td>\n",
       "      <td>834.400024</td>\n",
       "      <td>2620.000000</td>\n",
       "      <td>2620.000000</td>\n",
       "      <td>8.739237e+08</td>\n",
       "      <td>4.716139e+08</td>\n",
       "      <td>1.349435e+08</td>\n",
       "      <td>1.925775e+08</td>\n",
       "      <td>6.570744e+08</td>\n",
       "      <td>2.979090e+06</td>\n",
       "      <td>2.979090e+08</td>\n",
       "      <td>47.733870</td>\n",
       "      <td>-122.220470</td>\n",
       "      <td>98272.000000</td>\n",
       "      <td>16870.980000</td>\n",
       "      <td>34.090000</td>\n",
       "    </tr>\n",
       "  </tbody>\n",
       "</table>\n",
       "</div>"
      ],
      "text/plain": [
       "       OSEBuildingID    DataYear  CouncilDistrictCode    YearBuilt  \\\n",
       "count    6716.000000  6716.00000          6716.000000  6716.000000   \n",
       "mean    20867.420488  2015.50268             4.445057  1968.101549   \n",
       "std     11878.968174     0.50003             2.123749    33.020391   \n",
       "min         1.000000  2015.00000             1.000000  1900.000000   \n",
       "25%     19934.000000  2015.00000             3.000000  1948.000000   \n",
       "50%     23064.000000  2016.00000             4.000000  1974.000000   \n",
       "75%     25868.250000  2016.00000             7.000000  1996.000000   \n",
       "max     50226.000000  2016.00000             7.000000  2015.000000   \n",
       "\n",
       "       NumberofBuildings  NumberofFloors  PropertyGFATotal  \\\n",
       "count        6708.000000     6708.000000      6.716000e+03   \n",
       "mean            1.071407        4.695736      9.281410e+04   \n",
       "std             1.593505        5.476218      1.875062e+05   \n",
       "min             0.000000        0.000000      1.128500e+04   \n",
       "25%             1.000000        2.000000      2.848700e+04   \n",
       "50%             1.000000        4.000000      4.400800e+04   \n",
       "75%             1.000000        5.000000      8.943125e+04   \n",
       "max           111.000000       99.000000      9.320156e+06   \n",
       "\n",
       "       PropertyGFAParking  PropertyGFABuilding(s)  LargestPropertyUseTypeGFA  \\\n",
       "count         6716.000000            6.716000e+03               6.560000e+03   \n",
       "mean          9519.597975            8.329450e+04               7.707936e+04   \n",
       "std          33868.050881            1.733470e+05               1.681617e+05   \n",
       "min             -3.000000           -5.055000e+04               5.656000e+03   \n",
       "25%              0.000000            2.727300e+04               2.501600e+04   \n",
       "50%              0.000000            4.218500e+04               3.953000e+04   \n",
       "75%              0.000000            8.112000e+04               7.417800e+04   \n",
       "max         512608.000000            9.320156e+06               9.320156e+06   \n",
       "\n",
       "       SecondLargestPropertyUseTypeGFA  ThirdLargestPropertyUseTypeGFA  \\\n",
       "count                      3238.000000                     1156.000000   \n",
       "mean                      28074.100153                    11262.497750   \n",
       "std                       53473.984688                    26287.655182   \n",
       "min                           0.000000                        0.000000   \n",
       "25%                        4993.000000                     2325.000000   \n",
       "50%                       10631.000000                     5039.000000   \n",
       "75%                       26462.000000                    10270.000000   \n",
       "max                      686750.000000                   459748.000000   \n",
       "\n",
       "       ENERGYSTARScore  SiteEUI(kBtu/sf)  SiteEUIWN(kBtu/sf)  \\\n",
       "count      5093.000000       6699.000000         6700.000000   \n",
       "mean         67.906342         54.182341           57.308522   \n",
       "std          27.012124         55.101657           56.390651   \n",
       "min           1.000000          0.000000            0.000000   \n",
       "25%          52.000000         27.600000           29.600000   \n",
       "50%          75.000000         38.000000           40.900000   \n",
       "75%          90.000000         60.200000           64.925001   \n",
       "max         100.000000        834.400024          834.400024   \n",
       "\n",
       "       SourceEUI(kBtu/sf)  SourceEUIWN(kBtu/sf)  SiteEnergyUse(kBtu)  \\\n",
       "count         6697.000000           6697.000000         6.701000e+03   \n",
       "mean           133.510303            138.356802         5.194673e+06   \n",
       "std            135.677195            135.302508         1.813648e+07   \n",
       "min             -2.000000             -2.100000         0.000000e+00   \n",
       "25%             74.000000             79.199997         9.200689e+05   \n",
       "50%             95.600000            102.099998         1.791071e+06   \n",
       "75%            143.900000            149.800000         4.135280e+06   \n",
       "max           2620.000000           2620.000000         8.739237e+08   \n",
       "\n",
       "       SiteEnergyUseWN(kBtu)  SteamUse(kBtu)  Electricity(kWh)  \\\n",
       "count           6.700000e+03    6.697000e+03      6.697000e+03   \n",
       "mean            5.240110e+06    2.625076e+05      1.052458e+06   \n",
       "std             1.500896e+07    3.704221e+06      3.659769e+06   \n",
       "min             0.000000e+00    0.000000e+00     -3.382680e+04   \n",
       "25%             9.818029e+05    0.000000e+00      1.867660e+05   \n",
       "50%             1.926136e+06    0.000000e+00      3.422434e+05   \n",
       "75%             4.377974e+06    0.000000e+00      8.198140e+05   \n",
       "max             4.716139e+08    1.349435e+08      1.925775e+08   \n",
       "\n",
       "       Electricity(kBtu)  NaturalGas(therms)  NaturalGas(kBtu)     Latitude  \\\n",
       "count       6.697000e+03        6.697000e+03      6.697000e+03  6716.000000   \n",
       "mean        3.591058e+06        1.311223e+04      1.311223e+06    47.624062   \n",
       "std         1.248728e+07        5.685626e+04      5.685627e+06     0.047837   \n",
       "min        -1.154170e+05        0.000000e+00      0.000000e+00    47.499170   \n",
       "25%         6.372730e+05        0.000000e+00      0.000000e+00    47.599857   \n",
       "50%         1.167735e+06        3.051000e+03      3.051000e+05    47.618608   \n",
       "75%         2.797320e+06        1.149639e+04      1.149639e+06    47.657135   \n",
       "max         6.570744e+08        2.979090e+06      2.979090e+08    47.733870   \n",
       "\n",
       "         Longitude       ZipCode  TotalGHGEmissions  GHGEmissionsIntensity  \n",
       "count  6716.000000   6700.000000        6697.000000            6697.000000  \n",
       "mean   -122.334904  98116.843582         114.935638               1.081154  \n",
       "std       0.027185     17.730253         478.876573               1.734763  \n",
       "min    -122.414250  98006.000000          -0.800000              -0.020000  \n",
       "25%    -122.350603  98105.000000           9.450000               0.160000  \n",
       "50%    -122.332630  98115.000000          33.180000               0.540000  \n",
       "75%    -122.319733  98122.000000          91.530000               1.280000  \n",
       "max    -122.220470  98272.000000       16870.980000              34.090000  "
      ]
     },
     "execution_count": 25,
     "metadata": {},
     "output_type": "execute_result"
    }
   ],
   "source": [
    "data.describe()"
   ]
  },
  {
   "cell_type": "code",
   "execution_count": 26,
   "id": "e67e25c5",
   "metadata": {
    "execution": {
     "iopub.execute_input": "2024-08-06T13:03:38.992951Z",
     "iopub.status.busy": "2024-08-06T13:03:38.992712Z",
     "iopub.status.idle": "2024-08-06T13:03:39.023393Z",
     "shell.execute_reply": "2024-08-06T13:03:39.022986Z"
    },
    "papermill": {
     "duration": 0.040056,
     "end_time": "2024-08-06T13:03:39.024642",
     "exception": false,
     "start_time": "2024-08-06T13:03:38.984586",
     "status": "completed"
    },
    "tags": []
   },
   "outputs": [
    {
     "name": "stderr",
     "output_type": "stream",
     "text": [
      "\u001b[32m2024-08-06 13:03:39.004\u001b[0m | \u001b[1mINFO    \u001b[0m | \u001b[36m__main__\u001b[0m:\u001b[36m<module>\u001b[0m:\u001b[36m1\u001b[0m - Final Dataset Shape: (6716, 45)\n"
     ]
    },
    {
     "name": "stderr",
     "output_type": "stream",
     "text": [
      "\u001b[32m2024-08-06 13:03:39.021\u001b[0m | \u001b[1mINFO    \u001b[0m | \u001b[36m__main__\u001b[0m:\u001b[36m<module>\u001b[0m:\u001b[36m2\u001b[0m - Final Dataset Metadata: None\n"
     ]
    },
    {
     "name": "stdout",
     "output_type": "stream",
     "text": [
      "<class 'pandas.core.frame.DataFrame'>\n",
      "RangeIndex: 6716 entries, 0 to 6715\n",
      "Data columns (total 45 columns):\n",
      " #   Column                           Non-Null Count  Dtype  \n",
      "---  ------                           --------------  -----  \n",
      " 0   OSEBuildingID                    6716 non-null   int64  \n",
      " 1   DataYear                         6716 non-null   int64  \n",
      " 2   BuildingType                     6716 non-null   object \n",
      " 3   PrimaryPropertyType              6716 non-null   object \n",
      " 4   PropertyName                     6716 non-null   object \n",
      " 5   TaxParcelIdentificationNumber    6714 non-null   object \n",
      " 6   CouncilDistrictCode              6716 non-null   int64  \n",
      " 7   Neighborhood                     6716 non-null   object \n",
      " 8   YearBuilt                        6716 non-null   int64  \n",
      " 9   NumberofBuildings                6708 non-null   float64\n",
      " 10  NumberofFloors                   6708 non-null   float64\n",
      " 11  PropertyGFATotal                 6716 non-null   int64  \n",
      " 12  PropertyGFAParking               6716 non-null   int64  \n",
      " 13  PropertyGFABuilding(s)           6716 non-null   int64  \n",
      " 14  ListOfAllPropertyUseTypes        6580 non-null   object \n",
      " 15  LargestPropertyUseType           6560 non-null   object \n",
      " 16  LargestPropertyUseTypeGFA        6560 non-null   float64\n",
      " 17  SecondLargestPropertyUseType     3238 non-null   object \n",
      " 18  SecondLargestPropertyUseTypeGFA  3238 non-null   float64\n",
      " 19  ThirdLargestPropertyUseType      1156 non-null   object \n",
      " 20  ThirdLargestPropertyUseTypeGFA   1156 non-null   float64\n",
      " 21  YearsENERGYSTARCertified         229 non-null    object \n",
      " 22  ENERGYSTARScore                  5093 non-null   float64\n",
      " 23  SiteEUI(kBtu/sf)                 6699 non-null   float64\n",
      " 24  SiteEUIWN(kBtu/sf)               6700 non-null   float64\n",
      " 25  SourceEUI(kBtu/sf)               6697 non-null   float64\n",
      " 26  SourceEUIWN(kBtu/sf)             6697 non-null   float64\n",
      " 27  SiteEnergyUse(kBtu)              6701 non-null   float64\n",
      " 28  SiteEnergyUseWN(kBtu)            6700 non-null   float64\n",
      " 29  SteamUse(kBtu)                   6697 non-null   float64\n",
      " 30  Electricity(kWh)                 6697 non-null   float64\n",
      " 31  Electricity(kBtu)                6697 non-null   float64\n",
      " 32  NaturalGas(therms)               6697 non-null   float64\n",
      " 33  NaturalGas(kBtu)                 6697 non-null   float64\n",
      " 34  DefaultData                      3381 non-null   object \n",
      " 35  ComplianceStatus                 6716 non-null   object \n",
      " 36  Outlier                          116 non-null    object \n",
      " 37  Latitude                         6716 non-null   float64\n",
      " 38  Longitude                        6716 non-null   float64\n",
      " 39  State                            6716 non-null   object \n",
      " 40  ZipCode                          6700 non-null   float64\n",
      " 41  City                             6716 non-null   object \n",
      " 42  Address                          6716 non-null   object \n",
      " 43  TotalGHGEmissions                6697 non-null   float64\n",
      " 44  GHGEmissionsIntensity            6697 non-null   float64\n",
      "dtypes: float64(22), int64(7), object(16)\n",
      "memory usage: 2.3+ MB\n"
     ]
    }
   ],
   "source": [
    "logger.info(f\"Final Dataset Shape: {data.shape}\")\n",
    "logger.info(f\"Final Dataset Metadata: {data.info()}\")"
   ]
  },
  {
   "cell_type": "code",
   "execution_count": 27,
   "id": "5930886e",
   "metadata": {
    "execution": {
     "iopub.execute_input": "2024-08-06T13:03:39.039585Z",
     "iopub.status.busy": "2024-08-06T13:03:39.039367Z",
     "iopub.status.idle": "2024-08-06T13:03:39.184718Z",
     "shell.execute_reply": "2024-08-06T13:03:39.184224Z"
    },
    "papermill": {
     "duration": 0.154847,
     "end_time": "2024-08-06T13:03:39.186324",
     "exception": false,
     "start_time": "2024-08-06T13:03:39.031477",
     "status": "completed"
    },
    "tags": []
   },
   "outputs": [],
   "source": [
    "# Save the concatenated dataset as one csv file\n",
    "data.to_csv(RAW_DATA, index=False)"
   ]
  }
 ],
 "metadata": {
  "kernelspec": {
   "display_name": "mlops",
   "language": "python",
   "name": "python3"
  },
  "language_info": {
   "codemirror_mode": {
    "name": "ipython",
    "version": 3
   },
   "file_extension": ".py",
   "mimetype": "text/x-python",
   "name": "python",
   "nbconvert_exporter": "python",
   "pygments_lexer": "ipython3",
   "version": "3.10.10"
  },
  "papermill": {
   "default_parameters": {},
   "duration": 4.119267,
   "end_time": "2024-08-06T13:03:39.412556",
   "environment_variables": {},
   "exception": null,
   "input_path": "../notebooks/01-data-collection.ipynb",
   "output_path": "../notebooks/outputs/01-data-collection_output.ipynb",
   "parameters": {},
   "start_time": "2024-08-06T13:03:35.293289",
   "version": "2.6.0"
  }
 },
 "nbformat": 4,
 "nbformat_minor": 5
}