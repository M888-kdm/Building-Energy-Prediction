{
 "cells": [
  {
   "cell_type": "markdown",
   "id": "694a7ed1",
   "metadata": {
    "papermill": {
     "duration": 0.004559,
     "end_time": "2024-08-05T21:53:17.970444",
     "exception": false,
     "start_time": "2024-08-05T21:53:17.965885",
     "status": "completed"
    },
    "tags": []
   },
   "source": [
    "# Import Libraries\n"
   ]
  },
  {
   "cell_type": "code",
   "execution_count": 1,
   "id": "66601bf8",
   "metadata": {
    "execution": {
     "iopub.execute_input": "2024-08-05T21:53:17.979866Z",
     "iopub.status.busy": "2024-08-05T21:53:17.979638Z",
     "iopub.status.idle": "2024-08-05T21:53:22.176831Z",
     "shell.execute_reply": "2024-08-05T21:53:22.176278Z"
    },
    "papermill": {
     "duration": 4.206322,
     "end_time": "2024-08-05T21:53:22.180674",
     "exception": false,
     "start_time": "2024-08-05T21:53:17.974352",
     "status": "completed"
    },
    "tags": []
   },
   "outputs": [],
   "source": [
    "%reload_ext autoreload\n",
    "%autoreload 2\n",
    "\n",
    "import ast\n",
    "import mlflow\n",
    "import missingno as msno\n",
    "import numpy as np\n",
    "import os\n",
    "import pandas as pd\n",
    "import ppscore as pps\n",
    "import plotly.express as px\n",
    "import pendulum\n",
    "import seaborn as sns\n",
    "import sys\n",
    "import xgboost as xgb\n",
    "\n",
    "from loguru import logger\n",
    "from matplotlib import pyplot as plt\n",
    "from pathlib import Path\n",
    "from pycaret import regression\n",
    "from scipy.stats import uniform, randint, yeojohnson\n",
    "from sklearn.pipeline import make_pipeline, Pipeline\n",
    "from sklearn.compose import ColumnTransformer, make_column_selector, TransformedTargetRegressor\n",
    "from sklearn.metrics import make_scorer, mean_squared_error, mean_absolute_error, r2_score, max_error\n",
    "from sklearn.model_selection import train_test_split\n",
    "from sklearn.impute import SimpleImputer\n",
    "from sklearn.model_selection import GridSearchCV, RandomizedSearchCV\n",
    "from sklearn.preprocessing import StandardScaler, RobustScaler, OneHotEncoder, quantile_transform\n",
    "from sklearn.ensemble import RandomForestRegressor, ExtraTreesRegressor\n",
    "from typing import Union, Dict\n",
    "from ydata_profiling import ProfileReport\n",
    "from yellowbrick.regressor import ResidualsPlot, PredictionError\n",
    "\n",
    "sys.path.append(str(Path.cwd().parent))\n",
    "from settings.params import *\n",
    "\n",
    "pd.set_option(\"display.max_columns\", None)\n",
    "pd.set_option(\"display.max_rows\", 100)"
   ]
  },
  {
   "cell_type": "markdown",
   "id": "fe589f3a",
   "metadata": {
    "papermill": {
     "duration": 0.004163,
     "end_time": "2024-08-05T21:53:22.191119",
     "exception": false,
     "start_time": "2024-08-05T21:53:22.186956",
     "status": "completed"
    },
    "tags": []
   },
   "source": [
    "# Settings\n"
   ]
  },
  {
   "cell_type": "code",
   "execution_count": 2,
   "id": "8894414a",
   "metadata": {
    "execution": {
     "iopub.execute_input": "2024-08-05T21:53:22.200902Z",
     "iopub.status.busy": "2024-08-05T21:53:22.200494Z",
     "iopub.status.idle": "2024-08-05T21:53:22.237304Z",
     "shell.execute_reply": "2024-08-05T21:53:22.236880Z"
    },
    "papermill": {
     "duration": 0.043438,
     "end_time": "2024-08-05T21:53:22.238949",
     "exception": false,
     "start_time": "2024-08-05T21:53:22.195511",
     "status": "completed"
    },
    "tags": []
   },
   "outputs": [],
   "source": [
    "log_fmt = \"<green>{time:YYYY-MM-DD HH:mm:ss.SSS!UTC}</green> | <level>{level: <8}</level> | <cyan>{name}</cyan>:<cyan>{function}</cyan>:<cyan>{line}</cyan> - {message}\"\n",
    "logger.configure(handlers=[{\"sink\": sys.stderr, \"format\": log_fmt}])\n",
    "\n",
    "TARGET_NAME = MODEL_PARAMS[\"TARGET_NAME\"]\n",
    "SEED = 42"
   ]
  },
  {
   "cell_type": "markdown",
   "id": "0eea1633",
   "metadata": {
    "papermill": {
     "duration": 0.003898,
     "end_time": "2024-08-05T21:53:22.246371",
     "exception": false,
     "start_time": "2024-08-05T21:53:22.242473",
     "status": "completed"
    },
    "tags": []
   },
   "source": [
    "# Data Collection\n"
   ]
  },
  {
   "cell_type": "code",
   "execution_count": 3,
   "id": "a0733bd9",
   "metadata": {
    "execution": {
     "iopub.execute_input": "2024-08-05T21:53:22.254781Z",
     "iopub.status.busy": "2024-08-05T21:53:22.254559Z",
     "iopub.status.idle": "2024-08-05T21:53:22.338348Z",
     "shell.execute_reply": "2024-08-05T21:53:22.337868Z"
    },
    "papermill": {
     "duration": 0.090097,
     "end_time": "2024-08-05T21:53:22.340022",
     "exception": false,
     "start_time": "2024-08-05T21:53:22.249925",
     "status": "completed"
    },
    "tags": []
   },
   "outputs": [],
   "source": [
    "data2015 = pd.read_csv('../datasets/2015-building-energy-benchmarking.csv')\n",
    "data2016 = pd.read_csv('../datasets/2016-building-energy-benchmarking.csv')"
   ]
  },
  {
   "cell_type": "code",
   "execution_count": 4,
   "id": "8f8db6d7",
   "metadata": {
    "execution": {
     "iopub.execute_input": "2024-08-05T21:53:22.350009Z",
     "iopub.status.busy": "2024-08-05T21:53:22.349756Z",
     "iopub.status.idle": "2024-08-05T21:53:22.393265Z",
     "shell.execute_reply": "2024-08-05T21:53:22.392820Z"
    },
    "papermill": {
     "duration": 0.050715,
     "end_time": "2024-08-05T21:53:22.394826",
     "exception": false,
     "start_time": "2024-08-05T21:53:22.344111",
     "status": "completed"
    },
    "tags": []
   },
   "outputs": [
    {
     "name": "stdout",
     "output_type": "stream",
     "text": [
      "<class 'pandas.core.frame.DataFrame'>\n",
      "RangeIndex: 3340 entries, 0 to 3339\n",
      "Data columns (total 47 columns):\n",
      " #   Column                                                         Non-Null Count  Dtype  \n",
      "---  ------                                                         --------------  -----  \n",
      " 0   OSEBuildingID                                                  3340 non-null   int64  \n",
      " 1   DataYear                                                       3340 non-null   int64  \n",
      " 2   BuildingType                                                   3340 non-null   object \n",
      " 3   PrimaryPropertyType                                            3340 non-null   object \n",
      " 4   PropertyName                                                   3340 non-null   object \n",
      " 5   TaxParcelIdentificationNumber                                  3338 non-null   object \n",
      " 6   Location                                                       3340 non-null   object \n",
      " 7   CouncilDistrictCode                                            3340 non-null   int64  \n",
      " 8   Neighborhood                                                   3340 non-null   object \n",
      " 9   YearBuilt                                                      3340 non-null   int64  \n",
      " 10  NumberofBuildings                                              3340 non-null   int64  \n",
      " 11  NumberofFloors                                                 3332 non-null   float64\n",
      " 12  PropertyGFATotal                                               3340 non-null   int64  \n",
      " 13  PropertyGFAParking                                             3340 non-null   int64  \n",
      " 14  PropertyGFABuilding(s)                                         3340 non-null   int64  \n",
      " 15  ListOfAllPropertyUseTypes                                      3213 non-null   object \n",
      " 16  LargestPropertyUseType                                         3204 non-null   object \n",
      " 17  LargestPropertyUseTypeGFA                                      3204 non-null   float64\n",
      " 18  SecondLargestPropertyUseType                                   1559 non-null   object \n",
      " 19  SecondLargestPropertyUseTypeGFA                                1559 non-null   float64\n",
      " 20  ThirdLargestPropertyUseType                                    560 non-null    object \n",
      " 21  ThirdLargestPropertyUseTypeGFA                                 560 non-null    float64\n",
      " 22  YearsENERGYSTARCertified                                       110 non-null    object \n",
      " 23  ENERGYSTARScore                                                2560 non-null   float64\n",
      " 24  SiteEUI(kBtu/sf)                                               3330 non-null   float64\n",
      " 25  SiteEUIWN(kBtu/sf)                                             3330 non-null   float64\n",
      " 26  SourceEUI(kBtu/sf)                                             3330 non-null   float64\n",
      " 27  SourceEUIWN(kBtu/sf)                                           3330 non-null   float64\n",
      " 28  SiteEnergyUse(kBtu)                                            3330 non-null   float64\n",
      " 29  SiteEnergyUseWN(kBtu)                                          3330 non-null   float64\n",
      " 30  SteamUse(kBtu)                                                 3330 non-null   float64\n",
      " 31  Electricity(kWh)                                               3330 non-null   float64\n",
      " 32  Electricity(kBtu)                                              3330 non-null   float64\n",
      " 33  NaturalGas(therms)                                             3330 non-null   float64\n",
      " 34  NaturalGas(kBtu)                                               3330 non-null   float64\n",
      " 35  OtherFuelUse(kBtu)                                             3330 non-null   float64\n",
      " 36  GHGEmissions(MetricTonsCO2e)                                   3330 non-null   float64\n",
      " 37  GHGEmissionsIntensity(kgCO2e/ft2)                              3330 non-null   float64\n",
      " 38  DefaultData                                                    3339 non-null   object \n",
      " 39  Comment                                                        13 non-null     object \n",
      " 40  ComplianceStatus                                               3340 non-null   object \n",
      " 41  Outlier                                                        84 non-null     object \n",
      " 42  2010 Census Tracts                                             224 non-null    float64\n",
      " 43  Seattle Police Department Micro Community Policing Plan Areas  3338 non-null   float64\n",
      " 44  City Council Districts                                         213 non-null    float64\n",
      " 45  SPD Beats                                                      3338 non-null   float64\n",
      " 46  Zip Codes                                                      3340 non-null   int64  \n",
      "dtypes: float64(23), int64(9), object(15)\n",
      "memory usage: 1.2+ MB\n"
     ]
    }
   ],
   "source": [
    "data2015.info()"
   ]
  },
  {
   "cell_type": "code",
   "execution_count": 5,
   "id": "173e0e97",
   "metadata": {
    "execution": {
     "iopub.execute_input": "2024-08-05T21:53:22.403408Z",
     "iopub.status.busy": "2024-08-05T21:53:22.403188Z",
     "iopub.status.idle": "2024-08-05T21:53:22.445359Z",
     "shell.execute_reply": "2024-08-05T21:53:22.444874Z"
    },
    "papermill": {
     "duration": 0.048031,
     "end_time": "2024-08-05T21:53:22.446898",
     "exception": false,
     "start_time": "2024-08-05T21:53:22.398867",
     "status": "completed"
    },
    "tags": []
   },
   "outputs": [
    {
     "name": "stdout",
     "output_type": "stream",
     "text": [
      "<class 'pandas.core.frame.DataFrame'>\n",
      "RangeIndex: 3376 entries, 0 to 3375\n",
      "Data columns (total 46 columns):\n",
      " #   Column                           Non-Null Count  Dtype  \n",
      "---  ------                           --------------  -----  \n",
      " 0   OSEBuildingID                    3376 non-null   int64  \n",
      " 1   DataYear                         3376 non-null   int64  \n",
      " 2   BuildingType                     3376 non-null   object \n",
      " 3   PrimaryPropertyType              3376 non-null   object \n",
      " 4   PropertyName                     3376 non-null   object \n",
      " 5   Address                          3376 non-null   object \n",
      " 6   City                             3376 non-null   object \n",
      " 7   State                            3376 non-null   object \n",
      " 8   ZipCode                          3360 non-null   float64\n",
      " 9   TaxParcelIdentificationNumber    3376 non-null   object \n",
      " 10  CouncilDistrictCode              3376 non-null   int64  \n",
      " 11  Neighborhood                     3376 non-null   object \n",
      " 12  Latitude                         3376 non-null   float64\n",
      " 13  Longitude                        3376 non-null   float64\n",
      " 14  YearBuilt                        3376 non-null   int64  \n",
      " 15  NumberofBuildings                3368 non-null   float64\n",
      " 16  NumberofFloors                   3376 non-null   int64  \n",
      " 17  PropertyGFATotal                 3376 non-null   int64  \n",
      " 18  PropertyGFAParking               3376 non-null   int64  \n",
      " 19  PropertyGFABuilding(s)           3376 non-null   int64  \n",
      " 20  ListOfAllPropertyUseTypes        3367 non-null   object \n",
      " 21  LargestPropertyUseType           3356 non-null   object \n",
      " 22  LargestPropertyUseTypeGFA        3356 non-null   float64\n",
      " 23  SecondLargestPropertyUseType     1679 non-null   object \n",
      " 24  SecondLargestPropertyUseTypeGFA  1679 non-null   float64\n",
      " 25  ThirdLargestPropertyUseType      596 non-null    object \n",
      " 26  ThirdLargestPropertyUseTypeGFA   596 non-null    float64\n",
      " 27  YearsENERGYSTARCertified         119 non-null    object \n",
      " 28  ENERGYSTARScore                  2533 non-null   float64\n",
      " 29  SiteEUI(kBtu/sf)                 3369 non-null   float64\n",
      " 30  SiteEUIWN(kBtu/sf)               3370 non-null   float64\n",
      " 31  SourceEUI(kBtu/sf)               3367 non-null   float64\n",
      " 32  SourceEUIWN(kBtu/sf)             3367 non-null   float64\n",
      " 33  SiteEnergyUse(kBtu)              3371 non-null   float64\n",
      " 34  SiteEnergyUseWN(kBtu)            3370 non-null   float64\n",
      " 35  SteamUse(kBtu)                   3367 non-null   float64\n",
      " 36  Electricity(kWh)                 3367 non-null   float64\n",
      " 37  Electricity(kBtu)                3367 non-null   float64\n",
      " 38  NaturalGas(therms)               3367 non-null   float64\n",
      " 39  NaturalGas(kBtu)                 3367 non-null   float64\n",
      " 40  DefaultData                      3376 non-null   bool   \n",
      " 41  Comments                         0 non-null      float64\n",
      " 42  ComplianceStatus                 3376 non-null   object \n",
      " 43  Outlier                          32 non-null     object \n",
      " 44  TotalGHGEmissions                3367 non-null   float64\n",
      " 45  GHGEmissionsIntensity            3367 non-null   float64\n",
      "dtypes: bool(1), float64(22), int64(8), object(15)\n",
      "memory usage: 1.2+ MB\n"
     ]
    }
   ],
   "source": [
    "data2016.info()"
   ]
  },
  {
   "cell_type": "markdown",
   "id": "9adc4caa",
   "metadata": {
    "papermill": {
     "duration": 0.003953,
     "end_time": "2024-08-05T21:53:22.455147",
     "exception": false,
     "start_time": "2024-08-05T21:53:22.451194",
     "status": "completed"
    },
    "tags": []
   },
   "source": [
    "## Harmonize datasets\n"
   ]
  },
  {
   "cell_type": "markdown",
   "id": "e8672feb",
   "metadata": {
    "papermill": {
     "duration": 0.003961,
     "end_time": "2024-08-05T21:53:22.463245",
     "exception": false,
     "start_time": "2024-08-05T21:53:22.459284",
     "status": "completed"
    },
    "tags": []
   },
   "source": [
    "The 2015 data is not aligned with 2016. Need to populate missing columns in one file vs the other. Let's re-arrange 2015\n"
   ]
  },
  {
   "cell_type": "code",
   "execution_count": 6,
   "id": "5f9abee5",
   "metadata": {
    "execution": {
     "iopub.execute_input": "2024-08-05T21:53:22.471519Z",
     "iopub.status.busy": "2024-08-05T21:53:22.471299Z",
     "iopub.status.idle": "2024-08-05T21:53:22.505349Z",
     "shell.execute_reply": "2024-08-05T21:53:22.504906Z"
    },
    "papermill": {
     "duration": 0.039688,
     "end_time": "2024-08-05T21:53:22.506651",
     "exception": false,
     "start_time": "2024-08-05T21:53:22.466963",
     "status": "completed"
    },
    "tags": []
   },
   "outputs": [
    {
     "data": {
      "text/plain": [
       "{'2010 Census Tracts',\n",
       " 'City Council Districts',\n",
       " 'Comment',\n",
       " 'GHGEmissions(MetricTonsCO2e)',\n",
       " 'GHGEmissionsIntensity(kgCO2e/ft2)',\n",
       " 'Location',\n",
       " 'OtherFuelUse(kBtu)',\n",
       " 'SPD Beats',\n",
       " 'Seattle Police Department Micro Community Policing Plan Areas',\n",
       " 'Zip Codes'}"
      ]
     },
     "execution_count": 6,
     "metadata": {},
     "output_type": "execute_result"
    }
   ],
   "source": [
    "set(data2015) - set(data2016)"
   ]
  },
  {
   "cell_type": "code",
   "execution_count": 7,
   "id": "090214f9",
   "metadata": {
    "execution": {
     "iopub.execute_input": "2024-08-05T21:53:22.515501Z",
     "iopub.status.busy": "2024-08-05T21:53:22.515292Z",
     "iopub.status.idle": "2024-08-05T21:53:22.547991Z",
     "shell.execute_reply": "2024-08-05T21:53:22.547499Z"
    },
    "papermill": {
     "duration": 0.039394,
     "end_time": "2024-08-05T21:53:22.550006",
     "exception": false,
     "start_time": "2024-08-05T21:53:22.510612",
     "status": "completed"
    },
    "tags": []
   },
   "outputs": [
    {
     "data": {
      "text/plain": [
       "{'Address',\n",
       " 'City',\n",
       " 'Comments',\n",
       " 'GHGEmissionsIntensity',\n",
       " 'Latitude',\n",
       " 'Longitude',\n",
       " 'State',\n",
       " 'TotalGHGEmissions',\n",
       " 'ZipCode'}"
      ]
     },
     "execution_count": 7,
     "metadata": {},
     "output_type": "execute_result"
    }
   ],
   "source": [
    "# 2016 missing in 2015\n",
    "set(data2016) - set(data2015)"
   ]
  },
  {
   "cell_type": "code",
   "execution_count": 8,
   "id": "76dfbef1",
   "metadata": {
    "execution": {
     "iopub.execute_input": "2024-08-05T21:53:22.560034Z",
     "iopub.status.busy": "2024-08-05T21:53:22.559781Z",
     "iopub.status.idle": "2024-08-05T21:53:22.770413Z",
     "shell.execute_reply": "2024-08-05T21:53:22.769581Z"
    },
    "papermill": {
     "duration": 0.218571,
     "end_time": "2024-08-05T21:53:22.773242",
     "exception": false,
     "start_time": "2024-08-05T21:53:22.554671",
     "status": "completed"
    },
    "tags": []
   },
   "outputs": [
    {
     "data": {
      "text/plain": [
       "{'latitude': '47.61310583',\n",
       " 'longitude': '-122.33335756',\n",
       " 'human_address': '{\"address\": \"724 PINE ST\", \"city\": \"SEATTLE\", \"state\": \"WA\", \"zip\": \"98101\"}'}"
      ]
     },
     "execution_count": 8,
     "metadata": {},
     "output_type": "execute_result"
    }
   ],
   "source": [
    "ast.literal_eval(data2015['Location'][1])"
   ]
  },
  {
   "cell_type": "code",
   "execution_count": 9,
   "id": "ce5db269",
   "metadata": {
    "execution": {
     "iopub.execute_input": "2024-08-05T21:53:22.790015Z",
     "iopub.status.busy": "2024-08-05T21:53:22.789642Z",
     "iopub.status.idle": "2024-08-05T21:53:23.391931Z",
     "shell.execute_reply": "2024-08-05T21:53:23.391446Z"
    },
    "papermill": {
     "duration": 0.61306,
     "end_time": "2024-08-05T21:53:23.393516",
     "exception": false,
     "start_time": "2024-08-05T21:53:22.780456",
     "status": "completed"
    },
    "tags": []
   },
   "outputs": [],
   "source": [
    "data2015['Latitude']=data2015['Location'].apply(lambda l : ast.literal_eval(l)['latitude'])\n",
    "data2015['Longitude']=data2015['Location'].apply(lambda l : ast.literal_eval(l)['longitude'])\n",
    "data2015['State']=data2015['Location'].apply(lambda l :  ast.literal_eval(ast.literal_eval(l)['human_address'])['state'])\n",
    "data2015['ZipCode']=data2015['Location'].apply(lambda l :  ast.literal_eval(ast.literal_eval(l)['human_address'])['zip'])\n",
    "data2015['City']=data2015['Location'].apply(lambda l :  ast.literal_eval(ast.literal_eval(l)['human_address'])['city'])\n",
    "data2015['Address']=data2015['Location'].apply(lambda l :  ast.literal_eval(ast.literal_eval(l)['human_address'])['address'])"
   ]
  },
  {
   "cell_type": "code",
   "execution_count": 10,
   "id": "d1c20a57",
   "metadata": {
    "execution": {
     "iopub.execute_input": "2024-08-05T21:53:23.402858Z",
     "iopub.status.busy": "2024-08-05T21:53:23.402474Z",
     "iopub.status.idle": "2024-08-05T21:53:23.436338Z",
     "shell.execute_reply": "2024-08-05T21:53:23.435903Z"
    },
    "papermill": {
     "duration": 0.040177,
     "end_time": "2024-08-05T21:53:23.437924",
     "exception": false,
     "start_time": "2024-08-05T21:53:23.397747",
     "status": "completed"
    },
    "tags": []
   },
   "outputs": [],
   "source": [
    "data2015['TotalGHGEmissions']=data2015['GHGEmissions(MetricTonsCO2e)']\n",
    "data2015['GHGEmissionsIntensity']=data2015['GHGEmissionsIntensity(kgCO2e/ft2)']"
   ]
  },
  {
   "cell_type": "code",
   "execution_count": 11,
   "id": "33081ad3",
   "metadata": {
    "execution": {
     "iopub.execute_input": "2024-08-05T21:53:23.451191Z",
     "iopub.status.busy": "2024-08-05T21:53:23.450964Z",
     "iopub.status.idle": "2024-08-05T21:53:23.483838Z",
     "shell.execute_reply": "2024-08-05T21:53:23.483418Z"
    },
    "papermill": {
     "duration": 0.040117,
     "end_time": "2024-08-05T21:53:23.485169",
     "exception": false,
     "start_time": "2024-08-05T21:53:23.445052",
     "status": "completed"
    },
    "tags": []
   },
   "outputs": [
    {
     "data": {
      "text/plain": [
       "{'2010 Census Tracts',\n",
       " 'City Council Districts',\n",
       " 'Comment',\n",
       " 'GHGEmissions(MetricTonsCO2e)',\n",
       " 'GHGEmissionsIntensity(kgCO2e/ft2)',\n",
       " 'Location',\n",
       " 'OtherFuelUse(kBtu)',\n",
       " 'SPD Beats',\n",
       " 'Seattle Police Department Micro Community Policing Plan Areas',\n",
       " 'Zip Codes'}"
      ]
     },
     "execution_count": 11,
     "metadata": {},
     "output_type": "execute_result"
    }
   ],
   "source": [
    "# 2015 and 2016 now aligned and ready to be combined\n",
    "set(data2015) - set(data2016)"
   ]
  },
  {
   "cell_type": "code",
   "execution_count": 12,
   "id": "f4ea3476",
   "metadata": {
    "execution": {
     "iopub.execute_input": "2024-08-05T21:53:23.494872Z",
     "iopub.status.busy": "2024-08-05T21:53:23.494564Z",
     "iopub.status.idle": "2024-08-05T21:53:23.527867Z",
     "shell.execute_reply": "2024-08-05T21:53:23.527407Z"
    },
    "papermill": {
     "duration": 0.039976,
     "end_time": "2024-08-05T21:53:23.529394",
     "exception": false,
     "start_time": "2024-08-05T21:53:23.489418",
     "status": "completed"
    },
    "tags": []
   },
   "outputs": [
    {
     "data": {
      "text/plain": [
       "{'Comments'}"
      ]
     },
     "execution_count": 12,
     "metadata": {},
     "output_type": "execute_result"
    }
   ],
   "source": [
    "set(data2016) - set(data2015)"
   ]
  },
  {
   "cell_type": "markdown",
   "id": "3c453bd8",
   "metadata": {
    "papermill": {
     "duration": 0.00408,
     "end_time": "2024-08-05T21:53:23.537905",
     "exception": false,
     "start_time": "2024-08-05T21:53:23.533825",
     "status": "completed"
    },
    "tags": []
   },
   "source": [
    "Some columns are only available in the 2015 dataset. Some of them do not provide useful information and the others are largely incomplete. We are going to drop them in order to have a perfectly harmonized dataset.\n"
   ]
  },
  {
   "cell_type": "code",
   "execution_count": 13,
   "id": "99bbc22c",
   "metadata": {
    "execution": {
     "iopub.execute_input": "2024-08-05T21:53:23.547401Z",
     "iopub.status.busy": "2024-08-05T21:53:23.547173Z",
     "iopub.status.idle": "2024-08-05T21:53:23.582140Z",
     "shell.execute_reply": "2024-08-05T21:53:23.581691Z"
    },
    "papermill": {
     "duration": 0.041575,
     "end_time": "2024-08-05T21:53:23.583652",
     "exception": false,
     "start_time": "2024-08-05T21:53:23.542077",
     "status": "completed"
    },
    "tags": []
   },
   "outputs": [],
   "source": [
    "data2015.drop(['Location','GHGEmissions(MetricTonsCO2e)','GHGEmissionsIntensity(kgCO2e/ft2)', 'SPD Beats','Seattle Police Department Micro Community Policing Plan Areas',\n",
    "               'Zip Codes','OtherFuelUse(kBtu)','2010 Census Tracts','City Council Districts', 'Comment'], axis='columns', inplace=True)"
   ]
  },
  {
   "cell_type": "code",
   "execution_count": 14,
   "id": "dbb516be",
   "metadata": {
    "execution": {
     "iopub.execute_input": "2024-08-05T21:53:23.594934Z",
     "iopub.status.busy": "2024-08-05T21:53:23.594719Z",
     "iopub.status.idle": "2024-08-05T21:53:23.628978Z",
     "shell.execute_reply": "2024-08-05T21:53:23.628528Z"
    },
    "papermill": {
     "duration": 0.04205,
     "end_time": "2024-08-05T21:53:23.630467",
     "exception": false,
     "start_time": "2024-08-05T21:53:23.588417",
     "status": "completed"
    },
    "tags": []
   },
   "outputs": [],
   "source": [
    "data2016.drop(['Comments'], axis='columns', inplace=True)"
   ]
  },
  {
   "cell_type": "markdown",
   "id": "78b083e4",
   "metadata": {
    "papermill": {
     "duration": 0.004072,
     "end_time": "2024-08-05T21:53:23.638891",
     "exception": false,
     "start_time": "2024-08-05T21:53:23.634819",
     "status": "completed"
    },
    "tags": []
   },
   "source": [
    "### Align data types between the 2 files\n"
   ]
  },
  {
   "cell_type": "code",
   "execution_count": 15,
   "id": "14d28cae",
   "metadata": {
    "execution": {
     "iopub.execute_input": "2024-08-05T21:53:23.648152Z",
     "iopub.status.busy": "2024-08-05T21:53:23.647802Z",
     "iopub.status.idle": "2024-08-05T21:53:23.694726Z",
     "shell.execute_reply": "2024-08-05T21:53:23.694349Z"
    },
    "papermill": {
     "duration": 0.052904,
     "end_time": "2024-08-05T21:53:23.695976",
     "exception": false,
     "start_time": "2024-08-05T21:53:23.643072",
     "status": "completed"
    },
    "tags": []
   },
   "outputs": [
    {
     "data": {
      "text/html": [
       "<div>\n",
       "<style scoped>\n",
       "    .dataframe tbody tr th:only-of-type {\n",
       "        vertical-align: middle;\n",
       "    }\n",
       "\n",
       "    .dataframe tbody tr th {\n",
       "        vertical-align: top;\n",
       "    }\n",
       "\n",
       "    .dataframe thead th {\n",
       "        text-align: right;\n",
       "    }\n",
       "</style>\n",
       "<table border=\"1\" class=\"dataframe\">\n",
       "  <thead>\n",
       "    <tr style=\"text-align: right;\">\n",
       "      <th></th>\n",
       "      <th>OSEBuildingID</th>\n",
       "      <th>DataYear</th>\n",
       "      <th>BuildingType</th>\n",
       "      <th>PrimaryPropertyType</th>\n",
       "      <th>PropertyName</th>\n",
       "      <th>TaxParcelIdentificationNumber</th>\n",
       "      <th>CouncilDistrictCode</th>\n",
       "      <th>Neighborhood</th>\n",
       "      <th>YearBuilt</th>\n",
       "      <th>NumberofBuildings</th>\n",
       "      <th>NumberofFloors</th>\n",
       "      <th>PropertyGFATotal</th>\n",
       "      <th>PropertyGFAParking</th>\n",
       "      <th>PropertyGFABuilding(s)</th>\n",
       "      <th>ListOfAllPropertyUseTypes</th>\n",
       "      <th>LargestPropertyUseType</th>\n",
       "      <th>LargestPropertyUseTypeGFA</th>\n",
       "      <th>SecondLargestPropertyUseType</th>\n",
       "      <th>SecondLargestPropertyUseTypeGFA</th>\n",
       "      <th>ThirdLargestPropertyUseType</th>\n",
       "      <th>ThirdLargestPropertyUseTypeGFA</th>\n",
       "      <th>YearsENERGYSTARCertified</th>\n",
       "      <th>ENERGYSTARScore</th>\n",
       "      <th>SiteEUI(kBtu/sf)</th>\n",
       "      <th>SiteEUIWN(kBtu/sf)</th>\n",
       "      <th>SourceEUI(kBtu/sf)</th>\n",
       "      <th>SourceEUIWN(kBtu/sf)</th>\n",
       "      <th>SiteEnergyUse(kBtu)</th>\n",
       "      <th>SiteEnergyUseWN(kBtu)</th>\n",
       "      <th>SteamUse(kBtu)</th>\n",
       "      <th>Electricity(kWh)</th>\n",
       "      <th>Electricity(kBtu)</th>\n",
       "      <th>NaturalGas(therms)</th>\n",
       "      <th>NaturalGas(kBtu)</th>\n",
       "      <th>DefaultData</th>\n",
       "      <th>ComplianceStatus</th>\n",
       "      <th>Outlier</th>\n",
       "      <th>Latitude</th>\n",
       "      <th>Longitude</th>\n",
       "      <th>State</th>\n",
       "      <th>ZipCode</th>\n",
       "      <th>City</th>\n",
       "      <th>Address</th>\n",
       "      <th>TotalGHGEmissions</th>\n",
       "      <th>GHGEmissionsIntensity</th>\n",
       "    </tr>\n",
       "  </thead>\n",
       "  <tbody>\n",
       "    <tr>\n",
       "      <th>0</th>\n",
       "      <td>int64</td>\n",
       "      <td>int64</td>\n",
       "      <td>object</td>\n",
       "      <td>object</td>\n",
       "      <td>object</td>\n",
       "      <td>object</td>\n",
       "      <td>int64</td>\n",
       "      <td>object</td>\n",
       "      <td>int64</td>\n",
       "      <td>int64</td>\n",
       "      <td>float64</td>\n",
       "      <td>int64</td>\n",
       "      <td>int64</td>\n",
       "      <td>int64</td>\n",
       "      <td>object</td>\n",
       "      <td>object</td>\n",
       "      <td>float64</td>\n",
       "      <td>object</td>\n",
       "      <td>float64</td>\n",
       "      <td>object</td>\n",
       "      <td>float64</td>\n",
       "      <td>object</td>\n",
       "      <td>float64</td>\n",
       "      <td>float64</td>\n",
       "      <td>float64</td>\n",
       "      <td>float64</td>\n",
       "      <td>float64</td>\n",
       "      <td>float64</td>\n",
       "      <td>float64</td>\n",
       "      <td>float64</td>\n",
       "      <td>float64</td>\n",
       "      <td>float64</td>\n",
       "      <td>float64</td>\n",
       "      <td>float64</td>\n",
       "      <td>object</td>\n",
       "      <td>object</td>\n",
       "      <td>object</td>\n",
       "      <td>object</td>\n",
       "      <td>object</td>\n",
       "      <td>object</td>\n",
       "      <td>object</td>\n",
       "      <td>object</td>\n",
       "      <td>object</td>\n",
       "      <td>float64</td>\n",
       "      <td>float64</td>\n",
       "    </tr>\n",
       "    <tr>\n",
       "      <th>1</th>\n",
       "      <td>int64</td>\n",
       "      <td>int64</td>\n",
       "      <td>object</td>\n",
       "      <td>object</td>\n",
       "      <td>object</td>\n",
       "      <td>object</td>\n",
       "      <td>int64</td>\n",
       "      <td>object</td>\n",
       "      <td>int64</td>\n",
       "      <td>float64</td>\n",
       "      <td>int64</td>\n",
       "      <td>int64</td>\n",
       "      <td>int64</td>\n",
       "      <td>int64</td>\n",
       "      <td>object</td>\n",
       "      <td>object</td>\n",
       "      <td>float64</td>\n",
       "      <td>object</td>\n",
       "      <td>float64</td>\n",
       "      <td>object</td>\n",
       "      <td>float64</td>\n",
       "      <td>object</td>\n",
       "      <td>float64</td>\n",
       "      <td>float64</td>\n",
       "      <td>float64</td>\n",
       "      <td>float64</td>\n",
       "      <td>float64</td>\n",
       "      <td>float64</td>\n",
       "      <td>float64</td>\n",
       "      <td>float64</td>\n",
       "      <td>float64</td>\n",
       "      <td>float64</td>\n",
       "      <td>float64</td>\n",
       "      <td>float64</td>\n",
       "      <td>bool</td>\n",
       "      <td>object</td>\n",
       "      <td>object</td>\n",
       "      <td>float64</td>\n",
       "      <td>float64</td>\n",
       "      <td>object</td>\n",
       "      <td>float64</td>\n",
       "      <td>object</td>\n",
       "      <td>object</td>\n",
       "      <td>float64</td>\n",
       "      <td>float64</td>\n",
       "    </tr>\n",
       "  </tbody>\n",
       "</table>\n",
       "</div>"
      ],
      "text/plain": [
       "  OSEBuildingID DataYear BuildingType PrimaryPropertyType PropertyName  \\\n",
       "0         int64    int64       object              object       object   \n",
       "1         int64    int64       object              object       object   \n",
       "\n",
       "  TaxParcelIdentificationNumber CouncilDistrictCode Neighborhood YearBuilt  \\\n",
       "0                        object               int64       object     int64   \n",
       "1                        object               int64       object     int64   \n",
       "\n",
       "  NumberofBuildings NumberofFloors PropertyGFATotal PropertyGFAParking  \\\n",
       "0             int64        float64            int64              int64   \n",
       "1           float64          int64            int64              int64   \n",
       "\n",
       "  PropertyGFABuilding(s) ListOfAllPropertyUseTypes LargestPropertyUseType  \\\n",
       "0                  int64                    object                 object   \n",
       "1                  int64                    object                 object   \n",
       "\n",
       "  LargestPropertyUseTypeGFA SecondLargestPropertyUseType  \\\n",
       "0                   float64                       object   \n",
       "1                   float64                       object   \n",
       "\n",
       "  SecondLargestPropertyUseTypeGFA ThirdLargestPropertyUseType  \\\n",
       "0                         float64                      object   \n",
       "1                         float64                      object   \n",
       "\n",
       "  ThirdLargestPropertyUseTypeGFA YearsENERGYSTARCertified ENERGYSTARScore  \\\n",
       "0                        float64                   object         float64   \n",
       "1                        float64                   object         float64   \n",
       "\n",
       "  SiteEUI(kBtu/sf) SiteEUIWN(kBtu/sf) SourceEUI(kBtu/sf) SourceEUIWN(kBtu/sf)  \\\n",
       "0          float64            float64            float64              float64   \n",
       "1          float64            float64            float64              float64   \n",
       "\n",
       "  SiteEnergyUse(kBtu) SiteEnergyUseWN(kBtu) SteamUse(kBtu) Electricity(kWh)  \\\n",
       "0             float64               float64        float64          float64   \n",
       "1             float64               float64        float64          float64   \n",
       "\n",
       "  Electricity(kBtu) NaturalGas(therms) NaturalGas(kBtu) DefaultData  \\\n",
       "0           float64            float64          float64      object   \n",
       "1           float64            float64          float64        bool   \n",
       "\n",
       "  ComplianceStatus Outlier Latitude Longitude   State  ZipCode    City  \\\n",
       "0           object  object   object    object  object   object  object   \n",
       "1           object  object  float64   float64  object  float64  object   \n",
       "\n",
       "  Address TotalGHGEmissions GHGEmissionsIntensity  \n",
       "0  object           float64               float64  \n",
       "1  object           float64               float64  "
      ]
     },
     "execution_count": 15,
     "metadata": {},
     "output_type": "execute_result"
    }
   ],
   "source": [
    "pd.DataFrame([data2015.dtypes,data2016.dtypes])"
   ]
  },
  {
   "cell_type": "code",
   "execution_count": 16,
   "id": "ac6771c7",
   "metadata": {
    "execution": {
     "iopub.execute_input": "2024-08-05T21:53:23.707442Z",
     "iopub.status.busy": "2024-08-05T21:53:23.707215Z",
     "iopub.status.idle": "2024-08-05T21:53:23.743883Z",
     "shell.execute_reply": "2024-08-05T21:53:23.743461Z"
    },
    "papermill": {
     "duration": 0.044193,
     "end_time": "2024-08-05T21:53:23.745306",
     "exception": false,
     "start_time": "2024-08-05T21:53:23.701113",
     "status": "completed"
    },
    "tags": []
   },
   "outputs": [],
   "source": [
    "data2015[['Latitude','Longitude','ZipCode']]=data2015[['Latitude','Longitude','ZipCode']].astype('float64')"
   ]
  },
  {
   "cell_type": "code",
   "execution_count": 17,
   "id": "67a11fdf",
   "metadata": {
    "execution": {
     "iopub.execute_input": "2024-08-05T21:53:23.755049Z",
     "iopub.status.busy": "2024-08-05T21:53:23.754842Z",
     "iopub.status.idle": "2024-08-05T21:53:23.789047Z",
     "shell.execute_reply": "2024-08-05T21:53:23.788609Z"
    },
    "papermill": {
     "duration": 0.040664,
     "end_time": "2024-08-05T21:53:23.790506",
     "exception": false,
     "start_time": "2024-08-05T21:53:23.749842",
     "status": "completed"
    },
    "tags": []
   },
   "outputs": [],
   "source": [
    "data2015['DefaultData'] = data2015['DefaultData'].map({'Yes' : True, 'No' : False}).head()"
   ]
  },
  {
   "cell_type": "markdown",
   "id": "68491b08",
   "metadata": {
    "papermill": {
     "duration": 0.004476,
     "end_time": "2024-08-05T21:53:23.800391",
     "exception": false,
     "start_time": "2024-08-05T21:53:23.795915",
     "status": "completed"
    },
    "tags": []
   },
   "source": [
    "### Combine the 2 datasets\n"
   ]
  },
  {
   "cell_type": "code",
   "execution_count": 18,
   "id": "ab4d789c",
   "metadata": {
    "execution": {
     "iopub.execute_input": "2024-08-05T21:53:23.811642Z",
     "iopub.status.busy": "2024-08-05T21:53:23.811364Z",
     "iopub.status.idle": "2024-08-05T21:53:23.846610Z",
     "shell.execute_reply": "2024-08-05T21:53:23.846174Z"
    },
    "papermill": {
     "duration": 0.042898,
     "end_time": "2024-08-05T21:53:23.848099",
     "exception": false,
     "start_time": "2024-08-05T21:53:23.805201",
     "status": "completed"
    },
    "tags": []
   },
   "outputs": [],
   "source": [
    "data = pd.concat([data2015,data2016], axis=0, ignore_index=True)"
   ]
  },
  {
   "cell_type": "code",
   "execution_count": 19,
   "id": "b3e46faf",
   "metadata": {
    "execution": {
     "iopub.execute_input": "2024-08-05T21:53:23.858009Z",
     "iopub.status.busy": "2024-08-05T21:53:23.857817Z",
     "iopub.status.idle": "2024-08-05T21:53:23.906662Z",
     "shell.execute_reply": "2024-08-05T21:53:23.906256Z"
    },
    "papermill": {
     "duration": 0.055241,
     "end_time": "2024-08-05T21:53:23.908022",
     "exception": false,
     "start_time": "2024-08-05T21:53:23.852781",
     "status": "completed"
    },
    "tags": []
   },
   "outputs": [
    {
     "name": "stdout",
     "output_type": "stream",
     "text": [
      "<class 'pandas.core.frame.DataFrame'>\n",
      "RangeIndex: 6716 entries, 0 to 6715\n",
      "Data columns (total 45 columns):\n",
      " #   Column                           Non-Null Count  Dtype  \n",
      "---  ------                           --------------  -----  \n",
      " 0   OSEBuildingID                    6716 non-null   int64  \n",
      " 1   DataYear                         6716 non-null   int64  \n",
      " 2   BuildingType                     6716 non-null   object \n",
      " 3   PrimaryPropertyType              6716 non-null   object \n",
      " 4   PropertyName                     6716 non-null   object \n",
      " 5   TaxParcelIdentificationNumber    6714 non-null   object \n",
      " 6   CouncilDistrictCode              6716 non-null   int64  \n",
      " 7   Neighborhood                     6716 non-null   object \n",
      " 8   YearBuilt                        6716 non-null   int64  \n",
      " 9   NumberofBuildings                6708 non-null   float64\n",
      " 10  NumberofFloors                   6708 non-null   float64\n",
      " 11  PropertyGFATotal                 6716 non-null   int64  \n",
      " 12  PropertyGFAParking               6716 non-null   int64  \n",
      " 13  PropertyGFABuilding(s)           6716 non-null   int64  \n",
      " 14  ListOfAllPropertyUseTypes        6580 non-null   object \n",
      " 15  LargestPropertyUseType           6560 non-null   object \n",
      " 16  LargestPropertyUseTypeGFA        6560 non-null   float64\n",
      " 17  SecondLargestPropertyUseType     3238 non-null   object \n",
      " 18  SecondLargestPropertyUseTypeGFA  3238 non-null   float64\n",
      " 19  ThirdLargestPropertyUseType      1156 non-null   object \n",
      " 20  ThirdLargestPropertyUseTypeGFA   1156 non-null   float64\n",
      " 21  YearsENERGYSTARCertified         229 non-null    object \n",
      " 22  ENERGYSTARScore                  5093 non-null   float64\n",
      " 23  SiteEUI(kBtu/sf)                 6699 non-null   float64\n",
      " 24  SiteEUIWN(kBtu/sf)               6700 non-null   float64\n",
      " 25  SourceEUI(kBtu/sf)               6697 non-null   float64\n",
      " 26  SourceEUIWN(kBtu/sf)             6697 non-null   float64\n",
      " 27  SiteEnergyUse(kBtu)              6701 non-null   float64\n",
      " 28  SiteEnergyUseWN(kBtu)            6700 non-null   float64\n",
      " 29  SteamUse(kBtu)                   6697 non-null   float64\n",
      " 30  Electricity(kWh)                 6697 non-null   float64\n",
      " 31  Electricity(kBtu)                6697 non-null   float64\n",
      " 32  NaturalGas(therms)               6697 non-null   float64\n",
      " 33  NaturalGas(kBtu)                 6697 non-null   float64\n",
      " 34  DefaultData                      3381 non-null   object \n",
      " 35  ComplianceStatus                 6716 non-null   object \n",
      " 36  Outlier                          116 non-null    object \n",
      " 37  Latitude                         6716 non-null   float64\n",
      " 38  Longitude                        6716 non-null   float64\n",
      " 39  State                            6716 non-null   object \n",
      " 40  ZipCode                          6700 non-null   float64\n",
      " 41  City                             6716 non-null   object \n",
      " 42  Address                          6716 non-null   object \n",
      " 43  TotalGHGEmissions                6697 non-null   float64\n",
      " 44  GHGEmissionsIntensity            6697 non-null   float64\n",
      "dtypes: float64(22), int64(7), object(16)\n",
      "memory usage: 2.3+ MB\n"
     ]
    }
   ],
   "source": [
    "# Columns \n",
    "data.info()"
   ]
  },
  {
   "cell_type": "markdown",
   "id": "fd37ecd5",
   "metadata": {
    "papermill": {
     "duration": 0.00457,
     "end_time": "2024-08-05T21:53:23.917466",
     "exception": false,
     "start_time": "2024-08-05T21:53:23.912896",
     "status": "completed"
    },
    "tags": []
   },
   "source": [
    "### Harmonize values\n"
   ]
  },
  {
   "cell_type": "code",
   "execution_count": 20,
   "id": "ff0c7d8c",
   "metadata": {
    "execution": {
     "iopub.execute_input": "2024-08-05T21:53:23.928443Z",
     "iopub.status.busy": "2024-08-05T21:53:23.928228Z",
     "iopub.status.idle": "2024-08-05T21:53:23.982692Z",
     "shell.execute_reply": "2024-08-05T21:53:23.982243Z"
    },
    "papermill": {
     "duration": 0.061514,
     "end_time": "2024-08-05T21:53:23.984034",
     "exception": false,
     "start_time": "2024-08-05T21:53:23.922520",
     "status": "completed"
    },
    "tags": []
   },
   "outputs": [
    {
     "name": "stdout",
     "output_type": "stream",
     "text": [
      "OSEBuildingID -------> 3432\n",
      "DataYear -------> [2015 2016]\n",
      "BuildingType -------> ['NonResidential' 'Nonresidential COS' 'Multifamily MR (5-9)'\n",
      " 'SPS-District K-12' 'Multifamily LR (1-4)' 'Campus'\n",
      " 'Multifamily HR (10+)' 'Nonresidential WA']\n",
      "PrimaryPropertyType -------> 32\n",
      "PropertyName -------> 6527\n",
      "TaxParcelIdentificationNumber -------> 3729\n",
      "CouncilDistrictCode -------> [7 3 2 4 5 6 1]\n",
      "Neighborhood -------> ['DOWNTOWN' 'SOUTHEAST' 'NORTHEAST' 'EAST' 'CENTRAL' 'NORTH'\n",
      " 'MAGNOLIA / QUEEN ANNE' 'LAKE UNION' 'GREATER DUWAMISH' 'BALLARD'\n",
      " 'NORTHWEST' 'SOUTHWEST' 'DELRIDGE' 'Central' 'Ballard' 'North' 'Delridge'\n",
      " 'Northwest' 'DELRIDGE NEIGHBORHOODS']\n",
      "YearBuilt -------> 113\n",
      "NumberofBuildings -------> [  1.   7.  11.  16.   4.   3.  39.   2.  10.   6.   0.  27.  14.   9.\n",
      "   5.  nan   8.  23. 111.]\n",
      "NumberofFloors -------> 50\n",
      "PropertyGFATotal -------> 3297\n",
      "PropertyGFAParking -------> 960\n",
      "PropertyGFABuilding(s) -------> 3726\n",
      "ListOfAllPropertyUseTypes -------> 488\n",
      "LargestPropertyUseType -------> 57\n",
      "LargestPropertyUseTypeGFA -------> 3332\n",
      "SecondLargestPropertyUseType -------> 50\n",
      "SecondLargestPropertyUseTypeGFA -------> 1434\n",
      "ThirdLargestPropertyUseType -------> 45\n",
      "ThirdLargestPropertyUseTypeGFA -------> 531\n",
      "YearsENERGYSTARCertified -------> 116\n",
      "ENERGYSTARScore -------> 100\n",
      "SiteEUI(kBtu/sf) -------> 2020\n",
      "SiteEUIWN(kBtu/sf) -------> 2065\n",
      "SourceEUI(kBtu/sf) -------> 3137\n",
      "SourceEUIWN(kBtu/sf) -------> 3191\n",
      "SiteEnergyUse(kBtu) -------> 6679\n",
      "SiteEnergyUseWN(kBtu) -------> 6659\n",
      "SteamUse(kBtu) -------> 261\n",
      "Electricity(kWh) -------> 6677\n",
      "Electricity(kBtu) -------> 6678\n",
      "NaturalGas(therms) -------> 4101\n",
      "NaturalGas(kBtu) -------> 4181\n",
      "DefaultData -------> [False True nan]\n",
      "ComplianceStatus -------> ['Compliant' 'Not Compliant' 'Error - Correct Default Data' 'Missing Data'\n",
      " 'Non-Compliant']\n",
      "Outlier -------> [nan 'High Outlier' 'Low Outlier' 'High outlier' 'Low outlier']\n",
      "Latitude -------> 6111\n",
      "Longitude -------> 5863\n",
      "State -------> ['WA']\n",
      "ZipCode -------> 55\n",
      "City -------> ['SEATTLE' 'Seattle']\n",
      "Address -------> 6379\n",
      "TotalGHGEmissions -------> 4924\n",
      "GHGEmissionsIntensity -------> 612\n"
     ]
    }
   ],
   "source": [
    "for key in list(data.keys()):\n",
    "    if data[key].nunique()<20:\n",
    "        print(key,'------->', data[key].unique())\n",
    "    else:\n",
    "        print(key, '------->',data[key].nunique())"
   ]
  },
  {
   "cell_type": "code",
   "execution_count": 21,
   "id": "b887b2a1",
   "metadata": {
    "execution": {
     "iopub.execute_input": "2024-08-05T21:53:23.994526Z",
     "iopub.status.busy": "2024-08-05T21:53:23.994299Z",
     "iopub.status.idle": "2024-08-05T21:53:24.028625Z",
     "shell.execute_reply": "2024-08-05T21:53:24.028164Z"
    },
    "papermill": {
     "duration": 0.041236,
     "end_time": "2024-08-05T21:53:24.030114",
     "exception": false,
     "start_time": "2024-08-05T21:53:23.988878",
     "status": "completed"
    },
    "tags": []
   },
   "outputs": [],
   "source": [
    "data['Neighborhood'].replace('Delridge', 'DELRIDGE', inplace=True)\n",
    "data['Neighborhood'].replace('DELRIDGE NEIGHBORHOODS', 'DELRIDGE', inplace=True)\n",
    "data['Neighborhood'].replace('North', 'NORTH', inplace=True)\n",
    "data['Neighborhood'].replace('Northwest', 'NORTHWEST', inplace=True)\n",
    "data['Neighborhood'].replace('Central', 'CENTRAL', inplace=True)\n",
    "data['Neighborhood'].replace('Ballard', 'BALLARD', inplace=True)"
   ]
  },
  {
   "cell_type": "code",
   "execution_count": 22,
   "id": "7aa77a5d",
   "metadata": {
    "execution": {
     "iopub.execute_input": "2024-08-05T21:53:24.041066Z",
     "iopub.status.busy": "2024-08-05T21:53:24.040842Z",
     "iopub.status.idle": "2024-08-05T21:53:24.074437Z",
     "shell.execute_reply": "2024-08-05T21:53:24.073960Z"
    },
    "papermill": {
     "duration": 0.040538,
     "end_time": "2024-08-05T21:53:24.075915",
     "exception": false,
     "start_time": "2024-08-05T21:53:24.035377",
     "status": "completed"
    },
    "tags": []
   },
   "outputs": [],
   "source": [
    "data['City'].replace('SEATTLE', 'Seattle', inplace=True)\n",
    "data['ComplianceStatus'].replace('Not Compliant', 'Non-Compliant', inplace=True)"
   ]
  },
  {
   "cell_type": "code",
   "execution_count": 23,
   "id": "5df8db01",
   "metadata": {
    "execution": {
     "iopub.execute_input": "2024-08-05T21:53:24.089637Z",
     "iopub.status.busy": "2024-08-05T21:53:24.089403Z",
     "iopub.status.idle": "2024-08-05T21:53:24.173616Z",
     "shell.execute_reply": "2024-08-05T21:53:24.173173Z"
    },
    "papermill": {
     "duration": 0.093121,
     "end_time": "2024-08-05T21:53:24.174974",
     "exception": false,
     "start_time": "2024-08-05T21:53:24.081853",
     "status": "completed"
    },
    "tags": []
   },
   "outputs": [
    {
     "data": {
      "text/html": [
       "<div>\n",
       "<style scoped>\n",
       "    .dataframe tbody tr th:only-of-type {\n",
       "        vertical-align: middle;\n",
       "    }\n",
       "\n",
       "    .dataframe tbody tr th {\n",
       "        vertical-align: top;\n",
       "    }\n",
       "\n",
       "    .dataframe thead th {\n",
       "        text-align: right;\n",
       "    }\n",
       "</style>\n",
       "<table border=\"1\" class=\"dataframe\">\n",
       "  <thead>\n",
       "    <tr style=\"text-align: right;\">\n",
       "      <th></th>\n",
       "      <th>OSEBuildingID</th>\n",
       "      <th>DataYear</th>\n",
       "      <th>CouncilDistrictCode</th>\n",
       "      <th>YearBuilt</th>\n",
       "      <th>NumberofBuildings</th>\n",
       "      <th>NumberofFloors</th>\n",
       "      <th>PropertyGFATotal</th>\n",
       "      <th>PropertyGFAParking</th>\n",
       "      <th>PropertyGFABuilding(s)</th>\n",
       "      <th>LargestPropertyUseTypeGFA</th>\n",
       "      <th>SecondLargestPropertyUseTypeGFA</th>\n",
       "      <th>ThirdLargestPropertyUseTypeGFA</th>\n",
       "      <th>ENERGYSTARScore</th>\n",
       "      <th>SiteEUI(kBtu/sf)</th>\n",
       "      <th>SiteEUIWN(kBtu/sf)</th>\n",
       "      <th>SourceEUI(kBtu/sf)</th>\n",
       "      <th>SourceEUIWN(kBtu/sf)</th>\n",
       "      <th>SiteEnergyUse(kBtu)</th>\n",
       "      <th>SiteEnergyUseWN(kBtu)</th>\n",
       "      <th>SteamUse(kBtu)</th>\n",
       "      <th>Electricity(kWh)</th>\n",
       "      <th>Electricity(kBtu)</th>\n",
       "      <th>NaturalGas(therms)</th>\n",
       "      <th>NaturalGas(kBtu)</th>\n",
       "      <th>Latitude</th>\n",
       "      <th>Longitude</th>\n",
       "      <th>ZipCode</th>\n",
       "      <th>TotalGHGEmissions</th>\n",
       "      <th>GHGEmissionsIntensity</th>\n",
       "    </tr>\n",
       "  </thead>\n",
       "  <tbody>\n",
       "    <tr>\n",
       "      <th>count</th>\n",
       "      <td>6716.000000</td>\n",
       "      <td>6716.00000</td>\n",
       "      <td>6716.000000</td>\n",
       "      <td>6716.000000</td>\n",
       "      <td>6708.000000</td>\n",
       "      <td>6708.000000</td>\n",
       "      <td>6.716000e+03</td>\n",
       "      <td>6716.000000</td>\n",
       "      <td>6.716000e+03</td>\n",
       "      <td>6.560000e+03</td>\n",
       "      <td>3238.000000</td>\n",
       "      <td>1156.000000</td>\n",
       "      <td>5093.000000</td>\n",
       "      <td>6699.000000</td>\n",
       "      <td>6700.000000</td>\n",
       "      <td>6697.000000</td>\n",
       "      <td>6697.000000</td>\n",
       "      <td>6.701000e+03</td>\n",
       "      <td>6.700000e+03</td>\n",
       "      <td>6.697000e+03</td>\n",
       "      <td>6.697000e+03</td>\n",
       "      <td>6.697000e+03</td>\n",
       "      <td>6.697000e+03</td>\n",
       "      <td>6.697000e+03</td>\n",
       "      <td>6716.000000</td>\n",
       "      <td>6716.000000</td>\n",
       "      <td>6700.000000</td>\n",
       "      <td>6697.000000</td>\n",
       "      <td>6697.000000</td>\n",
       "    </tr>\n",
       "    <tr>\n",
       "      <th>mean</th>\n",
       "      <td>20867.420488</td>\n",
       "      <td>2015.50268</td>\n",
       "      <td>4.445057</td>\n",
       "      <td>1968.101549</td>\n",
       "      <td>1.071407</td>\n",
       "      <td>4.695736</td>\n",
       "      <td>9.281410e+04</td>\n",
       "      <td>9519.597975</td>\n",
       "      <td>8.329450e+04</td>\n",
       "      <td>7.707936e+04</td>\n",
       "      <td>28074.100153</td>\n",
       "      <td>11262.497750</td>\n",
       "      <td>67.906342</td>\n",
       "      <td>54.182341</td>\n",
       "      <td>57.308522</td>\n",
       "      <td>133.510303</td>\n",
       "      <td>138.356802</td>\n",
       "      <td>5.194673e+06</td>\n",
       "      <td>5.240110e+06</td>\n",
       "      <td>2.625076e+05</td>\n",
       "      <td>1.052458e+06</td>\n",
       "      <td>3.591058e+06</td>\n",
       "      <td>1.311223e+04</td>\n",
       "      <td>1.311223e+06</td>\n",
       "      <td>47.624062</td>\n",
       "      <td>-122.334904</td>\n",
       "      <td>98116.843582</td>\n",
       "      <td>114.935638</td>\n",
       "      <td>1.081154</td>\n",
       "    </tr>\n",
       "    <tr>\n",
       "      <th>std</th>\n",
       "      <td>11878.968174</td>\n",
       "      <td>0.50003</td>\n",
       "      <td>2.123749</td>\n",
       "      <td>33.020391</td>\n",
       "      <td>1.593505</td>\n",
       "      <td>5.476218</td>\n",
       "      <td>1.875062e+05</td>\n",
       "      <td>33868.050881</td>\n",
       "      <td>1.733470e+05</td>\n",
       "      <td>1.681617e+05</td>\n",
       "      <td>53473.984688</td>\n",
       "      <td>26287.655182</td>\n",
       "      <td>27.012124</td>\n",
       "      <td>55.101657</td>\n",
       "      <td>56.390651</td>\n",
       "      <td>135.677195</td>\n",
       "      <td>135.302508</td>\n",
       "      <td>1.813648e+07</td>\n",
       "      <td>1.500896e+07</td>\n",
       "      <td>3.704221e+06</td>\n",
       "      <td>3.659769e+06</td>\n",
       "      <td>1.248728e+07</td>\n",
       "      <td>5.685626e+04</td>\n",
       "      <td>5.685627e+06</td>\n",
       "      <td>0.047837</td>\n",
       "      <td>0.027185</td>\n",
       "      <td>17.730253</td>\n",
       "      <td>478.876573</td>\n",
       "      <td>1.734763</td>\n",
       "    </tr>\n",
       "    <tr>\n",
       "      <th>min</th>\n",
       "      <td>1.000000</td>\n",
       "      <td>2015.00000</td>\n",
       "      <td>1.000000</td>\n",
       "      <td>1900.000000</td>\n",
       "      <td>0.000000</td>\n",
       "      <td>0.000000</td>\n",
       "      <td>1.128500e+04</td>\n",
       "      <td>-3.000000</td>\n",
       "      <td>-5.055000e+04</td>\n",
       "      <td>5.656000e+03</td>\n",
       "      <td>0.000000</td>\n",
       "      <td>0.000000</td>\n",
       "      <td>1.000000</td>\n",
       "      <td>0.000000</td>\n",
       "      <td>0.000000</td>\n",
       "      <td>-2.000000</td>\n",
       "      <td>-2.100000</td>\n",
       "      <td>0.000000e+00</td>\n",
       "      <td>0.000000e+00</td>\n",
       "      <td>0.000000e+00</td>\n",
       "      <td>-3.382680e+04</td>\n",
       "      <td>-1.154170e+05</td>\n",
       "      <td>0.000000e+00</td>\n",
       "      <td>0.000000e+00</td>\n",
       "      <td>47.499170</td>\n",
       "      <td>-122.414250</td>\n",
       "      <td>98006.000000</td>\n",
       "      <td>-0.800000</td>\n",
       "      <td>-0.020000</td>\n",
       "    </tr>\n",
       "    <tr>\n",
       "      <th>25%</th>\n",
       "      <td>19934.000000</td>\n",
       "      <td>2015.00000</td>\n",
       "      <td>3.000000</td>\n",
       "      <td>1948.000000</td>\n",
       "      <td>1.000000</td>\n",
       "      <td>2.000000</td>\n",
       "      <td>2.848700e+04</td>\n",
       "      <td>0.000000</td>\n",
       "      <td>2.727300e+04</td>\n",
       "      <td>2.501600e+04</td>\n",
       "      <td>4993.000000</td>\n",
       "      <td>2325.000000</td>\n",
       "      <td>52.000000</td>\n",
       "      <td>27.600000</td>\n",
       "      <td>29.600000</td>\n",
       "      <td>74.000000</td>\n",
       "      <td>79.199997</td>\n",
       "      <td>9.200689e+05</td>\n",
       "      <td>9.818029e+05</td>\n",
       "      <td>0.000000e+00</td>\n",
       "      <td>1.867660e+05</td>\n",
       "      <td>6.372730e+05</td>\n",
       "      <td>0.000000e+00</td>\n",
       "      <td>0.000000e+00</td>\n",
       "      <td>47.599857</td>\n",
       "      <td>-122.350603</td>\n",
       "      <td>98105.000000</td>\n",
       "      <td>9.450000</td>\n",
       "      <td>0.160000</td>\n",
       "    </tr>\n",
       "    <tr>\n",
       "      <th>50%</th>\n",
       "      <td>23064.000000</td>\n",
       "      <td>2016.00000</td>\n",
       "      <td>4.000000</td>\n",
       "      <td>1974.000000</td>\n",
       "      <td>1.000000</td>\n",
       "      <td>4.000000</td>\n",
       "      <td>4.400800e+04</td>\n",
       "      <td>0.000000</td>\n",
       "      <td>4.218500e+04</td>\n",
       "      <td>3.953000e+04</td>\n",
       "      <td>10631.000000</td>\n",
       "      <td>5039.000000</td>\n",
       "      <td>75.000000</td>\n",
       "      <td>38.000000</td>\n",
       "      <td>40.900000</td>\n",
       "      <td>95.600000</td>\n",
       "      <td>102.099998</td>\n",
       "      <td>1.791071e+06</td>\n",
       "      <td>1.926136e+06</td>\n",
       "      <td>0.000000e+00</td>\n",
       "      <td>3.422434e+05</td>\n",
       "      <td>1.167735e+06</td>\n",
       "      <td>3.051000e+03</td>\n",
       "      <td>3.051000e+05</td>\n",
       "      <td>47.618608</td>\n",
       "      <td>-122.332630</td>\n",
       "      <td>98115.000000</td>\n",
       "      <td>33.180000</td>\n",
       "      <td>0.540000</td>\n",
       "    </tr>\n",
       "    <tr>\n",
       "      <th>75%</th>\n",
       "      <td>25868.250000</td>\n",
       "      <td>2016.00000</td>\n",
       "      <td>7.000000</td>\n",
       "      <td>1996.000000</td>\n",
       "      <td>1.000000</td>\n",
       "      <td>5.000000</td>\n",
       "      <td>8.943125e+04</td>\n",
       "      <td>0.000000</td>\n",
       "      <td>8.112000e+04</td>\n",
       "      <td>7.417800e+04</td>\n",
       "      <td>26462.000000</td>\n",
       "      <td>10270.000000</td>\n",
       "      <td>90.000000</td>\n",
       "      <td>60.200000</td>\n",
       "      <td>64.925001</td>\n",
       "      <td>143.900000</td>\n",
       "      <td>149.800000</td>\n",
       "      <td>4.135280e+06</td>\n",
       "      <td>4.377974e+06</td>\n",
       "      <td>0.000000e+00</td>\n",
       "      <td>8.198140e+05</td>\n",
       "      <td>2.797320e+06</td>\n",
       "      <td>1.149639e+04</td>\n",
       "      <td>1.149639e+06</td>\n",
       "      <td>47.657135</td>\n",
       "      <td>-122.319733</td>\n",
       "      <td>98122.000000</td>\n",
       "      <td>91.530000</td>\n",
       "      <td>1.280000</td>\n",
       "    </tr>\n",
       "    <tr>\n",
       "      <th>max</th>\n",
       "      <td>50226.000000</td>\n",
       "      <td>2016.00000</td>\n",
       "      <td>7.000000</td>\n",
       "      <td>2015.000000</td>\n",
       "      <td>111.000000</td>\n",
       "      <td>99.000000</td>\n",
       "      <td>9.320156e+06</td>\n",
       "      <td>512608.000000</td>\n",
       "      <td>9.320156e+06</td>\n",
       "      <td>9.320156e+06</td>\n",
       "      <td>686750.000000</td>\n",
       "      <td>459748.000000</td>\n",
       "      <td>100.000000</td>\n",
       "      <td>834.400024</td>\n",
       "      <td>834.400024</td>\n",
       "      <td>2620.000000</td>\n",
       "      <td>2620.000000</td>\n",
       "      <td>8.739237e+08</td>\n",
       "      <td>4.716139e+08</td>\n",
       "      <td>1.349435e+08</td>\n",
       "      <td>1.925775e+08</td>\n",
       "      <td>6.570744e+08</td>\n",
       "      <td>2.979090e+06</td>\n",
       "      <td>2.979090e+08</td>\n",
       "      <td>47.733870</td>\n",
       "      <td>-122.220470</td>\n",
       "      <td>98272.000000</td>\n",
       "      <td>16870.980000</td>\n",
       "      <td>34.090000</td>\n",
       "    </tr>\n",
       "  </tbody>\n",
       "</table>\n",
       "</div>"
      ],
      "text/plain": [
       "       OSEBuildingID    DataYear  CouncilDistrictCode    YearBuilt  \\\n",
       "count    6716.000000  6716.00000          6716.000000  6716.000000   \n",
       "mean    20867.420488  2015.50268             4.445057  1968.101549   \n",
       "std     11878.968174     0.50003             2.123749    33.020391   \n",
       "min         1.000000  2015.00000             1.000000  1900.000000   \n",
       "25%     19934.000000  2015.00000             3.000000  1948.000000   \n",
       "50%     23064.000000  2016.00000             4.000000  1974.000000   \n",
       "75%     25868.250000  2016.00000             7.000000  1996.000000   \n",
       "max     50226.000000  2016.00000             7.000000  2015.000000   \n",
       "\n",
       "       NumberofBuildings  NumberofFloors  PropertyGFATotal  \\\n",
       "count        6708.000000     6708.000000      6.716000e+03   \n",
       "mean            1.071407        4.695736      9.281410e+04   \n",
       "std             1.593505        5.476218      1.875062e+05   \n",
       "min             0.000000        0.000000      1.128500e+04   \n",
       "25%             1.000000        2.000000      2.848700e+04   \n",
       "50%             1.000000        4.000000      4.400800e+04   \n",
       "75%             1.000000        5.000000      8.943125e+04   \n",
       "max           111.000000       99.000000      9.320156e+06   \n",
       "\n",
       "       PropertyGFAParking  PropertyGFABuilding(s)  LargestPropertyUseTypeGFA  \\\n",
       "count         6716.000000            6.716000e+03               6.560000e+03   \n",
       "mean          9519.597975            8.329450e+04               7.707936e+04   \n",
       "std          33868.050881            1.733470e+05               1.681617e+05   \n",
       "min             -3.000000           -5.055000e+04               5.656000e+03   \n",
       "25%              0.000000            2.727300e+04               2.501600e+04   \n",
       "50%              0.000000            4.218500e+04               3.953000e+04   \n",
       "75%              0.000000            8.112000e+04               7.417800e+04   \n",
       "max         512608.000000            9.320156e+06               9.320156e+06   \n",
       "\n",
       "       SecondLargestPropertyUseTypeGFA  ThirdLargestPropertyUseTypeGFA  \\\n",
       "count                      3238.000000                     1156.000000   \n",
       "mean                      28074.100153                    11262.497750   \n",
       "std                       53473.984688                    26287.655182   \n",
       "min                           0.000000                        0.000000   \n",
       "25%                        4993.000000                     2325.000000   \n",
       "50%                       10631.000000                     5039.000000   \n",
       "75%                       26462.000000                    10270.000000   \n",
       "max                      686750.000000                   459748.000000   \n",
       "\n",
       "       ENERGYSTARScore  SiteEUI(kBtu/sf)  SiteEUIWN(kBtu/sf)  \\\n",
       "count      5093.000000       6699.000000         6700.000000   \n",
       "mean         67.906342         54.182341           57.308522   \n",
       "std          27.012124         55.101657           56.390651   \n",
       "min           1.000000          0.000000            0.000000   \n",
       "25%          52.000000         27.600000           29.600000   \n",
       "50%          75.000000         38.000000           40.900000   \n",
       "75%          90.000000         60.200000           64.925001   \n",
       "max         100.000000        834.400024          834.400024   \n",
       "\n",
       "       SourceEUI(kBtu/sf)  SourceEUIWN(kBtu/sf)  SiteEnergyUse(kBtu)  \\\n",
       "count         6697.000000           6697.000000         6.701000e+03   \n",
       "mean           133.510303            138.356802         5.194673e+06   \n",
       "std            135.677195            135.302508         1.813648e+07   \n",
       "min             -2.000000             -2.100000         0.000000e+00   \n",
       "25%             74.000000             79.199997         9.200689e+05   \n",
       "50%             95.600000            102.099998         1.791071e+06   \n",
       "75%            143.900000            149.800000         4.135280e+06   \n",
       "max           2620.000000           2620.000000         8.739237e+08   \n",
       "\n",
       "       SiteEnergyUseWN(kBtu)  SteamUse(kBtu)  Electricity(kWh)  \\\n",
       "count           6.700000e+03    6.697000e+03      6.697000e+03   \n",
       "mean            5.240110e+06    2.625076e+05      1.052458e+06   \n",
       "std             1.500896e+07    3.704221e+06      3.659769e+06   \n",
       "min             0.000000e+00    0.000000e+00     -3.382680e+04   \n",
       "25%             9.818029e+05    0.000000e+00      1.867660e+05   \n",
       "50%             1.926136e+06    0.000000e+00      3.422434e+05   \n",
       "75%             4.377974e+06    0.000000e+00      8.198140e+05   \n",
       "max             4.716139e+08    1.349435e+08      1.925775e+08   \n",
       "\n",
       "       Electricity(kBtu)  NaturalGas(therms)  NaturalGas(kBtu)     Latitude  \\\n",
       "count       6.697000e+03        6.697000e+03      6.697000e+03  6716.000000   \n",
       "mean        3.591058e+06        1.311223e+04      1.311223e+06    47.624062   \n",
       "std         1.248728e+07        5.685626e+04      5.685627e+06     0.047837   \n",
       "min        -1.154170e+05        0.000000e+00      0.000000e+00    47.499170   \n",
       "25%         6.372730e+05        0.000000e+00      0.000000e+00    47.599857   \n",
       "50%         1.167735e+06        3.051000e+03      3.051000e+05    47.618608   \n",
       "75%         2.797320e+06        1.149639e+04      1.149639e+06    47.657135   \n",
       "max         6.570744e+08        2.979090e+06      2.979090e+08    47.733870   \n",
       "\n",
       "         Longitude       ZipCode  TotalGHGEmissions  GHGEmissionsIntensity  \n",
       "count  6716.000000   6700.000000        6697.000000            6697.000000  \n",
       "mean   -122.334904  98116.843582         114.935638               1.081154  \n",
       "std       0.027185     17.730253         478.876573               1.734763  \n",
       "min    -122.414250  98006.000000          -0.800000              -0.020000  \n",
       "25%    -122.350603  98105.000000           9.450000               0.160000  \n",
       "50%    -122.332630  98115.000000          33.180000               0.540000  \n",
       "75%    -122.319733  98122.000000          91.530000               1.280000  \n",
       "max    -122.220470  98272.000000       16870.980000              34.090000  "
      ]
     },
     "execution_count": 23,
     "metadata": {},
     "output_type": "execute_result"
    }
   ],
   "source": [
    "data.describe()"
   ]
  },
  {
   "cell_type": "code",
   "execution_count": 24,
   "id": "0bb6c42a",
   "metadata": {
    "execution": {
     "iopub.execute_input": "2024-08-05T21:53:24.187900Z",
     "iopub.status.busy": "2024-08-05T21:53:24.187548Z",
     "iopub.status.idle": "2024-08-05T21:53:24.235500Z",
     "shell.execute_reply": "2024-08-05T21:53:24.235080Z"
    },
    "papermill": {
     "duration": 0.056395,
     "end_time": "2024-08-05T21:53:24.236834",
     "exception": false,
     "start_time": "2024-08-05T21:53:24.180439",
     "status": "completed"
    },
    "tags": []
   },
   "outputs": [
    {
     "name": "stdout",
     "output_type": "stream",
     "text": [
      "<class 'pandas.core.frame.DataFrame'>\n",
      "RangeIndex: 6716 entries, 0 to 6715\n",
      "Data columns (total 45 columns):\n",
      " #   Column                           Non-Null Count  Dtype  \n",
      "---  ------                           --------------  -----  \n",
      " 0   OSEBuildingID                    6716 non-null   int64  \n",
      " 1   DataYear                         6716 non-null   int64  \n",
      " 2   BuildingType                     6716 non-null   object \n",
      " 3   PrimaryPropertyType              6716 non-null   object \n",
      " 4   PropertyName                     6716 non-null   object \n",
      " 5   TaxParcelIdentificationNumber    6714 non-null   object \n",
      " 6   CouncilDistrictCode              6716 non-null   int64  \n",
      " 7   Neighborhood                     6716 non-null   object \n",
      " 8   YearBuilt                        6716 non-null   int64  \n",
      " 9   NumberofBuildings                6708 non-null   float64\n",
      " 10  NumberofFloors                   6708 non-null   float64\n",
      " 11  PropertyGFATotal                 6716 non-null   int64  \n",
      " 12  PropertyGFAParking               6716 non-null   int64  \n",
      " 13  PropertyGFABuilding(s)           6716 non-null   int64  \n",
      " 14  ListOfAllPropertyUseTypes        6580 non-null   object \n",
      " 15  LargestPropertyUseType           6560 non-null   object \n",
      " 16  LargestPropertyUseTypeGFA        6560 non-null   float64\n",
      " 17  SecondLargestPropertyUseType     3238 non-null   object \n",
      " 18  SecondLargestPropertyUseTypeGFA  3238 non-null   float64\n",
      " 19  ThirdLargestPropertyUseType      1156 non-null   object \n",
      " 20  ThirdLargestPropertyUseTypeGFA   1156 non-null   float64\n",
      " 21  YearsENERGYSTARCertified         229 non-null    object \n",
      " 22  ENERGYSTARScore                  5093 non-null   float64\n",
      " 23  SiteEUI(kBtu/sf)                 6699 non-null   float64\n",
      " 24  SiteEUIWN(kBtu/sf)               6700 non-null   float64\n",
      " 25  SourceEUI(kBtu/sf)               6697 non-null   float64\n",
      " 26  SourceEUIWN(kBtu/sf)             6697 non-null   float64\n",
      " 27  SiteEnergyUse(kBtu)              6701 non-null   float64\n",
      " 28  SiteEnergyUseWN(kBtu)            6700 non-null   float64\n",
      " 29  SteamUse(kBtu)                   6697 non-null   float64\n",
      " 30  Electricity(kWh)                 6697 non-null   float64\n",
      " 31  Electricity(kBtu)                6697 non-null   float64\n",
      " 32  NaturalGas(therms)               6697 non-null   float64\n",
      " 33  NaturalGas(kBtu)                 6697 non-null   float64\n",
      " 34  DefaultData                      3381 non-null   object \n",
      " 35  ComplianceStatus                 6716 non-null   object \n",
      " 36  Outlier                          116 non-null    object \n",
      " 37  Latitude                         6716 non-null   float64\n",
      " 38  Longitude                        6716 non-null   float64\n",
      " 39  State                            6716 non-null   object \n",
      " 40  ZipCode                          6700 non-null   float64\n",
      " 41  City                             6716 non-null   object \n",
      " 42  Address                          6716 non-null   object \n",
      " 43  TotalGHGEmissions                6697 non-null   float64\n",
      " 44  GHGEmissionsIntensity            6697 non-null   float64\n",
      "dtypes: float64(22), int64(7), object(16)\n",
      "memory usage: 2.3+ MB\n"
     ]
    }
   ],
   "source": [
    "data.info()"
   ]
  },
  {
   "cell_type": "code",
   "execution_count": 25,
   "id": "e2fb285f",
   "metadata": {
    "execution": {
     "iopub.execute_input": "2024-08-05T21:53:24.248170Z",
     "iopub.status.busy": "2024-08-05T21:53:24.247954Z",
     "iopub.status.idle": "2024-08-05T21:53:24.414600Z",
     "shell.execute_reply": "2024-08-05T21:53:24.414111Z"
    },
    "papermill": {
     "duration": 0.173943,
     "end_time": "2024-08-05T21:53:24.416193",
     "exception": false,
     "start_time": "2024-08-05T21:53:24.242250",
     "status": "completed"
    },
    "tags": []
   },
   "outputs": [],
   "source": [
    "# Save the concatenated dataset as one csv file\n",
    "data.to_csv(RAW_DATA, index=False)"
   ]
  }
 ],
 "metadata": {
  "kernelspec": {
   "display_name": "mlops",
   "language": "python",
   "name": "python3"
  },
  "language_info": {
   "codemirror_mode": {
    "name": "ipython",
    "version": 3
   },
   "file_extension": ".py",
   "mimetype": "text/x-python",
   "name": "python",
   "nbconvert_exporter": "python",
   "pygments_lexer": "ipython3",
   "version": "3.10.10"
  },
  "papermill": {
   "default_parameters": {},
   "duration": 8.292602,
   "end_time": "2024-08-05T21:53:25.045553",
   "environment_variables": {},
   "exception": null,
   "input_path": "../notebooks/01-data-collection.ipynb",
   "output_path": "../notebooks/outputs/01-data-collection_output.ipynb",
   "parameters": {},
   "start_time": "2024-08-05T21:53:16.752951",
   "version": "2.6.0"
  }
 },
 "nbformat": 4,
 "nbformat_minor": 5
}