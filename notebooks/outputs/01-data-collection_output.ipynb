{
 "cells": [
  {
   "cell_type": "markdown",
   "id": "76eff063",
   "metadata": {
    "papermill": {
     "duration": 0.004659,
     "end_time": "2024-08-06T14:25:13.553769",
     "exception": false,
     "start_time": "2024-08-06T14:25:13.549110",
     "status": "completed"
    },
    "tags": []
   },
   "source": [
    "# Import Libraries\n"
   ]
  },
  {
   "cell_type": "code",
   "execution_count": 1,
   "id": "fc348601",
   "metadata": {
    "execution": {
     "iopub.execute_input": "2024-08-06T14:25:13.563956Z",
     "iopub.status.busy": "2024-08-06T14:25:13.563719Z",
     "iopub.status.idle": "2024-08-06T14:25:14.285335Z",
     "shell.execute_reply": "2024-08-06T14:25:14.284898Z"
    },
    "papermill": {
     "duration": 0.728272,
     "end_time": "2024-08-06T14:25:14.287063",
     "exception": false,
     "start_time": "2024-08-06T14:25:13.558791",
     "status": "completed"
    },
    "tags": []
   },
   "outputs": [],
   "source": [
    "%reload_ext autoreload\n",
    "%autoreload 2\n",
    "\n",
    "import ast\n",
    "import pandas as pd\n",
    "import plotly.express as px\n",
    "import sys\n",
    "\n",
    "from loguru import logger\n",
    "from pathlib import Path\n",
    "\n",
    "sys.path.append(str(Path.cwd().parent))\n",
    "from settings.params import *\n",
    "\n",
    "pd.set_option(\"display.max_columns\", None)\n",
    "pd.set_option(\"display.max_rows\", 100)"
   ]
  },
  {
   "cell_type": "markdown",
   "id": "9709e426",
   "metadata": {
    "papermill": {
     "duration": 0.005595,
     "end_time": "2024-08-06T14:25:14.297778",
     "exception": false,
     "start_time": "2024-08-06T14:25:14.292183",
     "status": "completed"
    },
    "tags": []
   },
   "source": [
    "# Settings\n"
   ]
  },
  {
   "cell_type": "code",
   "execution_count": 2,
   "id": "c0910b1d",
   "metadata": {
    "execution": {
     "iopub.execute_input": "2024-08-06T14:25:14.308555Z",
     "iopub.status.busy": "2024-08-06T14:25:14.308249Z",
     "iopub.status.idle": "2024-08-06T14:25:14.325980Z",
     "shell.execute_reply": "2024-08-06T14:25:14.325528Z"
    },
    "papermill": {
     "duration": 0.025156,
     "end_time": "2024-08-06T14:25:14.328270",
     "exception": false,
     "start_time": "2024-08-06T14:25:14.303114",
     "status": "completed"
    },
    "tags": []
   },
   "outputs": [],
   "source": [
    "log_fmt = \"<green>{time:YYYY-MM-DD HH:mm:ss.SSS!UTC}</green> | <level>{level: <8}</level> | <cyan>{name}</cyan>:<cyan>{function}</cyan>:<cyan>{line}</cyan> - {message}\"\n",
    "logger.configure(handlers=[{\"sink\": sys.stderr, \"format\": log_fmt}])\n",
    "\n",
    "TARGET_NAME = MODEL_PARAMS[\"TARGET_NAME\"]\n",
    "SEED = 42"
   ]
  },
  {
   "cell_type": "markdown",
   "id": "fd983f24",
   "metadata": {
    "papermill": {
     "duration": 0.00356,
     "end_time": "2024-08-06T14:25:14.336789",
     "exception": false,
     "start_time": "2024-08-06T14:25:14.333229",
     "status": "completed"
    },
    "tags": []
   },
   "source": [
    "# Data Collection\n"
   ]
  },
  {
   "cell_type": "code",
   "execution_count": 3,
   "id": "cc1b9579",
   "metadata": {
    "execution": {
     "iopub.execute_input": "2024-08-06T14:25:14.344642Z",
     "iopub.status.busy": "2024-08-06T14:25:14.344419Z",
     "iopub.status.idle": "2024-08-06T14:25:14.409834Z",
     "shell.execute_reply": "2024-08-06T14:25:14.409440Z"
    },
    "papermill": {
     "duration": 0.071082,
     "end_time": "2024-08-06T14:25:14.411368",
     "exception": false,
     "start_time": "2024-08-06T14:25:14.340286",
     "status": "completed"
    },
    "tags": []
   },
   "outputs": [
    {
     "name": "stderr",
     "output_type": "stream",
     "text": [
      "\u001b[32m2024-08-06 14:25:14.407\u001b[0m | \u001b[1mINFO    \u001b[0m | \u001b[36m__main__\u001b[0m:\u001b[36m<module>\u001b[0m:\u001b[36m4\u001b[0m - 2015 Data Shape: (3340, 47)\n"
     ]
    },
    {
     "name": "stderr",
     "output_type": "stream",
     "text": [
      "\u001b[32m2024-08-06 14:25:14.407\u001b[0m | \u001b[1mINFO    \u001b[0m | \u001b[36m__main__\u001b[0m:\u001b[36m<module>\u001b[0m:\u001b[36m5\u001b[0m - 2016 Data Shape: (3376, 46)\n"
     ]
    }
   ],
   "source": [
    "data2015 = pd.read_csv('../datasets/2015-building-energy-benchmarking.csv')\n",
    "data2016 = pd.read_csv('../datasets/2016-building-energy-benchmarking.csv')\n",
    "\n",
    "logger.info(f\"2015 Data Shape: {data2015.shape}\")\n",
    "logger.info(f\"2016 Data Shape: {data2016.shape}\")"
   ]
  },
  {
   "cell_type": "code",
   "execution_count": 4,
   "id": "442c46be",
   "metadata": {
    "execution": {
     "iopub.execute_input": "2024-08-06T14:25:14.421295Z",
     "iopub.status.busy": "2024-08-06T14:25:14.421056Z",
     "iopub.status.idle": "2024-08-06T14:25:14.458494Z",
     "shell.execute_reply": "2024-08-06T14:25:14.458060Z"
    },
    "papermill": {
     "duration": 0.044037,
     "end_time": "2024-08-06T14:25:14.459855",
     "exception": false,
     "start_time": "2024-08-06T14:25:14.415818",
     "status": "completed"
    },
    "tags": []
   },
   "outputs": [
    {
     "name": "stderr",
     "output_type": "stream",
     "text": [
      "\u001b[32m2024-08-06 14:25:14.456\u001b[0m | \u001b[1mINFO    \u001b[0m | \u001b[36m__main__\u001b[0m:\u001b[36m<module>\u001b[0m:\u001b[36m2\u001b[0m - 2015 Dataset Metadata: None\n"
     ]
    },
    {
     "name": "stdout",
     "output_type": "stream",
     "text": [
      "<class 'pandas.core.frame.DataFrame'>\n",
      "RangeIndex: 3340 entries, 0 to 3339\n",
      "Data columns (total 47 columns):\n",
      " #   Column                                                         Non-Null Count  Dtype  \n",
      "---  ------                                                         --------------  -----  \n",
      " 0   OSEBuildingID                                                  3340 non-null   int64  \n",
      " 1   DataYear                                                       3340 non-null   int64  \n",
      " 2   BuildingType                                                   3340 non-null   object \n",
      " 3   PrimaryPropertyType                                            3340 non-null   object \n",
      " 4   PropertyName                                                   3340 non-null   object \n",
      " 5   TaxParcelIdentificationNumber                                  3338 non-null   object \n",
      " 6   Location                                                       3340 non-null   object \n",
      " 7   CouncilDistrictCode                                            3340 non-null   int64  \n",
      " 8   Neighborhood                                                   3340 non-null   object \n",
      " 9   YearBuilt                                                      3340 non-null   int64  \n",
      " 10  NumberofBuildings                                              3340 non-null   int64  \n",
      " 11  NumberofFloors                                                 3332 non-null   float64\n",
      " 12  PropertyGFATotal                                               3340 non-null   int64  \n",
      " 13  PropertyGFAParking                                             3340 non-null   int64  \n",
      " 14  PropertyGFABuilding(s)                                         3340 non-null   int64  \n",
      " 15  ListOfAllPropertyUseTypes                                      3213 non-null   object \n",
      " 16  LargestPropertyUseType                                         3204 non-null   object \n",
      " 17  LargestPropertyUseTypeGFA                                      3204 non-null   float64\n",
      " 18  SecondLargestPropertyUseType                                   1559 non-null   object \n",
      " 19  SecondLargestPropertyUseTypeGFA                                1559 non-null   float64\n",
      " 20  ThirdLargestPropertyUseType                                    560 non-null    object \n",
      " 21  ThirdLargestPropertyUseTypeGFA                                 560 non-null    float64\n",
      " 22  YearsENERGYSTARCertified                                       110 non-null    object \n",
      " 23  ENERGYSTARScore                                                2560 non-null   float64\n",
      " 24  SiteEUI(kBtu/sf)                                               3330 non-null   float64\n",
      " 25  SiteEUIWN(kBtu/sf)                                             3330 non-null   float64\n",
      " 26  SourceEUI(kBtu/sf)                                             3330 non-null   float64\n",
      " 27  SourceEUIWN(kBtu/sf)                                           3330 non-null   float64\n",
      " 28  SiteEnergyUse(kBtu)                                            3330 non-null   float64\n",
      " 29  SiteEnergyUseWN(kBtu)                                          3330 non-null   float64\n",
      " 30  SteamUse(kBtu)                                                 3330 non-null   float64\n",
      " 31  Electricity(kWh)                                               3330 non-null   float64\n",
      " 32  Electricity(kBtu)                                              3330 non-null   float64\n",
      " 33  NaturalGas(therms)                                             3330 non-null   float64\n",
      " 34  NaturalGas(kBtu)                                               3330 non-null   float64\n",
      " 35  OtherFuelUse(kBtu)                                             3330 non-null   float64\n",
      " 36  GHGEmissions(MetricTonsCO2e)                                   3330 non-null   float64\n",
      " 37  GHGEmissionsIntensity(kgCO2e/ft2)                              3330 non-null   float64\n",
      " 38  DefaultData                                                    3339 non-null   object \n",
      " 39  Comment                                                        13 non-null     object \n",
      " 40  ComplianceStatus                                               3340 non-null   object \n",
      " 41  Outlier                                                        84 non-null     object \n",
      " 42  2010 Census Tracts                                             224 non-null    float64\n",
      " 43  Seattle Police Department Micro Community Policing Plan Areas  3338 non-null   float64\n",
      " 44  City Council Districts                                         213 non-null    float64\n",
      " 45  SPD Beats                                                      3338 non-null   float64\n",
      " 46  Zip Codes                                                      3340 non-null   int64  \n",
      "dtypes: float64(23), int64(9), object(15)\n",
      "memory usage: 1.2+ MB\n",
      "<class 'pandas.core.frame.DataFrame'>\n",
      "RangeIndex: 3340 entries, 0 to 3339\n",
      "Data columns (total 47 columns):\n",
      " #   Column                                                         Non-Null Count  Dtype  \n",
      "---  ------                                                         --------------  -----  \n",
      " 0   OSEBuildingID                                                  3340 non-null   int64  \n",
      " 1   DataYear                                                       3340 non-null   int64  \n",
      " 2   BuildingType                                                   3340 non-null   object \n",
      " 3   PrimaryPropertyType                                            3340 non-null   object \n",
      " 4   PropertyName                                                   3340 non-null   object \n",
      " 5   TaxParcelIdentificationNumber                                  3338 non-null   object \n",
      " 6   Location                                                       3340 non-null   object \n",
      " 7   CouncilDistrictCode                                            3340 non-null   int64  \n",
      " 8   Neighborhood                                                   3340 non-null   object \n",
      " 9   YearBuilt                                                      3340 non-null   int64  \n",
      " 10  NumberofBuildings                                              3340 non-null   int64  \n",
      " 11  NumberofFloors                                                 3332 non-null   float64\n",
      " 12  PropertyGFATotal                                               3340 non-null   int64  \n",
      " 13  PropertyGFAParking                                             3340 non-null   int64  \n",
      " 14  PropertyGFABuilding(s)                                         3340 non-null   int64  \n",
      " 15  ListOfAllPropertyUseTypes                                      3213 non-null   object \n",
      " 16  LargestPropertyUseType                                         3204 non-null   object \n",
      " 17  LargestPropertyUseTypeGFA                                      3204 non-null   float64\n",
      " 18  SecondLargestPropertyUseType                                   1559 non-null   object \n",
      " 19  SecondLargestPropertyUseTypeGFA                                1559 non-null   float64\n",
      " 20  ThirdLargestPropertyUseType                                    560 non-null    object \n",
      " 21  ThirdLargestPropertyUseTypeGFA                                 560 non-null    float64\n",
      " 22  YearsENERGYSTARCertified                                       110 non-null    object \n",
      " 23  ENERGYSTARScore                                                2560 non-null   float64\n",
      " 24  SiteEUI(kBtu/sf)                                               3330 non-null   float64\n",
      " 25  SiteEUIWN(kBtu/sf)                                             3330 non-null   float64\n",
      " 26  SourceEUI(kBtu/sf)                                             3330 non-null   float64\n",
      " 27  SourceEUIWN(kBtu/sf)                                           3330 non-null   float64\n",
      " 28  SiteEnergyUse(kBtu)                                            3330 non-null   float64\n",
      " 29  SiteEnergyUseWN(kBtu)                                          3330 non-null   float64\n",
      " 30  SteamUse(kBtu)                                                 3330 non-null   float64\n",
      " 31  Electricity(kWh)                                               3330 non-null   float64\n",
      " 32  Electricity(kBtu)                                              3330 non-null   float64\n",
      " 33  NaturalGas(therms)                                             3330 non-null   float64\n",
      " 34  NaturalGas(kBtu)                                               3330 non-null   float64\n",
      " 35  OtherFuelUse(kBtu)                                             3330 non-null   float64\n",
      " 36  GHGEmissions(MetricTonsCO2e)                                   3330 non-null   float64\n",
      " 37  GHGEmissionsIntensity(kgCO2e/ft2)                              3330 non-null   float64\n",
      " 38  DefaultData                                                    3339 non-null   object \n",
      " 39  Comment                                                        13 non-null     object \n",
      " 40  ComplianceStatus                                               3340 non-null   object \n",
      " 41  Outlier                                                        84 non-null     object \n",
      " 42  2010 Census Tracts                                             224 non-null    float64\n",
      " 43  Seattle Police Department Micro Community Policing Plan Areas  3338 non-null   float64\n",
      " 44  City Council Districts                                         213 non-null    float64\n",
      " 45  SPD Beats                                                      3338 non-null   float64\n",
      " 46  Zip Codes                                                      3340 non-null   int64  \n",
      "dtypes: float64(23), int64(9), object(15)\n",
      "memory usage: 1.2+ MB\n"
     ]
    }
   ],
   "source": [
    "data2015.info()\n",
    "logger.info(f\"2015 Dataset Metadata: {data2015.info()}\")"
   ]
  },
  {
   "cell_type": "code",
   "execution_count": 5,
   "id": "7e5f0507",
   "metadata": {
    "execution": {
     "iopub.execute_input": "2024-08-06T14:25:14.470884Z",
     "iopub.status.busy": "2024-08-06T14:25:14.470659Z",
     "iopub.status.idle": "2024-08-06T14:25:14.640418Z",
     "shell.execute_reply": "2024-08-06T14:25:14.639781Z"
    },
    "papermill": {
     "duration": 0.177427,
     "end_time": "2024-08-06T14:25:14.642821",
     "exception": false,
     "start_time": "2024-08-06T14:25:14.465394",
     "status": "completed"
    },
    "tags": []
   },
   "outputs": [
    {
     "name": "stderr",
     "output_type": "stream",
     "text": [
      "\u001b[32m2024-08-06 14:25:14.637\u001b[0m | \u001b[1mINFO    \u001b[0m | \u001b[36m__main__\u001b[0m:\u001b[36m<module>\u001b[0m:\u001b[36m2\u001b[0m - 2016 Dataset Metadata: None\n"
     ]
    },
    {
     "name": "stdout",
     "output_type": "stream",
     "text": [
      "<class 'pandas.core.frame.DataFrame'>\n",
      "RangeIndex: 3376 entries, 0 to 3375\n",
      "Data columns (total 46 columns):\n",
      " #   Column                           Non-Null Count  Dtype  \n",
      "---  ------                           --------------  -----  \n",
      " 0   OSEBuildingID                    3376 non-null   int64  \n",
      " 1   DataYear                         3376 non-null   int64  \n",
      " 2   BuildingType                     3376 non-null   object \n",
      " 3   PrimaryPropertyType              3376 non-null   object \n",
      " 4   PropertyName                     3376 non-null   object \n",
      " 5   Address                          3376 non-null   object \n",
      " 6   City                             3376 non-null   object \n",
      " 7   State                            3376 non-null   object \n",
      " 8   ZipCode                          3360 non-null   float64\n",
      " 9   TaxParcelIdentificationNumber    3376 non-null   object \n",
      " 10  CouncilDistrictCode              3376 non-null   int64  \n",
      " 11  Neighborhood                     3376 non-null   object \n",
      " 12  Latitude                         3376 non-null   float64\n",
      " 13  Longitude                        3376 non-null   float64\n",
      " 14  YearBuilt                        3376 non-null   int64  \n",
      " 15  NumberofBuildings                3368 non-null   float64\n",
      " 16  NumberofFloors                   3376 non-null   int64  \n",
      " 17  PropertyGFATotal                 3376 non-null   int64  \n",
      " 18  PropertyGFAParking               3376 non-null   int64  \n",
      " 19  PropertyGFABuilding(s)           3376 non-null   int64  \n",
      " 20  ListOfAllPropertyUseTypes        3367 non-null   object \n",
      " 21  LargestPropertyUseType           3356 non-null   object \n",
      " 22  LargestPropertyUseTypeGFA        3356 non-null   float64\n",
      " 23  SecondLargestPropertyUseType     1679 non-null   object \n",
      " 24  SecondLargestPropertyUseTypeGFA  1679 non-null   float64\n",
      " 25  ThirdLargestPropertyUseType      596 non-null    object \n",
      " 26  ThirdLargestPropertyUseTypeGFA   596 non-null    float64\n",
      " 27  YearsENERGYSTARCertified         119 non-null    object \n",
      " 28  ENERGYSTARScore                  2533 non-null   float64\n",
      " 29  SiteEUI(kBtu/sf)                 3369 non-null   float64\n",
      " 30  SiteEUIWN(kBtu/sf)               3370 non-null   float64\n",
      " 31  SourceEUI(kBtu/sf)               3367 non-null   float64\n",
      " 32  SourceEUIWN(kBtu/sf)             3367 non-null   float64\n",
      " 33  SiteEnergyUse(kBtu)              3371 non-null   float64\n",
      " 34  SiteEnergyUseWN(kBtu)            3370 non-null   float64\n",
      " 35  SteamUse(kBtu)                   3367 non-null   float64\n",
      " 36  Electricity(kWh)                 3367 non-null   float64\n",
      " 37  Electricity(kBtu)                3367 non-null   float64\n",
      " 38  NaturalGas(therms)               3367 non-null   float64\n",
      " 39  NaturalGas(kBtu)                 3367 non-null   float64\n",
      " 40  DefaultData                      3376 non-null   bool   \n",
      " 41  Comments                         0 non-null      float64\n",
      " 42  ComplianceStatus                 3376 non-null   object \n",
      " 43  Outlier                          32 non-null     object \n",
      " 44  TotalGHGEmissions                3367 non-null   float64\n",
      " 45  GHGEmissionsIntensity            3367 non-null   float64\n",
      "dtypes: bool(1), float64(22), int64(8), object(15)\n",
      "memory usage: 1.2+ MB\n",
      "<class 'pandas.core.frame.DataFrame'>\n",
      "RangeIndex: 3376 entries, 0 to 3375\n",
      "Data columns (total 46 columns):\n",
      " #   Column                           Non-Null Count  Dtype  \n",
      "---  ------                           --------------  -----  \n",
      " 0   OSEBuildingID                    3376 non-null   int64  \n",
      " 1   DataYear                         3376 non-null   int64  \n",
      " 2   BuildingType                     3376 non-null   object \n",
      " 3   PrimaryPropertyType              3376 non-null   object \n",
      " 4   PropertyName                     3376 non-null   object \n",
      " 5   Address                          3376 non-null   object \n",
      " 6   City                             3376 non-null   object \n",
      " 7   State                            3376 non-null   object \n",
      " 8   ZipCode                          3360 non-null   float64\n",
      " 9   TaxParcelIdentificationNumber    3376 non-null   object \n",
      " 10  CouncilDistrictCode              3376 non-null   int64  \n",
      " 11  Neighborhood                     3376 non-null   object \n",
      " 12  Latitude                         3376 non-null   float64\n",
      " 13  Longitude                        3376 non-null   float64\n",
      " 14  YearBuilt                        3376 non-null   int64  \n",
      " 15  NumberofBuildings                3368 non-null   float64\n",
      " 16  NumberofFloors                   3376 non-null   int64  \n",
      " 17  PropertyGFATotal                 3376 non-null   int64  \n",
      " 18  PropertyGFAParking               3376 non-null   int64  \n",
      " 19  PropertyGFABuilding(s)           3376 non-null   int64  \n",
      " 20  ListOfAllPropertyUseTypes        3367 non-null   object \n",
      " 21  LargestPropertyUseType           3356 non-null   object \n",
      " 22  LargestPropertyUseTypeGFA        3356 non-null   float64\n",
      " 23  SecondLargestPropertyUseType     1679 non-null   object \n",
      " 24  SecondLargestPropertyUseTypeGFA  1679 non-null   float64\n",
      " 25  ThirdLargestPropertyUseType      596 non-null    object \n",
      " 26  ThirdLargestPropertyUseTypeGFA   596 non-null    float64\n",
      " 27  YearsENERGYSTARCertified         119 non-null    object \n",
      " 28  ENERGYSTARScore                  2533 non-null   float64\n",
      " 29  SiteEUI(kBtu/sf)                 3369 non-null   float64\n",
      " 30  SiteEUIWN(kBtu/sf)               3370 non-null   float64\n",
      " 31  SourceEUI(kBtu/sf)               3367 non-null   float64\n",
      " 32  SourceEUIWN(kBtu/sf)             3367 non-null   float64\n",
      " 33  SiteEnergyUse(kBtu)              3371 non-null   float64\n",
      " 34  SiteEnergyUseWN(kBtu)            3370 non-null   float64\n",
      " 35  SteamUse(kBtu)                   3367 non-null   float64\n",
      " 36  Electricity(kWh)                 3367 non-null   float64\n",
      " 37  Electricity(kBtu)                3367 non-null   float64\n",
      " 38  NaturalGas(therms)               3367 non-null   float64\n",
      " 39  NaturalGas(kBtu)                 3367 non-null   float64\n",
      " 40  DefaultData                      3376 non-null   bool   \n",
      " 41  Comments                         0 non-null      float64\n",
      " 42  ComplianceStatus                 3376 non-null   object \n",
      " 43  Outlier                          32 non-null     object \n",
      " 44  TotalGHGEmissions                3367 non-null   float64\n",
      " 45  GHGEmissionsIntensity            3367 non-null   float64\n",
      "dtypes: bool(1), float64(22), int64(8), object(15)\n",
      "memory usage: 1.2+ MB\n"
     ]
    }
   ],
   "source": [
    "data2016.info()\n",
    "logger.info(f\"2016 Dataset Metadata: {data2016.info()}\")"
   ]
  },
  {
   "cell_type": "markdown",
   "id": "d83855c8",
   "metadata": {
    "papermill": {
     "duration": 0.007133,
     "end_time": "2024-08-06T14:25:14.656875",
     "exception": false,
     "start_time": "2024-08-06T14:25:14.649742",
     "status": "completed"
    },
    "tags": []
   },
   "source": [
    "## Harmonize datasets\n"
   ]
  },
  {
   "cell_type": "code",
   "execution_count": 6,
   "id": "09489c14",
   "metadata": {
    "execution": {
     "iopub.execute_input": "2024-08-06T14:25:14.683711Z",
     "iopub.status.busy": "2024-08-06T14:25:14.683395Z",
     "iopub.status.idle": "2024-08-06T14:25:14.698704Z",
     "shell.execute_reply": "2024-08-06T14:25:14.698248Z"
    },
    "papermill": {
     "duration": 0.02785,
     "end_time": "2024-08-06T14:25:14.700117",
     "exception": false,
     "start_time": "2024-08-06T14:25:14.672267",
     "status": "completed"
    },
    "tags": []
   },
   "outputs": [
    {
     "name": "stderr",
     "output_type": "stream",
     "text": [
      "\u001b[32m2024-08-06 14:25:14.696\u001b[0m | \u001b[1mINFO    \u001b[0m | \u001b[36m__main__\u001b[0m:\u001b[36m<module>\u001b[0m:\u001b[36m1\u001b[0m - Starting alignment between 2015 and 2016 datasets\n"
     ]
    }
   ],
   "source": [
    "logger.info(\"Starting alignment between 2015 and 2016 datasets\")"
   ]
  },
  {
   "cell_type": "markdown",
   "id": "84932699",
   "metadata": {
    "papermill": {
     "duration": 0.004841,
     "end_time": "2024-08-06T14:25:14.709689",
     "exception": false,
     "start_time": "2024-08-06T14:25:14.704848",
     "status": "completed"
    },
    "tags": []
   },
   "source": [
    "The 2015 data is not aligned with 2016. Need to populate missing columns in one file vs the other. Let's re-arrange 2015\n"
   ]
  },
  {
   "cell_type": "code",
   "execution_count": 7,
   "id": "61485252",
   "metadata": {
    "execution": {
     "iopub.execute_input": "2024-08-06T14:25:14.720589Z",
     "iopub.status.busy": "2024-08-06T14:25:14.720196Z",
     "iopub.status.idle": "2024-08-06T14:25:14.736248Z",
     "shell.execute_reply": "2024-08-06T14:25:14.735814Z"
    },
    "papermill": {
     "duration": 0.022776,
     "end_time": "2024-08-06T14:25:14.737713",
     "exception": false,
     "start_time": "2024-08-06T14:25:14.714937",
     "status": "completed"
    },
    "tags": []
   },
   "outputs": [
    {
     "data": {
      "text/plain": [
       "{'2010 Census Tracts',\n",
       " 'City Council Districts',\n",
       " 'Comment',\n",
       " 'GHGEmissions(MetricTonsCO2e)',\n",
       " 'GHGEmissionsIntensity(kgCO2e/ft2)',\n",
       " 'Location',\n",
       " 'OtherFuelUse(kBtu)',\n",
       " 'SPD Beats',\n",
       " 'Seattle Police Department Micro Community Policing Plan Areas',\n",
       " 'Zip Codes'}"
      ]
     },
     "execution_count": 7,
     "metadata": {},
     "output_type": "execute_result"
    }
   ],
   "source": [
    "set(data2015) - set(data2016)"
   ]
  },
  {
   "cell_type": "code",
   "execution_count": 8,
   "id": "b605ad15",
   "metadata": {
    "execution": {
     "iopub.execute_input": "2024-08-06T14:25:14.747872Z",
     "iopub.status.busy": "2024-08-06T14:25:14.747636Z",
     "iopub.status.idle": "2024-08-06T14:25:14.761354Z",
     "shell.execute_reply": "2024-08-06T14:25:14.760934Z"
    },
    "papermill": {
     "duration": 0.020783,
     "end_time": "2024-08-06T14:25:14.762921",
     "exception": false,
     "start_time": "2024-08-06T14:25:14.742138",
     "status": "completed"
    },
    "tags": []
   },
   "outputs": [
    {
     "data": {
      "text/plain": [
       "{'Address',\n",
       " 'City',\n",
       " 'Comments',\n",
       " 'GHGEmissionsIntensity',\n",
       " 'Latitude',\n",
       " 'Longitude',\n",
       " 'State',\n",
       " 'TotalGHGEmissions',\n",
       " 'ZipCode'}"
      ]
     },
     "execution_count": 8,
     "metadata": {},
     "output_type": "execute_result"
    }
   ],
   "source": [
    "# 2016 missing in 2015\n",
    "set(data2016) - set(data2015)"
   ]
  },
  {
   "cell_type": "code",
   "execution_count": 9,
   "id": "70f07cdc",
   "metadata": {
    "execution": {
     "iopub.execute_input": "2024-08-06T14:25:14.774766Z",
     "iopub.status.busy": "2024-08-06T14:25:14.774392Z",
     "iopub.status.idle": "2024-08-06T14:25:14.791159Z",
     "shell.execute_reply": "2024-08-06T14:25:14.790362Z"
    },
    "papermill": {
     "duration": 0.025193,
     "end_time": "2024-08-06T14:25:14.793249",
     "exception": false,
     "start_time": "2024-08-06T14:25:14.768056",
     "status": "completed"
    },
    "tags": []
   },
   "outputs": [
    {
     "data": {
      "text/plain": [
       "{'latitude': '47.61310583',\n",
       " 'longitude': '-122.33335756',\n",
       " 'human_address': '{\"address\": \"724 PINE ST\", \"city\": \"SEATTLE\", \"state\": \"WA\", \"zip\": \"98101\"}'}"
      ]
     },
     "execution_count": 9,
     "metadata": {},
     "output_type": "execute_result"
    }
   ],
   "source": [
    "ast.literal_eval(data2015['Location'][1])"
   ]
  },
  {
   "cell_type": "code",
   "execution_count": 10,
   "id": "8b8da5e6",
   "metadata": {
    "execution": {
     "iopub.execute_input": "2024-08-06T14:25:14.804830Z",
     "iopub.status.busy": "2024-08-06T14:25:14.804607Z",
     "iopub.status.idle": "2024-08-06T14:25:15.520470Z",
     "shell.execute_reply": "2024-08-06T14:25:15.519953Z"
    },
    "papermill": {
     "duration": 0.723016,
     "end_time": "2024-08-06T14:25:15.522205",
     "exception": false,
     "start_time": "2024-08-06T14:25:14.799189",
     "status": "completed"
    },
    "tags": []
   },
   "outputs": [],
   "source": [
    "data2015['Latitude']=data2015['Location'].apply(lambda l : ast.literal_eval(l)['latitude'])\n",
    "data2015['Longitude']=data2015['Location'].apply(lambda l : ast.literal_eval(l)['longitude'])\n",
    "data2015['State']=data2015['Location'].apply(lambda l :  ast.literal_eval(ast.literal_eval(l)['human_address'])['state'])\n",
    "data2015['ZipCode']=data2015['Location'].apply(lambda l :  ast.literal_eval(ast.literal_eval(l)['human_address'])['zip'])\n",
    "data2015['City']=data2015['Location'].apply(lambda l :  ast.literal_eval(ast.literal_eval(l)['human_address'])['city'])\n",
    "data2015['Address']=data2015['Location'].apply(lambda l :  ast.literal_eval(ast.literal_eval(l)['human_address'])['address'])"
   ]
  },
  {
   "cell_type": "code",
   "execution_count": 11,
   "id": "d037f207",
   "metadata": {
    "execution": {
     "iopub.execute_input": "2024-08-06T14:25:15.534634Z",
     "iopub.status.busy": "2024-08-06T14:25:15.534397Z",
     "iopub.status.idle": "2024-08-06T14:25:15.549011Z",
     "shell.execute_reply": "2024-08-06T14:25:15.548550Z"
    },
    "papermill": {
     "duration": 0.022078,
     "end_time": "2024-08-06T14:25:15.550681",
     "exception": false,
     "start_time": "2024-08-06T14:25:15.528603",
     "status": "completed"
    },
    "tags": []
   },
   "outputs": [],
   "source": [
    "data2015['TotalGHGEmissions']=data2015['GHGEmissions(MetricTonsCO2e)']\n",
    "data2015['GHGEmissionsIntensity']=data2015['GHGEmissionsIntensity(kgCO2e/ft2)']"
   ]
  },
  {
   "cell_type": "code",
   "execution_count": 12,
   "id": "0a2bf49d",
   "metadata": {
    "execution": {
     "iopub.execute_input": "2024-08-06T14:25:15.564178Z",
     "iopub.status.busy": "2024-08-06T14:25:15.563512Z",
     "iopub.status.idle": "2024-08-06T14:25:15.578352Z",
     "shell.execute_reply": "2024-08-06T14:25:15.577183Z"
    },
    "papermill": {
     "duration": 0.024393,
     "end_time": "2024-08-06T14:25:15.580062",
     "exception": false,
     "start_time": "2024-08-06T14:25:15.555669",
     "status": "completed"
    },
    "tags": []
   },
   "outputs": [
    {
     "data": {
      "text/plain": [
       "{'2010 Census Tracts',\n",
       " 'City Council Districts',\n",
       " 'Comment',\n",
       " 'GHGEmissions(MetricTonsCO2e)',\n",
       " 'GHGEmissionsIntensity(kgCO2e/ft2)',\n",
       " 'Location',\n",
       " 'OtherFuelUse(kBtu)',\n",
       " 'SPD Beats',\n",
       " 'Seattle Police Department Micro Community Policing Plan Areas',\n",
       " 'Zip Codes'}"
      ]
     },
     "execution_count": 12,
     "metadata": {},
     "output_type": "execute_result"
    }
   ],
   "source": [
    "# 2015 and 2016 now aligned and ready to be combined\n",
    "set(data2015) - set(data2016)"
   ]
  },
  {
   "cell_type": "code",
   "execution_count": 13,
   "id": "b3df39a8",
   "metadata": {
    "execution": {
     "iopub.execute_input": "2024-08-06T14:25:15.590193Z",
     "iopub.status.busy": "2024-08-06T14:25:15.589975Z",
     "iopub.status.idle": "2024-08-06T14:25:15.604149Z",
     "shell.execute_reply": "2024-08-06T14:25:15.603721Z"
    },
    "papermill": {
     "duration": 0.020745,
     "end_time": "2024-08-06T14:25:15.605481",
     "exception": false,
     "start_time": "2024-08-06T14:25:15.584736",
     "status": "completed"
    },
    "tags": []
   },
   "outputs": [
    {
     "data": {
      "text/plain": [
       "{'Comments'}"
      ]
     },
     "execution_count": 13,
     "metadata": {},
     "output_type": "execute_result"
    }
   ],
   "source": [
    "set(data2016) - set(data2015)"
   ]
  },
  {
   "cell_type": "markdown",
   "id": "0707a377",
   "metadata": {
    "papermill": {
     "duration": 0.005661,
     "end_time": "2024-08-06T14:25:15.616058",
     "exception": false,
     "start_time": "2024-08-06T14:25:15.610397",
     "status": "completed"
    },
    "tags": []
   },
   "source": [
    "Some columns are only available in the 2015 dataset. Some of them do not provide useful information and the others are largely incomplete. We are going to drop them in order to have a perfectly harmonized dataset.\n"
   ]
  },
  {
   "cell_type": "code",
   "execution_count": 14,
   "id": "9e2c809a",
   "metadata": {
    "execution": {
     "iopub.execute_input": "2024-08-06T14:25:15.626259Z",
     "iopub.status.busy": "2024-08-06T14:25:15.626021Z",
     "iopub.status.idle": "2024-08-06T14:25:15.642321Z",
     "shell.execute_reply": "2024-08-06T14:25:15.641775Z"
    },
    "papermill": {
     "duration": 0.023539,
     "end_time": "2024-08-06T14:25:15.644069",
     "exception": false,
     "start_time": "2024-08-06T14:25:15.620530",
     "status": "completed"
    },
    "tags": []
   },
   "outputs": [],
   "source": [
    "data2015.drop(['Location','GHGEmissions(MetricTonsCO2e)','GHGEmissionsIntensity(kgCO2e/ft2)', 'SPD Beats','Seattle Police Department Micro Community Policing Plan Areas',\n",
    "               'Zip Codes','OtherFuelUse(kBtu)','2010 Census Tracts','City Council Districts', 'Comment'], axis='columns', inplace=True)"
   ]
  },
  {
   "cell_type": "code",
   "execution_count": 15,
   "id": "af3ba142",
   "metadata": {
    "execution": {
     "iopub.execute_input": "2024-08-06T14:25:15.655836Z",
     "iopub.status.busy": "2024-08-06T14:25:15.655597Z",
     "iopub.status.idle": "2024-08-06T14:25:15.670947Z",
     "shell.execute_reply": "2024-08-06T14:25:15.670504Z"
    },
    "papermill": {
     "duration": 0.022367,
     "end_time": "2024-08-06T14:25:15.672451",
     "exception": false,
     "start_time": "2024-08-06T14:25:15.650084",
     "status": "completed"
    },
    "tags": []
   },
   "outputs": [],
   "source": [
    "data2016.drop(['Comments'], axis='columns', inplace=True)"
   ]
  },
  {
   "cell_type": "markdown",
   "id": "111458c4",
   "metadata": {
    "papermill": {
     "duration": 0.005291,
     "end_time": "2024-08-06T14:25:15.683069",
     "exception": false,
     "start_time": "2024-08-06T14:25:15.677778",
     "status": "completed"
    },
    "tags": []
   },
   "source": [
    "### Align data types between the 2 files\n"
   ]
  },
  {
   "cell_type": "code",
   "execution_count": 16,
   "id": "e8b798ea",
   "metadata": {
    "execution": {
     "iopub.execute_input": "2024-08-06T14:25:15.695893Z",
     "iopub.status.busy": "2024-08-06T14:25:15.695310Z",
     "iopub.status.idle": "2024-08-06T14:25:15.723724Z",
     "shell.execute_reply": "2024-08-06T14:25:15.723285Z"
    },
    "papermill": {
     "duration": 0.036227,
     "end_time": "2024-08-06T14:25:15.725174",
     "exception": false,
     "start_time": "2024-08-06T14:25:15.688947",
     "status": "completed"
    },
    "tags": []
   },
   "outputs": [
    {
     "data": {
      "text/html": [
       "<div>\n",
       "<style scoped>\n",
       "    .dataframe tbody tr th:only-of-type {\n",
       "        vertical-align: middle;\n",
       "    }\n",
       "\n",
       "    .dataframe tbody tr th {\n",
       "        vertical-align: top;\n",
       "    }\n",
       "\n",
       "    .dataframe thead th {\n",
       "        text-align: right;\n",
       "    }\n",
       "</style>\n",
       "<table border=\"1\" class=\"dataframe\">\n",
       "  <thead>\n",
       "    <tr style=\"text-align: right;\">\n",
       "      <th></th>\n",
       "      <th>OSEBuildingID</th>\n",
       "      <th>DataYear</th>\n",
       "      <th>BuildingType</th>\n",
       "      <th>PrimaryPropertyType</th>\n",
       "      <th>PropertyName</th>\n",
       "      <th>TaxParcelIdentificationNumber</th>\n",
       "      <th>CouncilDistrictCode</th>\n",
       "      <th>Neighborhood</th>\n",
       "      <th>YearBuilt</th>\n",
       "      <th>NumberofBuildings</th>\n",
       "      <th>NumberofFloors</th>\n",
       "      <th>PropertyGFATotal</th>\n",
       "      <th>PropertyGFAParking</th>\n",
       "      <th>PropertyGFABuilding(s)</th>\n",
       "      <th>ListOfAllPropertyUseTypes</th>\n",
       "      <th>LargestPropertyUseType</th>\n",
       "      <th>LargestPropertyUseTypeGFA</th>\n",
       "      <th>SecondLargestPropertyUseType</th>\n",
       "      <th>SecondLargestPropertyUseTypeGFA</th>\n",
       "      <th>ThirdLargestPropertyUseType</th>\n",
       "      <th>ThirdLargestPropertyUseTypeGFA</th>\n",
       "      <th>YearsENERGYSTARCertified</th>\n",
       "      <th>ENERGYSTARScore</th>\n",
       "      <th>SiteEUI(kBtu/sf)</th>\n",
       "      <th>SiteEUIWN(kBtu/sf)</th>\n",
       "      <th>SourceEUI(kBtu/sf)</th>\n",
       "      <th>SourceEUIWN(kBtu/sf)</th>\n",
       "      <th>SiteEnergyUse(kBtu)</th>\n",
       "      <th>SiteEnergyUseWN(kBtu)</th>\n",
       "      <th>SteamUse(kBtu)</th>\n",
       "      <th>Electricity(kWh)</th>\n",
       "      <th>Electricity(kBtu)</th>\n",
       "      <th>NaturalGas(therms)</th>\n",
       "      <th>NaturalGas(kBtu)</th>\n",
       "      <th>DefaultData</th>\n",
       "      <th>ComplianceStatus</th>\n",
       "      <th>Outlier</th>\n",
       "      <th>Latitude</th>\n",
       "      <th>Longitude</th>\n",
       "      <th>State</th>\n",
       "      <th>ZipCode</th>\n",
       "      <th>City</th>\n",
       "      <th>Address</th>\n",
       "      <th>TotalGHGEmissions</th>\n",
       "      <th>GHGEmissionsIntensity</th>\n",
       "    </tr>\n",
       "  </thead>\n",
       "  <tbody>\n",
       "    <tr>\n",
       "      <th>0</th>\n",
       "      <td>int64</td>\n",
       "      <td>int64</td>\n",
       "      <td>object</td>\n",
       "      <td>object</td>\n",
       "      <td>object</td>\n",
       "      <td>object</td>\n",
       "      <td>int64</td>\n",
       "      <td>object</td>\n",
       "      <td>int64</td>\n",
       "      <td>int64</td>\n",
       "      <td>float64</td>\n",
       "      <td>int64</td>\n",
       "      <td>int64</td>\n",
       "      <td>int64</td>\n",
       "      <td>object</td>\n",
       "      <td>object</td>\n",
       "      <td>float64</td>\n",
       "      <td>object</td>\n",
       "      <td>float64</td>\n",
       "      <td>object</td>\n",
       "      <td>float64</td>\n",
       "      <td>object</td>\n",
       "      <td>float64</td>\n",
       "      <td>float64</td>\n",
       "      <td>float64</td>\n",
       "      <td>float64</td>\n",
       "      <td>float64</td>\n",
       "      <td>float64</td>\n",
       "      <td>float64</td>\n",
       "      <td>float64</td>\n",
       "      <td>float64</td>\n",
       "      <td>float64</td>\n",
       "      <td>float64</td>\n",
       "      <td>float64</td>\n",
       "      <td>object</td>\n",
       "      <td>object</td>\n",
       "      <td>object</td>\n",
       "      <td>object</td>\n",
       "      <td>object</td>\n",
       "      <td>object</td>\n",
       "      <td>object</td>\n",
       "      <td>object</td>\n",
       "      <td>object</td>\n",
       "      <td>float64</td>\n",
       "      <td>float64</td>\n",
       "    </tr>\n",
       "    <tr>\n",
       "      <th>1</th>\n",
       "      <td>int64</td>\n",
       "      <td>int64</td>\n",
       "      <td>object</td>\n",
       "      <td>object</td>\n",
       "      <td>object</td>\n",
       "      <td>object</td>\n",
       "      <td>int64</td>\n",
       "      <td>object</td>\n",
       "      <td>int64</td>\n",
       "      <td>float64</td>\n",
       "      <td>int64</td>\n",
       "      <td>int64</td>\n",
       "      <td>int64</td>\n",
       "      <td>int64</td>\n",
       "      <td>object</td>\n",
       "      <td>object</td>\n",
       "      <td>float64</td>\n",
       "      <td>object</td>\n",
       "      <td>float64</td>\n",
       "      <td>object</td>\n",
       "      <td>float64</td>\n",
       "      <td>object</td>\n",
       "      <td>float64</td>\n",
       "      <td>float64</td>\n",
       "      <td>float64</td>\n",
       "      <td>float64</td>\n",
       "      <td>float64</td>\n",
       "      <td>float64</td>\n",
       "      <td>float64</td>\n",
       "      <td>float64</td>\n",
       "      <td>float64</td>\n",
       "      <td>float64</td>\n",
       "      <td>float64</td>\n",
       "      <td>float64</td>\n",
       "      <td>bool</td>\n",
       "      <td>object</td>\n",
       "      <td>object</td>\n",
       "      <td>float64</td>\n",
       "      <td>float64</td>\n",
       "      <td>object</td>\n",
       "      <td>float64</td>\n",
       "      <td>object</td>\n",
       "      <td>object</td>\n",
       "      <td>float64</td>\n",
       "      <td>float64</td>\n",
       "    </tr>\n",
       "  </tbody>\n",
       "</table>\n",
       "</div>"
      ],
      "text/plain": [
       "  OSEBuildingID DataYear BuildingType PrimaryPropertyType PropertyName  \\\n",
       "0         int64    int64       object              object       object   \n",
       "1         int64    int64       object              object       object   \n",
       "\n",
       "  TaxParcelIdentificationNumber CouncilDistrictCode Neighborhood YearBuilt  \\\n",
       "0                        object               int64       object     int64   \n",
       "1                        object               int64       object     int64   \n",
       "\n",
       "  NumberofBuildings NumberofFloors PropertyGFATotal PropertyGFAParking  \\\n",
       "0             int64        float64            int64              int64   \n",
       "1           float64          int64            int64              int64   \n",
       "\n",
       "  PropertyGFABuilding(s) ListOfAllPropertyUseTypes LargestPropertyUseType  \\\n",
       "0                  int64                    object                 object   \n",
       "1                  int64                    object                 object   \n",
       "\n",
       "  LargestPropertyUseTypeGFA SecondLargestPropertyUseType  \\\n",
       "0                   float64                       object   \n",
       "1                   float64                       object   \n",
       "\n",
       "  SecondLargestPropertyUseTypeGFA ThirdLargestPropertyUseType  \\\n",
       "0                         float64                      object   \n",
       "1                         float64                      object   \n",
       "\n",
       "  ThirdLargestPropertyUseTypeGFA YearsENERGYSTARCertified ENERGYSTARScore  \\\n",
       "0                        float64                   object         float64   \n",
       "1                        float64                   object         float64   \n",
       "\n",
       "  SiteEUI(kBtu/sf) SiteEUIWN(kBtu/sf) SourceEUI(kBtu/sf) SourceEUIWN(kBtu/sf)  \\\n",
       "0          float64            float64            float64              float64   \n",
       "1          float64            float64            float64              float64   \n",
       "\n",
       "  SiteEnergyUse(kBtu) SiteEnergyUseWN(kBtu) SteamUse(kBtu) Electricity(kWh)  \\\n",
       "0             float64               float64        float64          float64   \n",
       "1             float64               float64        float64          float64   \n",
       "\n",
       "  Electricity(kBtu) NaturalGas(therms) NaturalGas(kBtu) DefaultData  \\\n",
       "0           float64            float64          float64      object   \n",
       "1           float64            float64          float64        bool   \n",
       "\n",
       "  ComplianceStatus Outlier Latitude Longitude   State  ZipCode    City  \\\n",
       "0           object  object   object    object  object   object  object   \n",
       "1           object  object  float64   float64  object  float64  object   \n",
       "\n",
       "  Address TotalGHGEmissions GHGEmissionsIntensity  \n",
       "0  object           float64               float64  \n",
       "1  object           float64               float64  "
      ]
     },
     "execution_count": 16,
     "metadata": {},
     "output_type": "execute_result"
    }
   ],
   "source": [
    "pd.DataFrame([data2015.dtypes,data2016.dtypes])"
   ]
  },
  {
   "cell_type": "code",
   "execution_count": 17,
   "id": "e1fa8e32",
   "metadata": {
    "execution": {
     "iopub.execute_input": "2024-08-06T14:25:15.736758Z",
     "iopub.status.busy": "2024-08-06T14:25:15.736544Z",
     "iopub.status.idle": "2024-08-06T14:25:15.754842Z",
     "shell.execute_reply": "2024-08-06T14:25:15.754411Z"
    },
    "papermill": {
     "duration": 0.02581,
     "end_time": "2024-08-06T14:25:15.756452",
     "exception": false,
     "start_time": "2024-08-06T14:25:15.730642",
     "status": "completed"
    },
    "tags": []
   },
   "outputs": [],
   "source": [
    "data2015[['Latitude','Longitude','ZipCode']]=data2015[['Latitude','Longitude','ZipCode']].astype('float64')"
   ]
  },
  {
   "cell_type": "code",
   "execution_count": 18,
   "id": "54816b1c",
   "metadata": {
    "execution": {
     "iopub.execute_input": "2024-08-06T14:25:15.767902Z",
     "iopub.status.busy": "2024-08-06T14:25:15.767680Z",
     "iopub.status.idle": "2024-08-06T14:25:15.783013Z",
     "shell.execute_reply": "2024-08-06T14:25:15.782558Z"
    },
    "papermill": {
     "duration": 0.022982,
     "end_time": "2024-08-06T14:25:15.784499",
     "exception": false,
     "start_time": "2024-08-06T14:25:15.761517",
     "status": "completed"
    },
    "tags": []
   },
   "outputs": [],
   "source": [
    "data2015['DefaultData'] = data2015['DefaultData'].map({'Yes' : True, 'No' : False}).head()"
   ]
  },
  {
   "cell_type": "markdown",
   "id": "1e803711",
   "metadata": {
    "papermill": {
     "duration": 0.006037,
     "end_time": "2024-08-06T14:25:15.795975",
     "exception": false,
     "start_time": "2024-08-06T14:25:15.789938",
     "status": "completed"
    },
    "tags": []
   },
   "source": [
    "### Combine the 2 datasets\n"
   ]
  },
  {
   "cell_type": "code",
   "execution_count": 19,
   "id": "48ba91ab",
   "metadata": {
    "execution": {
     "iopub.execute_input": "2024-08-06T14:25:15.808963Z",
     "iopub.status.busy": "2024-08-06T14:25:15.808724Z",
     "iopub.status.idle": "2024-08-06T14:25:15.826073Z",
     "shell.execute_reply": "2024-08-06T14:25:15.825560Z"
    },
    "papermill": {
     "duration": 0.025309,
     "end_time": "2024-08-06T14:25:15.827797",
     "exception": false,
     "start_time": "2024-08-06T14:25:15.802488",
     "status": "completed"
    },
    "tags": []
   },
   "outputs": [],
   "source": [
    "data = pd.concat([data2015,data2016], axis=0, ignore_index=True)"
   ]
  },
  {
   "cell_type": "code",
   "execution_count": 20,
   "id": "5de6695c",
   "metadata": {
    "execution": {
     "iopub.execute_input": "2024-08-06T14:25:15.839456Z",
     "iopub.status.busy": "2024-08-06T14:25:15.839225Z",
     "iopub.status.idle": "2024-08-06T14:25:15.869172Z",
     "shell.execute_reply": "2024-08-06T14:25:15.868626Z"
    },
    "papermill": {
     "duration": 0.037135,
     "end_time": "2024-08-06T14:25:15.870539",
     "exception": false,
     "start_time": "2024-08-06T14:25:15.833404",
     "status": "completed"
    },
    "tags": []
   },
   "outputs": [
    {
     "name": "stdout",
     "output_type": "stream",
     "text": [
      "<class 'pandas.core.frame.DataFrame'>\n",
      "RangeIndex: 6716 entries, 0 to 6715\n",
      "Data columns (total 45 columns):\n",
      " #   Column                           Non-Null Count  Dtype  \n",
      "---  ------                           --------------  -----  \n",
      " 0   OSEBuildingID                    6716 non-null   int64  \n",
      " 1   DataYear                         6716 non-null   int64  \n",
      " 2   BuildingType                     6716 non-null   object \n",
      " 3   PrimaryPropertyType              6716 non-null   object \n",
      " 4   PropertyName                     6716 non-null   object \n",
      " 5   TaxParcelIdentificationNumber    6714 non-null   object \n",
      " 6   CouncilDistrictCode              6716 non-null   int64  \n",
      " 7   Neighborhood                     6716 non-null   object \n",
      " 8   YearBuilt                        6716 non-null   int64  \n",
      " 9   NumberofBuildings                6708 non-null   float64\n",
      " 10  NumberofFloors                   6708 non-null   float64\n",
      " 11  PropertyGFATotal                 6716 non-null   int64  \n",
      " 12  PropertyGFAParking               6716 non-null   int64  \n",
      " 13  PropertyGFABuilding(s)           6716 non-null   int64  \n",
      " 14  ListOfAllPropertyUseTypes        6580 non-null   object \n",
      " 15  LargestPropertyUseType           6560 non-null   object \n",
      " 16  LargestPropertyUseTypeGFA        6560 non-null   float64\n",
      " 17  SecondLargestPropertyUseType     3238 non-null   object \n",
      " 18  SecondLargestPropertyUseTypeGFA  3238 non-null   float64\n",
      " 19  ThirdLargestPropertyUseType      1156 non-null   object \n",
      " 20  ThirdLargestPropertyUseTypeGFA   1156 non-null   float64\n",
      " 21  YearsENERGYSTARCertified         229 non-null    object \n",
      " 22  ENERGYSTARScore                  5093 non-null   float64\n",
      " 23  SiteEUI(kBtu/sf)                 6699 non-null   float64\n",
      " 24  SiteEUIWN(kBtu/sf)               6700 non-null   float64\n",
      " 25  SourceEUI(kBtu/sf)               6697 non-null   float64\n",
      " 26  SourceEUIWN(kBtu/sf)             6697 non-null   float64\n",
      " 27  SiteEnergyUse(kBtu)              6701 non-null   float64\n",
      " 28  SiteEnergyUseWN(kBtu)            6700 non-null   float64\n",
      " 29  SteamUse(kBtu)                   6697 non-null   float64\n",
      " 30  Electricity(kWh)                 6697 non-null   float64\n",
      " 31  Electricity(kBtu)                6697 non-null   float64\n",
      " 32  NaturalGas(therms)               6697 non-null   float64\n",
      " 33  NaturalGas(kBtu)                 6697 non-null   float64\n",
      " 34  DefaultData                      3381 non-null   object \n",
      " 35  ComplianceStatus                 6716 non-null   object \n",
      " 36  Outlier                          116 non-null    object \n",
      " 37  Latitude                         6716 non-null   float64\n",
      " 38  Longitude                        6716 non-null   float64\n",
      " 39  State                            6716 non-null   object \n",
      " 40  ZipCode                          6700 non-null   float64\n",
      " 41  City                             6716 non-null   object \n",
      " 42  Address                          6716 non-null   object \n",
      " 43  TotalGHGEmissions                6697 non-null   float64\n",
      " 44  GHGEmissionsIntensity            6697 non-null   float64\n",
      "dtypes: float64(22), int64(7), object(16)\n",
      "memory usage: 2.3+ MB\n"
     ]
    }
   ],
   "source": [
    "# Columns \n",
    "data.info()"
   ]
  },
  {
   "cell_type": "markdown",
   "id": "e33eb8be",
   "metadata": {
    "papermill": {
     "duration": 0.005436,
     "end_time": "2024-08-06T14:25:15.881285",
     "exception": false,
     "start_time": "2024-08-06T14:25:15.875849",
     "status": "completed"
    },
    "tags": []
   },
   "source": [
    "### Harmonize values\n"
   ]
  },
  {
   "cell_type": "code",
   "execution_count": 21,
   "id": "c2e27d15",
   "metadata": {
    "execution": {
     "iopub.execute_input": "2024-08-06T14:25:15.892578Z",
     "iopub.status.busy": "2024-08-06T14:25:15.892343Z",
     "iopub.status.idle": "2024-08-06T14:25:15.930800Z",
     "shell.execute_reply": "2024-08-06T14:25:15.930326Z"
    },
    "papermill": {
     "duration": 0.046057,
     "end_time": "2024-08-06T14:25:15.932257",
     "exception": false,
     "start_time": "2024-08-06T14:25:15.886200",
     "status": "completed"
    },
    "tags": []
   },
   "outputs": [
    {
     "name": "stdout",
     "output_type": "stream",
     "text": [
      "OSEBuildingID -------> 3432\n",
      "DataYear -------> [2015 2016]\n",
      "BuildingType -------> ['NonResidential' 'Nonresidential COS' 'Multifamily MR (5-9)'\n",
      " 'SPS-District K-12' 'Multifamily LR (1-4)' 'Campus'\n",
      " 'Multifamily HR (10+)' 'Nonresidential WA']\n",
      "PrimaryPropertyType -------> 32\n",
      "PropertyName -------> 6527\n",
      "TaxParcelIdentificationNumber -------> 3729\n",
      "CouncilDistrictCode -------> [7 3 2 4 5 6 1]\n",
      "Neighborhood -------> ['DOWNTOWN' 'SOUTHEAST' 'NORTHEAST' 'EAST' 'CENTRAL' 'NORTH'\n",
      " 'MAGNOLIA / QUEEN ANNE' 'LAKE UNION' 'GREATER DUWAMISH' 'BALLARD'\n",
      " 'NORTHWEST' 'SOUTHWEST' 'DELRIDGE' 'Central' 'Ballard' 'North' 'Delridge'\n",
      " 'Northwest' 'DELRIDGE NEIGHBORHOODS']\n",
      "YearBuilt -------> 113\n",
      "NumberofBuildings -------> [  1.   7.  11.  16.   4.   3.  39.   2.  10.   6.   0.  27.  14.   9.\n",
      "   5.  nan   8.  23. 111.]\n",
      "NumberofFloors -------> 50\n",
      "PropertyGFATotal -------> 3297\n",
      "PropertyGFAParking -------> 960\n",
      "PropertyGFABuilding(s) -------> 3726\n",
      "ListOfAllPropertyUseTypes -------> 488\n",
      "LargestPropertyUseType -------> 57\n",
      "LargestPropertyUseTypeGFA -------> 3332\n",
      "SecondLargestPropertyUseType -------> 50\n",
      "SecondLargestPropertyUseTypeGFA -------> 1434\n",
      "ThirdLargestPropertyUseType -------> 45\n",
      "ThirdLargestPropertyUseTypeGFA -------> 531\n",
      "YearsENERGYSTARCertified -------> 116\n",
      "ENERGYSTARScore -------> 100\n",
      "SiteEUI(kBtu/sf) -------> 2020\n",
      "SiteEUIWN(kBtu/sf) -------> 2065\n",
      "SourceEUI(kBtu/sf) -------> 3137\n",
      "SourceEUIWN(kBtu/sf) -------> 3191\n",
      "SiteEnergyUse(kBtu) -------> 6679\n",
      "SiteEnergyUseWN(kBtu) -------> 6659\n",
      "SteamUse(kBtu) -------> 261\n",
      "Electricity(kWh) -------> 6677\n",
      "Electricity(kBtu) -------> 6678\n",
      "NaturalGas(therms) -------> 4101\n",
      "NaturalGas(kBtu) -------> 4181\n",
      "DefaultData -------> [False True nan]\n",
      "ComplianceStatus -------> ['Compliant' 'Not Compliant' 'Error - Correct Default Data' 'Missing Data'\n",
      " 'Non-Compliant']\n",
      "Outlier -------> [nan 'High Outlier' 'Low Outlier' 'High outlier' 'Low outlier']\n",
      "Latitude -------> 6111\n",
      "Longitude -------> 5863\n",
      "State -------> ['WA']\n",
      "ZipCode -------> 55\n",
      "City -------> ['SEATTLE' 'Seattle']\n",
      "Address -------> 6379\n",
      "TotalGHGEmissions -------> 4924\n",
      "GHGEmissionsIntensity -------> 612\n"
     ]
    }
   ],
   "source": [
    "for key in list(data.keys()):\n",
    "    if data[key].nunique()<20:\n",
    "        print(key,'------->', data[key].unique())\n",
    "    else:\n",
    "        print(key, '------->',data[key].nunique())"
   ]
  },
  {
   "cell_type": "code",
   "execution_count": 22,
   "id": "d1be3cc9",
   "metadata": {
    "execution": {
     "iopub.execute_input": "2024-08-06T14:25:15.947063Z",
     "iopub.status.busy": "2024-08-06T14:25:15.946561Z",
     "iopub.status.idle": "2024-08-06T14:25:15.963192Z",
     "shell.execute_reply": "2024-08-06T14:25:15.962703Z"
    },
    "papermill": {
     "duration": 0.02658,
     "end_time": "2024-08-06T14:25:15.964677",
     "exception": false,
     "start_time": "2024-08-06T14:25:15.938097",
     "status": "completed"
    },
    "tags": []
   },
   "outputs": [],
   "source": [
    "data['Neighborhood'].replace('Delridge', 'DELRIDGE', inplace=True)\n",
    "data['Neighborhood'].replace('DELRIDGE NEIGHBORHOODS', 'DELRIDGE', inplace=True)\n",
    "data['Neighborhood'].replace('North', 'NORTH', inplace=True)\n",
    "data['Neighborhood'].replace('Northwest', 'NORTHWEST', inplace=True)\n",
    "data['Neighborhood'].replace('Central', 'CENTRAL', inplace=True)\n",
    "data['Neighborhood'].replace('Ballard', 'BALLARD', inplace=True)"
   ]
  },
  {
   "cell_type": "code",
   "execution_count": 23,
   "id": "3d2d2382",
   "metadata": {
    "execution": {
     "iopub.execute_input": "2024-08-06T14:25:15.977192Z",
     "iopub.status.busy": "2024-08-06T14:25:15.976664Z",
     "iopub.status.idle": "2024-08-06T14:25:15.991380Z",
     "shell.execute_reply": "2024-08-06T14:25:15.990872Z"
    },
    "papermill": {
     "duration": 0.02333,
     "end_time": "2024-08-06T14:25:15.993309",
     "exception": false,
     "start_time": "2024-08-06T14:25:15.969979",
     "status": "completed"
    },
    "tags": []
   },
   "outputs": [],
   "source": [
    "data['City'].replace('SEATTLE', 'Seattle', inplace=True)\n",
    "data['ComplianceStatus'].replace('Not Compliant', 'Non-Compliant', inplace=True)"
   ]
  },
  {
   "cell_type": "code",
   "execution_count": 24,
   "id": "57e51416",
   "metadata": {
    "execution": {
     "iopub.execute_input": "2024-08-06T14:25:16.005904Z",
     "iopub.status.busy": "2024-08-06T14:25:16.005581Z",
     "iopub.status.idle": "2024-08-06T14:25:16.020371Z",
     "shell.execute_reply": "2024-08-06T14:25:16.019942Z"
    },
    "papermill": {
     "duration": 0.022479,
     "end_time": "2024-08-06T14:25:16.021859",
     "exception": false,
     "start_time": "2024-08-06T14:25:15.999380",
     "status": "completed"
    },
    "tags": []
   },
   "outputs": [
    {
     "name": "stderr",
     "output_type": "stream",
     "text": [
      "\u001b[32m2024-08-06 14:25:16.018\u001b[0m | \u001b[1mINFO    \u001b[0m | \u001b[36m__main__\u001b[0m:\u001b[36m<module>\u001b[0m:\u001b[36m1\u001b[0m - Alignment Operations done !\n"
     ]
    }
   ],
   "source": [
    "logger.info(\"Alignment Operations done !\")"
   ]
  },
  {
   "cell_type": "code",
   "execution_count": 25,
   "id": "d45fcb69",
   "metadata": {
    "execution": {
     "iopub.execute_input": "2024-08-06T14:25:16.035557Z",
     "iopub.status.busy": "2024-08-06T14:25:16.035319Z",
     "iopub.status.idle": "2024-08-06T14:25:16.134315Z",
     "shell.execute_reply": "2024-08-06T14:25:16.133689Z"
    },
    "papermill": {
     "duration": 0.1081,
     "end_time": "2024-08-06T14:25:16.136172",
     "exception": false,
     "start_time": "2024-08-06T14:25:16.028072",
     "status": "completed"
    },
    "tags": []
   },
   "outputs": [
    {
     "data": {
      "text/html": [
       "<div>\n",
       "<style scoped>\n",
       "    .dataframe tbody tr th:only-of-type {\n",
       "        vertical-align: middle;\n",
       "    }\n",
       "\n",
       "    .dataframe tbody tr th {\n",
       "        vertical-align: top;\n",
       "    }\n",
       "\n",
       "    .dataframe thead th {\n",
       "        text-align: right;\n",
       "    }\n",
       "</style>\n",
       "<table border=\"1\" class=\"dataframe\">\n",
       "  <thead>\n",
       "    <tr style=\"text-align: right;\">\n",
       "      <th></th>\n",
       "      <th>OSEBuildingID</th>\n",
       "      <th>DataYear</th>\n",
       "      <th>CouncilDistrictCode</th>\n",
       "      <th>YearBuilt</th>\n",
       "      <th>NumberofBuildings</th>\n",
       "      <th>NumberofFloors</th>\n",
       "      <th>PropertyGFATotal</th>\n",
       "      <th>PropertyGFAParking</th>\n",
       "      <th>PropertyGFABuilding(s)</th>\n",
       "      <th>LargestPropertyUseTypeGFA</th>\n",
       "      <th>SecondLargestPropertyUseTypeGFA</th>\n",
       "      <th>ThirdLargestPropertyUseTypeGFA</th>\n",
       "      <th>ENERGYSTARScore</th>\n",
       "      <th>SiteEUI(kBtu/sf)</th>\n",
       "      <th>SiteEUIWN(kBtu/sf)</th>\n",
       "      <th>SourceEUI(kBtu/sf)</th>\n",
       "      <th>SourceEUIWN(kBtu/sf)</th>\n",
       "      <th>SiteEnergyUse(kBtu)</th>\n",
       "      <th>SiteEnergyUseWN(kBtu)</th>\n",
       "      <th>SteamUse(kBtu)</th>\n",
       "      <th>Electricity(kWh)</th>\n",
       "      <th>Electricity(kBtu)</th>\n",
       "      <th>NaturalGas(therms)</th>\n",
       "      <th>NaturalGas(kBtu)</th>\n",
       "      <th>Latitude</th>\n",
       "      <th>Longitude</th>\n",
       "      <th>ZipCode</th>\n",
       "      <th>TotalGHGEmissions</th>\n",
       "      <th>GHGEmissionsIntensity</th>\n",
       "    </tr>\n",
       "  </thead>\n",
       "  <tbody>\n",
       "    <tr>\n",
       "      <th>count</th>\n",
       "      <td>6716.000000</td>\n",
       "      <td>6716.00000</td>\n",
       "      <td>6716.000000</td>\n",
       "      <td>6716.000000</td>\n",
       "      <td>6708.000000</td>\n",
       "      <td>6708.000000</td>\n",
       "      <td>6.716000e+03</td>\n",
       "      <td>6716.000000</td>\n",
       "      <td>6.716000e+03</td>\n",
       "      <td>6.560000e+03</td>\n",
       "      <td>3238.000000</td>\n",
       "      <td>1156.000000</td>\n",
       "      <td>5093.000000</td>\n",
       "      <td>6699.000000</td>\n",
       "      <td>6700.000000</td>\n",
       "      <td>6697.000000</td>\n",
       "      <td>6697.000000</td>\n",
       "      <td>6.701000e+03</td>\n",
       "      <td>6.700000e+03</td>\n",
       "      <td>6.697000e+03</td>\n",
       "      <td>6.697000e+03</td>\n",
       "      <td>6.697000e+03</td>\n",
       "      <td>6.697000e+03</td>\n",
       "      <td>6.697000e+03</td>\n",
       "      <td>6716.000000</td>\n",
       "      <td>6716.000000</td>\n",
       "      <td>6700.000000</td>\n",
       "      <td>6697.000000</td>\n",
       "      <td>6697.000000</td>\n",
       "    </tr>\n",
       "    <tr>\n",
       "      <th>mean</th>\n",
       "      <td>20867.420488</td>\n",
       "      <td>2015.50268</td>\n",
       "      <td>4.445057</td>\n",
       "      <td>1968.101549</td>\n",
       "      <td>1.071407</td>\n",
       "      <td>4.695736</td>\n",
       "      <td>9.281410e+04</td>\n",
       "      <td>9519.597975</td>\n",
       "      <td>8.329450e+04</td>\n",
       "      <td>7.707936e+04</td>\n",
       "      <td>28074.100153</td>\n",
       "      <td>11262.497750</td>\n",
       "      <td>67.906342</td>\n",
       "      <td>54.182341</td>\n",
       "      <td>57.308522</td>\n",
       "      <td>133.510303</td>\n",
       "      <td>138.356802</td>\n",
       "      <td>5.194673e+06</td>\n",
       "      <td>5.240110e+06</td>\n",
       "      <td>2.625076e+05</td>\n",
       "      <td>1.052458e+06</td>\n",
       "      <td>3.591058e+06</td>\n",
       "      <td>1.311223e+04</td>\n",
       "      <td>1.311223e+06</td>\n",
       "      <td>47.624062</td>\n",
       "      <td>-122.334904</td>\n",
       "      <td>98116.843582</td>\n",
       "      <td>114.935638</td>\n",
       "      <td>1.081154</td>\n",
       "    </tr>\n",
       "    <tr>\n",
       "      <th>std</th>\n",
       "      <td>11878.968174</td>\n",
       "      <td>0.50003</td>\n",
       "      <td>2.123749</td>\n",
       "      <td>33.020391</td>\n",
       "      <td>1.593505</td>\n",
       "      <td>5.476218</td>\n",
       "      <td>1.875062e+05</td>\n",
       "      <td>33868.050881</td>\n",
       "      <td>1.733470e+05</td>\n",
       "      <td>1.681617e+05</td>\n",
       "      <td>53473.984688</td>\n",
       "      <td>26287.655182</td>\n",
       "      <td>27.012124</td>\n",
       "      <td>55.101657</td>\n",
       "      <td>56.390651</td>\n",
       "      <td>135.677195</td>\n",
       "      <td>135.302508</td>\n",
       "      <td>1.813648e+07</td>\n",
       "      <td>1.500896e+07</td>\n",
       "      <td>3.704221e+06</td>\n",
       "      <td>3.659769e+06</td>\n",
       "      <td>1.248728e+07</td>\n",
       "      <td>5.685626e+04</td>\n",
       "      <td>5.685627e+06</td>\n",
       "      <td>0.047837</td>\n",
       "      <td>0.027185</td>\n",
       "      <td>17.730253</td>\n",
       "      <td>478.876573</td>\n",
       "      <td>1.734763</td>\n",
       "    </tr>\n",
       "    <tr>\n",
       "      <th>min</th>\n",
       "      <td>1.000000</td>\n",
       "      <td>2015.00000</td>\n",
       "      <td>1.000000</td>\n",
       "      <td>1900.000000</td>\n",
       "      <td>0.000000</td>\n",
       "      <td>0.000000</td>\n",
       "      <td>1.128500e+04</td>\n",
       "      <td>-3.000000</td>\n",
       "      <td>-5.055000e+04</td>\n",
       "      <td>5.656000e+03</td>\n",
       "      <td>0.000000</td>\n",
       "      <td>0.000000</td>\n",
       "      <td>1.000000</td>\n",
       "      <td>0.000000</td>\n",
       "      <td>0.000000</td>\n",
       "      <td>-2.000000</td>\n",
       "      <td>-2.100000</td>\n",
       "      <td>0.000000e+00</td>\n",
       "      <td>0.000000e+00</td>\n",
       "      <td>0.000000e+00</td>\n",
       "      <td>-3.382680e+04</td>\n",
       "      <td>-1.154170e+05</td>\n",
       "      <td>0.000000e+00</td>\n",
       "      <td>0.000000e+00</td>\n",
       "      <td>47.499170</td>\n",
       "      <td>-122.414250</td>\n",
       "      <td>98006.000000</td>\n",
       "      <td>-0.800000</td>\n",
       "      <td>-0.020000</td>\n",
       "    </tr>\n",
       "    <tr>\n",
       "      <th>25%</th>\n",
       "      <td>19934.000000</td>\n",
       "      <td>2015.00000</td>\n",
       "      <td>3.000000</td>\n",
       "      <td>1948.000000</td>\n",
       "      <td>1.000000</td>\n",
       "      <td>2.000000</td>\n",
       "      <td>2.848700e+04</td>\n",
       "      <td>0.000000</td>\n",
       "      <td>2.727300e+04</td>\n",
       "      <td>2.501600e+04</td>\n",
       "      <td>4993.000000</td>\n",
       "      <td>2325.000000</td>\n",
       "      <td>52.000000</td>\n",
       "      <td>27.600000</td>\n",
       "      <td>29.600000</td>\n",
       "      <td>74.000000</td>\n",
       "      <td>79.199997</td>\n",
       "      <td>9.200689e+05</td>\n",
       "      <td>9.818029e+05</td>\n",
       "      <td>0.000000e+00</td>\n",
       "      <td>1.867660e+05</td>\n",
       "      <td>6.372730e+05</td>\n",
       "      <td>0.000000e+00</td>\n",
       "      <td>0.000000e+00</td>\n",
       "      <td>47.599857</td>\n",
       "      <td>-122.350603</td>\n",
       "      <td>98105.000000</td>\n",
       "      <td>9.450000</td>\n",
       "      <td>0.160000</td>\n",
       "    </tr>\n",
       "    <tr>\n",
       "      <th>50%</th>\n",
       "      <td>23064.000000</td>\n",
       "      <td>2016.00000</td>\n",
       "      <td>4.000000</td>\n",
       "      <td>1974.000000</td>\n",
       "      <td>1.000000</td>\n",
       "      <td>4.000000</td>\n",
       "      <td>4.400800e+04</td>\n",
       "      <td>0.000000</td>\n",
       "      <td>4.218500e+04</td>\n",
       "      <td>3.953000e+04</td>\n",
       "      <td>10631.000000</td>\n",
       "      <td>5039.000000</td>\n",
       "      <td>75.000000</td>\n",
       "      <td>38.000000</td>\n",
       "      <td>40.900000</td>\n",
       "      <td>95.600000</td>\n",
       "      <td>102.099998</td>\n",
       "      <td>1.791071e+06</td>\n",
       "      <td>1.926136e+06</td>\n",
       "      <td>0.000000e+00</td>\n",
       "      <td>3.422434e+05</td>\n",
       "      <td>1.167735e+06</td>\n",
       "      <td>3.051000e+03</td>\n",
       "      <td>3.051000e+05</td>\n",
       "      <td>47.618608</td>\n",
       "      <td>-122.332630</td>\n",
       "      <td>98115.000000</td>\n",
       "      <td>33.180000</td>\n",
       "      <td>0.540000</td>\n",
       "    </tr>\n",
       "    <tr>\n",
       "      <th>75%</th>\n",
       "      <td>25868.250000</td>\n",
       "      <td>2016.00000</td>\n",
       "      <td>7.000000</td>\n",
       "      <td>1996.000000</td>\n",
       "      <td>1.000000</td>\n",
       "      <td>5.000000</td>\n",
       "      <td>8.943125e+04</td>\n",
       "      <td>0.000000</td>\n",
       "      <td>8.112000e+04</td>\n",
       "      <td>7.417800e+04</td>\n",
       "      <td>26462.000000</td>\n",
       "      <td>10270.000000</td>\n",
       "      <td>90.000000</td>\n",
       "      <td>60.200000</td>\n",
       "      <td>64.925001</td>\n",
       "      <td>143.900000</td>\n",
       "      <td>149.800000</td>\n",
       "      <td>4.135280e+06</td>\n",
       "      <td>4.377974e+06</td>\n",
       "      <td>0.000000e+00</td>\n",
       "      <td>8.198140e+05</td>\n",
       "      <td>2.797320e+06</td>\n",
       "      <td>1.149639e+04</td>\n",
       "      <td>1.149639e+06</td>\n",
       "      <td>47.657135</td>\n",
       "      <td>-122.319733</td>\n",
       "      <td>98122.000000</td>\n",
       "      <td>91.530000</td>\n",
       "      <td>1.280000</td>\n",
       "    </tr>\n",
       "    <tr>\n",
       "      <th>max</th>\n",
       "      <td>50226.000000</td>\n",
       "      <td>2016.00000</td>\n",
       "      <td>7.000000</td>\n",
       "      <td>2015.000000</td>\n",
       "      <td>111.000000</td>\n",
       "      <td>99.000000</td>\n",
       "      <td>9.320156e+06</td>\n",
       "      <td>512608.000000</td>\n",
       "      <td>9.320156e+06</td>\n",
       "      <td>9.320156e+06</td>\n",
       "      <td>686750.000000</td>\n",
       "      <td>459748.000000</td>\n",
       "      <td>100.000000</td>\n",
       "      <td>834.400024</td>\n",
       "      <td>834.400024</td>\n",
       "      <td>2620.000000</td>\n",
       "      <td>2620.000000</td>\n",
       "      <td>8.739237e+08</td>\n",
       "      <td>4.716139e+08</td>\n",
       "      <td>1.349435e+08</td>\n",
       "      <td>1.925775e+08</td>\n",
       "      <td>6.570744e+08</td>\n",
       "      <td>2.979090e+06</td>\n",
       "      <td>2.979090e+08</td>\n",
       "      <td>47.733870</td>\n",
       "      <td>-122.220470</td>\n",
       "      <td>98272.000000</td>\n",
       "      <td>16870.980000</td>\n",
       "      <td>34.090000</td>\n",
       "    </tr>\n",
       "  </tbody>\n",
       "</table>\n",
       "</div>"
      ],
      "text/plain": [
       "       OSEBuildingID    DataYear  CouncilDistrictCode    YearBuilt  \\\n",
       "count    6716.000000  6716.00000          6716.000000  6716.000000   \n",
       "mean    20867.420488  2015.50268             4.445057  1968.101549   \n",
       "std     11878.968174     0.50003             2.123749    33.020391   \n",
       "min         1.000000  2015.00000             1.000000  1900.000000   \n",
       "25%     19934.000000  2015.00000             3.000000  1948.000000   \n",
       "50%     23064.000000  2016.00000             4.000000  1974.000000   \n",
       "75%     25868.250000  2016.00000             7.000000  1996.000000   \n",
       "max     50226.000000  2016.00000             7.000000  2015.000000   \n",
       "\n",
       "       NumberofBuildings  NumberofFloors  PropertyGFATotal  \\\n",
       "count        6708.000000     6708.000000      6.716000e+03   \n",
       "mean            1.071407        4.695736      9.281410e+04   \n",
       "std             1.593505        5.476218      1.875062e+05   \n",
       "min             0.000000        0.000000      1.128500e+04   \n",
       "25%             1.000000        2.000000      2.848700e+04   \n",
       "50%             1.000000        4.000000      4.400800e+04   \n",
       "75%             1.000000        5.000000      8.943125e+04   \n",
       "max           111.000000       99.000000      9.320156e+06   \n",
       "\n",
       "       PropertyGFAParking  PropertyGFABuilding(s)  LargestPropertyUseTypeGFA  \\\n",
       "count         6716.000000            6.716000e+03               6.560000e+03   \n",
       "mean          9519.597975            8.329450e+04               7.707936e+04   \n",
       "std          33868.050881            1.733470e+05               1.681617e+05   \n",
       "min             -3.000000           -5.055000e+04               5.656000e+03   \n",
       "25%              0.000000            2.727300e+04               2.501600e+04   \n",
       "50%              0.000000            4.218500e+04               3.953000e+04   \n",
       "75%              0.000000            8.112000e+04               7.417800e+04   \n",
       "max         512608.000000            9.320156e+06               9.320156e+06   \n",
       "\n",
       "       SecondLargestPropertyUseTypeGFA  ThirdLargestPropertyUseTypeGFA  \\\n",
       "count                      3238.000000                     1156.000000   \n",
       "mean                      28074.100153                    11262.497750   \n",
       "std                       53473.984688                    26287.655182   \n",
       "min                           0.000000                        0.000000   \n",
       "25%                        4993.000000                     2325.000000   \n",
       "50%                       10631.000000                     5039.000000   \n",
       "75%                       26462.000000                    10270.000000   \n",
       "max                      686750.000000                   459748.000000   \n",
       "\n",
       "       ENERGYSTARScore  SiteEUI(kBtu/sf)  SiteEUIWN(kBtu/sf)  \\\n",
       "count      5093.000000       6699.000000         6700.000000   \n",
       "mean         67.906342         54.182341           57.308522   \n",
       "std          27.012124         55.101657           56.390651   \n",
       "min           1.000000          0.000000            0.000000   \n",
       "25%          52.000000         27.600000           29.600000   \n",
       "50%          75.000000         38.000000           40.900000   \n",
       "75%          90.000000         60.200000           64.925001   \n",
       "max         100.000000        834.400024          834.400024   \n",
       "\n",
       "       SourceEUI(kBtu/sf)  SourceEUIWN(kBtu/sf)  SiteEnergyUse(kBtu)  \\\n",
       "count         6697.000000           6697.000000         6.701000e+03   \n",
       "mean           133.510303            138.356802         5.194673e+06   \n",
       "std            135.677195            135.302508         1.813648e+07   \n",
       "min             -2.000000             -2.100000         0.000000e+00   \n",
       "25%             74.000000             79.199997         9.200689e+05   \n",
       "50%             95.600000            102.099998         1.791071e+06   \n",
       "75%            143.900000            149.800000         4.135280e+06   \n",
       "max           2620.000000           2620.000000         8.739237e+08   \n",
       "\n",
       "       SiteEnergyUseWN(kBtu)  SteamUse(kBtu)  Electricity(kWh)  \\\n",
       "count           6.700000e+03    6.697000e+03      6.697000e+03   \n",
       "mean            5.240110e+06    2.625076e+05      1.052458e+06   \n",
       "std             1.500896e+07    3.704221e+06      3.659769e+06   \n",
       "min             0.000000e+00    0.000000e+00     -3.382680e+04   \n",
       "25%             9.818029e+05    0.000000e+00      1.867660e+05   \n",
       "50%             1.926136e+06    0.000000e+00      3.422434e+05   \n",
       "75%             4.377974e+06    0.000000e+00      8.198140e+05   \n",
       "max             4.716139e+08    1.349435e+08      1.925775e+08   \n",
       "\n",
       "       Electricity(kBtu)  NaturalGas(therms)  NaturalGas(kBtu)     Latitude  \\\n",
       "count       6.697000e+03        6.697000e+03      6.697000e+03  6716.000000   \n",
       "mean        3.591058e+06        1.311223e+04      1.311223e+06    47.624062   \n",
       "std         1.248728e+07        5.685626e+04      5.685627e+06     0.047837   \n",
       "min        -1.154170e+05        0.000000e+00      0.000000e+00    47.499170   \n",
       "25%         6.372730e+05        0.000000e+00      0.000000e+00    47.599857   \n",
       "50%         1.167735e+06        3.051000e+03      3.051000e+05    47.618608   \n",
       "75%         2.797320e+06        1.149639e+04      1.149639e+06    47.657135   \n",
       "max         6.570744e+08        2.979090e+06      2.979090e+08    47.733870   \n",
       "\n",
       "         Longitude       ZipCode  TotalGHGEmissions  GHGEmissionsIntensity  \n",
       "count  6716.000000   6700.000000        6697.000000            6697.000000  \n",
       "mean   -122.334904  98116.843582         114.935638               1.081154  \n",
       "std       0.027185     17.730253         478.876573               1.734763  \n",
       "min    -122.414250  98006.000000          -0.800000              -0.020000  \n",
       "25%    -122.350603  98105.000000           9.450000               0.160000  \n",
       "50%    -122.332630  98115.000000          33.180000               0.540000  \n",
       "75%    -122.319733  98122.000000          91.530000               1.280000  \n",
       "max    -122.220470  98272.000000       16870.980000              34.090000  "
      ]
     },
     "execution_count": 25,
     "metadata": {},
     "output_type": "execute_result"
    }
   ],
   "source": [
    "data.describe()"
   ]
  },
  {
   "cell_type": "code",
   "execution_count": 26,
   "id": "f28ba6d5",
   "metadata": {
    "execution": {
     "iopub.execute_input": "2024-08-06T14:25:16.156223Z",
     "iopub.status.busy": "2024-08-06T14:25:16.155897Z",
     "iopub.status.idle": "2024-08-06T14:25:16.194575Z",
     "shell.execute_reply": "2024-08-06T14:25:16.193451Z"
    },
    "papermill": {
     "duration": 0.051477,
     "end_time": "2024-08-06T14:25:16.197274",
     "exception": false,
     "start_time": "2024-08-06T14:25:16.145797",
     "status": "completed"
    },
    "tags": []
   },
   "outputs": [
    {
     "name": "stderr",
     "output_type": "stream",
     "text": [
      "\u001b[32m2024-08-06 14:25:16.170\u001b[0m | \u001b[1mINFO    \u001b[0m | \u001b[36m__main__\u001b[0m:\u001b[36m<module>\u001b[0m:\u001b[36m1\u001b[0m - Final Dataset Shape: (6716, 45)\n"
     ]
    },
    {
     "name": "stderr",
     "output_type": "stream",
     "text": [
      "\u001b[32m2024-08-06 14:25:16.191\u001b[0m | \u001b[1mINFO    \u001b[0m | \u001b[36m__main__\u001b[0m:\u001b[36m<module>\u001b[0m:\u001b[36m2\u001b[0m - Final Dataset Metadata: None\n"
     ]
    },
    {
     "name": "stdout",
     "output_type": "stream",
     "text": [
      "<class 'pandas.core.frame.DataFrame'>\n",
      "RangeIndex: 6716 entries, 0 to 6715\n",
      "Data columns (total 45 columns):\n",
      " #   Column                           Non-Null Count  Dtype  \n",
      "---  ------                           --------------  -----  \n",
      " 0   OSEBuildingID                    6716 non-null   int64  \n",
      " 1   DataYear                         6716 non-null   int64  \n",
      " 2   BuildingType                     6716 non-null   object \n",
      " 3   PrimaryPropertyType              6716 non-null   object \n",
      " 4   PropertyName                     6716 non-null   object \n",
      " 5   TaxParcelIdentificationNumber    6714 non-null   object \n",
      " 6   CouncilDistrictCode              6716 non-null   int64  \n",
      " 7   Neighborhood                     6716 non-null   object \n",
      " 8   YearBuilt                        6716 non-null   int64  \n",
      " 9   NumberofBuildings                6708 non-null   float64\n",
      " 10  NumberofFloors                   6708 non-null   float64\n",
      " 11  PropertyGFATotal                 6716 non-null   int64  \n",
      " 12  PropertyGFAParking               6716 non-null   int64  \n",
      " 13  PropertyGFABuilding(s)           6716 non-null   int64  \n",
      " 14  ListOfAllPropertyUseTypes        6580 non-null   object \n",
      " 15  LargestPropertyUseType           6560 non-null   object \n",
      " 16  LargestPropertyUseTypeGFA        6560 non-null   float64\n",
      " 17  SecondLargestPropertyUseType     3238 non-null   object \n",
      " 18  SecondLargestPropertyUseTypeGFA  3238 non-null   float64\n",
      " 19  ThirdLargestPropertyUseType      1156 non-null   object \n",
      " 20  ThirdLargestPropertyUseTypeGFA   1156 non-null   float64\n",
      " 21  YearsENERGYSTARCertified         229 non-null    object \n",
      " 22  ENERGYSTARScore                  5093 non-null   float64\n",
      " 23  SiteEUI(kBtu/sf)                 6699 non-null   float64\n",
      " 24  SiteEUIWN(kBtu/sf)               6700 non-null   float64\n",
      " 25  SourceEUI(kBtu/sf)               6697 non-null   float64\n",
      " 26  SourceEUIWN(kBtu/sf)             6697 non-null   float64\n",
      " 27  SiteEnergyUse(kBtu)              6701 non-null   float64\n",
      " 28  SiteEnergyUseWN(kBtu)            6700 non-null   float64\n",
      " 29  SteamUse(kBtu)                   6697 non-null   float64\n",
      " 30  Electricity(kWh)                 6697 non-null   float64\n",
      " 31  Electricity(kBtu)                6697 non-null   float64\n",
      " 32  NaturalGas(therms)               6697 non-null   float64\n",
      " 33  NaturalGas(kBtu)                 6697 non-null   float64\n",
      " 34  DefaultData                      3381 non-null   object \n",
      " 35  ComplianceStatus                 6716 non-null   object \n",
      " 36  Outlier                          116 non-null    object \n",
      " 37  Latitude                         6716 non-null   float64\n",
      " 38  Longitude                        6716 non-null   float64\n",
      " 39  State                            6716 non-null   object \n",
      " 40  ZipCode                          6700 non-null   float64\n",
      " 41  City                             6716 non-null   object \n",
      " 42  Address                          6716 non-null   object \n",
      " 43  TotalGHGEmissions                6697 non-null   float64\n",
      " 44  GHGEmissionsIntensity            6697 non-null   float64\n",
      "dtypes: float64(22), int64(7), object(16)\n",
      "memory usage: 2.3+ MB\n"
     ]
    }
   ],
   "source": [
    "logger.info(f\"Final Dataset Shape: {data.shape}\")\n",
    "logger.info(f\"Final Dataset Metadata: {data.info()}\")"
   ]
  },
  {
   "cell_type": "code",
   "execution_count": 27,
   "id": "dd9ed139",
   "metadata": {
    "execution": {
     "iopub.execute_input": "2024-08-06T14:25:16.212608Z",
     "iopub.status.busy": "2024-08-06T14:25:16.212329Z",
     "iopub.status.idle": "2024-08-06T14:25:16.442520Z",
     "shell.execute_reply": "2024-08-06T14:25:16.441780Z"
    },
    "papermill": {
     "duration": 0.242883,
     "end_time": "2024-08-06T14:25:16.446907",
     "exception": false,
     "start_time": "2024-08-06T14:25:16.204024",
     "status": "completed"
    },
    "tags": []
   },
   "outputs": [],
   "source": [
    "# Save the concatenated dataset as one csv file\n",
    "data.to_csv(RAW_DATA, index=False)"
   ]
  }
 ],
 "metadata": {
  "kernelspec": {
   "display_name": "mlops",
   "language": "python",
   "name": "python3"
  },
  "language_info": {
   "codemirror_mode": {
    "name": "ipython",
    "version": 3
   },
   "file_extension": ".py",
   "mimetype": "text/x-python",
   "name": "python",
   "nbconvert_exporter": "python",
   "pygments_lexer": "ipython3",
   "version": "3.10.10"
  },
  "papermill": {
   "default_parameters": {},
   "duration": 4.466814,
   "end_time": "2024-08-06T14:25:16.783009",
   "environment_variables": {},
   "exception": null,
   "input_path": "../notebooks/01-data-collection.ipynb",
   "output_path": "../notebooks/outputs/01-data-collection_output.ipynb",
   "parameters": {},
   "start_time": "2024-08-06T14:25:12.316195",
   "version": "2.6.0"
  }
 },
 "nbformat": 4,
 "nbformat_minor": 5
}